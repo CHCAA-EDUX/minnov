{
 "cells": [
  {
   "cell_type": "markdown",
   "metadata": {
    "tags": []
   },
   "source": [
    "# Data Exploration for Managing Innovation #\n",
    "\n",
    "This is a Jupyter Notebook, which is an open source web application that you can use to create and share documents that contain live code, equations, visualizations, and text. This cell contain `markdown`, which is a lightweight markup language for creating formatted text using a plain-text editor. I markdown cells, you can document your data analysis, take notes, and construct your data narratives. You can run the code in any cell by selecting the cell (indicated by a vertical line left of the cell) and press `Shift`+`Enter`."
   ]
  },
  {
   "cell_type": "code",
   "execution_count": 1,
   "metadata": {
    "execution": {
     "iopub.execute_input": "2022-04-19T18:30:33.801420Z",
     "iopub.status.busy": "2022-04-19T18:30:33.800799Z",
     "iopub.status.idle": "2022-04-19T18:30:36.544303Z",
     "shell.execute_reply": "2022-04-19T18:30:36.542895Z",
     "shell.execute_reply.started": "2022-04-19T18:30:33.801372Z"
    },
    "tags": []
   },
   "outputs": [
    {
     "name": "stdout",
     "output_type": "stream",
     "text": [
      "Requirement already satisfied: openpyxl in /opt/conda/lib/python3.9/site-packages (3.0.9)\n",
      "Requirement already satisfied: et-xmlfile in /opt/conda/lib/python3.9/site-packages (from openpyxl) (1.1.0)\n"
     ]
    }
   ],
   "source": [
    "# Install a openpyxl in the current Jupyter kernel with pip\n",
    "import sys\n",
    "!{sys.executable} -m pip install openpyxl"
   ]
  },
  {
   "cell_type": "markdown",
   "metadata": {},
   "source": [
    "Let us start by importing the data:"
   ]
  },
  {
   "cell_type": "code",
   "execution_count": 2,
   "metadata": {
    "execution": {
     "iopub.execute_input": "2022-04-19T18:30:38.429410Z",
     "iopub.status.busy": "2022-04-19T18:30:38.428794Z",
     "iopub.status.idle": "2022-04-19T18:30:38.867577Z",
     "shell.execute_reply": "2022-04-19T18:30:38.866822Z",
     "shell.execute_reply.started": "2022-04-19T18:30:38.429363Z"
    },
    "scrolled": true,
    "tags": []
   },
   "outputs": [],
   "source": [
    "from util import read_data\n",
    "(ideas, comments, ideator) = read_data()"
   ]
  },
  {
   "cell_type": "markdown",
   "metadata": {},
   "source": [
    "Your data set has two tabular components `ideas`  and `comments`"
   ]
  },
  {
   "cell_type": "markdown",
   "metadata": {},
   "source": [
    "Inspect `ideas` by printing the first 7 rows:"
   ]
  },
  {
   "cell_type": "code",
   "execution_count": 3,
   "metadata": {
    "execution": {
     "iopub.execute_input": "2022-04-19T18:30:42.144382Z",
     "iopub.status.busy": "2022-04-19T18:30:42.143763Z",
     "iopub.status.idle": "2022-04-19T18:30:42.166771Z",
     "shell.execute_reply": "2022-04-19T18:30:42.166135Z",
     "shell.execute_reply.started": "2022-04-19T18:30:42.144334Z"
    },
    "scrolled": true,
    "tags": []
   },
   "outputs": [
    {
     "name": "stdout",
     "output_type": "stream",
     "text": [
      "(108, 11)\n"
     ]
    },
    {
     "data": {
      "text/html": [
       "<div>\n",
       "<style scoped>\n",
       "    .dataframe tbody tr th:only-of-type {\n",
       "        vertical-align: middle;\n",
       "    }\n",
       "\n",
       "    .dataframe tbody tr th {\n",
       "        vertical-align: top;\n",
       "    }\n",
       "\n",
       "    .dataframe thead th {\n",
       "        text-align: right;\n",
       "    }\n",
       "</style>\n",
       "<table border=\"1\" class=\"dataframe\">\n",
       "  <thead>\n",
       "    <tr style=\"text-align: right;\">\n",
       "      <th></th>\n",
       "      <th>user_id</th>\n",
       "      <th>Submission.ID</th>\n",
       "      <th>Topic.Alias</th>\n",
       "      <th>Title</th>\n",
       "      <th>Body</th>\n",
       "      <th>idea type</th>\n",
       "      <th>tags</th>\n",
       "      <th>Publish.Date</th>\n",
       "      <th>Number.of.Votes</th>\n",
       "      <th>Status(selectedbyexpert)</th>\n",
       "      <th>prior_experience(idea generation)</th>\n",
       "    </tr>\n",
       "  </thead>\n",
       "  <tbody>\n",
       "    <tr>\n",
       "      <th>0</th>\n",
       "      <td>8</td>\n",
       "      <td>4</td>\n",
       "      <td>core-experience</td>\n",
       "      <td>Make it easier to open the box</td>\n",
       "      <td>Often I see a LEGO box get torn open because i...</td>\n",
       "      <td>Current experience journey</td>\n",
       "      <td>na</td>\n",
       "      <td>2012-12-20 05:05:21</td>\n",
       "      <td>25</td>\n",
       "      <td>1</td>\n",
       "      <td>0</td>\n",
       "    </tr>\n",
       "    <tr>\n",
       "      <th>1</th>\n",
       "      <td>8</td>\n",
       "      <td>91</td>\n",
       "      <td>your-ideas</td>\n",
       "      <td>Reconnect with childhood</td>\n",
       "      <td>When taking visitors through the Idea House I ...</td>\n",
       "      <td>product ideas-sets</td>\n",
       "      <td>retro, classic</td>\n",
       "      <td>2013-01-25 16:58:21</td>\n",
       "      <td>7</td>\n",
       "      <td>0</td>\n",
       "      <td>0</td>\n",
       "    </tr>\n",
       "    <tr>\n",
       "      <th>2</th>\n",
       "      <td>16</td>\n",
       "      <td>205</td>\n",
       "      <td>core-experience</td>\n",
       "      <td>LEGO City Counstryside</td>\n",
       "      <td>Hi :) During the christmas holiday  I was play...</td>\n",
       "      <td>New ways to build and play</td>\n",
       "      <td>NaN</td>\n",
       "      <td>2013-01-07 07:37:46</td>\n",
       "      <td>2</td>\n",
       "      <td>0</td>\n",
       "      <td>0</td>\n",
       "    </tr>\n",
       "    <tr>\n",
       "      <th>3</th>\n",
       "      <td>17</td>\n",
       "      <td>51</td>\n",
       "      <td>your-ideas</td>\n",
       "      <td>Garbage Cans in Billund Parking House</td>\n",
       "      <td>The parking house in Billund provides great pa...</td>\n",
       "      <td>Facilities &gt; Optimization</td>\n",
       "      <td>garbage, trash, parking, implemented, environm...</td>\n",
       "      <td>2012-12-20 14:15:49</td>\n",
       "      <td>15</td>\n",
       "      <td>0</td>\n",
       "      <td>0</td>\n",
       "    </tr>\n",
       "    <tr>\n",
       "      <th>4</th>\n",
       "      <td>17</td>\n",
       "      <td>65</td>\n",
       "      <td>your-ideas</td>\n",
       "      <td>Save Energy</td>\n",
       "      <td>We can easily help saving energy by switching ...</td>\n",
       "      <td>Sustainability &gt; Strategy</td>\n",
       "      <td>planet promise, energy efficiency</td>\n",
       "      <td>2012-12-20 21:01:05</td>\n",
       "      <td>19</td>\n",
       "      <td>0</td>\n",
       "      <td>0</td>\n",
       "    </tr>\n",
       "    <tr>\n",
       "      <th>5</th>\n",
       "      <td>17</td>\n",
       "      <td>147</td>\n",
       "      <td>your-ideas</td>\n",
       "      <td>LEGO Ideas in Brand Retail Stores</td>\n",
       "      <td>By installing a few PCs in brand retail stores...</td>\n",
       "      <td>Retail &gt; Experience</td>\n",
       "      <td>brand retail, digital experience, new business...</td>\n",
       "      <td>2013-01-02 08:49:00</td>\n",
       "      <td>6</td>\n",
       "      <td>1</td>\n",
       "      <td>0</td>\n",
       "    </tr>\n",
       "    <tr>\n",
       "      <th>6</th>\n",
       "      <td>33</td>\n",
       "      <td>125</td>\n",
       "      <td>your-ideas</td>\n",
       "      <td>Antimicrobial LEGO Bricks</td>\n",
       "      <td>There are so many papers and projects about th...</td>\n",
       "      <td>Manufacturing/Engineering &gt; Materials</td>\n",
       "      <td>antimicrobial</td>\n",
       "      <td>2012-12-28 12:08:25</td>\n",
       "      <td>8</td>\n",
       "      <td>1</td>\n",
       "      <td>0</td>\n",
       "    </tr>\n",
       "  </tbody>\n",
       "</table>\n",
       "</div>"
      ],
      "text/plain": [
       "   user_id  Submission.ID      Topic.Alias  \\\n",
       "0        8              4  core-experience   \n",
       "1        8             91       your-ideas   \n",
       "2       16            205  core-experience   \n",
       "3       17             51       your-ideas   \n",
       "4       17             65       your-ideas   \n",
       "5       17            147       your-ideas   \n",
       "6       33            125       your-ideas   \n",
       "\n",
       "                                   Title  \\\n",
       "0         Make it easier to open the box   \n",
       "1               Reconnect with childhood   \n",
       "2                 LEGO City Counstryside   \n",
       "3  Garbage Cans in Billund Parking House   \n",
       "4                            Save Energy   \n",
       "5      LEGO Ideas in Brand Retail Stores   \n",
       "6             Antimicrobial LEGO Bricks    \n",
       "\n",
       "                                                Body  \\\n",
       "0  Often I see a LEGO box get torn open because i...   \n",
       "1  When taking visitors through the Idea House I ...   \n",
       "2  Hi :) During the christmas holiday  I was play...   \n",
       "3  The parking house in Billund provides great pa...   \n",
       "4  We can easily help saving energy by switching ...   \n",
       "5  By installing a few PCs in brand retail stores...   \n",
       "6  There are so many papers and projects about th...   \n",
       "\n",
       "                               idea type  \\\n",
       "0             Current experience journey   \n",
       "1                     product ideas-sets   \n",
       "2             New ways to build and play   \n",
       "3              Facilities > Optimization   \n",
       "4              Sustainability > Strategy   \n",
       "5                    Retail > Experience   \n",
       "6  Manufacturing/Engineering > Materials   \n",
       "\n",
       "                                                tags        Publish.Date  \\\n",
       "0                                                 na 2012-12-20 05:05:21   \n",
       "1                                     retro, classic 2013-01-25 16:58:21   \n",
       "2                                                NaN 2013-01-07 07:37:46   \n",
       "3  garbage, trash, parking, implemented, environm... 2012-12-20 14:15:49   \n",
       "4                  planet promise, energy efficiency 2012-12-20 21:01:05   \n",
       "5  brand retail, digital experience, new business... 2013-01-02 08:49:00   \n",
       "6                                      antimicrobial 2012-12-28 12:08:25   \n",
       "\n",
       "   Number.of.Votes  Status(selectedbyexpert)  \\\n",
       "0               25                         1   \n",
       "1                7                         0   \n",
       "2                2                         0   \n",
       "3               15                         0   \n",
       "4               19                         0   \n",
       "5                6                         1   \n",
       "6                8                         1   \n",
       "\n",
       "   prior_experience(idea generation)  \n",
       "0                                  0  \n",
       "1                                  0  \n",
       "2                                  0  \n",
       "3                                  0  \n",
       "4                                  0  \n",
       "5                                  0  \n",
       "6                                  0  "
      ]
     },
     "execution_count": 3,
     "metadata": {},
     "output_type": "execute_result"
    }
   ],
   "source": [
    "print(ideas.shape)\n",
    "ideas.head(7)"
   ]
  },
  {
   "cell_type": "markdown",
   "metadata": {},
   "source": [
    "Inspect `comments` by printing the last 7 rows:"
   ]
  },
  {
   "cell_type": "code",
   "execution_count": 4,
   "metadata": {
    "execution": {
     "iopub.execute_input": "2022-04-19T18:30:44.734507Z",
     "iopub.status.busy": "2022-04-19T18:30:44.733898Z",
     "iopub.status.idle": "2022-04-19T18:30:44.754059Z",
     "shell.execute_reply": "2022-04-19T18:30:44.753570Z",
     "shell.execute_reply.started": "2022-04-19T18:30:44.734459Z"
    },
    "tags": []
   },
   "outputs": [
    {
     "name": "stdout",
     "output_type": "stream",
     "text": [
      "(526, 10)\n"
     ]
    },
    {
     "data": {
      "text/html": [
       "<div>\n",
       "<style scoped>\n",
       "    .dataframe tbody tr th:only-of-type {\n",
       "        vertical-align: middle;\n",
       "    }\n",
       "\n",
       "    .dataframe tbody tr th {\n",
       "        vertical-align: top;\n",
       "    }\n",
       "\n",
       "    .dataframe thead th {\n",
       "        text-align: right;\n",
       "    }\n",
       "</style>\n",
       "<table border=\"1\" class=\"dataframe\">\n",
       "  <thead>\n",
       "    <tr style=\"text-align: right;\">\n",
       "      <th></th>\n",
       "      <th>user_id</th>\n",
       "      <th>Topic.Alias</th>\n",
       "      <th>Submission.ID</th>\n",
       "      <th>Submission.Title</th>\n",
       "      <th>Comment.ID</th>\n",
       "      <th>Parent.ID</th>\n",
       "      <th>Root.ID</th>\n",
       "      <th>Comment</th>\n",
       "      <th>Posted.At</th>\n",
       "      <th>Number of votes</th>\n",
       "    </tr>\n",
       "  </thead>\n",
       "  <tbody>\n",
       "    <tr>\n",
       "      <th>0</th>\n",
       "      <td>8</td>\n",
       "      <td>core-experience</td>\n",
       "      <td>4</td>\n",
       "      <td>Make it easier to open the box</td>\n",
       "      <td>576</td>\n",
       "      <td>492.0</td>\n",
       "      <td>492.0</td>\n",
       "      <td>Thank you Camilla, that would be great!</td>\n",
       "      <td>2013-01-15 20:55:00</td>\n",
       "      <td>0</td>\n",
       "    </tr>\n",
       "    <tr>\n",
       "      <th>1</th>\n",
       "      <td>15</td>\n",
       "      <td>core-experience</td>\n",
       "      <td>4</td>\n",
       "      <td>Make it easier to open the box</td>\n",
       "      <td>1</td>\n",
       "      <td>NaN</td>\n",
       "      <td>NaN</td>\n",
       "      <td>Whether we can use something like Rip Cord to ...</td>\n",
       "      <td>2012-12-20 06:42:00</td>\n",
       "      <td>1</td>\n",
       "    </tr>\n",
       "    <tr>\n",
       "      <th>2</th>\n",
       "      <td>47</td>\n",
       "      <td>core-experience</td>\n",
       "      <td>4</td>\n",
       "      <td>Make it easier to open the box</td>\n",
       "      <td>2</td>\n",
       "      <td>NaN</td>\n",
       "      <td>NaN</td>\n",
       "      <td>I agree, there must be a better solution. The ...</td>\n",
       "      <td>2012-12-20 07:37:00</td>\n",
       "      <td>0</td>\n",
       "    </tr>\n",
       "    <tr>\n",
       "      <th>3</th>\n",
       "      <td>60</td>\n",
       "      <td>core-experience</td>\n",
       "      <td>4</td>\n",
       "      <td>Make it easier to open the box</td>\n",
       "      <td>5</td>\n",
       "      <td>NaN</td>\n",
       "      <td>NaN</td>\n",
       "      <td>Is it possible to use sellotape to seal all th...</td>\n",
       "      <td>2012-12-20 08:18:00</td>\n",
       "      <td>1</td>\n",
       "    </tr>\n",
       "    <tr>\n",
       "      <th>4</th>\n",
       "      <td>101</td>\n",
       "      <td>core-experience</td>\n",
       "      <td>4</td>\n",
       "      <td>Make it easier to open the box</td>\n",
       "      <td>29</td>\n",
       "      <td>12.0</td>\n",
       "      <td>12.0</td>\n",
       "      <td>That is good to know, thanks Camila. Is there ...</td>\n",
       "      <td>2012-12-20 10:49:00</td>\n",
       "      <td>0</td>\n",
       "    </tr>\n",
       "    <tr>\n",
       "      <th>5</th>\n",
       "      <td>101</td>\n",
       "      <td>core-experience</td>\n",
       "      <td>4</td>\n",
       "      <td>Make it easier to open the box</td>\n",
       "      <td>275</td>\n",
       "      <td>264.0</td>\n",
       "      <td>264.0</td>\n",
       "      <td>Yes, it would be easy and quite cheap to add a...</td>\n",
       "      <td>2013-01-03 14:27:00</td>\n",
       "      <td>2</td>\n",
       "    </tr>\n",
       "    <tr>\n",
       "      <th>6</th>\n",
       "      <td>101</td>\n",
       "      <td>core-experience</td>\n",
       "      <td>4</td>\n",
       "      <td>Make it easier to open the box</td>\n",
       "      <td>586</td>\n",
       "      <td>491.0</td>\n",
       "      <td>489.0</td>\n",
       "      <td>Yes, that's even better. A fun and engaging wa...</td>\n",
       "      <td>2013-01-16 10:34:00</td>\n",
       "      <td>0</td>\n",
       "    </tr>\n",
       "  </tbody>\n",
       "</table>\n",
       "</div>"
      ],
      "text/plain": [
       "   user_id      Topic.Alias  Submission.ID                Submission.Title  \\\n",
       "0        8  core-experience              4  Make it easier to open the box   \n",
       "1       15  core-experience              4  Make it easier to open the box   \n",
       "2       47  core-experience              4  Make it easier to open the box   \n",
       "3       60  core-experience              4  Make it easier to open the box   \n",
       "4      101  core-experience              4  Make it easier to open the box   \n",
       "5      101  core-experience              4  Make it easier to open the box   \n",
       "6      101  core-experience              4  Make it easier to open the box   \n",
       "\n",
       "   Comment.ID  Parent.ID  Root.ID  \\\n",
       "0         576      492.0    492.0   \n",
       "1           1        NaN      NaN   \n",
       "2           2        NaN      NaN   \n",
       "3           5        NaN      NaN   \n",
       "4          29       12.0     12.0   \n",
       "5         275      264.0    264.0   \n",
       "6         586      491.0    489.0   \n",
       "\n",
       "                                             Comment            Posted.At  \\\n",
       "0            Thank you Camilla, that would be great!  2013-01-15 20:55:00   \n",
       "1  Whether we can use something like Rip Cord to ...  2012-12-20 06:42:00   \n",
       "2  I agree, there must be a better solution. The ...  2012-12-20 07:37:00   \n",
       "3  Is it possible to use sellotape to seal all th...  2012-12-20 08:18:00   \n",
       "4  That is good to know, thanks Camila. Is there ...  2012-12-20 10:49:00   \n",
       "5  Yes, it would be easy and quite cheap to add a...  2013-01-03 14:27:00   \n",
       "6  Yes, that's even better. A fun and engaging wa...  2013-01-16 10:34:00   \n",
       "\n",
       "   Number of votes  \n",
       "0                0  \n",
       "1                1  \n",
       "2                0  \n",
       "3                1  \n",
       "4                0  \n",
       "5                2  \n",
       "6                0  "
      ]
     },
     "execution_count": 4,
     "metadata": {},
     "output_type": "execute_result"
    }
   ],
   "source": [
    "print(comments.shape)\n",
    "comments.head(7)"
   ]
  },
  {
   "cell_type": "code",
   "execution_count": null,
   "metadata": {
    "tags": []
   },
   "outputs": [],
   "source": [
    "comments.tail(7)"
   ]
  },
  {
   "cell_type": "code",
   "execution_count": null,
   "metadata": {
    "tags": []
   },
   "outputs": [],
   "source": [
    "print(ideator.shape)\n",
    "ideator.head(7)"
   ]
  },
  {
   "cell_type": "markdown",
   "metadata": {},
   "source": [
    "Inspect the fifth element in the `Body` column of `ideas`"
   ]
  },
  {
   "cell_type": "code",
   "execution_count": null,
   "metadata": {
    "tags": []
   },
   "outputs": [],
   "source": [
    "ideas[\"Body\"][4]"
   ]
  },
  {
   "cell_type": "markdown",
   "metadata": {},
   "source": [
    "Notice that Python uses zero-based numbering, so the fifth element is assigned to index 4"
   ]
  },
  {
   "cell_type": "markdown",
   "metadata": {},
   "source": [
    "Print all ideas for inspection:"
   ]
  },
  {
   "cell_type": "code",
   "execution_count": null,
   "metadata": {
    "tags": []
   },
   "outputs": [],
   "source": [
    "for (i, idea) in enumerate(ideas[\"Body\"]):\n",
    "    print(f\"[INFO] idea {i}: {idea}\\n\")"
   ]
  },
  {
   "cell_type": "markdown",
   "metadata": {},
   "source": [
    "Get all idea, votes, and all comments related to `Submission.ID` 205"
   ]
  },
  {
   "cell_type": "code",
   "execution_count": null,
   "metadata": {
    "tags": []
   },
   "outputs": [],
   "source": [
    "id = 205# change submission id for other idea\n",
    "\n",
    "idea = ideas[\"Body\"][ideas[\"Submission.ID\"] == id]\n",
    "print(idea.values[0])\n",
    "votes = ideas[\"Number.of.Votes\"][ideas[\"Submission.ID\"] == id]\n",
    "print(f\"\\n[INFO] Number of votes for idea {id}: {votes.values[0]}\\n\")\n",
    "comment = comments[\"Comment\"][comments[\"Submission.ID\"] == id]\n",
    "for (i, s) in enumerate(comment):\n",
    "    print(f\"Comment {i} for idea {id}: {s}\")"
   ]
  },
  {
   "cell_type": "markdown",
   "metadata": {},
   "source": [
    "Be aware that not all ideas may have comments"
   ]
  },
  {
   "cell_type": "markdown",
   "metadata": {},
   "source": [
    "Inspect number of votes that and idea"
   ]
  },
  {
   "cell_type": "code",
   "execution_count": null,
   "metadata": {
    "tags": []
   },
   "outputs": [],
   "source": [
    "ideas[\"Number.of.Votes\"]"
   ]
  },
  {
   "cell_type": "markdown",
   "metadata": {},
   "source": [
    "using descriptive statistics"
   ]
  },
  {
   "cell_type": "code",
   "execution_count": null,
   "metadata": {
    "tags": []
   },
   "outputs": [],
   "source": [
    "ideas[\"Number.of.Votes\"].describe()"
   ]
  },
  {
   "cell_type": "markdown",
   "metadata": {},
   "source": [
    "and visualization"
   ]
  },
  {
   "cell_type": "code",
   "execution_count": null,
   "metadata": {
    "tags": []
   },
   "outputs": [],
   "source": [
    "ideas[\"Number.of.Votes\"].hist()"
   ]
  },
  {
   "cell_type": "code",
   "execution_count": null,
   "metadata": {
    "tags": []
   },
   "outputs": [],
   "source": [
    "idx = ideas[\"Number.of.Votes\"] == 25\n",
    "voteIdeas = ideas[\"Body\"][idx]\n",
    "for idea in voteIdeas:\n",
    "    print(idea)\n",
    "    print()"
   ]
  }
 ],
 "metadata": {
  "kernelspec": {
   "display_name": "Python 3 ",
   "language": "python",
   "name": "python3"
  },
  "language_info": {
   "codemirror_mode": {
    "name": "ipython",
    "version": 3
   },
   "file_extension": ".py",
   "mimetype": "text/x-python",
   "name": "python",
   "nbconvert_exporter": "python",
   "pygments_lexer": "ipython3",
   "version": "3.9.6"
  }
 },
 "nbformat": 4,
 "nbformat_minor": 4
}
