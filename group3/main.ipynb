{
 "cells": [
  {
   "cell_type": "markdown",
   "metadata": {
    "tags": []
   },
   "source": [
    "# Main Document for Group 3 #"
   ]
  },
  {
   "cell_type": "markdown",
   "metadata": {},
   "source": [
    "## Specifications \n",
    "(1) Combine posts (ideas) and related comments into one \"document\"\n",
    "\n",
    "(2) Then run TD Matrix: Topic modeling, non-negative matrix factorization\n",
    "\n",
    "(3) Exclude irrelavant topics. If a given thread has a majority weight within the following topics, they are removed: \"Food\", \"Drinks\", \"Fredagsbar\", \"Cantine\", \"Made in America\", \"Translate ideas\", \"Garbage cans\", \"P-Shop\". After that, proceed with all the threads that were not excluded \n",
    "\n",
    "(4) Combine all related comments for each post into one \"document\" (not including the actual post) \n",
    "\n",
    "(5) Then run a sentiment analysis on these documents \n",
    "\n",
    "(6) Rank the posts based on the sentiment analysis of their comments\n",
    "\n",
    "(7) Exclude the bottom half of the posts (OR at least all negative). Then proceed with the threads that were not excluded\n",
    "\n",
    "(8) Rank the remaining ideas based on the following weights (comments: 60%, likes: 35%, likes on comments: 5%) \n",
    "\n",
    "Side note: extra run\n",
    "\n",
    "(e1) Remove threads with stop words from step 3. Removing the irrelevant words/posts\n",
    "\n",
    "(e2) Rank the dataset using scores from step 8 "
   ]
  },
  {
   "cell_type": "markdown",
   "metadata": {},
   "source": [
    "## step 0: install packages & read data \n",
    "NB: this takes a minute or two."
   ]
  },
  {
   "cell_type": "code",
   "execution_count": 19,
   "metadata": {
    "execution": {
     "iopub.execute_input": "2022-04-30T11:51:03.327802Z",
     "iopub.status.busy": "2022-04-30T11:51:03.327207Z",
     "iopub.status.idle": "2022-04-30T11:51:17.035995Z",
     "shell.execute_reply": "2022-04-30T11:51:17.034463Z",
     "shell.execute_reply.started": "2022-04-30T11:51:03.327753Z"
    },
    "tags": []
   },
   "outputs": [
    {
     "name": "stdout",
     "output_type": "stream",
     "text": [
      "2022-04-30 13:51:11,000 loading file /home/ucloud/.flair/models/sentiment-en-mix-distillbert_4.pt\n"
     ]
    }
   ],
   "source": [
    "%%capture\n",
    "!pip install -r requirements.txt\n",
    "!python setup.py install \n",
    "from nonnegfac.nmf import NMF # topic model (nonnegative matrix factorization)\n",
    "from util import read_data # read data (Nielbo)\n",
    "from fun import * # custom functions\n",
    "import pandas as pd # working with dataframes\n",
    "import numpy as np # working with arrays\n",
    "import networkx as nx # working with networks / graphs\n",
    "import re # working with strings  \n",
    "from sklearn.feature_extraction.text import TfidfVectorizer # topic model (nonnegative matrix factorization)\n",
    "from sklearn.metrics import pairwise_distances # topic model (nonnegative matrix factorization) \n",
    "from sklearn.feature_extraction import text # topic model (nonnegative matrix factorization)\n",
    "import matplotlib.pyplot as plt # plotting / visualization\n",
    "import seaborn as sns # plotting / visualization\n",
    "from flair.data import Sentence # sentiment analysis\n",
    "from flair.models import TextClassifier # sentiment analysis\n",
    "classifier = TextClassifier.load(\"en-sentiment\") # sentiment analysis\n",
    "import warnings # one warning that we want to silence\n",
    "from pandas.core.common import SettingWithCopyWarning # warning\n",
    "warnings.simplefilter(action=\"ignore\", category=SettingWithCopyWarning) # silence warning\n",
    "warnings.simplefilter(action='ignore', category=FutureWarning) # silence warning"
   ]
  },
  {
   "cell_type": "code",
   "execution_count": 2,
   "metadata": {
    "execution": {
     "iopub.execute_input": "2022-04-30T11:48:59.643299Z",
     "iopub.status.busy": "2022-04-30T11:48:59.642796Z",
     "iopub.status.idle": "2022-04-30T11:48:59.846767Z",
     "shell.execute_reply": "2022-04-30T11:48:59.846254Z",
     "shell.execute_reply.started": "2022-04-30T11:48:59.643245Z"
    },
    "tags": []
   },
   "outputs": [],
   "source": [
    "# read data\n",
    "(ideas, comments, ideator) = read_data()"
   ]
  },
  {
   "cell_type": "markdown",
   "metadata": {},
   "source": [
    "# step 1: combine posts and comments"
   ]
  },
  {
   "cell_type": "code",
   "execution_count": 3,
   "metadata": {
    "execution": {
     "iopub.execute_input": "2022-04-30T11:49:03.366646Z",
     "iopub.status.busy": "2022-04-30T11:49:03.366038Z",
     "iopub.status.idle": "2022-04-30T11:49:03.393378Z",
     "shell.execute_reply": "2022-04-30T11:49:03.392968Z",
     "shell.execute_reply.started": "2022-04-30T11:49:03.366591Z"
    },
    "tags": []
   },
   "outputs": [
    {
     "data": {
      "text/html": [
       "<div>\n",
       "<style scoped>\n",
       "    .dataframe tbody tr th:only-of-type {\n",
       "        vertical-align: middle;\n",
       "    }\n",
       "\n",
       "    .dataframe tbody tr th {\n",
       "        vertical-align: top;\n",
       "    }\n",
       "\n",
       "    .dataframe thead th {\n",
       "        text-align: right;\n",
       "    }\n",
       "</style>\n",
       "<table border=\"1\" class=\"dataframe\">\n",
       "  <thead>\n",
       "    <tr style=\"text-align: right;\">\n",
       "      <th></th>\n",
       "      <th>Submission.ID</th>\n",
       "      <th>Title</th>\n",
       "      <th>Body</th>\n",
       "      <th>Comment</th>\n",
       "      <th>text</th>\n",
       "    </tr>\n",
       "  </thead>\n",
       "  <tbody>\n",
       "    <tr>\n",
       "      <th>0</th>\n",
       "      <td>4</td>\n",
       "      <td>Make it easier to open the box</td>\n",
       "      <td>Often I see a LEGO box get torn open because i...</td>\n",
       "      <td>Thank you Camilla, that would be great! Whethe...</td>\n",
       "      <td>Make it easier to open the box Often I see a L...</td>\n",
       "    </tr>\n",
       "    <tr>\n",
       "      <th>1</th>\n",
       "      <td>91</td>\n",
       "      <td>Reconnect with childhood</td>\n",
       "      <td>When taking visitors through the Idea House I ...</td>\n",
       "      <td>I felt so nostalgic the day I saw horses in th...</td>\n",
       "      <td>Reconnect with childhood When taking visitors ...</td>\n",
       "    </tr>\n",
       "    <tr>\n",
       "      <th>2</th>\n",
       "      <td>205</td>\n",
       "      <td>LEGO City Counstryside</td>\n",
       "      <td>Hi :) During the christmas holiday  I was play...</td>\n",
       "      <td>I was thinking of some diffrents farms, with t...</td>\n",
       "      <td>LEGO City Counstryside Hi :) During the christ...</td>\n",
       "    </tr>\n",
       "  </tbody>\n",
       "</table>\n",
       "</div>"
      ],
      "text/plain": [
       "   Submission.ID                           Title  \\\n",
       "0              4  Make it easier to open the box   \n",
       "1             91        Reconnect with childhood   \n",
       "2            205          LEGO City Counstryside   \n",
       "\n",
       "                                                Body  \\\n",
       "0  Often I see a LEGO box get torn open because i...   \n",
       "1  When taking visitors through the Idea House I ...   \n",
       "2  Hi :) During the christmas holiday  I was play...   \n",
       "\n",
       "                                             Comment  \\\n",
       "0  Thank you Camilla, that would be great! Whethe...   \n",
       "1  I felt so nostalgic the day I saw horses in th...   \n",
       "2  I was thinking of some diffrents farms, with t...   \n",
       "\n",
       "                                                text  \n",
       "0  Make it easier to open the box Often I see a L...  \n",
       "1  Reconnect with childhood When taking visitors ...  \n",
       "2  LEGO City Counstryside Hi :) During the christ...  "
      ]
     },
     "execution_count": 3,
     "metadata": {},
     "output_type": "execute_result"
    }
   ],
   "source": [
    "ideas_txt = ideas[[\"Submission.ID\", \"Title\", \"Body\"]] # select id and text columns\n",
    "comments_txt = comments[[\"Submission.ID\", \"Comment\"]] # select id and text columns\n",
    "comments_joined = comments_txt.groupby(['Submission.ID'])['Comment'].apply(lambda x: ' '.join(x)).reset_index() # combine comments\n",
    "ideas_comments = ideas_txt.merge(comments_joined, on = \"Submission.ID\", how = \"left\") # merge ideas & comments (keep posts without comments)\n",
    "ideas_comments[\"text\"] = ideas_comments[\"Title\"].astype(str) + \" \" + ideas_comments[\"Body\"].astype(str) + \" \" + ideas_comments[\"Comment\"].astype(str) # combine posts and comments\n",
    "ideas_comments.head(3) # print it "
   ]
  },
  {
   "cell_type": "markdown",
   "metadata": {},
   "source": [
    "## step 1.1: clean text "
   ]
  },
  {
   "cell_type": "code",
   "execution_count": 4,
   "metadata": {
    "execution": {
     "iopub.execute_input": "2022-04-30T11:49:05.126434Z",
     "iopub.status.busy": "2022-04-30T11:49:05.125823Z",
     "iopub.status.idle": "2022-04-30T11:49:05.171183Z",
     "shell.execute_reply": "2022-04-30T11:49:05.170507Z",
     "shell.execute_reply.started": "2022-04-30T11:49:05.126379Z"
    },
    "tags": []
   },
   "outputs": [],
   "source": [
    "# step 1.1: basic text cleaning\n",
    "def normalizing_text(text):\n",
    "    cleanr = re.compile('<.*?>|&([a-z0-9]+|#[0-9]{1,6}|#x[0-9a-f]{1,6});')\n",
    "    text = re.sub(cleanr, ' ', text)\n",
    "    text = text.lower() #lower case\n",
    "    text = re.sub(r'http\\S+', ' ', text) # removes everything after http\n",
    "    text = re.sub(r\"@[^\\s]+\", \" \", text) # remove handles / mentions (everything before whitespace)\n",
    "    text = re.sub(r\"/\", \" \", text) # replace slash with space \n",
    "    text = re.sub(r\"_\", \" \", text) # replace underscore with space (important after \"@[^\\s]+\")\n",
    "    text = re.sub(r'[^\\w\\s]', \"\", text) # remove punctuation and emojis\n",
    "    text = re.sub(r'\\d+', ' ', text) # \n",
    "    text = re.sub(r'\\W+', ' ', text) # \n",
    "    text = re.sub(r'\\s+', ' ', text) # excess whitespace with single whitespace\n",
    "    return text    \n",
    "\n",
    "# use the function on our text column\n",
    "ideas_comments[\"clean_txt\"] = [normalizing_text(x) for x in ideas_comments[\"text\"]]"
   ]
  },
  {
   "cell_type": "markdown",
   "metadata": {},
   "source": [
    "# step 2: Run nonnegative matrix factorization\n",
    "NB: takes a minute to run. <br/>\n",
    "NB: as the number of desired topics was not specified, 5 topics was chosen"
   ]
  },
  {
   "cell_type": "code",
   "execution_count": 5,
   "metadata": {
    "execution": {
     "iopub.execute_input": "2022-04-30T11:49:06.717557Z",
     "iopub.status.busy": "2022-04-30T11:49:06.716937Z",
     "iopub.status.idle": "2022-04-30T11:49:31.309619Z",
     "shell.execute_reply": "2022-04-30T11:49:31.217351Z",
     "shell.execute_reply.started": "2022-04-30T11:49:06.717500Z"
    },
    "tags": []
   },
   "outputs": [],
   "source": [
    "%%capture\n",
    "# step 2: run nonnegative matrix factorization (topic modeling) --> takes ~1-2 minutes #\n",
    "# preparation\n",
    "data = ideas_comments[~ideas_comments[\"clean_txt\"].isnull()] # cannot have empty text \n",
    "content_norm = data[\"clean_txt\"].values # only take the text out now\n",
    "\n",
    "# remove stopwords (english)\n",
    "swfilter = text.ENGLISH_STOP_WORDS.union()\n",
    "\n",
    "# number of features (words/tokens) to consider (i.e. the top 2000 words by frequency)\n",
    "no_features = 2000\n",
    "\n",
    "# vectorize\n",
    "vectorizer = TfidfVectorizer(\n",
    "        max_features = no_features,\n",
    "        ngram_range = (1,1),\n",
    "        max_df = .25,\n",
    "        stop_words = swfilter\n",
    "        )\n",
    "\n",
    "X = vectorizer.fit_transform(content_norm)\n",
    "features = vectorizer.get_feature_names_out() # was get_feature_names() but deprecated\n",
    "    \n",
    "# for reproducibility\n",
    "np.random.seed(1234)\n",
    "k = 5 # number of topics\n",
    "W, H, info = NMF().run(X, k, max_iter = 100, verbose=0) # actually run topic modeling: ~1-2 minutes"
   ]
  },
  {
   "cell_type": "markdown",
   "metadata": {},
   "source": [
    "## step 2.1: inspect our 5 topics (10 most important words in each)"
   ]
  },
  {
   "cell_type": "code",
   "execution_count": 6,
   "metadata": {
    "execution": {
     "iopub.execute_input": "2022-04-30T11:49:31.359260Z",
     "iopub.status.busy": "2022-04-30T11:49:31.359103Z",
     "iopub.status.idle": "2022-04-30T11:49:31.365064Z",
     "shell.execute_reply": "2022-04-30T11:49:31.364481Z",
     "shell.execute_reply.started": "2022-04-30T11:49:31.359241Z"
    },
    "tags": []
   },
   "outputs": [
    {
     "name": "stdout",
     "output_type": "stream",
     "text": [
      "dimension-0: bags,  bag,  boxes,  plastic,  storage,  solution,  smart,  open,  ziplock,  minifigures, \n",
      "dimension-1: models,  instructions,  instruction,  alternate,  black,  boxes,  qr,  colour,  people,  family, \n",
      "dimension-2: game,  figures,  skylanders,  figure,  built,  virtual,  friends,  games,  world,  character, \n",
      "dimension-3: calendar,  advent,  day,  christmas,  winter,  calendars,  year,  city,  small,  theme, \n",
      "dimension-4: ideas,  app,  stores,  collection,  brand,  store,  similar,  thanks,  house,  london, \n"
     ]
    }
   ],
   "source": [
    "# step 2.1: inspect our 5 topis (10 most common words) # \n",
    "no_top_words = 10 # display 10 top words\n",
    "# def display_topics(H, feature_names, no_top_words, filename=\"dimensions.txt\"):\n",
    "for topic_idx, topic in enumerate(H.T):\n",
    "            #print(f\"dimension {topic_idx}:\")\n",
    "            s = f\"dimension-{topic_idx}: \" + \" \".join([features[i]+\", \"\n",
    "                        for i in topic.argsort()[:-no_top_words - 1:-1]])\n",
    "            print(s)"
   ]
  },
  {
   "cell_type": "markdown",
   "metadata": {},
   "source": [
    "## step 2.2: pairwise distances (between topics & threads)\n",
    "NB: This is necessary for plotting topic relations (which we discussed). <br/>\n",
    "There are 5 topics, so the distance matrix (how far appart the topics are) will have dimension (5, 5) <br/>\n",
    "There are 108 threads, so the distance matrix (how far appart threads are) will have dimension (108, 108) <br/>"
   ]
  },
  {
   "cell_type": "code",
   "execution_count": 7,
   "metadata": {
    "execution": {
     "iopub.execute_input": "2022-04-30T11:49:31.366500Z",
     "iopub.status.busy": "2022-04-30T11:49:31.366357Z",
     "iopub.status.idle": "2022-04-30T11:49:31.409411Z",
     "shell.execute_reply": "2022-04-30T11:49:31.408737Z",
     "shell.execute_reply.started": "2022-04-30T11:49:31.366482Z"
    },
    "tags": []
   },
   "outputs": [
    {
     "name": "stdout",
     "output_type": "stream",
     "text": [
      "threads x threads distance matrix: (108, 108)\n",
      "topics x topics distance matrix: (5, 5)\n"
     ]
    }
   ],
   "source": [
    "# step 2.2: pairwise distances between (topics, topics) and (threads, threads) #\n",
    "distance_threads = pairwise_distances(W, metric = \"cosine\")\n",
    "distance_topics = pairwise_distances(W.T, metric = \"cosine\")\n",
    "\n",
    "# check data\n",
    "print(f\"threads x threads distance matrix: {distance_threads.shape}\") # (108, 108) threads x threads\n",
    "print(f\"topics x topics distance matrix: {distance_topics.shape}\") # (5, 5) topics x topics"
   ]
  },
  {
   "cell_type": "markdown",
   "metadata": {},
   "source": [
    "Let us look at the distance matrix to understand what we are plotting. <br/>\n",
    "This matrix is the distance matrix between topics (5 x 5) which we will visualize <br/>\n",
    "All elements on the diagonal are 0 because each element has 0 distance to itself. <br/>\n",
    "The smaller the values are the \"closer\" the topics are together. <br/>\n",
    "Notice that the matrix is symmetric (element (1, 2) has the same value as (2, 1))."
   ]
  },
  {
   "cell_type": "code",
   "execution_count": 8,
   "metadata": {
    "execution": {
     "iopub.execute_input": "2022-04-30T11:49:31.410448Z",
     "iopub.status.busy": "2022-04-30T11:49:31.410264Z",
     "iopub.status.idle": "2022-04-30T11:49:31.432857Z",
     "shell.execute_reply": "2022-04-30T11:49:31.431917Z",
     "shell.execute_reply.started": "2022-04-30T11:49:31.410425Z"
    },
    "tags": []
   },
   "outputs": [
    {
     "name": "stdout",
     "output_type": "stream",
     "text": [
      "[[0.         0.89626478 0.93401935 0.95407927 0.94232965]\n",
      " [0.89626478 0.         0.87095276 0.89349773 0.86939054]\n",
      " [0.93401935 0.87095276 0.         0.9244801  0.90408232]\n",
      " [0.95407927 0.89349773 0.9244801  0.         0.92462427]\n",
      " [0.94232965 0.86939054 0.90408232 0.92462427 0.        ]]\n"
     ]
    }
   ],
   "source": [
    "print(distance_topics)"
   ]
  },
  {
   "cell_type": "markdown",
   "metadata": {},
   "source": [
    "## step 2.3: visualize semantic topic relations\n",
    "NB: the code for this is in the file fun.py"
   ]
  },
  {
   "cell_type": "code",
   "execution_count": 17,
   "metadata": {
    "execution": {
     "iopub.execute_input": "2022-04-30T11:50:19.554226Z",
     "iopub.status.busy": "2022-04-30T11:50:19.553606Z",
     "iopub.status.idle": "2022-04-30T11:50:19.570149Z",
     "shell.execute_reply": "2022-04-30T11:50:19.569469Z",
     "shell.execute_reply.started": "2022-04-30T11:50:19.554169Z"
    },
    "tags": []
   },
   "outputs": [
    {
     "data": {
      "text/html": [
       "<div>\n",
       "<style scoped>\n",
       "    .dataframe tbody tr th:only-of-type {\n",
       "        vertical-align: middle;\n",
       "    }\n",
       "\n",
       "    .dataframe tbody tr th {\n",
       "        vertical-align: top;\n",
       "    }\n",
       "\n",
       "    .dataframe thead th {\n",
       "        text-align: right;\n",
       "    }\n",
       "</style>\n",
       "<table border=\"1\" class=\"dataframe\">\n",
       "  <thead>\n",
       "    <tr style=\"text-align: right;\">\n",
       "      <th></th>\n",
       "      <th>src</th>\n",
       "      <th>trg</th>\n",
       "      <th>dist</th>\n",
       "      <th>weight</th>\n",
       "    </tr>\n",
       "  </thead>\n",
       "  <tbody>\n",
       "    <tr>\n",
       "      <th>0</th>\n",
       "      <td>0</td>\n",
       "      <td>1</td>\n",
       "      <td>0.896265</td>\n",
       "      <td>0.103735</td>\n",
       "    </tr>\n",
       "    <tr>\n",
       "      <th>1</th>\n",
       "      <td>0</td>\n",
       "      <td>2</td>\n",
       "      <td>0.934019</td>\n",
       "      <td>0.065981</td>\n",
       "    </tr>\n",
       "    <tr>\n",
       "      <th>2</th>\n",
       "      <td>0</td>\n",
       "      <td>3</td>\n",
       "      <td>0.954079</td>\n",
       "      <td>0.045921</td>\n",
       "    </tr>\n",
       "  </tbody>\n",
       "</table>\n",
       "</div>"
      ],
      "text/plain": [
       "   src  trg      dist    weight\n",
       "0    0    1  0.896265  0.103735\n",
       "1    0    2  0.934019  0.065981\n",
       "2    0    3  0.954079  0.045921"
      ]
     },
     "execution_count": 17,
     "metadata": {},
     "output_type": "execute_result"
    }
   ],
   "source": [
    "d = prepare_network(distance_topics) # function from fun.py\n",
    "d.head(3) # check data"
   ]
  },
  {
   "cell_type": "code",
   "execution_count": 12,
   "metadata": {
    "execution": {
     "iopub.execute_input": "2022-04-30T11:49:39.229276Z",
     "iopub.status.busy": "2022-04-30T11:49:39.228555Z",
     "iopub.status.idle": "2022-04-30T11:49:39.238382Z",
     "shell.execute_reply": "2022-04-30T11:49:39.237395Z",
     "shell.execute_reply.started": "2022-04-30T11:49:39.229217Z"
    },
    "tags": []
   },
   "outputs": [],
   "source": [
    "# create network #\n",
    "G = nx.from_pandas_edgelist(\n",
    "    d, # our dataframe \n",
    "    source = \"src\", # first column (source)\n",
    "    target = \"trg\", # second column (target)\n",
    "    edge_attr = \"weight\" # edge attribute (weight) \n",
    ")"
   ]
  },
  {
   "cell_type": "code",
   "execution_count": 13,
   "metadata": {
    "execution": {
     "iopub.execute_input": "2022-04-30T11:49:39.336491Z",
     "iopub.status.busy": "2022-04-30T11:49:39.336154Z",
     "iopub.status.idle": "2022-04-30T11:49:39.340203Z",
     "shell.execute_reply": "2022-04-30T11:49:39.339610Z",
     "shell.execute_reply.started": "2022-04-30T11:49:39.336467Z"
    },
    "tags": []
   },
   "outputs": [],
   "source": [
    "node_size_list, node_color_list, node_label_dict = set_node_attributes(G) # function from fun.py"
   ]
  },
  {
   "cell_type": "code",
   "execution_count": 14,
   "metadata": {
    "execution": {
     "iopub.execute_input": "2022-04-30T11:49:42.806163Z",
     "iopub.status.busy": "2022-04-30T11:49:42.805510Z",
     "iopub.status.idle": "2022-04-30T11:49:42.812502Z",
     "shell.execute_reply": "2022-04-30T11:49:42.811387Z",
     "shell.execute_reply.started": "2022-04-30T11:49:42.806106Z"
    },
    "tags": []
   },
   "outputs": [],
   "source": [
    "edge_width_list, edge_color_list = set_edge_attributes(G) # function from fun.py"
   ]
  },
  {
   "cell_type": "code",
   "execution_count": 18,
   "metadata": {
    "execution": {
     "iopub.execute_input": "2022-04-30T11:50:44.884315Z",
     "iopub.status.busy": "2022-04-30T11:50:44.883863Z",
     "iopub.status.idle": "2022-04-30T11:50:45.001158Z",
     "shell.execute_reply": "2022-04-30T11:50:45.000474Z",
     "shell.execute_reply.started": "2022-04-30T11:50:44.884281Z"
    },
    "tags": []
   },
   "outputs": [
    {
     "data": {
      "image/png": "[encoded data removed]",
      "text/plain": [
       "<Figure size 1200x800 with 1 Axes>"
      ]
     },
     "metadata": {},
     "output_type": "display_data"
    }
   ],
   "source": [
    "draw_network(G, node_size_list, node_color_list, edge_width_list, edge_color_list, node_label_dict) # visualize semantic network"
   ]
  },
  {
   "cell_type": "markdown",
   "metadata": {},
   "source": [
    "# step 3: exclude nodes that are in topics which have stop-words \n",
    "stopwords: food, drinks, fredagsbar, cantine, made in america, translate ideas, garbage cans, p-shop <br/>\n",
    "NB: none of our topics had any of these words, but I will remove topic 4 (dimension-3) with \"calendar\", \"advent\", \"day\", \"christmas\". "
   ]
  },
  {
   "cell_type": "markdown",
   "metadata": {},
   "source": [
    "## step 3.1: assign maximum topic to each thread"
   ]
  },
  {
   "cell_type": "code",
   "execution_count": 20,
   "metadata": {
    "execution": {
     "iopub.execute_input": "2022-04-30T11:51:17.091099Z",
     "iopub.status.busy": "2022-04-30T11:51:17.090919Z",
     "iopub.status.idle": "2022-04-30T11:51:17.096933Z",
     "shell.execute_reply": "2022-04-30T11:51:17.096298Z",
     "shell.execute_reply.started": "2022-04-30T11:51:17.091062Z"
    },
    "scrolled": true,
    "tags": []
   },
   "outputs": [],
   "source": [
    "data[\"W_max\"] = np.argmax(W, axis=1) # assign maximum topic to each thread\n",
    "data[\"W_val\"] = np.max(W, axis=1) # assign value to each thread (potentially not used)"
   ]
  },
  {
   "cell_type": "markdown",
   "metadata": {},
   "source": [
    "## step 3.2: remove threads that are mostly in topic 4 (dimension-3)"
   ]
  },
  {
   "cell_type": "code",
   "execution_count": 21,
   "metadata": {
    "execution": {
     "iopub.execute_input": "2022-04-30T11:51:19.141247Z",
     "iopub.status.busy": "2022-04-30T11:51:19.140746Z",
     "iopub.status.idle": "2022-04-30T11:51:19.153254Z",
     "shell.execute_reply": "2022-04-30T11:51:19.151783Z",
     "shell.execute_reply.started": "2022-04-30T11:51:19.141192Z"
    },
    "tags": []
   },
   "outputs": [],
   "source": [
    "data_subset = data[data[\"W_max\"] != 3] # remove dimension-3"
   ]
  },
  {
   "cell_type": "markdown",
   "metadata": {},
   "source": [
    "## step 3.3: get an overview (i.e. how much data have we filtered away)"
   ]
  },
  {
   "cell_type": "code",
   "execution_count": 22,
   "metadata": {
    "execution": {
     "iopub.execute_input": "2022-04-30T11:51:21.529410Z",
     "iopub.status.busy": "2022-04-30T11:51:21.528690Z",
     "iopub.status.idle": "2022-04-30T11:51:21.537971Z",
     "shell.execute_reply": "2022-04-30T11:51:21.536765Z",
     "shell.execute_reply.started": "2022-04-30T11:51:21.529346Z"
    },
    "tags": []
   },
   "outputs": [
    {
     "name": "stdout",
     "output_type": "stream",
     "text": [
      "number of threads before removing those with 'Calendar & Day' as main topic: 108\n",
      "number of threads after removing those with 'Calendar & Day' as main topic: 93\n",
      "effectively removed: 15 threads\n"
     ]
    }
   ],
   "source": [
    "print(f\"number of threads before removing those with 'Calendar & Day' as main topic: {len(data)}\")\n",
    "print(f\"number of threads after removing those with 'Calendar & Day' as main topic: {len(data_subset)}\")\n",
    "print(f\"effectively removed: {len(data)-len(data_subset)} threads\")"
   ]
  },
  {
   "cell_type": "markdown",
   "metadata": {},
   "source": [
    "# step 4: all comments (not posts) into one \"document\"\n",
    "NB: we already have this in the \"Comment\" column (see below)"
   ]
  },
  {
   "cell_type": "code",
   "execution_count": 25,
   "metadata": {
    "execution": {
     "iopub.execute_input": "2022-04-30T11:51:28.669272Z",
     "iopub.status.busy": "2022-04-30T11:51:28.668740Z",
     "iopub.status.idle": "2022-04-30T11:51:28.686930Z",
     "shell.execute_reply": "2022-04-30T11:51:28.686308Z",
     "shell.execute_reply.started": "2022-04-30T11:51:28.669213Z"
    },
    "tags": []
   },
   "outputs": [
    {
     "data": {
      "text/html": [
       "<div>\n",
       "<style scoped>\n",
       "    .dataframe tbody tr th:only-of-type {\n",
       "        vertical-align: middle;\n",
       "    }\n",
       "\n",
       "    .dataframe tbody tr th {\n",
       "        vertical-align: top;\n",
       "    }\n",
       "\n",
       "    .dataframe thead th {\n",
       "        text-align: right;\n",
       "    }\n",
       "</style>\n",
       "<table border=\"1\" class=\"dataframe\">\n",
       "  <thead>\n",
       "    <tr style=\"text-align: right;\">\n",
       "      <th></th>\n",
       "      <th>Submission.ID</th>\n",
       "      <th>Title</th>\n",
       "      <th>Body</th>\n",
       "      <th>Comment</th>\n",
       "      <th>text</th>\n",
       "      <th>clean_txt</th>\n",
       "      <th>W_max</th>\n",
       "      <th>W_val</th>\n",
       "    </tr>\n",
       "  </thead>\n",
       "  <tbody>\n",
       "    <tr>\n",
       "      <th>0</th>\n",
       "      <td>4</td>\n",
       "      <td>Make it easier to open the box</td>\n",
       "      <td>Often I see a LEGO box get torn open because i...</td>\n",
       "      <td>Thank you Camilla, that would be great! Whethe...</td>\n",
       "      <td>Make it easier to open the box Often I see a L...</td>\n",
       "      <td>make it easier to open the box often i see a l...</td>\n",
       "      <td>0</td>\n",
       "      <td>0.238333</td>\n",
       "    </tr>\n",
       "    <tr>\n",
       "      <th>1</th>\n",
       "      <td>91</td>\n",
       "      <td>Reconnect with childhood</td>\n",
       "      <td>When taking visitors through the Idea House I ...</td>\n",
       "      <td>I felt so nostalgic the day I saw horses in th...</td>\n",
       "      <td>Reconnect with childhood When taking visitors ...</td>\n",
       "      <td>reconnect with childhood when taking visitors ...</td>\n",
       "      <td>4</td>\n",
       "      <td>0.217200</td>\n",
       "    </tr>\n",
       "    <tr>\n",
       "      <th>3</th>\n",
       "      <td>51</td>\n",
       "      <td>Garbage Cans in Billund Parking House</td>\n",
       "      <td>The parking house in Billund provides great pa...</td>\n",
       "      <td>Good suggestion Edwin! I have also been there ...</td>\n",
       "      <td>Garbage Cans in Billund Parking House The park...</td>\n",
       "      <td>garbage cans in billund parking house the park...</td>\n",
       "      <td>4</td>\n",
       "      <td>0.161155</td>\n",
       "    </tr>\n",
       "  </tbody>\n",
       "</table>\n",
       "</div>"
      ],
      "text/plain": [
       "   Submission.ID                                  Title  \\\n",
       "0              4         Make it easier to open the box   \n",
       "1             91               Reconnect with childhood   \n",
       "3             51  Garbage Cans in Billund Parking House   \n",
       "\n",
       "                                                Body  \\\n",
       "0  Often I see a LEGO box get torn open because i...   \n",
       "1  When taking visitors through the Idea House I ...   \n",
       "3  The parking house in Billund provides great pa...   \n",
       "\n",
       "                                             Comment  \\\n",
       "0  Thank you Camilla, that would be great! Whethe...   \n",
       "1  I felt so nostalgic the day I saw horses in th...   \n",
       "3  Good suggestion Edwin! I have also been there ...   \n",
       "\n",
       "                                                text  \\\n",
       "0  Make it easier to open the box Often I see a L...   \n",
       "1  Reconnect with childhood When taking visitors ...   \n",
       "3  Garbage Cans in Billund Parking House The park...   \n",
       "\n",
       "                                           clean_txt  W_max     W_val  \n",
       "0  make it easier to open the box often i see a l...      0  0.238333  \n",
       "1  reconnect with childhood when taking visitors ...      4  0.217200  \n",
       "3  garbage cans in billund parking house the park...      4  0.161155  "
      ]
     },
     "execution_count": 25,
     "metadata": {},
     "output_type": "execute_result"
    }
   ],
   "source": [
    "# see the fourth column (Comment)\n",
    "data_subset.head(3)"
   ]
  },
  {
   "cell_type": "markdown",
   "metadata": {},
   "source": [
    "# step 5: run sentiment analysis\n",
    "## step 5.1: function to compute sentiment of \"comments\""
   ]
  },
  {
   "cell_type": "code",
   "execution_count": 26,
   "metadata": {
    "execution": {
     "iopub.execute_input": "2022-04-30T11:51:40.032895Z",
     "iopub.status.busy": "2022-04-30T11:51:40.032384Z",
     "iopub.status.idle": "2022-04-30T11:51:40.042187Z",
     "shell.execute_reply": "2022-04-30T11:51:40.041174Z",
     "shell.execute_reply.started": "2022-04-30T11:51:40.032840Z"
    },
    "tags": []
   },
   "outputs": [],
   "source": [
    "## step 5: run sentiment analysis ##\n",
    "# function for computing sentiment\n",
    "def sentiment_score(text: str) -> float:\n",
    "    if not text or not isinstance(text, str):\n",
    "        return np.nan\n",
    "    #text = utils.text.normalize(text)\n",
    "    sentence_object = Sentence(text)\n",
    "    classifier.predict(sentence_object)\n",
    "    res = sentence_object.labels[0].to_dict()\n",
    "    sign: str = res[\"value\"]\n",
    "    magnitude: float = res[\"confidence\"]\n",
    "    if sign == \"POSITIVE\":\n",
    "        return magnitude\n",
    "    return -magnitude"
   ]
  },
  {
   "cell_type": "markdown",
   "metadata": {},
   "source": [
    "## step 5.2: use the function \n",
    "NB: this takes a minute."
   ]
  },
  {
   "cell_type": "code",
   "execution_count": 27,
   "metadata": {
    "execution": {
     "iopub.execute_input": "2022-04-30T11:51:42.835472Z",
     "iopub.status.busy": "2022-04-30T11:51:42.834938Z",
     "iopub.status.idle": "2022-04-30T11:52:08.801095Z",
     "shell.execute_reply": "2022-04-30T11:52:08.800275Z",
     "shell.execute_reply.started": "2022-04-30T11:51:42.835417Z"
    },
    "tags": []
   },
   "outputs": [],
   "source": [
    "data_subset[\"sentiment\"] = [sentiment_score(x) for x in data_subset[\"Comment\"]] # for each row, calculate sentiment score of the \"Comment\" column"
   ]
  },
  {
   "cell_type": "markdown",
   "metadata": {},
   "source": [
    "## step 5.3: plot the sentiment distribution"
   ]
  },
  {
   "cell_type": "code",
   "execution_count": 28,
   "metadata": {
    "execution": {
     "iopub.execute_input": "2022-04-30T11:52:28.520046Z",
     "iopub.status.busy": "2022-04-30T11:52:28.519462Z",
     "iopub.status.idle": "2022-04-30T11:52:28.951348Z",
     "shell.execute_reply": "2022-04-30T11:52:28.950416Z",
     "shell.execute_reply.started": "2022-04-30T11:52:28.520007Z"
    },
    "tags": []
   },
   "outputs": [
    {
     "data": {
      "image/png": "[encoded data removed]",
      "text/plain": [
       "<Figure size 800x600 with 1 Axes>"
      ]
     },
     "metadata": {},
     "output_type": "display_data"
    }
   ],
   "source": [
    "# many really positive (around 1) and some negative (around -1)\n",
    "fig, ax = plt.subplots(figsize=(8, 6), dpi=100, facecolor='w', edgecolor='k') # plot setup\n",
    "sns.kdeplot(data = data_subset, x = \"sentiment\", fill = \"tab:blue\"); # make the plot\n",
    "plt.suptitle(\"Sentiment Distribution\") # title\n",
    "ax.annotate('Positive Sentiment', xy=(0.11, 0.75),  xycoords='data') # annotation\n",
    "ax.annotate('Negative Sentiment', xy=(-1, 0.75), xycoords='data') # annotation\n",
    "ax.vlines(x = 0, ymin = 0, ymax = 0.8, color = 'black', linestyle = 'dashed') # dashed vertical line\n",
    "plt.tight_layout() # layout"
   ]
  },
  {
   "cell_type": "markdown",
   "metadata": {},
   "source": [
    "## step 5.4: check the most negative & most positive comment (validation)"
   ]
  },
  {
   "cell_type": "code",
   "execution_count": 29,
   "metadata": {
    "execution": {
     "iopub.execute_input": "2022-04-30T11:52:32.731686Z",
     "iopub.status.busy": "2022-04-30T11:52:32.731022Z",
     "iopub.status.idle": "2022-04-30T11:52:32.746069Z",
     "shell.execute_reply": "2022-04-30T11:52:32.745389Z",
     "shell.execute_reply.started": "2022-04-30T11:52:32.731628Z"
    },
    "tags": []
   },
   "outputs": [
    {
     "name": "stdout",
     "output_type": "stream",
     "text": [
      "Most negative comment has sentiment: [-0.99997854] \n",
      "['I like the idea but not sure that children will be patient enough, once they start building something, they will want to carry on doing so. Maybe a story book or picture book would be an alternative to take their minds off the set building. These could be kept under the counter and given to anyone who wants one when they buy their set. The stories could be generic and feature Max from LEGO Club.']\n",
      "\n",
      "Most positive comment has sentiment: [0.99997413] \n",
      "[\"Tom And Jerry is a very famous Carton series when I was a child and I hope LEGO will have these figures built by bricks in future. I would be great to have LEGO Scooby Doo, Go for it!!! I agree, Tom and Jerry is one of those timeless cartoons which will be around for a very long time. I know children who still love them. As a huge Scooby-Doo fan myself, I think this is a fantastic idea! Scooby-Doo as a cartoon has been around since 1969, and is still continuing. A show that has lasted that long surely has a large enough fan base to excite not only fans of LEGO, but fans and collectors of Scooby-Doo memorabilia. We could even do mystery minifigs with random monsters from the series, as well as characters who are seen less frequently such as Scooby-Dum or Scrappy-Doo.  In most of the episodes they split up at one point or other, so I don't think that would be a problem. The only set I could see that expectation with is if they made a minifig scale Mystery Machine (which would be fantastic!) I think the only problem with this idea is the fact that Scooby Doo fans will expect the whole gang in each set or they would only be able to make three sets, one with fred and daffney, vilma by herslef, and then of course shaggy and scooby.\"]\n"
     ]
    }
   ],
   "source": [
    "# check the least and most positive comments # \n",
    "negative_comment = data_subset[data_subset[\"sentiment\"] == data_subset[\"sentiment\"].min()][[\"Comment\", \"sentiment\"]] # most negative comment\n",
    "positive_comment = data_subset[data_subset[\"sentiment\"] == data_subset[\"sentiment\"].max()][[\"Comment\", \"sentiment\"]] # most positive comment\n",
    "\n",
    "print(f\"Most negative comment has sentiment: {negative_comment['sentiment'].values} \\n{negative_comment['Comment'].values}\\n\") # print most negative comment\n",
    "print(f\"Most positive comment has sentiment: {positive_comment['sentiment'].values} \\n{positive_comment['Comment'].values}\") # print most positive comment"
   ]
  },
  {
   "cell_type": "markdown",
   "metadata": {},
   "source": [
    "# step 6 + 7: rank comments based on sentiment + exclude bottom half"
   ]
  },
  {
   "cell_type": "code",
   "execution_count": 30,
   "metadata": {
    "execution": {
     "iopub.execute_input": "2022-04-30T11:52:38.076274Z",
     "iopub.status.busy": "2022-04-30T11:52:38.075615Z",
     "iopub.status.idle": "2022-04-30T11:52:38.084669Z",
     "shell.execute_reply": "2022-04-30T11:52:38.083890Z",
     "shell.execute_reply.started": "2022-04-30T11:52:38.076216Z"
    },
    "tags": []
   },
   "outputs": [],
   "source": [
    "half_of_records = int(round(len(data_subset)/2,0)) # get half of the length of data\n",
    "data_subset = data_subset.sort_values('sentiment', ascending = False) # sort descending (based on sentiment) so that high sentiment is in the top of our dataframe\n",
    "data_sentiment = data_subset.head(half_of_records) # select the half of records with highest (positive) sentiment (the top 50% of rows)"
   ]
  },
  {
   "cell_type": "markdown",
   "metadata": {},
   "source": [
    "## step 7.1: check how positive the new selection of data is compared to before"
   ]
  },
  {
   "cell_type": "code",
   "execution_count": 31,
   "metadata": {
    "execution": {
     "iopub.execute_input": "2022-04-30T11:52:40.035678Z",
     "iopub.status.busy": "2022-04-30T11:52:40.035027Z",
     "iopub.status.idle": "2022-04-30T11:52:40.043862Z",
     "shell.execute_reply": "2022-04-30T11:52:40.043064Z",
     "shell.execute_reply.started": "2022-04-30T11:52:40.035621Z"
    },
    "tags": []
   },
   "outputs": [
    {
     "name": "stdout",
     "output_type": "stream",
     "text": [
      "average (mean) sentiment in new subset (best half): 0.995\n",
      "average (mean) sentiment before subsetting: 0.443\n"
     ]
    }
   ],
   "source": [
    "sentiment_new = data_sentiment[\"sentiment\"].mean()\n",
    "sentiment_old = data_subset[\"sentiment\"].mean()\n",
    "print(f\"average (mean) sentiment in new subset (best half): {round(sentiment_new, 3)}\")\n",
    "print(f\"average (mean) sentiment before subsetting: {round(sentiment_old, 3)}\")"
   ]
  },
  {
   "cell_type": "markdown",
   "metadata": {},
   "source": [
    "# step 8: rank remaining posts \n",
    "### (comments: 60%, likes: 35%, likes on comments: 5%)\n",
    "#### I interpreted this as: \n",
    "##### (1) comments = number of comments on original post\n",
    "##### (2) likes = number of \"votes\" on original post\n",
    "##### (3) likes on comments = number of \"votes\" on all comments for each original post\n",
    "##### (4) scale all these metrics into (0, 1) and weight based on percentages provided"
   ]
  },
  {
   "cell_type": "markdown",
   "metadata": {
    "execution": {
     "iopub.execute_input": "2022-04-28T14:03:12.952983Z",
     "iopub.status.busy": "2022-04-28T14:03:12.952469Z",
     "iopub.status.idle": "2022-04-28T14:03:12.970909Z",
     "shell.execute_reply": "2022-04-28T14:03:12.970327Z",
     "shell.execute_reply.started": "2022-04-28T14:03:12.952927Z"
    },
    "tags": []
   },
   "source": [
    "## step 8.1: get the number of comments on original posts"
   ]
  },
  {
   "cell_type": "code",
   "execution_count": 38,
   "metadata": {
    "execution": {
     "iopub.execute_input": "2022-04-30T11:57:45.035417Z",
     "iopub.status.busy": "2022-04-30T11:57:45.034965Z",
     "iopub.status.idle": "2022-04-30T11:57:45.051372Z",
     "shell.execute_reply": "2022-04-30T11:57:45.050587Z",
     "shell.execute_reply.started": "2022-04-30T11:57:45.035384Z"
    },
    "tags": []
   },
   "outputs": [
    {
     "data": {
      "text/html": [
       "<div>\n",
       "<style scoped>\n",
       "    .dataframe tbody tr th:only-of-type {\n",
       "        vertical-align: middle;\n",
       "    }\n",
       "\n",
       "    .dataframe tbody tr th {\n",
       "        vertical-align: top;\n",
       "    }\n",
       "\n",
       "    .dataframe thead th {\n",
       "        text-align: right;\n",
       "    }\n",
       "</style>\n",
       "<table border=\"1\" class=\"dataframe\">\n",
       "  <thead>\n",
       "    <tr style=\"text-align: right;\">\n",
       "      <th></th>\n",
       "      <th>Submission.ID</th>\n",
       "      <th>n_comments</th>\n",
       "    </tr>\n",
       "  </thead>\n",
       "  <tbody>\n",
       "    <tr>\n",
       "      <th>0</th>\n",
       "      <td>4</td>\n",
       "      <td>17</td>\n",
       "    </tr>\n",
       "    <tr>\n",
       "      <th>38</th>\n",
       "      <td>194</td>\n",
       "      <td>15</td>\n",
       "    </tr>\n",
       "    <tr>\n",
       "      <th>19</th>\n",
       "      <td>115</td>\n",
       "      <td>14</td>\n",
       "    </tr>\n",
       "  </tbody>\n",
       "</table>\n",
       "</div>"
      ],
      "text/plain": [
       "    Submission.ID  n_comments\n",
       "0               4          17\n",
       "38            194          15\n",
       "19            115          14"
      ]
     },
     "execution_count": 38,
     "metadata": {},
     "output_type": "execute_result"
    }
   ],
   "source": [
    "IDS = data_sentiment[[\"Submission.ID\"]] # select only the IDs that are in \"good\" topics and have high (positive) sentiment\n",
    "comment_IDS = comments.merge(IDS, on = \"Submission.ID\", how = \"inner\") # join with original \"comments\" data\n",
    "comment_count = comment_IDS.groupby(\"Submission.ID\").size().reset_index(name = 'n_comments') # group by ID and calculate the number of comments with that ID\n",
    "comment_count.sort_values('n_comments', ascending=False).head(3) # print the top three most commented upon posts"
   ]
  },
  {
   "cell_type": "markdown",
   "metadata": {},
   "source": [
    "## step 8.2: get the number of votes on original posts (2)"
   ]
  },
  {
   "cell_type": "code",
   "execution_count": 39,
   "metadata": {
    "execution": {
     "iopub.execute_input": "2022-04-30T11:57:47.569325Z",
     "iopub.status.busy": "2022-04-30T11:57:47.568823Z",
     "iopub.status.idle": "2022-04-30T11:57:47.581748Z",
     "shell.execute_reply": "2022-04-30T11:57:47.581147Z",
     "shell.execute_reply.started": "2022-04-30T11:57:47.569273Z"
    },
    "tags": []
   },
   "outputs": [
    {
     "data": {
      "text/html": [
       "<div>\n",
       "<style scoped>\n",
       "    .dataframe tbody tr th:only-of-type {\n",
       "        vertical-align: middle;\n",
       "    }\n",
       "\n",
       "    .dataframe tbody tr th {\n",
       "        vertical-align: top;\n",
       "    }\n",
       "\n",
       "    .dataframe thead th {\n",
       "        text-align: right;\n",
       "    }\n",
       "</style>\n",
       "<table border=\"1\" class=\"dataframe\">\n",
       "  <thead>\n",
       "    <tr style=\"text-align: right;\">\n",
       "      <th></th>\n",
       "      <th>Submission.ID</th>\n",
       "      <th>post_votes</th>\n",
       "    </tr>\n",
       "  </thead>\n",
       "  <tbody>\n",
       "    <tr>\n",
       "      <th>0</th>\n",
       "      <td>4</td>\n",
       "      <td>25</td>\n",
       "    </tr>\n",
       "    <tr>\n",
       "      <th>42</th>\n",
       "      <td>194</td>\n",
       "      <td>20</td>\n",
       "    </tr>\n",
       "    <tr>\n",
       "      <th>2</th>\n",
       "      <td>65</td>\n",
       "      <td>19</td>\n",
       "    </tr>\n",
       "  </tbody>\n",
       "</table>\n",
       "</div>"
      ],
      "text/plain": [
       "    Submission.ID  post_votes\n",
       "0               4          25\n",
       "42            194          20\n",
       "2              65          19"
      ]
     },
     "execution_count": 39,
     "metadata": {},
     "output_type": "execute_result"
    }
   ],
   "source": [
    "ideas_IDS = ideas.merge(IDS, on = \"Submission.ID\", how = \"inner\") # select only ideas (original posts) that are in \"good\" topics and have high (positive) sentiment\n",
    "original_votes = ideas_IDS[[\"Submission.ID\", \"Number.of.Votes\"]] # select just the two columns that we need \n",
    "original_votes = original_votes.rename(columns = {'Number.of.Votes': 'post_votes'})\n",
    "original_votes.sort_values('post_votes', ascending=False).head(3) # print the top three most voted upon posts"
   ]
  },
  {
   "cell_type": "markdown",
   "metadata": {},
   "source": [
    "## step 8.3: get the number of votes on comments"
   ]
  },
  {
   "cell_type": "code",
   "execution_count": 40,
   "metadata": {
    "execution": {
     "iopub.execute_input": "2022-04-30T11:57:50.561241Z",
     "iopub.status.busy": "2022-04-30T11:57:50.560696Z",
     "iopub.status.idle": "2022-04-30T11:57:50.574526Z",
     "shell.execute_reply": "2022-04-30T11:57:50.573816Z",
     "shell.execute_reply.started": "2022-04-30T11:57:50.561196Z"
    },
    "tags": []
   },
   "outputs": [
    {
     "data": {
      "text/html": [
       "<div>\n",
       "<style scoped>\n",
       "    .dataframe tbody tr th:only-of-type {\n",
       "        vertical-align: middle;\n",
       "    }\n",
       "\n",
       "    .dataframe tbody tr th {\n",
       "        vertical-align: top;\n",
       "    }\n",
       "\n",
       "    .dataframe thead th {\n",
       "        text-align: right;\n",
       "    }\n",
       "</style>\n",
       "<table border=\"1\" class=\"dataframe\">\n",
       "  <thead>\n",
       "    <tr style=\"text-align: right;\">\n",
       "      <th></th>\n",
       "      <th>Submission.ID</th>\n",
       "      <th>comment_votes</th>\n",
       "    </tr>\n",
       "  </thead>\n",
       "  <tbody>\n",
       "    <tr>\n",
       "      <th>29</th>\n",
       "      <td>168</td>\n",
       "      <td>11</td>\n",
       "    </tr>\n",
       "    <tr>\n",
       "      <th>3</th>\n",
       "      <td>19</td>\n",
       "      <td>8</td>\n",
       "    </tr>\n",
       "    <tr>\n",
       "      <th>6</th>\n",
       "      <td>50</td>\n",
       "      <td>5</td>\n",
       "    </tr>\n",
       "  </tbody>\n",
       "</table>\n",
       "</div>"
      ],
      "text/plain": [
       "    Submission.ID  comment_votes\n",
       "29            168             11\n",
       "3              19              8\n",
       "6              50              5"
      ]
     },
     "execution_count": 40,
     "metadata": {},
     "output_type": "execute_result"
    }
   ],
   "source": [
    "# (3) number of votes on comments \n",
    "comment_votes = comment_IDS.groupby('Submission.ID')['Number of votes'].sum().reset_index(name = 'comment_votes') # group by Submission.ID and get the sum of number of votes \n",
    "comment_votes.sort_values('comment_votes', ascending=False).head(3) # print top three most voted upon comments "
   ]
  },
  {
   "cell_type": "markdown",
   "metadata": {},
   "source": [
    "## step 8.4: combine this into one dataframe"
   ]
  },
  {
   "cell_type": "code",
   "execution_count": 41,
   "metadata": {
    "execution": {
     "iopub.execute_input": "2022-04-30T11:57:54.468748Z",
     "iopub.status.busy": "2022-04-30T11:57:54.468245Z",
     "iopub.status.idle": "2022-04-30T11:57:54.483393Z",
     "shell.execute_reply": "2022-04-30T11:57:54.482710Z",
     "shell.execute_reply.started": "2022-04-30T11:57:54.468713Z"
    },
    "tags": []
   },
   "outputs": [
    {
     "data": {
      "text/html": [
       "<div>\n",
       "<style scoped>\n",
       "    .dataframe tbody tr th:only-of-type {\n",
       "        vertical-align: middle;\n",
       "    }\n",
       "\n",
       "    .dataframe tbody tr th {\n",
       "        vertical-align: top;\n",
       "    }\n",
       "\n",
       "    .dataframe thead th {\n",
       "        text-align: right;\n",
       "    }\n",
       "</style>\n",
       "<table border=\"1\" class=\"dataframe\">\n",
       "  <thead>\n",
       "    <tr style=\"text-align: right;\">\n",
       "      <th></th>\n",
       "      <th>Submission.ID</th>\n",
       "      <th>comment_votes</th>\n",
       "      <th>n_comments</th>\n",
       "      <th>post_votes</th>\n",
       "    </tr>\n",
       "  </thead>\n",
       "  <tbody>\n",
       "    <tr>\n",
       "      <th>0</th>\n",
       "      <td>4</td>\n",
       "      <td>4</td>\n",
       "      <td>17</td>\n",
       "      <td>25</td>\n",
       "    </tr>\n",
       "    <tr>\n",
       "      <th>1</th>\n",
       "      <td>13</td>\n",
       "      <td>1</td>\n",
       "      <td>3</td>\n",
       "      <td>0</td>\n",
       "    </tr>\n",
       "    <tr>\n",
       "      <th>2</th>\n",
       "      <td>16</td>\n",
       "      <td>0</td>\n",
       "      <td>1</td>\n",
       "      <td>4</td>\n",
       "    </tr>\n",
       "    <tr>\n",
       "      <th>3</th>\n",
       "      <td>19</td>\n",
       "      <td>8</td>\n",
       "      <td>9</td>\n",
       "      <td>14</td>\n",
       "    </tr>\n",
       "    <tr>\n",
       "      <th>4</th>\n",
       "      <td>24</td>\n",
       "      <td>2</td>\n",
       "      <td>4</td>\n",
       "      <td>10</td>\n",
       "    </tr>\n",
       "  </tbody>\n",
       "</table>\n",
       "</div>"
      ],
      "text/plain": [
       "   Submission.ID  comment_votes  n_comments  post_votes\n",
       "0              4              4          17          25\n",
       "1             13              1           3           0\n",
       "2             16              0           1           4\n",
       "3             19              8           9          14\n",
       "4             24              2           4          10"
      ]
     },
     "execution_count": 41,
     "metadata": {},
     "output_type": "execute_result"
    }
   ],
   "source": [
    "# (4) now we have to combine these dataframes # \n",
    "merge_comments = comment_votes.merge(comment_count, on = \"Submission.ID\", how = \"inner\")\n",
    "merge_posts = merge_comments.merge(original_votes, on = \"Submission.ID\", how = \"inner\") \n",
    "merge_posts.head(5) # print it "
   ]
  },
  {
   "cell_type": "code",
   "execution_count": 42,
   "metadata": {
    "execution": {
     "iopub.execute_input": "2022-04-30T11:58:04.226413Z",
     "iopub.status.busy": "2022-04-30T11:58:04.226074Z",
     "iopub.status.idle": "2022-04-30T11:58:04.240895Z",
     "shell.execute_reply": "2022-04-30T11:58:04.240293Z",
     "shell.execute_reply.started": "2022-04-30T11:58:04.226385Z"
    },
    "tags": []
   },
   "outputs": [
    {
     "name": "stderr",
     "output_type": "stream",
     "text": [
      "/tmp/ipykernel_660/2066110205.py:4: FutureWarning: In a future version of pandas all arguments of concat except for the argument 'objs' will be keyword-only.\n",
      "  df_norm = pd.concat((df_norm, merge_posts['Submission.ID']), 1) # add Submission.ID again\n"
     ]
    },
    {
     "data": {
      "text/html": [
       "<div>\n",
       "<style scoped>\n",
       "    .dataframe tbody tr th:only-of-type {\n",
       "        vertical-align: middle;\n",
       "    }\n",
       "\n",
       "    .dataframe tbody tr th {\n",
       "        vertical-align: top;\n",
       "    }\n",
       "\n",
       "    .dataframe thead th {\n",
       "        text-align: right;\n",
       "    }\n",
       "</style>\n",
       "<table border=\"1\" class=\"dataframe\">\n",
       "  <thead>\n",
       "    <tr style=\"text-align: right;\">\n",
       "      <th></th>\n",
       "      <th>comment_votes</th>\n",
       "      <th>n_comments</th>\n",
       "      <th>post_votes</th>\n",
       "      <th>Submission.ID</th>\n",
       "    </tr>\n",
       "  </thead>\n",
       "  <tbody>\n",
       "    <tr>\n",
       "      <th>0</th>\n",
       "      <td>0.363636</td>\n",
       "      <td>1.0000</td>\n",
       "      <td>1.00</td>\n",
       "      <td>4</td>\n",
       "    </tr>\n",
       "    <tr>\n",
       "      <th>1</th>\n",
       "      <td>0.090909</td>\n",
       "      <td>0.1250</td>\n",
       "      <td>0.00</td>\n",
       "      <td>13</td>\n",
       "    </tr>\n",
       "    <tr>\n",
       "      <th>2</th>\n",
       "      <td>0.000000</td>\n",
       "      <td>0.0000</td>\n",
       "      <td>0.16</td>\n",
       "      <td>16</td>\n",
       "    </tr>\n",
       "    <tr>\n",
       "      <th>3</th>\n",
       "      <td>0.727273</td>\n",
       "      <td>0.5000</td>\n",
       "      <td>0.56</td>\n",
       "      <td>19</td>\n",
       "    </tr>\n",
       "    <tr>\n",
       "      <th>4</th>\n",
       "      <td>0.181818</td>\n",
       "      <td>0.1875</td>\n",
       "      <td>0.40</td>\n",
       "      <td>24</td>\n",
       "    </tr>\n",
       "  </tbody>\n",
       "</table>\n",
       "</div>"
      ],
      "text/plain": [
       "   comment_votes  n_comments  post_votes  Submission.ID\n",
       "0       0.363636      1.0000        1.00              4\n",
       "1       0.090909      0.1250        0.00             13\n",
       "2       0.000000      0.0000        0.16             16\n",
       "3       0.727273      0.5000        0.56             19\n",
       "4       0.181818      0.1875        0.40             24"
      ]
     },
     "execution_count": 42,
     "metadata": {},
     "output_type": "execute_result"
    }
   ],
   "source": [
    "# and now we scale everything so that we can do a weighted sum #\n",
    "numeric_cols = merge_posts.drop('Submission.ID', axis=1) # remove Submission.ID because we do not want to normalize this column\n",
    "df_norm = (numeric_cols-numeric_cols.min())/(numeric_cols.max()-numeric_cols.min()) # normalize all of the other columns (all values between 0 and 1)\n",
    "df_norm = pd.concat((df_norm, merge_posts['Submission.ID']), 1) # add Submission.ID again\n",
    "df_norm.head(5)"
   ]
  },
  {
   "cell_type": "code",
   "execution_count": 43,
   "metadata": {
    "execution": {
     "iopub.execute_input": "2022-04-30T11:58:47.190953Z",
     "iopub.status.busy": "2022-04-30T11:58:47.190450Z",
     "iopub.status.idle": "2022-04-30T11:58:47.211023Z",
     "shell.execute_reply": "2022-04-30T11:58:47.210509Z",
     "shell.execute_reply.started": "2022-04-30T11:58:47.190898Z"
    },
    "tags": []
   },
   "outputs": [
    {
     "data": {
      "text/html": [
       "<div>\n",
       "<style scoped>\n",
       "    .dataframe tbody tr th:only-of-type {\n",
       "        vertical-align: middle;\n",
       "    }\n",
       "\n",
       "    .dataframe tbody tr th {\n",
       "        vertical-align: top;\n",
       "    }\n",
       "\n",
       "    .dataframe thead th {\n",
       "        text-align: right;\n",
       "    }\n",
       "</style>\n",
       "<table border=\"1\" class=\"dataframe\">\n",
       "  <thead>\n",
       "    <tr style=\"text-align: right;\">\n",
       "      <th></th>\n",
       "      <th>comment_votes</th>\n",
       "      <th>n_comments</th>\n",
       "      <th>post_votes</th>\n",
       "      <th>Submission.ID</th>\n",
       "      <th>weighted_sum</th>\n",
       "    </tr>\n",
       "  </thead>\n",
       "  <tbody>\n",
       "    <tr>\n",
       "      <th>0</th>\n",
       "      <td>0.018182</td>\n",
       "      <td>0.6000</td>\n",
       "      <td>0.350</td>\n",
       "      <td>4</td>\n",
       "      <td>0.968182</td>\n",
       "    </tr>\n",
       "    <tr>\n",
       "      <th>38</th>\n",
       "      <td>0.009091</td>\n",
       "      <td>0.5250</td>\n",
       "      <td>0.280</td>\n",
       "      <td>194</td>\n",
       "      <td>0.814091</td>\n",
       "    </tr>\n",
       "    <tr>\n",
       "      <th>19</th>\n",
       "      <td>0.018182</td>\n",
       "      <td>0.4875</td>\n",
       "      <td>0.168</td>\n",
       "      <td>115</td>\n",
       "      <td>0.673682</td>\n",
       "    </tr>\n",
       "    <tr>\n",
       "      <th>8</th>\n",
       "      <td>0.018182</td>\n",
       "      <td>0.3000</td>\n",
       "      <td>0.266</td>\n",
       "      <td>65</td>\n",
       "      <td>0.584182</td>\n",
       "    </tr>\n",
       "    <tr>\n",
       "      <th>3</th>\n",
       "      <td>0.036364</td>\n",
       "      <td>0.3000</td>\n",
       "      <td>0.196</td>\n",
       "      <td>19</td>\n",
       "      <td>0.532364</td>\n",
       "    </tr>\n",
       "  </tbody>\n",
       "</table>\n",
       "</div>"
      ],
      "text/plain": [
       "    comment_votes  n_comments  post_votes  Submission.ID  weighted_sum\n",
       "0        0.018182      0.6000       0.350              4      0.968182\n",
       "38       0.009091      0.5250       0.280            194      0.814091\n",
       "19       0.018182      0.4875       0.168            115      0.673682\n",
       "8        0.018182      0.3000       0.266             65      0.584182\n",
       "3        0.036364      0.3000       0.196             19      0.532364"
      ]
     },
     "execution_count": 43,
     "metadata": {},
     "output_type": "execute_result"
    }
   ],
   "source": [
    "# now we weight the columns #\n",
    "df_norm[\"n_comments\"] = [x*0.6 for x in df_norm[\"n_comments\"]] # scale number of comments: 0.6 (60% weight)\n",
    "df_norm[\"post_votes\"] = [x*0.35 for x in df_norm[\"post_votes\"]] # scale number of votes on post: 0.35 (35% weight)\n",
    "df_norm[\"comment_votes\"] = [x*0.05 for x in df_norm[\"comment_votes\"]] # scale number of votes on comments: 0.05 (5% weight)\n",
    "\n",
    "# and now we can take the sum across these columns # \n",
    "df_norm = df_norm.assign(weighted_sum = lambda x: x['n_comments'] + x[\"post_votes\"] + x[\"comment_votes\"]) # sum across columns (weighted sum)\n",
    "df_norm = df_norm.sort_values('weighted_sum', ascending=False) # sort them by the weighted score \n",
    "df_norm.head(5) # display top five "
   ]
  },
  {
   "cell_type": "code",
   "execution_count": 44,
   "metadata": {
    "execution": {
     "iopub.execute_input": "2022-04-30T11:58:49.404639Z",
     "iopub.status.busy": "2022-04-30T11:58:49.403831Z",
     "iopub.status.idle": "2022-04-30T11:58:49.421561Z",
     "shell.execute_reply": "2022-04-30T11:58:49.420512Z",
     "shell.execute_reply.started": "2022-04-30T11:58:49.404554Z"
    },
    "tags": []
   },
   "outputs": [],
   "source": [
    "# 8: get the top 5 posts and text #\n",
    "top5_IDS = df_norm[[\"Submission.ID\", \"weighted_sum\"]].head(5) # take out the top 5 IDS\n",
    "top5_text = top5_IDS.merge(data, on = \"Submission.ID\", how = \"inner\")"
   ]
  },
  {
   "cell_type": "markdown",
   "metadata": {},
   "source": [
    "# step 8.5: DISPLAY FINAL RESULT "
   ]
  },
  {
   "cell_type": "code",
   "execution_count": 45,
   "metadata": {
    "execution": {
     "iopub.execute_input": "2022-04-30T11:58:52.329335Z",
     "iopub.status.busy": "2022-04-30T11:58:52.328686Z",
     "iopub.status.idle": "2022-04-30T11:58:52.340656Z",
     "shell.execute_reply": "2022-04-30T11:58:52.339489Z",
     "shell.execute_reply.started": "2022-04-30T11:58:52.329276Z"
    },
    "tags": []
   },
   "outputs": [
    {
     "name": "stdout",
     "output_type": "stream",
     "text": [
      "The number 1 rated idea is:\n",
      "--> Make it easier to open the box:\n",
      "Often I see a LEGO box get torn open because it is not obvious how to open it without damaging it. I think it would be nice if there was an easier way to open the box. \n",
      "\n",
      "The number 2 rated idea is:\n",
      "--> New element: Plate with knobs on both sides:\n",
      "An element that really could give many new building ways and posibilities would be plates with knobs on both sides. Like a 2x4 plate without tubeside,  but instead knobs equal to the other side.. Same we could do woth 2x2,  1x2 and so on…This would really give news ways of building,  and one don't need to build tube against tube side,  like the B-wing... I really dont like the cracks of air between the plates  and here this would be an awesome solution..Update: I uploaded a pictures of an element  we use internaly here in Verification  for setup up bricks for measurement. This is created specially for this... but simular for building, just with equal number of knobs on both sides  and wittout the holes.. :-)\" \n",
      "\n",
      "The number 3 rated idea is:\n",
      "--> Set storage bags:\n",
      "LEGO fans have asked me why the LEGO boxes are so large compared to the amount of LEGO bricks inside. The main issue being that when the set is made, the box is thrown away because it is too big to store. Most fans I know keep their sets organised rather than mixing all of them up and for those organised ones.  I wonder if we can add a sealed bag inside each box to store the pieces together when the set has been made and then broken up again? This would keep all of the pieces together and make for easier storage as it would be much smaller than the box. Maybe it will be possible to print something on the bag such as the set number and a picture of the completed set?\" \n",
      "\n",
      "The number 4 rated idea is:\n",
      "--> Save Energy:\n",
      "We can easily help saving energy by switching off our computer monitors when we leave for home. When I leave as one of the last persons in the office I often notice that 80% or more of the monitors are still on. Even though they are on power safe mode it still adds up. And this behavious is not helping to achieve our Planet Promises!!So we may need a behavioral change campaign to change our habits!.\" \n",
      "\n",
      "The number 5 rated idea is:\n",
      "--> Color in building instructions:\n",
      "Sometimes it can be hard to tell the difference between dark gray and black in the building instructions. IsnÂ´t it possible to make the black color black with a white outline and the dark gray with a black outline. \n",
      "\n"
     ]
    }
   ],
   "source": [
    "# display top ideas # \n",
    "pd.set_option('display.max_colwidth', None) # so that we can see all the output\n",
    "for idx, row in top5_text.iterrows(): \n",
    "    print(f\"The number {idx+1} rated idea is:\")\n",
    "    #print(row[\"Submission.ID\"])\n",
    "    print(f\"--> {row['Title']}:\")\n",
    "    print(f\"{row['Body']} \\n\")"
   ]
  },
  {
   "cell_type": "markdown",
   "metadata": {},
   "source": [
    "# side-note: extra run"
   ]
  },
  {
   "cell_type": "markdown",
   "metadata": {},
   "source": [
    "## (e1) Remove threads with stop words from step 3. Removing the irrelevant words/posts"
   ]
  },
  {
   "cell_type": "code",
   "execution_count": 46,
   "metadata": {
    "execution": {
     "iopub.execute_input": "2022-04-30T12:00:10.616615Z",
     "iopub.status.busy": "2022-04-30T12:00:10.616119Z",
     "iopub.status.idle": "2022-04-30T12:00:10.631138Z",
     "shell.execute_reply": "2022-04-30T12:00:10.630357Z",
     "shell.execute_reply.started": "2022-04-30T12:00:10.616561Z"
    }
   },
   "outputs": [],
   "source": [
    "words = [\"food\", \"drinks\", \"fredagsbar\", \"cantine\", \"made in america\", \"translate ideas\", \"garbage cans\", \"p-shop\"] # list of stop words (remember that we match exactly, so \"drinks\" will not match \"drink\")\n",
    "data[\"matches_stopword\"] = [any(words in x for words in words) for x in data[\"clean_txt\"]] # check how many threads match ANY of the stopwords\n",
    "data.groupby('matches_stopword').size().head() # only 4 threads out of 108 threads match the stopwords\n",
    "data_stopwords = data[data[\"matches_stopword\"] == False] # select the 104 threads that do not match stopwords"
   ]
  },
  {
   "cell_type": "markdown",
   "metadata": {},
   "source": [
    "## (e2) Rank the dataset using scores from step 8\n",
    "NB: we are using basically the same code as in the main pipeline."
   ]
  },
  {
   "cell_type": "code",
   "execution_count": 47,
   "metadata": {
    "execution": {
     "iopub.execute_input": "2022-04-30T12:00:44.881147Z",
     "iopub.status.busy": "2022-04-30T12:00:44.880631Z",
     "iopub.status.idle": "2022-04-30T12:00:44.916685Z",
     "shell.execute_reply": "2022-04-30T12:00:44.915911Z",
     "shell.execute_reply.started": "2022-04-30T12:00:44.881108Z"
    },
    "tags": []
   },
   "outputs": [
    {
     "name": "stderr",
     "output_type": "stream",
     "text": [
      "/tmp/ipykernel_660/2351572548.py:25: FutureWarning: In a future version of pandas all arguments of concat except for the argument 'objs' will be keyword-only.\n",
      "  df_norm = pd.concat((df_norm, merge_posts['Submission.ID']), 1) # add Submission.ID again\n"
     ]
    }
   ],
   "source": [
    "# extra: 2 -- now we rank them in the same way as before (I omit explanation this time) # \n",
    "\n",
    "# get the new IDS\n",
    "IDS = data_stopwords[[\"Submission.ID\"]]\n",
    "\n",
    "# number of comments\n",
    "comment_IDS = comments.merge(IDS, on = \"Submission.ID\", how = \"inner\") # join with original \"comments\" data\n",
    "comment_count = comment_IDS.groupby(\"Submission.ID\").size().reset_index(name = 'n_comments') # group by ID and calculate the number of comments with that ID\n",
    "\n",
    "# number of votes on original posts\n",
    "ideas_IDS = ideas.merge(IDS, on = \"Submission.ID\", how = \"inner\") # select only ideas (original posts) that are in \"good\" topics and have high (positive) sentiment\n",
    "original_votes = ideas_IDS[[\"Submission.ID\", \"Number.of.Votes\"]] # select just the two columns that we need \n",
    "original_votes = original_votes.rename(columns = {'Number.of.Votes': 'post_votes'})\n",
    "\n",
    "# number of votes on comments\n",
    "comment_votes = comment_IDS.groupby('Submission.ID')['Number of votes'].sum().reset_index(name = 'comment_votes') # group by Submission.ID and get the sum of number of votes \n",
    "\n",
    "# merge\n",
    "merge_comments = comment_votes.merge(comment_count, on = \"Submission.ID\", how = \"inner\")\n",
    "merge_posts = merge_comments.merge(original_votes, on = \"Submission.ID\", how = \"inner\")\n",
    "\n",
    "# normalize\n",
    "numeric_cols = merge_posts.drop('Submission.ID', axis=1) # remove Submission.ID because we do not want to normalize this column\n",
    "df_norm = (numeric_cols-numeric_cols.min())/(numeric_cols.max()-numeric_cols.min()) # normalize all of the other columns (all values between 0 and 1)\n",
    "df_norm = pd.concat((df_norm, merge_posts['Submission.ID']), 1) # add Submission.ID again\n",
    "\n",
    "# now we weight the columns #\n",
    "df_norm[\"n_comments\"] = [x*0.6 for x in df_norm[\"n_comments\"]] # scale number of comments: 0.6 (60% weight)\n",
    "df_norm[\"post_votes\"] = [x*0.35 for x in df_norm[\"post_votes\"]] # scale number of votes on post: 0.35 (35% weight)\n",
    "df_norm[\"comment_votes\"] = [x*0.05 for x in df_norm[\"comment_votes\"]] # scale number of votes on comments: 0.05 (5% weight)\n",
    "\n",
    "# and now we can take the sum across these columns # \n",
    "df_norm = df_norm.assign(weighted_sum = lambda x: x['n_comments'] + x[\"post_votes\"] + x[\"comment_votes\"]) # sum across columns (weighted sum)\n",
    "df_norm = df_norm.sort_values('weighted_sum', ascending=False) # sort them by the weighted score \n",
    "\n",
    "# get top 5 #\n",
    "top5_IDS = df_norm[[\"Submission.ID\", \"weighted_sum\"]].head(5) # take out the top 5 IDS\n",
    "top5_text = top5_IDS.merge(data, on = \"Submission.ID\", how = \"inner\")"
   ]
  },
  {
   "cell_type": "markdown",
   "metadata": {},
   "source": [
    "## e3: display results from second pipeline"
   ]
  },
  {
   "cell_type": "code",
   "execution_count": 48,
   "metadata": {
    "execution": {
     "iopub.execute_input": "2022-04-30T12:01:02.380358Z",
     "iopub.status.busy": "2022-04-30T12:01:02.379707Z",
     "iopub.status.idle": "2022-04-30T12:01:02.392553Z",
     "shell.execute_reply": "2022-04-30T12:01:02.390957Z",
     "shell.execute_reply.started": "2022-04-30T12:01:02.380297Z"
    },
    "tags": []
   },
   "outputs": [
    {
     "name": "stdout",
     "output_type": "stream",
     "text": [
      "The number 1 rated idea is:\n",
      "--> Make it easier to open the box:\n",
      "Often I see a LEGO box get torn open because it is not obvious how to open it without damaging it. I think it would be nice if there was an easier way to open the box. \n",
      "\n",
      "The number 2 rated idea is:\n",
      "--> Pick a brick in P-shop:\n",
      "IÂ´m so happy that we in the P-shop now has the oppertunity to fill a bag of minifigure parts, wich I assume would just go to waste/scrap. Why donÂ´t we expand this oppertunity to include bricks as well? This would be a win/win situation for the company and the employee. The company reduces the waste/scrap (Planet Promis) and the employee has access to bricks with a discount. \n",
      "\n",
      "The number 3 rated idea is:\n",
      "--> New element: Plate with knobs on both sides:\n",
      "An element that really could give many new building ways and posibilities would be plates with knobs on both sides. Like a 2x4 plate without tubeside,  but instead knobs equal to the other side.. Same we could do woth 2x2,  1x2 and so on…This would really give news ways of building,  and one don't need to build tube against tube side,  like the B-wing... I really dont like the cracks of air between the plates  and here this would be an awesome solution..Update: I uploaded a pictures of an element  we use internaly here in Verification  for setup up bricks for measurement. This is created specially for this... but simular for building, just with equal number of knobs on both sides  and wittout the holes.. :-)\" \n",
      "\n",
      "The number 4 rated idea is:\n",
      "--> Replace \"sticky\" plastic bags :\n",
      "Far East sourced components are packed in a plastic material that is much harder to open than the normal pre-pack bags. Especially for children, who most often need a pair of scissors to open these bags. My idea is to replace these with the regular pre-pack bag material and make the opening frustration go away \n",
      "\n",
      "The number 5 rated idea is:\n",
      "--> Making the Advent Calendars amazing:\n",
      "I think it would make the gifts of the Advent Calendar truely amazing, if after the 24th there would be a building instruction where using the the bricks of 24 small gifts you could make one big thing. F.ex for Star Wars that you could create a bigger spaceship with the bricks. First,  it would make  day 24 truely special. Second,  it would show to the kids that bricks can be used in different ways,  and encourage them to be creative (and not just assemble sets once).\" \n",
      "\n"
     ]
    }
   ],
   "source": [
    "# display top ideas # \n",
    "## NB: only the top rated idea and number 3 is the same (so even though we only remove 4 threads those were important) \n",
    "pd.set_option('display.max_colwidth', None) # so that we can see all the output\n",
    "for idx, row in top5_text.iterrows(): \n",
    "    print(f\"The number {idx+1} rated idea is:\")\n",
    "    #print(row[\"Submission.ID\"])\n",
    "    print(f\"--> {row['Title']}:\")\n",
    "    print(f\"{row['Body']} \\n\")"
   ]
  },
  {
   "cell_type": "code",
   "execution_count": 49,
   "metadata": {
    "execution": {
     "iopub.execute_input": "2022-04-30T12:01:09.658632Z",
     "iopub.status.busy": "2022-04-30T12:01:09.658186Z",
     "iopub.status.idle": "2022-04-30T12:01:09.664007Z",
     "shell.execute_reply": "2022-04-30T12:01:09.663319Z",
     "shell.execute_reply.started": "2022-04-30T12:01:09.658598Z"
    },
    "tags": []
   },
   "outputs": [
    {
     "name": "stdout",
     "output_type": "stream",
     "text": [
      "pshop\n"
     ]
    }
   ],
   "source": [
    "## why do we see \"P-shop\" as the second highest rated idea? ## \n",
    "# well... we have made our text lower, but we remove special characters (e.g. \"-\") so we actually get \"pshop\" which was not a stopword of ours \n",
    "pshop = normalizing_text('P-shop') # applying our text normalization to \"P-shop\" \n",
    "print(pshop)"
   ]
  }
 ],
 "metadata": {
  "kernelspec": {
   "display_name": "Python 3 ",
   "language": "python",
   "name": "python3"
  },
  "language_info": {
   "codemirror_mode": {
    "name": "ipython",
    "version": 3
   },
   "file_extension": ".py",
   "mimetype": "text/x-python",
   "name": "python",
   "nbconvert_exporter": "python",
   "pygments_lexer": "ipython3",
   "version": "3.9.10"
  }
 },
 "nbformat": 4,
 "nbformat_minor": 4
}
