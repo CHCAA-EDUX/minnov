{
 "cells": [
  {
   "cell_type": "markdown",
   "metadata": {},
   "source": [
    "# Managing Innovation Project"
   ]
  },
  {
   "cell_type": "markdown",
   "metadata": {},
   "source": [
    "#### Installing packages"
   ]
  },
  {
   "cell_type": "code",
   "execution_count": 1,
   "metadata": {},
   "outputs": [],
   "source": [
    "%%capture\n",
    "#This could take a little while, but not to worry\n",
    "#It won't display anything because I captured the output\n",
    "import sys\n",
    "!{sys.executable} -m pip install -r ../requirements.txt\n",
    "!{sys.executable} -m spacy download en"
   ]
  },
  {
   "cell_type": "markdown",
   "metadata": {},
   "source": [
    "#### Loading necessary packages:"
   ]
  },
  {
   "cell_type": "code",
   "execution_count": 2,
   "metadata": {},
   "outputs": [],
   "source": [
    "%load_ext autoreload\n",
    "%autoreload 2\n",
    "import numpy as np\n",
    "import pandas as pd\n",
    "import plotly.express as px\n",
    "\n",
    "import utils\n",
    "import utils.numbers\n",
    "from utils.data import load_sheet\n",
    "from utils.sentiment import add_sentiment\n"
   ]
  },
  {
   "cell_type": "markdown",
   "metadata": {},
   "source": [
    "# Loading the data"
   ]
  },
  {
   "cell_type": "code",
   "execution_count": 3,
   "metadata": {},
   "outputs": [],
   "source": [
    "#Loads the excel table into a dictionary of DataFrames\n",
    "sheet = load_sheet(\"../../.dat/Lego_subset_22_merge.xlsx\")"
   ]
  },
  {
   "cell_type": "markdown",
   "metadata": {},
   "source": [
    "Creating create a DataFrame where comments and submissions are joined, so that we can obtain comment count and sentiment"
   ]
  },
  {
   "cell_type": "code",
   "execution_count": 4,
   "metadata": {},
   "outputs": [],
   "source": [
    "comments_df = sheet[\"ideas\"].merge(\n",
    "    sheet[\"comments\"],\n",
    "    how=\"left\",\n",
    "    suffixes=(\"_idea\", \"_comment\"),\n",
    "    on=\"submission_id\"\n",
    ")"
   ]
  },
  {
   "cell_type": "code",
   "execution_count": 5,
   "metadata": {},
   "outputs": [
    {
     "name": "stdout",
     "output_type": "stream",
     "text": [
      "<class 'pandas.core.frame.DataFrame'>\n",
      "Int64Index: 476 entries, 0 to 475\n",
      "Data columns (total 17 columns):\n",
      " #   Column                Non-Null Count  Dtype         \n",
      "---  ------                --------------  -----         \n",
      " 0   user_id_idea          476 non-null    int64         \n",
      " 1   submission_id         476 non-null    int64         \n",
      " 2   topic_alias_idea      476 non-null    object        \n",
      " 3   title                 476 non-null    object        \n",
      " 4   idea                  476 non-null    object        \n",
      " 5   idea type             467 non-null    object        \n",
      " 6   tags                  225 non-null    object        \n",
      " 7   publish_date_idea     476 non-null    datetime64[ns]\n",
      " 8   n_votes_idea          476 non-null    int64         \n",
      " 9   expert_selected       476 non-null    bool          \n",
      " 10  idea_experience       476 non-null    int64         \n",
      " 11  user_id_comment       467 non-null    float64       \n",
      " 12  topic_alias_comment   467 non-null    object        \n",
      " 13  comment_id            467 non-null    float64       \n",
      " 14  comment               467 non-null    object        \n",
      " 15  publish_date_comment  467 non-null    object        \n",
      " 16  n_votes_comment       467 non-null    float64       \n",
      "dtypes: bool(1), datetime64[ns](1), float64(3), int64(4), object(8)\n",
      "memory usage: 63.7+ KB\n"
     ]
    }
   ],
   "source": [
    "comments_df.info()"
   ]
  },
  {
   "cell_type": "markdown",
   "metadata": {},
   "source": [
    "## Sentiment Analysis"
   ]
  },
  {
   "cell_type": "markdown",
   "metadata": {},
   "source": [
    "We add sentiment scores based on the comments"
   ]
  },
  {
   "cell_type": "code",
   "execution_count": 6,
   "metadata": {},
   "outputs": [],
   "source": [
    "sentiment_df = add_sentiment(comments_df, based_on=\"comment\")"
   ]
  },
  {
   "cell_type": "markdown",
   "metadata": {},
   "source": [
    "We summarize both sentiment polarity and sentiment subjectivity in a mean score for each submission.\n",
    "I also add comment counts to each submission.\n",
    "These newly added columns are then normalized, so that they are on the same scale"
   ]
  },
  {
   "cell_type": "code",
   "execution_count": 7,
   "metadata": {},
   "outputs": [],
   "source": [
    "sentiment_summary = (\n",
    "    sentiment_df[[\"submission_id\", \"sentiment_polarity\", \"sentiment_subjectivity\"]]\n",
    "    .groupby(\"submission_id\")\n",
    "    .mean()\n",
    ")\n",
    "comment_count = (\n",
    "    comments_df[[\"submission_id\", \"comment\"]]\n",
    "    .groupby(\"submission_id\")\n",
    "    .count()\n",
    "    .rename({\"comment\": \"comment_count\"}, axis=1)\n",
    ")\n",
    "df = (\n",
    "    sheet[\"ideas\"]\n",
    "    .merge(sentiment_summary, on=\"submission_id\")\n",
    "    .merge(comment_count, on=\"submission_id\")\n",
    ")"
   ]
  },
  {
   "cell_type": "markdown",
   "metadata": {},
   "source": [
    "Here are some histograms to help us investigate the distributions of the variables"
   ]
  },
  {
   "cell_type": "code",
   "execution_count": 8,
   "metadata": {},
   "outputs": [
    {
     "data": {
      "application/vnd.plotly.v1+json": {
       "config": {
        "plotlyServerURL": "https://plot.ly"
       },
       "data": [
        {
         "alignmentgroup": "True",
         "bingroup": "x",
         "hovertemplate": "sentiment_polarity=%{x}<br>count=%{y}<extra></extra>",
         "legendgroup": "",
         "marker": {
          "color": "#636efa",
          "pattern": {
           "shape": ""
          }
         },
         "name": "",
         "offsetgroup": "",
         "orientation": "v",
         "showlegend": false,
         "type": "histogram",
         "x": [
          0.26477907135076256,
          0.1460735171261487,
          0.15,
          0.387852358815427,
          0.25049372695206024,
          0.4340909090909091,
          0.25506132756132754,
          0.09295524691358024,
          0.38645833333333335,
          0.23034798534798534,
          0.15035074773711135,
          0.16794642857142858,
          0.26173469387755105,
          0.3055555555555555,
          0.44166666666666665,
          0.1453809523809524,
          0.611111111111111,
          -0.08125,
          0.3126304713804714,
          0.24077380952380956,
          0.3177827380952381,
          0.5472222222222222,
          0.1428333333333333,
          0.2167752525252525,
          0.20773898323898324,
          0.2982755439005439,
          0.30160997732426303,
          0.09426136363636363,
          0.09772727272727273,
          0.4069444444444445,
          0.2718395691609977,
          0.21042748917748919,
          0.3055555555555555,
          0.31416666666666665,
          0.56875,
          null,
          0.10033950617283953,
          null,
          0.23314200680272107,
          -0.012499999999999997,
          0.01944444444444445,
          0.14586004273504274,
          0.1948210690824327,
          0.3475,
          0.3610515873015873,
          null,
          0.14027777777777778,
          0.29850729517396185,
          0.1757070707070707,
          0.3241874098124098,
          0.2741341991341991,
          0.21659374999999997,
          0.5029166666666667,
          0.25,
          0.24132105493712636,
          0.27499999999999997,
          0.19523809523809524,
          0.20300462962962965,
          0.21399999999999997,
          0.5075000000000001,
          0.12868506493506493,
          0.2455357142857143,
          0.4760416666666667,
          null,
          0.20411904761904762,
          null,
          null,
          0.20530753968253967,
          0.16666666666666669,
          0.07142857142857142,
          0.15000000000000002,
          0.23461512445887447,
          0.17777777777777776,
          0.5375405844155844,
          -0.008441558441558457,
          0.0734375,
          0.2629797979797979,
          0,
          0.2793105328255704,
          0.3192460317460317,
          0.3015151515151515,
          0.16736111111111107,
          null,
          0.6181818181818182,
          0.13052884615384616,
          null,
          0.28721293820558524,
          0.19299107142857141,
          0.2543816137566138,
          0.23035714285714284,
          0.39125,
          0.1893501533189033,
          0.10749611801242236,
          0.375,
          0.5125,
          0.2821844937469937,
          0.13106060606060607,
          null,
          0.0400258967223253,
          0.18868274582560293,
          0.15658526670385647,
          0.20957702020202018,
          0.30833333333333335,
          0.4,
          0.31387373737373736,
          0.26425925925925925,
          0.2121590909090909,
          0.20354662698412698
         ],
         "xaxis": "x",
         "yaxis": "y"
        }
       ],
       "layout": {
        "barmode": "relative",
        "legend": {
         "tracegroupgap": 0
        },
        "margin": {
         "t": 60
        },
        "template": {
         "data": {
          "bar": [
           {
            "error_x": {
             "color": "#2a3f5f"
            },
            "error_y": {
             "color": "#2a3f5f"
            },
            "marker": {
             "line": {
              "color": "#E5ECF6",
              "width": 0.5
             },
             "pattern": {
              "fillmode": "overlay",
              "size": 10,
              "solidity": 0.2
             }
            },
            "type": "bar"
           }
          ],
          "barpolar": [
           {
            "marker": {
             "line": {
              "color": "#E5ECF6",
              "width": 0.5
             },
             "pattern": {
              "fillmode": "overlay",
              "size": 10,
              "solidity": 0.2
             }
            },
            "type": "barpolar"
           }
          ],
          "carpet": [
           {
            "aaxis": {
             "endlinecolor": "#2a3f5f",
             "gridcolor": "white",
             "linecolor": "white",
             "minorgridcolor": "white",
             "startlinecolor": "#2a3f5f"
            },
            "baxis": {
             "endlinecolor": "#2a3f5f",
             "gridcolor": "white",
             "linecolor": "white",
             "minorgridcolor": "white",
             "startlinecolor": "#2a3f5f"
            },
            "type": "carpet"
           }
          ],
          "choropleth": [
           {
            "colorbar": {
             "outlinewidth": 0,
             "ticks": ""
            },
            "type": "choropleth"
           }
          ],
          "contour": [
           {
            "colorbar": {
             "outlinewidth": 0,
             "ticks": ""
            },
            "colorscale": [
             [
              0,
              "#0d0887"
             ],
             [
              0.1111111111111111,
              "#46039f"
             ],
             [
              0.2222222222222222,
              "#7201a8"
             ],
             [
              0.3333333333333333,
              "#9c179e"
             ],
             [
              0.4444444444444444,
              "#bd3786"
             ],
             [
              0.5555555555555556,
              "#d8576b"
             ],
             [
              0.6666666666666666,
              "#ed7953"
             ],
             [
              0.7777777777777778,
              "#fb9f3a"
             ],
             [
              0.8888888888888888,
              "#fdca26"
             ],
             [
              1,
              "#f0f921"
             ]
            ],
            "type": "contour"
           }
          ],
          "contourcarpet": [
           {
            "colorbar": {
             "outlinewidth": 0,
             "ticks": ""
            },
            "type": "contourcarpet"
           }
          ],
          "heatmap": [
           {
            "colorbar": {
             "outlinewidth": 0,
             "ticks": ""
            },
            "colorscale": [
             [
              0,
              "#0d0887"
             ],
             [
              0.1111111111111111,
              "#46039f"
             ],
             [
              0.2222222222222222,
              "#7201a8"
             ],
             [
              0.3333333333333333,
              "#9c179e"
             ],
             [
              0.4444444444444444,
              "#bd3786"
             ],
             [
              0.5555555555555556,
              "#d8576b"
             ],
             [
              0.6666666666666666,
              "#ed7953"
             ],
             [
              0.7777777777777778,
              "#fb9f3a"
             ],
             [
              0.8888888888888888,
              "#fdca26"
             ],
             [
              1,
              "#f0f921"
             ]
            ],
            "type": "heatmap"
           }
          ],
          "heatmapgl": [
           {
            "colorbar": {
             "outlinewidth": 0,
             "ticks": ""
            },
            "colorscale": [
             [
              0,
              "#0d0887"
             ],
             [
              0.1111111111111111,
              "#46039f"
             ],
             [
              0.2222222222222222,
              "#7201a8"
             ],
             [
              0.3333333333333333,
              "#9c179e"
             ],
             [
              0.4444444444444444,
              "#bd3786"
             ],
             [
              0.5555555555555556,
              "#d8576b"
             ],
             [
              0.6666666666666666,
              "#ed7953"
             ],
             [
              0.7777777777777778,
              "#fb9f3a"
             ],
             [
              0.8888888888888888,
              "#fdca26"
             ],
             [
              1,
              "#f0f921"
             ]
            ],
            "type": "heatmapgl"
           }
          ],
          "histogram": [
           {
            "marker": {
             "pattern": {
              "fillmode": "overlay",
              "size": 10,
              "solidity": 0.2
             }
            },
            "type": "histogram"
           }
          ],
          "histogram2d": [
           {
            "colorbar": {
             "outlinewidth": 0,
             "ticks": ""
            },
            "colorscale": [
             [
              0,
              "#0d0887"
             ],
             [
              0.1111111111111111,
              "#46039f"
             ],
             [
              0.2222222222222222,
              "#7201a8"
             ],
             [
              0.3333333333333333,
              "#9c179e"
             ],
             [
              0.4444444444444444,
              "#bd3786"
             ],
             [
              0.5555555555555556,
              "#d8576b"
             ],
             [
              0.6666666666666666,
              "#ed7953"
             ],
             [
              0.7777777777777778,
              "#fb9f3a"
             ],
             [
              0.8888888888888888,
              "#fdca26"
             ],
             [
              1,
              "#f0f921"
             ]
            ],
            "type": "histogram2d"
           }
          ],
          "histogram2dcontour": [
           {
            "colorbar": {
             "outlinewidth": 0,
             "ticks": ""
            },
            "colorscale": [
             [
              0,
              "#0d0887"
             ],
             [
              0.1111111111111111,
              "#46039f"
             ],
             [
              0.2222222222222222,
              "#7201a8"
             ],
             [
              0.3333333333333333,
              "#9c179e"
             ],
             [
              0.4444444444444444,
              "#bd3786"
             ],
             [
              0.5555555555555556,
              "#d8576b"
             ],
             [
              0.6666666666666666,
              "#ed7953"
             ],
             [
              0.7777777777777778,
              "#fb9f3a"
             ],
             [
              0.8888888888888888,
              "#fdca26"
             ],
             [
              1,
              "#f0f921"
             ]
            ],
            "type": "histogram2dcontour"
           }
          ],
          "mesh3d": [
           {
            "colorbar": {
             "outlinewidth": 0,
             "ticks": ""
            },
            "type": "mesh3d"
           }
          ],
          "parcoords": [
           {
            "line": {
             "colorbar": {
              "outlinewidth": 0,
              "ticks": ""
             }
            },
            "type": "parcoords"
           }
          ],
          "pie": [
           {
            "automargin": true,
            "type": "pie"
           }
          ],
          "scatter": [
           {
            "fillpattern": {
             "fillmode": "overlay",
             "size": 10,
             "solidity": 0.2
            },
            "type": "scatter"
           }
          ],
          "scatter3d": [
           {
            "line": {
             "colorbar": {
              "outlinewidth": 0,
              "ticks": ""
             }
            },
            "marker": {
             "colorbar": {
              "outlinewidth": 0,
              "ticks": ""
             }
            },
            "type": "scatter3d"
           }
          ],
          "scattercarpet": [
           {
            "marker": {
             "colorbar": {
              "outlinewidth": 0,
              "ticks": ""
             }
            },
            "type": "scattercarpet"
           }
          ],
          "scattergeo": [
           {
            "marker": {
             "colorbar": {
              "outlinewidth": 0,
              "ticks": ""
             }
            },
            "type": "scattergeo"
           }
          ],
          "scattergl": [
           {
            "marker": {
             "colorbar": {
              "outlinewidth": 0,
              "ticks": ""
             }
            },
            "type": "scattergl"
           }
          ],
          "scattermapbox": [
           {
            "marker": {
             "colorbar": {
              "outlinewidth": 0,
              "ticks": ""
             }
            },
            "type": "scattermapbox"
           }
          ],
          "scatterpolar": [
           {
            "marker": {
             "colorbar": {
              "outlinewidth": 0,
              "ticks": ""
             }
            },
            "type": "scatterpolar"
           }
          ],
          "scatterpolargl": [
           {
            "marker": {
             "colorbar": {
              "outlinewidth": 0,
              "ticks": ""
             }
            },
            "type": "scatterpolargl"
           }
          ],
          "scatterternary": [
           {
            "marker": {
             "colorbar": {
              "outlinewidth": 0,
              "ticks": ""
             }
            },
            "type": "scatterternary"
           }
          ],
          "surface": [
           {
            "colorbar": {
             "outlinewidth": 0,
             "ticks": ""
            },
            "colorscale": [
             [
              0,
              "#0d0887"
             ],
             [
              0.1111111111111111,
              "#46039f"
             ],
             [
              0.2222222222222222,
              "#7201a8"
             ],
             [
              0.3333333333333333,
              "#9c179e"
             ],
             [
              0.4444444444444444,
              "#bd3786"
             ],
             [
              0.5555555555555556,
              "#d8576b"
             ],
             [
              0.6666666666666666,
              "#ed7953"
             ],
             [
              0.7777777777777778,
              "#fb9f3a"
             ],
             [
              0.8888888888888888,
              "#fdca26"
             ],
             [
              1,
              "#f0f921"
             ]
            ],
            "type": "surface"
           }
          ],
          "table": [
           {
            "cells": {
             "fill": {
              "color": "#EBF0F8"
             },
             "line": {
              "color": "white"
             }
            },
            "header": {
             "fill": {
              "color": "#C8D4E3"
             },
             "line": {
              "color": "white"
             }
            },
            "type": "table"
           }
          ]
         },
         "layout": {
          "annotationdefaults": {
           "arrowcolor": "#2a3f5f",
           "arrowhead": 0,
           "arrowwidth": 1
          },
          "autotypenumbers": "strict",
          "coloraxis": {
           "colorbar": {
            "outlinewidth": 0,
            "ticks": ""
           }
          },
          "colorscale": {
           "diverging": [
            [
             0,
             "#8e0152"
            ],
            [
             0.1,
             "#c51b7d"
            ],
            [
             0.2,
             "#de77ae"
            ],
            [
             0.3,
             "#f1b6da"
            ],
            [
             0.4,
             "#fde0ef"
            ],
            [
             0.5,
             "#f7f7f7"
            ],
            [
             0.6,
             "#e6f5d0"
            ],
            [
             0.7,
             "#b8e186"
            ],
            [
             0.8,
             "#7fbc41"
            ],
            [
             0.9,
             "#4d9221"
            ],
            [
             1,
             "#276419"
            ]
           ],
           "sequential": [
            [
             0,
             "#0d0887"
            ],
            [
             0.1111111111111111,
             "#46039f"
            ],
            [
             0.2222222222222222,
             "#7201a8"
            ],
            [
             0.3333333333333333,
             "#9c179e"
            ],
            [
             0.4444444444444444,
             "#bd3786"
            ],
            [
             0.5555555555555556,
             "#d8576b"
            ],
            [
             0.6666666666666666,
             "#ed7953"
            ],
            [
             0.7777777777777778,
             "#fb9f3a"
            ],
            [
             0.8888888888888888,
             "#fdca26"
            ],
            [
             1,
             "#f0f921"
            ]
           ],
           "sequentialminus": [
            [
             0,
             "#0d0887"
            ],
            [
             0.1111111111111111,
             "#46039f"
            ],
            [
             0.2222222222222222,
             "#7201a8"
            ],
            [
             0.3333333333333333,
             "#9c179e"
            ],
            [
             0.4444444444444444,
             "#bd3786"
            ],
            [
             0.5555555555555556,
             "#d8576b"
            ],
            [
             0.6666666666666666,
             "#ed7953"
            ],
            [
             0.7777777777777778,
             "#fb9f3a"
            ],
            [
             0.8888888888888888,
             "#fdca26"
            ],
            [
             1,
             "#f0f921"
            ]
           ]
          },
          "colorway": [
           "#636efa",
           "#EF553B",
           "#00cc96",
           "#ab63fa",
           "#FFA15A",
           "#19d3f3",
           "#FF6692",
           "#B6E880",
           "#FF97FF",
           "#FECB52"
          ],
          "font": {
           "color": "#2a3f5f"
          },
          "geo": {
           "bgcolor": "white",
           "lakecolor": "white",
           "landcolor": "#E5ECF6",
           "showlakes": true,
           "showland": true,
           "subunitcolor": "white"
          },
          "hoverlabel": {
           "align": "left"
          },
          "hovermode": "closest",
          "mapbox": {
           "style": "light"
          },
          "paper_bgcolor": "white",
          "plot_bgcolor": "#E5ECF6",
          "polar": {
           "angularaxis": {
            "gridcolor": "white",
            "linecolor": "white",
            "ticks": ""
           },
           "bgcolor": "#E5ECF6",
           "radialaxis": {
            "gridcolor": "white",
            "linecolor": "white",
            "ticks": ""
           }
          },
          "scene": {
           "xaxis": {
            "backgroundcolor": "#E5ECF6",
            "gridcolor": "white",
            "gridwidth": 2,
            "linecolor": "white",
            "showbackground": true,
            "ticks": "",
            "zerolinecolor": "white"
           },
           "yaxis": {
            "backgroundcolor": "#E5ECF6",
            "gridcolor": "white",
            "gridwidth": 2,
            "linecolor": "white",
            "showbackground": true,
            "ticks": "",
            "zerolinecolor": "white"
           },
           "zaxis": {
            "backgroundcolor": "#E5ECF6",
            "gridcolor": "white",
            "gridwidth": 2,
            "linecolor": "white",
            "showbackground": true,
            "ticks": "",
            "zerolinecolor": "white"
           }
          },
          "shapedefaults": {
           "line": {
            "color": "#2a3f5f"
           }
          },
          "ternary": {
           "aaxis": {
            "gridcolor": "white",
            "linecolor": "white",
            "ticks": ""
           },
           "baxis": {
            "gridcolor": "white",
            "linecolor": "white",
            "ticks": ""
           },
           "bgcolor": "#E5ECF6",
           "caxis": {
            "gridcolor": "white",
            "linecolor": "white",
            "ticks": ""
           }
          },
          "title": {
           "x": 0.05
          },
          "xaxis": {
           "automargin": true,
           "gridcolor": "white",
           "linecolor": "white",
           "ticks": "",
           "title": {
            "standoff": 15
           },
           "zerolinecolor": "white",
           "zerolinewidth": 2
          },
          "yaxis": {
           "automargin": true,
           "gridcolor": "white",
           "linecolor": "white",
           "ticks": "",
           "title": {
            "standoff": 15
           },
           "zerolinecolor": "white",
           "zerolinewidth": 2
          }
         }
        },
        "xaxis": {
         "anchor": "y",
         "domain": [
          0,
          1
         ],
         "title": {
          "text": "sentiment_polarity"
         }
        },
        "yaxis": {
         "anchor": "x",
         "domain": [
          0,
          1
         ],
         "title": {
          "text": "count"
         }
        }
       }
      }
     },
     "metadata": {},
     "output_type": "display_data"
    },
    {
     "data": {
      "application/vnd.plotly.v1+json": {
       "config": {
        "plotlyServerURL": "https://plot.ly"
       },
       "data": [
        {
         "alignmentgroup": "True",
         "bingroup": "x",
         "hovertemplate": "sentiment_subjectivity=%{x}<br>count=%{y}<extra></extra>",
         "legendgroup": "",
         "marker": {
          "color": "#636efa",
          "pattern": {
           "shape": ""
          }
         },
         "name": "",
         "offsetgroup": "",
         "orientation": "v",
         "showlegend": false,
         "type": "histogram",
         "x": [
          0.5537737317149082,
          0.41340504037872455,
          0.3833333333333333,
          0.5172563295290569,
          0.5118008123563679,
          0.5166666666666666,
          0.5540381994548661,
          0.5059567901234567,
          0.6395833333333334,
          0.4677228327228327,
          0.5989108618654073,
          0.49271825396825397,
          0.5479024943310657,
          0.5305555555555556,
          0.6111111111111112,
          0.4066383219954649,
          0.7555555555555555,
          0.3330357142857143,
          0.5451262626262626,
          0.4894642857142857,
          0.6461309523809524,
          0.5944444444444444,
          0.47350000000000003,
          0.5186329966329966,
          0.5604146409146409,
          0.42340067340067344,
          0.49639455782312925,
          0.3646212121212121,
          0.37628787878787884,
          0.6083333333333334,
          0.5109923469387756,
          0.43871993746993737,
          0.3888888888888889,
          0.37583333333333335,
          0.7625,
          null,
          0.45876543209876547,
          null,
          0.42883361678004533,
          0.37222222222222223,
          0.4789682539682539,
          0.4458066239316239,
          0.4624781510576965,
          0.53125,
          0.5490674603174602,
          null,
          0.5285493827160493,
          0.5820939554272887,
          0.3969336219336219,
          0.6610852573352574,
          0.5254058441558441,
          0.33955555555555555,
          0.6166666666666667,
          0.7125,
          0.41828689388213197,
          0.725,
          0.2911904761904762,
          0.43879012345679014,
          0.40099999999999997,
          0.81375,
          0.40728926166426166,
          0.4825396825396826,
          0.48854166666666665,
          null,
          0.507904761904762,
          null,
          null,
          0.4887896825396825,
          0.2833333333333333,
          0.3333333333333333,
          0.595,
          0.36607645826395824,
          0.4652777777777778,
          0.7391233766233767,
          0.59998556998557,
          0.646875,
          0.5183585858585859,
          0,
          0.5377994906096409,
          0.4728835978835979,
          0.48977272727272725,
          0.5155092592592593,
          null,
          0.7464120370370371,
          0.27459935897435894,
          null,
          0.5247225935828878,
          0.43468750000000006,
          0.3834160052910053,
          0.5234126984126984,
          0.5228125,
          0.5899286165223665,
          0.4278894927536232,
          0.55625,
          0.975,
          0.4525765091390091,
          0.35357142857142854,
          null,
          0.4116927566481138,
          0.47025355596784163,
          0.5344500950141976,
          0.5092960858585859,
          0.49583333333333335,
          0.85,
          0.5661849446849447,
          0.5401851851851852,
          0.379905303030303,
          0.5130208333333334
         ],
         "xaxis": "x",
         "yaxis": "y"
        }
       ],
       "layout": {
        "barmode": "relative",
        "legend": {
         "tracegroupgap": 0
        },
        "margin": {
         "t": 60
        },
        "template": {
         "data": {
          "bar": [
           {
            "error_x": {
             "color": "#2a3f5f"
            },
            "error_y": {
             "color": "#2a3f5f"
            },
            "marker": {
             "line": {
              "color": "#E5ECF6",
              "width": 0.5
             },
             "pattern": {
              "fillmode": "overlay",
              "size": 10,
              "solidity": 0.2
             }
            },
            "type": "bar"
           }
          ],
          "barpolar": [
           {
            "marker": {
             "line": {
              "color": "#E5ECF6",
              "width": 0.5
             },
             "pattern": {
              "fillmode": "overlay",
              "size": 10,
              "solidity": 0.2
             }
            },
            "type": "barpolar"
           }
          ],
          "carpet": [
           {
            "aaxis": {
             "endlinecolor": "#2a3f5f",
             "gridcolor": "white",
             "linecolor": "white",
             "minorgridcolor": "white",
             "startlinecolor": "#2a3f5f"
            },
            "baxis": {
             "endlinecolor": "#2a3f5f",
             "gridcolor": "white",
             "linecolor": "white",
             "minorgridcolor": "white",
             "startlinecolor": "#2a3f5f"
            },
            "type": "carpet"
           }
          ],
          "choropleth": [
           {
            "colorbar": {
             "outlinewidth": 0,
             "ticks": ""
            },
            "type": "choropleth"
           }
          ],
          "contour": [
           {
            "colorbar": {
             "outlinewidth": 0,
             "ticks": ""
            },
            "colorscale": [
             [
              0,
              "#0d0887"
             ],
             [
              0.1111111111111111,
              "#46039f"
             ],
             [
              0.2222222222222222,
              "#7201a8"
             ],
             [
              0.3333333333333333,
              "#9c179e"
             ],
             [
              0.4444444444444444,
              "#bd3786"
             ],
             [
              0.5555555555555556,
              "#d8576b"
             ],
             [
              0.6666666666666666,
              "#ed7953"
             ],
             [
              0.7777777777777778,
              "#fb9f3a"
             ],
             [
              0.8888888888888888,
              "#fdca26"
             ],
             [
              1,
              "#f0f921"
             ]
            ],
            "type": "contour"
           }
          ],
          "contourcarpet": [
           {
            "colorbar": {
             "outlinewidth": 0,
             "ticks": ""
            },
            "type": "contourcarpet"
           }
          ],
          "heatmap": [
           {
            "colorbar": {
             "outlinewidth": 0,
             "ticks": ""
            },
            "colorscale": [
             [
              0,
              "#0d0887"
             ],
             [
              0.1111111111111111,
              "#46039f"
             ],
             [
              0.2222222222222222,
              "#7201a8"
             ],
             [
              0.3333333333333333,
              "#9c179e"
             ],
             [
              0.4444444444444444,
              "#bd3786"
             ],
             [
              0.5555555555555556,
              "#d8576b"
             ],
             [
              0.6666666666666666,
              "#ed7953"
             ],
             [
              0.7777777777777778,
              "#fb9f3a"
             ],
             [
              0.8888888888888888,
              "#fdca26"
             ],
             [
              1,
              "#f0f921"
             ]
            ],
            "type": "heatmap"
           }
          ],
          "heatmapgl": [
           {
            "colorbar": {
             "outlinewidth": 0,
             "ticks": ""
            },
            "colorscale": [
             [
              0,
              "#0d0887"
             ],
             [
              0.1111111111111111,
              "#46039f"
             ],
             [
              0.2222222222222222,
              "#7201a8"
             ],
             [
              0.3333333333333333,
              "#9c179e"
             ],
             [
              0.4444444444444444,
              "#bd3786"
             ],
             [
              0.5555555555555556,
              "#d8576b"
             ],
             [
              0.6666666666666666,
              "#ed7953"
             ],
             [
              0.7777777777777778,
              "#fb9f3a"
             ],
             [
              0.8888888888888888,
              "#fdca26"
             ],
             [
              1,
              "#f0f921"
             ]
            ],
            "type": "heatmapgl"
           }
          ],
          "histogram": [
           {
            "marker": {
             "pattern": {
              "fillmode": "overlay",
              "size": 10,
              "solidity": 0.2
             }
            },
            "type": "histogram"
           }
          ],
          "histogram2d": [
           {
            "colorbar": {
             "outlinewidth": 0,
             "ticks": ""
            },
            "colorscale": [
             [
              0,
              "#0d0887"
             ],
             [
              0.1111111111111111,
              "#46039f"
             ],
             [
              0.2222222222222222,
              "#7201a8"
             ],
             [
              0.3333333333333333,
              "#9c179e"
             ],
             [
              0.4444444444444444,
              "#bd3786"
             ],
             [
              0.5555555555555556,
              "#d8576b"
             ],
             [
              0.6666666666666666,
              "#ed7953"
             ],
             [
              0.7777777777777778,
              "#fb9f3a"
             ],
             [
              0.8888888888888888,
              "#fdca26"
             ],
             [
              1,
              "#f0f921"
             ]
            ],
            "type": "histogram2d"
           }
          ],
          "histogram2dcontour": [
           {
            "colorbar": {
             "outlinewidth": 0,
             "ticks": ""
            },
            "colorscale": [
             [
              0,
              "#0d0887"
             ],
             [
              0.1111111111111111,
              "#46039f"
             ],
             [
              0.2222222222222222,
              "#7201a8"
             ],
             [
              0.3333333333333333,
              "#9c179e"
             ],
             [
              0.4444444444444444,
              "#bd3786"
             ],
             [
              0.5555555555555556,
              "#d8576b"
             ],
             [
              0.6666666666666666,
              "#ed7953"
             ],
             [
              0.7777777777777778,
              "#fb9f3a"
             ],
             [
              0.8888888888888888,
              "#fdca26"
             ],
             [
              1,
              "#f0f921"
             ]
            ],
            "type": "histogram2dcontour"
           }
          ],
          "mesh3d": [
           {
            "colorbar": {
             "outlinewidth": 0,
             "ticks": ""
            },
            "type": "mesh3d"
           }
          ],
          "parcoords": [
           {
            "line": {
             "colorbar": {
              "outlinewidth": 0,
              "ticks": ""
             }
            },
            "type": "parcoords"
           }
          ],
          "pie": [
           {
            "automargin": true,
            "type": "pie"
           }
          ],
          "scatter": [
           {
            "fillpattern": {
             "fillmode": "overlay",
             "size": 10,
             "solidity": 0.2
            },
            "type": "scatter"
           }
          ],
          "scatter3d": [
           {
            "line": {
             "colorbar": {
              "outlinewidth": 0,
              "ticks": ""
             }
            },
            "marker": {
             "colorbar": {
              "outlinewidth": 0,
              "ticks": ""
             }
            },
            "type": "scatter3d"
           }
          ],
          "scattercarpet": [
           {
            "marker": {
             "colorbar": {
              "outlinewidth": 0,
              "ticks": ""
             }
            },
            "type": "scattercarpet"
           }
          ],
          "scattergeo": [
           {
            "marker": {
             "colorbar": {
              "outlinewidth": 0,
              "ticks": ""
             }
            },
            "type": "scattergeo"
           }
          ],
          "scattergl": [
           {
            "marker": {
             "colorbar": {
              "outlinewidth": 0,
              "ticks": ""
             }
            },
            "type": "scattergl"
           }
          ],
          "scattermapbox": [
           {
            "marker": {
             "colorbar": {
              "outlinewidth": 0,
              "ticks": ""
             }
            },
            "type": "scattermapbox"
           }
          ],
          "scatterpolar": [
           {
            "marker": {
             "colorbar": {
              "outlinewidth": 0,
              "ticks": ""
             }
            },
            "type": "scatterpolar"
           }
          ],
          "scatterpolargl": [
           {
            "marker": {
             "colorbar": {
              "outlinewidth": 0,
              "ticks": ""
             }
            },
            "type": "scatterpolargl"
           }
          ],
          "scatterternary": [
           {
            "marker": {
             "colorbar": {
              "outlinewidth": 0,
              "ticks": ""
             }
            },
            "type": "scatterternary"
           }
          ],
          "surface": [
           {
            "colorbar": {
             "outlinewidth": 0,
             "ticks": ""
            },
            "colorscale": [
             [
              0,
              "#0d0887"
             ],
             [
              0.1111111111111111,
              "#46039f"
             ],
             [
              0.2222222222222222,
              "#7201a8"
             ],
             [
              0.3333333333333333,
              "#9c179e"
             ],
             [
              0.4444444444444444,
              "#bd3786"
             ],
             [
              0.5555555555555556,
              "#d8576b"
             ],
             [
              0.6666666666666666,
              "#ed7953"
             ],
             [
              0.7777777777777778,
              "#fb9f3a"
             ],
             [
              0.8888888888888888,
              "#fdca26"
             ],
             [
              1,
              "#f0f921"
             ]
            ],
            "type": "surface"
           }
          ],
          "table": [
           {
            "cells": {
             "fill": {
              "color": "#EBF0F8"
             },
             "line": {
              "color": "white"
             }
            },
            "header": {
             "fill": {
              "color": "#C8D4E3"
             },
             "line": {
              "color": "white"
             }
            },
            "type": "table"
           }
          ]
         },
         "layout": {
          "annotationdefaults": {
           "arrowcolor": "#2a3f5f",
           "arrowhead": 0,
           "arrowwidth": 1
          },
          "autotypenumbers": "strict",
          "coloraxis": {
           "colorbar": {
            "outlinewidth": 0,
            "ticks": ""
           }
          },
          "colorscale": {
           "diverging": [
            [
             0,
             "#8e0152"
            ],
            [
             0.1,
             "#c51b7d"
            ],
            [
             0.2,
             "#de77ae"
            ],
            [
             0.3,
             "#f1b6da"
            ],
            [
             0.4,
             "#fde0ef"
            ],
            [
             0.5,
             "#f7f7f7"
            ],
            [
             0.6,
             "#e6f5d0"
            ],
            [
             0.7,
             "#b8e186"
            ],
            [
             0.8,
             "#7fbc41"
            ],
            [
             0.9,
             "#4d9221"
            ],
            [
             1,
             "#276419"
            ]
           ],
           "sequential": [
            [
             0,
             "#0d0887"
            ],
            [
             0.1111111111111111,
             "#46039f"
            ],
            [
             0.2222222222222222,
             "#7201a8"
            ],
            [
             0.3333333333333333,
             "#9c179e"
            ],
            [
             0.4444444444444444,
             "#bd3786"
            ],
            [
             0.5555555555555556,
             "#d8576b"
            ],
            [
             0.6666666666666666,
             "#ed7953"
            ],
            [
             0.7777777777777778,
             "#fb9f3a"
            ],
            [
             0.8888888888888888,
             "#fdca26"
            ],
            [
             1,
             "#f0f921"
            ]
           ],
           "sequentialminus": [
            [
             0,
             "#0d0887"
            ],
            [
             0.1111111111111111,
             "#46039f"
            ],
            [
             0.2222222222222222,
             "#7201a8"
            ],
            [
             0.3333333333333333,
             "#9c179e"
            ],
            [
             0.4444444444444444,
             "#bd3786"
            ],
            [
             0.5555555555555556,
             "#d8576b"
            ],
            [
             0.6666666666666666,
             "#ed7953"
            ],
            [
             0.7777777777777778,
             "#fb9f3a"
            ],
            [
             0.8888888888888888,
             "#fdca26"
            ],
            [
             1,
             "#f0f921"
            ]
           ]
          },
          "colorway": [
           "#636efa",
           "#EF553B",
           "#00cc96",
           "#ab63fa",
           "#FFA15A",
           "#19d3f3",
           "#FF6692",
           "#B6E880",
           "#FF97FF",
           "#FECB52"
          ],
          "font": {
           "color": "#2a3f5f"
          },
          "geo": {
           "bgcolor": "white",
           "lakecolor": "white",
           "landcolor": "#E5ECF6",
           "showlakes": true,
           "showland": true,
           "subunitcolor": "white"
          },
          "hoverlabel": {
           "align": "left"
          },
          "hovermode": "closest",
          "mapbox": {
           "style": "light"
          },
          "paper_bgcolor": "white",
          "plot_bgcolor": "#E5ECF6",
          "polar": {
           "angularaxis": {
            "gridcolor": "white",
            "linecolor": "white",
            "ticks": ""
           },
           "bgcolor": "#E5ECF6",
           "radialaxis": {
            "gridcolor": "white",
            "linecolor": "white",
            "ticks": ""
           }
          },
          "scene": {
           "xaxis": {
            "backgroundcolor": "#E5ECF6",
            "gridcolor": "white",
            "gridwidth": 2,
            "linecolor": "white",
            "showbackground": true,
            "ticks": "",
            "zerolinecolor": "white"
           },
           "yaxis": {
            "backgroundcolor": "#E5ECF6",
            "gridcolor": "white",
            "gridwidth": 2,
            "linecolor": "white",
            "showbackground": true,
            "ticks": "",
            "zerolinecolor": "white"
           },
           "zaxis": {
            "backgroundcolor": "#E5ECF6",
            "gridcolor": "white",
            "gridwidth": 2,
            "linecolor": "white",
            "showbackground": true,
            "ticks": "",
            "zerolinecolor": "white"
           }
          },
          "shapedefaults": {
           "line": {
            "color": "#2a3f5f"
           }
          },
          "ternary": {
           "aaxis": {
            "gridcolor": "white",
            "linecolor": "white",
            "ticks": ""
           },
           "baxis": {
            "gridcolor": "white",
            "linecolor": "white",
            "ticks": ""
           },
           "bgcolor": "#E5ECF6",
           "caxis": {
            "gridcolor": "white",
            "linecolor": "white",
            "ticks": ""
           }
          },
          "title": {
           "x": 0.05
          },
          "xaxis": {
           "automargin": true,
           "gridcolor": "white",
           "linecolor": "white",
           "ticks": "",
           "title": {
            "standoff": 15
           },
           "zerolinecolor": "white",
           "zerolinewidth": 2
          },
          "yaxis": {
           "automargin": true,
           "gridcolor": "white",
           "linecolor": "white",
           "ticks": "",
           "title": {
            "standoff": 15
           },
           "zerolinecolor": "white",
           "zerolinewidth": 2
          }
         }
        },
        "xaxis": {
         "anchor": "y",
         "domain": [
          0,
          1
         ],
         "title": {
          "text": "sentiment_subjectivity"
         }
        },
        "yaxis": {
         "anchor": "x",
         "domain": [
          0,
          1
         ],
         "title": {
          "text": "count"
         }
        }
       }
      }
     },
     "metadata": {},
     "output_type": "display_data"
    },
    {
     "data": {
      "application/vnd.plotly.v1+json": {
       "config": {
        "plotlyServerURL": "https://plot.ly"
       },
       "data": [
        {
         "alignmentgroup": "True",
         "bingroup": "x",
         "hovertemplate": "n_votes=%{x}<br>count=%{y}<extra></extra>",
         "legendgroup": "",
         "marker": {
          "color": "#636efa",
          "pattern": {
           "shape": ""
          }
         },
         "name": "",
         "offsetgroup": "",
         "orientation": "v",
         "showlegend": false,
         "type": "histogram",
         "x": [
          25,
          7,
          2,
          15,
          19,
          6,
          8,
          14,
          10,
          25,
          15,
          7,
          3,
          0,
          9,
          6,
          7,
          4,
          15,
          9,
          4,
          20,
          5,
          29,
          9,
          13,
          13,
          7,
          10,
          7,
          11,
          7,
          5,
          5,
          6,
          0,
          13,
          4,
          10,
          4,
          4,
          5,
          5,
          3,
          12,
          1,
          10,
          11,
          10,
          9,
          5,
          5,
          4,
          4,
          12,
          5,
          2,
          3,
          6,
          11,
          9,
          11,
          12,
          5,
          4,
          4,
          1,
          10,
          2,
          3,
          4,
          28,
          9,
          7,
          3,
          9,
          4,
          2,
          9,
          7,
          5,
          11,
          4,
          9,
          4,
          1,
          12,
          8,
          7,
          7,
          9,
          7,
          10,
          4,
          2,
          15,
          1,
          2,
          10,
          5,
          21,
          4,
          4,
          4,
          20,
          6,
          6,
          0
         ],
         "xaxis": "x",
         "yaxis": "y"
        }
       ],
       "layout": {
        "barmode": "relative",
        "legend": {
         "tracegroupgap": 0
        },
        "margin": {
         "t": 60
        },
        "template": {
         "data": {
          "bar": [
           {
            "error_x": {
             "color": "#2a3f5f"
            },
            "error_y": {
             "color": "#2a3f5f"
            },
            "marker": {
             "line": {
              "color": "#E5ECF6",
              "width": 0.5
             },
             "pattern": {
              "fillmode": "overlay",
              "size": 10,
              "solidity": 0.2
             }
            },
            "type": "bar"
           }
          ],
          "barpolar": [
           {
            "marker": {
             "line": {
              "color": "#E5ECF6",
              "width": 0.5
             },
             "pattern": {
              "fillmode": "overlay",
              "size": 10,
              "solidity": 0.2
             }
            },
            "type": "barpolar"
           }
          ],
          "carpet": [
           {
            "aaxis": {
             "endlinecolor": "#2a3f5f",
             "gridcolor": "white",
             "linecolor": "white",
             "minorgridcolor": "white",
             "startlinecolor": "#2a3f5f"
            },
            "baxis": {
             "endlinecolor": "#2a3f5f",
             "gridcolor": "white",
             "linecolor": "white",
             "minorgridcolor": "white",
             "startlinecolor": "#2a3f5f"
            },
            "type": "carpet"
           }
          ],
          "choropleth": [
           {
            "colorbar": {
             "outlinewidth": 0,
             "ticks": ""
            },
            "type": "choropleth"
           }
          ],
          "contour": [
           {
            "colorbar": {
             "outlinewidth": 0,
             "ticks": ""
            },
            "colorscale": [
             [
              0,
              "#0d0887"
             ],
             [
              0.1111111111111111,
              "#46039f"
             ],
             [
              0.2222222222222222,
              "#7201a8"
             ],
             [
              0.3333333333333333,
              "#9c179e"
             ],
             [
              0.4444444444444444,
              "#bd3786"
             ],
             [
              0.5555555555555556,
              "#d8576b"
             ],
             [
              0.6666666666666666,
              "#ed7953"
             ],
             [
              0.7777777777777778,
              "#fb9f3a"
             ],
             [
              0.8888888888888888,
              "#fdca26"
             ],
             [
              1,
              "#f0f921"
             ]
            ],
            "type": "contour"
           }
          ],
          "contourcarpet": [
           {
            "colorbar": {
             "outlinewidth": 0,
             "ticks": ""
            },
            "type": "contourcarpet"
           }
          ],
          "heatmap": [
           {
            "colorbar": {
             "outlinewidth": 0,
             "ticks": ""
            },
            "colorscale": [
             [
              0,
              "#0d0887"
             ],
             [
              0.1111111111111111,
              "#46039f"
             ],
             [
              0.2222222222222222,
              "#7201a8"
             ],
             [
              0.3333333333333333,
              "#9c179e"
             ],
             [
              0.4444444444444444,
              "#bd3786"
             ],
             [
              0.5555555555555556,
              "#d8576b"
             ],
             [
              0.6666666666666666,
              "#ed7953"
             ],
             [
              0.7777777777777778,
              "#fb9f3a"
             ],
             [
              0.8888888888888888,
              "#fdca26"
             ],
             [
              1,
              "#f0f921"
             ]
            ],
            "type": "heatmap"
           }
          ],
          "heatmapgl": [
           {
            "colorbar": {
             "outlinewidth": 0,
             "ticks": ""
            },
            "colorscale": [
             [
              0,
              "#0d0887"
             ],
             [
              0.1111111111111111,
              "#46039f"
             ],
             [
              0.2222222222222222,
              "#7201a8"
             ],
             [
              0.3333333333333333,
              "#9c179e"
             ],
             [
              0.4444444444444444,
              "#bd3786"
             ],
             [
              0.5555555555555556,
              "#d8576b"
             ],
             [
              0.6666666666666666,
              "#ed7953"
             ],
             [
              0.7777777777777778,
              "#fb9f3a"
             ],
             [
              0.8888888888888888,
              "#fdca26"
             ],
             [
              1,
              "#f0f921"
             ]
            ],
            "type": "heatmapgl"
           }
          ],
          "histogram": [
           {
            "marker": {
             "pattern": {
              "fillmode": "overlay",
              "size": 10,
              "solidity": 0.2
             }
            },
            "type": "histogram"
           }
          ],
          "histogram2d": [
           {
            "colorbar": {
             "outlinewidth": 0,
             "ticks": ""
            },
            "colorscale": [
             [
              0,
              "#0d0887"
             ],
             [
              0.1111111111111111,
              "#46039f"
             ],
             [
              0.2222222222222222,
              "#7201a8"
             ],
             [
              0.3333333333333333,
              "#9c179e"
             ],
             [
              0.4444444444444444,
              "#bd3786"
             ],
             [
              0.5555555555555556,
              "#d8576b"
             ],
             [
              0.6666666666666666,
              "#ed7953"
             ],
             [
              0.7777777777777778,
              "#fb9f3a"
             ],
             [
              0.8888888888888888,
              "#fdca26"
             ],
             [
              1,
              "#f0f921"
             ]
            ],
            "type": "histogram2d"
           }
          ],
          "histogram2dcontour": [
           {
            "colorbar": {
             "outlinewidth": 0,
             "ticks": ""
            },
            "colorscale": [
             [
              0,
              "#0d0887"
             ],
             [
              0.1111111111111111,
              "#46039f"
             ],
             [
              0.2222222222222222,
              "#7201a8"
             ],
             [
              0.3333333333333333,
              "#9c179e"
             ],
             [
              0.4444444444444444,
              "#bd3786"
             ],
             [
              0.5555555555555556,
              "#d8576b"
             ],
             [
              0.6666666666666666,
              "#ed7953"
             ],
             [
              0.7777777777777778,
              "#fb9f3a"
             ],
             [
              0.8888888888888888,
              "#fdca26"
             ],
             [
              1,
              "#f0f921"
             ]
            ],
            "type": "histogram2dcontour"
           }
          ],
          "mesh3d": [
           {
            "colorbar": {
             "outlinewidth": 0,
             "ticks": ""
            },
            "type": "mesh3d"
           }
          ],
          "parcoords": [
           {
            "line": {
             "colorbar": {
              "outlinewidth": 0,
              "ticks": ""
             }
            },
            "type": "parcoords"
           }
          ],
          "pie": [
           {
            "automargin": true,
            "type": "pie"
           }
          ],
          "scatter": [
           {
            "fillpattern": {
             "fillmode": "overlay",
             "size": 10,
             "solidity": 0.2
            },
            "type": "scatter"
           }
          ],
          "scatter3d": [
           {
            "line": {
             "colorbar": {
              "outlinewidth": 0,
              "ticks": ""
             }
            },
            "marker": {
             "colorbar": {
              "outlinewidth": 0,
              "ticks": ""
             }
            },
            "type": "scatter3d"
           }
          ],
          "scattercarpet": [
           {
            "marker": {
             "colorbar": {
              "outlinewidth": 0,
              "ticks": ""
             }
            },
            "type": "scattercarpet"
           }
          ],
          "scattergeo": [
           {
            "marker": {
             "colorbar": {
              "outlinewidth": 0,
              "ticks": ""
             }
            },
            "type": "scattergeo"
           }
          ],
          "scattergl": [
           {
            "marker": {
             "colorbar": {
              "outlinewidth": 0,
              "ticks": ""
             }
            },
            "type": "scattergl"
           }
          ],
          "scattermapbox": [
           {
            "marker": {
             "colorbar": {
              "outlinewidth": 0,
              "ticks": ""
             }
            },
            "type": "scattermapbox"
           }
          ],
          "scatterpolar": [
           {
            "marker": {
             "colorbar": {
              "outlinewidth": 0,
              "ticks": ""
             }
            },
            "type": "scatterpolar"
           }
          ],
          "scatterpolargl": [
           {
            "marker": {
             "colorbar": {
              "outlinewidth": 0,
              "ticks": ""
             }
            },
            "type": "scatterpolargl"
           }
          ],
          "scatterternary": [
           {
            "marker": {
             "colorbar": {
              "outlinewidth": 0,
              "ticks": ""
             }
            },
            "type": "scatterternary"
           }
          ],
          "surface": [
           {
            "colorbar": {
             "outlinewidth": 0,
             "ticks": ""
            },
            "colorscale": [
             [
              0,
              "#0d0887"
             ],
             [
              0.1111111111111111,
              "#46039f"
             ],
             [
              0.2222222222222222,
              "#7201a8"
             ],
             [
              0.3333333333333333,
              "#9c179e"
             ],
             [
              0.4444444444444444,
              "#bd3786"
             ],
             [
              0.5555555555555556,
              "#d8576b"
             ],
             [
              0.6666666666666666,
              "#ed7953"
             ],
             [
              0.7777777777777778,
              "#fb9f3a"
             ],
             [
              0.8888888888888888,
              "#fdca26"
             ],
             [
              1,
              "#f0f921"
             ]
            ],
            "type": "surface"
           }
          ],
          "table": [
           {
            "cells": {
             "fill": {
              "color": "#EBF0F8"
             },
             "line": {
              "color": "white"
             }
            },
            "header": {
             "fill": {
              "color": "#C8D4E3"
             },
             "line": {
              "color": "white"
             }
            },
            "type": "table"
           }
          ]
         },
         "layout": {
          "annotationdefaults": {
           "arrowcolor": "#2a3f5f",
           "arrowhead": 0,
           "arrowwidth": 1
          },
          "autotypenumbers": "strict",
          "coloraxis": {
           "colorbar": {
            "outlinewidth": 0,
            "ticks": ""
           }
          },
          "colorscale": {
           "diverging": [
            [
             0,
             "#8e0152"
            ],
            [
             0.1,
             "#c51b7d"
            ],
            [
             0.2,
             "#de77ae"
            ],
            [
             0.3,
             "#f1b6da"
            ],
            [
             0.4,
             "#fde0ef"
            ],
            [
             0.5,
             "#f7f7f7"
            ],
            [
             0.6,
             "#e6f5d0"
            ],
            [
             0.7,
             "#b8e186"
            ],
            [
             0.8,
             "#7fbc41"
            ],
            [
             0.9,
             "#4d9221"
            ],
            [
             1,
             "#276419"
            ]
           ],
           "sequential": [
            [
             0,
             "#0d0887"
            ],
            [
             0.1111111111111111,
             "#46039f"
            ],
            [
             0.2222222222222222,
             "#7201a8"
            ],
            [
             0.3333333333333333,
             "#9c179e"
            ],
            [
             0.4444444444444444,
             "#bd3786"
            ],
            [
             0.5555555555555556,
             "#d8576b"
            ],
            [
             0.6666666666666666,
             "#ed7953"
            ],
            [
             0.7777777777777778,
             "#fb9f3a"
            ],
            [
             0.8888888888888888,
             "#fdca26"
            ],
            [
             1,
             "#f0f921"
            ]
           ],
           "sequentialminus": [
            [
             0,
             "#0d0887"
            ],
            [
             0.1111111111111111,
             "#46039f"
            ],
            [
             0.2222222222222222,
             "#7201a8"
            ],
            [
             0.3333333333333333,
             "#9c179e"
            ],
            [
             0.4444444444444444,
             "#bd3786"
            ],
            [
             0.5555555555555556,
             "#d8576b"
            ],
            [
             0.6666666666666666,
             "#ed7953"
            ],
            [
             0.7777777777777778,
             "#fb9f3a"
            ],
            [
             0.8888888888888888,
             "#fdca26"
            ],
            [
             1,
             "#f0f921"
            ]
           ]
          },
          "colorway": [
           "#636efa",
           "#EF553B",
           "#00cc96",
           "#ab63fa",
           "#FFA15A",
           "#19d3f3",
           "#FF6692",
           "#B6E880",
           "#FF97FF",
           "#FECB52"
          ],
          "font": {
           "color": "#2a3f5f"
          },
          "geo": {
           "bgcolor": "white",
           "lakecolor": "white",
           "landcolor": "#E5ECF6",
           "showlakes": true,
           "showland": true,
           "subunitcolor": "white"
          },
          "hoverlabel": {
           "align": "left"
          },
          "hovermode": "closest",
          "mapbox": {
           "style": "light"
          },
          "paper_bgcolor": "white",
          "plot_bgcolor": "#E5ECF6",
          "polar": {
           "angularaxis": {
            "gridcolor": "white",
            "linecolor": "white",
            "ticks": ""
           },
           "bgcolor": "#E5ECF6",
           "radialaxis": {
            "gridcolor": "white",
            "linecolor": "white",
            "ticks": ""
           }
          },
          "scene": {
           "xaxis": {
            "backgroundcolor": "#E5ECF6",
            "gridcolor": "white",
            "gridwidth": 2,
            "linecolor": "white",
            "showbackground": true,
            "ticks": "",
            "zerolinecolor": "white"
           },
           "yaxis": {
            "backgroundcolor": "#E5ECF6",
            "gridcolor": "white",
            "gridwidth": 2,
            "linecolor": "white",
            "showbackground": true,
            "ticks": "",
            "zerolinecolor": "white"
           },
           "zaxis": {
            "backgroundcolor": "#E5ECF6",
            "gridcolor": "white",
            "gridwidth": 2,
            "linecolor": "white",
            "showbackground": true,
            "ticks": "",
            "zerolinecolor": "white"
           }
          },
          "shapedefaults": {
           "line": {
            "color": "#2a3f5f"
           }
          },
          "ternary": {
           "aaxis": {
            "gridcolor": "white",
            "linecolor": "white",
            "ticks": ""
           },
           "baxis": {
            "gridcolor": "white",
            "linecolor": "white",
            "ticks": ""
           },
           "bgcolor": "#E5ECF6",
           "caxis": {
            "gridcolor": "white",
            "linecolor": "white",
            "ticks": ""
           }
          },
          "title": {
           "x": 0.05
          },
          "xaxis": {
           "automargin": true,
           "gridcolor": "white",
           "linecolor": "white",
           "ticks": "",
           "title": {
            "standoff": 15
           },
           "zerolinecolor": "white",
           "zerolinewidth": 2
          },
          "yaxis": {
           "automargin": true,
           "gridcolor": "white",
           "linecolor": "white",
           "ticks": "",
           "title": {
            "standoff": 15
           },
           "zerolinecolor": "white",
           "zerolinewidth": 2
          }
         }
        },
        "xaxis": {
         "anchor": "y",
         "domain": [
          0,
          1
         ],
         "title": {
          "text": "n_votes"
         }
        },
        "yaxis": {
         "anchor": "x",
         "domain": [
          0,
          1
         ],
         "title": {
          "text": "count"
         }
        }
       }
      }
     },
     "metadata": {},
     "output_type": "display_data"
    },
    {
     "data": {
      "application/vnd.plotly.v1+json": {
       "config": {
        "plotlyServerURL": "https://plot.ly"
       },
       "data": [
        {
         "alignmentgroup": "True",
         "bingroup": "x",
         "hovertemplate": "comment_count=%{x}<br>count=%{y}<extra></extra>",
         "legendgroup": "",
         "marker": {
          "color": "#636efa",
          "pattern": {
           "shape": ""
          }
         },
         "name": "",
         "offsetgroup": "",
         "orientation": "v",
         "showlegend": false,
         "type": "histogram",
         "x": [
          17,
          7,
          2,
          10,
          9,
          1,
          6,
          9,
          4,
          13,
          11,
          4,
          1,
          3,
          3,
          7,
          3,
          1,
          12,
          2,
          4,
          3,
          5,
          10,
          5,
          6,
          6,
          2,
          5,
          3,
          10,
          6,
          2,
          2,
          2,
          0,
          6,
          0,
          7,
          1,
          3,
          4,
          6,
          2,
          6,
          0,
          3,
          9,
          3,
          6,
          2,
          4,
          3,
          1,
          14,
          3,
          3,
          5,
          5,
          4,
          4,
          4,
          2,
          0,
          5,
          0,
          0,
          3,
          1,
          1,
          2,
          8,
          2,
          2,
          7,
          4,
          3,
          1,
          7,
          6,
          2,
          3,
          0,
          2,
          4,
          0,
          6,
          6,
          4,
          3,
          8,
          8,
          4,
          1,
          1,
          6,
          2,
          0,
          4,
          1,
          13,
          3,
          2,
          2,
          15,
          1,
          4,
          4
         ],
         "xaxis": "x",
         "yaxis": "y"
        }
       ],
       "layout": {
        "barmode": "relative",
        "legend": {
         "tracegroupgap": 0
        },
        "margin": {
         "t": 60
        },
        "template": {
         "data": {
          "bar": [
           {
            "error_x": {
             "color": "#2a3f5f"
            },
            "error_y": {
             "color": "#2a3f5f"
            },
            "marker": {
             "line": {
              "color": "#E5ECF6",
              "width": 0.5
             },
             "pattern": {
              "fillmode": "overlay",
              "size": 10,
              "solidity": 0.2
             }
            },
            "type": "bar"
           }
          ],
          "barpolar": [
           {
            "marker": {
             "line": {
              "color": "#E5ECF6",
              "width": 0.5
             },
             "pattern": {
              "fillmode": "overlay",
              "size": 10,
              "solidity": 0.2
             }
            },
            "type": "barpolar"
           }
          ],
          "carpet": [
           {
            "aaxis": {
             "endlinecolor": "#2a3f5f",
             "gridcolor": "white",
             "linecolor": "white",
             "minorgridcolor": "white",
             "startlinecolor": "#2a3f5f"
            },
            "baxis": {
             "endlinecolor": "#2a3f5f",
             "gridcolor": "white",
             "linecolor": "white",
             "minorgridcolor": "white",
             "startlinecolor": "#2a3f5f"
            },
            "type": "carpet"
           }
          ],
          "choropleth": [
           {
            "colorbar": {
             "outlinewidth": 0,
             "ticks": ""
            },
            "type": "choropleth"
           }
          ],
          "contour": [
           {
            "colorbar": {
             "outlinewidth": 0,
             "ticks": ""
            },
            "colorscale": [
             [
              0,
              "#0d0887"
             ],
             [
              0.1111111111111111,
              "#46039f"
             ],
             [
              0.2222222222222222,
              "#7201a8"
             ],
             [
              0.3333333333333333,
              "#9c179e"
             ],
             [
              0.4444444444444444,
              "#bd3786"
             ],
             [
              0.5555555555555556,
              "#d8576b"
             ],
             [
              0.6666666666666666,
              "#ed7953"
             ],
             [
              0.7777777777777778,
              "#fb9f3a"
             ],
             [
              0.8888888888888888,
              "#fdca26"
             ],
             [
              1,
              "#f0f921"
             ]
            ],
            "type": "contour"
           }
          ],
          "contourcarpet": [
           {
            "colorbar": {
             "outlinewidth": 0,
             "ticks": ""
            },
            "type": "contourcarpet"
           }
          ],
          "heatmap": [
           {
            "colorbar": {
             "outlinewidth": 0,
             "ticks": ""
            },
            "colorscale": [
             [
              0,
              "#0d0887"
             ],
             [
              0.1111111111111111,
              "#46039f"
             ],
             [
              0.2222222222222222,
              "#7201a8"
             ],
             [
              0.3333333333333333,
              "#9c179e"
             ],
             [
              0.4444444444444444,
              "#bd3786"
             ],
             [
              0.5555555555555556,
              "#d8576b"
             ],
             [
              0.6666666666666666,
              "#ed7953"
             ],
             [
              0.7777777777777778,
              "#fb9f3a"
             ],
             [
              0.8888888888888888,
              "#fdca26"
             ],
             [
              1,
              "#f0f921"
             ]
            ],
            "type": "heatmap"
           }
          ],
          "heatmapgl": [
           {
            "colorbar": {
             "outlinewidth": 0,
             "ticks": ""
            },
            "colorscale": [
             [
              0,
              "#0d0887"
             ],
             [
              0.1111111111111111,
              "#46039f"
             ],
             [
              0.2222222222222222,
              "#7201a8"
             ],
             [
              0.3333333333333333,
              "#9c179e"
             ],
             [
              0.4444444444444444,
              "#bd3786"
             ],
             [
              0.5555555555555556,
              "#d8576b"
             ],
             [
              0.6666666666666666,
              "#ed7953"
             ],
             [
              0.7777777777777778,
              "#fb9f3a"
             ],
             [
              0.8888888888888888,
              "#fdca26"
             ],
             [
              1,
              "#f0f921"
             ]
            ],
            "type": "heatmapgl"
           }
          ],
          "histogram": [
           {
            "marker": {
             "pattern": {
              "fillmode": "overlay",
              "size": 10,
              "solidity": 0.2
             }
            },
            "type": "histogram"
           }
          ],
          "histogram2d": [
           {
            "colorbar": {
             "outlinewidth": 0,
             "ticks": ""
            },
            "colorscale": [
             [
              0,
              "#0d0887"
             ],
             [
              0.1111111111111111,
              "#46039f"
             ],
             [
              0.2222222222222222,
              "#7201a8"
             ],
             [
              0.3333333333333333,
              "#9c179e"
             ],
             [
              0.4444444444444444,
              "#bd3786"
             ],
             [
              0.5555555555555556,
              "#d8576b"
             ],
             [
              0.6666666666666666,
              "#ed7953"
             ],
             [
              0.7777777777777778,
              "#fb9f3a"
             ],
             [
              0.8888888888888888,
              "#fdca26"
             ],
             [
              1,
              "#f0f921"
             ]
            ],
            "type": "histogram2d"
           }
          ],
          "histogram2dcontour": [
           {
            "colorbar": {
             "outlinewidth": 0,
             "ticks": ""
            },
            "colorscale": [
             [
              0,
              "#0d0887"
             ],
             [
              0.1111111111111111,
              "#46039f"
             ],
             [
              0.2222222222222222,
              "#7201a8"
             ],
             [
              0.3333333333333333,
              "#9c179e"
             ],
             [
              0.4444444444444444,
              "#bd3786"
             ],
             [
              0.5555555555555556,
              "#d8576b"
             ],
             [
              0.6666666666666666,
              "#ed7953"
             ],
             [
              0.7777777777777778,
              "#fb9f3a"
             ],
             [
              0.8888888888888888,
              "#fdca26"
             ],
             [
              1,
              "#f0f921"
             ]
            ],
            "type": "histogram2dcontour"
           }
          ],
          "mesh3d": [
           {
            "colorbar": {
             "outlinewidth": 0,
             "ticks": ""
            },
            "type": "mesh3d"
           }
          ],
          "parcoords": [
           {
            "line": {
             "colorbar": {
              "outlinewidth": 0,
              "ticks": ""
             }
            },
            "type": "parcoords"
           }
          ],
          "pie": [
           {
            "automargin": true,
            "type": "pie"
           }
          ],
          "scatter": [
           {
            "fillpattern": {
             "fillmode": "overlay",
             "size": 10,
             "solidity": 0.2
            },
            "type": "scatter"
           }
          ],
          "scatter3d": [
           {
            "line": {
             "colorbar": {
              "outlinewidth": 0,
              "ticks": ""
             }
            },
            "marker": {
             "colorbar": {
              "outlinewidth": 0,
              "ticks": ""
             }
            },
            "type": "scatter3d"
           }
          ],
          "scattercarpet": [
           {
            "marker": {
             "colorbar": {
              "outlinewidth": 0,
              "ticks": ""
             }
            },
            "type": "scattercarpet"
           }
          ],
          "scattergeo": [
           {
            "marker": {
             "colorbar": {
              "outlinewidth": 0,
              "ticks": ""
             }
            },
            "type": "scattergeo"
           }
          ],
          "scattergl": [
           {
            "marker": {
             "colorbar": {
              "outlinewidth": 0,
              "ticks": ""
             }
            },
            "type": "scattergl"
           }
          ],
          "scattermapbox": [
           {
            "marker": {
             "colorbar": {
              "outlinewidth": 0,
              "ticks": ""
             }
            },
            "type": "scattermapbox"
           }
          ],
          "scatterpolar": [
           {
            "marker": {
             "colorbar": {
              "outlinewidth": 0,
              "ticks": ""
             }
            },
            "type": "scatterpolar"
           }
          ],
          "scatterpolargl": [
           {
            "marker": {
             "colorbar": {
              "outlinewidth": 0,
              "ticks": ""
             }
            },
            "type": "scatterpolargl"
           }
          ],
          "scatterternary": [
           {
            "marker": {
             "colorbar": {
              "outlinewidth": 0,
              "ticks": ""
             }
            },
            "type": "scatterternary"
           }
          ],
          "surface": [
           {
            "colorbar": {
             "outlinewidth": 0,
             "ticks": ""
            },
            "colorscale": [
             [
              0,
              "#0d0887"
             ],
             [
              0.1111111111111111,
              "#46039f"
             ],
             [
              0.2222222222222222,
              "#7201a8"
             ],
             [
              0.3333333333333333,
              "#9c179e"
             ],
             [
              0.4444444444444444,
              "#bd3786"
             ],
             [
              0.5555555555555556,
              "#d8576b"
             ],
             [
              0.6666666666666666,
              "#ed7953"
             ],
             [
              0.7777777777777778,
              "#fb9f3a"
             ],
             [
              0.8888888888888888,
              "#fdca26"
             ],
             [
              1,
              "#f0f921"
             ]
            ],
            "type": "surface"
           }
          ],
          "table": [
           {
            "cells": {
             "fill": {
              "color": "#EBF0F8"
             },
             "line": {
              "color": "white"
             }
            },
            "header": {
             "fill": {
              "color": "#C8D4E3"
             },
             "line": {
              "color": "white"
             }
            },
            "type": "table"
           }
          ]
         },
         "layout": {
          "annotationdefaults": {
           "arrowcolor": "#2a3f5f",
           "arrowhead": 0,
           "arrowwidth": 1
          },
          "autotypenumbers": "strict",
          "coloraxis": {
           "colorbar": {
            "outlinewidth": 0,
            "ticks": ""
           }
          },
          "colorscale": {
           "diverging": [
            [
             0,
             "#8e0152"
            ],
            [
             0.1,
             "#c51b7d"
            ],
            [
             0.2,
             "#de77ae"
            ],
            [
             0.3,
             "#f1b6da"
            ],
            [
             0.4,
             "#fde0ef"
            ],
            [
             0.5,
             "#f7f7f7"
            ],
            [
             0.6,
             "#e6f5d0"
            ],
            [
             0.7,
             "#b8e186"
            ],
            [
             0.8,
             "#7fbc41"
            ],
            [
             0.9,
             "#4d9221"
            ],
            [
             1,
             "#276419"
            ]
           ],
           "sequential": [
            [
             0,
             "#0d0887"
            ],
            [
             0.1111111111111111,
             "#46039f"
            ],
            [
             0.2222222222222222,
             "#7201a8"
            ],
            [
             0.3333333333333333,
             "#9c179e"
            ],
            [
             0.4444444444444444,
             "#bd3786"
            ],
            [
             0.5555555555555556,
             "#d8576b"
            ],
            [
             0.6666666666666666,
             "#ed7953"
            ],
            [
             0.7777777777777778,
             "#fb9f3a"
            ],
            [
             0.8888888888888888,
             "#fdca26"
            ],
            [
             1,
             "#f0f921"
            ]
           ],
           "sequentialminus": [
            [
             0,
             "#0d0887"
            ],
            [
             0.1111111111111111,
             "#46039f"
            ],
            [
             0.2222222222222222,
             "#7201a8"
            ],
            [
             0.3333333333333333,
             "#9c179e"
            ],
            [
             0.4444444444444444,
             "#bd3786"
            ],
            [
             0.5555555555555556,
             "#d8576b"
            ],
            [
             0.6666666666666666,
             "#ed7953"
            ],
            [
             0.7777777777777778,
             "#fb9f3a"
            ],
            [
             0.8888888888888888,
             "#fdca26"
            ],
            [
             1,
             "#f0f921"
            ]
           ]
          },
          "colorway": [
           "#636efa",
           "#EF553B",
           "#00cc96",
           "#ab63fa",
           "#FFA15A",
           "#19d3f3",
           "#FF6692",
           "#B6E880",
           "#FF97FF",
           "#FECB52"
          ],
          "font": {
           "color": "#2a3f5f"
          },
          "geo": {
           "bgcolor": "white",
           "lakecolor": "white",
           "landcolor": "#E5ECF6",
           "showlakes": true,
           "showland": true,
           "subunitcolor": "white"
          },
          "hoverlabel": {
           "align": "left"
          },
          "hovermode": "closest",
          "mapbox": {
           "style": "light"
          },
          "paper_bgcolor": "white",
          "plot_bgcolor": "#E5ECF6",
          "polar": {
           "angularaxis": {
            "gridcolor": "white",
            "linecolor": "white",
            "ticks": ""
           },
           "bgcolor": "#E5ECF6",
           "radialaxis": {
            "gridcolor": "white",
            "linecolor": "white",
            "ticks": ""
           }
          },
          "scene": {
           "xaxis": {
            "backgroundcolor": "#E5ECF6",
            "gridcolor": "white",
            "gridwidth": 2,
            "linecolor": "white",
            "showbackground": true,
            "ticks": "",
            "zerolinecolor": "white"
           },
           "yaxis": {
            "backgroundcolor": "#E5ECF6",
            "gridcolor": "white",
            "gridwidth": 2,
            "linecolor": "white",
            "showbackground": true,
            "ticks": "",
            "zerolinecolor": "white"
           },
           "zaxis": {
            "backgroundcolor": "#E5ECF6",
            "gridcolor": "white",
            "gridwidth": 2,
            "linecolor": "white",
            "showbackground": true,
            "ticks": "",
            "zerolinecolor": "white"
           }
          },
          "shapedefaults": {
           "line": {
            "color": "#2a3f5f"
           }
          },
          "ternary": {
           "aaxis": {
            "gridcolor": "white",
            "linecolor": "white",
            "ticks": ""
           },
           "baxis": {
            "gridcolor": "white",
            "linecolor": "white",
            "ticks": ""
           },
           "bgcolor": "#E5ECF6",
           "caxis": {
            "gridcolor": "white",
            "linecolor": "white",
            "ticks": ""
           }
          },
          "title": {
           "x": 0.05
          },
          "xaxis": {
           "automargin": true,
           "gridcolor": "white",
           "linecolor": "white",
           "ticks": "",
           "title": {
            "standoff": 15
           },
           "zerolinecolor": "white",
           "zerolinewidth": 2
          },
          "yaxis": {
           "automargin": true,
           "gridcolor": "white",
           "linecolor": "white",
           "ticks": "",
           "title": {
            "standoff": 15
           },
           "zerolinecolor": "white",
           "zerolinewidth": 2
          }
         }
        },
        "xaxis": {
         "anchor": "y",
         "domain": [
          0,
          1
         ],
         "title": {
          "text": "comment_count"
         }
        },
        "yaxis": {
         "anchor": "x",
         "domain": [
          0,
          1
         ],
         "title": {
          "text": "count"
         }
        }
       }
      }
     },
     "metadata": {},
     "output_type": "display_data"
    }
   ],
   "source": [
    "px.histogram(df, x = \"sentiment_polarity\").show()\n",
    "px.histogram(df, x = \"sentiment_subjectivity\").show()\n",
    "px.histogram(df, x=\"n_votes\").show()\n",
    "px.histogram(df, x= \"comment_count\").show()"
   ]
  },
  {
   "cell_type": "markdown",
   "metadata": {},
   "source": [
    "#### Interpretation:\n",
    " - We can clearly see that the overwhelming majority of comments is positive in sentiment,\n",
    " meaning that people don't usually comment when they have negative views about an idea.\n",
    " - The distribution of number of votes and comment count are very similar\n",
    " - Most posts get around 2 comments and 5 votes"
   ]
  },
  {
   "cell_type": "markdown",
   "metadata": {},
   "source": [
    "Some correlation analysis and plots about these variables"
   ]
  },
  {
   "cell_type": "code",
   "execution_count": 9,
   "metadata": {},
   "outputs": [
    {
     "name": "stdout",
     "output_type": "stream",
     "text": [
      "SpearmanrResult(correlation=0.5884248250641151, pvalue=1.5048173222790123e-10)\n"
     ]
    },
    {
     "data": {
      "application/vnd.plotly.v1+json": {
       "config": {
        "plotlyServerURL": "https://plot.ly"
       },
       "data": [
        {
         "hovertemplate": "sentiment_polarity=%{x}<br>sentiment_subjectivity=%{y}<extra></extra>",
         "legendgroup": "",
         "marker": {
          "color": "#636efa",
          "symbol": "circle"
         },
         "mode": "markers",
         "name": "",
         "orientation": "v",
         "showlegend": false,
         "type": "scatter",
         "x": [
          0.26477907135076256,
          0.1460735171261487,
          0.15,
          0.387852358815427,
          0.25049372695206024,
          0.4340909090909091,
          0.25506132756132754,
          0.09295524691358024,
          0.38645833333333335,
          0.23034798534798534,
          0.15035074773711135,
          0.16794642857142858,
          0.26173469387755105,
          0.3055555555555555,
          0.44166666666666665,
          0.1453809523809524,
          0.611111111111111,
          -0.08125,
          0.3126304713804714,
          0.24077380952380956,
          0.3177827380952381,
          0.5472222222222222,
          0.1428333333333333,
          0.2167752525252525,
          0.20773898323898324,
          0.2982755439005439,
          0.30160997732426303,
          0.09426136363636363,
          0.09772727272727273,
          0.4069444444444445,
          0.2718395691609977,
          0.21042748917748919,
          0.3055555555555555,
          0.31416666666666665,
          0.56875,
          null,
          0.10033950617283953,
          null,
          0.23314200680272107,
          -0.012499999999999997,
          0.01944444444444445,
          0.14586004273504274,
          0.1948210690824327,
          0.3475,
          0.3610515873015873,
          null,
          0.14027777777777778,
          0.29850729517396185,
          0.1757070707070707,
          0.3241874098124098,
          0.2741341991341991,
          0.21659374999999997,
          0.5029166666666667,
          0.25,
          0.24132105493712636,
          0.27499999999999997,
          0.19523809523809524,
          0.20300462962962965,
          0.21399999999999997,
          0.5075000000000001,
          0.12868506493506493,
          0.2455357142857143,
          0.4760416666666667,
          null,
          0.20411904761904762,
          null,
          null,
          0.20530753968253967,
          0.16666666666666669,
          0.07142857142857142,
          0.15000000000000002,
          0.23461512445887447,
          0.17777777777777776,
          0.5375405844155844,
          -0.008441558441558457,
          0.0734375,
          0.2629797979797979,
          0,
          0.2793105328255704,
          0.3192460317460317,
          0.3015151515151515,
          0.16736111111111107,
          null,
          0.6181818181818182,
          0.13052884615384616,
          null,
          0.28721293820558524,
          0.19299107142857141,
          0.2543816137566138,
          0.23035714285714284,
          0.39125,
          0.1893501533189033,
          0.10749611801242236,
          0.375,
          0.5125,
          0.2821844937469937,
          0.13106060606060607,
          null,
          0.0400258967223253,
          0.18868274582560293,
          0.15658526670385647,
          0.20957702020202018,
          0.30833333333333335,
          0.4,
          0.31387373737373736,
          0.26425925925925925,
          0.2121590909090909,
          0.20354662698412698
         ],
         "xaxis": "x",
         "y": [
          0.5537737317149082,
          0.41340504037872455,
          0.3833333333333333,
          0.5172563295290569,
          0.5118008123563679,
          0.5166666666666666,
          0.5540381994548661,
          0.5059567901234567,
          0.6395833333333334,
          0.4677228327228327,
          0.5989108618654073,
          0.49271825396825397,
          0.5479024943310657,
          0.5305555555555556,
          0.6111111111111112,
          0.4066383219954649,
          0.7555555555555555,
          0.3330357142857143,
          0.5451262626262626,
          0.4894642857142857,
          0.6461309523809524,
          0.5944444444444444,
          0.47350000000000003,
          0.5186329966329966,
          0.5604146409146409,
          0.42340067340067344,
          0.49639455782312925,
          0.3646212121212121,
          0.37628787878787884,
          0.6083333333333334,
          0.5109923469387756,
          0.43871993746993737,
          0.3888888888888889,
          0.37583333333333335,
          0.7625,
          null,
          0.45876543209876547,
          null,
          0.42883361678004533,
          0.37222222222222223,
          0.4789682539682539,
          0.4458066239316239,
          0.4624781510576965,
          0.53125,
          0.5490674603174602,
          null,
          0.5285493827160493,
          0.5820939554272887,
          0.3969336219336219,
          0.6610852573352574,
          0.5254058441558441,
          0.33955555555555555,
          0.6166666666666667,
          0.7125,
          0.41828689388213197,
          0.725,
          0.2911904761904762,
          0.43879012345679014,
          0.40099999999999997,
          0.81375,
          0.40728926166426166,
          0.4825396825396826,
          0.48854166666666665,
          null,
          0.507904761904762,
          null,
          null,
          0.4887896825396825,
          0.2833333333333333,
          0.3333333333333333,
          0.595,
          0.36607645826395824,
          0.4652777777777778,
          0.7391233766233767,
          0.59998556998557,
          0.646875,
          0.5183585858585859,
          0,
          0.5377994906096409,
          0.4728835978835979,
          0.48977272727272725,
          0.5155092592592593,
          null,
          0.7464120370370371,
          0.27459935897435894,
          null,
          0.5247225935828878,
          0.43468750000000006,
          0.3834160052910053,
          0.5234126984126984,
          0.5228125,
          0.5899286165223665,
          0.4278894927536232,
          0.55625,
          0.975,
          0.4525765091390091,
          0.35357142857142854,
          null,
          0.4116927566481138,
          0.47025355596784163,
          0.5344500950141976,
          0.5092960858585859,
          0.49583333333333335,
          0.85,
          0.5661849446849447,
          0.5401851851851852,
          0.379905303030303,
          0.5130208333333334
         ],
         "yaxis": "y"
        },
        {
         "hovertemplate": "<b>OLS trendline</b><br>sentiment_subjectivity = 0.625709 * sentiment_polarity + 0.349884<br>R<sup>2</sup>=0.415044<br><br>sentiment_polarity=%{x}<br>sentiment_subjectivity=%{y} <b>(trend)</b><extra></extra>",
         "legendgroup": "",
         "marker": {
          "color": "#636efa",
          "symbol": "circle"
         },
         "mode": "lines",
         "name": "",
         "showlegend": false,
         "type": "scatter",
         "x": [
          -0.08125,
          -0.012499999999999997,
          -0.008441558441558457,
          0,
          0.01944444444444445,
          0.0400258967223253,
          0.07142857142857142,
          0.0734375,
          0.09295524691358024,
          0.09426136363636363,
          0.09772727272727273,
          0.10033950617283953,
          0.10749611801242236,
          0.12868506493506493,
          0.13052884615384616,
          0.13106060606060607,
          0.14027777777777778,
          0.1428333333333333,
          0.1453809523809524,
          0.14586004273504274,
          0.1460735171261487,
          0.15,
          0.15000000000000002,
          0.15035074773711135,
          0.15658526670385647,
          0.16666666666666669,
          0.16736111111111107,
          0.16794642857142858,
          0.1757070707070707,
          0.17777777777777776,
          0.18868274582560293,
          0.1893501533189033,
          0.19299107142857141,
          0.1948210690824327,
          0.19523809523809524,
          0.20300462962962965,
          0.20354662698412698,
          0.20411904761904762,
          0.20530753968253967,
          0.20773898323898324,
          0.20957702020202018,
          0.21042748917748919,
          0.2121590909090909,
          0.21399999999999997,
          0.21659374999999997,
          0.2167752525252525,
          0.23034798534798534,
          0.23035714285714284,
          0.23314200680272107,
          0.23461512445887447,
          0.24077380952380956,
          0.24132105493712636,
          0.2455357142857143,
          0.25,
          0.25049372695206024,
          0.2543816137566138,
          0.25506132756132754,
          0.26173469387755105,
          0.2629797979797979,
          0.26425925925925925,
          0.26477907135076256,
          0.2718395691609977,
          0.2741341991341991,
          0.27499999999999997,
          0.2793105328255704,
          0.2821844937469937,
          0.28721293820558524,
          0.2982755439005439,
          0.29850729517396185,
          0.3015151515151515,
          0.30160997732426303,
          0.3055555555555555,
          0.3055555555555555,
          0.30833333333333335,
          0.3126304713804714,
          0.31387373737373736,
          0.31416666666666665,
          0.3177827380952381,
          0.3192460317460317,
          0.3241874098124098,
          0.3475,
          0.3610515873015873,
          0.375,
          0.38645833333333335,
          0.387852358815427,
          0.39125,
          0.4,
          0.4069444444444445,
          0.4340909090909091,
          0.44166666666666665,
          0.4760416666666667,
          0.5029166666666667,
          0.5075000000000001,
          0.5125,
          0.5375405844155844,
          0.5472222222222222,
          0.56875,
          0.611111111111111,
          0.6181818181818182
         ],
         "xaxis": "x",
         "y": [
          0.2990447658655363,
          0.34206223481753995,
          0.34460163676275857,
          0.3498835928088133,
          0.36205014968412746,
          0.3749281421837767,
          0.3945770670446612,
          0.3958340710075445,
          0.40804649387107905,
          0.40886374238846124,
          0.411032391649678,
          0.4126668886844424,
          0.41714484254059947,
          0.4304029496878057,
          0.43155661952537966,
          0.4318893462930737,
          0.4376566102664369,
          0.43925564345576384,
          0.44084971070350915,
          0.4411494816770697,
          0.4412830544478543,
          0.443739888704094,
          0.443739888704094,
          0.4439593545934201,
          0.4478603469728039,
          0.4541683660257918,
          0.45460288591419584,
          0.4549691241058508,
          0.4598250249366521,
          0.46112068424025704,
          0.4679440169590921,
          0.46836161959358497,
          0.4706397735097949,
          0.4717848188517181,
          0.47204575572013097,
          0.47690534338634916,
          0.4772444758135369,
          0.4776026443501214,
          0.4783462941019901,
          0.4798676693412317,
          0.4810177449483601,
          0.48154989073376925,
          0.48263336889706254,
          0.48378524161941366,
          0.4854081734026029,
          0.48552174110070856,
          0.49401431728682854,
          0.49402004721942283,
          0.49576256064945146,
          0.4966843030936148,
          0.5005378455454841,
          0.5008802617284147,
          0.5035174104945406,
          0.506310752634281,
          0.5066196818536413,
          0.5090523662158782,
          0.5094776690157403,
          0.5136532519730275,
          0.5144323243666336,
          0.5152328943428448,
          0.515558145259312,
          0.519975959736948,
          0.5214117295351812,
          0.5219534686168278,
          0.5246506062457815,
          0.526448868423332,
          0.5295952095633224,
          0.5365171775198481,
          0.5366621862937949,
          0.5385442279922562,
          0.5386035613202461,
          0.5410723437066072,
          0.5410723437066072,
          0.5428104232602236,
          0.5454991796605906,
          0.5462771019335273,
          0.5464603903228178,
          0.5487229974560076,
          0.5496385929351447,
          0.5527304558813342,
          0.5673173449662134,
          0.5757966902170701,
          0.5845243325470149,
          0.5916939107056822,
          0.5925661644932352,
          0.5946920979356702,
          0.6001670485295617,
          0.6045122474136024,
          0.6214980248693982,
          0.6262382418338063,
          0.6477469763098082,
          0.6645628959910459,
          0.6674307272545128,
          0.6705592704510221,
          0.6862273804530211,
          0.692285264871226,
          0.7057553814117523,
          0.732261094604401,
          0.7366852971045154
         ],
         "yaxis": "y"
        }
       ],
       "layout": {
        "legend": {
         "tracegroupgap": 0
        },
        "margin": {
         "t": 60
        },
        "template": {
         "data": {
          "bar": [
           {
            "error_x": {
             "color": "#2a3f5f"
            },
            "error_y": {
             "color": "#2a3f5f"
            },
            "marker": {
             "line": {
              "color": "#E5ECF6",
              "width": 0.5
             },
             "pattern": {
              "fillmode": "overlay",
              "size": 10,
              "solidity": 0.2
             }
            },
            "type": "bar"
           }
          ],
          "barpolar": [
           {
            "marker": {
             "line": {
              "color": "#E5ECF6",
              "width": 0.5
             },
             "pattern": {
              "fillmode": "overlay",
              "size": 10,
              "solidity": 0.2
             }
            },
            "type": "barpolar"
           }
          ],
          "carpet": [
           {
            "aaxis": {
             "endlinecolor": "#2a3f5f",
             "gridcolor": "white",
             "linecolor": "white",
             "minorgridcolor": "white",
             "startlinecolor": "#2a3f5f"
            },
            "baxis": {
             "endlinecolor": "#2a3f5f",
             "gridcolor": "white",
             "linecolor": "white",
             "minorgridcolor": "white",
             "startlinecolor": "#2a3f5f"
            },
            "type": "carpet"
           }
          ],
          "choropleth": [
           {
            "colorbar": {
             "outlinewidth": 0,
             "ticks": ""
            },
            "type": "choropleth"
           }
          ],
          "contour": [
           {
            "colorbar": {
             "outlinewidth": 0,
             "ticks": ""
            },
            "colorscale": [
             [
              0,
              "#0d0887"
             ],
             [
              0.1111111111111111,
              "#46039f"
             ],
             [
              0.2222222222222222,
              "#7201a8"
             ],
             [
              0.3333333333333333,
              "#9c179e"
             ],
             [
              0.4444444444444444,
              "#bd3786"
             ],
             [
              0.5555555555555556,
              "#d8576b"
             ],
             [
              0.6666666666666666,
              "#ed7953"
             ],
             [
              0.7777777777777778,
              "#fb9f3a"
             ],
             [
              0.8888888888888888,
              "#fdca26"
             ],
             [
              1,
              "#f0f921"
             ]
            ],
            "type": "contour"
           }
          ],
          "contourcarpet": [
           {
            "colorbar": {
             "outlinewidth": 0,
             "ticks": ""
            },
            "type": "contourcarpet"
           }
          ],
          "heatmap": [
           {
            "colorbar": {
             "outlinewidth": 0,
             "ticks": ""
            },
            "colorscale": [
             [
              0,
              "#0d0887"
             ],
             [
              0.1111111111111111,
              "#46039f"
             ],
             [
              0.2222222222222222,
              "#7201a8"
             ],
             [
              0.3333333333333333,
              "#9c179e"
             ],
             [
              0.4444444444444444,
              "#bd3786"
             ],
             [
              0.5555555555555556,
              "#d8576b"
             ],
             [
              0.6666666666666666,
              "#ed7953"
             ],
             [
              0.7777777777777778,
              "#fb9f3a"
             ],
             [
              0.8888888888888888,
              "#fdca26"
             ],
             [
              1,
              "#f0f921"
             ]
            ],
            "type": "heatmap"
           }
          ],
          "heatmapgl": [
           {
            "colorbar": {
             "outlinewidth": 0,
             "ticks": ""
            },
            "colorscale": [
             [
              0,
              "#0d0887"
             ],
             [
              0.1111111111111111,
              "#46039f"
             ],
             [
              0.2222222222222222,
              "#7201a8"
             ],
             [
              0.3333333333333333,
              "#9c179e"
             ],
             [
              0.4444444444444444,
              "#bd3786"
             ],
             [
              0.5555555555555556,
              "#d8576b"
             ],
             [
              0.6666666666666666,
              "#ed7953"
             ],
             [
              0.7777777777777778,
              "#fb9f3a"
             ],
             [
              0.8888888888888888,
              "#fdca26"
             ],
             [
              1,
              "#f0f921"
             ]
            ],
            "type": "heatmapgl"
           }
          ],
          "histogram": [
           {
            "marker": {
             "pattern": {
              "fillmode": "overlay",
              "size": 10,
              "solidity": 0.2
             }
            },
            "type": "histogram"
           }
          ],
          "histogram2d": [
           {
            "colorbar": {
             "outlinewidth": 0,
             "ticks": ""
            },
            "colorscale": [
             [
              0,
              "#0d0887"
             ],
             [
              0.1111111111111111,
              "#46039f"
             ],
             [
              0.2222222222222222,
              "#7201a8"
             ],
             [
              0.3333333333333333,
              "#9c179e"
             ],
             [
              0.4444444444444444,
              "#bd3786"
             ],
             [
              0.5555555555555556,
              "#d8576b"
             ],
             [
              0.6666666666666666,
              "#ed7953"
             ],
             [
              0.7777777777777778,
              "#fb9f3a"
             ],
             [
              0.8888888888888888,
              "#fdca26"
             ],
             [
              1,
              "#f0f921"
             ]
            ],
            "type": "histogram2d"
           }
          ],
          "histogram2dcontour": [
           {
            "colorbar": {
             "outlinewidth": 0,
             "ticks": ""
            },
            "colorscale": [
             [
              0,
              "#0d0887"
             ],
             [
              0.1111111111111111,
              "#46039f"
             ],
             [
              0.2222222222222222,
              "#7201a8"
             ],
             [
              0.3333333333333333,
              "#9c179e"
             ],
             [
              0.4444444444444444,
              "#bd3786"
             ],
             [
              0.5555555555555556,
              "#d8576b"
             ],
             [
              0.6666666666666666,
              "#ed7953"
             ],
             [
              0.7777777777777778,
              "#fb9f3a"
             ],
             [
              0.8888888888888888,
              "#fdca26"
             ],
             [
              1,
              "#f0f921"
             ]
            ],
            "type": "histogram2dcontour"
           }
          ],
          "mesh3d": [
           {
            "colorbar": {
             "outlinewidth": 0,
             "ticks": ""
            },
            "type": "mesh3d"
           }
          ],
          "parcoords": [
           {
            "line": {
             "colorbar": {
              "outlinewidth": 0,
              "ticks": ""
             }
            },
            "type": "parcoords"
           }
          ],
          "pie": [
           {
            "automargin": true,
            "type": "pie"
           }
          ],
          "scatter": [
           {
            "fillpattern": {
             "fillmode": "overlay",
             "size": 10,
             "solidity": 0.2
            },
            "type": "scatter"
           }
          ],
          "scatter3d": [
           {
            "line": {
             "colorbar": {
              "outlinewidth": 0,
              "ticks": ""
             }
            },
            "marker": {
             "colorbar": {
              "outlinewidth": 0,
              "ticks": ""
             }
            },
            "type": "scatter3d"
           }
          ],
          "scattercarpet": [
           {
            "marker": {
             "colorbar": {
              "outlinewidth": 0,
              "ticks": ""
             }
            },
            "type": "scattercarpet"
           }
          ],
          "scattergeo": [
           {
            "marker": {
             "colorbar": {
              "outlinewidth": 0,
              "ticks": ""
             }
            },
            "type": "scattergeo"
           }
          ],
          "scattergl": [
           {
            "marker": {
             "colorbar": {
              "outlinewidth": 0,
              "ticks": ""
             }
            },
            "type": "scattergl"
           }
          ],
          "scattermapbox": [
           {
            "marker": {
             "colorbar": {
              "outlinewidth": 0,
              "ticks": ""
             }
            },
            "type": "scattermapbox"
           }
          ],
          "scatterpolar": [
           {
            "marker": {
             "colorbar": {
              "outlinewidth": 0,
              "ticks": ""
             }
            },
            "type": "scatterpolar"
           }
          ],
          "scatterpolargl": [
           {
            "marker": {
             "colorbar": {
              "outlinewidth": 0,
              "ticks": ""
             }
            },
            "type": "scatterpolargl"
           }
          ],
          "scatterternary": [
           {
            "marker": {
             "colorbar": {
              "outlinewidth": 0,
              "ticks": ""
             }
            },
            "type": "scatterternary"
           }
          ],
          "surface": [
           {
            "colorbar": {
             "outlinewidth": 0,
             "ticks": ""
            },
            "colorscale": [
             [
              0,
              "#0d0887"
             ],
             [
              0.1111111111111111,
              "#46039f"
             ],
             [
              0.2222222222222222,
              "#7201a8"
             ],
             [
              0.3333333333333333,
              "#9c179e"
             ],
             [
              0.4444444444444444,
              "#bd3786"
             ],
             [
              0.5555555555555556,
              "#d8576b"
             ],
             [
              0.6666666666666666,
              "#ed7953"
             ],
             [
              0.7777777777777778,
              "#fb9f3a"
             ],
             [
              0.8888888888888888,
              "#fdca26"
             ],
             [
              1,
              "#f0f921"
             ]
            ],
            "type": "surface"
           }
          ],
          "table": [
           {
            "cells": {
             "fill": {
              "color": "#EBF0F8"
             },
             "line": {
              "color": "white"
             }
            },
            "header": {
             "fill": {
              "color": "#C8D4E3"
             },
             "line": {
              "color": "white"
             }
            },
            "type": "table"
           }
          ]
         },
         "layout": {
          "annotationdefaults": {
           "arrowcolor": "#2a3f5f",
           "arrowhead": 0,
           "arrowwidth": 1
          },
          "autotypenumbers": "strict",
          "coloraxis": {
           "colorbar": {
            "outlinewidth": 0,
            "ticks": ""
           }
          },
          "colorscale": {
           "diverging": [
            [
             0,
             "#8e0152"
            ],
            [
             0.1,
             "#c51b7d"
            ],
            [
             0.2,
             "#de77ae"
            ],
            [
             0.3,
             "#f1b6da"
            ],
            [
             0.4,
             "#fde0ef"
            ],
            [
             0.5,
             "#f7f7f7"
            ],
            [
             0.6,
             "#e6f5d0"
            ],
            [
             0.7,
             "#b8e186"
            ],
            [
             0.8,
             "#7fbc41"
            ],
            [
             0.9,
             "#4d9221"
            ],
            [
             1,
             "#276419"
            ]
           ],
           "sequential": [
            [
             0,
             "#0d0887"
            ],
            [
             0.1111111111111111,
             "#46039f"
            ],
            [
             0.2222222222222222,
             "#7201a8"
            ],
            [
             0.3333333333333333,
             "#9c179e"
            ],
            [
             0.4444444444444444,
             "#bd3786"
            ],
            [
             0.5555555555555556,
             "#d8576b"
            ],
            [
             0.6666666666666666,
             "#ed7953"
            ],
            [
             0.7777777777777778,
             "#fb9f3a"
            ],
            [
             0.8888888888888888,
             "#fdca26"
            ],
            [
             1,
             "#f0f921"
            ]
           ],
           "sequentialminus": [
            [
             0,
             "#0d0887"
            ],
            [
             0.1111111111111111,
             "#46039f"
            ],
            [
             0.2222222222222222,
             "#7201a8"
            ],
            [
             0.3333333333333333,
             "#9c179e"
            ],
            [
             0.4444444444444444,
             "#bd3786"
            ],
            [
             0.5555555555555556,
             "#d8576b"
            ],
            [
             0.6666666666666666,
             "#ed7953"
            ],
            [
             0.7777777777777778,
             "#fb9f3a"
            ],
            [
             0.8888888888888888,
             "#fdca26"
            ],
            [
             1,
             "#f0f921"
            ]
           ]
          },
          "colorway": [
           "#636efa",
           "#EF553B",
           "#00cc96",
           "#ab63fa",
           "#FFA15A",
           "#19d3f3",
           "#FF6692",
           "#B6E880",
           "#FF97FF",
           "#FECB52"
          ],
          "font": {
           "color": "#2a3f5f"
          },
          "geo": {
           "bgcolor": "white",
           "lakecolor": "white",
           "landcolor": "#E5ECF6",
           "showlakes": true,
           "showland": true,
           "subunitcolor": "white"
          },
          "hoverlabel": {
           "align": "left"
          },
          "hovermode": "closest",
          "mapbox": {
           "style": "light"
          },
          "paper_bgcolor": "white",
          "plot_bgcolor": "#E5ECF6",
          "polar": {
           "angularaxis": {
            "gridcolor": "white",
            "linecolor": "white",
            "ticks": ""
           },
           "bgcolor": "#E5ECF6",
           "radialaxis": {
            "gridcolor": "white",
            "linecolor": "white",
            "ticks": ""
           }
          },
          "scene": {
           "xaxis": {
            "backgroundcolor": "#E5ECF6",
            "gridcolor": "white",
            "gridwidth": 2,
            "linecolor": "white",
            "showbackground": true,
            "ticks": "",
            "zerolinecolor": "white"
           },
           "yaxis": {
            "backgroundcolor": "#E5ECF6",
            "gridcolor": "white",
            "gridwidth": 2,
            "linecolor": "white",
            "showbackground": true,
            "ticks": "",
            "zerolinecolor": "white"
           },
           "zaxis": {
            "backgroundcolor": "#E5ECF6",
            "gridcolor": "white",
            "gridwidth": 2,
            "linecolor": "white",
            "showbackground": true,
            "ticks": "",
            "zerolinecolor": "white"
           }
          },
          "shapedefaults": {
           "line": {
            "color": "#2a3f5f"
           }
          },
          "ternary": {
           "aaxis": {
            "gridcolor": "white",
            "linecolor": "white",
            "ticks": ""
           },
           "baxis": {
            "gridcolor": "white",
            "linecolor": "white",
            "ticks": ""
           },
           "bgcolor": "#E5ECF6",
           "caxis": {
            "gridcolor": "white",
            "linecolor": "white",
            "ticks": ""
           }
          },
          "title": {
           "x": 0.05
          },
          "xaxis": {
           "automargin": true,
           "gridcolor": "white",
           "linecolor": "white",
           "ticks": "",
           "title": {
            "standoff": 15
           },
           "zerolinecolor": "white",
           "zerolinewidth": 2
          },
          "yaxis": {
           "automargin": true,
           "gridcolor": "white",
           "linecolor": "white",
           "ticks": "",
           "title": {
            "standoff": 15
           },
           "zerolinecolor": "white",
           "zerolinewidth": 2
          }
         }
        },
        "xaxis": {
         "anchor": "y",
         "domain": [
          0,
          1
         ],
         "title": {
          "text": "sentiment_polarity"
         }
        },
        "yaxis": {
         "anchor": "x",
         "domain": [
          0,
          1
         ],
         "title": {
          "text": "sentiment_subjectivity"
         }
        }
       }
      }
     },
     "metadata": {},
     "output_type": "display_data"
    },
    {
     "name": "stdout",
     "output_type": "stream",
     "text": [
      "SpearmanrResult(correlation=0.690806167784053, pvalue=1.3056054302164864e-16)\n"
     ]
    },
    {
     "data": {
      "application/vnd.plotly.v1+json": {
       "config": {
        "plotlyServerURL": "https://plot.ly"
       },
       "data": [
        {
         "hovertemplate": "n_votes=%{x}<br>comment_count=%{y}<extra></extra>",
         "legendgroup": "",
         "marker": {
          "color": "#636efa",
          "symbol": "circle"
         },
         "mode": "markers",
         "name": "",
         "orientation": "v",
         "showlegend": false,
         "type": "scatter",
         "x": [
          25,
          7,
          2,
          15,
          19,
          6,
          8,
          14,
          10,
          25,
          15,
          7,
          3,
          0,
          9,
          6,
          7,
          4,
          15,
          9,
          4,
          20,
          5,
          29,
          9,
          13,
          13,
          7,
          10,
          7,
          11,
          7,
          5,
          5,
          6,
          0,
          13,
          4,
          10,
          4,
          4,
          5,
          5,
          3,
          12,
          1,
          10,
          11,
          10,
          9,
          5,
          5,
          4,
          4,
          12,
          5,
          2,
          3,
          6,
          11,
          9,
          11,
          12,
          5,
          4,
          4,
          1,
          10,
          2,
          3,
          4,
          28,
          9,
          7,
          3,
          9,
          4,
          2,
          9,
          7,
          5,
          11,
          4,
          9,
          4,
          1,
          12,
          8,
          7,
          7,
          9,
          7,
          10,
          4,
          2,
          15,
          1,
          2,
          10,
          5,
          21,
          4,
          4,
          4,
          20,
          6,
          6,
          0
         ],
         "xaxis": "x",
         "y": [
          17,
          7,
          2,
          10,
          9,
          1,
          6,
          9,
          4,
          13,
          11,
          4,
          1,
          3,
          3,
          7,
          3,
          1,
          12,
          2,
          4,
          3,
          5,
          10,
          5,
          6,
          6,
          2,
          5,
          3,
          10,
          6,
          2,
          2,
          2,
          0,
          6,
          0,
          7,
          1,
          3,
          4,
          6,
          2,
          6,
          0,
          3,
          9,
          3,
          6,
          2,
          4,
          3,
          1,
          14,
          3,
          3,
          5,
          5,
          4,
          4,
          4,
          2,
          0,
          5,
          0,
          0,
          3,
          1,
          1,
          2,
          8,
          2,
          2,
          7,
          4,
          3,
          1,
          7,
          6,
          2,
          3,
          0,
          2,
          4,
          0,
          6,
          6,
          4,
          3,
          8,
          8,
          4,
          1,
          1,
          6,
          2,
          0,
          4,
          1,
          13,
          3,
          2,
          2,
          15,
          1,
          4,
          4
         ],
         "yaxis": "y"
        },
        {
         "hovertemplate": "<b>OLS trendline</b><br>comment_count = 0.447871 * n_votes + 0.774279<br>R<sup>2</sup>=0.545592<br><br>n_votes=%{x}<br>comment_count=%{y} <b>(trend)</b><extra></extra>",
         "legendgroup": "",
         "marker": {
          "color": "#636efa",
          "symbol": "circle"
         },
         "mode": "lines",
         "name": "",
         "showlegend": false,
         "type": "scatter",
         "x": [
          0,
          0,
          0,
          1,
          1,
          1,
          1,
          2,
          2,
          2,
          2,
          2,
          2,
          3,
          3,
          3,
          3,
          3,
          4,
          4,
          4,
          4,
          4,
          4,
          4,
          4,
          4,
          4,
          4,
          4,
          4,
          4,
          4,
          4,
          4,
          5,
          5,
          5,
          5,
          5,
          5,
          5,
          5,
          5,
          5,
          5,
          6,
          6,
          6,
          6,
          6,
          6,
          7,
          7,
          7,
          7,
          7,
          7,
          7,
          7,
          7,
          7,
          7,
          8,
          8,
          9,
          9,
          9,
          9,
          9,
          9,
          9,
          9,
          9,
          9,
          10,
          10,
          10,
          10,
          10,
          10,
          10,
          10,
          11,
          11,
          11,
          11,
          11,
          12,
          12,
          12,
          12,
          13,
          13,
          13,
          14,
          15,
          15,
          15,
          15,
          19,
          20,
          20,
          21,
          25,
          25,
          28,
          29
         ],
         "xaxis": "x",
         "y": [
          0.7742792578987571,
          0.7742792578987571,
          0.7742792578987571,
          1.2221505664816243,
          1.2221505664816243,
          1.2221505664816243,
          1.2221505664816243,
          1.6700218750644913,
          1.6700218750644913,
          1.6700218750644913,
          1.6700218750644913,
          1.6700218750644913,
          1.6700218750644913,
          2.1178931836473587,
          2.1178931836473587,
          2.1178931836473587,
          2.1178931836473587,
          2.1178931836473587,
          2.5657644922302256,
          2.5657644922302256,
          2.5657644922302256,
          2.5657644922302256,
          2.5657644922302256,
          2.5657644922302256,
          2.5657644922302256,
          2.5657644922302256,
          2.5657644922302256,
          2.5657644922302256,
          2.5657644922302256,
          2.5657644922302256,
          2.5657644922302256,
          2.5657644922302256,
          2.5657644922302256,
          2.5657644922302256,
          2.5657644922302256,
          3.0136358008130926,
          3.0136358008130926,
          3.0136358008130926,
          3.0136358008130926,
          3.0136358008130926,
          3.0136358008130926,
          3.0136358008130926,
          3.0136358008130926,
          3.0136358008130926,
          3.0136358008130926,
          3.0136358008130926,
          3.46150710939596,
          3.46150710939596,
          3.46150710939596,
          3.46150710939596,
          3.46150710939596,
          3.46150710939596,
          3.9093784179788273,
          3.9093784179788273,
          3.9093784179788273,
          3.9093784179788273,
          3.9093784179788273,
          3.9093784179788273,
          3.9093784179788273,
          3.9093784179788273,
          3.9093784179788273,
          3.9093784179788273,
          3.9093784179788273,
          4.357249726561695,
          4.357249726561695,
          4.805121035144562,
          4.805121035144562,
          4.805121035144562,
          4.805121035144562,
          4.805121035144562,
          4.805121035144562,
          4.805121035144562,
          4.805121035144562,
          4.805121035144562,
          4.805121035144562,
          5.252992343727429,
          5.252992343727429,
          5.252992343727429,
          5.252992343727429,
          5.252992343727429,
          5.252992343727429,
          5.252992343727429,
          5.252992343727429,
          5.7008636523102965,
          5.7008636523102965,
          5.7008636523102965,
          5.7008636523102965,
          5.7008636523102965,
          6.148734960893163,
          6.148734960893163,
          6.148734960893163,
          6.148734960893163,
          6.59660626947603,
          6.59660626947603,
          6.59660626947603,
          7.044477578058898,
          7.492348886641765,
          7.492348886641765,
          7.492348886641765,
          7.492348886641765,
          9.283834120973232,
          9.731705429556099,
          9.731705429556099,
          10.179576738138968,
          11.971061972470435,
          11.971061972470435,
          13.314675898219038,
          13.762547206801905
         ],
         "yaxis": "y"
        }
       ],
       "layout": {
        "legend": {
         "tracegroupgap": 0
        },
        "margin": {
         "t": 60
        },
        "template": {
         "data": {
          "bar": [
           {
            "error_x": {
             "color": "#2a3f5f"
            },
            "error_y": {
             "color": "#2a3f5f"
            },
            "marker": {
             "line": {
              "color": "#E5ECF6",
              "width": 0.5
             },
             "pattern": {
              "fillmode": "overlay",
              "size": 10,
              "solidity": 0.2
             }
            },
            "type": "bar"
           }
          ],
          "barpolar": [
           {
            "marker": {
             "line": {
              "color": "#E5ECF6",
              "width": 0.5
             },
             "pattern": {
              "fillmode": "overlay",
              "size": 10,
              "solidity": 0.2
             }
            },
            "type": "barpolar"
           }
          ],
          "carpet": [
           {
            "aaxis": {
             "endlinecolor": "#2a3f5f",
             "gridcolor": "white",
             "linecolor": "white",
             "minorgridcolor": "white",
             "startlinecolor": "#2a3f5f"
            },
            "baxis": {
             "endlinecolor": "#2a3f5f",
             "gridcolor": "white",
             "linecolor": "white",
             "minorgridcolor": "white",
             "startlinecolor": "#2a3f5f"
            },
            "type": "carpet"
           }
          ],
          "choropleth": [
           {
            "colorbar": {
             "outlinewidth": 0,
             "ticks": ""
            },
            "type": "choropleth"
           }
          ],
          "contour": [
           {
            "colorbar": {
             "outlinewidth": 0,
             "ticks": ""
            },
            "colorscale": [
             [
              0,
              "#0d0887"
             ],
             [
              0.1111111111111111,
              "#46039f"
             ],
             [
              0.2222222222222222,
              "#7201a8"
             ],
             [
              0.3333333333333333,
              "#9c179e"
             ],
             [
              0.4444444444444444,
              "#bd3786"
             ],
             [
              0.5555555555555556,
              "#d8576b"
             ],
             [
              0.6666666666666666,
              "#ed7953"
             ],
             [
              0.7777777777777778,
              "#fb9f3a"
             ],
             [
              0.8888888888888888,
              "#fdca26"
             ],
             [
              1,
              "#f0f921"
             ]
            ],
            "type": "contour"
           }
          ],
          "contourcarpet": [
           {
            "colorbar": {
             "outlinewidth": 0,
             "ticks": ""
            },
            "type": "contourcarpet"
           }
          ],
          "heatmap": [
           {
            "colorbar": {
             "outlinewidth": 0,
             "ticks": ""
            },
            "colorscale": [
             [
              0,
              "#0d0887"
             ],
             [
              0.1111111111111111,
              "#46039f"
             ],
             [
              0.2222222222222222,
              "#7201a8"
             ],
             [
              0.3333333333333333,
              "#9c179e"
             ],
             [
              0.4444444444444444,
              "#bd3786"
             ],
             [
              0.5555555555555556,
              "#d8576b"
             ],
             [
              0.6666666666666666,
              "#ed7953"
             ],
             [
              0.7777777777777778,
              "#fb9f3a"
             ],
             [
              0.8888888888888888,
              "#fdca26"
             ],
             [
              1,
              "#f0f921"
             ]
            ],
            "type": "heatmap"
           }
          ],
          "heatmapgl": [
           {
            "colorbar": {
             "outlinewidth": 0,
             "ticks": ""
            },
            "colorscale": [
             [
              0,
              "#0d0887"
             ],
             [
              0.1111111111111111,
              "#46039f"
             ],
             [
              0.2222222222222222,
              "#7201a8"
             ],
             [
              0.3333333333333333,
              "#9c179e"
             ],
             [
              0.4444444444444444,
              "#bd3786"
             ],
             [
              0.5555555555555556,
              "#d8576b"
             ],
             [
              0.6666666666666666,
              "#ed7953"
             ],
             [
              0.7777777777777778,
              "#fb9f3a"
             ],
             [
              0.8888888888888888,
              "#fdca26"
             ],
             [
              1,
              "#f0f921"
             ]
            ],
            "type": "heatmapgl"
           }
          ],
          "histogram": [
           {
            "marker": {
             "pattern": {
              "fillmode": "overlay",
              "size": 10,
              "solidity": 0.2
             }
            },
            "type": "histogram"
           }
          ],
          "histogram2d": [
           {
            "colorbar": {
             "outlinewidth": 0,
             "ticks": ""
            },
            "colorscale": [
             [
              0,
              "#0d0887"
             ],
             [
              0.1111111111111111,
              "#46039f"
             ],
             [
              0.2222222222222222,
              "#7201a8"
             ],
             [
              0.3333333333333333,
              "#9c179e"
             ],
             [
              0.4444444444444444,
              "#bd3786"
             ],
             [
              0.5555555555555556,
              "#d8576b"
             ],
             [
              0.6666666666666666,
              "#ed7953"
             ],
             [
              0.7777777777777778,
              "#fb9f3a"
             ],
             [
              0.8888888888888888,
              "#fdca26"
             ],
             [
              1,
              "#f0f921"
             ]
            ],
            "type": "histogram2d"
           }
          ],
          "histogram2dcontour": [
           {
            "colorbar": {
             "outlinewidth": 0,
             "ticks": ""
            },
            "colorscale": [
             [
              0,
              "#0d0887"
             ],
             [
              0.1111111111111111,
              "#46039f"
             ],
             [
              0.2222222222222222,
              "#7201a8"
             ],
             [
              0.3333333333333333,
              "#9c179e"
             ],
             [
              0.4444444444444444,
              "#bd3786"
             ],
             [
              0.5555555555555556,
              "#d8576b"
             ],
             [
              0.6666666666666666,
              "#ed7953"
             ],
             [
              0.7777777777777778,
              "#fb9f3a"
             ],
             [
              0.8888888888888888,
              "#fdca26"
             ],
             [
              1,
              "#f0f921"
             ]
            ],
            "type": "histogram2dcontour"
           }
          ],
          "mesh3d": [
           {
            "colorbar": {
             "outlinewidth": 0,
             "ticks": ""
            },
            "type": "mesh3d"
           }
          ],
          "parcoords": [
           {
            "line": {
             "colorbar": {
              "outlinewidth": 0,
              "ticks": ""
             }
            },
            "type": "parcoords"
           }
          ],
          "pie": [
           {
            "automargin": true,
            "type": "pie"
           }
          ],
          "scatter": [
           {
            "fillpattern": {
             "fillmode": "overlay",
             "size": 10,
             "solidity": 0.2
            },
            "type": "scatter"
           }
          ],
          "scatter3d": [
           {
            "line": {
             "colorbar": {
              "outlinewidth": 0,
              "ticks": ""
             }
            },
            "marker": {
             "colorbar": {
              "outlinewidth": 0,
              "ticks": ""
             }
            },
            "type": "scatter3d"
           }
          ],
          "scattercarpet": [
           {
            "marker": {
             "colorbar": {
              "outlinewidth": 0,
              "ticks": ""
             }
            },
            "type": "scattercarpet"
           }
          ],
          "scattergeo": [
           {
            "marker": {
             "colorbar": {
              "outlinewidth": 0,
              "ticks": ""
             }
            },
            "type": "scattergeo"
           }
          ],
          "scattergl": [
           {
            "marker": {
             "colorbar": {
              "outlinewidth": 0,
              "ticks": ""
             }
            },
            "type": "scattergl"
           }
          ],
          "scattermapbox": [
           {
            "marker": {
             "colorbar": {
              "outlinewidth": 0,
              "ticks": ""
             }
            },
            "type": "scattermapbox"
           }
          ],
          "scatterpolar": [
           {
            "marker": {
             "colorbar": {
              "outlinewidth": 0,
              "ticks": ""
             }
            },
            "type": "scatterpolar"
           }
          ],
          "scatterpolargl": [
           {
            "marker": {
             "colorbar": {
              "outlinewidth": 0,
              "ticks": ""
             }
            },
            "type": "scatterpolargl"
           }
          ],
          "scatterternary": [
           {
            "marker": {
             "colorbar": {
              "outlinewidth": 0,
              "ticks": ""
             }
            },
            "type": "scatterternary"
           }
          ],
          "surface": [
           {
            "colorbar": {
             "outlinewidth": 0,
             "ticks": ""
            },
            "colorscale": [
             [
              0,
              "#0d0887"
             ],
             [
              0.1111111111111111,
              "#46039f"
             ],
             [
              0.2222222222222222,
              "#7201a8"
             ],
             [
              0.3333333333333333,
              "#9c179e"
             ],
             [
              0.4444444444444444,
              "#bd3786"
             ],
             [
              0.5555555555555556,
              "#d8576b"
             ],
             [
              0.6666666666666666,
              "#ed7953"
             ],
             [
              0.7777777777777778,
              "#fb9f3a"
             ],
             [
              0.8888888888888888,
              "#fdca26"
             ],
             [
              1,
              "#f0f921"
             ]
            ],
            "type": "surface"
           }
          ],
          "table": [
           {
            "cells": {
             "fill": {
              "color": "#EBF0F8"
             },
             "line": {
              "color": "white"
             }
            },
            "header": {
             "fill": {
              "color": "#C8D4E3"
             },
             "line": {
              "color": "white"
             }
            },
            "type": "table"
           }
          ]
         },
         "layout": {
          "annotationdefaults": {
           "arrowcolor": "#2a3f5f",
           "arrowhead": 0,
           "arrowwidth": 1
          },
          "autotypenumbers": "strict",
          "coloraxis": {
           "colorbar": {
            "outlinewidth": 0,
            "ticks": ""
           }
          },
          "colorscale": {
           "diverging": [
            [
             0,
             "#8e0152"
            ],
            [
             0.1,
             "#c51b7d"
            ],
            [
             0.2,
             "#de77ae"
            ],
            [
             0.3,
             "#f1b6da"
            ],
            [
             0.4,
             "#fde0ef"
            ],
            [
             0.5,
             "#f7f7f7"
            ],
            [
             0.6,
             "#e6f5d0"
            ],
            [
             0.7,
             "#b8e186"
            ],
            [
             0.8,
             "#7fbc41"
            ],
            [
             0.9,
             "#4d9221"
            ],
            [
             1,
             "#276419"
            ]
           ],
           "sequential": [
            [
             0,
             "#0d0887"
            ],
            [
             0.1111111111111111,
             "#46039f"
            ],
            [
             0.2222222222222222,
             "#7201a8"
            ],
            [
             0.3333333333333333,
             "#9c179e"
            ],
            [
             0.4444444444444444,
             "#bd3786"
            ],
            [
             0.5555555555555556,
             "#d8576b"
            ],
            [
             0.6666666666666666,
             "#ed7953"
            ],
            [
             0.7777777777777778,
             "#fb9f3a"
            ],
            [
             0.8888888888888888,
             "#fdca26"
            ],
            [
             1,
             "#f0f921"
            ]
           ],
           "sequentialminus": [
            [
             0,
             "#0d0887"
            ],
            [
             0.1111111111111111,
             "#46039f"
            ],
            [
             0.2222222222222222,
             "#7201a8"
            ],
            [
             0.3333333333333333,
             "#9c179e"
            ],
            [
             0.4444444444444444,
             "#bd3786"
            ],
            [
             0.5555555555555556,
             "#d8576b"
            ],
            [
             0.6666666666666666,
             "#ed7953"
            ],
            [
             0.7777777777777778,
             "#fb9f3a"
            ],
            [
             0.8888888888888888,
             "#fdca26"
            ],
            [
             1,
             "#f0f921"
            ]
           ]
          },
          "colorway": [
           "#636efa",
           "#EF553B",
           "#00cc96",
           "#ab63fa",
           "#FFA15A",
           "#19d3f3",
           "#FF6692",
           "#B6E880",
           "#FF97FF",
           "#FECB52"
          ],
          "font": {
           "color": "#2a3f5f"
          },
          "geo": {
           "bgcolor": "white",
           "lakecolor": "white",
           "landcolor": "#E5ECF6",
           "showlakes": true,
           "showland": true,
           "subunitcolor": "white"
          },
          "hoverlabel": {
           "align": "left"
          },
          "hovermode": "closest",
          "mapbox": {
           "style": "light"
          },
          "paper_bgcolor": "white",
          "plot_bgcolor": "#E5ECF6",
          "polar": {
           "angularaxis": {
            "gridcolor": "white",
            "linecolor": "white",
            "ticks": ""
           },
           "bgcolor": "#E5ECF6",
           "radialaxis": {
            "gridcolor": "white",
            "linecolor": "white",
            "ticks": ""
           }
          },
          "scene": {
           "xaxis": {
            "backgroundcolor": "#E5ECF6",
            "gridcolor": "white",
            "gridwidth": 2,
            "linecolor": "white",
            "showbackground": true,
            "ticks": "",
            "zerolinecolor": "white"
           },
           "yaxis": {
            "backgroundcolor": "#E5ECF6",
            "gridcolor": "white",
            "gridwidth": 2,
            "linecolor": "white",
            "showbackground": true,
            "ticks": "",
            "zerolinecolor": "white"
           },
           "zaxis": {
            "backgroundcolor": "#E5ECF6",
            "gridcolor": "white",
            "gridwidth": 2,
            "linecolor": "white",
            "showbackground": true,
            "ticks": "",
            "zerolinecolor": "white"
           }
          },
          "shapedefaults": {
           "line": {
            "color": "#2a3f5f"
           }
          },
          "ternary": {
           "aaxis": {
            "gridcolor": "white",
            "linecolor": "white",
            "ticks": ""
           },
           "baxis": {
            "gridcolor": "white",
            "linecolor": "white",
            "ticks": ""
           },
           "bgcolor": "#E5ECF6",
           "caxis": {
            "gridcolor": "white",
            "linecolor": "white",
            "ticks": ""
           }
          },
          "title": {
           "x": 0.05
          },
          "xaxis": {
           "automargin": true,
           "gridcolor": "white",
           "linecolor": "white",
           "ticks": "",
           "title": {
            "standoff": 15
           },
           "zerolinecolor": "white",
           "zerolinewidth": 2
          },
          "yaxis": {
           "automargin": true,
           "gridcolor": "white",
           "linecolor": "white",
           "ticks": "",
           "title": {
            "standoff": 15
           },
           "zerolinecolor": "white",
           "zerolinewidth": 2
          }
         }
        },
        "xaxis": {
         "anchor": "y",
         "domain": [
          0,
          1
         ],
         "title": {
          "text": "n_votes"
         }
        },
        "yaxis": {
         "anchor": "x",
         "domain": [
          0,
          1
         ],
         "title": {
          "text": "comment_count"
         }
        }
       }
      }
     },
     "metadata": {},
     "output_type": "display_data"
    },
    {
     "name": "stdout",
     "output_type": "stream",
     "text": [
      "SpearmanrResult(correlation=0.15488009289790128, pvalue=0.1258390001765169)\n"
     ]
    },
    {
     "data": {
      "application/vnd.plotly.v1+json": {
       "config": {
        "plotlyServerURL": "https://plot.ly"
       },
       "data": [
        {
         "hovertemplate": "sentiment_polarity=%{x}<br>n_votes=%{y}<extra></extra>",
         "legendgroup": "",
         "marker": {
          "color": "#636efa",
          "symbol": "circle"
         },
         "mode": "markers",
         "name": "",
         "orientation": "v",
         "showlegend": false,
         "type": "scatter",
         "x": [
          0.26477907135076256,
          0.1460735171261487,
          0.15,
          0.387852358815427,
          0.25049372695206024,
          0.4340909090909091,
          0.25506132756132754,
          0.09295524691358024,
          0.38645833333333335,
          0.23034798534798534,
          0.15035074773711135,
          0.16794642857142858,
          0.26173469387755105,
          0.3055555555555555,
          0.44166666666666665,
          0.1453809523809524,
          0.611111111111111,
          -0.08125,
          0.3126304713804714,
          0.24077380952380956,
          0.3177827380952381,
          0.5472222222222222,
          0.1428333333333333,
          0.2167752525252525,
          0.20773898323898324,
          0.2982755439005439,
          0.30160997732426303,
          0.09426136363636363,
          0.09772727272727273,
          0.4069444444444445,
          0.2718395691609977,
          0.21042748917748919,
          0.3055555555555555,
          0.31416666666666665,
          0.56875,
          null,
          0.10033950617283953,
          null,
          0.23314200680272107,
          -0.012499999999999997,
          0.01944444444444445,
          0.14586004273504274,
          0.1948210690824327,
          0.3475,
          0.3610515873015873,
          null,
          0.14027777777777778,
          0.29850729517396185,
          0.1757070707070707,
          0.3241874098124098,
          0.2741341991341991,
          0.21659374999999997,
          0.5029166666666667,
          0.25,
          0.24132105493712636,
          0.27499999999999997,
          0.19523809523809524,
          0.20300462962962965,
          0.21399999999999997,
          0.5075000000000001,
          0.12868506493506493,
          0.2455357142857143,
          0.4760416666666667,
          null,
          0.20411904761904762,
          null,
          null,
          0.20530753968253967,
          0.16666666666666669,
          0.07142857142857142,
          0.15000000000000002,
          0.23461512445887447,
          0.17777777777777776,
          0.5375405844155844,
          -0.008441558441558457,
          0.0734375,
          0.2629797979797979,
          0,
          0.2793105328255704,
          0.3192460317460317,
          0.3015151515151515,
          0.16736111111111107,
          null,
          0.6181818181818182,
          0.13052884615384616,
          null,
          0.28721293820558524,
          0.19299107142857141,
          0.2543816137566138,
          0.23035714285714284,
          0.39125,
          0.1893501533189033,
          0.10749611801242236,
          0.375,
          0.5125,
          0.2821844937469937,
          0.13106060606060607,
          null,
          0.0400258967223253,
          0.18868274582560293,
          0.15658526670385647,
          0.20957702020202018,
          0.30833333333333335,
          0.4,
          0.31387373737373736,
          0.26425925925925925,
          0.2121590909090909,
          0.20354662698412698
         ],
         "xaxis": "x",
         "y": [
          25,
          7,
          2,
          15,
          19,
          6,
          8,
          14,
          10,
          25,
          15,
          7,
          3,
          0,
          9,
          6,
          7,
          4,
          15,
          9,
          4,
          20,
          5,
          29,
          9,
          13,
          13,
          7,
          10,
          7,
          11,
          7,
          5,
          5,
          6,
          0,
          13,
          4,
          10,
          4,
          4,
          5,
          5,
          3,
          12,
          1,
          10,
          11,
          10,
          9,
          5,
          5,
          4,
          4,
          12,
          5,
          2,
          3,
          6,
          11,
          9,
          11,
          12,
          5,
          4,
          4,
          1,
          10,
          2,
          3,
          4,
          28,
          9,
          7,
          3,
          9,
          4,
          2,
          9,
          7,
          5,
          11,
          4,
          9,
          4,
          1,
          12,
          8,
          7,
          7,
          9,
          7,
          10,
          4,
          2,
          15,
          1,
          2,
          10,
          5,
          21,
          4,
          4,
          4,
          20,
          6,
          6,
          0
         ],
         "yaxis": "y"
        },
        {
         "hovertemplate": "<b>OLS trendline</b><br>n_votes = 4.51656 * sentiment_polarity + 7.29936<br>R<sup>2</sup>=0.011502<br><br>sentiment_polarity=%{x}<br>n_votes=%{y} <b>(trend)</b><extra></extra>",
         "legendgroup": "",
         "marker": {
          "color": "#636efa",
          "symbol": "circle"
         },
         "mode": "lines",
         "name": "",
         "showlegend": false,
         "type": "scatter",
         "x": [
          -0.08125,
          -0.012499999999999997,
          -0.008441558441558457,
          0,
          0.01944444444444445,
          0.0400258967223253,
          0.07142857142857142,
          0.0734375,
          0.09295524691358024,
          0.09426136363636363,
          0.09772727272727273,
          0.10033950617283953,
          0.10749611801242236,
          0.12868506493506493,
          0.13052884615384616,
          0.13106060606060607,
          0.14027777777777778,
          0.1428333333333333,
          0.1453809523809524,
          0.14586004273504274,
          0.1460735171261487,
          0.15,
          0.15000000000000002,
          0.15035074773711135,
          0.15658526670385647,
          0.16666666666666669,
          0.16736111111111107,
          0.16794642857142858,
          0.1757070707070707,
          0.17777777777777776,
          0.18868274582560293,
          0.1893501533189033,
          0.19299107142857141,
          0.1948210690824327,
          0.19523809523809524,
          0.20300462962962965,
          0.20354662698412698,
          0.20411904761904762,
          0.20530753968253967,
          0.20773898323898324,
          0.20957702020202018,
          0.21042748917748919,
          0.2121590909090909,
          0.21399999999999997,
          0.21659374999999997,
          0.2167752525252525,
          0.23034798534798534,
          0.23035714285714284,
          0.23314200680272107,
          0.23461512445887447,
          0.24077380952380956,
          0.24132105493712636,
          0.2455357142857143,
          0.25,
          0.25049372695206024,
          0.2543816137566138,
          0.25506132756132754,
          0.26173469387755105,
          0.2629797979797979,
          0.26425925925925925,
          0.26477907135076256,
          0.2718395691609977,
          0.2741341991341991,
          0.27499999999999997,
          0.2793105328255704,
          0.2821844937469937,
          0.28721293820558524,
          0.2982755439005439,
          0.29850729517396185,
          0.3015151515151515,
          0.30160997732426303,
          0.3055555555555555,
          0.3055555555555555,
          0.30833333333333335,
          0.3126304713804714,
          0.31387373737373736,
          0.31416666666666665,
          0.3177827380952381,
          0.3192460317460317,
          0.3241874098124098,
          0.3475,
          0.3610515873015873,
          0.375,
          0.38645833333333335,
          0.387852358815427,
          0.39125,
          0.4,
          0.4069444444444445,
          0.4340909090909091,
          0.44166666666666665,
          0.4760416666666667,
          0.5029166666666667,
          0.5075000000000001,
          0.5125,
          0.5375405844155844,
          0.5472222222222222,
          0.56875,
          0.611111111111111,
          0.6181818181818182
         ],
         "xaxis": "x",
         "y": [
          6.932391520474711,
          7.242905005668527,
          7.261235199599685,
          7.299362002976494,
          7.3871839987888865,
          7.480141358456596,
          7.621973416164875,
          7.631046862160798,
          7.7191999329574035,
          7.72509908722157,
          7.740753072838778,
          7.75255138136711,
          7.7848746465960295,
          7.880575792145652,
          7.888903340250069,
          7.891305065660023,
          7.9329349727658975,
          7.944477292215526,
          7.9559837659525785,
          7.95814760617907,
          7.95911177602899,
          7.976845970672094,
          7.976845970672094,
          7.978430143796083,
          8.006588721437844,
          8.052121967082716,
          8.055258466933157,
          8.057902088235673,
          8.092953492408478,
          8.102305964689798,
          8.15155890482736,
          8.154573290671566,
          8.171017714984849,
          8.179283008794261,
          8.181166532358068,
          8.216244549256874,
          8.218692512711577,
          8.221277884731157,
          8.226645780189486,
          8.237627540375135,
          8.245929144205064,
          8.249770338177749,
          8.257591220921709,
          8.265905796888882,
          8.277620623830286,
          8.278440390836652,
          8.339742450071434,
          8.339783810509022,
          8.352361815011307,
          8.359015238975129,
          8.386831308265661,
          8.389302974891775,
          8.408338735811553,
          8.428501949135827,
          8.430731896432093,
          8.448291769620761,
          8.451361737656194,
          8.481502395588203,
          8.487125982704098,
          8.492904746064914,
          8.495252508452966,
          8.527141668922194,
          8.53750550237978,
          8.54141594375176,
          8.56088472296209,
          8.57386513928241,
          8.596576409303367,
          8.646541329298516,
          8.647588047780076,
          8.66117321076866,
          8.661601497204638,
          8.679421937171233,
          8.679421937171233,
          8.691967936573004,
          8.711376217465743,
          8.716991502652535,
          8.718314535316722,
          8.734646738109383,
          8.741255791365674,
          8.763573820820966,
          8.868866528137966,
          8.930073082362316,
          8.993071922215492,
          9.044824169747795,
          9.05112036917898,
          9.066466018715849,
          9.105985916831425,
          9.137350915335851,
          9.259959545853153,
          9.294175907857982,
          9.44943265045489,
          9.570815194667018,
          9.591516093679939,
          9.614098892603124,
          9.72719618915837,
          9.770923885125255,
          9.868155380488975,
          10.059481871365973,
          10.09141714257048
         ],
         "yaxis": "y"
        }
       ],
       "layout": {
        "legend": {
         "tracegroupgap": 0
        },
        "margin": {
         "t": 60
        },
        "template": {
         "data": {
          "bar": [
           {
            "error_x": {
             "color": "#2a3f5f"
            },
            "error_y": {
             "color": "#2a3f5f"
            },
            "marker": {
             "line": {
              "color": "#E5ECF6",
              "width": 0.5
             },
             "pattern": {
              "fillmode": "overlay",
              "size": 10,
              "solidity": 0.2
             }
            },
            "type": "bar"
           }
          ],
          "barpolar": [
           {
            "marker": {
             "line": {
              "color": "#E5ECF6",
              "width": 0.5
             },
             "pattern": {
              "fillmode": "overlay",
              "size": 10,
              "solidity": 0.2
             }
            },
            "type": "barpolar"
           }
          ],
          "carpet": [
           {
            "aaxis": {
             "endlinecolor": "#2a3f5f",
             "gridcolor": "white",
             "linecolor": "white",
             "minorgridcolor": "white",
             "startlinecolor": "#2a3f5f"
            },
            "baxis": {
             "endlinecolor": "#2a3f5f",
             "gridcolor": "white",
             "linecolor": "white",
             "minorgridcolor": "white",
             "startlinecolor": "#2a3f5f"
            },
            "type": "carpet"
           }
          ],
          "choropleth": [
           {
            "colorbar": {
             "outlinewidth": 0,
             "ticks": ""
            },
            "type": "choropleth"
           }
          ],
          "contour": [
           {
            "colorbar": {
             "outlinewidth": 0,
             "ticks": ""
            },
            "colorscale": [
             [
              0,
              "#0d0887"
             ],
             [
              0.1111111111111111,
              "#46039f"
             ],
             [
              0.2222222222222222,
              "#7201a8"
             ],
             [
              0.3333333333333333,
              "#9c179e"
             ],
             [
              0.4444444444444444,
              "#bd3786"
             ],
             [
              0.5555555555555556,
              "#d8576b"
             ],
             [
              0.6666666666666666,
              "#ed7953"
             ],
             [
              0.7777777777777778,
              "#fb9f3a"
             ],
             [
              0.8888888888888888,
              "#fdca26"
             ],
             [
              1,
              "#f0f921"
             ]
            ],
            "type": "contour"
           }
          ],
          "contourcarpet": [
           {
            "colorbar": {
             "outlinewidth": 0,
             "ticks": ""
            },
            "type": "contourcarpet"
           }
          ],
          "heatmap": [
           {
            "colorbar": {
             "outlinewidth": 0,
             "ticks": ""
            },
            "colorscale": [
             [
              0,
              "#0d0887"
             ],
             [
              0.1111111111111111,
              "#46039f"
             ],
             [
              0.2222222222222222,
              "#7201a8"
             ],
             [
              0.3333333333333333,
              "#9c179e"
             ],
             [
              0.4444444444444444,
              "#bd3786"
             ],
             [
              0.5555555555555556,
              "#d8576b"
             ],
             [
              0.6666666666666666,
              "#ed7953"
             ],
             [
              0.7777777777777778,
              "#fb9f3a"
             ],
             [
              0.8888888888888888,
              "#fdca26"
             ],
             [
              1,
              "#f0f921"
             ]
            ],
            "type": "heatmap"
           }
          ],
          "heatmapgl": [
           {
            "colorbar": {
             "outlinewidth": 0,
             "ticks": ""
            },
            "colorscale": [
             [
              0,
              "#0d0887"
             ],
             [
              0.1111111111111111,
              "#46039f"
             ],
             [
              0.2222222222222222,
              "#7201a8"
             ],
             [
              0.3333333333333333,
              "#9c179e"
             ],
             [
              0.4444444444444444,
              "#bd3786"
             ],
             [
              0.5555555555555556,
              "#d8576b"
             ],
             [
              0.6666666666666666,
              "#ed7953"
             ],
             [
              0.7777777777777778,
              "#fb9f3a"
             ],
             [
              0.8888888888888888,
              "#fdca26"
             ],
             [
              1,
              "#f0f921"
             ]
            ],
            "type": "heatmapgl"
           }
          ],
          "histogram": [
           {
            "marker": {
             "pattern": {
              "fillmode": "overlay",
              "size": 10,
              "solidity": 0.2
             }
            },
            "type": "histogram"
           }
          ],
          "histogram2d": [
           {
            "colorbar": {
             "outlinewidth": 0,
             "ticks": ""
            },
            "colorscale": [
             [
              0,
              "#0d0887"
             ],
             [
              0.1111111111111111,
              "#46039f"
             ],
             [
              0.2222222222222222,
              "#7201a8"
             ],
             [
              0.3333333333333333,
              "#9c179e"
             ],
             [
              0.4444444444444444,
              "#bd3786"
             ],
             [
              0.5555555555555556,
              "#d8576b"
             ],
             [
              0.6666666666666666,
              "#ed7953"
             ],
             [
              0.7777777777777778,
              "#fb9f3a"
             ],
             [
              0.8888888888888888,
              "#fdca26"
             ],
             [
              1,
              "#f0f921"
             ]
            ],
            "type": "histogram2d"
           }
          ],
          "histogram2dcontour": [
           {
            "colorbar": {
             "outlinewidth": 0,
             "ticks": ""
            },
            "colorscale": [
             [
              0,
              "#0d0887"
             ],
             [
              0.1111111111111111,
              "#46039f"
             ],
             [
              0.2222222222222222,
              "#7201a8"
             ],
             [
              0.3333333333333333,
              "#9c179e"
             ],
             [
              0.4444444444444444,
              "#bd3786"
             ],
             [
              0.5555555555555556,
              "#d8576b"
             ],
             [
              0.6666666666666666,
              "#ed7953"
             ],
             [
              0.7777777777777778,
              "#fb9f3a"
             ],
             [
              0.8888888888888888,
              "#fdca26"
             ],
             [
              1,
              "#f0f921"
             ]
            ],
            "type": "histogram2dcontour"
           }
          ],
          "mesh3d": [
           {
            "colorbar": {
             "outlinewidth": 0,
             "ticks": ""
            },
            "type": "mesh3d"
           }
          ],
          "parcoords": [
           {
            "line": {
             "colorbar": {
              "outlinewidth": 0,
              "ticks": ""
             }
            },
            "type": "parcoords"
           }
          ],
          "pie": [
           {
            "automargin": true,
            "type": "pie"
           }
          ],
          "scatter": [
           {
            "fillpattern": {
             "fillmode": "overlay",
             "size": 10,
             "solidity": 0.2
            },
            "type": "scatter"
           }
          ],
          "scatter3d": [
           {
            "line": {
             "colorbar": {
              "outlinewidth": 0,
              "ticks": ""
             }
            },
            "marker": {
             "colorbar": {
              "outlinewidth": 0,
              "ticks": ""
             }
            },
            "type": "scatter3d"
           }
          ],
          "scattercarpet": [
           {
            "marker": {
             "colorbar": {
              "outlinewidth": 0,
              "ticks": ""
             }
            },
            "type": "scattercarpet"
           }
          ],
          "scattergeo": [
           {
            "marker": {
             "colorbar": {
              "outlinewidth": 0,
              "ticks": ""
             }
            },
            "type": "scattergeo"
           }
          ],
          "scattergl": [
           {
            "marker": {
             "colorbar": {
              "outlinewidth": 0,
              "ticks": ""
             }
            },
            "type": "scattergl"
           }
          ],
          "scattermapbox": [
           {
            "marker": {
             "colorbar": {
              "outlinewidth": 0,
              "ticks": ""
             }
            },
            "type": "scattermapbox"
           }
          ],
          "scatterpolar": [
           {
            "marker": {
             "colorbar": {
              "outlinewidth": 0,
              "ticks": ""
             }
            },
            "type": "scatterpolar"
           }
          ],
          "scatterpolargl": [
           {
            "marker": {
             "colorbar": {
              "outlinewidth": 0,
              "ticks": ""
             }
            },
            "type": "scatterpolargl"
           }
          ],
          "scatterternary": [
           {
            "marker": {
             "colorbar": {
              "outlinewidth": 0,
              "ticks": ""
             }
            },
            "type": "scatterternary"
           }
          ],
          "surface": [
           {
            "colorbar": {
             "outlinewidth": 0,
             "ticks": ""
            },
            "colorscale": [
             [
              0,
              "#0d0887"
             ],
             [
              0.1111111111111111,
              "#46039f"
             ],
             [
              0.2222222222222222,
              "#7201a8"
             ],
             [
              0.3333333333333333,
              "#9c179e"
             ],
             [
              0.4444444444444444,
              "#bd3786"
             ],
             [
              0.5555555555555556,
              "#d8576b"
             ],
             [
              0.6666666666666666,
              "#ed7953"
             ],
             [
              0.7777777777777778,
              "#fb9f3a"
             ],
             [
              0.8888888888888888,
              "#fdca26"
             ],
             [
              1,
              "#f0f921"
             ]
            ],
            "type": "surface"
           }
          ],
          "table": [
           {
            "cells": {
             "fill": {
              "color": "#EBF0F8"
             },
             "line": {
              "color": "white"
             }
            },
            "header": {
             "fill": {
              "color": "#C8D4E3"
             },
             "line": {
              "color": "white"
             }
            },
            "type": "table"
           }
          ]
         },
         "layout": {
          "annotationdefaults": {
           "arrowcolor": "#2a3f5f",
           "arrowhead": 0,
           "arrowwidth": 1
          },
          "autotypenumbers": "strict",
          "coloraxis": {
           "colorbar": {
            "outlinewidth": 0,
            "ticks": ""
           }
          },
          "colorscale": {
           "diverging": [
            [
             0,
             "#8e0152"
            ],
            [
             0.1,
             "#c51b7d"
            ],
            [
             0.2,
             "#de77ae"
            ],
            [
             0.3,
             "#f1b6da"
            ],
            [
             0.4,
             "#fde0ef"
            ],
            [
             0.5,
             "#f7f7f7"
            ],
            [
             0.6,
             "#e6f5d0"
            ],
            [
             0.7,
             "#b8e186"
            ],
            [
             0.8,
             "#7fbc41"
            ],
            [
             0.9,
             "#4d9221"
            ],
            [
             1,
             "#276419"
            ]
           ],
           "sequential": [
            [
             0,
             "#0d0887"
            ],
            [
             0.1111111111111111,
             "#46039f"
            ],
            [
             0.2222222222222222,
             "#7201a8"
            ],
            [
             0.3333333333333333,
             "#9c179e"
            ],
            [
             0.4444444444444444,
             "#bd3786"
            ],
            [
             0.5555555555555556,
             "#d8576b"
            ],
            [
             0.6666666666666666,
             "#ed7953"
            ],
            [
             0.7777777777777778,
             "#fb9f3a"
            ],
            [
             0.8888888888888888,
             "#fdca26"
            ],
            [
             1,
             "#f0f921"
            ]
           ],
           "sequentialminus": [
            [
             0,
             "#0d0887"
            ],
            [
             0.1111111111111111,
             "#46039f"
            ],
            [
             0.2222222222222222,
             "#7201a8"
            ],
            [
             0.3333333333333333,
             "#9c179e"
            ],
            [
             0.4444444444444444,
             "#bd3786"
            ],
            [
             0.5555555555555556,
             "#d8576b"
            ],
            [
             0.6666666666666666,
             "#ed7953"
            ],
            [
             0.7777777777777778,
             "#fb9f3a"
            ],
            [
             0.8888888888888888,
             "#fdca26"
            ],
            [
             1,
             "#f0f921"
            ]
           ]
          },
          "colorway": [
           "#636efa",
           "#EF553B",
           "#00cc96",
           "#ab63fa",
           "#FFA15A",
           "#19d3f3",
           "#FF6692",
           "#B6E880",
           "#FF97FF",
           "#FECB52"
          ],
          "font": {
           "color": "#2a3f5f"
          },
          "geo": {
           "bgcolor": "white",
           "lakecolor": "white",
           "landcolor": "#E5ECF6",
           "showlakes": true,
           "showland": true,
           "subunitcolor": "white"
          },
          "hoverlabel": {
           "align": "left"
          },
          "hovermode": "closest",
          "mapbox": {
           "style": "light"
          },
          "paper_bgcolor": "white",
          "plot_bgcolor": "#E5ECF6",
          "polar": {
           "angularaxis": {
            "gridcolor": "white",
            "linecolor": "white",
            "ticks": ""
           },
           "bgcolor": "#E5ECF6",
           "radialaxis": {
            "gridcolor": "white",
            "linecolor": "white",
            "ticks": ""
           }
          },
          "scene": {
           "xaxis": {
            "backgroundcolor": "#E5ECF6",
            "gridcolor": "white",
            "gridwidth": 2,
            "linecolor": "white",
            "showbackground": true,
            "ticks": "",
            "zerolinecolor": "white"
           },
           "yaxis": {
            "backgroundcolor": "#E5ECF6",
            "gridcolor": "white",
            "gridwidth": 2,
            "linecolor": "white",
            "showbackground": true,
            "ticks": "",
            "zerolinecolor": "white"
           },
           "zaxis": {
            "backgroundcolor": "#E5ECF6",
            "gridcolor": "white",
            "gridwidth": 2,
            "linecolor": "white",
            "showbackground": true,
            "ticks": "",
            "zerolinecolor": "white"
           }
          },
          "shapedefaults": {
           "line": {
            "color": "#2a3f5f"
           }
          },
          "ternary": {
           "aaxis": {
            "gridcolor": "white",
            "linecolor": "white",
            "ticks": ""
           },
           "baxis": {
            "gridcolor": "white",
            "linecolor": "white",
            "ticks": ""
           },
           "bgcolor": "#E5ECF6",
           "caxis": {
            "gridcolor": "white",
            "linecolor": "white",
            "ticks": ""
           }
          },
          "title": {
           "x": 0.05
          },
          "xaxis": {
           "automargin": true,
           "gridcolor": "white",
           "linecolor": "white",
           "ticks": "",
           "title": {
            "standoff": 15
           },
           "zerolinecolor": "white",
           "zerolinewidth": 2
          },
          "yaxis": {
           "automargin": true,
           "gridcolor": "white",
           "linecolor": "white",
           "ticks": "",
           "title": {
            "standoff": 15
           },
           "zerolinecolor": "white",
           "zerolinewidth": 2
          }
         }
        },
        "xaxis": {
         "anchor": "y",
         "domain": [
          0,
          1
         ],
         "title": {
          "text": "sentiment_polarity"
         }
        },
        "yaxis": {
         "anchor": "x",
         "domain": [
          0,
          1
         ],
         "title": {
          "text": "n_votes"
         }
        }
       }
      }
     },
     "metadata": {},
     "output_type": "display_data"
    }
   ],
   "source": [
    "utils.numbers.corr_test(df, \"sentiment_polarity\", \"sentiment_subjectivity\")\n",
    "utils.numbers.corr_test(df, \"n_votes\", \"comment_count\")\n",
    "utils.numbers.corr_test(df, \"sentiment_polarity\", \"n_votes\")"
   ]
  },
  {
   "cell_type": "markdown",
   "metadata": {},
   "source": [
    "### Interpretation:\n",
    " - We can see that sentiment subjectivity and polarity are highly positively correlated, meaning that the more positive a comment is, the more subjective language it uses.\n",
    " - Number of votes and number of comments is highly correlated, meaning that engagement is basically one variable\n",
    "  - Number of votes is not correlated with sentiment polarity, meaning that higher average sentiment of comments does not necessarily mean more engagement\n"
   ]
  },
  {
   "cell_type": "markdown",
   "metadata": {},
   "source": [
    "We normalize these newly added columns, so that they are on the same scale and can be unified at will:"
   ]
  },
  {
   "cell_type": "code",
   "execution_count": 10,
   "metadata": {},
   "outputs": [],
   "source": [
    "df = utils.numbers.normalize_columns(\n",
    "    df,\n",
    "    [\"sentiment_polarity\", \"sentiment_subjectivity\", \"n_votes\", \"comment_count\"]\n",
    ")"
   ]
  },
  {
   "cell_type": "markdown",
   "metadata": {},
   "source": [
    "Since engagement is basically one variable we take the mean of the number of votes and number of comments, that way we can have a joint engagement variable:"
   ]
  },
  {
   "cell_type": "code",
   "execution_count": 11,
   "metadata": {},
   "outputs": [],
   "source": [
    "df = df.assign(\n",
    "    engagement=(df[\"n_votes\"]+df[\"comment_count\"])/2,\n",
    ")"
   ]
  },
  {
   "cell_type": "markdown",
   "metadata": {},
   "source": [
    "#### Top 10 ideas by engagement"
   ]
  },
  {
   "cell_type": "code",
   "execution_count": 12,
   "metadata": {},
   "outputs": [
    {
     "name": "stdout",
     "output_type": "stream",
     "text": [
      "1. - Create Skylanders LEGO Figurs - the skylanders figurs should be a part of normal play sets and thereby both offer the physical play and play with the mini figure in a game.\n",
      "2. - Combining a dungeon and dragons storytelling and game element to the LEGO play experience  having a LEGO play master (Dungeon master) that builds the story and set the quests for the rest of the people using the guidelines and framework set through the product\n",
      "3. - A software or Guide for the creation or development for new system. in pmy pc when i have difent types of partes  i can creat a system an leather purched the pieces and recreat. and difent ways to mix difent systems.\"\n",
      "4. - I built for several nights for the Unimog U400, a multi-function tool car. It is really a good way for us to build it. I feel so good to see the basic car machine operation in such a model. As an engineer, it is really better to build such model than only read it in book. Although I am not an Technic fans,  it is really interesting to have such challenge to build this complicated model.\"\n",
      "5. - Many LEGO models are put aside from time to time, and they then end up being \"partially built\", and maybe with some missing pieces. As many people keep the boxes anyway, I thought it could be an idea to make the boxes in a geometry so they are suitable for storage of the built model, and thereby protecting the model. And possibley also with internal compartments, if the model is divided in several smaller models. I know this would that the front of the boxes in some cases would be smaller and maybe less \"inviting\", but in many cases it could make sense.\n",
      "6. - I have been collecting the Winter Bakery, Toy shop and post office. A great addition would be lines along the idea of Santa's grotto, Elves workshop, Santa's Sleigh and other such related sets.\n",
      "7. - Now that Lego has 80 years,  why not to launch a special edition?  a  collection of  amazing constructions:  Petra,  Hagia Sophia, the Victorian Abbey Mill in London,  Peterhof in Russia, Tajin in Mexico, etc., I think they would look gorgeous built in lego  :D\n",
      "8. - Unfortunately I have recognized, that under the discussions menu, there is only one available topic \"Your Lego Childhood Memories\". I suggest to make it available for the forum users to create their own topics in the discussion menu. Or is it possible already, and/or is it just me who has this issue?\"\n",
      "9. - I came across the last year christmas calender and did remember how hard it was for the kids to open each \"door\" without breaking it - it must be possible to make it the same strength as the  chocolate calender... (Several door/tiny instructions were broken just to get into the bricks). And taling about chocolate - Toms Chocolate had one where each door would fall off when you upen it - that would make it easier to get the mini building instruction into the ligt and actually see what you are supposed to build. We want to save each tiny instruction anyway so instread of mee using a pair of scissors when christmas is done, we could have saved them in the process through December and have had a better building experience.\"\n",
      "10. - Make sure to have a bag with a LEGO figure + a vehicle or something similar for the kids to play with while the adults or more expirienced kids finish the big build.\n"
     ]
    }
   ],
   "source": [
    "most_popular = df.sort_values(by=\"engagement\")[\"idea\"].head(10)\n",
    "for i, idea in enumerate(most_popular):\n",
    "    print(f\"{i+1}. - {idea}\")"
   ]
  },
  {
   "cell_type": "markdown",
   "metadata": {},
   "source": [
    "#### Top 10 ideas by mean sentiment of comments"
   ]
  },
  {
   "cell_type": "code",
   "execution_count": 13,
   "metadata": {},
   "outputs": [
    {
     "name": "stdout",
     "output_type": "stream",
     "text": [
      "1. - The successful business model for digital play has been found (but not yet perfected)...and the winner is: Skylanders! For those of you who dont know Skylanders here is a short intro: Skylanders is a video game for gaming consols (x-box,  ps3 etc). Along with the game you get a physical platform (RFID chip reader) and Skylander figures - placing one of the figures on the platform activates the figure in the game and lets you play with that character as long as the figure is placed upon the platform - and switching the figure obviously lets you play with a new character (with new skills,  new looks,  new persona etc). The game is basically running around in a virtual world fighting monsters and completing in-game mini games....much like LEGO universe. Looking at my nephew and his friends (age 7) this game has rapidly become a part of their daily routine. They bring the figures to each other so they can try out the new figures they have just bought/received.  In retail prices in DK start up set costs roughly 50 EUR and single figures is 10-15 EUR. Now with the start set,  the expansion and the amount of skylander figures that my nephew has now  my estimate would be 150 EUR spent on this concept...in contrast it was impossible for me to convince my sister to buy just 1 month of subscription for LEGO universe (10 EUR). Just imagine the new CHIMA series with similar functionality. Collecting the various characters and having them instant available in a game when you have the physical figure - being able to control vehicles of physical box sets that you have built - playing in a new part of the virtual game world when you have built some of the physical building sets...and the possibilities goes on! Now the brilliance of the Skylanders concept is the simplicity. It doesnt take long to explain to a child that if you place your figure on the platform,  you get to play with that figure - activation codes are just not as simple. 2000 chars almost hit :)\n",
      "2. - It's Christmas and a child is visiting somewhere and they unwrap a LEGO set.  In my family, the child always begs to open it right away.  And their parents always say, \"no, wait until you get it home.\"  Of course they are afraid of losing pieces etc. What if a part of the box contained an easily separated mini set - one that could be opened and assembled quickly?  Like a vehicle or the minifigures that could be enjoyed right away? It might make the child's experience more fun.\"\n",
      "3. - While building with city products it is easy to create roads and buildings to interact with but I have a difficult time building with my LOTR or SW sets with the background being green/blue/grey base plates and nothing that helps me imagine my ships actually flying through space or my armies marching on Mt doom. As most of us  are aware with the advent calendars that have small play space that allows us to have a mat to build on we are able to envision a christmas village or a scene from star wars. If we had this on the large scale as well it would help ous create a world for all of our different themes. These scenes could be on canvas or another material that lasts.\n",
      "4. - I have been collecting the Winter Bakery, Toy shop and post office. A great addition would be lines along the idea of Santa's grotto, Elves workshop, Santa's Sleigh and other such related sets.\n",
      "5. - Bulid a bridge and think about the construction. Ways to make it better, give it strength and more beautiful. Level 1: build a brigde good enough to let a truck drive over. When the bridge is build,  it gets scanned into a computer, ipad,  smartphone for a test-drive. If it stands the truck-test you go on to level 2. If not... build over again and improve. I think the challenge is to build bridges, towers, exc.   and virtually test it on the computer afterwards in different weather and conditions. How to get the construction you have build,  into the computer - i dont know exact,  but have a couple of ideas...Every time i \"\"play\"\" with lego, it always ends with buildings and so. I think most adults to that. This could be LEGO for 18+ -&gt.sorry if my discription is a little messy,  but im going to work :-)\"\n",
      "6. - When building I find that we spend a lot of time with the building instruction trying to define whether its a black or a dark grey brick we should use. And even though rebuilding is a part of the experience, it feels like time wasted just because you couldnt see which color to use. Could the building instructions be improved to reflect the needed color in a better way? E.g. by a color number or label? Do any of you have an idea on how to improve this?\"\n",
      "7. - There's an emerging trend toward wearable devices and monitoring everyday activities - think Nike+. What if there were a sensor that could attach to LEGO bricks or a way to tag the bricks from a single set or certain types of elements or some other way to track the activity of a LEGO brick (how many times it's been used, in what models) and even share that activity with others?\n",
      "8. - In CRS every time we send out a parts order the customer received a letter and email stating that their pieces are on their way from Denmark and should arrive in 7-10 days. This is can be the first time that that our American customer finds out that we are not an American company. There is currently a popular movement in the US to be pro-american and buy only US made products. I believe that a simple auto generated line in our emails could include a little information that we do have a factory in the USA to not only separate ourselves from some the outsourcing  companies but also our competitors use ship everything over from china. It could be as simple as: While our parts warehouse is located in Denmark,  one of the factories where some of your favorite sets are made is right here in Texas! This can easily be directed to go in US parts orders only much like other bits of info that are territory specific.\"\n",
      "9. - Sometimes it can be hard to tell the difference between dark gray and black in the building instructions. Isnt it possible to make the black color black with a white outline and the dark gray with a black outline.\n",
      "10. - Help kids play with their LEGO kits and themes in new adventurous ways. Increases creativity , Help parents participate in their kids playtime,Helps LEGO with increased sales and product awareness,Scenarios/adventures/stories involving a number of prequisite models (or model types) and characters that can be used across play sessions. Helped along by a good story (text or comic) on a tablet/mobile/pc.\"\n"
     ]
    }
   ],
   "source": [
    "most_loved = df.sort_values(by=\"sentiment_polarity\")[\"idea\"].head(10)\n",
    "for i, idea in enumerate(most_loved):\n",
    "    print(f\"{i+1}. - {idea}\")"
   ]
  },
  {
   "cell_type": "markdown",
   "metadata": {},
   "source": [
    "#### Top 10 ideas by a balanced score of engagement and sentiment"
   ]
  },
  {
   "cell_type": "code",
   "execution_count": 14,
   "metadata": {},
   "outputs": [
    {
     "name": "stdout",
     "output_type": "stream",
     "text": [
      "1. - The successful business model for digital play has been found (but not yet perfected)...and the winner is: Skylanders! For those of you who dont know Skylanders here is a short intro: Skylanders is a video game for gaming consols (x-box,  ps3 etc). Along with the game you get a physical platform (RFID chip reader) and Skylander figures - placing one of the figures on the platform activates the figure in the game and lets you play with that character as long as the figure is placed upon the platform - and switching the figure obviously lets you play with a new character (with new skills,  new looks,  new persona etc). The game is basically running around in a virtual world fighting monsters and completing in-game mini games....much like LEGO universe. Looking at my nephew and his friends (age 7) this game has rapidly become a part of their daily routine. They bring the figures to each other so they can try out the new figures they have just bought/received.  In retail prices in DK start up set costs roughly 50 EUR and single figures is 10-15 EUR. Now with the start set,  the expansion and the amount of skylander figures that my nephew has now  my estimate would be 150 EUR spent on this concept...in contrast it was impossible for me to convince my sister to buy just 1 month of subscription for LEGO universe (10 EUR). Just imagine the new CHIMA series with similar functionality. Collecting the various characters and having them instant available in a game when you have the physical figure - being able to control vehicles of physical box sets that you have built - playing in a new part of the virtual game world when you have built some of the physical building sets...and the possibilities goes on! Now the brilliance of the Skylanders concept is the simplicity. It doesnt take long to explain to a child that if you place your figure on the platform,  you get to play with that figure - activation codes are just not as simple. 2000 chars almost hit :)\n",
      "2. - I have been collecting the Winter Bakery, Toy shop and post office. A great addition would be lines along the idea of Santa's grotto, Elves workshop, Santa's Sleigh and other such related sets.\n",
      "3. - It's Christmas and a child is visiting somewhere and they unwrap a LEGO set.  In my family, the child always begs to open it right away.  And their parents always say, \"no, wait until you get it home.\"  Of course they are afraid of losing pieces etc. What if a part of the box contained an easily separated mini set - one that could be opened and assembled quickly?  Like a vehicle or the minifigures that could be enjoyed right away? It might make the child's experience more fun.\"\n",
      "4. - Bulid a bridge and think about the construction. Ways to make it better, give it strength and more beautiful. Level 1: build a brigde good enough to let a truck drive over. When the bridge is build,  it gets scanned into a computer, ipad,  smartphone for a test-drive. If it stands the truck-test you go on to level 2. If not... build over again and improve. I think the challenge is to build bridges, towers, exc.   and virtually test it on the computer afterwards in different weather and conditions. How to get the construction you have build,  into the computer - i dont know exact,  but have a couple of ideas...Every time i \"\"play\"\" with lego, it always ends with buildings and so. I think most adults to that. This could be LEGO for 18+ -&gt.sorry if my discription is a little messy,  but im going to work :-)\"\n",
      "5. - There's an emerging trend toward wearable devices and monitoring everyday activities - think Nike+. What if there were a sensor that could attach to LEGO bricks or a way to tag the bricks from a single set or certain types of elements or some other way to track the activity of a LEGO brick (how many times it's been used, in what models) and even share that activity with others?\n",
      "6. - While building with city products it is easy to create roads and buildings to interact with but I have a difficult time building with my LOTR or SW sets with the background being green/blue/grey base plates and nothing that helps me imagine my ships actually flying through space or my armies marching on Mt doom. As most of us  are aware with the advent calendars that have small play space that allows us to have a mat to build on we are able to envision a christmas village or a scene from star wars. If we had this on the large scale as well it would help ous create a world for all of our different themes. These scenes could be on canvas or another material that lasts.\n",
      "7. - I have made some tests and would like to share it with you.it's about impact on item quality,  tool wear,  unexplained errors and holistic expenses, se my thoughts in this link and think of the wear and item measurement problems it can give LEGO , my advise is avoid different temp on the tool and solve miscellaneous problems otherwise , sorry i can not upload it ,  you can use this , F:\\CrossOrg\\CAE_Publ\\varmeudvidelse\\Konklusion_nr1.doc\n",
      "8. - Help kids play with their LEGO kits and themes in new adventurous ways. Increases creativity , Help parents participate in their kids playtime,Helps LEGO with increased sales and product awareness,Scenarios/adventures/stories involving a number of prequisite models (or model types) and characters that can be used across play sessions. Helped along by a good story (text or comic) on a tablet/mobile/pc.\"\n",
      "9. - Now that Lego has 80 years,  why not to launch a special edition?  a  collection of  amazing constructions:  Petra,  Hagia Sophia, the Victorian Abbey Mill in London,  Peterhof in Russia, Tajin in Mexico, etc., I think they would look gorgeous built in lego  :D\n",
      "10. - Hi :) During the christmas holiday  I was playing with LEGO City together with my nephew (4 years old). Suddenly he asked me how is was on the countryside,  he have never really been/seen a farm on close on. Because he is raised in Copenhagen  and my guess is that there are many kids aruond the world who do not know much about the countryside.  I am rasied on a farm and do know a thing or two about the daily life on the countryside  so I told him about it  and came to thing that it would be great if LEGO could learn kids about the life on a countryside with a playfull,  good experienced,  well learned story about how the diffrents products gets from the farms to the supermaket.  I can almost see the title \"\"LEGO City Countryside\"\" on the LEGO boxes. So now  Is it a good idea or not?????\"\n"
     ]
    }
   ],
   "source": [
    "df = df.assign(\n",
    "    balanced_score = (df[\"engagement\"]+df[\"sentiment_polarity\"])/2,\n",
    ")\n",
    "balanced = df.sort_values(by=\"balanced_score\")[\"idea\"].head(10)\n",
    "for i, idea in enumerate(balanced):\n",
    "    print(f\"{i+1}. - {idea}\")"
   ]
  },
  {
   "cell_type": "markdown",
   "metadata": {},
   "source": [
    "## Topic modelling\n",
    "We use negative matrix factorization to look for some topics in the data.\n",
    "As an arbitrary choice I decided to go with 5, but you can change that.\n",
    "Words with a higher frequency than 20% in every document are filtered, so that they don't appear in every topic."
   ]
  },
  {
   "cell_type": "code",
   "execution_count": 15,
   "metadata": {},
   "outputs": [
    {
     "name": "stderr",
     "output_type": "stream",
     "text": [
      "/home/kardosur/Documents/GitHub/minnov/GroupFive/environment/lib/python3.8/site-packages/sklearn/decomposition/_nmf.py:289: FutureWarning:\n",
      "\n",
      "The 'init' value, when 'init=None' and n_components is less than n_samples and n_features, will be changed from 'nndsvd' to 'nndsvda' in 1.1 (renaming of 0.26).\n",
      "\n",
      "/home/kardosur/Documents/GitHub/minnov/GroupFive/environment/lib/python3.8/site-packages/sklearn/decomposition/_nmf.py:1637: ConvergenceWarning:\n",
      "\n",
      "Maximum number of iterations 200 reached. Increase it to improve convergence.\n",
      "\n"
     ]
    }
   ],
   "source": [
    "from utils.topic_modelling import NMFTopics, add_nmf_topics\n",
    "\n",
    "#Change this number if you want to have a different number of topics\n",
    "NUM_TOPICS = 5\n",
    "#Change this number if you want to have a different cutoff filter\n",
    "CUTOFF = 0.2\n",
    "\n",
    "nmf_model = NMFTopics(n_topics=NUM_TOPICS, cutoff_frequency=CUTOFF).fit(df[\"idea\"])"
   ]
  },
  {
   "cell_type": "markdown",
   "metadata": {},
   "source": [
    "Here's the top 10 words in each topic ordered by how much they contribute to the topic"
   ]
  },
  {
   "cell_type": "code",
   "execution_count": 16,
   "metadata": {},
   "outputs": [
    {
     "name": "stdout",
     "output_type": "stream",
     "text": [
      "0  :  {'child': 0.7579048893503166, 'minifigure': 0.5398455797616327, 'friend': 0.22758998799379318, 'great': 0.2203668277939416, 'family': 0.19422401715186585, 'app': 0.18725788385418274, 'parent': 0.17643619344595826, 'week': 0.17558899643003584, 'fun': 0.1706481441662322, 'etc': 0.16573865889695955}\n",
      "1  :  {'figure': 0.6488251938887852, 'game': 0.4708799339846939, 'new': 0.20028231113825928, 'character': 0.18555091380155722, 'physical': 0.1653300990754163, 'create': 0.1650901040404295, 'skylanders': 0.1622294342025475, 'robot': 0.15985629139204816, 'skylander': 0.14401418790337933, 'web': 0.1325172902841167}\n",
      "2  :  {'bag': 0.6398941044239204, 'open': 0.5051133111847331, 'smart': 0.15888909068160542, 'pack': 0.1544345023564113, 'away': 0.14033112360371794, 'plastic': 0.11752071858253603, 'nice': 0.11383079488432808, 'little': 0.11312615521753557, 'issue': 0.11032882457669722, 'way': 0.10209329955554287}\n",
      "3  :  {'theme': 0.38190676333685664, 'village': 0.3035692096430462, 'christmas': 0.29358258940968024, 'winter': 0.29015044955288954, 'city': 0.2404124030106193, 'product': 0.18146545417032098, 'inspire': 0.13201874323506024, 'european': 0.12923608806939152, 'year': 0.11933116751493403, 'good': 0.11734360391691623}\n",
      "4  :  {'instruction': 0.39602930255003155, 'colour': 0.18704609802413116, 'experience': 0.18633535340625518, 'color': 0.16383174703461123, 'black': 0.1609543860099961, 'way': 0.16041717261204702, 'well': 0.1518955020645526, 'include': 0.14896174890932587, 'store': 0.14248176861239686, 'use': 0.1419152760820008}\n"
     ]
    }
   ],
   "source": [
    "topics = nmf_model.get_topics(top_words=10)\n",
    "for i, topic in enumerate(topics):\n",
    "    print(i, \" : \", topic)"
   ]
  },
  {
   "cell_type": "markdown",
   "metadata": {},
   "source": [
    "We add a new column to the dataframe indicating which topic it is closest to"
   ]
  },
  {
   "cell_type": "code",
   "execution_count": 17,
   "metadata": {},
   "outputs": [],
   "source": [
    "df = add_nmf_topics(df, \"idea\", nmf_model)"
   ]
  },
  {
   "cell_type": "markdown",
   "metadata": {},
   "source": [
    "We plot the engagement and sentiment scores for each topic:"
   ]
  },
  {
   "cell_type": "code",
   "execution_count": 26,
   "metadata": {},
   "outputs": [
    {
     "data": {
      "application/vnd.plotly.v1+json": {
       "config": {
        "plotlyServerURL": "https://plot.ly"
       },
       "data": [
        {
         "alignmentgroup": "True",
         "hovertemplate": "idea_topic=%{x}<br>engagement=%{y}<extra></extra>",
         "legendgroup": "",
         "marker": {
          "color": "#636efa"
         },
         "name": "",
         "notched": false,
         "offsetgroup": "",
         "orientation": "v",
         "showlegend": false,
         "type": "box",
         "x": [
          2,
          4,
          3,
          4,
          3,
          4,
          2,
          4,
          3,
          2,
          1,
          2,
          4,
          1,
          1,
          1,
          0,
          1,
          3,
          2,
          1,
          4,
          2,
          4,
          4,
          1,
          2,
          3,
          4,
          4,
          2,
          2,
          0,
          4,
          1,
          1,
          4,
          2,
          4,
          0,
          4,
          3,
          3,
          4,
          1,
          1,
          4,
          4,
          3,
          0,
          0,
          0,
          4,
          1,
          2,
          0,
          3,
          4,
          4,
          4,
          0,
          0,
          0,
          3,
          1,
          4,
          4,
          3,
          0,
          4,
          3,
          0,
          0,
          1,
          3,
          4,
          1,
          3,
          4,
          0,
          1,
          4,
          3,
          1,
          4,
          4,
          0,
          0,
          4,
          3,
          3,
          1,
          4,
          3,
          1,
          4,
          4,
          4,
          4,
          4,
          2,
          1,
          4,
          4,
          4,
          4,
          4,
          4
         ],
         "x0": " ",
         "xaxis": "x",
         "y": [
          0.9310344827586207,
          0.3265720081135903,
          0.09330628803245436,
          0.552738336713996,
          0.592292089249493,
          0.1328600405679513,
          0.3144016227180527,
          0.5060851926977687,
          0.2900608519269777,
          0.8133874239350912,
          0.5821501014198783,
          0.2383367139959432,
          0.08113590263691683,
          0.08823529411764706,
          0.2434077079107505,
          0.3093306288032454,
          0.20892494929006086,
          0.09837728194726167,
          0.6115618661257607,
          0.21399594320486814,
          0.18661257606490872,
          0.43306288032454365,
          0.2332657200811359,
          0.7941176470588236,
          0.3022312373225152,
          0.4006085192697769,
          0.4006085192697769,
          0.1795131845841785,
          0.3194726166328601,
          0.20892494929006086,
          0.48377281947261663,
          0.2971602434077079,
          0.14503042596348886,
          0.14503042596348886,
          0.16227180527383367,
          0,
          0.4006085192697769,
          0.06896551724137931,
          0.37829614604462475,
          0.09837728194726167,
          0.15720081135902636,
          0.20385395537525355,
          0.26267748478701824,
          0.1105476673427992,
          0.38336713995943206,
          0.017241379310344827,
          0.26064908722109537,
          0.4543610547667343,
          0.26064908722109537,
          0.3316430020283976,
          0.14503042596348886,
          0.20385395537525355,
          0.15720081135902636,
          0.09837728194726167,
          0.6186612576064908,
          0.17444219066937122,
          0.12271805273833672,
          0.19878296146044624,
          0.25050709939148075,
          0.3073022312373225,
          0.27281947261663286,
          0.3073022312373225,
          0.2657200811359026,
          0.08620689655172414,
          0.21602434077079108,
          0.06896551724137931,
          0.017241379310344827,
          0.26064908722109537,
          0.063894523326572,
          0.08113590263691683,
          0.127789046653144,
          0.718052738336714,
          0.21399594320486814,
          0.1795131845841785,
          0.25760649087221094,
          0.27281947261663286,
          0.15720081135902636,
          0.063894523326572,
          0.36105476673427994,
          0.2971602434077079,
          0.14503042596348886,
          0.2778904665314402,
          0.06896551724137931,
          0.21399594320486814,
          0.18661257606490872,
          0.017241379310344827,
          0.38336713995943206,
          0.3144016227180527,
          0.2383367139959432,
          0.20892494929006086,
          0.3904665314401623,
          0.35598377281947263,
          0.2900608519269777,
          0.09837728194726167,
          0.063894523326572,
          0.43509127789046653,
          0.07606490872210953,
          0.034482758620689655,
          0.2900608519269777,
          0.1156186612576065,
          0.7444219066937119,
          0.15720081135902636,
          0.127789046653144,
          0.127789046653144,
          0.7860040567951319,
          0.1328600405679513,
          0.2210953346855984,
          0.11764705882352941
         ],
         "y0": " ",
         "yaxis": "y"
        }
       ],
       "layout": {
        "boxmode": "group",
        "legend": {
         "tracegroupgap": 0
        },
        "margin": {
         "t": 60
        },
        "template": {
         "data": {
          "bar": [
           {
            "error_x": {
             "color": "#2a3f5f"
            },
            "error_y": {
             "color": "#2a3f5f"
            },
            "marker": {
             "line": {
              "color": "#E5ECF6",
              "width": 0.5
             },
             "pattern": {
              "fillmode": "overlay",
              "size": 10,
              "solidity": 0.2
             }
            },
            "type": "bar"
           }
          ],
          "barpolar": [
           {
            "marker": {
             "line": {
              "color": "#E5ECF6",
              "width": 0.5
             },
             "pattern": {
              "fillmode": "overlay",
              "size": 10,
              "solidity": 0.2
             }
            },
            "type": "barpolar"
           }
          ],
          "carpet": [
           {
            "aaxis": {
             "endlinecolor": "#2a3f5f",
             "gridcolor": "white",
             "linecolor": "white",
             "minorgridcolor": "white",
             "startlinecolor": "#2a3f5f"
            },
            "baxis": {
             "endlinecolor": "#2a3f5f",
             "gridcolor": "white",
             "linecolor": "white",
             "minorgridcolor": "white",
             "startlinecolor": "#2a3f5f"
            },
            "type": "carpet"
           }
          ],
          "choropleth": [
           {
            "colorbar": {
             "outlinewidth": 0,
             "ticks": ""
            },
            "type": "choropleth"
           }
          ],
          "contour": [
           {
            "colorbar": {
             "outlinewidth": 0,
             "ticks": ""
            },
            "colorscale": [
             [
              0,
              "#0d0887"
             ],
             [
              0.1111111111111111,
              "#46039f"
             ],
             [
              0.2222222222222222,
              "#7201a8"
             ],
             [
              0.3333333333333333,
              "#9c179e"
             ],
             [
              0.4444444444444444,
              "#bd3786"
             ],
             [
              0.5555555555555556,
              "#d8576b"
             ],
             [
              0.6666666666666666,
              "#ed7953"
             ],
             [
              0.7777777777777778,
              "#fb9f3a"
             ],
             [
              0.8888888888888888,
              "#fdca26"
             ],
             [
              1,
              "#f0f921"
             ]
            ],
            "type": "contour"
           }
          ],
          "contourcarpet": [
           {
            "colorbar": {
             "outlinewidth": 0,
             "ticks": ""
            },
            "type": "contourcarpet"
           }
          ],
          "heatmap": [
           {
            "colorbar": {
             "outlinewidth": 0,
             "ticks": ""
            },
            "colorscale": [
             [
              0,
              "#0d0887"
             ],
             [
              0.1111111111111111,
              "#46039f"
             ],
             [
              0.2222222222222222,
              "#7201a8"
             ],
             [
              0.3333333333333333,
              "#9c179e"
             ],
             [
              0.4444444444444444,
              "#bd3786"
             ],
             [
              0.5555555555555556,
              "#d8576b"
             ],
             [
              0.6666666666666666,
              "#ed7953"
             ],
             [
              0.7777777777777778,
              "#fb9f3a"
             ],
             [
              0.8888888888888888,
              "#fdca26"
             ],
             [
              1,
              "#f0f921"
             ]
            ],
            "type": "heatmap"
           }
          ],
          "heatmapgl": [
           {
            "colorbar": {
             "outlinewidth": 0,
             "ticks": ""
            },
            "colorscale": [
             [
              0,
              "#0d0887"
             ],
             [
              0.1111111111111111,
              "#46039f"
             ],
             [
              0.2222222222222222,
              "#7201a8"
             ],
             [
              0.3333333333333333,
              "#9c179e"
             ],
             [
              0.4444444444444444,
              "#bd3786"
             ],
             [
              0.5555555555555556,
              "#d8576b"
             ],
             [
              0.6666666666666666,
              "#ed7953"
             ],
             [
              0.7777777777777778,
              "#fb9f3a"
             ],
             [
              0.8888888888888888,
              "#fdca26"
             ],
             [
              1,
              "#f0f921"
             ]
            ],
            "type": "heatmapgl"
           }
          ],
          "histogram": [
           {
            "marker": {
             "pattern": {
              "fillmode": "overlay",
              "size": 10,
              "solidity": 0.2
             }
            },
            "type": "histogram"
           }
          ],
          "histogram2d": [
           {
            "colorbar": {
             "outlinewidth": 0,
             "ticks": ""
            },
            "colorscale": [
             [
              0,
              "#0d0887"
             ],
             [
              0.1111111111111111,
              "#46039f"
             ],
             [
              0.2222222222222222,
              "#7201a8"
             ],
             [
              0.3333333333333333,
              "#9c179e"
             ],
             [
              0.4444444444444444,
              "#bd3786"
             ],
             [
              0.5555555555555556,
              "#d8576b"
             ],
             [
              0.6666666666666666,
              "#ed7953"
             ],
             [
              0.7777777777777778,
              "#fb9f3a"
             ],
             [
              0.8888888888888888,
              "#fdca26"
             ],
             [
              1,
              "#f0f921"
             ]
            ],
            "type": "histogram2d"
           }
          ],
          "histogram2dcontour": [
           {
            "colorbar": {
             "outlinewidth": 0,
             "ticks": ""
            },
            "colorscale": [
             [
              0,
              "#0d0887"
             ],
             [
              0.1111111111111111,
              "#46039f"
             ],
             [
              0.2222222222222222,
              "#7201a8"
             ],
             [
              0.3333333333333333,
              "#9c179e"
             ],
             [
              0.4444444444444444,
              "#bd3786"
             ],
             [
              0.5555555555555556,
              "#d8576b"
             ],
             [
              0.6666666666666666,
              "#ed7953"
             ],
             [
              0.7777777777777778,
              "#fb9f3a"
             ],
             [
              0.8888888888888888,
              "#fdca26"
             ],
             [
              1,
              "#f0f921"
             ]
            ],
            "type": "histogram2dcontour"
           }
          ],
          "mesh3d": [
           {
            "colorbar": {
             "outlinewidth": 0,
             "ticks": ""
            },
            "type": "mesh3d"
           }
          ],
          "parcoords": [
           {
            "line": {
             "colorbar": {
              "outlinewidth": 0,
              "ticks": ""
             }
            },
            "type": "parcoords"
           }
          ],
          "pie": [
           {
            "automargin": true,
            "type": "pie"
           }
          ],
          "scatter": [
           {
            "fillpattern": {
             "fillmode": "overlay",
             "size": 10,
             "solidity": 0.2
            },
            "type": "scatter"
           }
          ],
          "scatter3d": [
           {
            "line": {
             "colorbar": {
              "outlinewidth": 0,
              "ticks": ""
             }
            },
            "marker": {
             "colorbar": {
              "outlinewidth": 0,
              "ticks": ""
             }
            },
            "type": "scatter3d"
           }
          ],
          "scattercarpet": [
           {
            "marker": {
             "colorbar": {
              "outlinewidth": 0,
              "ticks": ""
             }
            },
            "type": "scattercarpet"
           }
          ],
          "scattergeo": [
           {
            "marker": {
             "colorbar": {
              "outlinewidth": 0,
              "ticks": ""
             }
            },
            "type": "scattergeo"
           }
          ],
          "scattergl": [
           {
            "marker": {
             "colorbar": {
              "outlinewidth": 0,
              "ticks": ""
             }
            },
            "type": "scattergl"
           }
          ],
          "scattermapbox": [
           {
            "marker": {
             "colorbar": {
              "outlinewidth": 0,
              "ticks": ""
             }
            },
            "type": "scattermapbox"
           }
          ],
          "scatterpolar": [
           {
            "marker": {
             "colorbar": {
              "outlinewidth": 0,
              "ticks": ""
             }
            },
            "type": "scatterpolar"
           }
          ],
          "scatterpolargl": [
           {
            "marker": {
             "colorbar": {
              "outlinewidth": 0,
              "ticks": ""
             }
            },
            "type": "scatterpolargl"
           }
          ],
          "scatterternary": [
           {
            "marker": {
             "colorbar": {
              "outlinewidth": 0,
              "ticks": ""
             }
            },
            "type": "scatterternary"
           }
          ],
          "surface": [
           {
            "colorbar": {
             "outlinewidth": 0,
             "ticks": ""
            },
            "colorscale": [
             [
              0,
              "#0d0887"
             ],
             [
              0.1111111111111111,
              "#46039f"
             ],
             [
              0.2222222222222222,
              "#7201a8"
             ],
             [
              0.3333333333333333,
              "#9c179e"
             ],
             [
              0.4444444444444444,
              "#bd3786"
             ],
             [
              0.5555555555555556,
              "#d8576b"
             ],
             [
              0.6666666666666666,
              "#ed7953"
             ],
             [
              0.7777777777777778,
              "#fb9f3a"
             ],
             [
              0.8888888888888888,
              "#fdca26"
             ],
             [
              1,
              "#f0f921"
             ]
            ],
            "type": "surface"
           }
          ],
          "table": [
           {
            "cells": {
             "fill": {
              "color": "#EBF0F8"
             },
             "line": {
              "color": "white"
             }
            },
            "header": {
             "fill": {
              "color": "#C8D4E3"
             },
             "line": {
              "color": "white"
             }
            },
            "type": "table"
           }
          ]
         },
         "layout": {
          "annotationdefaults": {
           "arrowcolor": "#2a3f5f",
           "arrowhead": 0,
           "arrowwidth": 1
          },
          "autotypenumbers": "strict",
          "coloraxis": {
           "colorbar": {
            "outlinewidth": 0,
            "ticks": ""
           }
          },
          "colorscale": {
           "diverging": [
            [
             0,
             "#8e0152"
            ],
            [
             0.1,
             "#c51b7d"
            ],
            [
             0.2,
             "#de77ae"
            ],
            [
             0.3,
             "#f1b6da"
            ],
            [
             0.4,
             "#fde0ef"
            ],
            [
             0.5,
             "#f7f7f7"
            ],
            [
             0.6,
             "#e6f5d0"
            ],
            [
             0.7,
             "#b8e186"
            ],
            [
             0.8,
             "#7fbc41"
            ],
            [
             0.9,
             "#4d9221"
            ],
            [
             1,
             "#276419"
            ]
           ],
           "sequential": [
            [
             0,
             "#0d0887"
            ],
            [
             0.1111111111111111,
             "#46039f"
            ],
            [
             0.2222222222222222,
             "#7201a8"
            ],
            [
             0.3333333333333333,
             "#9c179e"
            ],
            [
             0.4444444444444444,
             "#bd3786"
            ],
            [
             0.5555555555555556,
             "#d8576b"
            ],
            [
             0.6666666666666666,
             "#ed7953"
            ],
            [
             0.7777777777777778,
             "#fb9f3a"
            ],
            [
             0.8888888888888888,
             "#fdca26"
            ],
            [
             1,
             "#f0f921"
            ]
           ],
           "sequentialminus": [
            [
             0,
             "#0d0887"
            ],
            [
             0.1111111111111111,
             "#46039f"
            ],
            [
             0.2222222222222222,
             "#7201a8"
            ],
            [
             0.3333333333333333,
             "#9c179e"
            ],
            [
             0.4444444444444444,
             "#bd3786"
            ],
            [
             0.5555555555555556,
             "#d8576b"
            ],
            [
             0.6666666666666666,
             "#ed7953"
            ],
            [
             0.7777777777777778,
             "#fb9f3a"
            ],
            [
             0.8888888888888888,
             "#fdca26"
            ],
            [
             1,
             "#f0f921"
            ]
           ]
          },
          "colorway": [
           "#636efa",
           "#EF553B",
           "#00cc96",
           "#ab63fa",
           "#FFA15A",
           "#19d3f3",
           "#FF6692",
           "#B6E880",
           "#FF97FF",
           "#FECB52"
          ],
          "font": {
           "color": "#2a3f5f"
          },
          "geo": {
           "bgcolor": "white",
           "lakecolor": "white",
           "landcolor": "#E5ECF6",
           "showlakes": true,
           "showland": true,
           "subunitcolor": "white"
          },
          "hoverlabel": {
           "align": "left"
          },
          "hovermode": "closest",
          "mapbox": {
           "style": "light"
          },
          "paper_bgcolor": "white",
          "plot_bgcolor": "#E5ECF6",
          "polar": {
           "angularaxis": {
            "gridcolor": "white",
            "linecolor": "white",
            "ticks": ""
           },
           "bgcolor": "#E5ECF6",
           "radialaxis": {
            "gridcolor": "white",
            "linecolor": "white",
            "ticks": ""
           }
          },
          "scene": {
           "xaxis": {
            "backgroundcolor": "#E5ECF6",
            "gridcolor": "white",
            "gridwidth": 2,
            "linecolor": "white",
            "showbackground": true,
            "ticks": "",
            "zerolinecolor": "white"
           },
           "yaxis": {
            "backgroundcolor": "#E5ECF6",
            "gridcolor": "white",
            "gridwidth": 2,
            "linecolor": "white",
            "showbackground": true,
            "ticks": "",
            "zerolinecolor": "white"
           },
           "zaxis": {
            "backgroundcolor": "#E5ECF6",
            "gridcolor": "white",
            "gridwidth": 2,
            "linecolor": "white",
            "showbackground": true,
            "ticks": "",
            "zerolinecolor": "white"
           }
          },
          "shapedefaults": {
           "line": {
            "color": "#2a3f5f"
           }
          },
          "ternary": {
           "aaxis": {
            "gridcolor": "white",
            "linecolor": "white",
            "ticks": ""
           },
           "baxis": {
            "gridcolor": "white",
            "linecolor": "white",
            "ticks": ""
           },
           "bgcolor": "#E5ECF6",
           "caxis": {
            "gridcolor": "white",
            "linecolor": "white",
            "ticks": ""
           }
          },
          "title": {
           "x": 0.05
          },
          "xaxis": {
           "automargin": true,
           "gridcolor": "white",
           "linecolor": "white",
           "ticks": "",
           "title": {
            "standoff": 15
           },
           "zerolinecolor": "white",
           "zerolinewidth": 2
          },
          "yaxis": {
           "automargin": true,
           "gridcolor": "white",
           "linecolor": "white",
           "ticks": "",
           "title": {
            "standoff": 15
           },
           "zerolinecolor": "white",
           "zerolinewidth": 2
          }
         }
        },
        "xaxis": {
         "anchor": "y",
         "domain": [
          0,
          1
         ],
         "title": {
          "text": "idea_topic"
         }
        },
        "yaxis": {
         "anchor": "x",
         "domain": [
          0,
          1
         ],
         "title": {
          "text": "engagement"
         }
        }
       }
      }
     },
     "metadata": {},
     "output_type": "display_data"
    },
    {
     "data": {
      "application/vnd.plotly.v1+json": {
       "config": {
        "plotlyServerURL": "https://plot.ly"
       },
       "data": [
        {
         "alignmentgroup": "True",
         "hovertemplate": "idea_topic=%{x}<br>sentiment_polarity=%{y}<extra></extra>",
         "legendgroup": "",
         "marker": {
          "color": "#636efa"
         },
         "name": "",
         "notched": false,
         "offsetgroup": "",
         "orientation": "v",
         "showlegend": false,
         "type": "box",
         "x": [
          2,
          4,
          3,
          4,
          3,
          4,
          2,
          4,
          3,
          2,
          1,
          2,
          4,
          1,
          1,
          1,
          0,
          1,
          3,
          2,
          1,
          4,
          2,
          4,
          4,
          1,
          2,
          3,
          4,
          4,
          2,
          2,
          0,
          4,
          1,
          1,
          4,
          2,
          4,
          0,
          4,
          3,
          3,
          4,
          1,
          1,
          4,
          4,
          3,
          0,
          0,
          0,
          4,
          1,
          2,
          0,
          3,
          4,
          4,
          4,
          0,
          0,
          0,
          3,
          1,
          4,
          4,
          3,
          0,
          4,
          3,
          0,
          0,
          1,
          3,
          4,
          1,
          3,
          4,
          0,
          1,
          4,
          3,
          1,
          4,
          4,
          0,
          0,
          4,
          3,
          3,
          1,
          4,
          3,
          1,
          4,
          4,
          4,
          4,
          4,
          2,
          1,
          4,
          4,
          4,
          4,
          4,
          4
         ],
         "x0": " ",
         "xaxis": "x",
         "y": [
          0.42831908600858654,
          0.23629539535112287,
          0.2426470588235294,
          0.6274082274955437,
          0.40521044065774453,
          0.7022058823529412,
          0.4125992063492063,
          0.15036878177196805,
          0.6251531862745099,
          0.37262174100409395,
          0.2432144448688566,
          0.2716780462184874,
          0.4233943577430973,
          0.49428104575163395,
          0.7144607843137255,
          0.23517507002801122,
          0.9885620915032679,
          -0.13143382352941177,
          0.5057257625272331,
          0.38948704481792723,
          0.5140603116246499,
          0.8852124183006536,
          0.23105392156862742,
          0.3506658496732026,
          0.3360483552395317,
          0.48250455630970335,
          0.4878984927304255,
          0.1524816176470588,
          0.15808823529411767,
          0.6582924836601308,
          0.4397404795251434,
          0.34039740896358545,
          0.49428104575163395,
          0.5082107843137255,
          0.9200367647058824,
          null,
          0.16231390704429924,
          null,
          0.37714148159263705,
          -0.020220588235294115,
          0.031454248366013085,
          0.2359500691302162,
          0.3151517293980529,
          0.5621323529411765,
          0.5840540382819795,
          null,
          0.22691993464052287,
          0.4828794480755265,
          0.28423202614379084,
          0.5244208099906629,
          0.44345238095238093,
          0.3503722426470588,
          0.8135416666666667,
          0.40441176470588236,
          0.3903722947512338,
          0.44485294117647056,
          0.3158263305322129,
          0.3283898420479303,
          0.34617647058823525,
          0.8209558823529413,
          0.2081670168067227,
          0.3971901260504202,
          0.7700674019607844,
          null,
          0.33019257703081234,
          null,
          null,
          0.3321151377217554,
          0.26960784313725494,
          0.11554621848739495,
          0.24264705882352947,
          0.3795244660364146,
          0.2875816993464052,
          0.8695509453781513,
          -0.013655462184873974,
          0.11879595588235295,
          0.4254084967320261,
          0,
          0.4518258619237168,
          0.5164274042950513,
          0.4877450980392157,
          0.2707312091503267,
          null,
          1,
          0.21114960407239822,
          null,
          0.46460916474432906,
          0.31219143907563024,
          0.41149966931216936,
          0.37263655462184875,
          0.6329044117647059,
          0.3063017186041083,
          0.17389077913774206,
          0.6066176470588236,
          0.8290441176470588,
          0.456474916355431,
          0.21200980392156865,
          null,
          0.06474777410964387,
          0.30522208883553414,
          0.2532996961385914,
          0.3390216503267974,
          0.49877450980392163,
          0.6470588235294118,
          0.5077369281045752,
          0.42747821350762527,
          0.3431985294117647,
          0.32926660247432304
         ],
         "y0": " ",
         "yaxis": "y"
        }
       ],
       "layout": {
        "boxmode": "group",
        "legend": {
         "tracegroupgap": 0
        },
        "margin": {
         "t": 60
        },
        "template": {
         "data": {
          "bar": [
           {
            "error_x": {
             "color": "#2a3f5f"
            },
            "error_y": {
             "color": "#2a3f5f"
            },
            "marker": {
             "line": {
              "color": "#E5ECF6",
              "width": 0.5
             },
             "pattern": {
              "fillmode": "overlay",
              "size": 10,
              "solidity": 0.2
             }
            },
            "type": "bar"
           }
          ],
          "barpolar": [
           {
            "marker": {
             "line": {
              "color": "#E5ECF6",
              "width": 0.5
             },
             "pattern": {
              "fillmode": "overlay",
              "size": 10,
              "solidity": 0.2
             }
            },
            "type": "barpolar"
           }
          ],
          "carpet": [
           {
            "aaxis": {
             "endlinecolor": "#2a3f5f",
             "gridcolor": "white",
             "linecolor": "white",
             "minorgridcolor": "white",
             "startlinecolor": "#2a3f5f"
            },
            "baxis": {
             "endlinecolor": "#2a3f5f",
             "gridcolor": "white",
             "linecolor": "white",
             "minorgridcolor": "white",
             "startlinecolor": "#2a3f5f"
            },
            "type": "carpet"
           }
          ],
          "choropleth": [
           {
            "colorbar": {
             "outlinewidth": 0,
             "ticks": ""
            },
            "type": "choropleth"
           }
          ],
          "contour": [
           {
            "colorbar": {
             "outlinewidth": 0,
             "ticks": ""
            },
            "colorscale": [
             [
              0,
              "#0d0887"
             ],
             [
              0.1111111111111111,
              "#46039f"
             ],
             [
              0.2222222222222222,
              "#7201a8"
             ],
             [
              0.3333333333333333,
              "#9c179e"
             ],
             [
              0.4444444444444444,
              "#bd3786"
             ],
             [
              0.5555555555555556,
              "#d8576b"
             ],
             [
              0.6666666666666666,
              "#ed7953"
             ],
             [
              0.7777777777777778,
              "#fb9f3a"
             ],
             [
              0.8888888888888888,
              "#fdca26"
             ],
             [
              1,
              "#f0f921"
             ]
            ],
            "type": "contour"
           }
          ],
          "contourcarpet": [
           {
            "colorbar": {
             "outlinewidth": 0,
             "ticks": ""
            },
            "type": "contourcarpet"
           }
          ],
          "heatmap": [
           {
            "colorbar": {
             "outlinewidth": 0,
             "ticks": ""
            },
            "colorscale": [
             [
              0,
              "#0d0887"
             ],
             [
              0.1111111111111111,
              "#46039f"
             ],
             [
              0.2222222222222222,
              "#7201a8"
             ],
             [
              0.3333333333333333,
              "#9c179e"
             ],
             [
              0.4444444444444444,
              "#bd3786"
             ],
             [
              0.5555555555555556,
              "#d8576b"
             ],
             [
              0.6666666666666666,
              "#ed7953"
             ],
             [
              0.7777777777777778,
              "#fb9f3a"
             ],
             [
              0.8888888888888888,
              "#fdca26"
             ],
             [
              1,
              "#f0f921"
             ]
            ],
            "type": "heatmap"
           }
          ],
          "heatmapgl": [
           {
            "colorbar": {
             "outlinewidth": 0,
             "ticks": ""
            },
            "colorscale": [
             [
              0,
              "#0d0887"
             ],
             [
              0.1111111111111111,
              "#46039f"
             ],
             [
              0.2222222222222222,
              "#7201a8"
             ],
             [
              0.3333333333333333,
              "#9c179e"
             ],
             [
              0.4444444444444444,
              "#bd3786"
             ],
             [
              0.5555555555555556,
              "#d8576b"
             ],
             [
              0.6666666666666666,
              "#ed7953"
             ],
             [
              0.7777777777777778,
              "#fb9f3a"
             ],
             [
              0.8888888888888888,
              "#fdca26"
             ],
             [
              1,
              "#f0f921"
             ]
            ],
            "type": "heatmapgl"
           }
          ],
          "histogram": [
           {
            "marker": {
             "pattern": {
              "fillmode": "overlay",
              "size": 10,
              "solidity": 0.2
             }
            },
            "type": "histogram"
           }
          ],
          "histogram2d": [
           {
            "colorbar": {
             "outlinewidth": 0,
             "ticks": ""
            },
            "colorscale": [
             [
              0,
              "#0d0887"
             ],
             [
              0.1111111111111111,
              "#46039f"
             ],
             [
              0.2222222222222222,
              "#7201a8"
             ],
             [
              0.3333333333333333,
              "#9c179e"
             ],
             [
              0.4444444444444444,
              "#bd3786"
             ],
             [
              0.5555555555555556,
              "#d8576b"
             ],
             [
              0.6666666666666666,
              "#ed7953"
             ],
             [
              0.7777777777777778,
              "#fb9f3a"
             ],
             [
              0.8888888888888888,
              "#fdca26"
             ],
             [
              1,
              "#f0f921"
             ]
            ],
            "type": "histogram2d"
           }
          ],
          "histogram2dcontour": [
           {
            "colorbar": {
             "outlinewidth": 0,
             "ticks": ""
            },
            "colorscale": [
             [
              0,
              "#0d0887"
             ],
             [
              0.1111111111111111,
              "#46039f"
             ],
             [
              0.2222222222222222,
              "#7201a8"
             ],
             [
              0.3333333333333333,
              "#9c179e"
             ],
             [
              0.4444444444444444,
              "#bd3786"
             ],
             [
              0.5555555555555556,
              "#d8576b"
             ],
             [
              0.6666666666666666,
              "#ed7953"
             ],
             [
              0.7777777777777778,
              "#fb9f3a"
             ],
             [
              0.8888888888888888,
              "#fdca26"
             ],
             [
              1,
              "#f0f921"
             ]
            ],
            "type": "histogram2dcontour"
           }
          ],
          "mesh3d": [
           {
            "colorbar": {
             "outlinewidth": 0,
             "ticks": ""
            },
            "type": "mesh3d"
           }
          ],
          "parcoords": [
           {
            "line": {
             "colorbar": {
              "outlinewidth": 0,
              "ticks": ""
             }
            },
            "type": "parcoords"
           }
          ],
          "pie": [
           {
            "automargin": true,
            "type": "pie"
           }
          ],
          "scatter": [
           {
            "fillpattern": {
             "fillmode": "overlay",
             "size": 10,
             "solidity": 0.2
            },
            "type": "scatter"
           }
          ],
          "scatter3d": [
           {
            "line": {
             "colorbar": {
              "outlinewidth": 0,
              "ticks": ""
             }
            },
            "marker": {
             "colorbar": {
              "outlinewidth": 0,
              "ticks": ""
             }
            },
            "type": "scatter3d"
           }
          ],
          "scattercarpet": [
           {
            "marker": {
             "colorbar": {
              "outlinewidth": 0,
              "ticks": ""
             }
            },
            "type": "scattercarpet"
           }
          ],
          "scattergeo": [
           {
            "marker": {
             "colorbar": {
              "outlinewidth": 0,
              "ticks": ""
             }
            },
            "type": "scattergeo"
           }
          ],
          "scattergl": [
           {
            "marker": {
             "colorbar": {
              "outlinewidth": 0,
              "ticks": ""
             }
            },
            "type": "scattergl"
           }
          ],
          "scattermapbox": [
           {
            "marker": {
             "colorbar": {
              "outlinewidth": 0,
              "ticks": ""
             }
            },
            "type": "scattermapbox"
           }
          ],
          "scatterpolar": [
           {
            "marker": {
             "colorbar": {
              "outlinewidth": 0,
              "ticks": ""
             }
            },
            "type": "scatterpolar"
           }
          ],
          "scatterpolargl": [
           {
            "marker": {
             "colorbar": {
              "outlinewidth": 0,
              "ticks": ""
             }
            },
            "type": "scatterpolargl"
           }
          ],
          "scatterternary": [
           {
            "marker": {
             "colorbar": {
              "outlinewidth": 0,
              "ticks": ""
             }
            },
            "type": "scatterternary"
           }
          ],
          "surface": [
           {
            "colorbar": {
             "outlinewidth": 0,
             "ticks": ""
            },
            "colorscale": [
             [
              0,
              "#0d0887"
             ],
             [
              0.1111111111111111,
              "#46039f"
             ],
             [
              0.2222222222222222,
              "#7201a8"
             ],
             [
              0.3333333333333333,
              "#9c179e"
             ],
             [
              0.4444444444444444,
              "#bd3786"
             ],
             [
              0.5555555555555556,
              "#d8576b"
             ],
             [
              0.6666666666666666,
              "#ed7953"
             ],
             [
              0.7777777777777778,
              "#fb9f3a"
             ],
             [
              0.8888888888888888,
              "#fdca26"
             ],
             [
              1,
              "#f0f921"
             ]
            ],
            "type": "surface"
           }
          ],
          "table": [
           {
            "cells": {
             "fill": {
              "color": "#EBF0F8"
             },
             "line": {
              "color": "white"
             }
            },
            "header": {
             "fill": {
              "color": "#C8D4E3"
             },
             "line": {
              "color": "white"
             }
            },
            "type": "table"
           }
          ]
         },
         "layout": {
          "annotationdefaults": {
           "arrowcolor": "#2a3f5f",
           "arrowhead": 0,
           "arrowwidth": 1
          },
          "autotypenumbers": "strict",
          "coloraxis": {
           "colorbar": {
            "outlinewidth": 0,
            "ticks": ""
           }
          },
          "colorscale": {
           "diverging": [
            [
             0,
             "#8e0152"
            ],
            [
             0.1,
             "#c51b7d"
            ],
            [
             0.2,
             "#de77ae"
            ],
            [
             0.3,
             "#f1b6da"
            ],
            [
             0.4,
             "#fde0ef"
            ],
            [
             0.5,
             "#f7f7f7"
            ],
            [
             0.6,
             "#e6f5d0"
            ],
            [
             0.7,
             "#b8e186"
            ],
            [
             0.8,
             "#7fbc41"
            ],
            [
             0.9,
             "#4d9221"
            ],
            [
             1,
             "#276419"
            ]
           ],
           "sequential": [
            [
             0,
             "#0d0887"
            ],
            [
             0.1111111111111111,
             "#46039f"
            ],
            [
             0.2222222222222222,
             "#7201a8"
            ],
            [
             0.3333333333333333,
             "#9c179e"
            ],
            [
             0.4444444444444444,
             "#bd3786"
            ],
            [
             0.5555555555555556,
             "#d8576b"
            ],
            [
             0.6666666666666666,
             "#ed7953"
            ],
            [
             0.7777777777777778,
             "#fb9f3a"
            ],
            [
             0.8888888888888888,
             "#fdca26"
            ],
            [
             1,
             "#f0f921"
            ]
           ],
           "sequentialminus": [
            [
             0,
             "#0d0887"
            ],
            [
             0.1111111111111111,
             "#46039f"
            ],
            [
             0.2222222222222222,
             "#7201a8"
            ],
            [
             0.3333333333333333,
             "#9c179e"
            ],
            [
             0.4444444444444444,
             "#bd3786"
            ],
            [
             0.5555555555555556,
             "#d8576b"
            ],
            [
             0.6666666666666666,
             "#ed7953"
            ],
            [
             0.7777777777777778,
             "#fb9f3a"
            ],
            [
             0.8888888888888888,
             "#fdca26"
            ],
            [
             1,
             "#f0f921"
            ]
           ]
          },
          "colorway": [
           "#636efa",
           "#EF553B",
           "#00cc96",
           "#ab63fa",
           "#FFA15A",
           "#19d3f3",
           "#FF6692",
           "#B6E880",
           "#FF97FF",
           "#FECB52"
          ],
          "font": {
           "color": "#2a3f5f"
          },
          "geo": {
           "bgcolor": "white",
           "lakecolor": "white",
           "landcolor": "#E5ECF6",
           "showlakes": true,
           "showland": true,
           "subunitcolor": "white"
          },
          "hoverlabel": {
           "align": "left"
          },
          "hovermode": "closest",
          "mapbox": {
           "style": "light"
          },
          "paper_bgcolor": "white",
          "plot_bgcolor": "#E5ECF6",
          "polar": {
           "angularaxis": {
            "gridcolor": "white",
            "linecolor": "white",
            "ticks": ""
           },
           "bgcolor": "#E5ECF6",
           "radialaxis": {
            "gridcolor": "white",
            "linecolor": "white",
            "ticks": ""
           }
          },
          "scene": {
           "xaxis": {
            "backgroundcolor": "#E5ECF6",
            "gridcolor": "white",
            "gridwidth": 2,
            "linecolor": "white",
            "showbackground": true,
            "ticks": "",
            "zerolinecolor": "white"
           },
           "yaxis": {
            "backgroundcolor": "#E5ECF6",
            "gridcolor": "white",
            "gridwidth": 2,
            "linecolor": "white",
            "showbackground": true,
            "ticks": "",
            "zerolinecolor": "white"
           },
           "zaxis": {
            "backgroundcolor": "#E5ECF6",
            "gridcolor": "white",
            "gridwidth": 2,
            "linecolor": "white",
            "showbackground": true,
            "ticks": "",
            "zerolinecolor": "white"
           }
          },
          "shapedefaults": {
           "line": {
            "color": "#2a3f5f"
           }
          },
          "ternary": {
           "aaxis": {
            "gridcolor": "white",
            "linecolor": "white",
            "ticks": ""
           },
           "baxis": {
            "gridcolor": "white",
            "linecolor": "white",
            "ticks": ""
           },
           "bgcolor": "#E5ECF6",
           "caxis": {
            "gridcolor": "white",
            "linecolor": "white",
            "ticks": ""
           }
          },
          "title": {
           "x": 0.05
          },
          "xaxis": {
           "automargin": true,
           "gridcolor": "white",
           "linecolor": "white",
           "ticks": "",
           "title": {
            "standoff": 15
           },
           "zerolinecolor": "white",
           "zerolinewidth": 2
          },
          "yaxis": {
           "automargin": true,
           "gridcolor": "white",
           "linecolor": "white",
           "ticks": "",
           "title": {
            "standoff": 15
           },
           "zerolinecolor": "white",
           "zerolinewidth": 2
          }
         }
        },
        "xaxis": {
         "anchor": "y",
         "domain": [
          0,
          1
         ],
         "title": {
          "text": "idea_topic"
         }
        },
        "yaxis": {
         "anchor": "x",
         "domain": [
          0,
          1
         ],
         "title": {
          "text": "sentiment_polarity"
         }
        }
       }
      }
     },
     "metadata": {},
     "output_type": "display_data"
    }
   ],
   "source": [
    "px.box(df, x=\"idea_topic\", y=\"engagement\").show()\n",
    "px.box(df, x=\"idea_topic\", y=\"sentiment_polarity\").show()"
   ]
  },
  {
   "cell_type": "markdown",
   "metadata": {},
   "source": [
    "#### Interpreatation:\n",
    "We can see, that there are no drastic differences in sentiment per topic, but topic 2 seems to get more engagement than the others overall."
   ]
  },
  {
   "cell_type": "markdown",
   "metadata": {},
   "source": [
    "Here's a histogram of all the topics, you can clearly see that topic 4 has the most ideas submitted"
   ]
  },
  {
   "cell_type": "code",
   "execution_count": 19,
   "metadata": {},
   "outputs": [
    {
     "data": {
      "application/vnd.plotly.v1+json": {
       "config": {
        "plotlyServerURL": "https://plot.ly"
       },
       "data": [
        {
         "alignmentgroup": "True",
         "bingroup": "x",
         "hovertemplate": "variable=idea_topic<br>value=%{x}<br>count=%{y}<extra></extra>",
         "legendgroup": "idea_topic",
         "marker": {
          "color": "#636efa",
          "pattern": {
           "shape": ""
          }
         },
         "name": "idea_topic",
         "offsetgroup": "idea_topic",
         "orientation": "v",
         "showlegend": true,
         "type": "histogram",
         "x": [
          2,
          4,
          3,
          4,
          3,
          4,
          2,
          4,
          3,
          2,
          1,
          2,
          4,
          1,
          1,
          1,
          0,
          1,
          3,
          2,
          1,
          4,
          2,
          4,
          4,
          1,
          2,
          3,
          4,
          4,
          2,
          2,
          0,
          4,
          1,
          1,
          4,
          2,
          4,
          0,
          4,
          3,
          3,
          4,
          1,
          1,
          4,
          4,
          3,
          0,
          0,
          0,
          4,
          1,
          2,
          0,
          3,
          4,
          4,
          4,
          0,
          0,
          0,
          3,
          1,
          4,
          4,
          3,
          0,
          4,
          3,
          0,
          0,
          1,
          3,
          4,
          1,
          3,
          4,
          0,
          1,
          4,
          3,
          1,
          4,
          4,
          0,
          0,
          4,
          3,
          3,
          1,
          4,
          3,
          1,
          4,
          4,
          4,
          4,
          4,
          2,
          1,
          4,
          4,
          4,
          4,
          4,
          4
         ],
         "xaxis": "x",
         "yaxis": "y"
        }
       ],
       "layout": {
        "barmode": "relative",
        "legend": {
         "title": {
          "text": "variable"
         },
         "tracegroupgap": 0
        },
        "margin": {
         "t": 60
        },
        "template": {
         "data": {
          "bar": [
           {
            "error_x": {
             "color": "#2a3f5f"
            },
            "error_y": {
             "color": "#2a3f5f"
            },
            "marker": {
             "line": {
              "color": "#E5ECF6",
              "width": 0.5
             },
             "pattern": {
              "fillmode": "overlay",
              "size": 10,
              "solidity": 0.2
             }
            },
            "type": "bar"
           }
          ],
          "barpolar": [
           {
            "marker": {
             "line": {
              "color": "#E5ECF6",
              "width": 0.5
             },
             "pattern": {
              "fillmode": "overlay",
              "size": 10,
              "solidity": 0.2
             }
            },
            "type": "barpolar"
           }
          ],
          "carpet": [
           {
            "aaxis": {
             "endlinecolor": "#2a3f5f",
             "gridcolor": "white",
             "linecolor": "white",
             "minorgridcolor": "white",
             "startlinecolor": "#2a3f5f"
            },
            "baxis": {
             "endlinecolor": "#2a3f5f",
             "gridcolor": "white",
             "linecolor": "white",
             "minorgridcolor": "white",
             "startlinecolor": "#2a3f5f"
            },
            "type": "carpet"
           }
          ],
          "choropleth": [
           {
            "colorbar": {
             "outlinewidth": 0,
             "ticks": ""
            },
            "type": "choropleth"
           }
          ],
          "contour": [
           {
            "colorbar": {
             "outlinewidth": 0,
             "ticks": ""
            },
            "colorscale": [
             [
              0,
              "#0d0887"
             ],
             [
              0.1111111111111111,
              "#46039f"
             ],
             [
              0.2222222222222222,
              "#7201a8"
             ],
             [
              0.3333333333333333,
              "#9c179e"
             ],
             [
              0.4444444444444444,
              "#bd3786"
             ],
             [
              0.5555555555555556,
              "#d8576b"
             ],
             [
              0.6666666666666666,
              "#ed7953"
             ],
             [
              0.7777777777777778,
              "#fb9f3a"
             ],
             [
              0.8888888888888888,
              "#fdca26"
             ],
             [
              1,
              "#f0f921"
             ]
            ],
            "type": "contour"
           }
          ],
          "contourcarpet": [
           {
            "colorbar": {
             "outlinewidth": 0,
             "ticks": ""
            },
            "type": "contourcarpet"
           }
          ],
          "heatmap": [
           {
            "colorbar": {
             "outlinewidth": 0,
             "ticks": ""
            },
            "colorscale": [
             [
              0,
              "#0d0887"
             ],
             [
              0.1111111111111111,
              "#46039f"
             ],
             [
              0.2222222222222222,
              "#7201a8"
             ],
             [
              0.3333333333333333,
              "#9c179e"
             ],
             [
              0.4444444444444444,
              "#bd3786"
             ],
             [
              0.5555555555555556,
              "#d8576b"
             ],
             [
              0.6666666666666666,
              "#ed7953"
             ],
             [
              0.7777777777777778,
              "#fb9f3a"
             ],
             [
              0.8888888888888888,
              "#fdca26"
             ],
             [
              1,
              "#f0f921"
             ]
            ],
            "type": "heatmap"
           }
          ],
          "heatmapgl": [
           {
            "colorbar": {
             "outlinewidth": 0,
             "ticks": ""
            },
            "colorscale": [
             [
              0,
              "#0d0887"
             ],
             [
              0.1111111111111111,
              "#46039f"
             ],
             [
              0.2222222222222222,
              "#7201a8"
             ],
             [
              0.3333333333333333,
              "#9c179e"
             ],
             [
              0.4444444444444444,
              "#bd3786"
             ],
             [
              0.5555555555555556,
              "#d8576b"
             ],
             [
              0.6666666666666666,
              "#ed7953"
             ],
             [
              0.7777777777777778,
              "#fb9f3a"
             ],
             [
              0.8888888888888888,
              "#fdca26"
             ],
             [
              1,
              "#f0f921"
             ]
            ],
            "type": "heatmapgl"
           }
          ],
          "histogram": [
           {
            "marker": {
             "pattern": {
              "fillmode": "overlay",
              "size": 10,
              "solidity": 0.2
             }
            },
            "type": "histogram"
           }
          ],
          "histogram2d": [
           {
            "colorbar": {
             "outlinewidth": 0,
             "ticks": ""
            },
            "colorscale": [
             [
              0,
              "#0d0887"
             ],
             [
              0.1111111111111111,
              "#46039f"
             ],
             [
              0.2222222222222222,
              "#7201a8"
             ],
             [
              0.3333333333333333,
              "#9c179e"
             ],
             [
              0.4444444444444444,
              "#bd3786"
             ],
             [
              0.5555555555555556,
              "#d8576b"
             ],
             [
              0.6666666666666666,
              "#ed7953"
             ],
             [
              0.7777777777777778,
              "#fb9f3a"
             ],
             [
              0.8888888888888888,
              "#fdca26"
             ],
             [
              1,
              "#f0f921"
             ]
            ],
            "type": "histogram2d"
           }
          ],
          "histogram2dcontour": [
           {
            "colorbar": {
             "outlinewidth": 0,
             "ticks": ""
            },
            "colorscale": [
             [
              0,
              "#0d0887"
             ],
             [
              0.1111111111111111,
              "#46039f"
             ],
             [
              0.2222222222222222,
              "#7201a8"
             ],
             [
              0.3333333333333333,
              "#9c179e"
             ],
             [
              0.4444444444444444,
              "#bd3786"
             ],
             [
              0.5555555555555556,
              "#d8576b"
             ],
             [
              0.6666666666666666,
              "#ed7953"
             ],
             [
              0.7777777777777778,
              "#fb9f3a"
             ],
             [
              0.8888888888888888,
              "#fdca26"
             ],
             [
              1,
              "#f0f921"
             ]
            ],
            "type": "histogram2dcontour"
           }
          ],
          "mesh3d": [
           {
            "colorbar": {
             "outlinewidth": 0,
             "ticks": ""
            },
            "type": "mesh3d"
           }
          ],
          "parcoords": [
           {
            "line": {
             "colorbar": {
              "outlinewidth": 0,
              "ticks": ""
             }
            },
            "type": "parcoords"
           }
          ],
          "pie": [
           {
            "automargin": true,
            "type": "pie"
           }
          ],
          "scatter": [
           {
            "fillpattern": {
             "fillmode": "overlay",
             "size": 10,
             "solidity": 0.2
            },
            "type": "scatter"
           }
          ],
          "scatter3d": [
           {
            "line": {
             "colorbar": {
              "outlinewidth": 0,
              "ticks": ""
             }
            },
            "marker": {
             "colorbar": {
              "outlinewidth": 0,
              "ticks": ""
             }
            },
            "type": "scatter3d"
           }
          ],
          "scattercarpet": [
           {
            "marker": {
             "colorbar": {
              "outlinewidth": 0,
              "ticks": ""
             }
            },
            "type": "scattercarpet"
           }
          ],
          "scattergeo": [
           {
            "marker": {
             "colorbar": {
              "outlinewidth": 0,
              "ticks": ""
             }
            },
            "type": "scattergeo"
           }
          ],
          "scattergl": [
           {
            "marker": {
             "colorbar": {
              "outlinewidth": 0,
              "ticks": ""
             }
            },
            "type": "scattergl"
           }
          ],
          "scattermapbox": [
           {
            "marker": {
             "colorbar": {
              "outlinewidth": 0,
              "ticks": ""
             }
            },
            "type": "scattermapbox"
           }
          ],
          "scatterpolar": [
           {
            "marker": {
             "colorbar": {
              "outlinewidth": 0,
              "ticks": ""
             }
            },
            "type": "scatterpolar"
           }
          ],
          "scatterpolargl": [
           {
            "marker": {
             "colorbar": {
              "outlinewidth": 0,
              "ticks": ""
             }
            },
            "type": "scatterpolargl"
           }
          ],
          "scatterternary": [
           {
            "marker": {
             "colorbar": {
              "outlinewidth": 0,
              "ticks": ""
             }
            },
            "type": "scatterternary"
           }
          ],
          "surface": [
           {
            "colorbar": {
             "outlinewidth": 0,
             "ticks": ""
            },
            "colorscale": [
             [
              0,
              "#0d0887"
             ],
             [
              0.1111111111111111,
              "#46039f"
             ],
             [
              0.2222222222222222,
              "#7201a8"
             ],
             [
              0.3333333333333333,
              "#9c179e"
             ],
             [
              0.4444444444444444,
              "#bd3786"
             ],
             [
              0.5555555555555556,
              "#d8576b"
             ],
             [
              0.6666666666666666,
              "#ed7953"
             ],
             [
              0.7777777777777778,
              "#fb9f3a"
             ],
             [
              0.8888888888888888,
              "#fdca26"
             ],
             [
              1,
              "#f0f921"
             ]
            ],
            "type": "surface"
           }
          ],
          "table": [
           {
            "cells": {
             "fill": {
              "color": "#EBF0F8"
             },
             "line": {
              "color": "white"
             }
            },
            "header": {
             "fill": {
              "color": "#C8D4E3"
             },
             "line": {
              "color": "white"
             }
            },
            "type": "table"
           }
          ]
         },
         "layout": {
          "annotationdefaults": {
           "arrowcolor": "#2a3f5f",
           "arrowhead": 0,
           "arrowwidth": 1
          },
          "autotypenumbers": "strict",
          "coloraxis": {
           "colorbar": {
            "outlinewidth": 0,
            "ticks": ""
           }
          },
          "colorscale": {
           "diverging": [
            [
             0,
             "#8e0152"
            ],
            [
             0.1,
             "#c51b7d"
            ],
            [
             0.2,
             "#de77ae"
            ],
            [
             0.3,
             "#f1b6da"
            ],
            [
             0.4,
             "#fde0ef"
            ],
            [
             0.5,
             "#f7f7f7"
            ],
            [
             0.6,
             "#e6f5d0"
            ],
            [
             0.7,
             "#b8e186"
            ],
            [
             0.8,
             "#7fbc41"
            ],
            [
             0.9,
             "#4d9221"
            ],
            [
             1,
             "#276419"
            ]
           ],
           "sequential": [
            [
             0,
             "#0d0887"
            ],
            [
             0.1111111111111111,
             "#46039f"
            ],
            [
             0.2222222222222222,
             "#7201a8"
            ],
            [
             0.3333333333333333,
             "#9c179e"
            ],
            [
             0.4444444444444444,
             "#bd3786"
            ],
            [
             0.5555555555555556,
             "#d8576b"
            ],
            [
             0.6666666666666666,
             "#ed7953"
            ],
            [
             0.7777777777777778,
             "#fb9f3a"
            ],
            [
             0.8888888888888888,
             "#fdca26"
            ],
            [
             1,
             "#f0f921"
            ]
           ],
           "sequentialminus": [
            [
             0,
             "#0d0887"
            ],
            [
             0.1111111111111111,
             "#46039f"
            ],
            [
             0.2222222222222222,
             "#7201a8"
            ],
            [
             0.3333333333333333,
             "#9c179e"
            ],
            [
             0.4444444444444444,
             "#bd3786"
            ],
            [
             0.5555555555555556,
             "#d8576b"
            ],
            [
             0.6666666666666666,
             "#ed7953"
            ],
            [
             0.7777777777777778,
             "#fb9f3a"
            ],
            [
             0.8888888888888888,
             "#fdca26"
            ],
            [
             1,
             "#f0f921"
            ]
           ]
          },
          "colorway": [
           "#636efa",
           "#EF553B",
           "#00cc96",
           "#ab63fa",
           "#FFA15A",
           "#19d3f3",
           "#FF6692",
           "#B6E880",
           "#FF97FF",
           "#FECB52"
          ],
          "font": {
           "color": "#2a3f5f"
          },
          "geo": {
           "bgcolor": "white",
           "lakecolor": "white",
           "landcolor": "#E5ECF6",
           "showlakes": true,
           "showland": true,
           "subunitcolor": "white"
          },
          "hoverlabel": {
           "align": "left"
          },
          "hovermode": "closest",
          "mapbox": {
           "style": "light"
          },
          "paper_bgcolor": "white",
          "plot_bgcolor": "#E5ECF6",
          "polar": {
           "angularaxis": {
            "gridcolor": "white",
            "linecolor": "white",
            "ticks": ""
           },
           "bgcolor": "#E5ECF6",
           "radialaxis": {
            "gridcolor": "white",
            "linecolor": "white",
            "ticks": ""
           }
          },
          "scene": {
           "xaxis": {
            "backgroundcolor": "#E5ECF6",
            "gridcolor": "white",
            "gridwidth": 2,
            "linecolor": "white",
            "showbackground": true,
            "ticks": "",
            "zerolinecolor": "white"
           },
           "yaxis": {
            "backgroundcolor": "#E5ECF6",
            "gridcolor": "white",
            "gridwidth": 2,
            "linecolor": "white",
            "showbackground": true,
            "ticks": "",
            "zerolinecolor": "white"
           },
           "zaxis": {
            "backgroundcolor": "#E5ECF6",
            "gridcolor": "white",
            "gridwidth": 2,
            "linecolor": "white",
            "showbackground": true,
            "ticks": "",
            "zerolinecolor": "white"
           }
          },
          "shapedefaults": {
           "line": {
            "color": "#2a3f5f"
           }
          },
          "ternary": {
           "aaxis": {
            "gridcolor": "white",
            "linecolor": "white",
            "ticks": ""
           },
           "baxis": {
            "gridcolor": "white",
            "linecolor": "white",
            "ticks": ""
           },
           "bgcolor": "#E5ECF6",
           "caxis": {
            "gridcolor": "white",
            "linecolor": "white",
            "ticks": ""
           }
          },
          "title": {
           "x": 0.05
          },
          "xaxis": {
           "automargin": true,
           "gridcolor": "white",
           "linecolor": "white",
           "ticks": "",
           "title": {
            "standoff": 15
           },
           "zerolinecolor": "white",
           "zerolinewidth": 2
          },
          "yaxis": {
           "automargin": true,
           "gridcolor": "white",
           "linecolor": "white",
           "ticks": "",
           "title": {
            "standoff": 15
           },
           "zerolinecolor": "white",
           "zerolinewidth": 2
          }
         }
        },
        "xaxis": {
         "anchor": "y",
         "domain": [
          0,
          1
         ],
         "title": {
          "text": "value"
         }
        },
        "yaxis": {
         "anchor": "x",
         "domain": [
          0,
          1
         ],
         "title": {
          "text": "count"
         }
        }
       }
      }
     },
     "metadata": {},
     "output_type": "display_data"
    }
   ],
   "source": [
    "px.histogram(df[\"idea_topic\"])"
   ]
  },
  {
   "cell_type": "markdown",
   "metadata": {},
   "source": [
    "On the  other hand it seems like experts seem to favour topic 2 quite drastically"
   ]
  },
  {
   "cell_type": "code",
   "execution_count": 20,
   "metadata": {},
   "outputs": [
    {
     "data": {
      "application/vnd.plotly.v1+json": {
       "config": {
        "plotlyServerURL": "https://plot.ly"
       },
       "data": [
        {
         "alignmentgroup": "True",
         "hovertemplate": "idea_topic=%{x}<br>expert_selected=%{y}<extra></extra>",
         "legendgroup": "",
         "marker": {
          "color": "#636efa",
          "pattern": {
           "shape": ""
          }
         },
         "name": "",
         "offsetgroup": "",
         "orientation": "v",
         "showlegend": false,
         "textposition": "auto",
         "type": "bar",
         "x": [
          0,
          1,
          2,
          3,
          4
         ],
         "xaxis": "x",
         "y": [
          2,
          2,
          6,
          1,
          2
         ],
         "yaxis": "y"
        }
       ],
       "layout": {
        "barmode": "relative",
        "legend": {
         "tracegroupgap": 0
        },
        "margin": {
         "t": 60
        },
        "template": {
         "data": {
          "bar": [
           {
            "error_x": {
             "color": "#2a3f5f"
            },
            "error_y": {
             "color": "#2a3f5f"
            },
            "marker": {
             "line": {
              "color": "#E5ECF6",
              "width": 0.5
             },
             "pattern": {
              "fillmode": "overlay",
              "size": 10,
              "solidity": 0.2
             }
            },
            "type": "bar"
           }
          ],
          "barpolar": [
           {
            "marker": {
             "line": {
              "color": "#E5ECF6",
              "width": 0.5
             },
             "pattern": {
              "fillmode": "overlay",
              "size": 10,
              "solidity": 0.2
             }
            },
            "type": "barpolar"
           }
          ],
          "carpet": [
           {
            "aaxis": {
             "endlinecolor": "#2a3f5f",
             "gridcolor": "white",
             "linecolor": "white",
             "minorgridcolor": "white",
             "startlinecolor": "#2a3f5f"
            },
            "baxis": {
             "endlinecolor": "#2a3f5f",
             "gridcolor": "white",
             "linecolor": "white",
             "minorgridcolor": "white",
             "startlinecolor": "#2a3f5f"
            },
            "type": "carpet"
           }
          ],
          "choropleth": [
           {
            "colorbar": {
             "outlinewidth": 0,
             "ticks": ""
            },
            "type": "choropleth"
           }
          ],
          "contour": [
           {
            "colorbar": {
             "outlinewidth": 0,
             "ticks": ""
            },
            "colorscale": [
             [
              0,
              "#0d0887"
             ],
             [
              0.1111111111111111,
              "#46039f"
             ],
             [
              0.2222222222222222,
              "#7201a8"
             ],
             [
              0.3333333333333333,
              "#9c179e"
             ],
             [
              0.4444444444444444,
              "#bd3786"
             ],
             [
              0.5555555555555556,
              "#d8576b"
             ],
             [
              0.6666666666666666,
              "#ed7953"
             ],
             [
              0.7777777777777778,
              "#fb9f3a"
             ],
             [
              0.8888888888888888,
              "#fdca26"
             ],
             [
              1,
              "#f0f921"
             ]
            ],
            "type": "contour"
           }
          ],
          "contourcarpet": [
           {
            "colorbar": {
             "outlinewidth": 0,
             "ticks": ""
            },
            "type": "contourcarpet"
           }
          ],
          "heatmap": [
           {
            "colorbar": {
             "outlinewidth": 0,
             "ticks": ""
            },
            "colorscale": [
             [
              0,
              "#0d0887"
             ],
             [
              0.1111111111111111,
              "#46039f"
             ],
             [
              0.2222222222222222,
              "#7201a8"
             ],
             [
              0.3333333333333333,
              "#9c179e"
             ],
             [
              0.4444444444444444,
              "#bd3786"
             ],
             [
              0.5555555555555556,
              "#d8576b"
             ],
             [
              0.6666666666666666,
              "#ed7953"
             ],
             [
              0.7777777777777778,
              "#fb9f3a"
             ],
             [
              0.8888888888888888,
              "#fdca26"
             ],
             [
              1,
              "#f0f921"
             ]
            ],
            "type": "heatmap"
           }
          ],
          "heatmapgl": [
           {
            "colorbar": {
             "outlinewidth": 0,
             "ticks": ""
            },
            "colorscale": [
             [
              0,
              "#0d0887"
             ],
             [
              0.1111111111111111,
              "#46039f"
             ],
             [
              0.2222222222222222,
              "#7201a8"
             ],
             [
              0.3333333333333333,
              "#9c179e"
             ],
             [
              0.4444444444444444,
              "#bd3786"
             ],
             [
              0.5555555555555556,
              "#d8576b"
             ],
             [
              0.6666666666666666,
              "#ed7953"
             ],
             [
              0.7777777777777778,
              "#fb9f3a"
             ],
             [
              0.8888888888888888,
              "#fdca26"
             ],
             [
              1,
              "#f0f921"
             ]
            ],
            "type": "heatmapgl"
           }
          ],
          "histogram": [
           {
            "marker": {
             "pattern": {
              "fillmode": "overlay",
              "size": 10,
              "solidity": 0.2
             }
            },
            "type": "histogram"
           }
          ],
          "histogram2d": [
           {
            "colorbar": {
             "outlinewidth": 0,
             "ticks": ""
            },
            "colorscale": [
             [
              0,
              "#0d0887"
             ],
             [
              0.1111111111111111,
              "#46039f"
             ],
             [
              0.2222222222222222,
              "#7201a8"
             ],
             [
              0.3333333333333333,
              "#9c179e"
             ],
             [
              0.4444444444444444,
              "#bd3786"
             ],
             [
              0.5555555555555556,
              "#d8576b"
             ],
             [
              0.6666666666666666,
              "#ed7953"
             ],
             [
              0.7777777777777778,
              "#fb9f3a"
             ],
             [
              0.8888888888888888,
              "#fdca26"
             ],
             [
              1,
              "#f0f921"
             ]
            ],
            "type": "histogram2d"
           }
          ],
          "histogram2dcontour": [
           {
            "colorbar": {
             "outlinewidth": 0,
             "ticks": ""
            },
            "colorscale": [
             [
              0,
              "#0d0887"
             ],
             [
              0.1111111111111111,
              "#46039f"
             ],
             [
              0.2222222222222222,
              "#7201a8"
             ],
             [
              0.3333333333333333,
              "#9c179e"
             ],
             [
              0.4444444444444444,
              "#bd3786"
             ],
             [
              0.5555555555555556,
              "#d8576b"
             ],
             [
              0.6666666666666666,
              "#ed7953"
             ],
             [
              0.7777777777777778,
              "#fb9f3a"
             ],
             [
              0.8888888888888888,
              "#fdca26"
             ],
             [
              1,
              "#f0f921"
             ]
            ],
            "type": "histogram2dcontour"
           }
          ],
          "mesh3d": [
           {
            "colorbar": {
             "outlinewidth": 0,
             "ticks": ""
            },
            "type": "mesh3d"
           }
          ],
          "parcoords": [
           {
            "line": {
             "colorbar": {
              "outlinewidth": 0,
              "ticks": ""
             }
            },
            "type": "parcoords"
           }
          ],
          "pie": [
           {
            "automargin": true,
            "type": "pie"
           }
          ],
          "scatter": [
           {
            "fillpattern": {
             "fillmode": "overlay",
             "size": 10,
             "solidity": 0.2
            },
            "type": "scatter"
           }
          ],
          "scatter3d": [
           {
            "line": {
             "colorbar": {
              "outlinewidth": 0,
              "ticks": ""
             }
            },
            "marker": {
             "colorbar": {
              "outlinewidth": 0,
              "ticks": ""
             }
            },
            "type": "scatter3d"
           }
          ],
          "scattercarpet": [
           {
            "marker": {
             "colorbar": {
              "outlinewidth": 0,
              "ticks": ""
             }
            },
            "type": "scattercarpet"
           }
          ],
          "scattergeo": [
           {
            "marker": {
             "colorbar": {
              "outlinewidth": 0,
              "ticks": ""
             }
            },
            "type": "scattergeo"
           }
          ],
          "scattergl": [
           {
            "marker": {
             "colorbar": {
              "outlinewidth": 0,
              "ticks": ""
             }
            },
            "type": "scattergl"
           }
          ],
          "scattermapbox": [
           {
            "marker": {
             "colorbar": {
              "outlinewidth": 0,
              "ticks": ""
             }
            },
            "type": "scattermapbox"
           }
          ],
          "scatterpolar": [
           {
            "marker": {
             "colorbar": {
              "outlinewidth": 0,
              "ticks": ""
             }
            },
            "type": "scatterpolar"
           }
          ],
          "scatterpolargl": [
           {
            "marker": {
             "colorbar": {
              "outlinewidth": 0,
              "ticks": ""
             }
            },
            "type": "scatterpolargl"
           }
          ],
          "scatterternary": [
           {
            "marker": {
             "colorbar": {
              "outlinewidth": 0,
              "ticks": ""
             }
            },
            "type": "scatterternary"
           }
          ],
          "surface": [
           {
            "colorbar": {
             "outlinewidth": 0,
             "ticks": ""
            },
            "colorscale": [
             [
              0,
              "#0d0887"
             ],
             [
              0.1111111111111111,
              "#46039f"
             ],
             [
              0.2222222222222222,
              "#7201a8"
             ],
             [
              0.3333333333333333,
              "#9c179e"
             ],
             [
              0.4444444444444444,
              "#bd3786"
             ],
             [
              0.5555555555555556,
              "#d8576b"
             ],
             [
              0.6666666666666666,
              "#ed7953"
             ],
             [
              0.7777777777777778,
              "#fb9f3a"
             ],
             [
              0.8888888888888888,
              "#fdca26"
             ],
             [
              1,
              "#f0f921"
             ]
            ],
            "type": "surface"
           }
          ],
          "table": [
           {
            "cells": {
             "fill": {
              "color": "#EBF0F8"
             },
             "line": {
              "color": "white"
             }
            },
            "header": {
             "fill": {
              "color": "#C8D4E3"
             },
             "line": {
              "color": "white"
             }
            },
            "type": "table"
           }
          ]
         },
         "layout": {
          "annotationdefaults": {
           "arrowcolor": "#2a3f5f",
           "arrowhead": 0,
           "arrowwidth": 1
          },
          "autotypenumbers": "strict",
          "coloraxis": {
           "colorbar": {
            "outlinewidth": 0,
            "ticks": ""
           }
          },
          "colorscale": {
           "diverging": [
            [
             0,
             "#8e0152"
            ],
            [
             0.1,
             "#c51b7d"
            ],
            [
             0.2,
             "#de77ae"
            ],
            [
             0.3,
             "#f1b6da"
            ],
            [
             0.4,
             "#fde0ef"
            ],
            [
             0.5,
             "#f7f7f7"
            ],
            [
             0.6,
             "#e6f5d0"
            ],
            [
             0.7,
             "#b8e186"
            ],
            [
             0.8,
             "#7fbc41"
            ],
            [
             0.9,
             "#4d9221"
            ],
            [
             1,
             "#276419"
            ]
           ],
           "sequential": [
            [
             0,
             "#0d0887"
            ],
            [
             0.1111111111111111,
             "#46039f"
            ],
            [
             0.2222222222222222,
             "#7201a8"
            ],
            [
             0.3333333333333333,
             "#9c179e"
            ],
            [
             0.4444444444444444,
             "#bd3786"
            ],
            [
             0.5555555555555556,
             "#d8576b"
            ],
            [
             0.6666666666666666,
             "#ed7953"
            ],
            [
             0.7777777777777778,
             "#fb9f3a"
            ],
            [
             0.8888888888888888,
             "#fdca26"
            ],
            [
             1,
             "#f0f921"
            ]
           ],
           "sequentialminus": [
            [
             0,
             "#0d0887"
            ],
            [
             0.1111111111111111,
             "#46039f"
            ],
            [
             0.2222222222222222,
             "#7201a8"
            ],
            [
             0.3333333333333333,
             "#9c179e"
            ],
            [
             0.4444444444444444,
             "#bd3786"
            ],
            [
             0.5555555555555556,
             "#d8576b"
            ],
            [
             0.6666666666666666,
             "#ed7953"
            ],
            [
             0.7777777777777778,
             "#fb9f3a"
            ],
            [
             0.8888888888888888,
             "#fdca26"
            ],
            [
             1,
             "#f0f921"
            ]
           ]
          },
          "colorway": [
           "#636efa",
           "#EF553B",
           "#00cc96",
           "#ab63fa",
           "#FFA15A",
           "#19d3f3",
           "#FF6692",
           "#B6E880",
           "#FF97FF",
           "#FECB52"
          ],
          "font": {
           "color": "#2a3f5f"
          },
          "geo": {
           "bgcolor": "white",
           "lakecolor": "white",
           "landcolor": "#E5ECF6",
           "showlakes": true,
           "showland": true,
           "subunitcolor": "white"
          },
          "hoverlabel": {
           "align": "left"
          },
          "hovermode": "closest",
          "mapbox": {
           "style": "light"
          },
          "paper_bgcolor": "white",
          "plot_bgcolor": "#E5ECF6",
          "polar": {
           "angularaxis": {
            "gridcolor": "white",
            "linecolor": "white",
            "ticks": ""
           },
           "bgcolor": "#E5ECF6",
           "radialaxis": {
            "gridcolor": "white",
            "linecolor": "white",
            "ticks": ""
           }
          },
          "scene": {
           "xaxis": {
            "backgroundcolor": "#E5ECF6",
            "gridcolor": "white",
            "gridwidth": 2,
            "linecolor": "white",
            "showbackground": true,
            "ticks": "",
            "zerolinecolor": "white"
           },
           "yaxis": {
            "backgroundcolor": "#E5ECF6",
            "gridcolor": "white",
            "gridwidth": 2,
            "linecolor": "white",
            "showbackground": true,
            "ticks": "",
            "zerolinecolor": "white"
           },
           "zaxis": {
            "backgroundcolor": "#E5ECF6",
            "gridcolor": "white",
            "gridwidth": 2,
            "linecolor": "white",
            "showbackground": true,
            "ticks": "",
            "zerolinecolor": "white"
           }
          },
          "shapedefaults": {
           "line": {
            "color": "#2a3f5f"
           }
          },
          "ternary": {
           "aaxis": {
            "gridcolor": "white",
            "linecolor": "white",
            "ticks": ""
           },
           "baxis": {
            "gridcolor": "white",
            "linecolor": "white",
            "ticks": ""
           },
           "bgcolor": "#E5ECF6",
           "caxis": {
            "gridcolor": "white",
            "linecolor": "white",
            "ticks": ""
           }
          },
          "title": {
           "x": 0.05
          },
          "xaxis": {
           "automargin": true,
           "gridcolor": "white",
           "linecolor": "white",
           "ticks": "",
           "title": {
            "standoff": 15
           },
           "zerolinecolor": "white",
           "zerolinewidth": 2
          },
          "yaxis": {
           "automargin": true,
           "gridcolor": "white",
           "linecolor": "white",
           "ticks": "",
           "title": {
            "standoff": 15
           },
           "zerolinecolor": "white",
           "zerolinewidth": 2
          }
         }
        },
        "xaxis": {
         "anchor": "y",
         "domain": [
          0,
          1
         ],
         "title": {
          "text": "idea_topic"
         }
        },
        "yaxis": {
         "anchor": "x",
         "domain": [
          0,
          1
         ],
         "title": {
          "text": "expert_selected"
         }
        }
       }
      }
     },
     "metadata": {},
     "output_type": "display_data"
    }
   ],
   "source": [
    "count_expert_selected = (\n",
    "    df[df[\"expert_selected\"] == 1]\n",
    "    .groupby(\"idea_topic\")\n",
    "    .count()[\"expert_selected\"]\n",
    "    .to_frame()\n",
    "    .reset_index()\n",
    ")\n",
    "px.bar(count_expert_selected, x=\"idea_topic\", y=\"expert_selected\")"
   ]
  },
  {
   "cell_type": "markdown",
   "metadata": {},
   "source": [
    "## Supervised learning\n",
    "\n",
    "We transform the ideas to term frequency-inverse document frequency vectors, and then try to see\n",
    "whether we can reliably classify if an idea is going to be selected by an expert or not."
   ]
  },
  {
   "cell_type": "code",
   "execution_count": 21,
   "metadata": {},
   "outputs": [],
   "source": [
    "from sklearn.dummy import DummyClassifier\n",
    "from sklearn.ensemble import RandomForestClassifier\n",
    "\n",
    "from utils.learn import evaluate_model\n",
    "\n",
    "X = nmf_model.tf_idf.transform(df[\"idea\"])\n",
    "y = df[\"expert_selected\"].tolist()"
   ]
  },
  {
   "cell_type": "markdown",
   "metadata": {},
   "source": [
    "We test 2 models on the data:\n",
    " - DummyClassifier: A classifier that does not learn anything from the data, we use it to obtain chance level accuracy scores\n",
    " - RandomForest: An ensemble learning method that usually performs well in classification tasks and is quite robust against overfitting"
   ]
  },
  {
   "cell_type": "markdown",
   "metadata": {},
   "source": [
    "In order to evaluate whether RandomForest performs any better than a the Dummy we conduct the following simulation 500 times:\n",
    " - We shuffle the data and divide it into a training and a testing set by a random split\n",
    " - We fit the models to the training part of the dataset\n",
    " - We test the models' accuracy on data it has not seen before, thereby seeing how much it generalises"
   ]
  },
  {
   "cell_type": "code",
   "execution_count": 22,
   "metadata": {},
   "outputs": [],
   "source": [
    "n_sim=500\n",
    "dummy_accuracy = evaluate_model(\n",
    "    DummyClassifier,\n",
    "    X,y,\n",
    "    n_sim=n_sim\n",
    ")\n",
    "rforest_accuracy = evaluate_model(\n",
    "    RandomForestClassifier,\n",
    "    X,y,\n",
    "    n_sim=n_sim\n",
    ")\n",
    "evaluation_df = pd.DataFrame({\n",
    "    \"model\": [\"Dummy\"]*n_sim+[\"RandomForest\"]*n_sim,\n",
    "    \"accuracy\": list(dummy_accuracy) + list(rforest_accuracy)\n",
    "})"
   ]
  },
  {
   "cell_type": "markdown",
   "metadata": {},
   "source": [
    "After the simulations we look at the box plot of accuracy scores to see if the two models perform significantly differently"
   ]
  },
  {
   "cell_type": "code",
   "execution_count": 23,
   "metadata": {},
   "outputs": [
    {
     "data": {
      "application/vnd.plotly.v1+json": {
       "config": {
        "plotlyServerURL": "https://plot.ly"
       },
       "data": [
        {
         "alignmentgroup": "True",
         "boxpoints": "all",
         "hovertemplate": "model=%{x}<br>accuracy=%{y}<extra></extra>",
         "legendgroup": "",
         "marker": {
          "color": "#636efa"
         },
         "name": "",
         "notched": false,
         "offsetgroup": "",
         "orientation": "v",
         "showlegend": false,
         "type": "box",
         "x": [
          "Dummy",
          "Dummy",
          "Dummy",
          "Dummy",
          "Dummy",
          "Dummy",
          "Dummy",
          "Dummy",
          "Dummy",
          "Dummy",
          "Dummy",
          "Dummy",
          "Dummy",
          "Dummy",
          "Dummy",
          "Dummy",
          "Dummy",
          "Dummy",
          "Dummy",
          "Dummy",
          "Dummy",
          "Dummy",
          "Dummy",
          "Dummy",
          "Dummy",
          "Dummy",
          "Dummy",
          "Dummy",
          "Dummy",
          "Dummy",
          "Dummy",
          "Dummy",
          "Dummy",
          "Dummy",
          "Dummy",
          "Dummy",
          "Dummy",
          "Dummy",
          "Dummy",
          "Dummy",
          "Dummy",
          "Dummy",
          "Dummy",
          "Dummy",
          "Dummy",
          "Dummy",
          "Dummy",
          "Dummy",
          "Dummy",
          "Dummy",
          "Dummy",
          "Dummy",
          "Dummy",
          "Dummy",
          "Dummy",
          "Dummy",
          "Dummy",
          "Dummy",
          "Dummy",
          "Dummy",
          "Dummy",
          "Dummy",
          "Dummy",
          "Dummy",
          "Dummy",
          "Dummy",
          "Dummy",
          "Dummy",
          "Dummy",
          "Dummy",
          "Dummy",
          "Dummy",
          "Dummy",
          "Dummy",
          "Dummy",
          "Dummy",
          "Dummy",
          "Dummy",
          "Dummy",
          "Dummy",
          "Dummy",
          "Dummy",
          "Dummy",
          "Dummy",
          "Dummy",
          "Dummy",
          "Dummy",
          "Dummy",
          "Dummy",
          "Dummy",
          "Dummy",
          "Dummy",
          "Dummy",
          "Dummy",
          "Dummy",
          "Dummy",
          "Dummy",
          "Dummy",
          "Dummy",
          "Dummy",
          "Dummy",
          "Dummy",
          "Dummy",
          "Dummy",
          "Dummy",
          "Dummy",
          "Dummy",
          "Dummy",
          "Dummy",
          "Dummy",
          "Dummy",
          "Dummy",
          "Dummy",
          "Dummy",
          "Dummy",
          "Dummy",
          "Dummy",
          "Dummy",
          "Dummy",
          "Dummy",
          "Dummy",
          "Dummy",
          "Dummy",
          "Dummy",
          "Dummy",
          "Dummy",
          "Dummy",
          "Dummy",
          "Dummy",
          "Dummy",
          "Dummy",
          "Dummy",
          "Dummy",
          "Dummy",
          "Dummy",
          "Dummy",
          "Dummy",
          "Dummy",
          "Dummy",
          "Dummy",
          "Dummy",
          "Dummy",
          "Dummy",
          "Dummy",
          "Dummy",
          "Dummy",
          "Dummy",
          "Dummy",
          "Dummy",
          "Dummy",
          "Dummy",
          "Dummy",
          "Dummy",
          "Dummy",
          "Dummy",
          "Dummy",
          "Dummy",
          "Dummy",
          "Dummy",
          "Dummy",
          "Dummy",
          "Dummy",
          "Dummy",
          "Dummy",
          "Dummy",
          "Dummy",
          "Dummy",
          "Dummy",
          "Dummy",
          "Dummy",
          "Dummy",
          "Dummy",
          "Dummy",
          "Dummy",
          "Dummy",
          "Dummy",
          "Dummy",
          "Dummy",
          "Dummy",
          "Dummy",
          "Dummy",
          "Dummy",
          "Dummy",
          "Dummy",
          "Dummy",
          "Dummy",
          "Dummy",
          "Dummy",
          "Dummy",
          "Dummy",
          "Dummy",
          "Dummy",
          "Dummy",
          "Dummy",
          "Dummy",
          "Dummy",
          "Dummy",
          "Dummy",
          "Dummy",
          "Dummy",
          "Dummy",
          "Dummy",
          "Dummy",
          "Dummy",
          "Dummy",
          "Dummy",
          "Dummy",
          "Dummy",
          "Dummy",
          "Dummy",
          "Dummy",
          "Dummy",
          "Dummy",
          "Dummy",
          "Dummy",
          "Dummy",
          "Dummy",
          "Dummy",
          "Dummy",
          "Dummy",
          "Dummy",
          "Dummy",
          "Dummy",
          "Dummy",
          "Dummy",
          "Dummy",
          "Dummy",
          "Dummy",
          "Dummy",
          "Dummy",
          "Dummy",
          "Dummy",
          "Dummy",
          "Dummy",
          "Dummy",
          "Dummy",
          "Dummy",
          "Dummy",
          "Dummy",
          "Dummy",
          "Dummy",
          "Dummy",
          "Dummy",
          "Dummy",
          "Dummy",
          "Dummy",
          "Dummy",
          "Dummy",
          "Dummy",
          "Dummy",
          "Dummy",
          "Dummy",
          "Dummy",
          "Dummy",
          "Dummy",
          "Dummy",
          "Dummy",
          "Dummy",
          "Dummy",
          "Dummy",
          "Dummy",
          "Dummy",
          "Dummy",
          "Dummy",
          "Dummy",
          "Dummy",
          "Dummy",
          "Dummy",
          "Dummy",
          "Dummy",
          "Dummy",
          "Dummy",
          "Dummy",
          "Dummy",
          "Dummy",
          "Dummy",
          "Dummy",
          "Dummy",
          "Dummy",
          "Dummy",
          "Dummy",
          "Dummy",
          "Dummy",
          "Dummy",
          "Dummy",
          "Dummy",
          "Dummy",
          "Dummy",
          "Dummy",
          "Dummy",
          "Dummy",
          "Dummy",
          "Dummy",
          "Dummy",
          "Dummy",
          "Dummy",
          "Dummy",
          "Dummy",
          "Dummy",
          "Dummy",
          "Dummy",
          "Dummy",
          "Dummy",
          "Dummy",
          "Dummy",
          "Dummy",
          "Dummy",
          "Dummy",
          "Dummy",
          "Dummy",
          "Dummy",
          "Dummy",
          "Dummy",
          "Dummy",
          "Dummy",
          "Dummy",
          "Dummy",
          "Dummy",
          "Dummy",
          "Dummy",
          "Dummy",
          "Dummy",
          "Dummy",
          "Dummy",
          "Dummy",
          "Dummy",
          "Dummy",
          "Dummy",
          "Dummy",
          "Dummy",
          "Dummy",
          "Dummy",
          "Dummy",
          "Dummy",
          "Dummy",
          "Dummy",
          "Dummy",
          "Dummy",
          "Dummy",
          "Dummy",
          "Dummy",
          "Dummy",
          "Dummy",
          "Dummy",
          "Dummy",
          "Dummy",
          "Dummy",
          "Dummy",
          "Dummy",
          "Dummy",
          "Dummy",
          "Dummy",
          "Dummy",
          "Dummy",
          "Dummy",
          "Dummy",
          "Dummy",
          "Dummy",
          "Dummy",
          "Dummy",
          "Dummy",
          "Dummy",
          "Dummy",
          "Dummy",
          "Dummy",
          "Dummy",
          "Dummy",
          "Dummy",
          "Dummy",
          "Dummy",
          "Dummy",
          "Dummy",
          "Dummy",
          "Dummy",
          "Dummy",
          "Dummy",
          "Dummy",
          "Dummy",
          "Dummy",
          "Dummy",
          "Dummy",
          "Dummy",
          "Dummy",
          "Dummy",
          "Dummy",
          "Dummy",
          "Dummy",
          "Dummy",
          "Dummy",
          "Dummy",
          "Dummy",
          "Dummy",
          "Dummy",
          "Dummy",
          "Dummy",
          "Dummy",
          "Dummy",
          "Dummy",
          "Dummy",
          "Dummy",
          "Dummy",
          "Dummy",
          "Dummy",
          "Dummy",
          "Dummy",
          "Dummy",
          "Dummy",
          "Dummy",
          "Dummy",
          "Dummy",
          "Dummy",
          "Dummy",
          "Dummy",
          "Dummy",
          "Dummy",
          "Dummy",
          "Dummy",
          "Dummy",
          "Dummy",
          "Dummy",
          "Dummy",
          "Dummy",
          "Dummy",
          "Dummy",
          "Dummy",
          "Dummy",
          "Dummy",
          "Dummy",
          "Dummy",
          "Dummy",
          "Dummy",
          "Dummy",
          "Dummy",
          "Dummy",
          "Dummy",
          "Dummy",
          "Dummy",
          "Dummy",
          "Dummy",
          "Dummy",
          "Dummy",
          "Dummy",
          "Dummy",
          "Dummy",
          "Dummy",
          "Dummy",
          "Dummy",
          "Dummy",
          "Dummy",
          "Dummy",
          "Dummy",
          "Dummy",
          "Dummy",
          "Dummy",
          "Dummy",
          "Dummy",
          "Dummy",
          "Dummy",
          "Dummy",
          "Dummy",
          "Dummy",
          "Dummy",
          "Dummy",
          "Dummy",
          "Dummy",
          "Dummy",
          "Dummy",
          "Dummy",
          "Dummy",
          "Dummy",
          "Dummy",
          "Dummy",
          "Dummy",
          "Dummy",
          "Dummy",
          "Dummy",
          "Dummy",
          "Dummy",
          "Dummy",
          "Dummy",
          "Dummy",
          "Dummy",
          "Dummy",
          "Dummy",
          "Dummy",
          "Dummy",
          "Dummy",
          "Dummy",
          "Dummy",
          "Dummy",
          "Dummy",
          "Dummy",
          "Dummy",
          "Dummy",
          "Dummy",
          "Dummy",
          "Dummy",
          "Dummy",
          "Dummy",
          "Dummy",
          "RandomForest",
          "RandomForest",
          "RandomForest",
          "RandomForest",
          "RandomForest",
          "RandomForest",
          "RandomForest",
          "RandomForest",
          "RandomForest",
          "RandomForest",
          "RandomForest",
          "RandomForest",
          "RandomForest",
          "RandomForest",
          "RandomForest",
          "RandomForest",
          "RandomForest",
          "RandomForest",
          "RandomForest",
          "RandomForest",
          "RandomForest",
          "RandomForest",
          "RandomForest",
          "RandomForest",
          "RandomForest",
          "RandomForest",
          "RandomForest",
          "RandomForest",
          "RandomForest",
          "RandomForest",
          "RandomForest",
          "RandomForest",
          "RandomForest",
          "RandomForest",
          "RandomForest",
          "RandomForest",
          "RandomForest",
          "RandomForest",
          "RandomForest",
          "RandomForest",
          "RandomForest",
          "RandomForest",
          "RandomForest",
          "RandomForest",
          "RandomForest",
          "RandomForest",
          "RandomForest",
          "RandomForest",
          "RandomForest",
          "RandomForest",
          "RandomForest",
          "RandomForest",
          "RandomForest",
          "RandomForest",
          "RandomForest",
          "RandomForest",
          "RandomForest",
          "RandomForest",
          "RandomForest",
          "RandomForest",
          "RandomForest",
          "RandomForest",
          "RandomForest",
          "RandomForest",
          "RandomForest",
          "RandomForest",
          "RandomForest",
          "RandomForest",
          "RandomForest",
          "RandomForest",
          "RandomForest",
          "RandomForest",
          "RandomForest",
          "RandomForest",
          "RandomForest",
          "RandomForest",
          "RandomForest",
          "RandomForest",
          "RandomForest",
          "RandomForest",
          "RandomForest",
          "RandomForest",
          "RandomForest",
          "RandomForest",
          "RandomForest",
          "RandomForest",
          "RandomForest",
          "RandomForest",
          "RandomForest",
          "RandomForest",
          "RandomForest",
          "RandomForest",
          "RandomForest",
          "RandomForest",
          "RandomForest",
          "RandomForest",
          "RandomForest",
          "RandomForest",
          "RandomForest",
          "RandomForest",
          "RandomForest",
          "RandomForest",
          "RandomForest",
          "RandomForest",
          "RandomForest",
          "RandomForest",
          "RandomForest",
          "RandomForest",
          "RandomForest",
          "RandomForest",
          "RandomForest",
          "RandomForest",
          "RandomForest",
          "RandomForest",
          "RandomForest",
          "RandomForest",
          "RandomForest",
          "RandomForest",
          "RandomForest",
          "RandomForest",
          "RandomForest",
          "RandomForest",
          "RandomForest",
          "RandomForest",
          "RandomForest",
          "RandomForest",
          "RandomForest",
          "RandomForest",
          "RandomForest",
          "RandomForest",
          "RandomForest",
          "RandomForest",
          "RandomForest",
          "RandomForest",
          "RandomForest",
          "RandomForest",
          "RandomForest",
          "RandomForest",
          "RandomForest",
          "RandomForest",
          "RandomForest",
          "RandomForest",
          "RandomForest",
          "RandomForest",
          "RandomForest",
          "RandomForest",
          "RandomForest",
          "RandomForest",
          "RandomForest",
          "RandomForest",
          "RandomForest",
          "RandomForest",
          "RandomForest",
          "RandomForest",
          "RandomForest",
          "RandomForest",
          "RandomForest",
          "RandomForest",
          "RandomForest",
          "RandomForest",
          "RandomForest",
          "RandomForest",
          "RandomForest",
          "RandomForest",
          "RandomForest",
          "RandomForest",
          "RandomForest",
          "RandomForest",
          "RandomForest",
          "RandomForest",
          "RandomForest",
          "RandomForest",
          "RandomForest",
          "RandomForest",
          "RandomForest",
          "RandomForest",
          "RandomForest",
          "RandomForest",
          "RandomForest",
          "RandomForest",
          "RandomForest",
          "RandomForest",
          "RandomForest",
          "RandomForest",
          "RandomForest",
          "RandomForest",
          "RandomForest",
          "RandomForest",
          "RandomForest",
          "RandomForest",
          "RandomForest",
          "RandomForest",
          "RandomForest",
          "RandomForest",
          "RandomForest",
          "RandomForest",
          "RandomForest",
          "RandomForest",
          "RandomForest",
          "RandomForest",
          "RandomForest",
          "RandomForest",
          "RandomForest",
          "RandomForest",
          "RandomForest",
          "RandomForest",
          "RandomForest",
          "RandomForest",
          "RandomForest",
          "RandomForest",
          "RandomForest",
          "RandomForest",
          "RandomForest",
          "RandomForest",
          "RandomForest",
          "RandomForest",
          "RandomForest",
          "RandomForest",
          "RandomForest",
          "RandomForest",
          "RandomForest",
          "RandomForest",
          "RandomForest",
          "RandomForest",
          "RandomForest",
          "RandomForest",
          "RandomForest",
          "RandomForest",
          "RandomForest",
          "RandomForest",
          "RandomForest",
          "RandomForest",
          "RandomForest",
          "RandomForest",
          "RandomForest",
          "RandomForest",
          "RandomForest",
          "RandomForest",
          "RandomForest",
          "RandomForest",
          "RandomForest",
          "RandomForest",
          "RandomForest",
          "RandomForest",
          "RandomForest",
          "RandomForest",
          "RandomForest",
          "RandomForest",
          "RandomForest",
          "RandomForest",
          "RandomForest",
          "RandomForest",
          "RandomForest",
          "RandomForest",
          "RandomForest",
          "RandomForest",
          "RandomForest",
          "RandomForest",
          "RandomForest",
          "RandomForest",
          "RandomForest",
          "RandomForest",
          "RandomForest",
          "RandomForest",
          "RandomForest",
          "RandomForest",
          "RandomForest",
          "RandomForest",
          "RandomForest",
          "RandomForest",
          "RandomForest",
          "RandomForest",
          "RandomForest",
          "RandomForest",
          "RandomForest",
          "RandomForest",
          "RandomForest",
          "RandomForest",
          "RandomForest",
          "RandomForest",
          "RandomForest",
          "RandomForest",
          "RandomForest",
          "RandomForest",
          "RandomForest",
          "RandomForest",
          "RandomForest",
          "RandomForest",
          "RandomForest",
          "RandomForest",
          "RandomForest",
          "RandomForest",
          "RandomForest",
          "RandomForest",
          "RandomForest",
          "RandomForest",
          "RandomForest",
          "RandomForest",
          "RandomForest",
          "RandomForest",
          "RandomForest",
          "RandomForest",
          "RandomForest",
          "RandomForest",
          "RandomForest",
          "RandomForest",
          "RandomForest",
          "RandomForest",
          "RandomForest",
          "RandomForest",
          "RandomForest",
          "RandomForest",
          "RandomForest",
          "RandomForest",
          "RandomForest",
          "RandomForest",
          "RandomForest",
          "RandomForest",
          "RandomForest",
          "RandomForest",
          "RandomForest",
          "RandomForest",
          "RandomForest",
          "RandomForest",
          "RandomForest",
          "RandomForest",
          "RandomForest",
          "RandomForest",
          "RandomForest",
          "RandomForest",
          "RandomForest",
          "RandomForest",
          "RandomForest",
          "RandomForest",
          "RandomForest",
          "RandomForest",
          "RandomForest",
          "RandomForest",
          "RandomForest",
          "RandomForest",
          "RandomForest",
          "RandomForest",
          "RandomForest",
          "RandomForest",
          "RandomForest",
          "RandomForest",
          "RandomForest",
          "RandomForest",
          "RandomForest",
          "RandomForest",
          "RandomForest",
          "RandomForest",
          "RandomForest",
          "RandomForest",
          "RandomForest",
          "RandomForest",
          "RandomForest",
          "RandomForest",
          "RandomForest",
          "RandomForest",
          "RandomForest",
          "RandomForest",
          "RandomForest",
          "RandomForest",
          "RandomForest",
          "RandomForest",
          "RandomForest",
          "RandomForest",
          "RandomForest",
          "RandomForest",
          "RandomForest",
          "RandomForest",
          "RandomForest",
          "RandomForest",
          "RandomForest",
          "RandomForest",
          "RandomForest",
          "RandomForest",
          "RandomForest",
          "RandomForest",
          "RandomForest",
          "RandomForest",
          "RandomForest",
          "RandomForest",
          "RandomForest",
          "RandomForest",
          "RandomForest",
          "RandomForest",
          "RandomForest",
          "RandomForest",
          "RandomForest",
          "RandomForest",
          "RandomForest",
          "RandomForest",
          "RandomForest",
          "RandomForest",
          "RandomForest",
          "RandomForest",
          "RandomForest",
          "RandomForest",
          "RandomForest",
          "RandomForest",
          "RandomForest",
          "RandomForest",
          "RandomForest",
          "RandomForest",
          "RandomForest",
          "RandomForest",
          "RandomForest",
          "RandomForest",
          "RandomForest",
          "RandomForest",
          "RandomForest",
          "RandomForest",
          "RandomForest",
          "RandomForest",
          "RandomForest",
          "RandomForest",
          "RandomForest",
          "RandomForest",
          "RandomForest",
          "RandomForest",
          "RandomForest",
          "RandomForest",
          "RandomForest",
          "RandomForest",
          "RandomForest",
          "RandomForest",
          "RandomForest",
          "RandomForest",
          "RandomForest",
          "RandomForest",
          "RandomForest",
          "RandomForest",
          "RandomForest",
          "RandomForest",
          "RandomForest",
          "RandomForest",
          "RandomForest",
          "RandomForest",
          "RandomForest",
          "RandomForest",
          "RandomForest",
          "RandomForest",
          "RandomForest",
          "RandomForest",
          "RandomForest",
          "RandomForest",
          "RandomForest",
          "RandomForest",
          "RandomForest",
          "RandomForest",
          "RandomForest",
          "RandomForest",
          "RandomForest",
          "RandomForest",
          "RandomForest",
          "RandomForest",
          "RandomForest",
          "RandomForest",
          "RandomForest",
          "RandomForest",
          "RandomForest",
          "RandomForest",
          "RandomForest",
          "RandomForest",
          "RandomForest",
          "RandomForest",
          "RandomForest",
          "RandomForest",
          "RandomForest",
          "RandomForest",
          "RandomForest",
          "RandomForest",
          "RandomForest",
          "RandomForest",
          "RandomForest",
          "RandomForest",
          "RandomForest",
          "RandomForest",
          "RandomForest",
          "RandomForest",
          "RandomForest",
          "RandomForest",
          "RandomForest",
          "RandomForest",
          "RandomForest",
          "RandomForest",
          "RandomForest",
          "RandomForest",
          "RandomForest",
          "RandomForest",
          "RandomForest",
          "RandomForest",
          "RandomForest",
          "RandomForest",
          "RandomForest",
          "RandomForest",
          "RandomForest",
          "RandomForest"
         ],
         "x0": " ",
         "xaxis": "x",
         "y": [
          0.8148148148148148,
          0.8888888888888888,
          0.9259259259259259,
          0.8888888888888888,
          0.7777777777777778,
          0.9629629629629629,
          0.8518518518518519,
          0.8518518518518519,
          0.9629629629629629,
          0.9259259259259259,
          0.8888888888888888,
          0.9629629629629629,
          0.8518518518518519,
          0.8888888888888888,
          0.9629629629629629,
          0.8518518518518519,
          0.9629629629629629,
          0.9259259259259259,
          0.9629629629629629,
          0.8888888888888888,
          0.8518518518518519,
          1,
          0.9629629629629629,
          0.8888888888888888,
          0.9259259259259259,
          0.8518518518518519,
          0.9259259259259259,
          0.9629629629629629,
          0.8148148148148148,
          0.8518518518518519,
          0.8518518518518519,
          0.8888888888888888,
          0.9259259259259259,
          0.8518518518518519,
          0.8518518518518519,
          0.8518518518518519,
          0.8888888888888888,
          0.8518518518518519,
          0.7777777777777778,
          0.9629629629629629,
          0.8888888888888888,
          1,
          0.9629629629629629,
          0.8888888888888888,
          0.8888888888888888,
          0.8888888888888888,
          0.8888888888888888,
          0.9259259259259259,
          0.8518518518518519,
          0.8888888888888888,
          0.9259259259259259,
          0.9259259259259259,
          0.8148148148148148,
          0.8518518518518519,
          0.8888888888888888,
          0.9629629629629629,
          0.9259259259259259,
          0.7777777777777778,
          1,
          0.8518518518518519,
          0.8518518518518519,
          0.8888888888888888,
          0.9259259259259259,
          0.8518518518518519,
          0.9629629629629629,
          0.8518518518518519,
          0.9259259259259259,
          0.8888888888888888,
          0.8148148148148148,
          0.8148148148148148,
          0.8888888888888888,
          0.8518518518518519,
          0.8518518518518519,
          0.7777777777777778,
          0.8148148148148148,
          0.8888888888888888,
          0.8518518518518519,
          0.8888888888888888,
          0.9629629629629629,
          0.9629629629629629,
          0.9259259259259259,
          0.8518518518518519,
          0.8518518518518519,
          0.8888888888888888,
          0.8888888888888888,
          0.9259259259259259,
          0.8518518518518519,
          0.8518518518518519,
          0.8148148148148148,
          0.9629629629629629,
          0.8888888888888888,
          0.9259259259259259,
          0.9259259259259259,
          0.8888888888888888,
          0.8888888888888888,
          0.8148148148148148,
          0.8518518518518519,
          0.8518518518518519,
          0.8148148148148148,
          0.8518518518518519,
          0.7777777777777778,
          0.8888888888888888,
          0.8888888888888888,
          0.9259259259259259,
          0.9629629629629629,
          0.8518518518518519,
          0.8518518518518519,
          0.7777777777777778,
          0.8518518518518519,
          0.8148148148148148,
          0.8518518518518519,
          0.9629629629629629,
          0.9259259259259259,
          0.9259259259259259,
          0.9259259259259259,
          0.9629629629629629,
          0.8518518518518519,
          0.9259259259259259,
          0.8888888888888888,
          0.9629629629629629,
          0.8888888888888888,
          0.8148148148148148,
          0.9629629629629629,
          0.8148148148148148,
          0.9259259259259259,
          0.8518518518518519,
          0.9259259259259259,
          0.8518518518518519,
          0.8518518518518519,
          0.8518518518518519,
          0.8148148148148148,
          0.8888888888888888,
          0.8518518518518519,
          0.8888888888888888,
          0.8518518518518519,
          0.8518518518518519,
          0.8888888888888888,
          0.9259259259259259,
          0.8148148148148148,
          0.8888888888888888,
          0.9259259259259259,
          0.9259259259259259,
          0.9629629629629629,
          0.8888888888888888,
          0.8518518518518519,
          0.9259259259259259,
          0.9259259259259259,
          0.9259259259259259,
          0.8888888888888888,
          0.8888888888888888,
          0.8888888888888888,
          0.8518518518518519,
          0.8518518518518519,
          0.7777777777777778,
          0.7777777777777778,
          0.9259259259259259,
          0.8148148148148148,
          0.9259259259259259,
          0.9629629629629629,
          0.9259259259259259,
          0.8888888888888888,
          0.9259259259259259,
          0.9259259259259259,
          0.8518518518518519,
          0.8148148148148148,
          0.8148148148148148,
          0.9259259259259259,
          1,
          0.8148148148148148,
          0.8148148148148148,
          0.7777777777777778,
          0.8518518518518519,
          0.9259259259259259,
          0.8888888888888888,
          0.9259259259259259,
          0.8148148148148148,
          0.8518518518518519,
          0.7777777777777778,
          0.8888888888888888,
          0.8888888888888888,
          0.9259259259259259,
          0.8888888888888888,
          0.8518518518518519,
          0.8148148148148148,
          0.8888888888888888,
          1,
          0.8148148148148148,
          0.9259259259259259,
          0.8148148148148148,
          0.7777777777777778,
          0.8888888888888888,
          0.8518518518518519,
          0.9259259259259259,
          0.8518518518518519,
          0.8518518518518519,
          0.8888888888888888,
          0.8148148148148148,
          1,
          0.8888888888888888,
          0.8518518518518519,
          0.9259259259259259,
          0.8518518518518519,
          0.8888888888888888,
          0.8518518518518519,
          0.8888888888888888,
          0.8148148148148148,
          0.9259259259259259,
          0.8888888888888888,
          0.8888888888888888,
          0.8148148148148148,
          0.8148148148148148,
          0.8148148148148148,
          0.8888888888888888,
          0.9629629629629629,
          0.8518518518518519,
          0.8888888888888888,
          0.8518518518518519,
          0.9629629629629629,
          0.9259259259259259,
          0.8518518518518519,
          0.7777777777777778,
          0.9259259259259259,
          0.9259259259259259,
          0.9629629629629629,
          0.7777777777777778,
          0.9259259259259259,
          0.7777777777777778,
          0.8518518518518519,
          0.9259259259259259,
          0.8148148148148148,
          0.8518518518518519,
          0.8888888888888888,
          0.8518518518518519,
          0.8888888888888888,
          0.8518518518518519,
          0.7777777777777778,
          0.8888888888888888,
          0.9259259259259259,
          0.8518518518518519,
          0.8888888888888888,
          0.8148148148148148,
          0.8888888888888888,
          0.9259259259259259,
          0.8888888888888888,
          0.9629629629629629,
          0.8888888888888888,
          0.8518518518518519,
          0.8888888888888888,
          0.8888888888888888,
          0.8888888888888888,
          0.8148148148148148,
          0.8888888888888888,
          0.8518518518518519,
          0.8518518518518519,
          0.9259259259259259,
          0.9629629629629629,
          0.7407407407407407,
          0.8518518518518519,
          0.7777777777777778,
          0.7777777777777778,
          0.9259259259259259,
          0.8148148148148148,
          0.8518518518518519,
          0.8518518518518519,
          0.9629629629629629,
          0.9259259259259259,
          0.8888888888888888,
          0.7777777777777778,
          0.8888888888888888,
          0.8888888888888888,
          0.8518518518518519,
          0.8888888888888888,
          0.8888888888888888,
          0.9629629629629629,
          0.9629629629629629,
          0.8888888888888888,
          0.8148148148148148,
          0.8888888888888888,
          0.8518518518518519,
          0.7407407407407407,
          0.8148148148148148,
          0.8518518518518519,
          0.8148148148148148,
          0.8518518518518519,
          0.8518518518518519,
          0.8518518518518519,
          0.9259259259259259,
          0.8148148148148148,
          0.8518518518518519,
          0.8888888888888888,
          0.8518518518518519,
          0.8518518518518519,
          0.8888888888888888,
          0.8518518518518519,
          0.9259259259259259,
          0.8148148148148148,
          0.9629629629629629,
          0.8888888888888888,
          0.8518518518518519,
          0.8518518518518519,
          0.8518518518518519,
          0.8888888888888888,
          0.8148148148148148,
          0.8148148148148148,
          0.8888888888888888,
          0.9259259259259259,
          0.9629629629629629,
          0.9259259259259259,
          0.8888888888888888,
          0.8888888888888888,
          0.7777777777777778,
          0.9629629629629629,
          0.7777777777777778,
          0.8888888888888888,
          0.8518518518518519,
          0.9259259259259259,
          0.8888888888888888,
          0.8888888888888888,
          0.8148148148148148,
          0.8518518518518519,
          0.7777777777777778,
          0.8148148148148148,
          0.8888888888888888,
          0.9259259259259259,
          0.8518518518518519,
          0.9259259259259259,
          0.9629629629629629,
          0.9259259259259259,
          0.9259259259259259,
          0.8888888888888888,
          0.9259259259259259,
          0.9629629629629629,
          0.8518518518518519,
          0.8518518518518519,
          0.9259259259259259,
          0.8148148148148148,
          0.8888888888888888,
          0.9629629629629629,
          0.8888888888888888,
          0.8148148148148148,
          0.9629629629629629,
          0.8148148148148148,
          0.8888888888888888,
          0.8148148148148148,
          0.9259259259259259,
          0.9259259259259259,
          0.8888888888888888,
          0.9259259259259259,
          0.7777777777777778,
          0.8518518518518519,
          0.9259259259259259,
          1,
          1,
          0.8148148148148148,
          0.8518518518518519,
          0.8888888888888888,
          0.8518518518518519,
          0.8518518518518519,
          0.8148148148148148,
          0.8888888888888888,
          0.8148148148148148,
          0.8518518518518519,
          0.9259259259259259,
          0.8888888888888888,
          0.8888888888888888,
          0.7777777777777778,
          0.9629629629629629,
          0.8518518518518519,
          0.8518518518518519,
          0.9259259259259259,
          0.9629629629629629,
          0.8888888888888888,
          0.8518518518518519,
          0.8518518518518519,
          0.9259259259259259,
          0.9629629629629629,
          0.9259259259259259,
          0.9259259259259259,
          0.8888888888888888,
          0.9259259259259259,
          0.8888888888888888,
          0.8518518518518519,
          0.8518518518518519,
          0.8888888888888888,
          0.8518518518518519,
          0.8888888888888888,
          0.8148148148148148,
          0.9259259259259259,
          0.8888888888888888,
          0.8518518518518519,
          0.8148148148148148,
          0.8518518518518519,
          0.8148148148148148,
          0.8888888888888888,
          0.8888888888888888,
          0.9259259259259259,
          0.7777777777777778,
          0.8518518518518519,
          0.8518518518518519,
          0.7777777777777778,
          0.8518518518518519,
          0.8148148148148148,
          0.8888888888888888,
          0.8888888888888888,
          0.7777777777777778,
          0.9629629629629629,
          0.9259259259259259,
          0.8518518518518519,
          0.8518518518518519,
          0.8518518518518519,
          0.8888888888888888,
          0.8148148148148148,
          0.8888888888888888,
          0.9259259259259259,
          0.8518518518518519,
          0.8888888888888888,
          0.8518518518518519,
          0.8888888888888888,
          0.8888888888888888,
          0.8148148148148148,
          0.8518518518518519,
          0.7777777777777778,
          0.9259259259259259,
          0.8148148148148148,
          0.9629629629629629,
          0.9259259259259259,
          0.8518518518518519,
          0.8148148148148148,
          0.9629629629629629,
          0.8148148148148148,
          0.8148148148148148,
          0.9259259259259259,
          0.8518518518518519,
          0.9259259259259259,
          0.9259259259259259,
          0.7037037037037037,
          0.8888888888888888,
          0.9259259259259259,
          0.8888888888888888,
          0.9259259259259259,
          0.9259259259259259,
          0.8148148148148148,
          0.8148148148148148,
          0.9259259259259259,
          0.8888888888888888,
          0.8148148148148148,
          0.8518518518518519,
          0.8888888888888888,
          0.8888888888888888,
          0.8888888888888888,
          0.8888888888888888,
          0.8518518518518519,
          0.8888888888888888,
          0.8148148148148148,
          0.9259259259259259,
          0.8888888888888888,
          0.8888888888888888,
          0.8148148148148148,
          0.9259259259259259,
          0.8888888888888888,
          0.8888888888888888,
          0.8888888888888888,
          0.8518518518518519,
          0.9259259259259259,
          0.8148148148148148,
          0.8518518518518519,
          1,
          0.9259259259259259,
          0.9259259259259259,
          0.9259259259259259,
          0.8148148148148148,
          0.9259259259259259,
          0.8518518518518519,
          0.8888888888888888,
          0.9629629629629629,
          0.8148148148148148,
          0.8888888888888888,
          0.7777777777777778,
          0.8518518518518519,
          0.9629629629629629,
          0.8148148148148148,
          0.8888888888888888,
          0.8518518518518519,
          0.9259259259259259,
          0.9259259259259259,
          0.8888888888888888,
          0.8888888888888888,
          0.8148148148148148,
          0.8888888888888888,
          0.7407407407407407,
          0.7037037037037037,
          0.8518518518518519,
          0.9629629629629629,
          0.8518518518518519,
          0.9259259259259259,
          0.8888888888888888,
          0.9629629629629629,
          0.9259259259259259,
          0.8518518518518519,
          0.8518518518518519,
          0.8518518518518519,
          0.9259259259259259,
          0.9629629629629629,
          0.9629629629629629,
          0.8888888888888888,
          0.8518518518518519,
          0.8518518518518519,
          0.9259259259259259,
          0.8888888888888888,
          0.9259259259259259,
          0.8148148148148148,
          0.8148148148148148,
          0.8518518518518519,
          0.9629629629629629,
          0.9259259259259259,
          0.8148148148148148,
          0.8518518518518519,
          0.8518518518518519,
          1,
          0.8518518518518519,
          1,
          0.7777777777777778,
          0.8148148148148148,
          0.9259259259259259,
          0.9629629629629629,
          0.9259259259259259,
          0.8518518518518519,
          0.8148148148148148,
          0.9629629629629629,
          0.8518518518518519,
          0.8518518518518519,
          0.8148148148148148,
          0.8888888888888888,
          0.8518518518518519,
          0.8888888888888888,
          0.8888888888888888,
          0.8518518518518519,
          0.8518518518518519,
          0.9259259259259259,
          0.8148148148148148,
          0.8148148148148148,
          0.8888888888888888,
          0.9259259259259259,
          0.8518518518518519,
          0.8888888888888888,
          0.8888888888888888,
          0.9629629629629629,
          0.8148148148148148,
          0.8148148148148148,
          0.8888888888888888,
          0.8888888888888888,
          0.8888888888888888,
          0.8888888888888888,
          0.9259259259259259,
          0.8888888888888888,
          0.8518518518518519,
          0.7777777777777778,
          0.8888888888888888,
          0.8888888888888888,
          0.8518518518518519,
          0.7777777777777778,
          0.9259259259259259,
          0.8888888888888888,
          0.8148148148148148,
          0.8518518518518519,
          0.8888888888888888,
          0.8888888888888888,
          0.9259259259259259,
          0.9259259259259259,
          0.8148148148148148,
          0.9629629629629629,
          0.8888888888888888,
          0.8518518518518519,
          0.8888888888888888,
          0.9629629629629629,
          0.9629629629629629,
          0.9629629629629629,
          0.9259259259259259,
          0.8518518518518519,
          0.9259259259259259,
          0.8148148148148148,
          0.7777777777777778,
          0.8888888888888888,
          0.8148148148148148,
          0.8888888888888888,
          0.8518518518518519,
          0.8888888888888888,
          0.8518518518518519,
          0.8888888888888888,
          0.8518518518518519,
          0.9629629629629629,
          0.8148148148148148,
          0.8518518518518519,
          0.9629629629629629,
          0.8888888888888888,
          0.8888888888888888,
          0.8518518518518519,
          0.8518518518518519,
          0.7777777777777778,
          0.8888888888888888,
          1,
          0.8148148148148148,
          0.8888888888888888,
          0.9629629629629629,
          0.8888888888888888,
          0.8888888888888888,
          0.7777777777777778,
          0.8148148148148148,
          0.9629629629629629,
          0.9629629629629629,
          0.8148148148148148,
          0.8888888888888888,
          0.8518518518518519,
          0.7777777777777778,
          0.8518518518518519,
          0.8518518518518519,
          0.8888888888888888,
          0.8888888888888888,
          0.8888888888888888,
          0.8518518518518519,
          0.8518518518518519,
          0.9629629629629629,
          0.9259259259259259,
          0.8518518518518519,
          0.8888888888888888,
          0.8888888888888888,
          0.8148148148148148,
          0.8888888888888888,
          0.7777777777777778,
          0.8888888888888888,
          0.8148148148148148,
          0.8888888888888888,
          0.8518518518518519,
          0.8148148148148148,
          0.9629629629629629,
          0.8518518518518519,
          0.9259259259259259,
          0.7777777777777778,
          0.8518518518518519,
          0.8518518518518519,
          0.8518518518518519,
          0.8518518518518519,
          0.8888888888888888,
          0.8518518518518519,
          0.8518518518518519,
          0.8148148148148148,
          0.8148148148148148,
          0.8518518518518519,
          0.8888888888888888,
          0.8518518518518519,
          0.8888888888888888,
          0.8888888888888888,
          0.8888888888888888,
          0.8518518518518519,
          0.9259259259259259,
          0.8888888888888888,
          0.9259259259259259,
          0.8518518518518519,
          0.8148148148148148,
          0.8518518518518519,
          0.8148148148148148,
          0.8888888888888888,
          0.9259259259259259,
          0.9259259259259259,
          0.8888888888888888,
          0.8518518518518519,
          0.8148148148148148,
          0.8888888888888888,
          0.8888888888888888,
          1,
          0.9259259259259259,
          0.8888888888888888,
          0.9259259259259259,
          0.8148148148148148,
          0.9259259259259259,
          0.9259259259259259,
          0.9259259259259259,
          1,
          0.9259259259259259,
          0.8888888888888888,
          0.8148148148148148,
          0.8148148148148148,
          0.9629629629629629,
          0.9259259259259259,
          0.8518518518518519,
          0.9259259259259259,
          0.8518518518518519,
          0.8518518518518519,
          0.8148148148148148,
          0.8518518518518519,
          0.8148148148148148,
          0.8518518518518519,
          0.9259259259259259,
          0.8518518518518519,
          0.9259259259259259,
          0.8888888888888888,
          1,
          0.8888888888888888,
          0.8518518518518519,
          0.8888888888888888,
          0.8148148148148148,
          0.8888888888888888,
          0.9259259259259259,
          0.8518518518518519,
          0.8148148148148148,
          0.8518518518518519,
          0.9259259259259259,
          0.8888888888888888,
          0.8518518518518519,
          0.8148148148148148,
          0.8888888888888888,
          0.8518518518518519,
          0.8888888888888888,
          0.9629629629629629,
          0.8148148148148148,
          0.8148148148148148,
          0.9259259259259259,
          0.8518518518518519,
          0.8518518518518519,
          0.8518518518518519,
          0.8888888888888888,
          0.8888888888888888,
          0.8148148148148148,
          0.9259259259259259,
          0.8518518518518519,
          0.8888888888888888,
          0.9259259259259259,
          0.8148148148148148,
          0.8888888888888888,
          0.9259259259259259,
          0.8888888888888888,
          0.9629629629629629,
          0.8518518518518519,
          0.8888888888888888,
          0.8518518518518519,
          0.9259259259259259,
          1,
          0.9259259259259259,
          0.8148148148148148,
          0.8888888888888888,
          0.8518518518518519,
          0.8148148148148148,
          0.9629629629629629,
          0.8518518518518519,
          0.9259259259259259,
          0.7407407407407407,
          0.8888888888888888,
          0.8518518518518519,
          0.8518518518518519,
          0.8888888888888888,
          0.9629629629629629,
          0.8888888888888888,
          0.8148148148148148,
          0.8888888888888888,
          0.8148148148148148,
          1,
          0.8518518518518519,
          0.9259259259259259,
          0.7777777777777778,
          0.7777777777777778,
          0.8518518518518519,
          0.8518518518518519,
          0.8148148148148148,
          0.7777777777777778,
          0.8148148148148148,
          0.9259259259259259,
          0.8518518518518519,
          0.7407407407407407,
          0.9629629629629629,
          0.8518518518518519,
          0.8888888888888888,
          0.8888888888888888,
          0.8518518518518519,
          0.8148148148148148,
          0.8888888888888888,
          0.9259259259259259,
          0.9259259259259259,
          0.8888888888888888,
          0.7777777777777778,
          0.9259259259259259,
          0.7037037037037037,
          0.8518518518518519,
          0.7407407407407407,
          0.7777777777777778,
          0.8518518518518519,
          0.8888888888888888,
          0.8148148148148148,
          0.8148148148148148,
          0.8888888888888888,
          0.7407407407407407,
          0.8518518518518519,
          0.9259259259259259,
          0.7777777777777778,
          0.8888888888888888,
          0.9629629629629629,
          0.8888888888888888,
          0.8888888888888888,
          0.7777777777777778,
          0.8518518518518519,
          0.8148148148148148,
          0.8148148148148148,
          0.8888888888888888,
          0.8148148148148148,
          0.8518518518518519,
          0.7777777777777778,
          0.8888888888888888,
          0.9259259259259259,
          0.9259259259259259,
          0.8518518518518519,
          0.7777777777777778,
          0.8888888888888888,
          0.9259259259259259,
          0.8518518518518519,
          0.8148148148148148,
          0.8148148148148148,
          0.8148148148148148,
          0.8518518518518519,
          0.8888888888888888,
          1,
          0.8888888888888888,
          0.8518518518518519,
          0.8888888888888888,
          0.7777777777777778,
          1,
          0.8518518518518519,
          0.7407407407407407,
          0.9629629629629629,
          0.8518518518518519,
          0.8888888888888888,
          0.8888888888888888,
          0.9259259259259259,
          0.8518518518518519,
          0.8888888888888888,
          0.9629629629629629,
          0.8518518518518519,
          0.8888888888888888,
          0.8888888888888888,
          0.8888888888888888,
          0.8888888888888888,
          0.9629629629629629,
          0.8888888888888888,
          0.8888888888888888,
          0.8518518518518519,
          0.9259259259259259,
          0.8518518518518519,
          0.8888888888888888,
          0.8148148148148148,
          0.9259259259259259,
          0.9259259259259259,
          0.8888888888888888,
          0.8518518518518519,
          0.9259259259259259,
          0.8518518518518519,
          0.8888888888888888,
          0.8888888888888888,
          0.9629629629629629,
          0.8888888888888888,
          0.9259259259259259,
          0.9259259259259259,
          0.8148148148148148,
          0.9259259259259259,
          0.9259259259259259,
          0.8888888888888888,
          0.8888888888888888,
          0.8518518518518519,
          0.7777777777777778,
          0.9259259259259259,
          0.9259259259259259,
          0.8518518518518519,
          0.9259259259259259,
          0.9629629629629629,
          0.8518518518518519,
          0.9629629629629629,
          0.8888888888888888,
          0.8888888888888888,
          0.8888888888888888,
          0.8888888888888888,
          0.8888888888888888,
          0.8148148148148148,
          0.8888888888888888,
          0.8518518518518519,
          0.9629629629629629,
          0.8888888888888888,
          0.9259259259259259,
          0.8888888888888888,
          0.8888888888888888,
          0.8888888888888888,
          0.9259259259259259,
          0.9259259259259259,
          0.9259259259259259,
          0.8148148148148148,
          0.8888888888888888,
          0.8888888888888888,
          0.8888888888888888,
          0.8888888888888888,
          0.8888888888888888,
          0.8888888888888888,
          0.9259259259259259,
          0.8148148148148148,
          0.8148148148148148,
          0.7777777777777778,
          0.8518518518518519,
          0.9629629629629629,
          0.9629629629629629,
          0.8888888888888888,
          0.9629629629629629,
          0.9629629629629629,
          0.8888888888888888,
          0.9259259259259259,
          0.8148148148148148,
          0.8148148148148148,
          0.8148148148148148,
          0.8148148148148148,
          0.9259259259259259,
          0.9259259259259259,
          0.8888888888888888,
          0.8518518518518519,
          0.8518518518518519,
          0.9259259259259259,
          0.8148148148148148,
          0.8518518518518519,
          0.9259259259259259,
          0.9629629629629629,
          0.8148148148148148,
          0.7777777777777778,
          0.8518518518518519,
          0.8518518518518519,
          0.8888888888888888,
          0.8518518518518519,
          0.8888888888888888,
          0.9629629629629629,
          0.8888888888888888,
          0.9259259259259259,
          0.8148148148148148,
          0.7777777777777778,
          0.8148148148148148,
          0.8518518518518519,
          0.8888888888888888,
          0.8888888888888888,
          0.8518518518518519,
          0.7777777777777778,
          0.8518518518518519,
          0.8518518518518519,
          0.8148148148148148,
          0.9259259259259259,
          0.8518518518518519,
          0.9259259259259259,
          0.9259259259259259,
          0.7407407407407407,
          0.9259259259259259,
          0.8518518518518519,
          0.8888888888888888,
          0.9259259259259259,
          0.8888888888888888,
          0.8518518518518519,
          0.9259259259259259,
          0.8148148148148148,
          0.8518518518518519,
          0.9259259259259259,
          0.8888888888888888,
          0.8518518518518519,
          0.8888888888888888,
          0.8888888888888888,
          0.8888888888888888,
          1,
          0.8518518518518519,
          0.9259259259259259,
          0.9259259259259259,
          0.8888888888888888,
          0.9259259259259259,
          0.7777777777777778,
          0.8888888888888888,
          0.9629629629629629,
          0.7407407407407407,
          0.8888888888888888,
          0.7407407407407407,
          0.8888888888888888,
          0.8888888888888888,
          0.8888888888888888,
          0.9259259259259259,
          0.9629629629629629,
          0.9259259259259259,
          0.8888888888888888,
          0.8888888888888888,
          0.8888888888888888,
          0.8888888888888888,
          0.8518518518518519,
          0.9629629629629629,
          0.8888888888888888,
          0.8518518518518519,
          0.8518518518518519,
          0.9259259259259259,
          0.8518518518518519,
          0.8888888888888888,
          0.7777777777777778,
          0.7407407407407407,
          0.9259259259259259,
          0.8888888888888888,
          0.8518518518518519,
          0.8888888888888888
         ],
         "y0": " ",
         "yaxis": "y"
        }
       ],
       "layout": {
        "boxmode": "group",
        "legend": {
         "tracegroupgap": 0
        },
        "margin": {
         "t": 60
        },
        "template": {
         "data": {
          "bar": [
           {
            "error_x": {
             "color": "#2a3f5f"
            },
            "error_y": {
             "color": "#2a3f5f"
            },
            "marker": {
             "line": {
              "color": "#E5ECF6",
              "width": 0.5
             },
             "pattern": {
              "fillmode": "overlay",
              "size": 10,
              "solidity": 0.2
             }
            },
            "type": "bar"
           }
          ],
          "barpolar": [
           {
            "marker": {
             "line": {
              "color": "#E5ECF6",
              "width": 0.5
             },
             "pattern": {
              "fillmode": "overlay",
              "size": 10,
              "solidity": 0.2
             }
            },
            "type": "barpolar"
           }
          ],
          "carpet": [
           {
            "aaxis": {
             "endlinecolor": "#2a3f5f",
             "gridcolor": "white",
             "linecolor": "white",
             "minorgridcolor": "white",
             "startlinecolor": "#2a3f5f"
            },
            "baxis": {
             "endlinecolor": "#2a3f5f",
             "gridcolor": "white",
             "linecolor": "white",
             "minorgridcolor": "white",
             "startlinecolor": "#2a3f5f"
            },
            "type": "carpet"
           }
          ],
          "choropleth": [
           {
            "colorbar": {
             "outlinewidth": 0,
             "ticks": ""
            },
            "type": "choropleth"
           }
          ],
          "contour": [
           {
            "colorbar": {
             "outlinewidth": 0,
             "ticks": ""
            },
            "colorscale": [
             [
              0,
              "#0d0887"
             ],
             [
              0.1111111111111111,
              "#46039f"
             ],
             [
              0.2222222222222222,
              "#7201a8"
             ],
             [
              0.3333333333333333,
              "#9c179e"
             ],
             [
              0.4444444444444444,
              "#bd3786"
             ],
             [
              0.5555555555555556,
              "#d8576b"
             ],
             [
              0.6666666666666666,
              "#ed7953"
             ],
             [
              0.7777777777777778,
              "#fb9f3a"
             ],
             [
              0.8888888888888888,
              "#fdca26"
             ],
             [
              1,
              "#f0f921"
             ]
            ],
            "type": "contour"
           }
          ],
          "contourcarpet": [
           {
            "colorbar": {
             "outlinewidth": 0,
             "ticks": ""
            },
            "type": "contourcarpet"
           }
          ],
          "heatmap": [
           {
            "colorbar": {
             "outlinewidth": 0,
             "ticks": ""
            },
            "colorscale": [
             [
              0,
              "#0d0887"
             ],
             [
              0.1111111111111111,
              "#46039f"
             ],
             [
              0.2222222222222222,
              "#7201a8"
             ],
             [
              0.3333333333333333,
              "#9c179e"
             ],
             [
              0.4444444444444444,
              "#bd3786"
             ],
             [
              0.5555555555555556,
              "#d8576b"
             ],
             [
              0.6666666666666666,
              "#ed7953"
             ],
             [
              0.7777777777777778,
              "#fb9f3a"
             ],
             [
              0.8888888888888888,
              "#fdca26"
             ],
             [
              1,
              "#f0f921"
             ]
            ],
            "type": "heatmap"
           }
          ],
          "heatmapgl": [
           {
            "colorbar": {
             "outlinewidth": 0,
             "ticks": ""
            },
            "colorscale": [
             [
              0,
              "#0d0887"
             ],
             [
              0.1111111111111111,
              "#46039f"
             ],
             [
              0.2222222222222222,
              "#7201a8"
             ],
             [
              0.3333333333333333,
              "#9c179e"
             ],
             [
              0.4444444444444444,
              "#bd3786"
             ],
             [
              0.5555555555555556,
              "#d8576b"
             ],
             [
              0.6666666666666666,
              "#ed7953"
             ],
             [
              0.7777777777777778,
              "#fb9f3a"
             ],
             [
              0.8888888888888888,
              "#fdca26"
             ],
             [
              1,
              "#f0f921"
             ]
            ],
            "type": "heatmapgl"
           }
          ],
          "histogram": [
           {
            "marker": {
             "pattern": {
              "fillmode": "overlay",
              "size": 10,
              "solidity": 0.2
             }
            },
            "type": "histogram"
           }
          ],
          "histogram2d": [
           {
            "colorbar": {
             "outlinewidth": 0,
             "ticks": ""
            },
            "colorscale": [
             [
              0,
              "#0d0887"
             ],
             [
              0.1111111111111111,
              "#46039f"
             ],
             [
              0.2222222222222222,
              "#7201a8"
             ],
             [
              0.3333333333333333,
              "#9c179e"
             ],
             [
              0.4444444444444444,
              "#bd3786"
             ],
             [
              0.5555555555555556,
              "#d8576b"
             ],
             [
              0.6666666666666666,
              "#ed7953"
             ],
             [
              0.7777777777777778,
              "#fb9f3a"
             ],
             [
              0.8888888888888888,
              "#fdca26"
             ],
             [
              1,
              "#f0f921"
             ]
            ],
            "type": "histogram2d"
           }
          ],
          "histogram2dcontour": [
           {
            "colorbar": {
             "outlinewidth": 0,
             "ticks": ""
            },
            "colorscale": [
             [
              0,
              "#0d0887"
             ],
             [
              0.1111111111111111,
              "#46039f"
             ],
             [
              0.2222222222222222,
              "#7201a8"
             ],
             [
              0.3333333333333333,
              "#9c179e"
             ],
             [
              0.4444444444444444,
              "#bd3786"
             ],
             [
              0.5555555555555556,
              "#d8576b"
             ],
             [
              0.6666666666666666,
              "#ed7953"
             ],
             [
              0.7777777777777778,
              "#fb9f3a"
             ],
             [
              0.8888888888888888,
              "#fdca26"
             ],
             [
              1,
              "#f0f921"
             ]
            ],
            "type": "histogram2dcontour"
           }
          ],
          "mesh3d": [
           {
            "colorbar": {
             "outlinewidth": 0,
             "ticks": ""
            },
            "type": "mesh3d"
           }
          ],
          "parcoords": [
           {
            "line": {
             "colorbar": {
              "outlinewidth": 0,
              "ticks": ""
             }
            },
            "type": "parcoords"
           }
          ],
          "pie": [
           {
            "automargin": true,
            "type": "pie"
           }
          ],
          "scatter": [
           {
            "fillpattern": {
             "fillmode": "overlay",
             "size": 10,
             "solidity": 0.2
            },
            "type": "scatter"
           }
          ],
          "scatter3d": [
           {
            "line": {
             "colorbar": {
              "outlinewidth": 0,
              "ticks": ""
             }
            },
            "marker": {
             "colorbar": {
              "outlinewidth": 0,
              "ticks": ""
             }
            },
            "type": "scatter3d"
           }
          ],
          "scattercarpet": [
           {
            "marker": {
             "colorbar": {
              "outlinewidth": 0,
              "ticks": ""
             }
            },
            "type": "scattercarpet"
           }
          ],
          "scattergeo": [
           {
            "marker": {
             "colorbar": {
              "outlinewidth": 0,
              "ticks": ""
             }
            },
            "type": "scattergeo"
           }
          ],
          "scattergl": [
           {
            "marker": {
             "colorbar": {
              "outlinewidth": 0,
              "ticks": ""
             }
            },
            "type": "scattergl"
           }
          ],
          "scattermapbox": [
           {
            "marker": {
             "colorbar": {
              "outlinewidth": 0,
              "ticks": ""
             }
            },
            "type": "scattermapbox"
           }
          ],
          "scatterpolar": [
           {
            "marker": {
             "colorbar": {
              "outlinewidth": 0,
              "ticks": ""
             }
            },
            "type": "scatterpolar"
           }
          ],
          "scatterpolargl": [
           {
            "marker": {
             "colorbar": {
              "outlinewidth": 0,
              "ticks": ""
             }
            },
            "type": "scatterpolargl"
           }
          ],
          "scatterternary": [
           {
            "marker": {
             "colorbar": {
              "outlinewidth": 0,
              "ticks": ""
             }
            },
            "type": "scatterternary"
           }
          ],
          "surface": [
           {
            "colorbar": {
             "outlinewidth": 0,
             "ticks": ""
            },
            "colorscale": [
             [
              0,
              "#0d0887"
             ],
             [
              0.1111111111111111,
              "#46039f"
             ],
             [
              0.2222222222222222,
              "#7201a8"
             ],
             [
              0.3333333333333333,
              "#9c179e"
             ],
             [
              0.4444444444444444,
              "#bd3786"
             ],
             [
              0.5555555555555556,
              "#d8576b"
             ],
             [
              0.6666666666666666,
              "#ed7953"
             ],
             [
              0.7777777777777778,
              "#fb9f3a"
             ],
             [
              0.8888888888888888,
              "#fdca26"
             ],
             [
              1,
              "#f0f921"
             ]
            ],
            "type": "surface"
           }
          ],
          "table": [
           {
            "cells": {
             "fill": {
              "color": "#EBF0F8"
             },
             "line": {
              "color": "white"
             }
            },
            "header": {
             "fill": {
              "color": "#C8D4E3"
             },
             "line": {
              "color": "white"
             }
            },
            "type": "table"
           }
          ]
         },
         "layout": {
          "annotationdefaults": {
           "arrowcolor": "#2a3f5f",
           "arrowhead": 0,
           "arrowwidth": 1
          },
          "autotypenumbers": "strict",
          "coloraxis": {
           "colorbar": {
            "outlinewidth": 0,
            "ticks": ""
           }
          },
          "colorscale": {
           "diverging": [
            [
             0,
             "#8e0152"
            ],
            [
             0.1,
             "#c51b7d"
            ],
            [
             0.2,
             "#de77ae"
            ],
            [
             0.3,
             "#f1b6da"
            ],
            [
             0.4,
             "#fde0ef"
            ],
            [
             0.5,
             "#f7f7f7"
            ],
            [
             0.6,
             "#e6f5d0"
            ],
            [
             0.7,
             "#b8e186"
            ],
            [
             0.8,
             "#7fbc41"
            ],
            [
             0.9,
             "#4d9221"
            ],
            [
             1,
             "#276419"
            ]
           ],
           "sequential": [
            [
             0,
             "#0d0887"
            ],
            [
             0.1111111111111111,
             "#46039f"
            ],
            [
             0.2222222222222222,
             "#7201a8"
            ],
            [
             0.3333333333333333,
             "#9c179e"
            ],
            [
             0.4444444444444444,
             "#bd3786"
            ],
            [
             0.5555555555555556,
             "#d8576b"
            ],
            [
             0.6666666666666666,
             "#ed7953"
            ],
            [
             0.7777777777777778,
             "#fb9f3a"
            ],
            [
             0.8888888888888888,
             "#fdca26"
            ],
            [
             1,
             "#f0f921"
            ]
           ],
           "sequentialminus": [
            [
             0,
             "#0d0887"
            ],
            [
             0.1111111111111111,
             "#46039f"
            ],
            [
             0.2222222222222222,
             "#7201a8"
            ],
            [
             0.3333333333333333,
             "#9c179e"
            ],
            [
             0.4444444444444444,
             "#bd3786"
            ],
            [
             0.5555555555555556,
             "#d8576b"
            ],
            [
             0.6666666666666666,
             "#ed7953"
            ],
            [
             0.7777777777777778,
             "#fb9f3a"
            ],
            [
             0.8888888888888888,
             "#fdca26"
            ],
            [
             1,
             "#f0f921"
            ]
           ]
          },
          "colorway": [
           "#636efa",
           "#EF553B",
           "#00cc96",
           "#ab63fa",
           "#FFA15A",
           "#19d3f3",
           "#FF6692",
           "#B6E880",
           "#FF97FF",
           "#FECB52"
          ],
          "font": {
           "color": "#2a3f5f"
          },
          "geo": {
           "bgcolor": "white",
           "lakecolor": "white",
           "landcolor": "#E5ECF6",
           "showlakes": true,
           "showland": true,
           "subunitcolor": "white"
          },
          "hoverlabel": {
           "align": "left"
          },
          "hovermode": "closest",
          "mapbox": {
           "style": "light"
          },
          "paper_bgcolor": "white",
          "plot_bgcolor": "#E5ECF6",
          "polar": {
           "angularaxis": {
            "gridcolor": "white",
            "linecolor": "white",
            "ticks": ""
           },
           "bgcolor": "#E5ECF6",
           "radialaxis": {
            "gridcolor": "white",
            "linecolor": "white",
            "ticks": ""
           }
          },
          "scene": {
           "xaxis": {
            "backgroundcolor": "#E5ECF6",
            "gridcolor": "white",
            "gridwidth": 2,
            "linecolor": "white",
            "showbackground": true,
            "ticks": "",
            "zerolinecolor": "white"
           },
           "yaxis": {
            "backgroundcolor": "#E5ECF6",
            "gridcolor": "white",
            "gridwidth": 2,
            "linecolor": "white",
            "showbackground": true,
            "ticks": "",
            "zerolinecolor": "white"
           },
           "zaxis": {
            "backgroundcolor": "#E5ECF6",
            "gridcolor": "white",
            "gridwidth": 2,
            "linecolor": "white",
            "showbackground": true,
            "ticks": "",
            "zerolinecolor": "white"
           }
          },
          "shapedefaults": {
           "line": {
            "color": "#2a3f5f"
           }
          },
          "ternary": {
           "aaxis": {
            "gridcolor": "white",
            "linecolor": "white",
            "ticks": ""
           },
           "baxis": {
            "gridcolor": "white",
            "linecolor": "white",
            "ticks": ""
           },
           "bgcolor": "#E5ECF6",
           "caxis": {
            "gridcolor": "white",
            "linecolor": "white",
            "ticks": ""
           }
          },
          "title": {
           "x": 0.05
          },
          "xaxis": {
           "automargin": true,
           "gridcolor": "white",
           "linecolor": "white",
           "ticks": "",
           "title": {
            "standoff": 15
           },
           "zerolinecolor": "white",
           "zerolinewidth": 2
          },
          "yaxis": {
           "automargin": true,
           "gridcolor": "white",
           "linecolor": "white",
           "ticks": "",
           "title": {
            "standoff": 15
           },
           "zerolinecolor": "white",
           "zerolinewidth": 2
          }
         }
        },
        "xaxis": {
         "anchor": "y",
         "domain": [
          0,
          1
         ],
         "title": {
          "text": "model"
         }
        },
        "yaxis": {
         "anchor": "x",
         "domain": [
          0,
          1
         ],
         "title": {
          "text": "accuracy"
         }
        }
       }
      }
     },
     "metadata": {},
     "output_type": "display_data"
    }
   ],
   "source": [
    "px.box(evaluation_df, x=\"model\", y=\"accuracy\", points=\"all\")"
   ]
  },
  {
   "cell_type": "markdown",
   "metadata": {},
   "source": [
    "And we run a t-test to see whether the accuracy scores are significantly different from each other."
   ]
  },
  {
   "cell_type": "code",
   "execution_count": 24,
   "metadata": {},
   "outputs": [
    {
     "data": {
      "text/plain": [
       "Ttest_indResult(statistic=0.625619924899416, pvalue=0.5317073023141603)"
      ]
     },
     "execution_count": 24,
     "metadata": {},
     "output_type": "execute_result"
    }
   ],
   "source": [
    "from scipy.stats import ttest_ind\n",
    "\n",
    "ttest_ind(dummy_accuracy, rforest_accuracy)"
   ]
  },
  {
   "cell_type": "markdown",
   "metadata": {},
   "source": [
    "#### Interpretation:\n",
    "It can clearly be seen from the visualization that the models perform virtually identically.\n",
    "Our t-test yields a p-value way above 0.05, meaning that there is a high probability that the small difference there is between the two distributions is simply due to random noise.\n",
    "\n",
    "This essentially means that we did **not** manage to obtain a model that is capable of classifying an ideas as worthy for consideration based on word usage.\n",
    "\n",
    "It must be mentioned, that this model is not particularly sofisticated, nor do we have a particularly large dataset to work with.\n",
    "Deep learning methods on larger datasets could obtain more meaningful results. "
   ]
  }
 ],
 "metadata": {
  "interpreter": {
   "hash": "916dbcbb3f70747c44a77c7bcd40155683ae19c65e1c03b4aa3499c5328201f1"
  },
  "kernelspec": {
   "display_name": "Python 3.8.10 64-bit",
   "language": "python",
   "name": "python3"
  },
  "language_info": {
   "codemirror_mode": {
    "name": "ipython",
    "version": 3
   },
   "file_extension": ".py",
   "mimetype": "text/x-python",
   "name": "python",
   "nbconvert_exporter": "python",
   "pygments_lexer": "ipython3",
   "version": "3.8.10"
  },
  "orig_nbformat": 4
 },
 "nbformat": 4,
 "nbformat_minor": 2
}
