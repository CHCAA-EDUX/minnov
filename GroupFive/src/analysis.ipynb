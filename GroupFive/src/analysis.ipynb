{
 "cells": [
  {
   "cell_type": "markdown",
   "metadata": {},
   "source": [
    "# Managing Innovation Project"
   ]
  },
  {
   "cell_type": "markdown",
   "metadata": {},
   "source": [
    "#### Installing packages"
   ]
  },
  {
   "cell_type": "code",
   "execution_count": 250,
   "metadata": {},
   "outputs": [],
   "source": [
    "%%capture\n",
    "#This could take a little while, but not to worry\n",
    "#It won't display anything because I captured the output\n",
    "import sys\n",
    "!{sys.executable} -m pip install -r ../requirements.txt"
   ]
  },
  {
   "cell_type": "markdown",
   "metadata": {},
   "source": [
    "#### Loading necessary packages:"
   ]
  },
  {
   "cell_type": "code",
   "execution_count": 238,
   "metadata": {},
   "outputs": [
    {
     "name": "stdout",
     "output_type": "stream",
     "text": [
      "The autoreload extension is already loaded. To reload it, use:\n",
      "  %reload_ext autoreload\n"
     ]
    }
   ],
   "source": [
    "%load_ext autoreload\n",
    "%autoreload 2\n",
    "import numpy as np\n",
    "import pandas as pd\n",
    "import plotly.express as px\n",
    "\n",
    "import utils\n",
    "import utils.numbers\n",
    "from utils.data import load_sheet\n",
    "from utils.sentiment import add_sentiment\n"
   ]
  },
  {
   "cell_type": "markdown",
   "metadata": {},
   "source": [
    "# Loading the data"
   ]
  },
  {
   "cell_type": "code",
   "execution_count": 247,
   "metadata": {},
   "outputs": [],
   "source": [
    "#Loads the excel table into a dictionary of DataFrames\n",
    "sheet = load_sheet(\"../../.dat/Lego_subset_22_merge.xlsx\")"
   ]
  },
  {
   "cell_type": "markdown",
   "metadata": {},
   "source": [
    "Creating create a DataFrame where comments and submissions are joined, so that we can obtain comment count and sentiment"
   ]
  },
  {
   "cell_type": "code",
   "execution_count": 240,
   "metadata": {},
   "outputs": [],
   "source": [
    "comments_df = sheet[\"ideas\"].merge(\n",
    "    sheet[\"comments\"],\n",
    "    how=\"left\",\n",
    "    suffixes=(\"_idea\", \"_comment\"),\n",
    "    on=\"submission_id\"\n",
    ")"
   ]
  },
  {
   "cell_type": "code",
   "execution_count": 241,
   "metadata": {},
   "outputs": [
    {
     "name": "stdout",
     "output_type": "stream",
     "text": [
      "<class 'pandas.core.frame.DataFrame'>\n",
      "Int64Index: 476 entries, 0 to 475\n",
      "Data columns (total 17 columns):\n",
      " #   Column                Non-Null Count  Dtype         \n",
      "---  ------                --------------  -----         \n",
      " 0   user_id_idea          476 non-null    int64         \n",
      " 1   submission_id         476 non-null    int64         \n",
      " 2   topic_alias_idea      476 non-null    object        \n",
      " 3   title                 476 non-null    object        \n",
      " 4   idea                  476 non-null    object        \n",
      " 5   idea type             467 non-null    object        \n",
      " 6   tags                  225 non-null    object        \n",
      " 7   publish_date_idea     476 non-null    datetime64[ns]\n",
      " 8   n_votes_idea          476 non-null    int64         \n",
      " 9   expert_selected       476 non-null    bool          \n",
      " 10  idea_experience       476 non-null    int64         \n",
      " 11  user_id_comment       467 non-null    float64       \n",
      " 12  topic_alias_comment   467 non-null    object        \n",
      " 13  comment_id            467 non-null    float64       \n",
      " 14  comment               467 non-null    object        \n",
      " 15  publish_date_comment  467 non-null    object        \n",
      " 16  n_votes_comment       467 non-null    float64       \n",
      "dtypes: bool(1), datetime64[ns](1), float64(3), int64(4), object(8)\n",
      "memory usage: 63.7+ KB\n"
     ]
    }
   ],
   "source": [
    "comments_df.info()"
   ]
  },
  {
   "cell_type": "markdown",
   "metadata": {},
   "source": [
    "## Sentiment Analysis"
   ]
  },
  {
   "cell_type": "markdown",
   "metadata": {},
   "source": [
    "We add sentiment scores based on the comments"
   ]
  },
  {
   "cell_type": "code",
   "execution_count": 242,
   "metadata": {},
   "outputs": [],
   "source": [
    "sentiment_df = add_sentiment(comments_df, based_on=\"comment\")"
   ]
  },
  {
   "cell_type": "markdown",
   "metadata": {},
   "source": [
    "We summarize both sentiment polarity and sentiment subjectivity in a mean score for each submission.\n",
    "I also add comment counts to each submission.\n",
    "These newly added columns are then normalized, so that they are on the same scale"
   ]
  },
  {
   "cell_type": "code",
   "execution_count": 243,
   "metadata": {},
   "outputs": [],
   "source": [
    "sentiment_summary = (\n",
    "    sentiment_df[[\"submission_id\", \"sentiment_polarity\", \"sentiment_subjectivity\"]]\n",
    "    .groupby(\"submission_id\")\n",
    "    .mean()\n",
    ")\n",
    "comment_count = (\n",
    "    comments_df[[\"submission_id\", \"comment\"]]\n",
    "    .groupby(\"submission_id\")\n",
    "    .count()\n",
    "    .rename({\"comment\": \"comment_count\"}, axis=1)\n",
    ")\n",
    "df = (\n",
    "    sheet[\"ideas\"]\n",
    "    .merge(sentiment_summary, on=\"submission_id\")\n",
    "    .merge(comment_count, on=\"submission_id\")\n",
    ")"
   ]
  },
  {
   "cell_type": "markdown",
   "metadata": {},
   "source": [
    "Here are some histograms to help us investigate the distributions of the variables"
   ]
  },
  {
   "cell_type": "code",
   "execution_count": 244,
   "metadata": {},
   "outputs": [
    {
     "data": {
      "application/vnd.plotly.v1+json": {
       "config": {
        "plotlyServerURL": "https://plot.ly"
       },
       "data": [
        {
         "alignmentgroup": "True",
         "bingroup": "x",
         "hovertemplate": "sentiment_polarity=%{x}<br>count=%{y}<extra></extra>",
         "legendgroup": "",
         "marker": {
          "color": "#636efa",
          "pattern": {
           "shape": ""
          }
         },
         "name": "",
         "offsetgroup": "",
         "orientation": "v",
         "showlegend": false,
         "type": "histogram",
         "x": [
          0.26477907135076256,
          0.1460735171261487,
          0.15,
          0.387852358815427,
          0.25049372695206024,
          0.4340909090909091,
          0.25506132756132754,
          0.09295524691358024,
          0.38645833333333335,
          0.23034798534798534,
          0.15035074773711135,
          0.16794642857142858,
          0.26173469387755105,
          0.3055555555555555,
          0.44166666666666665,
          0.1453809523809524,
          0.611111111111111,
          -0.08125,
          0.3126304713804714,
          0.24077380952380956,
          0.3177827380952381,
          0.5472222222222222,
          0.1428333333333333,
          0.2167752525252525,
          0.20773898323898324,
          0.2982755439005439,
          0.30160997732426303,
          0.09426136363636363,
          0.09772727272727273,
          0.4069444444444445,
          0.2718395691609977,
          0.21042748917748919,
          0.3055555555555555,
          0.31416666666666665,
          0.56875,
          null,
          0.10033950617283953,
          null,
          0.23314200680272107,
          -0.012499999999999997,
          0.01944444444444445,
          0.14586004273504274,
          0.1948210690824327,
          0.3475,
          0.3610515873015873,
          null,
          0.14027777777777778,
          0.29850729517396185,
          0.1757070707070707,
          0.3241874098124098,
          0.2741341991341991,
          0.21659374999999997,
          0.5029166666666667,
          0.25,
          0.24132105493712636,
          0.27499999999999997,
          0.19523809523809524,
          0.20300462962962965,
          0.21399999999999997,
          0.5075000000000001,
          0.12868506493506493,
          0.2455357142857143,
          0.4760416666666667,
          null,
          0.20411904761904762,
          null,
          null,
          0.20530753968253967,
          0.16666666666666669,
          0.07142857142857142,
          0.15000000000000002,
          0.23461512445887447,
          0.17777777777777776,
          0.5375405844155844,
          -0.008441558441558457,
          0.0734375,
          0.2629797979797979,
          0,
          0.2793105328255704,
          0.3192460317460317,
          0.3015151515151515,
          0.16736111111111107,
          null,
          0.6181818181818182,
          0.13052884615384616,
          null,
          0.28721293820558524,
          0.19299107142857141,
          0.2543816137566138,
          0.23035714285714284,
          0.39125,
          0.1893501533189033,
          0.10749611801242236,
          0.375,
          0.5125,
          0.2821844937469937,
          0.13106060606060607,
          null,
          0.0400258967223253,
          0.18868274582560293,
          0.15658526670385647,
          0.20957702020202018,
          0.30833333333333335,
          0.4,
          0.31387373737373736,
          0.26425925925925925,
          0.2121590909090909,
          0.20354662698412698
         ],
         "xaxis": "x",
         "yaxis": "y"
        }
       ],
       "layout": {
        "barmode": "relative",
        "legend": {
         "tracegroupgap": 0
        },
        "margin": {
         "t": 60
        },
        "template": {
         "data": {
          "bar": [
           {
            "error_x": {
             "color": "#2a3f5f"
            },
            "error_y": {
             "color": "#2a3f5f"
            },
            "marker": {
             "line": {
              "color": "#E5ECF6",
              "width": 0.5
             },
             "pattern": {
              "fillmode": "overlay",
              "size": 10,
              "solidity": 0.2
             }
            },
            "type": "bar"
           }
          ],
          "barpolar": [
           {
            "marker": {
             "line": {
              "color": "#E5ECF6",
              "width": 0.5
             },
             "pattern": {
              "fillmode": "overlay",
              "size": 10,
              "solidity": 0.2
             }
            },
            "type": "barpolar"
           }
          ],
          "carpet": [
           {
            "aaxis": {
             "endlinecolor": "#2a3f5f",
             "gridcolor": "white",
             "linecolor": "white",
             "minorgridcolor": "white",
             "startlinecolor": "#2a3f5f"
            },
            "baxis": {
             "endlinecolor": "#2a3f5f",
             "gridcolor": "white",
             "linecolor": "white",
             "minorgridcolor": "white",
             "startlinecolor": "#2a3f5f"
            },
            "type": "carpet"
           }
          ],
          "choropleth": [
           {
            "colorbar": {
             "outlinewidth": 0,
             "ticks": ""
            },
            "type": "choropleth"
           }
          ],
          "contour": [
           {
            "colorbar": {
             "outlinewidth": 0,
             "ticks": ""
            },
            "colorscale": [
             [
              0,
              "#0d0887"
             ],
             [
              0.1111111111111111,
              "#46039f"
             ],
             [
              0.2222222222222222,
              "#7201a8"
             ],
             [
              0.3333333333333333,
              "#9c179e"
             ],
             [
              0.4444444444444444,
              "#bd3786"
             ],
             [
              0.5555555555555556,
              "#d8576b"
             ],
             [
              0.6666666666666666,
              "#ed7953"
             ],
             [
              0.7777777777777778,
              "#fb9f3a"
             ],
             [
              0.8888888888888888,
              "#fdca26"
             ],
             [
              1,
              "#f0f921"
             ]
            ],
            "type": "contour"
           }
          ],
          "contourcarpet": [
           {
            "colorbar": {
             "outlinewidth": 0,
             "ticks": ""
            },
            "type": "contourcarpet"
           }
          ],
          "heatmap": [
           {
            "colorbar": {
             "outlinewidth": 0,
             "ticks": ""
            },
            "colorscale": [
             [
              0,
              "#0d0887"
             ],
             [
              0.1111111111111111,
              "#46039f"
             ],
             [
              0.2222222222222222,
              "#7201a8"
             ],
             [
              0.3333333333333333,
              "#9c179e"
             ],
             [
              0.4444444444444444,
              "#bd3786"
             ],
             [
              0.5555555555555556,
              "#d8576b"
             ],
             [
              0.6666666666666666,
              "#ed7953"
             ],
             [
              0.7777777777777778,
              "#fb9f3a"
             ],
             [
              0.8888888888888888,
              "#fdca26"
             ],
             [
              1,
              "#f0f921"
             ]
            ],
            "type": "heatmap"
           }
          ],
          "heatmapgl": [
           {
            "colorbar": {
             "outlinewidth": 0,
             "ticks": ""
            },
            "colorscale": [
             [
              0,
              "#0d0887"
             ],
             [
              0.1111111111111111,
              "#46039f"
             ],
             [
              0.2222222222222222,
              "#7201a8"
             ],
             [
              0.3333333333333333,
              "#9c179e"
             ],
             [
              0.4444444444444444,
              "#bd3786"
             ],
             [
              0.5555555555555556,
              "#d8576b"
             ],
             [
              0.6666666666666666,
              "#ed7953"
             ],
             [
              0.7777777777777778,
              "#fb9f3a"
             ],
             [
              0.8888888888888888,
              "#fdca26"
             ],
             [
              1,
              "#f0f921"
             ]
            ],
            "type": "heatmapgl"
           }
          ],
          "histogram": [
           {
            "marker": {
             "pattern": {
              "fillmode": "overlay",
              "size": 10,
              "solidity": 0.2
             }
            },
            "type": "histogram"
           }
          ],
          "histogram2d": [
           {
            "colorbar": {
             "outlinewidth": 0,
             "ticks": ""
            },
            "colorscale": [
             [
              0,
              "#0d0887"
             ],
             [
              0.1111111111111111,
              "#46039f"
             ],
             [
              0.2222222222222222,
              "#7201a8"
             ],
             [
              0.3333333333333333,
              "#9c179e"
             ],
             [
              0.4444444444444444,
              "#bd3786"
             ],
             [
              0.5555555555555556,
              "#d8576b"
             ],
             [
              0.6666666666666666,
              "#ed7953"
             ],
             [
              0.7777777777777778,
              "#fb9f3a"
             ],
             [
              0.8888888888888888,
              "#fdca26"
             ],
             [
              1,
              "#f0f921"
             ]
            ],
            "type": "histogram2d"
           }
          ],
          "histogram2dcontour": [
           {
            "colorbar": {
             "outlinewidth": 0,
             "ticks": ""
            },
            "colorscale": [
             [
              0,
              "#0d0887"
             ],
             [
              0.1111111111111111,
              "#46039f"
             ],
             [
              0.2222222222222222,
              "#7201a8"
             ],
             [
              0.3333333333333333,
              "#9c179e"
             ],
             [
              0.4444444444444444,
              "#bd3786"
             ],
             [
              0.5555555555555556,
              "#d8576b"
             ],
             [
              0.6666666666666666,
              "#ed7953"
             ],
             [
              0.7777777777777778,
              "#fb9f3a"
             ],
             [
              0.8888888888888888,
              "#fdca26"
             ],
             [
              1,
              "#f0f921"
             ]
            ],
            "type": "histogram2dcontour"
           }
          ],
          "mesh3d": [
           {
            "colorbar": {
             "outlinewidth": 0,
             "ticks": ""
            },
            "type": "mesh3d"
           }
          ],
          "parcoords": [
           {
            "line": {
             "colorbar": {
              "outlinewidth": 0,
              "ticks": ""
             }
            },
            "type": "parcoords"
           }
          ],
          "pie": [
           {
            "automargin": true,
            "type": "pie"
           }
          ],
          "scatter": [
           {
            "fillpattern": {
             "fillmode": "overlay",
             "size": 10,
             "solidity": 0.2
            },
            "type": "scatter"
           }
          ],
          "scatter3d": [
           {
            "line": {
             "colorbar": {
              "outlinewidth": 0,
              "ticks": ""
             }
            },
            "marker": {
             "colorbar": {
              "outlinewidth": 0,
              "ticks": ""
             }
            },
            "type": "scatter3d"
           }
          ],
          "scattercarpet": [
           {
            "marker": {
             "colorbar": {
              "outlinewidth": 0,
              "ticks": ""
             }
            },
            "type": "scattercarpet"
           }
          ],
          "scattergeo": [
           {
            "marker": {
             "colorbar": {
              "outlinewidth": 0,
              "ticks": ""
             }
            },
            "type": "scattergeo"
           }
          ],
          "scattergl": [
           {
            "marker": {
             "colorbar": {
              "outlinewidth": 0,
              "ticks": ""
             }
            },
            "type": "scattergl"
           }
          ],
          "scattermapbox": [
           {
            "marker": {
             "colorbar": {
              "outlinewidth": 0,
              "ticks": ""
             }
            },
            "type": "scattermapbox"
           }
          ],
          "scatterpolar": [
           {
            "marker": {
             "colorbar": {
              "outlinewidth": 0,
              "ticks": ""
             }
            },
            "type": "scatterpolar"
           }
          ],
          "scatterpolargl": [
           {
            "marker": {
             "colorbar": {
              "outlinewidth": 0,
              "ticks": ""
             }
            },
            "type": "scatterpolargl"
           }
          ],
          "scatterternary": [
           {
            "marker": {
             "colorbar": {
              "outlinewidth": 0,
              "ticks": ""
             }
            },
            "type": "scatterternary"
           }
          ],
          "surface": [
           {
            "colorbar": {
             "outlinewidth": 0,
             "ticks": ""
            },
            "colorscale": [
             [
              0,
              "#0d0887"
             ],
             [
              0.1111111111111111,
              "#46039f"
             ],
             [
              0.2222222222222222,
              "#7201a8"
             ],
             [
              0.3333333333333333,
              "#9c179e"
             ],
             [
              0.4444444444444444,
              "#bd3786"
             ],
             [
              0.5555555555555556,
              "#d8576b"
             ],
             [
              0.6666666666666666,
              "#ed7953"
             ],
             [
              0.7777777777777778,
              "#fb9f3a"
             ],
             [
              0.8888888888888888,
              "#fdca26"
             ],
             [
              1,
              "#f0f921"
             ]
            ],
            "type": "surface"
           }
          ],
          "table": [
           {
            "cells": {
             "fill": {
              "color": "#EBF0F8"
             },
             "line": {
              "color": "white"
             }
            },
            "header": {
             "fill": {
              "color": "#C8D4E3"
             },
             "line": {
              "color": "white"
             }
            },
            "type": "table"
           }
          ]
         },
         "layout": {
          "annotationdefaults": {
           "arrowcolor": "#2a3f5f",
           "arrowhead": 0,
           "arrowwidth": 1
          },
          "autotypenumbers": "strict",
          "coloraxis": {
           "colorbar": {
            "outlinewidth": 0,
            "ticks": ""
           }
          },
          "colorscale": {
           "diverging": [
            [
             0,
             "#8e0152"
            ],
            [
             0.1,
             "#c51b7d"
            ],
            [
             0.2,
             "#de77ae"
            ],
            [
             0.3,
             "#f1b6da"
            ],
            [
             0.4,
             "#fde0ef"
            ],
            [
             0.5,
             "#f7f7f7"
            ],
            [
             0.6,
             "#e6f5d0"
            ],
            [
             0.7,
             "#b8e186"
            ],
            [
             0.8,
             "#7fbc41"
            ],
            [
             0.9,
             "#4d9221"
            ],
            [
             1,
             "#276419"
            ]
           ],
           "sequential": [
            [
             0,
             "#0d0887"
            ],
            [
             0.1111111111111111,
             "#46039f"
            ],
            [
             0.2222222222222222,
             "#7201a8"
            ],
            [
             0.3333333333333333,
             "#9c179e"
            ],
            [
             0.4444444444444444,
             "#bd3786"
            ],
            [
             0.5555555555555556,
             "#d8576b"
            ],
            [
             0.6666666666666666,
             "#ed7953"
            ],
            [
             0.7777777777777778,
             "#fb9f3a"
            ],
            [
             0.8888888888888888,
             "#fdca26"
            ],
            [
             1,
             "#f0f921"
            ]
           ],
           "sequentialminus": [
            [
             0,
             "#0d0887"
            ],
            [
             0.1111111111111111,
             "#46039f"
            ],
            [
             0.2222222222222222,
             "#7201a8"
            ],
            [
             0.3333333333333333,
             "#9c179e"
            ],
            [
             0.4444444444444444,
             "#bd3786"
            ],
            [
             0.5555555555555556,
             "#d8576b"
            ],
            [
             0.6666666666666666,
             "#ed7953"
            ],
            [
             0.7777777777777778,
             "#fb9f3a"
            ],
            [
             0.8888888888888888,
             "#fdca26"
            ],
            [
             1,
             "#f0f921"
            ]
           ]
          },
          "colorway": [
           "#636efa",
           "#EF553B",
           "#00cc96",
           "#ab63fa",
           "#FFA15A",
           "#19d3f3",
           "#FF6692",
           "#B6E880",
           "#FF97FF",
           "#FECB52"
          ],
          "font": {
           "color": "#2a3f5f"
          },
          "geo": {
           "bgcolor": "white",
           "lakecolor": "white",
           "landcolor": "#E5ECF6",
           "showlakes": true,
           "showland": true,
           "subunitcolor": "white"
          },
          "hoverlabel": {
           "align": "left"
          },
          "hovermode": "closest",
          "mapbox": {
           "style": "light"
          },
          "paper_bgcolor": "white",
          "plot_bgcolor": "#E5ECF6",
          "polar": {
           "angularaxis": {
            "gridcolor": "white",
            "linecolor": "white",
            "ticks": ""
           },
           "bgcolor": "#E5ECF6",
           "radialaxis": {
            "gridcolor": "white",
            "linecolor": "white",
            "ticks": ""
           }
          },
          "scene": {
           "xaxis": {
            "backgroundcolor": "#E5ECF6",
            "gridcolor": "white",
            "gridwidth": 2,
            "linecolor": "white",
            "showbackground": true,
            "ticks": "",
            "zerolinecolor": "white"
           },
           "yaxis": {
            "backgroundcolor": "#E5ECF6",
            "gridcolor": "white",
            "gridwidth": 2,
            "linecolor": "white",
            "showbackground": true,
            "ticks": "",
            "zerolinecolor": "white"
           },
           "zaxis": {
            "backgroundcolor": "#E5ECF6",
            "gridcolor": "white",
            "gridwidth": 2,
            "linecolor": "white",
            "showbackground": true,
            "ticks": "",
            "zerolinecolor": "white"
           }
          },
          "shapedefaults": {
           "line": {
            "color": "#2a3f5f"
           }
          },
          "ternary": {
           "aaxis": {
            "gridcolor": "white",
            "linecolor": "white",
            "ticks": ""
           },
           "baxis": {
            "gridcolor": "white",
            "linecolor": "white",
            "ticks": ""
           },
           "bgcolor": "#E5ECF6",
           "caxis": {
            "gridcolor": "white",
            "linecolor": "white",
            "ticks": ""
           }
          },
          "title": {
           "x": 0.05
          },
          "xaxis": {
           "automargin": true,
           "gridcolor": "white",
           "linecolor": "white",
           "ticks": "",
           "title": {
            "standoff": 15
           },
           "zerolinecolor": "white",
           "zerolinewidth": 2
          },
          "yaxis": {
           "automargin": true,
           "gridcolor": "white",
           "linecolor": "white",
           "ticks": "",
           "title": {
            "standoff": 15
           },
           "zerolinecolor": "white",
           "zerolinewidth": 2
          }
         }
        },
        "xaxis": {
         "anchor": "y",
         "domain": [
          0,
          1
         ],
         "title": {
          "text": "sentiment_polarity"
         }
        },
        "yaxis": {
         "anchor": "x",
         "domain": [
          0,
          1
         ],
         "title": {
          "text": "count"
         }
        }
       }
      }
     },
     "metadata": {},
     "output_type": "display_data"
    },
    {
     "data": {
      "application/vnd.plotly.v1+json": {
       "config": {
        "plotlyServerURL": "https://plot.ly"
       },
       "data": [
        {
         "alignmentgroup": "True",
         "bingroup": "x",
         "hovertemplate": "sentiment_subjectivity=%{x}<br>count=%{y}<extra></extra>",
         "legendgroup": "",
         "marker": {
          "color": "#636efa",
          "pattern": {
           "shape": ""
          }
         },
         "name": "",
         "offsetgroup": "",
         "orientation": "v",
         "showlegend": false,
         "type": "histogram",
         "x": [
          0.5537737317149082,
          0.41340504037872455,
          0.3833333333333333,
          0.5172563295290569,
          0.5118008123563679,
          0.5166666666666666,
          0.5540381994548661,
          0.5059567901234567,
          0.6395833333333334,
          0.4677228327228327,
          0.5989108618654073,
          0.49271825396825397,
          0.5479024943310657,
          0.5305555555555556,
          0.6111111111111112,
          0.4066383219954649,
          0.7555555555555555,
          0.3330357142857143,
          0.5451262626262626,
          0.4894642857142857,
          0.6461309523809524,
          0.5944444444444444,
          0.47350000000000003,
          0.5186329966329966,
          0.5604146409146409,
          0.42340067340067344,
          0.49639455782312925,
          0.3646212121212121,
          0.37628787878787884,
          0.6083333333333334,
          0.5109923469387756,
          0.43871993746993737,
          0.3888888888888889,
          0.37583333333333335,
          0.7625,
          null,
          0.45876543209876547,
          null,
          0.42883361678004533,
          0.37222222222222223,
          0.4789682539682539,
          0.4458066239316239,
          0.4624781510576965,
          0.53125,
          0.5490674603174602,
          null,
          0.5285493827160493,
          0.5820939554272887,
          0.3969336219336219,
          0.6610852573352574,
          0.5254058441558441,
          0.33955555555555555,
          0.6166666666666667,
          0.7125,
          0.41828689388213197,
          0.725,
          0.2911904761904762,
          0.43879012345679014,
          0.40099999999999997,
          0.81375,
          0.40728926166426166,
          0.4825396825396826,
          0.48854166666666665,
          null,
          0.507904761904762,
          null,
          null,
          0.4887896825396825,
          0.2833333333333333,
          0.3333333333333333,
          0.595,
          0.36607645826395824,
          0.4652777777777778,
          0.7391233766233767,
          0.59998556998557,
          0.646875,
          0.5183585858585859,
          0,
          0.5377994906096409,
          0.4728835978835979,
          0.48977272727272725,
          0.5155092592592593,
          null,
          0.7464120370370371,
          0.27459935897435894,
          null,
          0.5247225935828878,
          0.43468750000000006,
          0.3834160052910053,
          0.5234126984126984,
          0.5228125,
          0.5899286165223665,
          0.4278894927536232,
          0.55625,
          0.975,
          0.4525765091390091,
          0.35357142857142854,
          null,
          0.4116927566481138,
          0.47025355596784163,
          0.5344500950141976,
          0.5092960858585859,
          0.49583333333333335,
          0.85,
          0.5661849446849447,
          0.5401851851851852,
          0.379905303030303,
          0.5130208333333334
         ],
         "xaxis": "x",
         "yaxis": "y"
        }
       ],
       "layout": {
        "barmode": "relative",
        "legend": {
         "tracegroupgap": 0
        },
        "margin": {
         "t": 60
        },
        "template": {
         "data": {
          "bar": [
           {
            "error_x": {
             "color": "#2a3f5f"
            },
            "error_y": {
             "color": "#2a3f5f"
            },
            "marker": {
             "line": {
              "color": "#E5ECF6",
              "width": 0.5
             },
             "pattern": {
              "fillmode": "overlay",
              "size": 10,
              "solidity": 0.2
             }
            },
            "type": "bar"
           }
          ],
          "barpolar": [
           {
            "marker": {
             "line": {
              "color": "#E5ECF6",
              "width": 0.5
             },
             "pattern": {
              "fillmode": "overlay",
              "size": 10,
              "solidity": 0.2
             }
            },
            "type": "barpolar"
           }
          ],
          "carpet": [
           {
            "aaxis": {
             "endlinecolor": "#2a3f5f",
             "gridcolor": "white",
             "linecolor": "white",
             "minorgridcolor": "white",
             "startlinecolor": "#2a3f5f"
            },
            "baxis": {
             "endlinecolor": "#2a3f5f",
             "gridcolor": "white",
             "linecolor": "white",
             "minorgridcolor": "white",
             "startlinecolor": "#2a3f5f"
            },
            "type": "carpet"
           }
          ],
          "choropleth": [
           {
            "colorbar": {
             "outlinewidth": 0,
             "ticks": ""
            },
            "type": "choropleth"
           }
          ],
          "contour": [
           {
            "colorbar": {
             "outlinewidth": 0,
             "ticks": ""
            },
            "colorscale": [
             [
              0,
              "#0d0887"
             ],
             [
              0.1111111111111111,
              "#46039f"
             ],
             [
              0.2222222222222222,
              "#7201a8"
             ],
             [
              0.3333333333333333,
              "#9c179e"
             ],
             [
              0.4444444444444444,
              "#bd3786"
             ],
             [
              0.5555555555555556,
              "#d8576b"
             ],
             [
              0.6666666666666666,
              "#ed7953"
             ],
             [
              0.7777777777777778,
              "#fb9f3a"
             ],
             [
              0.8888888888888888,
              "#fdca26"
             ],
             [
              1,
              "#f0f921"
             ]
            ],
            "type": "contour"
           }
          ],
          "contourcarpet": [
           {
            "colorbar": {
             "outlinewidth": 0,
             "ticks": ""
            },
            "type": "contourcarpet"
           }
          ],
          "heatmap": [
           {
            "colorbar": {
             "outlinewidth": 0,
             "ticks": ""
            },
            "colorscale": [
             [
              0,
              "#0d0887"
             ],
             [
              0.1111111111111111,
              "#46039f"
             ],
             [
              0.2222222222222222,
              "#7201a8"
             ],
             [
              0.3333333333333333,
              "#9c179e"
             ],
             [
              0.4444444444444444,
              "#bd3786"
             ],
             [
              0.5555555555555556,
              "#d8576b"
             ],
             [
              0.6666666666666666,
              "#ed7953"
             ],
             [
              0.7777777777777778,
              "#fb9f3a"
             ],
             [
              0.8888888888888888,
              "#fdca26"
             ],
             [
              1,
              "#f0f921"
             ]
            ],
            "type": "heatmap"
           }
          ],
          "heatmapgl": [
           {
            "colorbar": {
             "outlinewidth": 0,
             "ticks": ""
            },
            "colorscale": [
             [
              0,
              "#0d0887"
             ],
             [
              0.1111111111111111,
              "#46039f"
             ],
             [
              0.2222222222222222,
              "#7201a8"
             ],
             [
              0.3333333333333333,
              "#9c179e"
             ],
             [
              0.4444444444444444,
              "#bd3786"
             ],
             [
              0.5555555555555556,
              "#d8576b"
             ],
             [
              0.6666666666666666,
              "#ed7953"
             ],
             [
              0.7777777777777778,
              "#fb9f3a"
             ],
             [
              0.8888888888888888,
              "#fdca26"
             ],
             [
              1,
              "#f0f921"
             ]
            ],
            "type": "heatmapgl"
           }
          ],
          "histogram": [
           {
            "marker": {
             "pattern": {
              "fillmode": "overlay",
              "size": 10,
              "solidity": 0.2
             }
            },
            "type": "histogram"
           }
          ],
          "histogram2d": [
           {
            "colorbar": {
             "outlinewidth": 0,
             "ticks": ""
            },
            "colorscale": [
             [
              0,
              "#0d0887"
             ],
             [
              0.1111111111111111,
              "#46039f"
             ],
             [
              0.2222222222222222,
              "#7201a8"
             ],
             [
              0.3333333333333333,
              "#9c179e"
             ],
             [
              0.4444444444444444,
              "#bd3786"
             ],
             [
              0.5555555555555556,
              "#d8576b"
             ],
             [
              0.6666666666666666,
              "#ed7953"
             ],
             [
              0.7777777777777778,
              "#fb9f3a"
             ],
             [
              0.8888888888888888,
              "#fdca26"
             ],
             [
              1,
              "#f0f921"
             ]
            ],
            "type": "histogram2d"
           }
          ],
          "histogram2dcontour": [
           {
            "colorbar": {
             "outlinewidth": 0,
             "ticks": ""
            },
            "colorscale": [
             [
              0,
              "#0d0887"
             ],
             [
              0.1111111111111111,
              "#46039f"
             ],
             [
              0.2222222222222222,
              "#7201a8"
             ],
             [
              0.3333333333333333,
              "#9c179e"
             ],
             [
              0.4444444444444444,
              "#bd3786"
             ],
             [
              0.5555555555555556,
              "#d8576b"
             ],
             [
              0.6666666666666666,
              "#ed7953"
             ],
             [
              0.7777777777777778,
              "#fb9f3a"
             ],
             [
              0.8888888888888888,
              "#fdca26"
             ],
             [
              1,
              "#f0f921"
             ]
            ],
            "type": "histogram2dcontour"
           }
          ],
          "mesh3d": [
           {
            "colorbar": {
             "outlinewidth": 0,
             "ticks": ""
            },
            "type": "mesh3d"
           }
          ],
          "parcoords": [
           {
            "line": {
             "colorbar": {
              "outlinewidth": 0,
              "ticks": ""
             }
            },
            "type": "parcoords"
           }
          ],
          "pie": [
           {
            "automargin": true,
            "type": "pie"
           }
          ],
          "scatter": [
           {
            "fillpattern": {
             "fillmode": "overlay",
             "size": 10,
             "solidity": 0.2
            },
            "type": "scatter"
           }
          ],
          "scatter3d": [
           {
            "line": {
             "colorbar": {
              "outlinewidth": 0,
              "ticks": ""
             }
            },
            "marker": {
             "colorbar": {
              "outlinewidth": 0,
              "ticks": ""
             }
            },
            "type": "scatter3d"
           }
          ],
          "scattercarpet": [
           {
            "marker": {
             "colorbar": {
              "outlinewidth": 0,
              "ticks": ""
             }
            },
            "type": "scattercarpet"
           }
          ],
          "scattergeo": [
           {
            "marker": {
             "colorbar": {
              "outlinewidth": 0,
              "ticks": ""
             }
            },
            "type": "scattergeo"
           }
          ],
          "scattergl": [
           {
            "marker": {
             "colorbar": {
              "outlinewidth": 0,
              "ticks": ""
             }
            },
            "type": "scattergl"
           }
          ],
          "scattermapbox": [
           {
            "marker": {
             "colorbar": {
              "outlinewidth": 0,
              "ticks": ""
             }
            },
            "type": "scattermapbox"
           }
          ],
          "scatterpolar": [
           {
            "marker": {
             "colorbar": {
              "outlinewidth": 0,
              "ticks": ""
             }
            },
            "type": "scatterpolar"
           }
          ],
          "scatterpolargl": [
           {
            "marker": {
             "colorbar": {
              "outlinewidth": 0,
              "ticks": ""
             }
            },
            "type": "scatterpolargl"
           }
          ],
          "scatterternary": [
           {
            "marker": {
             "colorbar": {
              "outlinewidth": 0,
              "ticks": ""
             }
            },
            "type": "scatterternary"
           }
          ],
          "surface": [
           {
            "colorbar": {
             "outlinewidth": 0,
             "ticks": ""
            },
            "colorscale": [
             [
              0,
              "#0d0887"
             ],
             [
              0.1111111111111111,
              "#46039f"
             ],
             [
              0.2222222222222222,
              "#7201a8"
             ],
             [
              0.3333333333333333,
              "#9c179e"
             ],
             [
              0.4444444444444444,
              "#bd3786"
             ],
             [
              0.5555555555555556,
              "#d8576b"
             ],
             [
              0.6666666666666666,
              "#ed7953"
             ],
             [
              0.7777777777777778,
              "#fb9f3a"
             ],
             [
              0.8888888888888888,
              "#fdca26"
             ],
             [
              1,
              "#f0f921"
             ]
            ],
            "type": "surface"
           }
          ],
          "table": [
           {
            "cells": {
             "fill": {
              "color": "#EBF0F8"
             },
             "line": {
              "color": "white"
             }
            },
            "header": {
             "fill": {
              "color": "#C8D4E3"
             },
             "line": {
              "color": "white"
             }
            },
            "type": "table"
           }
          ]
         },
         "layout": {
          "annotationdefaults": {
           "arrowcolor": "#2a3f5f",
           "arrowhead": 0,
           "arrowwidth": 1
          },
          "autotypenumbers": "strict",
          "coloraxis": {
           "colorbar": {
            "outlinewidth": 0,
            "ticks": ""
           }
          },
          "colorscale": {
           "diverging": [
            [
             0,
             "#8e0152"
            ],
            [
             0.1,
             "#c51b7d"
            ],
            [
             0.2,
             "#de77ae"
            ],
            [
             0.3,
             "#f1b6da"
            ],
            [
             0.4,
             "#fde0ef"
            ],
            [
             0.5,
             "#f7f7f7"
            ],
            [
             0.6,
             "#e6f5d0"
            ],
            [
             0.7,
             "#b8e186"
            ],
            [
             0.8,
             "#7fbc41"
            ],
            [
             0.9,
             "#4d9221"
            ],
            [
             1,
             "#276419"
            ]
           ],
           "sequential": [
            [
             0,
             "#0d0887"
            ],
            [
             0.1111111111111111,
             "#46039f"
            ],
            [
             0.2222222222222222,
             "#7201a8"
            ],
            [
             0.3333333333333333,
             "#9c179e"
            ],
            [
             0.4444444444444444,
             "#bd3786"
            ],
            [
             0.5555555555555556,
             "#d8576b"
            ],
            [
             0.6666666666666666,
             "#ed7953"
            ],
            [
             0.7777777777777778,
             "#fb9f3a"
            ],
            [
             0.8888888888888888,
             "#fdca26"
            ],
            [
             1,
             "#f0f921"
            ]
           ],
           "sequentialminus": [
            [
             0,
             "#0d0887"
            ],
            [
             0.1111111111111111,
             "#46039f"
            ],
            [
             0.2222222222222222,
             "#7201a8"
            ],
            [
             0.3333333333333333,
             "#9c179e"
            ],
            [
             0.4444444444444444,
             "#bd3786"
            ],
            [
             0.5555555555555556,
             "#d8576b"
            ],
            [
             0.6666666666666666,
             "#ed7953"
            ],
            [
             0.7777777777777778,
             "#fb9f3a"
            ],
            [
             0.8888888888888888,
             "#fdca26"
            ],
            [
             1,
             "#f0f921"
            ]
           ]
          },
          "colorway": [
           "#636efa",
           "#EF553B",
           "#00cc96",
           "#ab63fa",
           "#FFA15A",
           "#19d3f3",
           "#FF6692",
           "#B6E880",
           "#FF97FF",
           "#FECB52"
          ],
          "font": {
           "color": "#2a3f5f"
          },
          "geo": {
           "bgcolor": "white",
           "lakecolor": "white",
           "landcolor": "#E5ECF6",
           "showlakes": true,
           "showland": true,
           "subunitcolor": "white"
          },
          "hoverlabel": {
           "align": "left"
          },
          "hovermode": "closest",
          "mapbox": {
           "style": "light"
          },
          "paper_bgcolor": "white",
          "plot_bgcolor": "#E5ECF6",
          "polar": {
           "angularaxis": {
            "gridcolor": "white",
            "linecolor": "white",
            "ticks": ""
           },
           "bgcolor": "#E5ECF6",
           "radialaxis": {
            "gridcolor": "white",
            "linecolor": "white",
            "ticks": ""
           }
          },
          "scene": {
           "xaxis": {
            "backgroundcolor": "#E5ECF6",
            "gridcolor": "white",
            "gridwidth": 2,
            "linecolor": "white",
            "showbackground": true,
            "ticks": "",
            "zerolinecolor": "white"
           },
           "yaxis": {
            "backgroundcolor": "#E5ECF6",
            "gridcolor": "white",
            "gridwidth": 2,
            "linecolor": "white",
            "showbackground": true,
            "ticks": "",
            "zerolinecolor": "white"
           },
           "zaxis": {
            "backgroundcolor": "#E5ECF6",
            "gridcolor": "white",
            "gridwidth": 2,
            "linecolor": "white",
            "showbackground": true,
            "ticks": "",
            "zerolinecolor": "white"
           }
          },
          "shapedefaults": {
           "line": {
            "color": "#2a3f5f"
           }
          },
          "ternary": {
           "aaxis": {
            "gridcolor": "white",
            "linecolor": "white",
            "ticks": ""
           },
           "baxis": {
            "gridcolor": "white",
            "linecolor": "white",
            "ticks": ""
           },
           "bgcolor": "#E5ECF6",
           "caxis": {
            "gridcolor": "white",
            "linecolor": "white",
            "ticks": ""
           }
          },
          "title": {
           "x": 0.05
          },
          "xaxis": {
           "automargin": true,
           "gridcolor": "white",
           "linecolor": "white",
           "ticks": "",
           "title": {
            "standoff": 15
           },
           "zerolinecolor": "white",
           "zerolinewidth": 2
          },
          "yaxis": {
           "automargin": true,
           "gridcolor": "white",
           "linecolor": "white",
           "ticks": "",
           "title": {
            "standoff": 15
           },
           "zerolinecolor": "white",
           "zerolinewidth": 2
          }
         }
        },
        "xaxis": {
         "anchor": "y",
         "domain": [
          0,
          1
         ],
         "title": {
          "text": "sentiment_subjectivity"
         }
        },
        "yaxis": {
         "anchor": "x",
         "domain": [
          0,
          1
         ],
         "title": {
          "text": "count"
         }
        }
       }
      }
     },
     "metadata": {},
     "output_type": "display_data"
    },
    {
     "data": {
      "application/vnd.plotly.v1+json": {
       "config": {
        "plotlyServerURL": "https://plot.ly"
       },
       "data": [
        {
         "alignmentgroup": "True",
         "bingroup": "x",
         "hovertemplate": "n_votes=%{x}<br>count=%{y}<extra></extra>",
         "legendgroup": "",
         "marker": {
          "color": "#636efa",
          "pattern": {
           "shape": ""
          }
         },
         "name": "",
         "offsetgroup": "",
         "orientation": "v",
         "showlegend": false,
         "type": "histogram",
         "x": [
          25,
          7,
          2,
          15,
          19,
          6,
          8,
          14,
          10,
          25,
          15,
          7,
          3,
          0,
          9,
          6,
          7,
          4,
          15,
          9,
          4,
          20,
          5,
          29,
          9,
          13,
          13,
          7,
          10,
          7,
          11,
          7,
          5,
          5,
          6,
          0,
          13,
          4,
          10,
          4,
          4,
          5,
          5,
          3,
          12,
          1,
          10,
          11,
          10,
          9,
          5,
          5,
          4,
          4,
          12,
          5,
          2,
          3,
          6,
          11,
          9,
          11,
          12,
          5,
          4,
          4,
          1,
          10,
          2,
          3,
          4,
          28,
          9,
          7,
          3,
          9,
          4,
          2,
          9,
          7,
          5,
          11,
          4,
          9,
          4,
          1,
          12,
          8,
          7,
          7,
          9,
          7,
          10,
          4,
          2,
          15,
          1,
          2,
          10,
          5,
          21,
          4,
          4,
          4,
          20,
          6,
          6,
          0
         ],
         "xaxis": "x",
         "yaxis": "y"
        }
       ],
       "layout": {
        "barmode": "relative",
        "legend": {
         "tracegroupgap": 0
        },
        "margin": {
         "t": 60
        },
        "template": {
         "data": {
          "bar": [
           {
            "error_x": {
             "color": "#2a3f5f"
            },
            "error_y": {
             "color": "#2a3f5f"
            },
            "marker": {
             "line": {
              "color": "#E5ECF6",
              "width": 0.5
             },
             "pattern": {
              "fillmode": "overlay",
              "size": 10,
              "solidity": 0.2
             }
            },
            "type": "bar"
           }
          ],
          "barpolar": [
           {
            "marker": {
             "line": {
              "color": "#E5ECF6",
              "width": 0.5
             },
             "pattern": {
              "fillmode": "overlay",
              "size": 10,
              "solidity": 0.2
             }
            },
            "type": "barpolar"
           }
          ],
          "carpet": [
           {
            "aaxis": {
             "endlinecolor": "#2a3f5f",
             "gridcolor": "white",
             "linecolor": "white",
             "minorgridcolor": "white",
             "startlinecolor": "#2a3f5f"
            },
            "baxis": {
             "endlinecolor": "#2a3f5f",
             "gridcolor": "white",
             "linecolor": "white",
             "minorgridcolor": "white",
             "startlinecolor": "#2a3f5f"
            },
            "type": "carpet"
           }
          ],
          "choropleth": [
           {
            "colorbar": {
             "outlinewidth": 0,
             "ticks": ""
            },
            "type": "choropleth"
           }
          ],
          "contour": [
           {
            "colorbar": {
             "outlinewidth": 0,
             "ticks": ""
            },
            "colorscale": [
             [
              0,
              "#0d0887"
             ],
             [
              0.1111111111111111,
              "#46039f"
             ],
             [
              0.2222222222222222,
              "#7201a8"
             ],
             [
              0.3333333333333333,
              "#9c179e"
             ],
             [
              0.4444444444444444,
              "#bd3786"
             ],
             [
              0.5555555555555556,
              "#d8576b"
             ],
             [
              0.6666666666666666,
              "#ed7953"
             ],
             [
              0.7777777777777778,
              "#fb9f3a"
             ],
             [
              0.8888888888888888,
              "#fdca26"
             ],
             [
              1,
              "#f0f921"
             ]
            ],
            "type": "contour"
           }
          ],
          "contourcarpet": [
           {
            "colorbar": {
             "outlinewidth": 0,
             "ticks": ""
            },
            "type": "contourcarpet"
           }
          ],
          "heatmap": [
           {
            "colorbar": {
             "outlinewidth": 0,
             "ticks": ""
            },
            "colorscale": [
             [
              0,
              "#0d0887"
             ],
             [
              0.1111111111111111,
              "#46039f"
             ],
             [
              0.2222222222222222,
              "#7201a8"
             ],
             [
              0.3333333333333333,
              "#9c179e"
             ],
             [
              0.4444444444444444,
              "#bd3786"
             ],
             [
              0.5555555555555556,
              "#d8576b"
             ],
             [
              0.6666666666666666,
              "#ed7953"
             ],
             [
              0.7777777777777778,
              "#fb9f3a"
             ],
             [
              0.8888888888888888,
              "#fdca26"
             ],
             [
              1,
              "#f0f921"
             ]
            ],
            "type": "heatmap"
           }
          ],
          "heatmapgl": [
           {
            "colorbar": {
             "outlinewidth": 0,
             "ticks": ""
            },
            "colorscale": [
             [
              0,
              "#0d0887"
             ],
             [
              0.1111111111111111,
              "#46039f"
             ],
             [
              0.2222222222222222,
              "#7201a8"
             ],
             [
              0.3333333333333333,
              "#9c179e"
             ],
             [
              0.4444444444444444,
              "#bd3786"
             ],
             [
              0.5555555555555556,
              "#d8576b"
             ],
             [
              0.6666666666666666,
              "#ed7953"
             ],
             [
              0.7777777777777778,
              "#fb9f3a"
             ],
             [
              0.8888888888888888,
              "#fdca26"
             ],
             [
              1,
              "#f0f921"
             ]
            ],
            "type": "heatmapgl"
           }
          ],
          "histogram": [
           {
            "marker": {
             "pattern": {
              "fillmode": "overlay",
              "size": 10,
              "solidity": 0.2
             }
            },
            "type": "histogram"
           }
          ],
          "histogram2d": [
           {
            "colorbar": {
             "outlinewidth": 0,
             "ticks": ""
            },
            "colorscale": [
             [
              0,
              "#0d0887"
             ],
             [
              0.1111111111111111,
              "#46039f"
             ],
             [
              0.2222222222222222,
              "#7201a8"
             ],
             [
              0.3333333333333333,
              "#9c179e"
             ],
             [
              0.4444444444444444,
              "#bd3786"
             ],
             [
              0.5555555555555556,
              "#d8576b"
             ],
             [
              0.6666666666666666,
              "#ed7953"
             ],
             [
              0.7777777777777778,
              "#fb9f3a"
             ],
             [
              0.8888888888888888,
              "#fdca26"
             ],
             [
              1,
              "#f0f921"
             ]
            ],
            "type": "histogram2d"
           }
          ],
          "histogram2dcontour": [
           {
            "colorbar": {
             "outlinewidth": 0,
             "ticks": ""
            },
            "colorscale": [
             [
              0,
              "#0d0887"
             ],
             [
              0.1111111111111111,
              "#46039f"
             ],
             [
              0.2222222222222222,
              "#7201a8"
             ],
             [
              0.3333333333333333,
              "#9c179e"
             ],
             [
              0.4444444444444444,
              "#bd3786"
             ],
             [
              0.5555555555555556,
              "#d8576b"
             ],
             [
              0.6666666666666666,
              "#ed7953"
             ],
             [
              0.7777777777777778,
              "#fb9f3a"
             ],
             [
              0.8888888888888888,
              "#fdca26"
             ],
             [
              1,
              "#f0f921"
             ]
            ],
            "type": "histogram2dcontour"
           }
          ],
          "mesh3d": [
           {
            "colorbar": {
             "outlinewidth": 0,
             "ticks": ""
            },
            "type": "mesh3d"
           }
          ],
          "parcoords": [
           {
            "line": {
             "colorbar": {
              "outlinewidth": 0,
              "ticks": ""
             }
            },
            "type": "parcoords"
           }
          ],
          "pie": [
           {
            "automargin": true,
            "type": "pie"
           }
          ],
          "scatter": [
           {
            "fillpattern": {
             "fillmode": "overlay",
             "size": 10,
             "solidity": 0.2
            },
            "type": "scatter"
           }
          ],
          "scatter3d": [
           {
            "line": {
             "colorbar": {
              "outlinewidth": 0,
              "ticks": ""
             }
            },
            "marker": {
             "colorbar": {
              "outlinewidth": 0,
              "ticks": ""
             }
            },
            "type": "scatter3d"
           }
          ],
          "scattercarpet": [
           {
            "marker": {
             "colorbar": {
              "outlinewidth": 0,
              "ticks": ""
             }
            },
            "type": "scattercarpet"
           }
          ],
          "scattergeo": [
           {
            "marker": {
             "colorbar": {
              "outlinewidth": 0,
              "ticks": ""
             }
            },
            "type": "scattergeo"
           }
          ],
          "scattergl": [
           {
            "marker": {
             "colorbar": {
              "outlinewidth": 0,
              "ticks": ""
             }
            },
            "type": "scattergl"
           }
          ],
          "scattermapbox": [
           {
            "marker": {
             "colorbar": {
              "outlinewidth": 0,
              "ticks": ""
             }
            },
            "type": "scattermapbox"
           }
          ],
          "scatterpolar": [
           {
            "marker": {
             "colorbar": {
              "outlinewidth": 0,
              "ticks": ""
             }
            },
            "type": "scatterpolar"
           }
          ],
          "scatterpolargl": [
           {
            "marker": {
             "colorbar": {
              "outlinewidth": 0,
              "ticks": ""
             }
            },
            "type": "scatterpolargl"
           }
          ],
          "scatterternary": [
           {
            "marker": {
             "colorbar": {
              "outlinewidth": 0,
              "ticks": ""
             }
            },
            "type": "scatterternary"
           }
          ],
          "surface": [
           {
            "colorbar": {
             "outlinewidth": 0,
             "ticks": ""
            },
            "colorscale": [
             [
              0,
              "#0d0887"
             ],
             [
              0.1111111111111111,
              "#46039f"
             ],
             [
              0.2222222222222222,
              "#7201a8"
             ],
             [
              0.3333333333333333,
              "#9c179e"
             ],
             [
              0.4444444444444444,
              "#bd3786"
             ],
             [
              0.5555555555555556,
              "#d8576b"
             ],
             [
              0.6666666666666666,
              "#ed7953"
             ],
             [
              0.7777777777777778,
              "#fb9f3a"
             ],
             [
              0.8888888888888888,
              "#fdca26"
             ],
             [
              1,
              "#f0f921"
             ]
            ],
            "type": "surface"
           }
          ],
          "table": [
           {
            "cells": {
             "fill": {
              "color": "#EBF0F8"
             },
             "line": {
              "color": "white"
             }
            },
            "header": {
             "fill": {
              "color": "#C8D4E3"
             },
             "line": {
              "color": "white"
             }
            },
            "type": "table"
           }
          ]
         },
         "layout": {
          "annotationdefaults": {
           "arrowcolor": "#2a3f5f",
           "arrowhead": 0,
           "arrowwidth": 1
          },
          "autotypenumbers": "strict",
          "coloraxis": {
           "colorbar": {
            "outlinewidth": 0,
            "ticks": ""
           }
          },
          "colorscale": {
           "diverging": [
            [
             0,
             "#8e0152"
            ],
            [
             0.1,
             "#c51b7d"
            ],
            [
             0.2,
             "#de77ae"
            ],
            [
             0.3,
             "#f1b6da"
            ],
            [
             0.4,
             "#fde0ef"
            ],
            [
             0.5,
             "#f7f7f7"
            ],
            [
             0.6,
             "#e6f5d0"
            ],
            [
             0.7,
             "#b8e186"
            ],
            [
             0.8,
             "#7fbc41"
            ],
            [
             0.9,
             "#4d9221"
            ],
            [
             1,
             "#276419"
            ]
           ],
           "sequential": [
            [
             0,
             "#0d0887"
            ],
            [
             0.1111111111111111,
             "#46039f"
            ],
            [
             0.2222222222222222,
             "#7201a8"
            ],
            [
             0.3333333333333333,
             "#9c179e"
            ],
            [
             0.4444444444444444,
             "#bd3786"
            ],
            [
             0.5555555555555556,
             "#d8576b"
            ],
            [
             0.6666666666666666,
             "#ed7953"
            ],
            [
             0.7777777777777778,
             "#fb9f3a"
            ],
            [
             0.8888888888888888,
             "#fdca26"
            ],
            [
             1,
             "#f0f921"
            ]
           ],
           "sequentialminus": [
            [
             0,
             "#0d0887"
            ],
            [
             0.1111111111111111,
             "#46039f"
            ],
            [
             0.2222222222222222,
             "#7201a8"
            ],
            [
             0.3333333333333333,
             "#9c179e"
            ],
            [
             0.4444444444444444,
             "#bd3786"
            ],
            [
             0.5555555555555556,
             "#d8576b"
            ],
            [
             0.6666666666666666,
             "#ed7953"
            ],
            [
             0.7777777777777778,
             "#fb9f3a"
            ],
            [
             0.8888888888888888,
             "#fdca26"
            ],
            [
             1,
             "#f0f921"
            ]
           ]
          },
          "colorway": [
           "#636efa",
           "#EF553B",
           "#00cc96",
           "#ab63fa",
           "#FFA15A",
           "#19d3f3",
           "#FF6692",
           "#B6E880",
           "#FF97FF",
           "#FECB52"
          ],
          "font": {
           "color": "#2a3f5f"
          },
          "geo": {
           "bgcolor": "white",
           "lakecolor": "white",
           "landcolor": "#E5ECF6",
           "showlakes": true,
           "showland": true,
           "subunitcolor": "white"
          },
          "hoverlabel": {
           "align": "left"
          },
          "hovermode": "closest",
          "mapbox": {
           "style": "light"
          },
          "paper_bgcolor": "white",
          "plot_bgcolor": "#E5ECF6",
          "polar": {
           "angularaxis": {
            "gridcolor": "white",
            "linecolor": "white",
            "ticks": ""
           },
           "bgcolor": "#E5ECF6",
           "radialaxis": {
            "gridcolor": "white",
            "linecolor": "white",
            "ticks": ""
           }
          },
          "scene": {
           "xaxis": {
            "backgroundcolor": "#E5ECF6",
            "gridcolor": "white",
            "gridwidth": 2,
            "linecolor": "white",
            "showbackground": true,
            "ticks": "",
            "zerolinecolor": "white"
           },
           "yaxis": {
            "backgroundcolor": "#E5ECF6",
            "gridcolor": "white",
            "gridwidth": 2,
            "linecolor": "white",
            "showbackground": true,
            "ticks": "",
            "zerolinecolor": "white"
           },
           "zaxis": {
            "backgroundcolor": "#E5ECF6",
            "gridcolor": "white",
            "gridwidth": 2,
            "linecolor": "white",
            "showbackground": true,
            "ticks": "",
            "zerolinecolor": "white"
           }
          },
          "shapedefaults": {
           "line": {
            "color": "#2a3f5f"
           }
          },
          "ternary": {
           "aaxis": {
            "gridcolor": "white",
            "linecolor": "white",
            "ticks": ""
           },
           "baxis": {
            "gridcolor": "white",
            "linecolor": "white",
            "ticks": ""
           },
           "bgcolor": "#E5ECF6",
           "caxis": {
            "gridcolor": "white",
            "linecolor": "white",
            "ticks": ""
           }
          },
          "title": {
           "x": 0.05
          },
          "xaxis": {
           "automargin": true,
           "gridcolor": "white",
           "linecolor": "white",
           "ticks": "",
           "title": {
            "standoff": 15
           },
           "zerolinecolor": "white",
           "zerolinewidth": 2
          },
          "yaxis": {
           "automargin": true,
           "gridcolor": "white",
           "linecolor": "white",
           "ticks": "",
           "title": {
            "standoff": 15
           },
           "zerolinecolor": "white",
           "zerolinewidth": 2
          }
         }
        },
        "xaxis": {
         "anchor": "y",
         "domain": [
          0,
          1
         ],
         "title": {
          "text": "n_votes"
         }
        },
        "yaxis": {
         "anchor": "x",
         "domain": [
          0,
          1
         ],
         "title": {
          "text": "count"
         }
        }
       }
      }
     },
     "metadata": {},
     "output_type": "display_data"
    },
    {
     "data": {
      "application/vnd.plotly.v1+json": {
       "config": {
        "plotlyServerURL": "https://plot.ly"
       },
       "data": [
        {
         "alignmentgroup": "True",
         "bingroup": "x",
         "hovertemplate": "comment_count=%{x}<br>count=%{y}<extra></extra>",
         "legendgroup": "",
         "marker": {
          "color": "#636efa",
          "pattern": {
           "shape": ""
          }
         },
         "name": "",
         "offsetgroup": "",
         "orientation": "v",
         "showlegend": false,
         "type": "histogram",
         "x": [
          17,
          7,
          2,
          10,
          9,
          1,
          6,
          9,
          4,
          13,
          11,
          4,
          1,
          3,
          3,
          7,
          3,
          1,
          12,
          2,
          4,
          3,
          5,
          10,
          5,
          6,
          6,
          2,
          5,
          3,
          10,
          6,
          2,
          2,
          2,
          0,
          6,
          0,
          7,
          1,
          3,
          4,
          6,
          2,
          6,
          0,
          3,
          9,
          3,
          6,
          2,
          4,
          3,
          1,
          14,
          3,
          3,
          5,
          5,
          4,
          4,
          4,
          2,
          0,
          5,
          0,
          0,
          3,
          1,
          1,
          2,
          8,
          2,
          2,
          7,
          4,
          3,
          1,
          7,
          6,
          2,
          3,
          0,
          2,
          4,
          0,
          6,
          6,
          4,
          3,
          8,
          8,
          4,
          1,
          1,
          6,
          2,
          0,
          4,
          1,
          13,
          3,
          2,
          2,
          15,
          1,
          4,
          4
         ],
         "xaxis": "x",
         "yaxis": "y"
        }
       ],
       "layout": {
        "barmode": "relative",
        "legend": {
         "tracegroupgap": 0
        },
        "margin": {
         "t": 60
        },
        "template": {
         "data": {
          "bar": [
           {
            "error_x": {
             "color": "#2a3f5f"
            },
            "error_y": {
             "color": "#2a3f5f"
            },
            "marker": {
             "line": {
              "color": "#E5ECF6",
              "width": 0.5
             },
             "pattern": {
              "fillmode": "overlay",
              "size": 10,
              "solidity": 0.2
             }
            },
            "type": "bar"
           }
          ],
          "barpolar": [
           {
            "marker": {
             "line": {
              "color": "#E5ECF6",
              "width": 0.5
             },
             "pattern": {
              "fillmode": "overlay",
              "size": 10,
              "solidity": 0.2
             }
            },
            "type": "barpolar"
           }
          ],
          "carpet": [
           {
            "aaxis": {
             "endlinecolor": "#2a3f5f",
             "gridcolor": "white",
             "linecolor": "white",
             "minorgridcolor": "white",
             "startlinecolor": "#2a3f5f"
            },
            "baxis": {
             "endlinecolor": "#2a3f5f",
             "gridcolor": "white",
             "linecolor": "white",
             "minorgridcolor": "white",
             "startlinecolor": "#2a3f5f"
            },
            "type": "carpet"
           }
          ],
          "choropleth": [
           {
            "colorbar": {
             "outlinewidth": 0,
             "ticks": ""
            },
            "type": "choropleth"
           }
          ],
          "contour": [
           {
            "colorbar": {
             "outlinewidth": 0,
             "ticks": ""
            },
            "colorscale": [
             [
              0,
              "#0d0887"
             ],
             [
              0.1111111111111111,
              "#46039f"
             ],
             [
              0.2222222222222222,
              "#7201a8"
             ],
             [
              0.3333333333333333,
              "#9c179e"
             ],
             [
              0.4444444444444444,
              "#bd3786"
             ],
             [
              0.5555555555555556,
              "#d8576b"
             ],
             [
              0.6666666666666666,
              "#ed7953"
             ],
             [
              0.7777777777777778,
              "#fb9f3a"
             ],
             [
              0.8888888888888888,
              "#fdca26"
             ],
             [
              1,
              "#f0f921"
             ]
            ],
            "type": "contour"
           }
          ],
          "contourcarpet": [
           {
            "colorbar": {
             "outlinewidth": 0,
             "ticks": ""
            },
            "type": "contourcarpet"
           }
          ],
          "heatmap": [
           {
            "colorbar": {
             "outlinewidth": 0,
             "ticks": ""
            },
            "colorscale": [
             [
              0,
              "#0d0887"
             ],
             [
              0.1111111111111111,
              "#46039f"
             ],
             [
              0.2222222222222222,
              "#7201a8"
             ],
             [
              0.3333333333333333,
              "#9c179e"
             ],
             [
              0.4444444444444444,
              "#bd3786"
             ],
             [
              0.5555555555555556,
              "#d8576b"
             ],
             [
              0.6666666666666666,
              "#ed7953"
             ],
             [
              0.7777777777777778,
              "#fb9f3a"
             ],
             [
              0.8888888888888888,
              "#fdca26"
             ],
             [
              1,
              "#f0f921"
             ]
            ],
            "type": "heatmap"
           }
          ],
          "heatmapgl": [
           {
            "colorbar": {
             "outlinewidth": 0,
             "ticks": ""
            },
            "colorscale": [
             [
              0,
              "#0d0887"
             ],
             [
              0.1111111111111111,
              "#46039f"
             ],
             [
              0.2222222222222222,
              "#7201a8"
             ],
             [
              0.3333333333333333,
              "#9c179e"
             ],
             [
              0.4444444444444444,
              "#bd3786"
             ],
             [
              0.5555555555555556,
              "#d8576b"
             ],
             [
              0.6666666666666666,
              "#ed7953"
             ],
             [
              0.7777777777777778,
              "#fb9f3a"
             ],
             [
              0.8888888888888888,
              "#fdca26"
             ],
             [
              1,
              "#f0f921"
             ]
            ],
            "type": "heatmapgl"
           }
          ],
          "histogram": [
           {
            "marker": {
             "pattern": {
              "fillmode": "overlay",
              "size": 10,
              "solidity": 0.2
             }
            },
            "type": "histogram"
           }
          ],
          "histogram2d": [
           {
            "colorbar": {
             "outlinewidth": 0,
             "ticks": ""
            },
            "colorscale": [
             [
              0,
              "#0d0887"
             ],
             [
              0.1111111111111111,
              "#46039f"
             ],
             [
              0.2222222222222222,
              "#7201a8"
             ],
             [
              0.3333333333333333,
              "#9c179e"
             ],
             [
              0.4444444444444444,
              "#bd3786"
             ],
             [
              0.5555555555555556,
              "#d8576b"
             ],
             [
              0.6666666666666666,
              "#ed7953"
             ],
             [
              0.7777777777777778,
              "#fb9f3a"
             ],
             [
              0.8888888888888888,
              "#fdca26"
             ],
             [
              1,
              "#f0f921"
             ]
            ],
            "type": "histogram2d"
           }
          ],
          "histogram2dcontour": [
           {
            "colorbar": {
             "outlinewidth": 0,
             "ticks": ""
            },
            "colorscale": [
             [
              0,
              "#0d0887"
             ],
             [
              0.1111111111111111,
              "#46039f"
             ],
             [
              0.2222222222222222,
              "#7201a8"
             ],
             [
              0.3333333333333333,
              "#9c179e"
             ],
             [
              0.4444444444444444,
              "#bd3786"
             ],
             [
              0.5555555555555556,
              "#d8576b"
             ],
             [
              0.6666666666666666,
              "#ed7953"
             ],
             [
              0.7777777777777778,
              "#fb9f3a"
             ],
             [
              0.8888888888888888,
              "#fdca26"
             ],
             [
              1,
              "#f0f921"
             ]
            ],
            "type": "histogram2dcontour"
           }
          ],
          "mesh3d": [
           {
            "colorbar": {
             "outlinewidth": 0,
             "ticks": ""
            },
            "type": "mesh3d"
           }
          ],
          "parcoords": [
           {
            "line": {
             "colorbar": {
              "outlinewidth": 0,
              "ticks": ""
             }
            },
            "type": "parcoords"
           }
          ],
          "pie": [
           {
            "automargin": true,
            "type": "pie"
           }
          ],
          "scatter": [
           {
            "fillpattern": {
             "fillmode": "overlay",
             "size": 10,
             "solidity": 0.2
            },
            "type": "scatter"
           }
          ],
          "scatter3d": [
           {
            "line": {
             "colorbar": {
              "outlinewidth": 0,
              "ticks": ""
             }
            },
            "marker": {
             "colorbar": {
              "outlinewidth": 0,
              "ticks": ""
             }
            },
            "type": "scatter3d"
           }
          ],
          "scattercarpet": [
           {
            "marker": {
             "colorbar": {
              "outlinewidth": 0,
              "ticks": ""
             }
            },
            "type": "scattercarpet"
           }
          ],
          "scattergeo": [
           {
            "marker": {
             "colorbar": {
              "outlinewidth": 0,
              "ticks": ""
             }
            },
            "type": "scattergeo"
           }
          ],
          "scattergl": [
           {
            "marker": {
             "colorbar": {
              "outlinewidth": 0,
              "ticks": ""
             }
            },
            "type": "scattergl"
           }
          ],
          "scattermapbox": [
           {
            "marker": {
             "colorbar": {
              "outlinewidth": 0,
              "ticks": ""
             }
            },
            "type": "scattermapbox"
           }
          ],
          "scatterpolar": [
           {
            "marker": {
             "colorbar": {
              "outlinewidth": 0,
              "ticks": ""
             }
            },
            "type": "scatterpolar"
           }
          ],
          "scatterpolargl": [
           {
            "marker": {
             "colorbar": {
              "outlinewidth": 0,
              "ticks": ""
             }
            },
            "type": "scatterpolargl"
           }
          ],
          "scatterternary": [
           {
            "marker": {
             "colorbar": {
              "outlinewidth": 0,
              "ticks": ""
             }
            },
            "type": "scatterternary"
           }
          ],
          "surface": [
           {
            "colorbar": {
             "outlinewidth": 0,
             "ticks": ""
            },
            "colorscale": [
             [
              0,
              "#0d0887"
             ],
             [
              0.1111111111111111,
              "#46039f"
             ],
             [
              0.2222222222222222,
              "#7201a8"
             ],
             [
              0.3333333333333333,
              "#9c179e"
             ],
             [
              0.4444444444444444,
              "#bd3786"
             ],
             [
              0.5555555555555556,
              "#d8576b"
             ],
             [
              0.6666666666666666,
              "#ed7953"
             ],
             [
              0.7777777777777778,
              "#fb9f3a"
             ],
             [
              0.8888888888888888,
              "#fdca26"
             ],
             [
              1,
              "#f0f921"
             ]
            ],
            "type": "surface"
           }
          ],
          "table": [
           {
            "cells": {
             "fill": {
              "color": "#EBF0F8"
             },
             "line": {
              "color": "white"
             }
            },
            "header": {
             "fill": {
              "color": "#C8D4E3"
             },
             "line": {
              "color": "white"
             }
            },
            "type": "table"
           }
          ]
         },
         "layout": {
          "annotationdefaults": {
           "arrowcolor": "#2a3f5f",
           "arrowhead": 0,
           "arrowwidth": 1
          },
          "autotypenumbers": "strict",
          "coloraxis": {
           "colorbar": {
            "outlinewidth": 0,
            "ticks": ""
           }
          },
          "colorscale": {
           "diverging": [
            [
             0,
             "#8e0152"
            ],
            [
             0.1,
             "#c51b7d"
            ],
            [
             0.2,
             "#de77ae"
            ],
            [
             0.3,
             "#f1b6da"
            ],
            [
             0.4,
             "#fde0ef"
            ],
            [
             0.5,
             "#f7f7f7"
            ],
            [
             0.6,
             "#e6f5d0"
            ],
            [
             0.7,
             "#b8e186"
            ],
            [
             0.8,
             "#7fbc41"
            ],
            [
             0.9,
             "#4d9221"
            ],
            [
             1,
             "#276419"
            ]
           ],
           "sequential": [
            [
             0,
             "#0d0887"
            ],
            [
             0.1111111111111111,
             "#46039f"
            ],
            [
             0.2222222222222222,
             "#7201a8"
            ],
            [
             0.3333333333333333,
             "#9c179e"
            ],
            [
             0.4444444444444444,
             "#bd3786"
            ],
            [
             0.5555555555555556,
             "#d8576b"
            ],
            [
             0.6666666666666666,
             "#ed7953"
            ],
            [
             0.7777777777777778,
             "#fb9f3a"
            ],
            [
             0.8888888888888888,
             "#fdca26"
            ],
            [
             1,
             "#f0f921"
            ]
           ],
           "sequentialminus": [
            [
             0,
             "#0d0887"
            ],
            [
             0.1111111111111111,
             "#46039f"
            ],
            [
             0.2222222222222222,
             "#7201a8"
            ],
            [
             0.3333333333333333,
             "#9c179e"
            ],
            [
             0.4444444444444444,
             "#bd3786"
            ],
            [
             0.5555555555555556,
             "#d8576b"
            ],
            [
             0.6666666666666666,
             "#ed7953"
            ],
            [
             0.7777777777777778,
             "#fb9f3a"
            ],
            [
             0.8888888888888888,
             "#fdca26"
            ],
            [
             1,
             "#f0f921"
            ]
           ]
          },
          "colorway": [
           "#636efa",
           "#EF553B",
           "#00cc96",
           "#ab63fa",
           "#FFA15A",
           "#19d3f3",
           "#FF6692",
           "#B6E880",
           "#FF97FF",
           "#FECB52"
          ],
          "font": {
           "color": "#2a3f5f"
          },
          "geo": {
           "bgcolor": "white",
           "lakecolor": "white",
           "landcolor": "#E5ECF6",
           "showlakes": true,
           "showland": true,
           "subunitcolor": "white"
          },
          "hoverlabel": {
           "align": "left"
          },
          "hovermode": "closest",
          "mapbox": {
           "style": "light"
          },
          "paper_bgcolor": "white",
          "plot_bgcolor": "#E5ECF6",
          "polar": {
           "angularaxis": {
            "gridcolor": "white",
            "linecolor": "white",
            "ticks": ""
           },
           "bgcolor": "#E5ECF6",
           "radialaxis": {
            "gridcolor": "white",
            "linecolor": "white",
            "ticks": ""
           }
          },
          "scene": {
           "xaxis": {
            "backgroundcolor": "#E5ECF6",
            "gridcolor": "white",
            "gridwidth": 2,
            "linecolor": "white",
            "showbackground": true,
            "ticks": "",
            "zerolinecolor": "white"
           },
           "yaxis": {
            "backgroundcolor": "#E5ECF6",
            "gridcolor": "white",
            "gridwidth": 2,
            "linecolor": "white",
            "showbackground": true,
            "ticks": "",
            "zerolinecolor": "white"
           },
           "zaxis": {
            "backgroundcolor": "#E5ECF6",
            "gridcolor": "white",
            "gridwidth": 2,
            "linecolor": "white",
            "showbackground": true,
            "ticks": "",
            "zerolinecolor": "white"
           }
          },
          "shapedefaults": {
           "line": {
            "color": "#2a3f5f"
           }
          },
          "ternary": {
           "aaxis": {
            "gridcolor": "white",
            "linecolor": "white",
            "ticks": ""
           },
           "baxis": {
            "gridcolor": "white",
            "linecolor": "white",
            "ticks": ""
           },
           "bgcolor": "#E5ECF6",
           "caxis": {
            "gridcolor": "white",
            "linecolor": "white",
            "ticks": ""
           }
          },
          "title": {
           "x": 0.05
          },
          "xaxis": {
           "automargin": true,
           "gridcolor": "white",
           "linecolor": "white",
           "ticks": "",
           "title": {
            "standoff": 15
           },
           "zerolinecolor": "white",
           "zerolinewidth": 2
          },
          "yaxis": {
           "automargin": true,
           "gridcolor": "white",
           "linecolor": "white",
           "ticks": "",
           "title": {
            "standoff": 15
           },
           "zerolinecolor": "white",
           "zerolinewidth": 2
          }
         }
        },
        "xaxis": {
         "anchor": "y",
         "domain": [
          0,
          1
         ],
         "title": {
          "text": "comment_count"
         }
        },
        "yaxis": {
         "anchor": "x",
         "domain": [
          0,
          1
         ],
         "title": {
          "text": "count"
         }
        }
       }
      }
     },
     "metadata": {},
     "output_type": "display_data"
    }
   ],
   "source": [
    "px.histogram(df, x = \"sentiment_polarity\").show()\n",
    "px.histogram(df, x = \"sentiment_subjectivity\").show()\n",
    "px.histogram(df, x=\"n_votes\").show()\n",
    "px.histogram(df, x= \"comment_count\").show()"
   ]
  },
  {
   "cell_type": "markdown",
   "metadata": {},
   "source": [
    "#### Interpretation:\n",
    " - We can clearly see that the overwhelming majority of comments is positive in sentiment,\n",
    " meaning that people don't usually comment when they have negative views about an idea.\n",
    " - The distribution of number of votes and comment count are very similar\n",
    " - Most posts get around 2 comments and 5 votes"
   ]
  },
  {
   "cell_type": "markdown",
   "metadata": {},
   "source": [
    "We normalize these newly added columns, so that they are on the same scale and can be unified at will"
   ]
  },
  {
   "cell_type": "code",
   "execution_count": 245,
   "metadata": {},
   "outputs": [],
   "source": [
    "df = utils.numbers.normalize_columns(\n",
    "    df,\n",
    "    [\"sentiment_polarity\", \"sentiment_subjectivity\", \"n_votes\", \"comment_count\"]\n",
    ")"
   ]
  },
  {
   "cell_type": "markdown",
   "metadata": {},
   "source": [
    "Some correlation analysis and plots about these variables"
   ]
  },
  {
   "cell_type": "code",
   "execution_count": 246,
   "metadata": {},
   "outputs": [
    {
     "name": "stdout",
     "output_type": "stream",
     "text": [
      "SpearmanrResult(correlation=0.5884248250641151, pvalue=1.5048173222790123e-10)\n"
     ]
    },
    {
     "data": {
      "application/vnd.plotly.v1+json": {
       "config": {
        "plotlyServerURL": "https://plot.ly"
       },
       "data": [
        {
         "hovertemplate": "sentiment_polarity=%{x}<br>sentiment_subjectivity=%{y}<extra></extra>",
         "legendgroup": "",
         "marker": {
          "color": "#636efa",
          "symbol": "circle"
         },
         "mode": "markers",
         "name": "",
         "orientation": "v",
         "showlegend": false,
         "type": "scatter",
         "x": [
          0.42831908600858654,
          0.23629539535112287,
          0.2426470588235294,
          0.6274082274955437,
          0.40521044065774453,
          0.7022058823529412,
          0.4125992063492063,
          0.15036878177196805,
          0.6251531862745099,
          0.37262174100409395,
          0.2432144448688566,
          0.2716780462184874,
          0.4233943577430973,
          0.49428104575163395,
          0.7144607843137255,
          0.23517507002801122,
          0.9885620915032679,
          -0.13143382352941177,
          0.5057257625272331,
          0.38948704481792723,
          0.5140603116246499,
          0.8852124183006536,
          0.23105392156862742,
          0.3506658496732026,
          0.3360483552395317,
          0.48250455630970335,
          0.4878984927304255,
          0.1524816176470588,
          0.15808823529411767,
          0.6582924836601308,
          0.4397404795251434,
          0.34039740896358545,
          0.49428104575163395,
          0.5082107843137255,
          0.9200367647058824,
          null,
          0.16231390704429924,
          null,
          0.37714148159263705,
          -0.020220588235294115,
          0.031454248366013085,
          0.2359500691302162,
          0.3151517293980529,
          0.5621323529411765,
          0.5840540382819795,
          null,
          0.22691993464052287,
          0.4828794480755265,
          0.28423202614379084,
          0.5244208099906629,
          0.44345238095238093,
          0.3503722426470588,
          0.8135416666666667,
          0.40441176470588236,
          0.3903722947512338,
          0.44485294117647056,
          0.3158263305322129,
          0.3283898420479303,
          0.34617647058823525,
          0.8209558823529413,
          0.2081670168067227,
          0.3971901260504202,
          0.7700674019607844,
          null,
          0.33019257703081234,
          null,
          null,
          0.3321151377217554,
          0.26960784313725494,
          0.11554621848739495,
          0.24264705882352947,
          0.3795244660364146,
          0.2875816993464052,
          0.8695509453781513,
          -0.013655462184873974,
          0.11879595588235295,
          0.4254084967320261,
          0,
          0.4518258619237168,
          0.5164274042950513,
          0.4877450980392157,
          0.2707312091503267,
          null,
          1,
          0.21114960407239822,
          null,
          0.46460916474432906,
          0.31219143907563024,
          0.41149966931216936,
          0.37263655462184875,
          0.6329044117647059,
          0.3063017186041083,
          0.17389077913774206,
          0.6066176470588236,
          0.8290441176470588,
          0.456474916355431,
          0.21200980392156865,
          null,
          0.06474777410964387,
          0.30522208883553414,
          0.2532996961385914,
          0.3390216503267974,
          0.49877450980392163,
          0.6470588235294118,
          0.5077369281045752,
          0.42747821350762527,
          0.3431985294117647,
          0.32926660247432304
         ],
         "xaxis": "x",
         "y": [
          0.5679730581691366,
          0.4240051696192047,
          0.39316239316239315,
          0.5305193123374943,
          0.5249239101090952,
          0.5299145299145299,
          0.568244307133196,
          0.5189300411522634,
          0.6559829059829061,
          0.479715725869572,
          0.614267550631187,
          0.5053520553520554,
          0.5619512762369905,
          0.5441595441595442,
          0.6267806267806268,
          0.41706494563637425,
          0.7749287749287749,
          0.34157509157509164,
          0.5591038591038591,
          0.502014652014652,
          0.6626984126984128,
          0.6096866096866097,
          0.4856410256410257,
          0.5319312785979452,
          0.5747842470919394,
          0.4342571009237676,
          0.5091226234083377,
          0.373970473970474,
          0.385936285936286,
          0.623931623931624,
          0.5240947148090006,
          0.4499691666358332,
          0.39886039886039887,
          0.3854700854700855,
          0.782051282051282,
          null,
          0.47052864830642616,
          null,
          0.43982935054363625,
          0.3817663817663818,
          0.4912494912494912,
          0.45723756300679375,
          0.47433656518738104,
          0.5448717948717949,
          0.5631461131461131,
          null,
          0.5421019309908198,
          0.5970194414638859,
          0.4071114071114071,
          0.6780361613694947,
          0.5388777888777888,
          0.3482621082621083,
          0.6324786324786326,
          0.7307692307692308,
          0.4290121988534687,
          0.7435897435897436,
          0.2986568986568987,
          0.4500411522633745,
          0.41128205128205125,
          0.8346153846153846,
          0.4177325760659094,
          0.494912494912495,
          0.5010683760683761,
          null,
          0.520927960927961,
          null,
          null,
          0.5013227513227513,
          0.2905982905982906,
          0.3418803418803419,
          0.6102564102564102,
          0.37546303411688026,
          0.47720797720797725,
          0.7580752580752581,
          0.6153698153698154,
          0.6634615384615384,
          0.5316498316498317,
          0,
          0.5515892211380933,
          0.4850088183421517,
          0.5023310023310024,
          0.5287274453941121,
          null,
          0.7655508072174739,
          0.2816403681788297,
          null,
          0.5381770190593721,
          0.4458333333333334,
          0.3932471849138516,
          0.5368335368335369,
          0.5362179487179487,
          0.6050549913049913,
          0.4388610182088443,
          0.5705128205128206,
          1,
          0.4641810350143683,
          0.3626373626373626,
          null,
          0.4222489811775526,
          0.4823113394541966,
          0.5481539436043052,
          0.5223549598549598,
          0.5085470085470086,
          0.8717948717948718,
          0.5807025073691741,
          0.5540360873694208,
          0.38964646464646463,
          0.5261752136752137
         ],
         "yaxis": "y"
        },
        {
         "hovertemplate": "<b>OLS trendline</b><br>sentiment_subjectivity = 0.39672 * sentiment_polarity + 0.358855<br>R<sup>2</sup>=0.415044<br><br>sentiment_polarity=%{x}<br>sentiment_subjectivity=%{y} <b>(trend)</b><extra></extra>",
         "legendgroup": "",
         "marker": {
          "color": "#636efa",
          "symbol": "circle"
         },
         "mode": "lines",
         "name": "",
         "showlegend": false,
         "type": "scatter",
         "x": [
          -0.13143382352941177,
          -0.020220588235294115,
          -0.013655462184873974,
          0,
          0.031454248366013085,
          0.06474777410964387,
          0.11554621848739495,
          0.11879595588235295,
          0.15036878177196805,
          0.1524816176470588,
          0.15808823529411767,
          0.16231390704429924,
          0.17389077913774206,
          0.2081670168067227,
          0.21114960407239822,
          0.21200980392156865,
          0.22691993464052287,
          0.23105392156862742,
          0.23517507002801122,
          0.2359500691302162,
          0.23629539535112287,
          0.2426470588235294,
          0.24264705882352947,
          0.2432144448688566,
          0.2532996961385914,
          0.26960784313725494,
          0.2707312091503267,
          0.2716780462184874,
          0.28423202614379084,
          0.2875816993464052,
          0.30522208883553414,
          0.3063017186041083,
          0.31219143907563024,
          0.3151517293980529,
          0.3158263305322129,
          0.3283898420479303,
          0.32926660247432304,
          0.33019257703081234,
          0.3321151377217554,
          0.3360483552395317,
          0.3390216503267974,
          0.34039740896358545,
          0.3431985294117647,
          0.34617647058823525,
          0.3503722426470588,
          0.3506658496732026,
          0.37262174100409395,
          0.37263655462184875,
          0.37714148159263705,
          0.3795244660364146,
          0.38948704481792723,
          0.3903722947512338,
          0.3971901260504202,
          0.40441176470588236,
          0.40521044065774453,
          0.41149966931216936,
          0.4125992063492063,
          0.4233943577430973,
          0.4254084967320261,
          0.42747821350762527,
          0.42831908600858654,
          0.4397404795251434,
          0.44345238095238093,
          0.44485294117647056,
          0.4518258619237168,
          0.456474916355431,
          0.46460916474432906,
          0.48250455630970335,
          0.4828794480755265,
          0.4877450980392157,
          0.4878984927304255,
          0.49428104575163395,
          0.49428104575163395,
          0.49877450980392163,
          0.5057257625272331,
          0.5077369281045752,
          0.5082107843137255,
          0.5140603116246499,
          0.5164274042950513,
          0.5244208099906629,
          0.5621323529411765,
          0.5840540382819795,
          0.6066176470588236,
          0.6251531862745099,
          0.6274082274955437,
          0.6329044117647059,
          0.6470588235294118,
          0.6582924836601308,
          0.7022058823529412,
          0.7144607843137255,
          0.7700674019607844,
          0.8135416666666667,
          0.8209558823529413,
          0.8290441176470588,
          0.8695509453781513,
          0.8852124183006536,
          0.9200367647058824,
          0.9885620915032679,
          1
         ],
         "xaxis": "x",
         "y": [
          0.30671258037490884,
          0.35083306135132286,
          0.3534375761669317,
          0.35885496698339814,
          0.37133348685551526,
          0.3845416842910529,
          0.404694427738114,
          0.4059836625718404,
          0.4185092244831579,
          0.41934742809072945,
          0.4215716837432594,
          0.42324809095840243,
          0.4278408641442045,
          0.44143892275672375,
          0.4426221738721842,
          0.44296343209546013,
          0.4488785746322429,
          0.4505186086725783,
          0.4521535494394965,
          0.4524610068482765,
          0.45259800456190186,
          0.45511783456830146,
          0.45511783456830146,
          0.45534292778812313,
          0.4593439456131322,
          0.46581370874440187,
          0.46625937016840596,
          0.46663499908292383,
          0.4716154101914381,
          0.47294429152846873,
          0.4799425814965047,
          0.48037089189085636,
          0.48270746001004605,
          0.48388186548894163,
          0.4841494930462882,
          0.4891336855244607,
          0.48948151365490966,
          0.48984886600012456,
          0.4906115836943488,
          0.4921719685551094,
          0.4933515332803693,
          0.4938973238295069,
          0.4950085834841667,
          0.49618999140452685,
          0.4978545368231825,
          0.49797101651354725,
          0.5066813510634138,
          0.5066872279173569,
          0.5084744211789246,
          0.5094197980447331,
          0.5133721492774196,
          0.5137233453624767,
          0.516428113327734,
          0.5192930796249037,
          0.5196099301062989,
          0.5221049909906443,
          0.522541198990503,
          0.5268238481774642,
          0.5276228967862909,
          0.5284439941977895,
          0.5287775848813456,
          0.5333086766532801,
          0.5347812610617243,
          0.5353368908890542,
          0.5381031858931093,
          0.5399475573572637,
          0.5431745739110999,
          0.5502740282254853,
          0.5504227551731231,
          0.5523530543510321,
          0.5524139090464063,
          0.5549459935452382,
          0.5549459935452382,
          0.5567286392412549,
          0.5594863381134263,
          0.5602842071113101,
          0.56047219520289,
          0.5627928179035976,
          0.5637318901898921,
          0.5669030316731634,
          0.5818639435550909,
          0.590560707914944,
          0.5995121359456564,
          0.6068655494417254,
          0.6077601687110106,
          0.6099406132673544,
          0.615555947209807,
          0.6200125614498488,
          0.6374338716609214,
          0.642295632650058,
          0.6643558731382649,
          0.6816029702472268,
          0.6845443356456544,
          0.6877530978984845,
          0.7038229543107911,
          0.7100361690986936,
          0.7238516732428233,
          0.7510370201070783,
          0.7555746636969392
         ],
         "yaxis": "y"
        }
       ],
       "layout": {
        "legend": {
         "tracegroupgap": 0
        },
        "margin": {
         "t": 60
        },
        "template": {
         "data": {
          "bar": [
           {
            "error_x": {
             "color": "#2a3f5f"
            },
            "error_y": {
             "color": "#2a3f5f"
            },
            "marker": {
             "line": {
              "color": "#E5ECF6",
              "width": 0.5
             },
             "pattern": {
              "fillmode": "overlay",
              "size": 10,
              "solidity": 0.2
             }
            },
            "type": "bar"
           }
          ],
          "barpolar": [
           {
            "marker": {
             "line": {
              "color": "#E5ECF6",
              "width": 0.5
             },
             "pattern": {
              "fillmode": "overlay",
              "size": 10,
              "solidity": 0.2
             }
            },
            "type": "barpolar"
           }
          ],
          "carpet": [
           {
            "aaxis": {
             "endlinecolor": "#2a3f5f",
             "gridcolor": "white",
             "linecolor": "white",
             "minorgridcolor": "white",
             "startlinecolor": "#2a3f5f"
            },
            "baxis": {
             "endlinecolor": "#2a3f5f",
             "gridcolor": "white",
             "linecolor": "white",
             "minorgridcolor": "white",
             "startlinecolor": "#2a3f5f"
            },
            "type": "carpet"
           }
          ],
          "choropleth": [
           {
            "colorbar": {
             "outlinewidth": 0,
             "ticks": ""
            },
            "type": "choropleth"
           }
          ],
          "contour": [
           {
            "colorbar": {
             "outlinewidth": 0,
             "ticks": ""
            },
            "colorscale": [
             [
              0,
              "#0d0887"
             ],
             [
              0.1111111111111111,
              "#46039f"
             ],
             [
              0.2222222222222222,
              "#7201a8"
             ],
             [
              0.3333333333333333,
              "#9c179e"
             ],
             [
              0.4444444444444444,
              "#bd3786"
             ],
             [
              0.5555555555555556,
              "#d8576b"
             ],
             [
              0.6666666666666666,
              "#ed7953"
             ],
             [
              0.7777777777777778,
              "#fb9f3a"
             ],
             [
              0.8888888888888888,
              "#fdca26"
             ],
             [
              1,
              "#f0f921"
             ]
            ],
            "type": "contour"
           }
          ],
          "contourcarpet": [
           {
            "colorbar": {
             "outlinewidth": 0,
             "ticks": ""
            },
            "type": "contourcarpet"
           }
          ],
          "heatmap": [
           {
            "colorbar": {
             "outlinewidth": 0,
             "ticks": ""
            },
            "colorscale": [
             [
              0,
              "#0d0887"
             ],
             [
              0.1111111111111111,
              "#46039f"
             ],
             [
              0.2222222222222222,
              "#7201a8"
             ],
             [
              0.3333333333333333,
              "#9c179e"
             ],
             [
              0.4444444444444444,
              "#bd3786"
             ],
             [
              0.5555555555555556,
              "#d8576b"
             ],
             [
              0.6666666666666666,
              "#ed7953"
             ],
             [
              0.7777777777777778,
              "#fb9f3a"
             ],
             [
              0.8888888888888888,
              "#fdca26"
             ],
             [
              1,
              "#f0f921"
             ]
            ],
            "type": "heatmap"
           }
          ],
          "heatmapgl": [
           {
            "colorbar": {
             "outlinewidth": 0,
             "ticks": ""
            },
            "colorscale": [
             [
              0,
              "#0d0887"
             ],
             [
              0.1111111111111111,
              "#46039f"
             ],
             [
              0.2222222222222222,
              "#7201a8"
             ],
             [
              0.3333333333333333,
              "#9c179e"
             ],
             [
              0.4444444444444444,
              "#bd3786"
             ],
             [
              0.5555555555555556,
              "#d8576b"
             ],
             [
              0.6666666666666666,
              "#ed7953"
             ],
             [
              0.7777777777777778,
              "#fb9f3a"
             ],
             [
              0.8888888888888888,
              "#fdca26"
             ],
             [
              1,
              "#f0f921"
             ]
            ],
            "type": "heatmapgl"
           }
          ],
          "histogram": [
           {
            "marker": {
             "pattern": {
              "fillmode": "overlay",
              "size": 10,
              "solidity": 0.2
             }
            },
            "type": "histogram"
           }
          ],
          "histogram2d": [
           {
            "colorbar": {
             "outlinewidth": 0,
             "ticks": ""
            },
            "colorscale": [
             [
              0,
              "#0d0887"
             ],
             [
              0.1111111111111111,
              "#46039f"
             ],
             [
              0.2222222222222222,
              "#7201a8"
             ],
             [
              0.3333333333333333,
              "#9c179e"
             ],
             [
              0.4444444444444444,
              "#bd3786"
             ],
             [
              0.5555555555555556,
              "#d8576b"
             ],
             [
              0.6666666666666666,
              "#ed7953"
             ],
             [
              0.7777777777777778,
              "#fb9f3a"
             ],
             [
              0.8888888888888888,
              "#fdca26"
             ],
             [
              1,
              "#f0f921"
             ]
            ],
            "type": "histogram2d"
           }
          ],
          "histogram2dcontour": [
           {
            "colorbar": {
             "outlinewidth": 0,
             "ticks": ""
            },
            "colorscale": [
             [
              0,
              "#0d0887"
             ],
             [
              0.1111111111111111,
              "#46039f"
             ],
             [
              0.2222222222222222,
              "#7201a8"
             ],
             [
              0.3333333333333333,
              "#9c179e"
             ],
             [
              0.4444444444444444,
              "#bd3786"
             ],
             [
              0.5555555555555556,
              "#d8576b"
             ],
             [
              0.6666666666666666,
              "#ed7953"
             ],
             [
              0.7777777777777778,
              "#fb9f3a"
             ],
             [
              0.8888888888888888,
              "#fdca26"
             ],
             [
              1,
              "#f0f921"
             ]
            ],
            "type": "histogram2dcontour"
           }
          ],
          "mesh3d": [
           {
            "colorbar": {
             "outlinewidth": 0,
             "ticks": ""
            },
            "type": "mesh3d"
           }
          ],
          "parcoords": [
           {
            "line": {
             "colorbar": {
              "outlinewidth": 0,
              "ticks": ""
             }
            },
            "type": "parcoords"
           }
          ],
          "pie": [
           {
            "automargin": true,
            "type": "pie"
           }
          ],
          "scatter": [
           {
            "fillpattern": {
             "fillmode": "overlay",
             "size": 10,
             "solidity": 0.2
            },
            "type": "scatter"
           }
          ],
          "scatter3d": [
           {
            "line": {
             "colorbar": {
              "outlinewidth": 0,
              "ticks": ""
             }
            },
            "marker": {
             "colorbar": {
              "outlinewidth": 0,
              "ticks": ""
             }
            },
            "type": "scatter3d"
           }
          ],
          "scattercarpet": [
           {
            "marker": {
             "colorbar": {
              "outlinewidth": 0,
              "ticks": ""
             }
            },
            "type": "scattercarpet"
           }
          ],
          "scattergeo": [
           {
            "marker": {
             "colorbar": {
              "outlinewidth": 0,
              "ticks": ""
             }
            },
            "type": "scattergeo"
           }
          ],
          "scattergl": [
           {
            "marker": {
             "colorbar": {
              "outlinewidth": 0,
              "ticks": ""
             }
            },
            "type": "scattergl"
           }
          ],
          "scattermapbox": [
           {
            "marker": {
             "colorbar": {
              "outlinewidth": 0,
              "ticks": ""
             }
            },
            "type": "scattermapbox"
           }
          ],
          "scatterpolar": [
           {
            "marker": {
             "colorbar": {
              "outlinewidth": 0,
              "ticks": ""
             }
            },
            "type": "scatterpolar"
           }
          ],
          "scatterpolargl": [
           {
            "marker": {
             "colorbar": {
              "outlinewidth": 0,
              "ticks": ""
             }
            },
            "type": "scatterpolargl"
           }
          ],
          "scatterternary": [
           {
            "marker": {
             "colorbar": {
              "outlinewidth": 0,
              "ticks": ""
             }
            },
            "type": "scatterternary"
           }
          ],
          "surface": [
           {
            "colorbar": {
             "outlinewidth": 0,
             "ticks": ""
            },
            "colorscale": [
             [
              0,
              "#0d0887"
             ],
             [
              0.1111111111111111,
              "#46039f"
             ],
             [
              0.2222222222222222,
              "#7201a8"
             ],
             [
              0.3333333333333333,
              "#9c179e"
             ],
             [
              0.4444444444444444,
              "#bd3786"
             ],
             [
              0.5555555555555556,
              "#d8576b"
             ],
             [
              0.6666666666666666,
              "#ed7953"
             ],
             [
              0.7777777777777778,
              "#fb9f3a"
             ],
             [
              0.8888888888888888,
              "#fdca26"
             ],
             [
              1,
              "#f0f921"
             ]
            ],
            "type": "surface"
           }
          ],
          "table": [
           {
            "cells": {
             "fill": {
              "color": "#EBF0F8"
             },
             "line": {
              "color": "white"
             }
            },
            "header": {
             "fill": {
              "color": "#C8D4E3"
             },
             "line": {
              "color": "white"
             }
            },
            "type": "table"
           }
          ]
         },
         "layout": {
          "annotationdefaults": {
           "arrowcolor": "#2a3f5f",
           "arrowhead": 0,
           "arrowwidth": 1
          },
          "autotypenumbers": "strict",
          "coloraxis": {
           "colorbar": {
            "outlinewidth": 0,
            "ticks": ""
           }
          },
          "colorscale": {
           "diverging": [
            [
             0,
             "#8e0152"
            ],
            [
             0.1,
             "#c51b7d"
            ],
            [
             0.2,
             "#de77ae"
            ],
            [
             0.3,
             "#f1b6da"
            ],
            [
             0.4,
             "#fde0ef"
            ],
            [
             0.5,
             "#f7f7f7"
            ],
            [
             0.6,
             "#e6f5d0"
            ],
            [
             0.7,
             "#b8e186"
            ],
            [
             0.8,
             "#7fbc41"
            ],
            [
             0.9,
             "#4d9221"
            ],
            [
             1,
             "#276419"
            ]
           ],
           "sequential": [
            [
             0,
             "#0d0887"
            ],
            [
             0.1111111111111111,
             "#46039f"
            ],
            [
             0.2222222222222222,
             "#7201a8"
            ],
            [
             0.3333333333333333,
             "#9c179e"
            ],
            [
             0.4444444444444444,
             "#bd3786"
            ],
            [
             0.5555555555555556,
             "#d8576b"
            ],
            [
             0.6666666666666666,
             "#ed7953"
            ],
            [
             0.7777777777777778,
             "#fb9f3a"
            ],
            [
             0.8888888888888888,
             "#fdca26"
            ],
            [
             1,
             "#f0f921"
            ]
           ],
           "sequentialminus": [
            [
             0,
             "#0d0887"
            ],
            [
             0.1111111111111111,
             "#46039f"
            ],
            [
             0.2222222222222222,
             "#7201a8"
            ],
            [
             0.3333333333333333,
             "#9c179e"
            ],
            [
             0.4444444444444444,
             "#bd3786"
            ],
            [
             0.5555555555555556,
             "#d8576b"
            ],
            [
             0.6666666666666666,
             "#ed7953"
            ],
            [
             0.7777777777777778,
             "#fb9f3a"
            ],
            [
             0.8888888888888888,
             "#fdca26"
            ],
            [
             1,
             "#f0f921"
            ]
           ]
          },
          "colorway": [
           "#636efa",
           "#EF553B",
           "#00cc96",
           "#ab63fa",
           "#FFA15A",
           "#19d3f3",
           "#FF6692",
           "#B6E880",
           "#FF97FF",
           "#FECB52"
          ],
          "font": {
           "color": "#2a3f5f"
          },
          "geo": {
           "bgcolor": "white",
           "lakecolor": "white",
           "landcolor": "#E5ECF6",
           "showlakes": true,
           "showland": true,
           "subunitcolor": "white"
          },
          "hoverlabel": {
           "align": "left"
          },
          "hovermode": "closest",
          "mapbox": {
           "style": "light"
          },
          "paper_bgcolor": "white",
          "plot_bgcolor": "#E5ECF6",
          "polar": {
           "angularaxis": {
            "gridcolor": "white",
            "linecolor": "white",
            "ticks": ""
           },
           "bgcolor": "#E5ECF6",
           "radialaxis": {
            "gridcolor": "white",
            "linecolor": "white",
            "ticks": ""
           }
          },
          "scene": {
           "xaxis": {
            "backgroundcolor": "#E5ECF6",
            "gridcolor": "white",
            "gridwidth": 2,
            "linecolor": "white",
            "showbackground": true,
            "ticks": "",
            "zerolinecolor": "white"
           },
           "yaxis": {
            "backgroundcolor": "#E5ECF6",
            "gridcolor": "white",
            "gridwidth": 2,
            "linecolor": "white",
            "showbackground": true,
            "ticks": "",
            "zerolinecolor": "white"
           },
           "zaxis": {
            "backgroundcolor": "#E5ECF6",
            "gridcolor": "white",
            "gridwidth": 2,
            "linecolor": "white",
            "showbackground": true,
            "ticks": "",
            "zerolinecolor": "white"
           }
          },
          "shapedefaults": {
           "line": {
            "color": "#2a3f5f"
           }
          },
          "ternary": {
           "aaxis": {
            "gridcolor": "white",
            "linecolor": "white",
            "ticks": ""
           },
           "baxis": {
            "gridcolor": "white",
            "linecolor": "white",
            "ticks": ""
           },
           "bgcolor": "#E5ECF6",
           "caxis": {
            "gridcolor": "white",
            "linecolor": "white",
            "ticks": ""
           }
          },
          "title": {
           "x": 0.05
          },
          "xaxis": {
           "automargin": true,
           "gridcolor": "white",
           "linecolor": "white",
           "ticks": "",
           "title": {
            "standoff": 15
           },
           "zerolinecolor": "white",
           "zerolinewidth": 2
          },
          "yaxis": {
           "automargin": true,
           "gridcolor": "white",
           "linecolor": "white",
           "ticks": "",
           "title": {
            "standoff": 15
           },
           "zerolinecolor": "white",
           "zerolinewidth": 2
          }
         }
        },
        "xaxis": {
         "anchor": "y",
         "domain": [
          0,
          1
         ],
         "title": {
          "text": "sentiment_polarity"
         }
        },
        "yaxis": {
         "anchor": "x",
         "domain": [
          0,
          1
         ],
         "title": {
          "text": "sentiment_subjectivity"
         }
        }
       }
      }
     },
     "metadata": {},
     "output_type": "display_data"
    },
    {
     "name": "stdout",
     "output_type": "stream",
     "text": [
      "SpearmanrResult(correlation=0.690806167784053, pvalue=1.3056054302164864e-16)\n"
     ]
    },
    {
     "data": {
      "application/vnd.plotly.v1+json": {
       "config": {
        "plotlyServerURL": "https://plot.ly"
       },
       "data": [
        {
         "hovertemplate": "n_votes=%{x}<br>comment_count=%{y}<extra></extra>",
         "legendgroup": "",
         "marker": {
          "color": "#636efa",
          "symbol": "circle"
         },
         "mode": "markers",
         "name": "",
         "orientation": "v",
         "showlegend": false,
         "type": "scatter",
         "x": [
          0.8620689655172413,
          0.2413793103448276,
          0.06896551724137931,
          0.5172413793103449,
          0.6551724137931034,
          0.20689655172413793,
          0.27586206896551724,
          0.4827586206896552,
          0.3448275862068966,
          0.8620689655172413,
          0.5172413793103449,
          0.2413793103448276,
          0.10344827586206896,
          0,
          0.3103448275862069,
          0.20689655172413793,
          0.2413793103448276,
          0.13793103448275862,
          0.5172413793103449,
          0.3103448275862069,
          0.13793103448275862,
          0.6896551724137931,
          0.1724137931034483,
          1,
          0.3103448275862069,
          0.4482758620689655,
          0.4482758620689655,
          0.2413793103448276,
          0.3448275862068966,
          0.2413793103448276,
          0.3793103448275862,
          0.2413793103448276,
          0.1724137931034483,
          0.1724137931034483,
          0.20689655172413793,
          0,
          0.4482758620689655,
          0.13793103448275862,
          0.3448275862068966,
          0.13793103448275862,
          0.13793103448275862,
          0.1724137931034483,
          0.1724137931034483,
          0.10344827586206896,
          0.41379310344827586,
          0.034482758620689655,
          0.3448275862068966,
          0.3793103448275862,
          0.3448275862068966,
          0.3103448275862069,
          0.1724137931034483,
          0.1724137931034483,
          0.13793103448275862,
          0.13793103448275862,
          0.41379310344827586,
          0.1724137931034483,
          0.06896551724137931,
          0.10344827586206896,
          0.20689655172413793,
          0.3793103448275862,
          0.3103448275862069,
          0.3793103448275862,
          0.41379310344827586,
          0.1724137931034483,
          0.13793103448275862,
          0.13793103448275862,
          0.034482758620689655,
          0.3448275862068966,
          0.06896551724137931,
          0.10344827586206896,
          0.13793103448275862,
          0.9655172413793104,
          0.3103448275862069,
          0.2413793103448276,
          0.10344827586206896,
          0.3103448275862069,
          0.13793103448275862,
          0.06896551724137931,
          0.3103448275862069,
          0.2413793103448276,
          0.1724137931034483,
          0.3793103448275862,
          0.13793103448275862,
          0.3103448275862069,
          0.13793103448275862,
          0.034482758620689655,
          0.41379310344827586,
          0.27586206896551724,
          0.2413793103448276,
          0.2413793103448276,
          0.3103448275862069,
          0.2413793103448276,
          0.3448275862068966,
          0.13793103448275862,
          0.06896551724137931,
          0.5172413793103449,
          0.034482758620689655,
          0.06896551724137931,
          0.3448275862068966,
          0.1724137931034483,
          0.7241379310344828,
          0.13793103448275862,
          0.13793103448275862,
          0.13793103448275862,
          0.6896551724137931,
          0.20689655172413793,
          0.20689655172413793,
          0
         ],
         "xaxis": "x",
         "y": [
          1,
          0.4117647058823529,
          0.11764705882352941,
          0.5882352941176471,
          0.5294117647058824,
          0.058823529411764705,
          0.35294117647058826,
          0.5294117647058824,
          0.23529411764705882,
          0.7647058823529411,
          0.6470588235294118,
          0.23529411764705882,
          0.058823529411764705,
          0.17647058823529413,
          0.17647058823529413,
          0.4117647058823529,
          0.17647058823529413,
          0.058823529411764705,
          0.7058823529411765,
          0.11764705882352941,
          0.23529411764705882,
          0.17647058823529413,
          0.29411764705882354,
          0.5882352941176471,
          0.29411764705882354,
          0.35294117647058826,
          0.35294117647058826,
          0.11764705882352941,
          0.29411764705882354,
          0.17647058823529413,
          0.5882352941176471,
          0.35294117647058826,
          0.11764705882352941,
          0.11764705882352941,
          0.11764705882352941,
          0,
          0.35294117647058826,
          0,
          0.4117647058823529,
          0.058823529411764705,
          0.17647058823529413,
          0.23529411764705882,
          0.35294117647058826,
          0.11764705882352941,
          0.35294117647058826,
          0,
          0.17647058823529413,
          0.5294117647058824,
          0.17647058823529413,
          0.35294117647058826,
          0.11764705882352941,
          0.23529411764705882,
          0.17647058823529413,
          0.058823529411764705,
          0.8235294117647058,
          0.17647058823529413,
          0.17647058823529413,
          0.29411764705882354,
          0.29411764705882354,
          0.23529411764705882,
          0.23529411764705882,
          0.23529411764705882,
          0.11764705882352941,
          0,
          0.29411764705882354,
          0,
          0,
          0.17647058823529413,
          0.058823529411764705,
          0.058823529411764705,
          0.11764705882352941,
          0.47058823529411764,
          0.11764705882352941,
          0.11764705882352941,
          0.4117647058823529,
          0.23529411764705882,
          0.17647058823529413,
          0.058823529411764705,
          0.4117647058823529,
          0.35294117647058826,
          0.11764705882352941,
          0.17647058823529413,
          0,
          0.11764705882352941,
          0.23529411764705882,
          0,
          0.35294117647058826,
          0.35294117647058826,
          0.23529411764705882,
          0.17647058823529413,
          0.47058823529411764,
          0.47058823529411764,
          0.23529411764705882,
          0.058823529411764705,
          0.058823529411764705,
          0.35294117647058826,
          0.11764705882352941,
          0,
          0.23529411764705882,
          0.058823529411764705,
          0.7647058823529411,
          0.17647058823529413,
          0.11764705882352941,
          0.11764705882352941,
          0.8823529411764706,
          0.058823529411764705,
          0.23529411764705882,
          0.23529411764705882
         ],
         "yaxis": "y"
        },
        {
         "hovertemplate": "<b>OLS trendline</b><br>comment_count = 0.764016 * n_votes + 0.0455458<br>R<sup>2</sup>=0.545592<br><br>n_votes=%{x}<br>comment_count=%{y} <b>(trend)</b><extra></extra>",
         "legendgroup": "",
         "marker": {
          "color": "#636efa",
          "symbol": "circle"
         },
         "mode": "lines",
         "name": "",
         "showlegend": false,
         "type": "scatter",
         "x": [
          0,
          0,
          0,
          0.034482758620689655,
          0.034482758620689655,
          0.034482758620689655,
          0.034482758620689655,
          0.06896551724137931,
          0.06896551724137931,
          0.06896551724137931,
          0.06896551724137931,
          0.06896551724137931,
          0.06896551724137931,
          0.10344827586206896,
          0.10344827586206896,
          0.10344827586206896,
          0.10344827586206896,
          0.10344827586206896,
          0.13793103448275862,
          0.13793103448275862,
          0.13793103448275862,
          0.13793103448275862,
          0.13793103448275862,
          0.13793103448275862,
          0.13793103448275862,
          0.13793103448275862,
          0.13793103448275862,
          0.13793103448275862,
          0.13793103448275862,
          0.13793103448275862,
          0.13793103448275862,
          0.13793103448275862,
          0.13793103448275862,
          0.13793103448275862,
          0.13793103448275862,
          0.1724137931034483,
          0.1724137931034483,
          0.1724137931034483,
          0.1724137931034483,
          0.1724137931034483,
          0.1724137931034483,
          0.1724137931034483,
          0.1724137931034483,
          0.1724137931034483,
          0.1724137931034483,
          0.1724137931034483,
          0.20689655172413793,
          0.20689655172413793,
          0.20689655172413793,
          0.20689655172413793,
          0.20689655172413793,
          0.20689655172413793,
          0.2413793103448276,
          0.2413793103448276,
          0.2413793103448276,
          0.2413793103448276,
          0.2413793103448276,
          0.2413793103448276,
          0.2413793103448276,
          0.2413793103448276,
          0.2413793103448276,
          0.2413793103448276,
          0.2413793103448276,
          0.27586206896551724,
          0.27586206896551724,
          0.3103448275862069,
          0.3103448275862069,
          0.3103448275862069,
          0.3103448275862069,
          0.3103448275862069,
          0.3103448275862069,
          0.3103448275862069,
          0.3103448275862069,
          0.3103448275862069,
          0.3103448275862069,
          0.3448275862068966,
          0.3448275862068966,
          0.3448275862068966,
          0.3448275862068966,
          0.3448275862068966,
          0.3448275862068966,
          0.3448275862068966,
          0.3448275862068966,
          0.3793103448275862,
          0.3793103448275862,
          0.3793103448275862,
          0.3793103448275862,
          0.3793103448275862,
          0.41379310344827586,
          0.41379310344827586,
          0.41379310344827586,
          0.41379310344827586,
          0.4482758620689655,
          0.4482758620689655,
          0.4482758620689655,
          0.4827586206896552,
          0.5172413793103449,
          0.5172413793103449,
          0.5172413793103449,
          0.5172413793103449,
          0.6551724137931034,
          0.6896551724137931,
          0.6896551724137931,
          0.7241379310344828,
          0.8620689655172413,
          0.8620689655172413,
          0.9655172413793104,
          1
         ],
         "xaxis": "x",
         "y": [
          0.04554583869992676,
          0.04554583869992676,
          0.04554583869992676,
          0.0718912097930366,
          0.0718912097930366,
          0.0718912097930366,
          0.0718912097930366,
          0.09823658088614645,
          0.09823658088614645,
          0.09823658088614645,
          0.09823658088614645,
          0.09823658088614645,
          0.09823658088614645,
          0.1245819519792563,
          0.1245819519792563,
          0.1245819519792563,
          0.1245819519792563,
          0.1245819519792563,
          0.15092732307236612,
          0.15092732307236612,
          0.15092732307236612,
          0.15092732307236612,
          0.15092732307236612,
          0.15092732307236612,
          0.15092732307236612,
          0.15092732307236612,
          0.15092732307236612,
          0.15092732307236612,
          0.15092732307236612,
          0.15092732307236612,
          0.15092732307236612,
          0.15092732307236612,
          0.15092732307236612,
          0.15092732307236612,
          0.15092732307236612,
          0.177272694165476,
          0.177272694165476,
          0.177272694165476,
          0.177272694165476,
          0.177272694165476,
          0.177272694165476,
          0.177272694165476,
          0.177272694165476,
          0.177272694165476,
          0.177272694165476,
          0.177272694165476,
          0.20361806525858583,
          0.20361806525858583,
          0.20361806525858583,
          0.20361806525858583,
          0.20361806525858583,
          0.20361806525858583,
          0.22996343635169567,
          0.22996343635169567,
          0.22996343635169567,
          0.22996343635169567,
          0.22996343635169567,
          0.22996343635169567,
          0.22996343635169567,
          0.22996343635169567,
          0.22996343635169567,
          0.22996343635169567,
          0.22996343635169567,
          0.2563088074448055,
          0.2563088074448055,
          0.28265417853791536,
          0.28265417853791536,
          0.28265417853791536,
          0.28265417853791536,
          0.28265417853791536,
          0.28265417853791536,
          0.28265417853791536,
          0.28265417853791536,
          0.28265417853791536,
          0.28265417853791536,
          0.30899954963102527,
          0.30899954963102527,
          0.30899954963102527,
          0.30899954963102527,
          0.30899954963102527,
          0.30899954963102527,
          0.30899954963102527,
          0.30899954963102527,
          0.335344920724135,
          0.335344920724135,
          0.335344920724135,
          0.335344920724135,
          0.335344920724135,
          0.3616902918172449,
          0.3616902918172449,
          0.3616902918172449,
          0.3616902918172449,
          0.38803566291035474,
          0.38803566291035474,
          0.38803566291035474,
          0.4143810340034646,
          0.44072640509657446,
          0.44072640509657446,
          0.44072640509657446,
          0.44072640509657446,
          0.5461078894690138,
          0.5724532605621238,
          0.5724532605621238,
          0.5987986316552335,
          0.7041801160276728,
          0.7041801160276728,
          0.7832162293070024,
          0.8095616004001123
         ],
         "yaxis": "y"
        }
       ],
       "layout": {
        "legend": {
         "tracegroupgap": 0
        },
        "margin": {
         "t": 60
        },
        "template": {
         "data": {
          "bar": [
           {
            "error_x": {
             "color": "#2a3f5f"
            },
            "error_y": {
             "color": "#2a3f5f"
            },
            "marker": {
             "line": {
              "color": "#E5ECF6",
              "width": 0.5
             },
             "pattern": {
              "fillmode": "overlay",
              "size": 10,
              "solidity": 0.2
             }
            },
            "type": "bar"
           }
          ],
          "barpolar": [
           {
            "marker": {
             "line": {
              "color": "#E5ECF6",
              "width": 0.5
             },
             "pattern": {
              "fillmode": "overlay",
              "size": 10,
              "solidity": 0.2
             }
            },
            "type": "barpolar"
           }
          ],
          "carpet": [
           {
            "aaxis": {
             "endlinecolor": "#2a3f5f",
             "gridcolor": "white",
             "linecolor": "white",
             "minorgridcolor": "white",
             "startlinecolor": "#2a3f5f"
            },
            "baxis": {
             "endlinecolor": "#2a3f5f",
             "gridcolor": "white",
             "linecolor": "white",
             "minorgridcolor": "white",
             "startlinecolor": "#2a3f5f"
            },
            "type": "carpet"
           }
          ],
          "choropleth": [
           {
            "colorbar": {
             "outlinewidth": 0,
             "ticks": ""
            },
            "type": "choropleth"
           }
          ],
          "contour": [
           {
            "colorbar": {
             "outlinewidth": 0,
             "ticks": ""
            },
            "colorscale": [
             [
              0,
              "#0d0887"
             ],
             [
              0.1111111111111111,
              "#46039f"
             ],
             [
              0.2222222222222222,
              "#7201a8"
             ],
             [
              0.3333333333333333,
              "#9c179e"
             ],
             [
              0.4444444444444444,
              "#bd3786"
             ],
             [
              0.5555555555555556,
              "#d8576b"
             ],
             [
              0.6666666666666666,
              "#ed7953"
             ],
             [
              0.7777777777777778,
              "#fb9f3a"
             ],
             [
              0.8888888888888888,
              "#fdca26"
             ],
             [
              1,
              "#f0f921"
             ]
            ],
            "type": "contour"
           }
          ],
          "contourcarpet": [
           {
            "colorbar": {
             "outlinewidth": 0,
             "ticks": ""
            },
            "type": "contourcarpet"
           }
          ],
          "heatmap": [
           {
            "colorbar": {
             "outlinewidth": 0,
             "ticks": ""
            },
            "colorscale": [
             [
              0,
              "#0d0887"
             ],
             [
              0.1111111111111111,
              "#46039f"
             ],
             [
              0.2222222222222222,
              "#7201a8"
             ],
             [
              0.3333333333333333,
              "#9c179e"
             ],
             [
              0.4444444444444444,
              "#bd3786"
             ],
             [
              0.5555555555555556,
              "#d8576b"
             ],
             [
              0.6666666666666666,
              "#ed7953"
             ],
             [
              0.7777777777777778,
              "#fb9f3a"
             ],
             [
              0.8888888888888888,
              "#fdca26"
             ],
             [
              1,
              "#f0f921"
             ]
            ],
            "type": "heatmap"
           }
          ],
          "heatmapgl": [
           {
            "colorbar": {
             "outlinewidth": 0,
             "ticks": ""
            },
            "colorscale": [
             [
              0,
              "#0d0887"
             ],
             [
              0.1111111111111111,
              "#46039f"
             ],
             [
              0.2222222222222222,
              "#7201a8"
             ],
             [
              0.3333333333333333,
              "#9c179e"
             ],
             [
              0.4444444444444444,
              "#bd3786"
             ],
             [
              0.5555555555555556,
              "#d8576b"
             ],
             [
              0.6666666666666666,
              "#ed7953"
             ],
             [
              0.7777777777777778,
              "#fb9f3a"
             ],
             [
              0.8888888888888888,
              "#fdca26"
             ],
             [
              1,
              "#f0f921"
             ]
            ],
            "type": "heatmapgl"
           }
          ],
          "histogram": [
           {
            "marker": {
             "pattern": {
              "fillmode": "overlay",
              "size": 10,
              "solidity": 0.2
             }
            },
            "type": "histogram"
           }
          ],
          "histogram2d": [
           {
            "colorbar": {
             "outlinewidth": 0,
             "ticks": ""
            },
            "colorscale": [
             [
              0,
              "#0d0887"
             ],
             [
              0.1111111111111111,
              "#46039f"
             ],
             [
              0.2222222222222222,
              "#7201a8"
             ],
             [
              0.3333333333333333,
              "#9c179e"
             ],
             [
              0.4444444444444444,
              "#bd3786"
             ],
             [
              0.5555555555555556,
              "#d8576b"
             ],
             [
              0.6666666666666666,
              "#ed7953"
             ],
             [
              0.7777777777777778,
              "#fb9f3a"
             ],
             [
              0.8888888888888888,
              "#fdca26"
             ],
             [
              1,
              "#f0f921"
             ]
            ],
            "type": "histogram2d"
           }
          ],
          "histogram2dcontour": [
           {
            "colorbar": {
             "outlinewidth": 0,
             "ticks": ""
            },
            "colorscale": [
             [
              0,
              "#0d0887"
             ],
             [
              0.1111111111111111,
              "#46039f"
             ],
             [
              0.2222222222222222,
              "#7201a8"
             ],
             [
              0.3333333333333333,
              "#9c179e"
             ],
             [
              0.4444444444444444,
              "#bd3786"
             ],
             [
              0.5555555555555556,
              "#d8576b"
             ],
             [
              0.6666666666666666,
              "#ed7953"
             ],
             [
              0.7777777777777778,
              "#fb9f3a"
             ],
             [
              0.8888888888888888,
              "#fdca26"
             ],
             [
              1,
              "#f0f921"
             ]
            ],
            "type": "histogram2dcontour"
           }
          ],
          "mesh3d": [
           {
            "colorbar": {
             "outlinewidth": 0,
             "ticks": ""
            },
            "type": "mesh3d"
           }
          ],
          "parcoords": [
           {
            "line": {
             "colorbar": {
              "outlinewidth": 0,
              "ticks": ""
             }
            },
            "type": "parcoords"
           }
          ],
          "pie": [
           {
            "automargin": true,
            "type": "pie"
           }
          ],
          "scatter": [
           {
            "fillpattern": {
             "fillmode": "overlay",
             "size": 10,
             "solidity": 0.2
            },
            "type": "scatter"
           }
          ],
          "scatter3d": [
           {
            "line": {
             "colorbar": {
              "outlinewidth": 0,
              "ticks": ""
             }
            },
            "marker": {
             "colorbar": {
              "outlinewidth": 0,
              "ticks": ""
             }
            },
            "type": "scatter3d"
           }
          ],
          "scattercarpet": [
           {
            "marker": {
             "colorbar": {
              "outlinewidth": 0,
              "ticks": ""
             }
            },
            "type": "scattercarpet"
           }
          ],
          "scattergeo": [
           {
            "marker": {
             "colorbar": {
              "outlinewidth": 0,
              "ticks": ""
             }
            },
            "type": "scattergeo"
           }
          ],
          "scattergl": [
           {
            "marker": {
             "colorbar": {
              "outlinewidth": 0,
              "ticks": ""
             }
            },
            "type": "scattergl"
           }
          ],
          "scattermapbox": [
           {
            "marker": {
             "colorbar": {
              "outlinewidth": 0,
              "ticks": ""
             }
            },
            "type": "scattermapbox"
           }
          ],
          "scatterpolar": [
           {
            "marker": {
             "colorbar": {
              "outlinewidth": 0,
              "ticks": ""
             }
            },
            "type": "scatterpolar"
           }
          ],
          "scatterpolargl": [
           {
            "marker": {
             "colorbar": {
              "outlinewidth": 0,
              "ticks": ""
             }
            },
            "type": "scatterpolargl"
           }
          ],
          "scatterternary": [
           {
            "marker": {
             "colorbar": {
              "outlinewidth": 0,
              "ticks": ""
             }
            },
            "type": "scatterternary"
           }
          ],
          "surface": [
           {
            "colorbar": {
             "outlinewidth": 0,
             "ticks": ""
            },
            "colorscale": [
             [
              0,
              "#0d0887"
             ],
             [
              0.1111111111111111,
              "#46039f"
             ],
             [
              0.2222222222222222,
              "#7201a8"
             ],
             [
              0.3333333333333333,
              "#9c179e"
             ],
             [
              0.4444444444444444,
              "#bd3786"
             ],
             [
              0.5555555555555556,
              "#d8576b"
             ],
             [
              0.6666666666666666,
              "#ed7953"
             ],
             [
              0.7777777777777778,
              "#fb9f3a"
             ],
             [
              0.8888888888888888,
              "#fdca26"
             ],
             [
              1,
              "#f0f921"
             ]
            ],
            "type": "surface"
           }
          ],
          "table": [
           {
            "cells": {
             "fill": {
              "color": "#EBF0F8"
             },
             "line": {
              "color": "white"
             }
            },
            "header": {
             "fill": {
              "color": "#C8D4E3"
             },
             "line": {
              "color": "white"
             }
            },
            "type": "table"
           }
          ]
         },
         "layout": {
          "annotationdefaults": {
           "arrowcolor": "#2a3f5f",
           "arrowhead": 0,
           "arrowwidth": 1
          },
          "autotypenumbers": "strict",
          "coloraxis": {
           "colorbar": {
            "outlinewidth": 0,
            "ticks": ""
           }
          },
          "colorscale": {
           "diverging": [
            [
             0,
             "#8e0152"
            ],
            [
             0.1,
             "#c51b7d"
            ],
            [
             0.2,
             "#de77ae"
            ],
            [
             0.3,
             "#f1b6da"
            ],
            [
             0.4,
             "#fde0ef"
            ],
            [
             0.5,
             "#f7f7f7"
            ],
            [
             0.6,
             "#e6f5d0"
            ],
            [
             0.7,
             "#b8e186"
            ],
            [
             0.8,
             "#7fbc41"
            ],
            [
             0.9,
             "#4d9221"
            ],
            [
             1,
             "#276419"
            ]
           ],
           "sequential": [
            [
             0,
             "#0d0887"
            ],
            [
             0.1111111111111111,
             "#46039f"
            ],
            [
             0.2222222222222222,
             "#7201a8"
            ],
            [
             0.3333333333333333,
             "#9c179e"
            ],
            [
             0.4444444444444444,
             "#bd3786"
            ],
            [
             0.5555555555555556,
             "#d8576b"
            ],
            [
             0.6666666666666666,
             "#ed7953"
            ],
            [
             0.7777777777777778,
             "#fb9f3a"
            ],
            [
             0.8888888888888888,
             "#fdca26"
            ],
            [
             1,
             "#f0f921"
            ]
           ],
           "sequentialminus": [
            [
             0,
             "#0d0887"
            ],
            [
             0.1111111111111111,
             "#46039f"
            ],
            [
             0.2222222222222222,
             "#7201a8"
            ],
            [
             0.3333333333333333,
             "#9c179e"
            ],
            [
             0.4444444444444444,
             "#bd3786"
            ],
            [
             0.5555555555555556,
             "#d8576b"
            ],
            [
             0.6666666666666666,
             "#ed7953"
            ],
            [
             0.7777777777777778,
             "#fb9f3a"
            ],
            [
             0.8888888888888888,
             "#fdca26"
            ],
            [
             1,
             "#f0f921"
            ]
           ]
          },
          "colorway": [
           "#636efa",
           "#EF553B",
           "#00cc96",
           "#ab63fa",
           "#FFA15A",
           "#19d3f3",
           "#FF6692",
           "#B6E880",
           "#FF97FF",
           "#FECB52"
          ],
          "font": {
           "color": "#2a3f5f"
          },
          "geo": {
           "bgcolor": "white",
           "lakecolor": "white",
           "landcolor": "#E5ECF6",
           "showlakes": true,
           "showland": true,
           "subunitcolor": "white"
          },
          "hoverlabel": {
           "align": "left"
          },
          "hovermode": "closest",
          "mapbox": {
           "style": "light"
          },
          "paper_bgcolor": "white",
          "plot_bgcolor": "#E5ECF6",
          "polar": {
           "angularaxis": {
            "gridcolor": "white",
            "linecolor": "white",
            "ticks": ""
           },
           "bgcolor": "#E5ECF6",
           "radialaxis": {
            "gridcolor": "white",
            "linecolor": "white",
            "ticks": ""
           }
          },
          "scene": {
           "xaxis": {
            "backgroundcolor": "#E5ECF6",
            "gridcolor": "white",
            "gridwidth": 2,
            "linecolor": "white",
            "showbackground": true,
            "ticks": "",
            "zerolinecolor": "white"
           },
           "yaxis": {
            "backgroundcolor": "#E5ECF6",
            "gridcolor": "white",
            "gridwidth": 2,
            "linecolor": "white",
            "showbackground": true,
            "ticks": "",
            "zerolinecolor": "white"
           },
           "zaxis": {
            "backgroundcolor": "#E5ECF6",
            "gridcolor": "white",
            "gridwidth": 2,
            "linecolor": "white",
            "showbackground": true,
            "ticks": "",
            "zerolinecolor": "white"
           }
          },
          "shapedefaults": {
           "line": {
            "color": "#2a3f5f"
           }
          },
          "ternary": {
           "aaxis": {
            "gridcolor": "white",
            "linecolor": "white",
            "ticks": ""
           },
           "baxis": {
            "gridcolor": "white",
            "linecolor": "white",
            "ticks": ""
           },
           "bgcolor": "#E5ECF6",
           "caxis": {
            "gridcolor": "white",
            "linecolor": "white",
            "ticks": ""
           }
          },
          "title": {
           "x": 0.05
          },
          "xaxis": {
           "automargin": true,
           "gridcolor": "white",
           "linecolor": "white",
           "ticks": "",
           "title": {
            "standoff": 15
           },
           "zerolinecolor": "white",
           "zerolinewidth": 2
          },
          "yaxis": {
           "automargin": true,
           "gridcolor": "white",
           "linecolor": "white",
           "ticks": "",
           "title": {
            "standoff": 15
           },
           "zerolinecolor": "white",
           "zerolinewidth": 2
          }
         }
        },
        "xaxis": {
         "anchor": "y",
         "domain": [
          0,
          1
         ],
         "title": {
          "text": "n_votes"
         }
        },
        "yaxis": {
         "anchor": "x",
         "domain": [
          0,
          1
         ],
         "title": {
          "text": "comment_count"
         }
        }
       }
      }
     },
     "metadata": {},
     "output_type": "display_data"
    },
    {
     "name": "stdout",
     "output_type": "stream",
     "text": [
      "SpearmanrResult(correlation=0.15488009289790128, pvalue=0.1258390001765169)\n"
     ]
    },
    {
     "data": {
      "application/vnd.plotly.v1+json": {
       "config": {
        "plotlyServerURL": "https://plot.ly"
       },
       "data": [
        {
         "hovertemplate": "sentiment_polarity=%{x}<br>n_votes=%{y}<extra></extra>",
         "legendgroup": "",
         "marker": {
          "color": "#636efa",
          "symbol": "circle"
         },
         "mode": "markers",
         "name": "",
         "orientation": "v",
         "showlegend": false,
         "type": "scatter",
         "x": [
          0.42831908600858654,
          0.23629539535112287,
          0.2426470588235294,
          0.6274082274955437,
          0.40521044065774453,
          0.7022058823529412,
          0.4125992063492063,
          0.15036878177196805,
          0.6251531862745099,
          0.37262174100409395,
          0.2432144448688566,
          0.2716780462184874,
          0.4233943577430973,
          0.49428104575163395,
          0.7144607843137255,
          0.23517507002801122,
          0.9885620915032679,
          -0.13143382352941177,
          0.5057257625272331,
          0.38948704481792723,
          0.5140603116246499,
          0.8852124183006536,
          0.23105392156862742,
          0.3506658496732026,
          0.3360483552395317,
          0.48250455630970335,
          0.4878984927304255,
          0.1524816176470588,
          0.15808823529411767,
          0.6582924836601308,
          0.4397404795251434,
          0.34039740896358545,
          0.49428104575163395,
          0.5082107843137255,
          0.9200367647058824,
          null,
          0.16231390704429924,
          null,
          0.37714148159263705,
          -0.020220588235294115,
          0.031454248366013085,
          0.2359500691302162,
          0.3151517293980529,
          0.5621323529411765,
          0.5840540382819795,
          null,
          0.22691993464052287,
          0.4828794480755265,
          0.28423202614379084,
          0.5244208099906629,
          0.44345238095238093,
          0.3503722426470588,
          0.8135416666666667,
          0.40441176470588236,
          0.3903722947512338,
          0.44485294117647056,
          0.3158263305322129,
          0.3283898420479303,
          0.34617647058823525,
          0.8209558823529413,
          0.2081670168067227,
          0.3971901260504202,
          0.7700674019607844,
          null,
          0.33019257703081234,
          null,
          null,
          0.3321151377217554,
          0.26960784313725494,
          0.11554621848739495,
          0.24264705882352947,
          0.3795244660364146,
          0.2875816993464052,
          0.8695509453781513,
          -0.013655462184873974,
          0.11879595588235295,
          0.4254084967320261,
          0,
          0.4518258619237168,
          0.5164274042950513,
          0.4877450980392157,
          0.2707312091503267,
          null,
          1,
          0.21114960407239822,
          null,
          0.46460916474432906,
          0.31219143907563024,
          0.41149966931216936,
          0.37263655462184875,
          0.6329044117647059,
          0.3063017186041083,
          0.17389077913774206,
          0.6066176470588236,
          0.8290441176470588,
          0.456474916355431,
          0.21200980392156865,
          null,
          0.06474777410964387,
          0.30522208883553414,
          0.2532996961385914,
          0.3390216503267974,
          0.49877450980392163,
          0.6470588235294118,
          0.5077369281045752,
          0.42747821350762527,
          0.3431985294117647,
          0.32926660247432304
         ],
         "xaxis": "x",
         "y": [
          0.8620689655172413,
          0.2413793103448276,
          0.06896551724137931,
          0.5172413793103449,
          0.6551724137931034,
          0.20689655172413793,
          0.27586206896551724,
          0.4827586206896552,
          0.3448275862068966,
          0.8620689655172413,
          0.5172413793103449,
          0.2413793103448276,
          0.10344827586206896,
          0,
          0.3103448275862069,
          0.20689655172413793,
          0.2413793103448276,
          0.13793103448275862,
          0.5172413793103449,
          0.3103448275862069,
          0.13793103448275862,
          0.6896551724137931,
          0.1724137931034483,
          1,
          0.3103448275862069,
          0.4482758620689655,
          0.4482758620689655,
          0.2413793103448276,
          0.3448275862068966,
          0.2413793103448276,
          0.3793103448275862,
          0.2413793103448276,
          0.1724137931034483,
          0.1724137931034483,
          0.20689655172413793,
          0,
          0.4482758620689655,
          0.13793103448275862,
          0.3448275862068966,
          0.13793103448275862,
          0.13793103448275862,
          0.1724137931034483,
          0.1724137931034483,
          0.10344827586206896,
          0.41379310344827586,
          0.034482758620689655,
          0.3448275862068966,
          0.3793103448275862,
          0.3448275862068966,
          0.3103448275862069,
          0.1724137931034483,
          0.1724137931034483,
          0.13793103448275862,
          0.13793103448275862,
          0.41379310344827586,
          0.1724137931034483,
          0.06896551724137931,
          0.10344827586206896,
          0.20689655172413793,
          0.3793103448275862,
          0.3103448275862069,
          0.3793103448275862,
          0.41379310344827586,
          0.1724137931034483,
          0.13793103448275862,
          0.13793103448275862,
          0.034482758620689655,
          0.3448275862068966,
          0.06896551724137931,
          0.10344827586206896,
          0.13793103448275862,
          0.9655172413793104,
          0.3103448275862069,
          0.2413793103448276,
          0.10344827586206896,
          0.3103448275862069,
          0.13793103448275862,
          0.06896551724137931,
          0.3103448275862069,
          0.2413793103448276,
          0.1724137931034483,
          0.3793103448275862,
          0.13793103448275862,
          0.3103448275862069,
          0.13793103448275862,
          0.034482758620689655,
          0.41379310344827586,
          0.27586206896551724,
          0.2413793103448276,
          0.2413793103448276,
          0.3103448275862069,
          0.2413793103448276,
          0.3448275862068966,
          0.13793103448275862,
          0.06896551724137931,
          0.5172413793103449,
          0.034482758620689655,
          0.06896551724137931,
          0.3448275862068966,
          0.1724137931034483,
          0.7241379310344828,
          0.13793103448275862,
          0.13793103448275862,
          0.13793103448275862,
          0.6896551724137931,
          0.20689655172413793,
          0.20689655172413793,
          0
         ],
         "yaxis": "y"
        },
        {
         "hovertemplate": "<b>OLS trendline</b><br>n_votes = 0.0962778 * sentiment_polarity + 0.251702<br>R<sup>2</sup>=0.011502<br><br>sentiment_polarity=%{x}<br>n_votes=%{y} <b>(trend)</b><extra></extra>",
         "legendgroup": "",
         "marker": {
          "color": "#636efa",
          "symbol": "circle"
         },
         "mode": "lines",
         "name": "",
         "showlegend": false,
         "type": "scatter",
         "x": [
          -0.13143382352941177,
          -0.020220588235294115,
          -0.013655462184873974,
          0,
          0.031454248366013085,
          0.06474777410964387,
          0.11554621848739495,
          0.11879595588235295,
          0.15036878177196805,
          0.1524816176470588,
          0.15808823529411767,
          0.16231390704429924,
          0.17389077913774206,
          0.2081670168067227,
          0.21114960407239822,
          0.21200980392156865,
          0.22691993464052287,
          0.23105392156862742,
          0.23517507002801122,
          0.2359500691302162,
          0.23629539535112287,
          0.2426470588235294,
          0.24264705882352947,
          0.2432144448688566,
          0.2532996961385914,
          0.26960784313725494,
          0.2707312091503267,
          0.2716780462184874,
          0.28423202614379084,
          0.2875816993464052,
          0.30522208883553414,
          0.3063017186041083,
          0.31219143907563024,
          0.3151517293980529,
          0.3158263305322129,
          0.3283898420479303,
          0.32926660247432304,
          0.33019257703081234,
          0.3321151377217554,
          0.3360483552395317,
          0.3390216503267974,
          0.34039740896358545,
          0.3431985294117647,
          0.34617647058823525,
          0.3503722426470588,
          0.3506658496732026,
          0.37262174100409395,
          0.37263655462184875,
          0.37714148159263705,
          0.3795244660364146,
          0.38948704481792723,
          0.3903722947512338,
          0.3971901260504202,
          0.40441176470588236,
          0.40521044065774453,
          0.41149966931216936,
          0.4125992063492063,
          0.4233943577430973,
          0.4254084967320261,
          0.42747821350762527,
          0.42831908600858654,
          0.4397404795251434,
          0.44345238095238093,
          0.44485294117647056,
          0.4518258619237168,
          0.456474916355431,
          0.46460916474432906,
          0.48250455630970335,
          0.4828794480755265,
          0.4877450980392157,
          0.4878984927304255,
          0.49428104575163395,
          0.49428104575163395,
          0.49877450980392163,
          0.5057257625272331,
          0.5077369281045752,
          0.5082107843137255,
          0.5140603116246499,
          0.5164274042950513,
          0.5244208099906629,
          0.5621323529411765,
          0.5840540382819795,
          0.6066176470588236,
          0.6251531862745099,
          0.6274082274955437,
          0.6329044117647059,
          0.6470588235294118,
          0.6582924836601308,
          0.7022058823529412,
          0.7144607843137255,
          0.7700674019607844,
          0.8135416666666667,
          0.8209558823529413,
          0.8290441176470588,
          0.8695509453781513,
          0.8852124183006536,
          0.9200367647058824,
          0.9885620915032679,
          1
         ],
         "xaxis": "x",
         "y": [
          0.2390479834646452,
          0.24975534502305266,
          0.2503874206758512,
          0.2517021380336722,
          0.25473048271685816,
          0.2579359089122964,
          0.2628266695229267,
          0.263139546971062,
          0.26617930803301393,
          0.2663827271455714,
          0.2669225197530613,
          0.2673293579781762,
          0.26844395333089754,
          0.2717439928326087,
          0.2720311496637955,
          0.2721139677813801,
          0.27354948181951366,
          0.2739474928350181,
          0.2743442677914682,
          0.2744188829716921,
          0.27445213020789616,
          0.2750636541611067,
          0.2750636541611067,
          0.27511828082055456,
          0.27608926625647734,
          0.27765937817526604,
          0.2777675333425227,
          0.27785869269778185,
          0.2790673618071889,
          0.2793898608513723,
          0.28108823809749517,
          0.28119218243695054,
          0.28175923155120175,
          0.2820442416825607,
          0.28210919077096785,
          0.2833187775605819,
          0.2834031900935027,
          0.2834923408527985,
          0.28367744069618916,
          0.2840561220819012,
          0.28434238428293324,
          0.28447483924750855,
          0.2847445248593693,
          0.2850312343754787,
          0.28543519392518224,
          0.285463461752988,
          0.2875773258645322,
          0.287578752086518,
          0.28801247637970023,
          0.2882419047922458,
          0.2892010795953676,
          0.2892863094790267,
          0.2899427150279846,
          0.29063799824606296,
          0.29071489298041703,
          0.29132040584899177,
          0.29142626681573086,
          0.2924655998478691,
          0.2926595166449689,
          0.292858784347066,
          0.29293974167079195,
          0.29403936789386875,
          0.2943967414613717,
          0.2945315842673021,
          0.2952029214814514,
          0.29565052204422104,
          0.296433669286323,
          0.29815659756201784,
          0.2981926913027612,
          0.2986611451989193,
          0.29867591369671165,
          0.29929041162659425,
          0.29929041162659425,
          0.2997230322956208,
          0.3003922833608877,
          0.3005859138845702,
          0.3006315357005766,
          0.3011947151072201,
          0.30142261349536803,
          0.3021922007179643,
          0.3058229837288954,
          0.30793355456421784,
          0.31010592835225836,
          0.311890488611993,
          0.3121075989372062,
          0.31263675926606377,
          0.31399951437349743,
          0.3150810660460639,
          0.3193089498570053,
          0.3204888244088959,
          0.32584250518809965,
          0.3300281101609317,
          0.3307419342648255,
          0.3315206514690733,
          0.33542055824684036,
          0.33692840983190536,
          0.34028122001686123,
          0.3468786852195163,
          0.3479799014679476
         ],
         "yaxis": "y"
        }
       ],
       "layout": {
        "legend": {
         "tracegroupgap": 0
        },
        "margin": {
         "t": 60
        },
        "template": {
         "data": {
          "bar": [
           {
            "error_x": {
             "color": "#2a3f5f"
            },
            "error_y": {
             "color": "#2a3f5f"
            },
            "marker": {
             "line": {
              "color": "#E5ECF6",
              "width": 0.5
             },
             "pattern": {
              "fillmode": "overlay",
              "size": 10,
              "solidity": 0.2
             }
            },
            "type": "bar"
           }
          ],
          "barpolar": [
           {
            "marker": {
             "line": {
              "color": "#E5ECF6",
              "width": 0.5
             },
             "pattern": {
              "fillmode": "overlay",
              "size": 10,
              "solidity": 0.2
             }
            },
            "type": "barpolar"
           }
          ],
          "carpet": [
           {
            "aaxis": {
             "endlinecolor": "#2a3f5f",
             "gridcolor": "white",
             "linecolor": "white",
             "minorgridcolor": "white",
             "startlinecolor": "#2a3f5f"
            },
            "baxis": {
             "endlinecolor": "#2a3f5f",
             "gridcolor": "white",
             "linecolor": "white",
             "minorgridcolor": "white",
             "startlinecolor": "#2a3f5f"
            },
            "type": "carpet"
           }
          ],
          "choropleth": [
           {
            "colorbar": {
             "outlinewidth": 0,
             "ticks": ""
            },
            "type": "choropleth"
           }
          ],
          "contour": [
           {
            "colorbar": {
             "outlinewidth": 0,
             "ticks": ""
            },
            "colorscale": [
             [
              0,
              "#0d0887"
             ],
             [
              0.1111111111111111,
              "#46039f"
             ],
             [
              0.2222222222222222,
              "#7201a8"
             ],
             [
              0.3333333333333333,
              "#9c179e"
             ],
             [
              0.4444444444444444,
              "#bd3786"
             ],
             [
              0.5555555555555556,
              "#d8576b"
             ],
             [
              0.6666666666666666,
              "#ed7953"
             ],
             [
              0.7777777777777778,
              "#fb9f3a"
             ],
             [
              0.8888888888888888,
              "#fdca26"
             ],
             [
              1,
              "#f0f921"
             ]
            ],
            "type": "contour"
           }
          ],
          "contourcarpet": [
           {
            "colorbar": {
             "outlinewidth": 0,
             "ticks": ""
            },
            "type": "contourcarpet"
           }
          ],
          "heatmap": [
           {
            "colorbar": {
             "outlinewidth": 0,
             "ticks": ""
            },
            "colorscale": [
             [
              0,
              "#0d0887"
             ],
             [
              0.1111111111111111,
              "#46039f"
             ],
             [
              0.2222222222222222,
              "#7201a8"
             ],
             [
              0.3333333333333333,
              "#9c179e"
             ],
             [
              0.4444444444444444,
              "#bd3786"
             ],
             [
              0.5555555555555556,
              "#d8576b"
             ],
             [
              0.6666666666666666,
              "#ed7953"
             ],
             [
              0.7777777777777778,
              "#fb9f3a"
             ],
             [
              0.8888888888888888,
              "#fdca26"
             ],
             [
              1,
              "#f0f921"
             ]
            ],
            "type": "heatmap"
           }
          ],
          "heatmapgl": [
           {
            "colorbar": {
             "outlinewidth": 0,
             "ticks": ""
            },
            "colorscale": [
             [
              0,
              "#0d0887"
             ],
             [
              0.1111111111111111,
              "#46039f"
             ],
             [
              0.2222222222222222,
              "#7201a8"
             ],
             [
              0.3333333333333333,
              "#9c179e"
             ],
             [
              0.4444444444444444,
              "#bd3786"
             ],
             [
              0.5555555555555556,
              "#d8576b"
             ],
             [
              0.6666666666666666,
              "#ed7953"
             ],
             [
              0.7777777777777778,
              "#fb9f3a"
             ],
             [
              0.8888888888888888,
              "#fdca26"
             ],
             [
              1,
              "#f0f921"
             ]
            ],
            "type": "heatmapgl"
           }
          ],
          "histogram": [
           {
            "marker": {
             "pattern": {
              "fillmode": "overlay",
              "size": 10,
              "solidity": 0.2
             }
            },
            "type": "histogram"
           }
          ],
          "histogram2d": [
           {
            "colorbar": {
             "outlinewidth": 0,
             "ticks": ""
            },
            "colorscale": [
             [
              0,
              "#0d0887"
             ],
             [
              0.1111111111111111,
              "#46039f"
             ],
             [
              0.2222222222222222,
              "#7201a8"
             ],
             [
              0.3333333333333333,
              "#9c179e"
             ],
             [
              0.4444444444444444,
              "#bd3786"
             ],
             [
              0.5555555555555556,
              "#d8576b"
             ],
             [
              0.6666666666666666,
              "#ed7953"
             ],
             [
              0.7777777777777778,
              "#fb9f3a"
             ],
             [
              0.8888888888888888,
              "#fdca26"
             ],
             [
              1,
              "#f0f921"
             ]
            ],
            "type": "histogram2d"
           }
          ],
          "histogram2dcontour": [
           {
            "colorbar": {
             "outlinewidth": 0,
             "ticks": ""
            },
            "colorscale": [
             [
              0,
              "#0d0887"
             ],
             [
              0.1111111111111111,
              "#46039f"
             ],
             [
              0.2222222222222222,
              "#7201a8"
             ],
             [
              0.3333333333333333,
              "#9c179e"
             ],
             [
              0.4444444444444444,
              "#bd3786"
             ],
             [
              0.5555555555555556,
              "#d8576b"
             ],
             [
              0.6666666666666666,
              "#ed7953"
             ],
             [
              0.7777777777777778,
              "#fb9f3a"
             ],
             [
              0.8888888888888888,
              "#fdca26"
             ],
             [
              1,
              "#f0f921"
             ]
            ],
            "type": "histogram2dcontour"
           }
          ],
          "mesh3d": [
           {
            "colorbar": {
             "outlinewidth": 0,
             "ticks": ""
            },
            "type": "mesh3d"
           }
          ],
          "parcoords": [
           {
            "line": {
             "colorbar": {
              "outlinewidth": 0,
              "ticks": ""
             }
            },
            "type": "parcoords"
           }
          ],
          "pie": [
           {
            "automargin": true,
            "type": "pie"
           }
          ],
          "scatter": [
           {
            "fillpattern": {
             "fillmode": "overlay",
             "size": 10,
             "solidity": 0.2
            },
            "type": "scatter"
           }
          ],
          "scatter3d": [
           {
            "line": {
             "colorbar": {
              "outlinewidth": 0,
              "ticks": ""
             }
            },
            "marker": {
             "colorbar": {
              "outlinewidth": 0,
              "ticks": ""
             }
            },
            "type": "scatter3d"
           }
          ],
          "scattercarpet": [
           {
            "marker": {
             "colorbar": {
              "outlinewidth": 0,
              "ticks": ""
             }
            },
            "type": "scattercarpet"
           }
          ],
          "scattergeo": [
           {
            "marker": {
             "colorbar": {
              "outlinewidth": 0,
              "ticks": ""
             }
            },
            "type": "scattergeo"
           }
          ],
          "scattergl": [
           {
            "marker": {
             "colorbar": {
              "outlinewidth": 0,
              "ticks": ""
             }
            },
            "type": "scattergl"
           }
          ],
          "scattermapbox": [
           {
            "marker": {
             "colorbar": {
              "outlinewidth": 0,
              "ticks": ""
             }
            },
            "type": "scattermapbox"
           }
          ],
          "scatterpolar": [
           {
            "marker": {
             "colorbar": {
              "outlinewidth": 0,
              "ticks": ""
             }
            },
            "type": "scatterpolar"
           }
          ],
          "scatterpolargl": [
           {
            "marker": {
             "colorbar": {
              "outlinewidth": 0,
              "ticks": ""
             }
            },
            "type": "scatterpolargl"
           }
          ],
          "scatterternary": [
           {
            "marker": {
             "colorbar": {
              "outlinewidth": 0,
              "ticks": ""
             }
            },
            "type": "scatterternary"
           }
          ],
          "surface": [
           {
            "colorbar": {
             "outlinewidth": 0,
             "ticks": ""
            },
            "colorscale": [
             [
              0,
              "#0d0887"
             ],
             [
              0.1111111111111111,
              "#46039f"
             ],
             [
              0.2222222222222222,
              "#7201a8"
             ],
             [
              0.3333333333333333,
              "#9c179e"
             ],
             [
              0.4444444444444444,
              "#bd3786"
             ],
             [
              0.5555555555555556,
              "#d8576b"
             ],
             [
              0.6666666666666666,
              "#ed7953"
             ],
             [
              0.7777777777777778,
              "#fb9f3a"
             ],
             [
              0.8888888888888888,
              "#fdca26"
             ],
             [
              1,
              "#f0f921"
             ]
            ],
            "type": "surface"
           }
          ],
          "table": [
           {
            "cells": {
             "fill": {
              "color": "#EBF0F8"
             },
             "line": {
              "color": "white"
             }
            },
            "header": {
             "fill": {
              "color": "#C8D4E3"
             },
             "line": {
              "color": "white"
             }
            },
            "type": "table"
           }
          ]
         },
         "layout": {
          "annotationdefaults": {
           "arrowcolor": "#2a3f5f",
           "arrowhead": 0,
           "arrowwidth": 1
          },
          "autotypenumbers": "strict",
          "coloraxis": {
           "colorbar": {
            "outlinewidth": 0,
            "ticks": ""
           }
          },
          "colorscale": {
           "diverging": [
            [
             0,
             "#8e0152"
            ],
            [
             0.1,
             "#c51b7d"
            ],
            [
             0.2,
             "#de77ae"
            ],
            [
             0.3,
             "#f1b6da"
            ],
            [
             0.4,
             "#fde0ef"
            ],
            [
             0.5,
             "#f7f7f7"
            ],
            [
             0.6,
             "#e6f5d0"
            ],
            [
             0.7,
             "#b8e186"
            ],
            [
             0.8,
             "#7fbc41"
            ],
            [
             0.9,
             "#4d9221"
            ],
            [
             1,
             "#276419"
            ]
           ],
           "sequential": [
            [
             0,
             "#0d0887"
            ],
            [
             0.1111111111111111,
             "#46039f"
            ],
            [
             0.2222222222222222,
             "#7201a8"
            ],
            [
             0.3333333333333333,
             "#9c179e"
            ],
            [
             0.4444444444444444,
             "#bd3786"
            ],
            [
             0.5555555555555556,
             "#d8576b"
            ],
            [
             0.6666666666666666,
             "#ed7953"
            ],
            [
             0.7777777777777778,
             "#fb9f3a"
            ],
            [
             0.8888888888888888,
             "#fdca26"
            ],
            [
             1,
             "#f0f921"
            ]
           ],
           "sequentialminus": [
            [
             0,
             "#0d0887"
            ],
            [
             0.1111111111111111,
             "#46039f"
            ],
            [
             0.2222222222222222,
             "#7201a8"
            ],
            [
             0.3333333333333333,
             "#9c179e"
            ],
            [
             0.4444444444444444,
             "#bd3786"
            ],
            [
             0.5555555555555556,
             "#d8576b"
            ],
            [
             0.6666666666666666,
             "#ed7953"
            ],
            [
             0.7777777777777778,
             "#fb9f3a"
            ],
            [
             0.8888888888888888,
             "#fdca26"
            ],
            [
             1,
             "#f0f921"
            ]
           ]
          },
          "colorway": [
           "#636efa",
           "#EF553B",
           "#00cc96",
           "#ab63fa",
           "#FFA15A",
           "#19d3f3",
           "#FF6692",
           "#B6E880",
           "#FF97FF",
           "#FECB52"
          ],
          "font": {
           "color": "#2a3f5f"
          },
          "geo": {
           "bgcolor": "white",
           "lakecolor": "white",
           "landcolor": "#E5ECF6",
           "showlakes": true,
           "showland": true,
           "subunitcolor": "white"
          },
          "hoverlabel": {
           "align": "left"
          },
          "hovermode": "closest",
          "mapbox": {
           "style": "light"
          },
          "paper_bgcolor": "white",
          "plot_bgcolor": "#E5ECF6",
          "polar": {
           "angularaxis": {
            "gridcolor": "white",
            "linecolor": "white",
            "ticks": ""
           },
           "bgcolor": "#E5ECF6",
           "radialaxis": {
            "gridcolor": "white",
            "linecolor": "white",
            "ticks": ""
           }
          },
          "scene": {
           "xaxis": {
            "backgroundcolor": "#E5ECF6",
            "gridcolor": "white",
            "gridwidth": 2,
            "linecolor": "white",
            "showbackground": true,
            "ticks": "",
            "zerolinecolor": "white"
           },
           "yaxis": {
            "backgroundcolor": "#E5ECF6",
            "gridcolor": "white",
            "gridwidth": 2,
            "linecolor": "white",
            "showbackground": true,
            "ticks": "",
            "zerolinecolor": "white"
           },
           "zaxis": {
            "backgroundcolor": "#E5ECF6",
            "gridcolor": "white",
            "gridwidth": 2,
            "linecolor": "white",
            "showbackground": true,
            "ticks": "",
            "zerolinecolor": "white"
           }
          },
          "shapedefaults": {
           "line": {
            "color": "#2a3f5f"
           }
          },
          "ternary": {
           "aaxis": {
            "gridcolor": "white",
            "linecolor": "white",
            "ticks": ""
           },
           "baxis": {
            "gridcolor": "white",
            "linecolor": "white",
            "ticks": ""
           },
           "bgcolor": "#E5ECF6",
           "caxis": {
            "gridcolor": "white",
            "linecolor": "white",
            "ticks": ""
           }
          },
          "title": {
           "x": 0.05
          },
          "xaxis": {
           "automargin": true,
           "gridcolor": "white",
           "linecolor": "white",
           "ticks": "",
           "title": {
            "standoff": 15
           },
           "zerolinecolor": "white",
           "zerolinewidth": 2
          },
          "yaxis": {
           "automargin": true,
           "gridcolor": "white",
           "linecolor": "white",
           "ticks": "",
           "title": {
            "standoff": 15
           },
           "zerolinecolor": "white",
           "zerolinewidth": 2
          }
         }
        },
        "xaxis": {
         "anchor": "y",
         "domain": [
          0,
          1
         ],
         "title": {
          "text": "sentiment_polarity"
         }
        },
        "yaxis": {
         "anchor": "x",
         "domain": [
          0,
          1
         ],
         "title": {
          "text": "n_votes"
         }
        }
       }
      }
     },
     "metadata": {},
     "output_type": "display_data"
    }
   ],
   "source": [
    "utils.numbers.corr_test(df, \"sentiment_polarity\", \"sentiment_subjectivity\")\n",
    "utils.numbers.corr_test(df, \"n_votes\", \"comment_count\")\n",
    "utils.numbers.corr_test(df, \"sentiment_polarity\", \"n_votes\")"
   ]
  },
  {
   "cell_type": "markdown",
   "metadata": {},
   "source": [
    "### Interpretation:\n",
    " - We can see that sentiment subjectivity and polarity are highly positively correlated, meaning that the more positive a comment is, the more subjective language it uses.\n",
    " - Number of votes and number of comments is highly correlated, meaning that engagement is basically one variable\n",
    "  - Number of votes is not correlated with sentiment polarity, meaning that higher average sentiment of comments does not necessarily mean more engagement\n",
    "\n",
    "Since engagement is basically one variable we take the mean of the number of votes and number of comments, that way we can have a joint engagement variable \n"
   ]
  },
  {
   "cell_type": "code",
   "execution_count": 115,
   "metadata": {},
   "outputs": [],
   "source": [
    "df = df.assign(\n",
    "    engagement=(df[\"n_votes\"]+df[\"comment_count\"])/2,\n",
    ")"
   ]
  },
  {
   "cell_type": "markdown",
   "metadata": {},
   "source": [
    "#### Top 10 ideas by engagement"
   ]
  },
  {
   "cell_type": "code",
   "execution_count": 117,
   "metadata": {},
   "outputs": [
    {
     "name": "stdout",
     "output_type": "stream",
     "text": [
      "1. - Create Skylanders LEGO Figurs - the skylanders figurs should be a part of normal play sets and thereby both offer the physical play and play with the mini figure in a game.\n",
      "2. - Combining a dungeon and dragons storytelling and game element to the LEGO play experience  having a LEGO play master (Dungeon master) that builds the story and set the quests for the rest of the people using the guidelines and framework set through the product\n",
      "3. - A software or Guide for the creation or development for new system. in pmy pc when i have difent types of partes  i can creat a system an leather purched the pieces and recreat. and difent ways to mix difent systems.\"\n",
      "4. - I built for several nights for the Unimog U400, a multi-function tool car. It is really a good way for us to build it. I feel so good to see the basic car machine operation in such a model. As an engineer, it is really better to build such model than only read it in book. Although I am not an Technic fans,  it is really interesting to have such challenge to build this complicated model.\"\n",
      "5. - Many LEGO models are put aside from time to time, and they then end up being \"partially built\", and maybe with some missing pieces. As many people keep the boxes anyway, I thought it could be an idea to make the boxes in a geometry so they are suitable for storage of the built model, and thereby protecting the model. And possibley also with internal compartments, if the model is divided in several smaller models. I know this would that the front of the boxes in some cases would be smaller and maybe less \"inviting\", but in many cases it could make sense.\n",
      "6. - I have been collecting the Winter Bakery, Toy shop and post office. A great addition would be lines along the idea of Santa's grotto, Elves workshop, Santa's Sleigh and other such related sets.\n",
      "7. - Now that Lego has 80 years,  why not to launch a special edition?  a  collection of  amazing constructions:  Petra,  Hagia Sophia, the Victorian Abbey Mill in London,  Peterhof in Russia, Tajin in Mexico, etc., I think they would look gorgeous built in lego  :D\n",
      "8. - Unfortunately I have recognized, that under the discussions menu, there is only one available topic \"Your Lego Childhood Memories\". I suggest to make it available for the forum users to create their own topics in the discussion menu. Or is it possible already, and/or is it just me who has this issue?\"\n",
      "9. - I came across the last year christmas calender and did remember how hard it was for the kids to open each \"door\" without breaking it - it must be possible to make it the same strength as the  chocolate calender... (Several door/tiny instructions were broken just to get into the bricks). And taling about chocolate - Toms Chocolate had one where each door would fall off when you upen it - that would make it easier to get the mini building instruction into the ligt and actually see what you are supposed to build. We want to save each tiny instruction anyway so instread of mee using a pair of scissors when christmas is done, we could have saved them in the process through December and have had a better building experience.\"\n",
      "10. - Make sure to have a bag with a LEGO figure + a vehicle or something similar for the kids to play with while the adults or more expirienced kids finish the big build.\n"
     ]
    }
   ],
   "source": [
    "most_popular = df.sort_values(by=\"engagement\")[\"idea\"].head(10)\n",
    "for i, idea in enumerate(most_popular):\n",
    "    print(f\"{i+1}. - {idea}\")"
   ]
  },
  {
   "cell_type": "markdown",
   "metadata": {},
   "source": [
    "#### Top 10 ideas by mean sentiment of comments"
   ]
  },
  {
   "cell_type": "code",
   "execution_count": 120,
   "metadata": {},
   "outputs": [
    {
     "name": "stdout",
     "output_type": "stream",
     "text": [
      "1. - The successful business model for digital play has been found (but not yet perfected)...and the winner is: Skylanders! For those of you who dont know Skylanders here is a short intro: Skylanders is a video game for gaming consols (x-box,  ps3 etc). Along with the game you get a physical platform (RFID chip reader) and Skylander figures - placing one of the figures on the platform activates the figure in the game and lets you play with that character as long as the figure is placed upon the platform - and switching the figure obviously lets you play with a new character (with new skills,  new looks,  new persona etc). The game is basically running around in a virtual world fighting monsters and completing in-game mini games....much like LEGO universe. Looking at my nephew and his friends (age 7) this game has rapidly become a part of their daily routine. They bring the figures to each other so they can try out the new figures they have just bought/received.  In retail prices in DK start up set costs roughly 50 EUR and single figures is 10-15 EUR. Now with the start set,  the expansion and the amount of skylander figures that my nephew has now  my estimate would be 150 EUR spent on this concept...in contrast it was impossible for me to convince my sister to buy just 1 month of subscription for LEGO universe (10 EUR). Just imagine the new CHIMA series with similar functionality. Collecting the various characters and having them instant available in a game when you have the physical figure - being able to control vehicles of physical box sets that you have built - playing in a new part of the virtual game world when you have built some of the physical building sets...and the possibilities goes on! Now the brilliance of the Skylanders concept is the simplicity. It doesnt take long to explain to a child that if you place your figure on the platform,  you get to play with that figure - activation codes are just not as simple. 2000 chars almost hit :)\n",
      "2. - It's Christmas and a child is visiting somewhere and they unwrap a LEGO set.  In my family, the child always begs to open it right away.  And their parents always say, \"no, wait until you get it home.\"  Of course they are afraid of losing pieces etc. What if a part of the box contained an easily separated mini set - one that could be opened and assembled quickly?  Like a vehicle or the minifigures that could be enjoyed right away? It might make the child's experience more fun.\"\n",
      "3. - While building with city products it is easy to create roads and buildings to interact with but I have a difficult time building with my LOTR or SW sets with the background being green/blue/grey base plates and nothing that helps me imagine my ships actually flying through space or my armies marching on Mt doom. As most of us  are aware with the advent calendars that have small play space that allows us to have a mat to build on we are able to envision a christmas village or a scene from star wars. If we had this on the large scale as well it would help ous create a world for all of our different themes. These scenes could be on canvas or another material that lasts.\n",
      "4. - I have been collecting the Winter Bakery, Toy shop and post office. A great addition would be lines along the idea of Santa's grotto, Elves workshop, Santa's Sleigh and other such related sets.\n",
      "5. - Bulid a bridge and think about the construction. Ways to make it better, give it strength and more beautiful. Level 1: build a brigde good enough to let a truck drive over. When the bridge is build,  it gets scanned into a computer, ipad,  smartphone for a test-drive. If it stands the truck-test you go on to level 2. If not... build over again and improve. I think the challenge is to build bridges, towers, exc.   and virtually test it on the computer afterwards in different weather and conditions. How to get the construction you have build,  into the computer - i dont know exact,  but have a couple of ideas...Every time i \"\"play\"\" with lego, it always ends with buildings and so. I think most adults to that. This could be LEGO for 18+ -&gt.sorry if my discription is a little messy,  but im going to work :-)\"\n",
      "6. - When building I find that we spend a lot of time with the building instruction trying to define whether its a black or a dark grey brick we should use. And even though rebuilding is a part of the experience, it feels like time wasted just because you couldnt see which color to use. Could the building instructions be improved to reflect the needed color in a better way? E.g. by a color number or label? Do any of you have an idea on how to improve this?\"\n",
      "7. - There's an emerging trend toward wearable devices and monitoring everyday activities - think Nike+. What if there were a sensor that could attach to LEGO bricks or a way to tag the bricks from a single set or certain types of elements or some other way to track the activity of a LEGO brick (how many times it's been used, in what models) and even share that activity with others?\n",
      "8. - In CRS every time we send out a parts order the customer received a letter and email stating that their pieces are on their way from Denmark and should arrive in 7-10 days. This is can be the first time that that our American customer finds out that we are not an American company. There is currently a popular movement in the US to be pro-american and buy only US made products. I believe that a simple auto generated line in our emails could include a little information that we do have a factory in the USA to not only separate ourselves from some the outsourcing  companies but also our competitors use ship everything over from china. It could be as simple as: While our parts warehouse is located in Denmark,  one of the factories where some of your favorite sets are made is right here in Texas! This can easily be directed to go in US parts orders only much like other bits of info that are territory specific.\"\n",
      "9. - Sometimes it can be hard to tell the difference between dark gray and black in the building instructions. Isnt it possible to make the black color black with a white outline and the dark gray with a black outline.\n",
      "10. - Help kids play with their LEGO kits and themes in new adventurous ways. Increases creativity , Help parents participate in their kids playtime,Helps LEGO with increased sales and product awareness,Scenarios/adventures/stories involving a number of prequisite models (or model types) and characters that can be used across play sessions. Helped along by a good story (text or comic) on a tablet/mobile/pc.\"\n"
     ]
    }
   ],
   "source": [
    "most_loved = df.sort_values(by=\"sentiment_polarity\")[\"idea\"].head(10)\n",
    "for i, idea in enumerate(most_loved):\n",
    "    print(f\"{i+1}. - {idea}\")"
   ]
  },
  {
   "cell_type": "markdown",
   "metadata": {},
   "source": [
    "#### Top 10 ideas by a balanced score of engagement and sentiment"
   ]
  },
  {
   "cell_type": "code",
   "execution_count": 121,
   "metadata": {},
   "outputs": [
    {
     "name": "stdout",
     "output_type": "stream",
     "text": [
      "1. - The successful business model for digital play has been found (but not yet perfected)...and the winner is: Skylanders! For those of you who dont know Skylanders here is a short intro: Skylanders is a video game for gaming consols (x-box,  ps3 etc). Along with the game you get a physical platform (RFID chip reader) and Skylander figures - placing one of the figures on the platform activates the figure in the game and lets you play with that character as long as the figure is placed upon the platform - and switching the figure obviously lets you play with a new character (with new skills,  new looks,  new persona etc). The game is basically running around in a virtual world fighting monsters and completing in-game mini games....much like LEGO universe. Looking at my nephew and his friends (age 7) this game has rapidly become a part of their daily routine. They bring the figures to each other so they can try out the new figures they have just bought/received.  In retail prices in DK start up set costs roughly 50 EUR and single figures is 10-15 EUR. Now with the start set,  the expansion and the amount of skylander figures that my nephew has now  my estimate would be 150 EUR spent on this concept...in contrast it was impossible for me to convince my sister to buy just 1 month of subscription for LEGO universe (10 EUR). Just imagine the new CHIMA series with similar functionality. Collecting the various characters and having them instant available in a game when you have the physical figure - being able to control vehicles of physical box sets that you have built - playing in a new part of the virtual game world when you have built some of the physical building sets...and the possibilities goes on! Now the brilliance of the Skylanders concept is the simplicity. It doesnt take long to explain to a child that if you place your figure on the platform,  you get to play with that figure - activation codes are just not as simple. 2000 chars almost hit :)\n",
      "2. - I have been collecting the Winter Bakery, Toy shop and post office. A great addition would be lines along the idea of Santa's grotto, Elves workshop, Santa's Sleigh and other such related sets.\n",
      "3. - It's Christmas and a child is visiting somewhere and they unwrap a LEGO set.  In my family, the child always begs to open it right away.  And their parents always say, \"no, wait until you get it home.\"  Of course they are afraid of losing pieces etc. What if a part of the box contained an easily separated mini set - one that could be opened and assembled quickly?  Like a vehicle or the minifigures that could be enjoyed right away? It might make the child's experience more fun.\"\n",
      "4. - Bulid a bridge and think about the construction. Ways to make it better, give it strength and more beautiful. Level 1: build a brigde good enough to let a truck drive over. When the bridge is build,  it gets scanned into a computer, ipad,  smartphone for a test-drive. If it stands the truck-test you go on to level 2. If not... build over again and improve. I think the challenge is to build bridges, towers, exc.   and virtually test it on the computer afterwards in different weather and conditions. How to get the construction you have build,  into the computer - i dont know exact,  but have a couple of ideas...Every time i \"\"play\"\" with lego, it always ends with buildings and so. I think most adults to that. This could be LEGO for 18+ -&gt.sorry if my discription is a little messy,  but im going to work :-)\"\n",
      "5. - There's an emerging trend toward wearable devices and monitoring everyday activities - think Nike+. What if there were a sensor that could attach to LEGO bricks or a way to tag the bricks from a single set or certain types of elements or some other way to track the activity of a LEGO brick (how many times it's been used, in what models) and even share that activity with others?\n",
      "6. - While building with city products it is easy to create roads and buildings to interact with but I have a difficult time building with my LOTR or SW sets with the background being green/blue/grey base plates and nothing that helps me imagine my ships actually flying through space or my armies marching on Mt doom. As most of us  are aware with the advent calendars that have small play space that allows us to have a mat to build on we are able to envision a christmas village or a scene from star wars. If we had this on the large scale as well it would help ous create a world for all of our different themes. These scenes could be on canvas or another material that lasts.\n",
      "7. - I have made some tests and would like to share it with you.it's about impact on item quality,  tool wear,  unexplained errors and holistic expenses, se my thoughts in this link and think of the wear and item measurement problems it can give LEGO , my advise is avoid different temp on the tool and solve miscellaneous problems otherwise , sorry i can not upload it ,  you can use this , F:\\CrossOrg\\CAE_Publ\\varmeudvidelse\\Konklusion_nr1.doc\n",
      "8. - Help kids play with their LEGO kits and themes in new adventurous ways. Increases creativity , Help parents participate in their kids playtime,Helps LEGO with increased sales and product awareness,Scenarios/adventures/stories involving a number of prequisite models (or model types) and characters that can be used across play sessions. Helped along by a good story (text or comic) on a tablet/mobile/pc.\"\n",
      "9. - Now that Lego has 80 years,  why not to launch a special edition?  a  collection of  amazing constructions:  Petra,  Hagia Sophia, the Victorian Abbey Mill in London,  Peterhof in Russia, Tajin in Mexico, etc., I think they would look gorgeous built in lego  :D\n",
      "10. - Hi :) During the christmas holiday  I was playing with LEGO City together with my nephew (4 years old). Suddenly he asked me how is was on the countryside,  he have never really been/seen a farm on close on. Because he is raised in Copenhagen  and my guess is that there are many kids aruond the world who do not know much about the countryside.  I am rasied on a farm and do know a thing or two about the daily life on the countryside  so I told him about it  and came to thing that it would be great if LEGO could learn kids about the life on a countryside with a playfull,  good experienced,  well learned story about how the diffrents products gets from the farms to the supermaket.  I can almost see the title \"\"LEGO City Countryside\"\" on the LEGO boxes. So now  Is it a good idea or not?????\"\n"
     ]
    }
   ],
   "source": [
    "df = df.assign(\n",
    "    balanced_score = (df[\"engagement\"]+df[\"sentiment_polarity\"])/2,\n",
    ")\n",
    "balanced = df.sort_values(by=\"balanced_score\")[\"idea\"].head(10)\n",
    "for i, idea in enumerate(balanced):\n",
    "    print(f\"{i+1}. - {idea}\")"
   ]
  },
  {
   "cell_type": "markdown",
   "metadata": {},
   "source": [
    "## Topic modelling\n",
    "We use negative matrix factorization to look for some topics in the data.\n",
    "As an arbitrary choice I decided to go with 5, but you can change that.\n",
    "Words with a higher frequency than 20% in every document are filtered, so that they don't appear in every topic."
   ]
  },
  {
   "cell_type": "code",
   "execution_count": 223,
   "metadata": {},
   "outputs": [
    {
     "name": "stderr",
     "output_type": "stream",
     "text": [
      "/home/kardosur/Documents/GitHub/minnov/GroupFive/environment/lib/python3.8/site-packages/sklearn/decomposition/_nmf.py:289: FutureWarning:\n",
      "\n",
      "The 'init' value, when 'init=None' and n_components is less than n_samples and n_features, will be changed from 'nndsvd' to 'nndsvda' in 1.1 (renaming of 0.26).\n",
      "\n"
     ]
    }
   ],
   "source": [
    "from utils.topic_modelling import NMFTopics, add_nmf_topics\n",
    "\n",
    "nmf_model = NMFTopics(n_topics=5, cutoff_frequency=0.2).fit(df[\"idea\"])"
   ]
  },
  {
   "cell_type": "markdown",
   "metadata": {},
   "source": [
    "Here's the top 10 words in each topic ordered by how much they contribute to the topic"
   ]
  },
  {
   "cell_type": "code",
   "execution_count": 225,
   "metadata": {},
   "outputs": [
    {
     "name": "stdout",
     "output_type": "stream",
     "text": [
      "0  :  {'theme': 0.5878434905790433, 'village': 0.47014692461518814, 'christmas': 0.4564955070781656, 'winter': 0.4497637054747745, 'city': 0.36409129115387573, 'product': 0.2793644680594245, 'inspire': 0.20395033630766726, 'european': 0.1999978208064295, 'year': 0.1881477036137403, 'good': 0.18239034234600934}\n",
      "1  :  {'figure': 0.6465224014976043, 'game': 0.49147168947934006, 'new': 0.20197097714696255, 'character': 0.19335781666742538, 'physical': 0.16844602265773043, 'skylanders': 0.16644077842805274, 'create': 0.16582807297871702, 'robot': 0.1601375894770996, 'skylander': 0.14709423777695396, 'web': 0.13172145838215546}\n",
      "2  :  {'child': 0.5093047215141081, 'minifigure': 0.4386307522170859, 'friend': 0.1828782629168556, 'app': 0.15184115667477294, 'great': 0.14138114273373073, 'family': 0.13213398171175994, 'design': 0.12439745901985333, 'etc': 0.12439700563000511, 'week': 0.12118598827998041, 'fun': 0.1187498591131233}\n",
      "3  :  {'bag': 0.6175348422525017, 'open': 0.4889295367637017, 'smart': 0.15398040624318313, 'pack': 0.14991429102231016, 'away': 0.13464664054884568, 'plastic': 0.11453309020572575, 'nice': 0.11076519205386098, 'issue': 0.10803551849422582, 'little': 0.10735856846155231, 'way': 0.09860280444167466}\n",
      "4  :  {'instruction': 0.3889385688894164, 'experience': 0.18406902919067344, 'colour': 0.18291718728036174, 'color': 0.15958622082152052, 'way': 0.1578121526140895, 'black': 0.1571766447301319, 'well': 0.14874156975039474, 'include': 0.14579754101732034, 'store': 0.14317127882700623, 'use': 0.13892944476796104}\n"
     ]
    }
   ],
   "source": [
    "topics = nmf_model.get_topics(top_words=10)\n",
    "for i, topic in enumerate(topics):\n",
    "    print(i, \" : \", topic)"
   ]
  },
  {
   "cell_type": "code",
   "execution_count": 162,
   "metadata": {},
   "outputs": [],
   "source": [
    "df = add_nmf_topics(df, \"idea\", nmf_model)"
   ]
  },
  {
   "cell_type": "markdown",
   "metadata": {},
   "source": [
    "We plot the balanced scores of all ideas for each topic. It can be clearly seen that no topic is significantly more popular or more loved than any other."
   ]
  },
  {
   "cell_type": "code",
   "execution_count": 191,
   "metadata": {},
   "outputs": [
    {
     "data": {
      "application/vnd.plotly.v1+json": {
       "config": {
        "plotlyServerURL": "https://plot.ly"
       },
       "data": [
        {
         "alignmentgroup": "True",
         "hovertemplate": "idea_topic=%{x}<br>balanced_score=%{y}<extra></extra>",
         "legendgroup": "",
         "marker": {
          "color": "#636efa"
         },
         "name": "",
         "notched": false,
         "offsetgroup": "",
         "orientation": "v",
         "showlegend": false,
         "type": "box",
         "x": [
          2,
          4,
          3,
          4,
          3,
          4,
          2,
          4,
          3,
          2,
          1,
          2,
          4,
          1,
          1,
          1,
          0,
          1,
          3,
          2,
          1,
          4,
          2,
          4,
          4,
          1,
          2,
          3,
          4,
          4,
          2,
          2,
          0,
          4,
          1,
          1,
          4,
          2,
          4,
          0,
          4,
          3,
          3,
          4,
          1,
          1,
          4,
          4,
          3,
          0,
          0,
          0,
          4,
          1,
          2,
          0,
          3,
          4,
          4,
          4,
          0,
          0,
          0,
          3,
          1,
          4,
          4,
          3,
          0,
          4,
          3,
          0,
          0,
          1,
          3,
          4,
          1,
          3,
          4,
          0,
          1,
          4,
          3,
          1,
          4,
          4,
          0,
          0,
          4,
          3,
          4,
          1,
          4,
          3,
          1,
          4,
          4,
          4,
          4,
          4,
          2,
          1,
          4,
          4,
          4,
          4,
          4,
          4
         ],
         "x0": " ",
         "xaxis": "x",
         "y": [
          0.6796767843836036,
          0.2814337017323566,
          0.16797667342799188,
          0.5900732821047698,
          0.49875126495361877,
          0.4175329614604463,
          0.3635004145336295,
          0.32822698723486843,
          0.4576070191007438,
          0.5930045824695926,
          0.41268227314436745,
          0.2550073801072153,
          0.25226513019000707,
          0.2912581699346405,
          0.478934246112238,
          0.27225284941562833,
          0.5987435203966643,
          -0.01652827079107505,
          0.5586438143264969,
          0.3017414940113977,
          0.35033644384477935,
          0.6591376493125987,
          0.23215982082488168,
          0.572391748366013,
          0.31913979628102346,
          0.44155653778974013,
          0.4442535060001012,
          0.16599740111561867,
          0.23878042596348886,
          0.43360871647509586,
          0.46175664949888,
          0.3187788261856467,
          0.3196557358575614,
          0.32662060513860713,
          0.5411542849898581,
          null,
          0.2814612131570381,
          null,
          0.3777188138186309,
          0.03907834685598378,
          0.09432752986251972,
          0.21990201225273487,
          0.2889146070925356,
          0.33634001014198783,
          0.4837105891207058,
          null,
          0.2437845109308091,
          0.4686202514211304,
          0.2724405566824431,
          0.4280319060095302,
          0.2942414034579349,
          0.27711309901115616,
          0.4853712390128465,
          0.25139452332657203,
          0.5045167761788623,
          0.30964756592292086,
          0.21927219163527478,
          0.2635864017541883,
          0.29834178498985797,
          0.5641290567951318,
          0.24049324471167777,
          0.3522461786438713,
          0.5178937415483436,
          null,
          0.2731084589008017,
          null,
          null,
          0.2963821124714254,
          0.16675118323191346,
          0.09834106056215589,
          0.18521805273833675,
          0.5487886021865643,
          0.2507888212756367,
          0.5245320649811649,
          0.12197551434366848,
          0.1958077142494929,
          0.2913046540455262,
          0.031947261663286,
          0.4064403143289984,
          0.40679382385137963,
          0.31638776200135227,
          0.27431083784088345,
          null,
          0.6069979716024341,
          0.19888109006865345,
          null,
          0.4239881523518806,
          0.3132965308968415,
          0.3249181916540563,
          0.2907807519559548,
          0.5116854716024342,
          0.3311427457117905,
          0.2319758155323599,
          0.35249746450304265,
          0.44646932048681537,
          0.4457830971229488,
          0.1440373563218391,
          null,
          0.1774043130183108,
          0.21042037504657032,
          0.49886080141615163,
          0.24811123084291187,
          0.3132817782285328,
          0.3874239350912779,
          0.6468704924498535,
          0.2801691270377883,
          0.2821469320486816,
          0.22345683064892624
         ],
         "y0": " ",
         "yaxis": "y"
        }
       ],
       "layout": {
        "boxmode": "group",
        "legend": {
         "tracegroupgap": 0
        },
        "margin": {
         "t": 60
        },
        "template": {
         "data": {
          "bar": [
           {
            "error_x": {
             "color": "#2a3f5f"
            },
            "error_y": {
             "color": "#2a3f5f"
            },
            "marker": {
             "line": {
              "color": "#E5ECF6",
              "width": 0.5
             },
             "pattern": {
              "fillmode": "overlay",
              "size": 10,
              "solidity": 0.2
             }
            },
            "type": "bar"
           }
          ],
          "barpolar": [
           {
            "marker": {
             "line": {
              "color": "#E5ECF6",
              "width": 0.5
             },
             "pattern": {
              "fillmode": "overlay",
              "size": 10,
              "solidity": 0.2
             }
            },
            "type": "barpolar"
           }
          ],
          "carpet": [
           {
            "aaxis": {
             "endlinecolor": "#2a3f5f",
             "gridcolor": "white",
             "linecolor": "white",
             "minorgridcolor": "white",
             "startlinecolor": "#2a3f5f"
            },
            "baxis": {
             "endlinecolor": "#2a3f5f",
             "gridcolor": "white",
             "linecolor": "white",
             "minorgridcolor": "white",
             "startlinecolor": "#2a3f5f"
            },
            "type": "carpet"
           }
          ],
          "choropleth": [
           {
            "colorbar": {
             "outlinewidth": 0,
             "ticks": ""
            },
            "type": "choropleth"
           }
          ],
          "contour": [
           {
            "colorbar": {
             "outlinewidth": 0,
             "ticks": ""
            },
            "colorscale": [
             [
              0,
              "#0d0887"
             ],
             [
              0.1111111111111111,
              "#46039f"
             ],
             [
              0.2222222222222222,
              "#7201a8"
             ],
             [
              0.3333333333333333,
              "#9c179e"
             ],
             [
              0.4444444444444444,
              "#bd3786"
             ],
             [
              0.5555555555555556,
              "#d8576b"
             ],
             [
              0.6666666666666666,
              "#ed7953"
             ],
             [
              0.7777777777777778,
              "#fb9f3a"
             ],
             [
              0.8888888888888888,
              "#fdca26"
             ],
             [
              1,
              "#f0f921"
             ]
            ],
            "type": "contour"
           }
          ],
          "contourcarpet": [
           {
            "colorbar": {
             "outlinewidth": 0,
             "ticks": ""
            },
            "type": "contourcarpet"
           }
          ],
          "heatmap": [
           {
            "colorbar": {
             "outlinewidth": 0,
             "ticks": ""
            },
            "colorscale": [
             [
              0,
              "#0d0887"
             ],
             [
              0.1111111111111111,
              "#46039f"
             ],
             [
              0.2222222222222222,
              "#7201a8"
             ],
             [
              0.3333333333333333,
              "#9c179e"
             ],
             [
              0.4444444444444444,
              "#bd3786"
             ],
             [
              0.5555555555555556,
              "#d8576b"
             ],
             [
              0.6666666666666666,
              "#ed7953"
             ],
             [
              0.7777777777777778,
              "#fb9f3a"
             ],
             [
              0.8888888888888888,
              "#fdca26"
             ],
             [
              1,
              "#f0f921"
             ]
            ],
            "type": "heatmap"
           }
          ],
          "heatmapgl": [
           {
            "colorbar": {
             "outlinewidth": 0,
             "ticks": ""
            },
            "colorscale": [
             [
              0,
              "#0d0887"
             ],
             [
              0.1111111111111111,
              "#46039f"
             ],
             [
              0.2222222222222222,
              "#7201a8"
             ],
             [
              0.3333333333333333,
              "#9c179e"
             ],
             [
              0.4444444444444444,
              "#bd3786"
             ],
             [
              0.5555555555555556,
              "#d8576b"
             ],
             [
              0.6666666666666666,
              "#ed7953"
             ],
             [
              0.7777777777777778,
              "#fb9f3a"
             ],
             [
              0.8888888888888888,
              "#fdca26"
             ],
             [
              1,
              "#f0f921"
             ]
            ],
            "type": "heatmapgl"
           }
          ],
          "histogram": [
           {
            "marker": {
             "pattern": {
              "fillmode": "overlay",
              "size": 10,
              "solidity": 0.2
             }
            },
            "type": "histogram"
           }
          ],
          "histogram2d": [
           {
            "colorbar": {
             "outlinewidth": 0,
             "ticks": ""
            },
            "colorscale": [
             [
              0,
              "#0d0887"
             ],
             [
              0.1111111111111111,
              "#46039f"
             ],
             [
              0.2222222222222222,
              "#7201a8"
             ],
             [
              0.3333333333333333,
              "#9c179e"
             ],
             [
              0.4444444444444444,
              "#bd3786"
             ],
             [
              0.5555555555555556,
              "#d8576b"
             ],
             [
              0.6666666666666666,
              "#ed7953"
             ],
             [
              0.7777777777777778,
              "#fb9f3a"
             ],
             [
              0.8888888888888888,
              "#fdca26"
             ],
             [
              1,
              "#f0f921"
             ]
            ],
            "type": "histogram2d"
           }
          ],
          "histogram2dcontour": [
           {
            "colorbar": {
             "outlinewidth": 0,
             "ticks": ""
            },
            "colorscale": [
             [
              0,
              "#0d0887"
             ],
             [
              0.1111111111111111,
              "#46039f"
             ],
             [
              0.2222222222222222,
              "#7201a8"
             ],
             [
              0.3333333333333333,
              "#9c179e"
             ],
             [
              0.4444444444444444,
              "#bd3786"
             ],
             [
              0.5555555555555556,
              "#d8576b"
             ],
             [
              0.6666666666666666,
              "#ed7953"
             ],
             [
              0.7777777777777778,
              "#fb9f3a"
             ],
             [
              0.8888888888888888,
              "#fdca26"
             ],
             [
              1,
              "#f0f921"
             ]
            ],
            "type": "histogram2dcontour"
           }
          ],
          "mesh3d": [
           {
            "colorbar": {
             "outlinewidth": 0,
             "ticks": ""
            },
            "type": "mesh3d"
           }
          ],
          "parcoords": [
           {
            "line": {
             "colorbar": {
              "outlinewidth": 0,
              "ticks": ""
             }
            },
            "type": "parcoords"
           }
          ],
          "pie": [
           {
            "automargin": true,
            "type": "pie"
           }
          ],
          "scatter": [
           {
            "fillpattern": {
             "fillmode": "overlay",
             "size": 10,
             "solidity": 0.2
            },
            "type": "scatter"
           }
          ],
          "scatter3d": [
           {
            "line": {
             "colorbar": {
              "outlinewidth": 0,
              "ticks": ""
             }
            },
            "marker": {
             "colorbar": {
              "outlinewidth": 0,
              "ticks": ""
             }
            },
            "type": "scatter3d"
           }
          ],
          "scattercarpet": [
           {
            "marker": {
             "colorbar": {
              "outlinewidth": 0,
              "ticks": ""
             }
            },
            "type": "scattercarpet"
           }
          ],
          "scattergeo": [
           {
            "marker": {
             "colorbar": {
              "outlinewidth": 0,
              "ticks": ""
             }
            },
            "type": "scattergeo"
           }
          ],
          "scattergl": [
           {
            "marker": {
             "colorbar": {
              "outlinewidth": 0,
              "ticks": ""
             }
            },
            "type": "scattergl"
           }
          ],
          "scattermapbox": [
           {
            "marker": {
             "colorbar": {
              "outlinewidth": 0,
              "ticks": ""
             }
            },
            "type": "scattermapbox"
           }
          ],
          "scatterpolar": [
           {
            "marker": {
             "colorbar": {
              "outlinewidth": 0,
              "ticks": ""
             }
            },
            "type": "scatterpolar"
           }
          ],
          "scatterpolargl": [
           {
            "marker": {
             "colorbar": {
              "outlinewidth": 0,
              "ticks": ""
             }
            },
            "type": "scatterpolargl"
           }
          ],
          "scatterternary": [
           {
            "marker": {
             "colorbar": {
              "outlinewidth": 0,
              "ticks": ""
             }
            },
            "type": "scatterternary"
           }
          ],
          "surface": [
           {
            "colorbar": {
             "outlinewidth": 0,
             "ticks": ""
            },
            "colorscale": [
             [
              0,
              "#0d0887"
             ],
             [
              0.1111111111111111,
              "#46039f"
             ],
             [
              0.2222222222222222,
              "#7201a8"
             ],
             [
              0.3333333333333333,
              "#9c179e"
             ],
             [
              0.4444444444444444,
              "#bd3786"
             ],
             [
              0.5555555555555556,
              "#d8576b"
             ],
             [
              0.6666666666666666,
              "#ed7953"
             ],
             [
              0.7777777777777778,
              "#fb9f3a"
             ],
             [
              0.8888888888888888,
              "#fdca26"
             ],
             [
              1,
              "#f0f921"
             ]
            ],
            "type": "surface"
           }
          ],
          "table": [
           {
            "cells": {
             "fill": {
              "color": "#EBF0F8"
             },
             "line": {
              "color": "white"
             }
            },
            "header": {
             "fill": {
              "color": "#C8D4E3"
             },
             "line": {
              "color": "white"
             }
            },
            "type": "table"
           }
          ]
         },
         "layout": {
          "annotationdefaults": {
           "arrowcolor": "#2a3f5f",
           "arrowhead": 0,
           "arrowwidth": 1
          },
          "autotypenumbers": "strict",
          "coloraxis": {
           "colorbar": {
            "outlinewidth": 0,
            "ticks": ""
           }
          },
          "colorscale": {
           "diverging": [
            [
             0,
             "#8e0152"
            ],
            [
             0.1,
             "#c51b7d"
            ],
            [
             0.2,
             "#de77ae"
            ],
            [
             0.3,
             "#f1b6da"
            ],
            [
             0.4,
             "#fde0ef"
            ],
            [
             0.5,
             "#f7f7f7"
            ],
            [
             0.6,
             "#e6f5d0"
            ],
            [
             0.7,
             "#b8e186"
            ],
            [
             0.8,
             "#7fbc41"
            ],
            [
             0.9,
             "#4d9221"
            ],
            [
             1,
             "#276419"
            ]
           ],
           "sequential": [
            [
             0,
             "#0d0887"
            ],
            [
             0.1111111111111111,
             "#46039f"
            ],
            [
             0.2222222222222222,
             "#7201a8"
            ],
            [
             0.3333333333333333,
             "#9c179e"
            ],
            [
             0.4444444444444444,
             "#bd3786"
            ],
            [
             0.5555555555555556,
             "#d8576b"
            ],
            [
             0.6666666666666666,
             "#ed7953"
            ],
            [
             0.7777777777777778,
             "#fb9f3a"
            ],
            [
             0.8888888888888888,
             "#fdca26"
            ],
            [
             1,
             "#f0f921"
            ]
           ],
           "sequentialminus": [
            [
             0,
             "#0d0887"
            ],
            [
             0.1111111111111111,
             "#46039f"
            ],
            [
             0.2222222222222222,
             "#7201a8"
            ],
            [
             0.3333333333333333,
             "#9c179e"
            ],
            [
             0.4444444444444444,
             "#bd3786"
            ],
            [
             0.5555555555555556,
             "#d8576b"
            ],
            [
             0.6666666666666666,
             "#ed7953"
            ],
            [
             0.7777777777777778,
             "#fb9f3a"
            ],
            [
             0.8888888888888888,
             "#fdca26"
            ],
            [
             1,
             "#f0f921"
            ]
           ]
          },
          "colorway": [
           "#636efa",
           "#EF553B",
           "#00cc96",
           "#ab63fa",
           "#FFA15A",
           "#19d3f3",
           "#FF6692",
           "#B6E880",
           "#FF97FF",
           "#FECB52"
          ],
          "font": {
           "color": "#2a3f5f"
          },
          "geo": {
           "bgcolor": "white",
           "lakecolor": "white",
           "landcolor": "#E5ECF6",
           "showlakes": true,
           "showland": true,
           "subunitcolor": "white"
          },
          "hoverlabel": {
           "align": "left"
          },
          "hovermode": "closest",
          "mapbox": {
           "style": "light"
          },
          "paper_bgcolor": "white",
          "plot_bgcolor": "#E5ECF6",
          "polar": {
           "angularaxis": {
            "gridcolor": "white",
            "linecolor": "white",
            "ticks": ""
           },
           "bgcolor": "#E5ECF6",
           "radialaxis": {
            "gridcolor": "white",
            "linecolor": "white",
            "ticks": ""
           }
          },
          "scene": {
           "xaxis": {
            "backgroundcolor": "#E5ECF6",
            "gridcolor": "white",
            "gridwidth": 2,
            "linecolor": "white",
            "showbackground": true,
            "ticks": "",
            "zerolinecolor": "white"
           },
           "yaxis": {
            "backgroundcolor": "#E5ECF6",
            "gridcolor": "white",
            "gridwidth": 2,
            "linecolor": "white",
            "showbackground": true,
            "ticks": "",
            "zerolinecolor": "white"
           },
           "zaxis": {
            "backgroundcolor": "#E5ECF6",
            "gridcolor": "white",
            "gridwidth": 2,
            "linecolor": "white",
            "showbackground": true,
            "ticks": "",
            "zerolinecolor": "white"
           }
          },
          "shapedefaults": {
           "line": {
            "color": "#2a3f5f"
           }
          },
          "ternary": {
           "aaxis": {
            "gridcolor": "white",
            "linecolor": "white",
            "ticks": ""
           },
           "baxis": {
            "gridcolor": "white",
            "linecolor": "white",
            "ticks": ""
           },
           "bgcolor": "#E5ECF6",
           "caxis": {
            "gridcolor": "white",
            "linecolor": "white",
            "ticks": ""
           }
          },
          "title": {
           "x": 0.05
          },
          "xaxis": {
           "automargin": true,
           "gridcolor": "white",
           "linecolor": "white",
           "ticks": "",
           "title": {
            "standoff": 15
           },
           "zerolinecolor": "white",
           "zerolinewidth": 2
          },
          "yaxis": {
           "automargin": true,
           "gridcolor": "white",
           "linecolor": "white",
           "ticks": "",
           "title": {
            "standoff": 15
           },
           "zerolinecolor": "white",
           "zerolinewidth": 2
          }
         }
        },
        "xaxis": {
         "anchor": "y",
         "domain": [
          0,
          1
         ],
         "title": {
          "text": "idea_topic"
         }
        },
        "yaxis": {
         "anchor": "x",
         "domain": [
          0,
          1
         ],
         "title": {
          "text": "balanced_score"
         }
        }
       }
      }
     },
     "metadata": {},
     "output_type": "display_data"
    }
   ],
   "source": [
    "px.box(df, x=\"idea_topic\", y=\"balanced_score\")"
   ]
  },
  {
   "cell_type": "markdown",
   "metadata": {},
   "source": [
    "Here's a histogram of all the topics, you can clearly see that topic 4 has the most ideas submitted"
   ]
  },
  {
   "cell_type": "code",
   "execution_count": 222,
   "metadata": {},
   "outputs": [
    {
     "data": {
      "application/vnd.plotly.v1+json": {
       "config": {
        "plotlyServerURL": "https://plot.ly"
       },
       "data": [
        {
         "alignmentgroup": "True",
         "bingroup": "x",
         "hovertemplate": "variable=idea_topic<br>value=%{x}<br>count=%{y}<extra></extra>",
         "legendgroup": "idea_topic",
         "marker": {
          "color": "#636efa",
          "pattern": {
           "shape": ""
          }
         },
         "name": "idea_topic",
         "offsetgroup": "idea_topic",
         "orientation": "v",
         "showlegend": true,
         "type": "histogram",
         "x": [
          2,
          4,
          3,
          4,
          3,
          4,
          2,
          4,
          3,
          2,
          1,
          2,
          4,
          1,
          1,
          1,
          0,
          1,
          3,
          2,
          1,
          4,
          2,
          4,
          4,
          1,
          2,
          3,
          4,
          4,
          2,
          2,
          0,
          4,
          1,
          1,
          4,
          2,
          4,
          0,
          4,
          3,
          3,
          4,
          1,
          1,
          4,
          4,
          3,
          0,
          0,
          0,
          4,
          1,
          2,
          0,
          3,
          4,
          4,
          4,
          0,
          0,
          0,
          3,
          1,
          4,
          4,
          3,
          0,
          4,
          3,
          0,
          0,
          1,
          3,
          4,
          1,
          3,
          4,
          0,
          1,
          4,
          3,
          1,
          4,
          4,
          0,
          0,
          4,
          3,
          4,
          1,
          4,
          3,
          1,
          4,
          4,
          4,
          4,
          4,
          2,
          1,
          4,
          4,
          4,
          4,
          4,
          4
         ],
         "xaxis": "x",
         "yaxis": "y"
        }
       ],
       "layout": {
        "barmode": "relative",
        "legend": {
         "title": {
          "text": "variable"
         },
         "tracegroupgap": 0
        },
        "margin": {
         "t": 60
        },
        "template": {
         "data": {
          "bar": [
           {
            "error_x": {
             "color": "#2a3f5f"
            },
            "error_y": {
             "color": "#2a3f5f"
            },
            "marker": {
             "line": {
              "color": "#E5ECF6",
              "width": 0.5
             },
             "pattern": {
              "fillmode": "overlay",
              "size": 10,
              "solidity": 0.2
             }
            },
            "type": "bar"
           }
          ],
          "barpolar": [
           {
            "marker": {
             "line": {
              "color": "#E5ECF6",
              "width": 0.5
             },
             "pattern": {
              "fillmode": "overlay",
              "size": 10,
              "solidity": 0.2
             }
            },
            "type": "barpolar"
           }
          ],
          "carpet": [
           {
            "aaxis": {
             "endlinecolor": "#2a3f5f",
             "gridcolor": "white",
             "linecolor": "white",
             "minorgridcolor": "white",
             "startlinecolor": "#2a3f5f"
            },
            "baxis": {
             "endlinecolor": "#2a3f5f",
             "gridcolor": "white",
             "linecolor": "white",
             "minorgridcolor": "white",
             "startlinecolor": "#2a3f5f"
            },
            "type": "carpet"
           }
          ],
          "choropleth": [
           {
            "colorbar": {
             "outlinewidth": 0,
             "ticks": ""
            },
            "type": "choropleth"
           }
          ],
          "contour": [
           {
            "colorbar": {
             "outlinewidth": 0,
             "ticks": ""
            },
            "colorscale": [
             [
              0,
              "#0d0887"
             ],
             [
              0.1111111111111111,
              "#46039f"
             ],
             [
              0.2222222222222222,
              "#7201a8"
             ],
             [
              0.3333333333333333,
              "#9c179e"
             ],
             [
              0.4444444444444444,
              "#bd3786"
             ],
             [
              0.5555555555555556,
              "#d8576b"
             ],
             [
              0.6666666666666666,
              "#ed7953"
             ],
             [
              0.7777777777777778,
              "#fb9f3a"
             ],
             [
              0.8888888888888888,
              "#fdca26"
             ],
             [
              1,
              "#f0f921"
             ]
            ],
            "type": "contour"
           }
          ],
          "contourcarpet": [
           {
            "colorbar": {
             "outlinewidth": 0,
             "ticks": ""
            },
            "type": "contourcarpet"
           }
          ],
          "heatmap": [
           {
            "colorbar": {
             "outlinewidth": 0,
             "ticks": ""
            },
            "colorscale": [
             [
              0,
              "#0d0887"
             ],
             [
              0.1111111111111111,
              "#46039f"
             ],
             [
              0.2222222222222222,
              "#7201a8"
             ],
             [
              0.3333333333333333,
              "#9c179e"
             ],
             [
              0.4444444444444444,
              "#bd3786"
             ],
             [
              0.5555555555555556,
              "#d8576b"
             ],
             [
              0.6666666666666666,
              "#ed7953"
             ],
             [
              0.7777777777777778,
              "#fb9f3a"
             ],
             [
              0.8888888888888888,
              "#fdca26"
             ],
             [
              1,
              "#f0f921"
             ]
            ],
            "type": "heatmap"
           }
          ],
          "heatmapgl": [
           {
            "colorbar": {
             "outlinewidth": 0,
             "ticks": ""
            },
            "colorscale": [
             [
              0,
              "#0d0887"
             ],
             [
              0.1111111111111111,
              "#46039f"
             ],
             [
              0.2222222222222222,
              "#7201a8"
             ],
             [
              0.3333333333333333,
              "#9c179e"
             ],
             [
              0.4444444444444444,
              "#bd3786"
             ],
             [
              0.5555555555555556,
              "#d8576b"
             ],
             [
              0.6666666666666666,
              "#ed7953"
             ],
             [
              0.7777777777777778,
              "#fb9f3a"
             ],
             [
              0.8888888888888888,
              "#fdca26"
             ],
             [
              1,
              "#f0f921"
             ]
            ],
            "type": "heatmapgl"
           }
          ],
          "histogram": [
           {
            "marker": {
             "pattern": {
              "fillmode": "overlay",
              "size": 10,
              "solidity": 0.2
             }
            },
            "type": "histogram"
           }
          ],
          "histogram2d": [
           {
            "colorbar": {
             "outlinewidth": 0,
             "ticks": ""
            },
            "colorscale": [
             [
              0,
              "#0d0887"
             ],
             [
              0.1111111111111111,
              "#46039f"
             ],
             [
              0.2222222222222222,
              "#7201a8"
             ],
             [
              0.3333333333333333,
              "#9c179e"
             ],
             [
              0.4444444444444444,
              "#bd3786"
             ],
             [
              0.5555555555555556,
              "#d8576b"
             ],
             [
              0.6666666666666666,
              "#ed7953"
             ],
             [
              0.7777777777777778,
              "#fb9f3a"
             ],
             [
              0.8888888888888888,
              "#fdca26"
             ],
             [
              1,
              "#f0f921"
             ]
            ],
            "type": "histogram2d"
           }
          ],
          "histogram2dcontour": [
           {
            "colorbar": {
             "outlinewidth": 0,
             "ticks": ""
            },
            "colorscale": [
             [
              0,
              "#0d0887"
             ],
             [
              0.1111111111111111,
              "#46039f"
             ],
             [
              0.2222222222222222,
              "#7201a8"
             ],
             [
              0.3333333333333333,
              "#9c179e"
             ],
             [
              0.4444444444444444,
              "#bd3786"
             ],
             [
              0.5555555555555556,
              "#d8576b"
             ],
             [
              0.6666666666666666,
              "#ed7953"
             ],
             [
              0.7777777777777778,
              "#fb9f3a"
             ],
             [
              0.8888888888888888,
              "#fdca26"
             ],
             [
              1,
              "#f0f921"
             ]
            ],
            "type": "histogram2dcontour"
           }
          ],
          "mesh3d": [
           {
            "colorbar": {
             "outlinewidth": 0,
             "ticks": ""
            },
            "type": "mesh3d"
           }
          ],
          "parcoords": [
           {
            "line": {
             "colorbar": {
              "outlinewidth": 0,
              "ticks": ""
             }
            },
            "type": "parcoords"
           }
          ],
          "pie": [
           {
            "automargin": true,
            "type": "pie"
           }
          ],
          "scatter": [
           {
            "fillpattern": {
             "fillmode": "overlay",
             "size": 10,
             "solidity": 0.2
            },
            "type": "scatter"
           }
          ],
          "scatter3d": [
           {
            "line": {
             "colorbar": {
              "outlinewidth": 0,
              "ticks": ""
             }
            },
            "marker": {
             "colorbar": {
              "outlinewidth": 0,
              "ticks": ""
             }
            },
            "type": "scatter3d"
           }
          ],
          "scattercarpet": [
           {
            "marker": {
             "colorbar": {
              "outlinewidth": 0,
              "ticks": ""
             }
            },
            "type": "scattercarpet"
           }
          ],
          "scattergeo": [
           {
            "marker": {
             "colorbar": {
              "outlinewidth": 0,
              "ticks": ""
             }
            },
            "type": "scattergeo"
           }
          ],
          "scattergl": [
           {
            "marker": {
             "colorbar": {
              "outlinewidth": 0,
              "ticks": ""
             }
            },
            "type": "scattergl"
           }
          ],
          "scattermapbox": [
           {
            "marker": {
             "colorbar": {
              "outlinewidth": 0,
              "ticks": ""
             }
            },
            "type": "scattermapbox"
           }
          ],
          "scatterpolar": [
           {
            "marker": {
             "colorbar": {
              "outlinewidth": 0,
              "ticks": ""
             }
            },
            "type": "scatterpolar"
           }
          ],
          "scatterpolargl": [
           {
            "marker": {
             "colorbar": {
              "outlinewidth": 0,
              "ticks": ""
             }
            },
            "type": "scatterpolargl"
           }
          ],
          "scatterternary": [
           {
            "marker": {
             "colorbar": {
              "outlinewidth": 0,
              "ticks": ""
             }
            },
            "type": "scatterternary"
           }
          ],
          "surface": [
           {
            "colorbar": {
             "outlinewidth": 0,
             "ticks": ""
            },
            "colorscale": [
             [
              0,
              "#0d0887"
             ],
             [
              0.1111111111111111,
              "#46039f"
             ],
             [
              0.2222222222222222,
              "#7201a8"
             ],
             [
              0.3333333333333333,
              "#9c179e"
             ],
             [
              0.4444444444444444,
              "#bd3786"
             ],
             [
              0.5555555555555556,
              "#d8576b"
             ],
             [
              0.6666666666666666,
              "#ed7953"
             ],
             [
              0.7777777777777778,
              "#fb9f3a"
             ],
             [
              0.8888888888888888,
              "#fdca26"
             ],
             [
              1,
              "#f0f921"
             ]
            ],
            "type": "surface"
           }
          ],
          "table": [
           {
            "cells": {
             "fill": {
              "color": "#EBF0F8"
             },
             "line": {
              "color": "white"
             }
            },
            "header": {
             "fill": {
              "color": "#C8D4E3"
             },
             "line": {
              "color": "white"
             }
            },
            "type": "table"
           }
          ]
         },
         "layout": {
          "annotationdefaults": {
           "arrowcolor": "#2a3f5f",
           "arrowhead": 0,
           "arrowwidth": 1
          },
          "autotypenumbers": "strict",
          "coloraxis": {
           "colorbar": {
            "outlinewidth": 0,
            "ticks": ""
           }
          },
          "colorscale": {
           "diverging": [
            [
             0,
             "#8e0152"
            ],
            [
             0.1,
             "#c51b7d"
            ],
            [
             0.2,
             "#de77ae"
            ],
            [
             0.3,
             "#f1b6da"
            ],
            [
             0.4,
             "#fde0ef"
            ],
            [
             0.5,
             "#f7f7f7"
            ],
            [
             0.6,
             "#e6f5d0"
            ],
            [
             0.7,
             "#b8e186"
            ],
            [
             0.8,
             "#7fbc41"
            ],
            [
             0.9,
             "#4d9221"
            ],
            [
             1,
             "#276419"
            ]
           ],
           "sequential": [
            [
             0,
             "#0d0887"
            ],
            [
             0.1111111111111111,
             "#46039f"
            ],
            [
             0.2222222222222222,
             "#7201a8"
            ],
            [
             0.3333333333333333,
             "#9c179e"
            ],
            [
             0.4444444444444444,
             "#bd3786"
            ],
            [
             0.5555555555555556,
             "#d8576b"
            ],
            [
             0.6666666666666666,
             "#ed7953"
            ],
            [
             0.7777777777777778,
             "#fb9f3a"
            ],
            [
             0.8888888888888888,
             "#fdca26"
            ],
            [
             1,
             "#f0f921"
            ]
           ],
           "sequentialminus": [
            [
             0,
             "#0d0887"
            ],
            [
             0.1111111111111111,
             "#46039f"
            ],
            [
             0.2222222222222222,
             "#7201a8"
            ],
            [
             0.3333333333333333,
             "#9c179e"
            ],
            [
             0.4444444444444444,
             "#bd3786"
            ],
            [
             0.5555555555555556,
             "#d8576b"
            ],
            [
             0.6666666666666666,
             "#ed7953"
            ],
            [
             0.7777777777777778,
             "#fb9f3a"
            ],
            [
             0.8888888888888888,
             "#fdca26"
            ],
            [
             1,
             "#f0f921"
            ]
           ]
          },
          "colorway": [
           "#636efa",
           "#EF553B",
           "#00cc96",
           "#ab63fa",
           "#FFA15A",
           "#19d3f3",
           "#FF6692",
           "#B6E880",
           "#FF97FF",
           "#FECB52"
          ],
          "font": {
           "color": "#2a3f5f"
          },
          "geo": {
           "bgcolor": "white",
           "lakecolor": "white",
           "landcolor": "#E5ECF6",
           "showlakes": true,
           "showland": true,
           "subunitcolor": "white"
          },
          "hoverlabel": {
           "align": "left"
          },
          "hovermode": "closest",
          "mapbox": {
           "style": "light"
          },
          "paper_bgcolor": "white",
          "plot_bgcolor": "#E5ECF6",
          "polar": {
           "angularaxis": {
            "gridcolor": "white",
            "linecolor": "white",
            "ticks": ""
           },
           "bgcolor": "#E5ECF6",
           "radialaxis": {
            "gridcolor": "white",
            "linecolor": "white",
            "ticks": ""
           }
          },
          "scene": {
           "xaxis": {
            "backgroundcolor": "#E5ECF6",
            "gridcolor": "white",
            "gridwidth": 2,
            "linecolor": "white",
            "showbackground": true,
            "ticks": "",
            "zerolinecolor": "white"
           },
           "yaxis": {
            "backgroundcolor": "#E5ECF6",
            "gridcolor": "white",
            "gridwidth": 2,
            "linecolor": "white",
            "showbackground": true,
            "ticks": "",
            "zerolinecolor": "white"
           },
           "zaxis": {
            "backgroundcolor": "#E5ECF6",
            "gridcolor": "white",
            "gridwidth": 2,
            "linecolor": "white",
            "showbackground": true,
            "ticks": "",
            "zerolinecolor": "white"
           }
          },
          "shapedefaults": {
           "line": {
            "color": "#2a3f5f"
           }
          },
          "ternary": {
           "aaxis": {
            "gridcolor": "white",
            "linecolor": "white",
            "ticks": ""
           },
           "baxis": {
            "gridcolor": "white",
            "linecolor": "white",
            "ticks": ""
           },
           "bgcolor": "#E5ECF6",
           "caxis": {
            "gridcolor": "white",
            "linecolor": "white",
            "ticks": ""
           }
          },
          "title": {
           "x": 0.05
          },
          "xaxis": {
           "automargin": true,
           "gridcolor": "white",
           "linecolor": "white",
           "ticks": "",
           "title": {
            "standoff": 15
           },
           "zerolinecolor": "white",
           "zerolinewidth": 2
          },
          "yaxis": {
           "automargin": true,
           "gridcolor": "white",
           "linecolor": "white",
           "ticks": "",
           "title": {
            "standoff": 15
           },
           "zerolinecolor": "white",
           "zerolinewidth": 2
          }
         }
        },
        "xaxis": {
         "anchor": "y",
         "domain": [
          0,
          1
         ],
         "title": {
          "text": "value"
         }
        },
        "yaxis": {
         "anchor": "x",
         "domain": [
          0,
          1
         ],
         "title": {
          "text": "count"
         }
        }
       }
      }
     },
     "metadata": {},
     "output_type": "display_data"
    }
   ],
   "source": [
    "px.histogram(df[\"idea_topic\"])"
   ]
  },
  {
   "cell_type": "markdown",
   "metadata": {},
   "source": [
    "On the  other hand it seems like experts seem to favour topic 2 quite drastically"
   ]
  },
  {
   "cell_type": "code",
   "execution_count": 196,
   "metadata": {},
   "outputs": [
    {
     "data": {
      "application/vnd.plotly.v1+json": {
       "config": {
        "plotlyServerURL": "https://plot.ly"
       },
       "data": [
        {
         "alignmentgroup": "True",
         "hovertemplate": "idea_topic=%{x}<br>expert_selected=%{y}<extra></extra>",
         "legendgroup": "",
         "marker": {
          "color": "#636efa",
          "pattern": {
           "shape": ""
          }
         },
         "name": "",
         "offsetgroup": "",
         "orientation": "v",
         "showlegend": false,
         "textposition": "auto",
         "type": "bar",
         "x": [
          0,
          1,
          2,
          3,
          4
         ],
         "xaxis": "x",
         "y": [
          2,
          2,
          6,
          1,
          2
         ],
         "yaxis": "y"
        }
       ],
       "layout": {
        "barmode": "relative",
        "legend": {
         "tracegroupgap": 0
        },
        "margin": {
         "t": 60
        },
        "template": {
         "data": {
          "bar": [
           {
            "error_x": {
             "color": "#2a3f5f"
            },
            "error_y": {
             "color": "#2a3f5f"
            },
            "marker": {
             "line": {
              "color": "#E5ECF6",
              "width": 0.5
             },
             "pattern": {
              "fillmode": "overlay",
              "size": 10,
              "solidity": 0.2
             }
            },
            "type": "bar"
           }
          ],
          "barpolar": [
           {
            "marker": {
             "line": {
              "color": "#E5ECF6",
              "width": 0.5
             },
             "pattern": {
              "fillmode": "overlay",
              "size": 10,
              "solidity": 0.2
             }
            },
            "type": "barpolar"
           }
          ],
          "carpet": [
           {
            "aaxis": {
             "endlinecolor": "#2a3f5f",
             "gridcolor": "white",
             "linecolor": "white",
             "minorgridcolor": "white",
             "startlinecolor": "#2a3f5f"
            },
            "baxis": {
             "endlinecolor": "#2a3f5f",
             "gridcolor": "white",
             "linecolor": "white",
             "minorgridcolor": "white",
             "startlinecolor": "#2a3f5f"
            },
            "type": "carpet"
           }
          ],
          "choropleth": [
           {
            "colorbar": {
             "outlinewidth": 0,
             "ticks": ""
            },
            "type": "choropleth"
           }
          ],
          "contour": [
           {
            "colorbar": {
             "outlinewidth": 0,
             "ticks": ""
            },
            "colorscale": [
             [
              0,
              "#0d0887"
             ],
             [
              0.1111111111111111,
              "#46039f"
             ],
             [
              0.2222222222222222,
              "#7201a8"
             ],
             [
              0.3333333333333333,
              "#9c179e"
             ],
             [
              0.4444444444444444,
              "#bd3786"
             ],
             [
              0.5555555555555556,
              "#d8576b"
             ],
             [
              0.6666666666666666,
              "#ed7953"
             ],
             [
              0.7777777777777778,
              "#fb9f3a"
             ],
             [
              0.8888888888888888,
              "#fdca26"
             ],
             [
              1,
              "#f0f921"
             ]
            ],
            "type": "contour"
           }
          ],
          "contourcarpet": [
           {
            "colorbar": {
             "outlinewidth": 0,
             "ticks": ""
            },
            "type": "contourcarpet"
           }
          ],
          "heatmap": [
           {
            "colorbar": {
             "outlinewidth": 0,
             "ticks": ""
            },
            "colorscale": [
             [
              0,
              "#0d0887"
             ],
             [
              0.1111111111111111,
              "#46039f"
             ],
             [
              0.2222222222222222,
              "#7201a8"
             ],
             [
              0.3333333333333333,
              "#9c179e"
             ],
             [
              0.4444444444444444,
              "#bd3786"
             ],
             [
              0.5555555555555556,
              "#d8576b"
             ],
             [
              0.6666666666666666,
              "#ed7953"
             ],
             [
              0.7777777777777778,
              "#fb9f3a"
             ],
             [
              0.8888888888888888,
              "#fdca26"
             ],
             [
              1,
              "#f0f921"
             ]
            ],
            "type": "heatmap"
           }
          ],
          "heatmapgl": [
           {
            "colorbar": {
             "outlinewidth": 0,
             "ticks": ""
            },
            "colorscale": [
             [
              0,
              "#0d0887"
             ],
             [
              0.1111111111111111,
              "#46039f"
             ],
             [
              0.2222222222222222,
              "#7201a8"
             ],
             [
              0.3333333333333333,
              "#9c179e"
             ],
             [
              0.4444444444444444,
              "#bd3786"
             ],
             [
              0.5555555555555556,
              "#d8576b"
             ],
             [
              0.6666666666666666,
              "#ed7953"
             ],
             [
              0.7777777777777778,
              "#fb9f3a"
             ],
             [
              0.8888888888888888,
              "#fdca26"
             ],
             [
              1,
              "#f0f921"
             ]
            ],
            "type": "heatmapgl"
           }
          ],
          "histogram": [
           {
            "marker": {
             "pattern": {
              "fillmode": "overlay",
              "size": 10,
              "solidity": 0.2
             }
            },
            "type": "histogram"
           }
          ],
          "histogram2d": [
           {
            "colorbar": {
             "outlinewidth": 0,
             "ticks": ""
            },
            "colorscale": [
             [
              0,
              "#0d0887"
             ],
             [
              0.1111111111111111,
              "#46039f"
             ],
             [
              0.2222222222222222,
              "#7201a8"
             ],
             [
              0.3333333333333333,
              "#9c179e"
             ],
             [
              0.4444444444444444,
              "#bd3786"
             ],
             [
              0.5555555555555556,
              "#d8576b"
             ],
             [
              0.6666666666666666,
              "#ed7953"
             ],
             [
              0.7777777777777778,
              "#fb9f3a"
             ],
             [
              0.8888888888888888,
              "#fdca26"
             ],
             [
              1,
              "#f0f921"
             ]
            ],
            "type": "histogram2d"
           }
          ],
          "histogram2dcontour": [
           {
            "colorbar": {
             "outlinewidth": 0,
             "ticks": ""
            },
            "colorscale": [
             [
              0,
              "#0d0887"
             ],
             [
              0.1111111111111111,
              "#46039f"
             ],
             [
              0.2222222222222222,
              "#7201a8"
             ],
             [
              0.3333333333333333,
              "#9c179e"
             ],
             [
              0.4444444444444444,
              "#bd3786"
             ],
             [
              0.5555555555555556,
              "#d8576b"
             ],
             [
              0.6666666666666666,
              "#ed7953"
             ],
             [
              0.7777777777777778,
              "#fb9f3a"
             ],
             [
              0.8888888888888888,
              "#fdca26"
             ],
             [
              1,
              "#f0f921"
             ]
            ],
            "type": "histogram2dcontour"
           }
          ],
          "mesh3d": [
           {
            "colorbar": {
             "outlinewidth": 0,
             "ticks": ""
            },
            "type": "mesh3d"
           }
          ],
          "parcoords": [
           {
            "line": {
             "colorbar": {
              "outlinewidth": 0,
              "ticks": ""
             }
            },
            "type": "parcoords"
           }
          ],
          "pie": [
           {
            "automargin": true,
            "type": "pie"
           }
          ],
          "scatter": [
           {
            "fillpattern": {
             "fillmode": "overlay",
             "size": 10,
             "solidity": 0.2
            },
            "type": "scatter"
           }
          ],
          "scatter3d": [
           {
            "line": {
             "colorbar": {
              "outlinewidth": 0,
              "ticks": ""
             }
            },
            "marker": {
             "colorbar": {
              "outlinewidth": 0,
              "ticks": ""
             }
            },
            "type": "scatter3d"
           }
          ],
          "scattercarpet": [
           {
            "marker": {
             "colorbar": {
              "outlinewidth": 0,
              "ticks": ""
             }
            },
            "type": "scattercarpet"
           }
          ],
          "scattergeo": [
           {
            "marker": {
             "colorbar": {
              "outlinewidth": 0,
              "ticks": ""
             }
            },
            "type": "scattergeo"
           }
          ],
          "scattergl": [
           {
            "marker": {
             "colorbar": {
              "outlinewidth": 0,
              "ticks": ""
             }
            },
            "type": "scattergl"
           }
          ],
          "scattermapbox": [
           {
            "marker": {
             "colorbar": {
              "outlinewidth": 0,
              "ticks": ""
             }
            },
            "type": "scattermapbox"
           }
          ],
          "scatterpolar": [
           {
            "marker": {
             "colorbar": {
              "outlinewidth": 0,
              "ticks": ""
             }
            },
            "type": "scatterpolar"
           }
          ],
          "scatterpolargl": [
           {
            "marker": {
             "colorbar": {
              "outlinewidth": 0,
              "ticks": ""
             }
            },
            "type": "scatterpolargl"
           }
          ],
          "scatterternary": [
           {
            "marker": {
             "colorbar": {
              "outlinewidth": 0,
              "ticks": ""
             }
            },
            "type": "scatterternary"
           }
          ],
          "surface": [
           {
            "colorbar": {
             "outlinewidth": 0,
             "ticks": ""
            },
            "colorscale": [
             [
              0,
              "#0d0887"
             ],
             [
              0.1111111111111111,
              "#46039f"
             ],
             [
              0.2222222222222222,
              "#7201a8"
             ],
             [
              0.3333333333333333,
              "#9c179e"
             ],
             [
              0.4444444444444444,
              "#bd3786"
             ],
             [
              0.5555555555555556,
              "#d8576b"
             ],
             [
              0.6666666666666666,
              "#ed7953"
             ],
             [
              0.7777777777777778,
              "#fb9f3a"
             ],
             [
              0.8888888888888888,
              "#fdca26"
             ],
             [
              1,
              "#f0f921"
             ]
            ],
            "type": "surface"
           }
          ],
          "table": [
           {
            "cells": {
             "fill": {
              "color": "#EBF0F8"
             },
             "line": {
              "color": "white"
             }
            },
            "header": {
             "fill": {
              "color": "#C8D4E3"
             },
             "line": {
              "color": "white"
             }
            },
            "type": "table"
           }
          ]
         },
         "layout": {
          "annotationdefaults": {
           "arrowcolor": "#2a3f5f",
           "arrowhead": 0,
           "arrowwidth": 1
          },
          "autotypenumbers": "strict",
          "coloraxis": {
           "colorbar": {
            "outlinewidth": 0,
            "ticks": ""
           }
          },
          "colorscale": {
           "diverging": [
            [
             0,
             "#8e0152"
            ],
            [
             0.1,
             "#c51b7d"
            ],
            [
             0.2,
             "#de77ae"
            ],
            [
             0.3,
             "#f1b6da"
            ],
            [
             0.4,
             "#fde0ef"
            ],
            [
             0.5,
             "#f7f7f7"
            ],
            [
             0.6,
             "#e6f5d0"
            ],
            [
             0.7,
             "#b8e186"
            ],
            [
             0.8,
             "#7fbc41"
            ],
            [
             0.9,
             "#4d9221"
            ],
            [
             1,
             "#276419"
            ]
           ],
           "sequential": [
            [
             0,
             "#0d0887"
            ],
            [
             0.1111111111111111,
             "#46039f"
            ],
            [
             0.2222222222222222,
             "#7201a8"
            ],
            [
             0.3333333333333333,
             "#9c179e"
            ],
            [
             0.4444444444444444,
             "#bd3786"
            ],
            [
             0.5555555555555556,
             "#d8576b"
            ],
            [
             0.6666666666666666,
             "#ed7953"
            ],
            [
             0.7777777777777778,
             "#fb9f3a"
            ],
            [
             0.8888888888888888,
             "#fdca26"
            ],
            [
             1,
             "#f0f921"
            ]
           ],
           "sequentialminus": [
            [
             0,
             "#0d0887"
            ],
            [
             0.1111111111111111,
             "#46039f"
            ],
            [
             0.2222222222222222,
             "#7201a8"
            ],
            [
             0.3333333333333333,
             "#9c179e"
            ],
            [
             0.4444444444444444,
             "#bd3786"
            ],
            [
             0.5555555555555556,
             "#d8576b"
            ],
            [
             0.6666666666666666,
             "#ed7953"
            ],
            [
             0.7777777777777778,
             "#fb9f3a"
            ],
            [
             0.8888888888888888,
             "#fdca26"
            ],
            [
             1,
             "#f0f921"
            ]
           ]
          },
          "colorway": [
           "#636efa",
           "#EF553B",
           "#00cc96",
           "#ab63fa",
           "#FFA15A",
           "#19d3f3",
           "#FF6692",
           "#B6E880",
           "#FF97FF",
           "#FECB52"
          ],
          "font": {
           "color": "#2a3f5f"
          },
          "geo": {
           "bgcolor": "white",
           "lakecolor": "white",
           "landcolor": "#E5ECF6",
           "showlakes": true,
           "showland": true,
           "subunitcolor": "white"
          },
          "hoverlabel": {
           "align": "left"
          },
          "hovermode": "closest",
          "mapbox": {
           "style": "light"
          },
          "paper_bgcolor": "white",
          "plot_bgcolor": "#E5ECF6",
          "polar": {
           "angularaxis": {
            "gridcolor": "white",
            "linecolor": "white",
            "ticks": ""
           },
           "bgcolor": "#E5ECF6",
           "radialaxis": {
            "gridcolor": "white",
            "linecolor": "white",
            "ticks": ""
           }
          },
          "scene": {
           "xaxis": {
            "backgroundcolor": "#E5ECF6",
            "gridcolor": "white",
            "gridwidth": 2,
            "linecolor": "white",
            "showbackground": true,
            "ticks": "",
            "zerolinecolor": "white"
           },
           "yaxis": {
            "backgroundcolor": "#E5ECF6",
            "gridcolor": "white",
            "gridwidth": 2,
            "linecolor": "white",
            "showbackground": true,
            "ticks": "",
            "zerolinecolor": "white"
           },
           "zaxis": {
            "backgroundcolor": "#E5ECF6",
            "gridcolor": "white",
            "gridwidth": 2,
            "linecolor": "white",
            "showbackground": true,
            "ticks": "",
            "zerolinecolor": "white"
           }
          },
          "shapedefaults": {
           "line": {
            "color": "#2a3f5f"
           }
          },
          "ternary": {
           "aaxis": {
            "gridcolor": "white",
            "linecolor": "white",
            "ticks": ""
           },
           "baxis": {
            "gridcolor": "white",
            "linecolor": "white",
            "ticks": ""
           },
           "bgcolor": "#E5ECF6",
           "caxis": {
            "gridcolor": "white",
            "linecolor": "white",
            "ticks": ""
           }
          },
          "title": {
           "x": 0.05
          },
          "xaxis": {
           "automargin": true,
           "gridcolor": "white",
           "linecolor": "white",
           "ticks": "",
           "title": {
            "standoff": 15
           },
           "zerolinecolor": "white",
           "zerolinewidth": 2
          },
          "yaxis": {
           "automargin": true,
           "gridcolor": "white",
           "linecolor": "white",
           "ticks": "",
           "title": {
            "standoff": 15
           },
           "zerolinecolor": "white",
           "zerolinewidth": 2
          }
         }
        },
        "xaxis": {
         "anchor": "y",
         "domain": [
          0,
          1
         ],
         "title": {
          "text": "idea_topic"
         }
        },
        "yaxis": {
         "anchor": "x",
         "domain": [
          0,
          1
         ],
         "title": {
          "text": "expert_selected"
         }
        }
       }
      }
     },
     "metadata": {},
     "output_type": "display_data"
    }
   ],
   "source": [
    "count_expert_selected = (\n",
    "    df[df[\"expert_selected\"] == 1]\n",
    "    .groupby(\"idea_topic\")\n",
    "    .count()[\"expert_selected\"]\n",
    "    .to_frame()\n",
    "    .reset_index()\n",
    ")\n",
    "px.bar(count_expert_selected, x=\"idea_topic\", y=\"expert_selected\")"
   ]
  },
  {
   "cell_type": "markdown",
   "metadata": {},
   "source": [
    "## Supervised learning\n",
    "\n",
    "We transform the ideas to term frequency-inverse document frequency vectors, and then try to see\n",
    "whether we can reliably classify if an idea is going to be selected by an expert or not."
   ]
  },
  {
   "cell_type": "code",
   "execution_count": 226,
   "metadata": {},
   "outputs": [],
   "source": [
    "from sklearn.dummy import DummyClassifier\n",
    "from sklearn.ensemble import RandomForestClassifier\n",
    "\n",
    "from utils.learn import evaluate_model\n",
    "\n",
    "X = nmf_model.tf_idf.transform(df[\"idea\"])\n",
    "y = df[\"expert_selected\"].tolist()"
   ]
  },
  {
   "cell_type": "markdown",
   "metadata": {},
   "source": [
    "We test 2 models on the data:\n",
    " - DummyClassifier: A classifier that does not learn anything from the data, we use it to obtain chance level accuracy scores\n",
    " - RandomForest: An ensemble learning method that usually performs well in classification tasks and is quite robust against overfitting"
   ]
  },
  {
   "cell_type": "markdown",
   "metadata": {},
   "source": [
    "In order to evaluate whether RandomForest performs any better than a the Dummy we conduct the following simulation 500 times:\n",
    " - We shuffle the data and divide it into a training and a testing set by a random split\n",
    " - We fit the models to the training part of the dataset\n",
    " - We test the models' accuracy on data it has not seen before, thereby seeing how much it generalises"
   ]
  },
  {
   "cell_type": "code",
   "execution_count": 235,
   "metadata": {},
   "outputs": [],
   "source": [
    "n_sim=500\n",
    "dummy_accuracy = evaluate_model(\n",
    "    lambda: DummyClassifier(),\n",
    "    X,y,\n",
    "    n_sim=n_sim\n",
    ")\n",
    "rforest_accuracy = evaluate_model(\n",
    "    RandomForestClassifier,\n",
    "    X,y,\n",
    "    n_sim=n_sim\n",
    ")\n",
    "evaluation_df = pd.DataFrame({\n",
    "    \"model\": [\"Dummy\"]*n_sim+[\"RandomForest\"]*n_sim,\n",
    "    \"accuracy\": list(dummy_accuracy) + list(rforest_accuracy)\n",
    "})"
   ]
  },
  {
   "cell_type": "markdown",
   "metadata": {},
   "source": [
    "After the simulations we look at the box plot of accuracy scores to see if the two models perform significantly differently"
   ]
  },
  {
   "cell_type": "code",
   "execution_count": 236,
   "metadata": {},
   "outputs": [
    {
     "data": {
      "application/vnd.plotly.v1+json": {
       "config": {
        "plotlyServerURL": "https://plot.ly"
       },
       "data": [
        {
         "alignmentgroup": "True",
         "boxpoints": "all",
         "hovertemplate": "model=%{x}<br>accuracy=%{y}<extra></extra>",
         "legendgroup": "",
         "marker": {
          "color": "#636efa"
         },
         "name": "",
         "notched": false,
         "offsetgroup": "",
         "orientation": "v",
         "showlegend": false,
         "type": "box",
         "x": [
          "Dummy",
          "Dummy",
          "Dummy",
          "Dummy",
          "Dummy",
          "Dummy",
          "Dummy",
          "Dummy",
          "Dummy",
          "Dummy",
          "Dummy",
          "Dummy",
          "Dummy",
          "Dummy",
          "Dummy",
          "Dummy",
          "Dummy",
          "Dummy",
          "Dummy",
          "Dummy",
          "Dummy",
          "Dummy",
          "Dummy",
          "Dummy",
          "Dummy",
          "Dummy",
          "Dummy",
          "Dummy",
          "Dummy",
          "Dummy",
          "Dummy",
          "Dummy",
          "Dummy",
          "Dummy",
          "Dummy",
          "Dummy",
          "Dummy",
          "Dummy",
          "Dummy",
          "Dummy",
          "Dummy",
          "Dummy",
          "Dummy",
          "Dummy",
          "Dummy",
          "Dummy",
          "Dummy",
          "Dummy",
          "Dummy",
          "Dummy",
          "Dummy",
          "Dummy",
          "Dummy",
          "Dummy",
          "Dummy",
          "Dummy",
          "Dummy",
          "Dummy",
          "Dummy",
          "Dummy",
          "Dummy",
          "Dummy",
          "Dummy",
          "Dummy",
          "Dummy",
          "Dummy",
          "Dummy",
          "Dummy",
          "Dummy",
          "Dummy",
          "Dummy",
          "Dummy",
          "Dummy",
          "Dummy",
          "Dummy",
          "Dummy",
          "Dummy",
          "Dummy",
          "Dummy",
          "Dummy",
          "Dummy",
          "Dummy",
          "Dummy",
          "Dummy",
          "Dummy",
          "Dummy",
          "Dummy",
          "Dummy",
          "Dummy",
          "Dummy",
          "Dummy",
          "Dummy",
          "Dummy",
          "Dummy",
          "Dummy",
          "Dummy",
          "Dummy",
          "Dummy",
          "Dummy",
          "Dummy",
          "Dummy",
          "Dummy",
          "Dummy",
          "Dummy",
          "Dummy",
          "Dummy",
          "Dummy",
          "Dummy",
          "Dummy",
          "Dummy",
          "Dummy",
          "Dummy",
          "Dummy",
          "Dummy",
          "Dummy",
          "Dummy",
          "Dummy",
          "Dummy",
          "Dummy",
          "Dummy",
          "Dummy",
          "Dummy",
          "Dummy",
          "Dummy",
          "Dummy",
          "Dummy",
          "Dummy",
          "Dummy",
          "Dummy",
          "Dummy",
          "Dummy",
          "Dummy",
          "Dummy",
          "Dummy",
          "Dummy",
          "Dummy",
          "Dummy",
          "Dummy",
          "Dummy",
          "Dummy",
          "Dummy",
          "Dummy",
          "Dummy",
          "Dummy",
          "Dummy",
          "Dummy",
          "Dummy",
          "Dummy",
          "Dummy",
          "Dummy",
          "Dummy",
          "Dummy",
          "Dummy",
          "Dummy",
          "Dummy",
          "Dummy",
          "Dummy",
          "Dummy",
          "Dummy",
          "Dummy",
          "Dummy",
          "Dummy",
          "Dummy",
          "Dummy",
          "Dummy",
          "Dummy",
          "Dummy",
          "Dummy",
          "Dummy",
          "Dummy",
          "Dummy",
          "Dummy",
          "Dummy",
          "Dummy",
          "Dummy",
          "Dummy",
          "Dummy",
          "Dummy",
          "Dummy",
          "Dummy",
          "Dummy",
          "Dummy",
          "Dummy",
          "Dummy",
          "Dummy",
          "Dummy",
          "Dummy",
          "Dummy",
          "Dummy",
          "Dummy",
          "Dummy",
          "Dummy",
          "Dummy",
          "Dummy",
          "Dummy",
          "Dummy",
          "Dummy",
          "Dummy",
          "Dummy",
          "Dummy",
          "Dummy",
          "Dummy",
          "Dummy",
          "Dummy",
          "Dummy",
          "Dummy",
          "Dummy",
          "Dummy",
          "Dummy",
          "Dummy",
          "Dummy",
          "Dummy",
          "Dummy",
          "Dummy",
          "Dummy",
          "Dummy",
          "Dummy",
          "Dummy",
          "Dummy",
          "Dummy",
          "Dummy",
          "Dummy",
          "Dummy",
          "Dummy",
          "Dummy",
          "Dummy",
          "Dummy",
          "Dummy",
          "Dummy",
          "Dummy",
          "Dummy",
          "Dummy",
          "Dummy",
          "Dummy",
          "Dummy",
          "Dummy",
          "Dummy",
          "Dummy",
          "Dummy",
          "Dummy",
          "Dummy",
          "Dummy",
          "Dummy",
          "Dummy",
          "Dummy",
          "Dummy",
          "Dummy",
          "Dummy",
          "Dummy",
          "Dummy",
          "Dummy",
          "Dummy",
          "Dummy",
          "Dummy",
          "Dummy",
          "Dummy",
          "Dummy",
          "Dummy",
          "Dummy",
          "Dummy",
          "Dummy",
          "Dummy",
          "Dummy",
          "Dummy",
          "Dummy",
          "Dummy",
          "Dummy",
          "Dummy",
          "Dummy",
          "Dummy",
          "Dummy",
          "Dummy",
          "Dummy",
          "Dummy",
          "Dummy",
          "Dummy",
          "Dummy",
          "Dummy",
          "Dummy",
          "Dummy",
          "Dummy",
          "Dummy",
          "Dummy",
          "Dummy",
          "Dummy",
          "Dummy",
          "Dummy",
          "Dummy",
          "Dummy",
          "Dummy",
          "Dummy",
          "Dummy",
          "Dummy",
          "Dummy",
          "Dummy",
          "Dummy",
          "Dummy",
          "Dummy",
          "Dummy",
          "Dummy",
          "Dummy",
          "Dummy",
          "Dummy",
          "Dummy",
          "Dummy",
          "Dummy",
          "Dummy",
          "Dummy",
          "Dummy",
          "Dummy",
          "Dummy",
          "Dummy",
          "Dummy",
          "Dummy",
          "Dummy",
          "Dummy",
          "Dummy",
          "Dummy",
          "Dummy",
          "Dummy",
          "Dummy",
          "Dummy",
          "Dummy",
          "Dummy",
          "Dummy",
          "Dummy",
          "Dummy",
          "Dummy",
          "Dummy",
          "Dummy",
          "Dummy",
          "Dummy",
          "Dummy",
          "Dummy",
          "Dummy",
          "Dummy",
          "Dummy",
          "Dummy",
          "Dummy",
          "Dummy",
          "Dummy",
          "Dummy",
          "Dummy",
          "Dummy",
          "Dummy",
          "Dummy",
          "Dummy",
          "Dummy",
          "Dummy",
          "Dummy",
          "Dummy",
          "Dummy",
          "Dummy",
          "Dummy",
          "Dummy",
          "Dummy",
          "Dummy",
          "Dummy",
          "Dummy",
          "Dummy",
          "Dummy",
          "Dummy",
          "Dummy",
          "Dummy",
          "Dummy",
          "Dummy",
          "Dummy",
          "Dummy",
          "Dummy",
          "Dummy",
          "Dummy",
          "Dummy",
          "Dummy",
          "Dummy",
          "Dummy",
          "Dummy",
          "Dummy",
          "Dummy",
          "Dummy",
          "Dummy",
          "Dummy",
          "Dummy",
          "Dummy",
          "Dummy",
          "Dummy",
          "Dummy",
          "Dummy",
          "Dummy",
          "Dummy",
          "Dummy",
          "Dummy",
          "Dummy",
          "Dummy",
          "Dummy",
          "Dummy",
          "Dummy",
          "Dummy",
          "Dummy",
          "Dummy",
          "Dummy",
          "Dummy",
          "Dummy",
          "Dummy",
          "Dummy",
          "Dummy",
          "Dummy",
          "Dummy",
          "Dummy",
          "Dummy",
          "Dummy",
          "Dummy",
          "Dummy",
          "Dummy",
          "Dummy",
          "Dummy",
          "Dummy",
          "Dummy",
          "Dummy",
          "Dummy",
          "Dummy",
          "Dummy",
          "Dummy",
          "Dummy",
          "Dummy",
          "Dummy",
          "Dummy",
          "Dummy",
          "Dummy",
          "Dummy",
          "Dummy",
          "Dummy",
          "Dummy",
          "Dummy",
          "Dummy",
          "Dummy",
          "Dummy",
          "Dummy",
          "Dummy",
          "Dummy",
          "Dummy",
          "Dummy",
          "Dummy",
          "Dummy",
          "Dummy",
          "Dummy",
          "Dummy",
          "Dummy",
          "Dummy",
          "Dummy",
          "Dummy",
          "Dummy",
          "Dummy",
          "Dummy",
          "Dummy",
          "Dummy",
          "Dummy",
          "Dummy",
          "Dummy",
          "Dummy",
          "Dummy",
          "Dummy",
          "Dummy",
          "Dummy",
          "Dummy",
          "Dummy",
          "Dummy",
          "Dummy",
          "Dummy",
          "Dummy",
          "Dummy",
          "Dummy",
          "Dummy",
          "Dummy",
          "Dummy",
          "Dummy",
          "Dummy",
          "Dummy",
          "Dummy",
          "Dummy",
          "Dummy",
          "Dummy",
          "Dummy",
          "Dummy",
          "Dummy",
          "Dummy",
          "Dummy",
          "Dummy",
          "Dummy",
          "Dummy",
          "Dummy",
          "Dummy",
          "Dummy",
          "Dummy",
          "Dummy",
          "Dummy",
          "Dummy",
          "Dummy",
          "Dummy",
          "Dummy",
          "Dummy",
          "RandomForest",
          "RandomForest",
          "RandomForest",
          "RandomForest",
          "RandomForest",
          "RandomForest",
          "RandomForest",
          "RandomForest",
          "RandomForest",
          "RandomForest",
          "RandomForest",
          "RandomForest",
          "RandomForest",
          "RandomForest",
          "RandomForest",
          "RandomForest",
          "RandomForest",
          "RandomForest",
          "RandomForest",
          "RandomForest",
          "RandomForest",
          "RandomForest",
          "RandomForest",
          "RandomForest",
          "RandomForest",
          "RandomForest",
          "RandomForest",
          "RandomForest",
          "RandomForest",
          "RandomForest",
          "RandomForest",
          "RandomForest",
          "RandomForest",
          "RandomForest",
          "RandomForest",
          "RandomForest",
          "RandomForest",
          "RandomForest",
          "RandomForest",
          "RandomForest",
          "RandomForest",
          "RandomForest",
          "RandomForest",
          "RandomForest",
          "RandomForest",
          "RandomForest",
          "RandomForest",
          "RandomForest",
          "RandomForest",
          "RandomForest",
          "RandomForest",
          "RandomForest",
          "RandomForest",
          "RandomForest",
          "RandomForest",
          "RandomForest",
          "RandomForest",
          "RandomForest",
          "RandomForest",
          "RandomForest",
          "RandomForest",
          "RandomForest",
          "RandomForest",
          "RandomForest",
          "RandomForest",
          "RandomForest",
          "RandomForest",
          "RandomForest",
          "RandomForest",
          "RandomForest",
          "RandomForest",
          "RandomForest",
          "RandomForest",
          "RandomForest",
          "RandomForest",
          "RandomForest",
          "RandomForest",
          "RandomForest",
          "RandomForest",
          "RandomForest",
          "RandomForest",
          "RandomForest",
          "RandomForest",
          "RandomForest",
          "RandomForest",
          "RandomForest",
          "RandomForest",
          "RandomForest",
          "RandomForest",
          "RandomForest",
          "RandomForest",
          "RandomForest",
          "RandomForest",
          "RandomForest",
          "RandomForest",
          "RandomForest",
          "RandomForest",
          "RandomForest",
          "RandomForest",
          "RandomForest",
          "RandomForest",
          "RandomForest",
          "RandomForest",
          "RandomForest",
          "RandomForest",
          "RandomForest",
          "RandomForest",
          "RandomForest",
          "RandomForest",
          "RandomForest",
          "RandomForest",
          "RandomForest",
          "RandomForest",
          "RandomForest",
          "RandomForest",
          "RandomForest",
          "RandomForest",
          "RandomForest",
          "RandomForest",
          "RandomForest",
          "RandomForest",
          "RandomForest",
          "RandomForest",
          "RandomForest",
          "RandomForest",
          "RandomForest",
          "RandomForest",
          "RandomForest",
          "RandomForest",
          "RandomForest",
          "RandomForest",
          "RandomForest",
          "RandomForest",
          "RandomForest",
          "RandomForest",
          "RandomForest",
          "RandomForest",
          "RandomForest",
          "RandomForest",
          "RandomForest",
          "RandomForest",
          "RandomForest",
          "RandomForest",
          "RandomForest",
          "RandomForest",
          "RandomForest",
          "RandomForest",
          "RandomForest",
          "RandomForest",
          "RandomForest",
          "RandomForest",
          "RandomForest",
          "RandomForest",
          "RandomForest",
          "RandomForest",
          "RandomForest",
          "RandomForest",
          "RandomForest",
          "RandomForest",
          "RandomForest",
          "RandomForest",
          "RandomForest",
          "RandomForest",
          "RandomForest",
          "RandomForest",
          "RandomForest",
          "RandomForest",
          "RandomForest",
          "RandomForest",
          "RandomForest",
          "RandomForest",
          "RandomForest",
          "RandomForest",
          "RandomForest",
          "RandomForest",
          "RandomForest",
          "RandomForest",
          "RandomForest",
          "RandomForest",
          "RandomForest",
          "RandomForest",
          "RandomForest",
          "RandomForest",
          "RandomForest",
          "RandomForest",
          "RandomForest",
          "RandomForest",
          "RandomForest",
          "RandomForest",
          "RandomForest",
          "RandomForest",
          "RandomForest",
          "RandomForest",
          "RandomForest",
          "RandomForest",
          "RandomForest",
          "RandomForest",
          "RandomForest",
          "RandomForest",
          "RandomForest",
          "RandomForest",
          "RandomForest",
          "RandomForest",
          "RandomForest",
          "RandomForest",
          "RandomForest",
          "RandomForest",
          "RandomForest",
          "RandomForest",
          "RandomForest",
          "RandomForest",
          "RandomForest",
          "RandomForest",
          "RandomForest",
          "RandomForest",
          "RandomForest",
          "RandomForest",
          "RandomForest",
          "RandomForest",
          "RandomForest",
          "RandomForest",
          "RandomForest",
          "RandomForest",
          "RandomForest",
          "RandomForest",
          "RandomForest",
          "RandomForest",
          "RandomForest",
          "RandomForest",
          "RandomForest",
          "RandomForest",
          "RandomForest",
          "RandomForest",
          "RandomForest",
          "RandomForest",
          "RandomForest",
          "RandomForest",
          "RandomForest",
          "RandomForest",
          "RandomForest",
          "RandomForest",
          "RandomForest",
          "RandomForest",
          "RandomForest",
          "RandomForest",
          "RandomForest",
          "RandomForest",
          "RandomForest",
          "RandomForest",
          "RandomForest",
          "RandomForest",
          "RandomForest",
          "RandomForest",
          "RandomForest",
          "RandomForest",
          "RandomForest",
          "RandomForest",
          "RandomForest",
          "RandomForest",
          "RandomForest",
          "RandomForest",
          "RandomForest",
          "RandomForest",
          "RandomForest",
          "RandomForest",
          "RandomForest",
          "RandomForest",
          "RandomForest",
          "RandomForest",
          "RandomForest",
          "RandomForest",
          "RandomForest",
          "RandomForest",
          "RandomForest",
          "RandomForest",
          "RandomForest",
          "RandomForest",
          "RandomForest",
          "RandomForest",
          "RandomForest",
          "RandomForest",
          "RandomForest",
          "RandomForest",
          "RandomForest",
          "RandomForest",
          "RandomForest",
          "RandomForest",
          "RandomForest",
          "RandomForest",
          "RandomForest",
          "RandomForest",
          "RandomForest",
          "RandomForest",
          "RandomForest",
          "RandomForest",
          "RandomForest",
          "RandomForest",
          "RandomForest",
          "RandomForest",
          "RandomForest",
          "RandomForest",
          "RandomForest",
          "RandomForest",
          "RandomForest",
          "RandomForest",
          "RandomForest",
          "RandomForest",
          "RandomForest",
          "RandomForest",
          "RandomForest",
          "RandomForest",
          "RandomForest",
          "RandomForest",
          "RandomForest",
          "RandomForest",
          "RandomForest",
          "RandomForest",
          "RandomForest",
          "RandomForest",
          "RandomForest",
          "RandomForest",
          "RandomForest",
          "RandomForest",
          "RandomForest",
          "RandomForest",
          "RandomForest",
          "RandomForest",
          "RandomForest",
          "RandomForest",
          "RandomForest",
          "RandomForest",
          "RandomForest",
          "RandomForest",
          "RandomForest",
          "RandomForest",
          "RandomForest",
          "RandomForest",
          "RandomForest",
          "RandomForest",
          "RandomForest",
          "RandomForest",
          "RandomForest",
          "RandomForest",
          "RandomForest",
          "RandomForest",
          "RandomForest",
          "RandomForest",
          "RandomForest",
          "RandomForest",
          "RandomForest",
          "RandomForest",
          "RandomForest",
          "RandomForest",
          "RandomForest",
          "RandomForest",
          "RandomForest",
          "RandomForest",
          "RandomForest",
          "RandomForest",
          "RandomForest",
          "RandomForest",
          "RandomForest",
          "RandomForest",
          "RandomForest",
          "RandomForest",
          "RandomForest",
          "RandomForest",
          "RandomForest",
          "RandomForest",
          "RandomForest",
          "RandomForest",
          "RandomForest",
          "RandomForest",
          "RandomForest",
          "RandomForest",
          "RandomForest",
          "RandomForest",
          "RandomForest",
          "RandomForest",
          "RandomForest",
          "RandomForest",
          "RandomForest",
          "RandomForest",
          "RandomForest",
          "RandomForest",
          "RandomForest",
          "RandomForest",
          "RandomForest",
          "RandomForest",
          "RandomForest",
          "RandomForest",
          "RandomForest",
          "RandomForest",
          "RandomForest",
          "RandomForest",
          "RandomForest",
          "RandomForest",
          "RandomForest",
          "RandomForest",
          "RandomForest",
          "RandomForest",
          "RandomForest",
          "RandomForest",
          "RandomForest",
          "RandomForest",
          "RandomForest",
          "RandomForest",
          "RandomForest",
          "RandomForest",
          "RandomForest",
          "RandomForest",
          "RandomForest",
          "RandomForest",
          "RandomForest",
          "RandomForest",
          "RandomForest",
          "RandomForest",
          "RandomForest",
          "RandomForest",
          "RandomForest",
          "RandomForest",
          "RandomForest",
          "RandomForest",
          "RandomForest",
          "RandomForest",
          "RandomForest",
          "RandomForest",
          "RandomForest",
          "RandomForest",
          "RandomForest",
          "RandomForest",
          "RandomForest",
          "RandomForest",
          "RandomForest",
          "RandomForest",
          "RandomForest",
          "RandomForest",
          "RandomForest",
          "RandomForest",
          "RandomForest",
          "RandomForest",
          "RandomForest",
          "RandomForest",
          "RandomForest",
          "RandomForest",
          "RandomForest",
          "RandomForest",
          "RandomForest",
          "RandomForest",
          "RandomForest",
          "RandomForest",
          "RandomForest",
          "RandomForest",
          "RandomForest",
          "RandomForest",
          "RandomForest",
          "RandomForest",
          "RandomForest",
          "RandomForest",
          "RandomForest",
          "RandomForest",
          "RandomForest",
          "RandomForest",
          "RandomForest",
          "RandomForest",
          "RandomForest",
          "RandomForest",
          "RandomForest",
          "RandomForest",
          "RandomForest",
          "RandomForest",
          "RandomForest",
          "RandomForest",
          "RandomForest",
          "RandomForest",
          "RandomForest",
          "RandomForest",
          "RandomForest",
          "RandomForest",
          "RandomForest",
          "RandomForest",
          "RandomForest",
          "RandomForest",
          "RandomForest",
          "RandomForest",
          "RandomForest",
          "RandomForest",
          "RandomForest",
          "RandomForest",
          "RandomForest",
          "RandomForest",
          "RandomForest",
          "RandomForest",
          "RandomForest",
          "RandomForest",
          "RandomForest",
          "RandomForest",
          "RandomForest",
          "RandomForest",
          "RandomForest"
         ],
         "x0": " ",
         "xaxis": "x",
         "y": [
          0.8518518518518519,
          0.9259259259259259,
          0.9259259259259259,
          0.8518518518518519,
          0.8888888888888888,
          0.9259259259259259,
          0.8518518518518519,
          0.8518518518518519,
          0.9259259259259259,
          0.8518518518518519,
          0.9259259259259259,
          0.8518518518518519,
          0.8148148148148148,
          0.8888888888888888,
          0.8888888888888888,
          0.9259259259259259,
          0.8888888888888888,
          0.8518518518518519,
          0.8148148148148148,
          0.9259259259259259,
          0.7777777777777778,
          0.9259259259259259,
          0.8888888888888888,
          0.9259259259259259,
          0.8888888888888888,
          0.8518518518518519,
          0.8518518518518519,
          0.9629629629629629,
          0.9259259259259259,
          0.8888888888888888,
          0.8518518518518519,
          0.8888888888888888,
          0.9629629629629629,
          0.8888888888888888,
          0.8888888888888888,
          0.8888888888888888,
          0.8518518518518519,
          0.8518518518518519,
          0.9629629629629629,
          0.8148148148148148,
          0.8888888888888888,
          1,
          0.8518518518518519,
          0.7407407407407407,
          0.8888888888888888,
          0.8148148148148148,
          0.7777777777777778,
          0.9629629629629629,
          0.9259259259259259,
          0.9259259259259259,
          0.9629629629629629,
          0.9259259259259259,
          0.7777777777777778,
          0.9259259259259259,
          0.9259259259259259,
          0.7777777777777778,
          0.8888888888888888,
          0.8888888888888888,
          0.8518518518518519,
          0.8148148148148148,
          0.8888888888888888,
          0.9259259259259259,
          0.8888888888888888,
          0.9629629629629629,
          0.8888888888888888,
          0.9629629629629629,
          0.9629629629629629,
          0.9259259259259259,
          0.8148148148148148,
          0.8148148148148148,
          0.9259259259259259,
          0.9629629629629629,
          0.8148148148148148,
          0.8888888888888888,
          0.9259259259259259,
          0.9259259259259259,
          0.8888888888888888,
          0.8148148148148148,
          0.7777777777777778,
          0.8518518518518519,
          0.7777777777777778,
          0.8888888888888888,
          0.8518518518518519,
          0.8888888888888888,
          0.8888888888888888,
          0.8148148148148148,
          0.8518518518518519,
          0.8518518518518519,
          0.8888888888888888,
          0.9259259259259259,
          0.8518518518518519,
          0.8888888888888888,
          0.8148148148148148,
          0.8518518518518519,
          0.8518518518518519,
          0.8888888888888888,
          0.8888888888888888,
          0.9259259259259259,
          0.7407407407407407,
          0.8888888888888888,
          0.8518518518518519,
          0.8148148148148148,
          0.8888888888888888,
          0.8888888888888888,
          0.8888888888888888,
          0.9629629629629629,
          0.9259259259259259,
          0.8888888888888888,
          0.8518518518518519,
          0.8888888888888888,
          0.9259259259259259,
          0.8148148148148148,
          1,
          0.9259259259259259,
          0.7407407407407407,
          0.7777777777777778,
          0.7777777777777778,
          0.8888888888888888,
          0.8888888888888888,
          0.8518518518518519,
          0.9259259259259259,
          0.9629629629629629,
          0.8518518518518519,
          0.9259259259259259,
          0.8888888888888888,
          0.8148148148148148,
          0.9259259259259259,
          0.8148148148148148,
          0.8518518518518519,
          0.8518518518518519,
          1,
          0.9259259259259259,
          0.8888888888888888,
          0.9259259259259259,
          0.8888888888888888,
          0.8888888888888888,
          0.8888888888888888,
          0.8518518518518519,
          0.9259259259259259,
          0.8518518518518519,
          0.9629629629629629,
          0.8888888888888888,
          0.9629629629629629,
          0.8148148148148148,
          0.8888888888888888,
          0.8888888888888888,
          0.8518518518518519,
          0.9259259259259259,
          1,
          0.8148148148148148,
          0.8888888888888888,
          0.8518518518518519,
          0.8888888888888888,
          0.8888888888888888,
          0.8888888888888888,
          0.8888888888888888,
          1,
          0.8518518518518519,
          0.8148148148148148,
          0.8888888888888888,
          0.9259259259259259,
          0.8148148148148148,
          0.9259259259259259,
          0.8148148148148148,
          0.8518518518518519,
          0.9259259259259259,
          0.8888888888888888,
          0.8888888888888888,
          0.8148148148148148,
          0.8518518518518519,
          0.8518518518518519,
          0.8518518518518519,
          0.8148148148148148,
          0.8518518518518519,
          0.8148148148148148,
          0.8888888888888888,
          0.9259259259259259,
          0.8518518518518519,
          0.8518518518518519,
          0.9259259259259259,
          0.9259259259259259,
          0.8518518518518519,
          0.9629629629629629,
          0.8148148148148148,
          0.8888888888888888,
          0.9629629629629629,
          0.8888888888888888,
          0.8888888888888888,
          0.9259259259259259,
          0.8888888888888888,
          0.7777777777777778,
          0.7777777777777778,
          0.8518518518518519,
          0.8888888888888888,
          0.9629629629629629,
          0.8148148148148148,
          0.8148148148148148,
          0.8888888888888888,
          1,
          0.8518518518518519,
          0.8518518518518519,
          0.8148148148148148,
          0.8518518518518519,
          0.9259259259259259,
          0.9259259259259259,
          0.9259259259259259,
          0.8148148148148148,
          0.8888888888888888,
          0.8518518518518519,
          0.8518518518518519,
          0.8888888888888888,
          0.8148148148148148,
          0.8148148148148148,
          0.8518518518518519,
          0.9629629629629629,
          0.8888888888888888,
          0.9259259259259259,
          0.9629629629629629,
          0.8518518518518519,
          0.9629629629629629,
          0.8518518518518519,
          0.8148148148148148,
          0.8518518518518519,
          0.9259259259259259,
          0.8888888888888888,
          0.9259259259259259,
          0.8518518518518519,
          0.8888888888888888,
          0.8888888888888888,
          0.8518518518518519,
          0.9259259259259259,
          1,
          0.8518518518518519,
          1,
          0.8888888888888888,
          1,
          0.9259259259259259,
          0.8518518518518519,
          0.8518518518518519,
          0.8518518518518519,
          0.8888888888888888,
          0.9259259259259259,
          0.9259259259259259,
          0.9629629629629629,
          0.8518518518518519,
          0.9259259259259259,
          0.8888888888888888,
          0.8888888888888888,
          0.9629629629629629,
          0.9259259259259259,
          0.8518518518518519,
          0.8888888888888888,
          0.9259259259259259,
          0.8888888888888888,
          0.8888888888888888,
          0.8518518518518519,
          0.8888888888888888,
          0.9629629629629629,
          0.8518518518518519,
          0.9259259259259259,
          0.8888888888888888,
          0.8518518518518519,
          0.8148148148148148,
          0.8518518518518519,
          1,
          0.8148148148148148,
          0.8888888888888888,
          0.8518518518518519,
          0.8888888888888888,
          1,
          0.8518518518518519,
          0.9259259259259259,
          0.7777777777777778,
          0.8888888888888888,
          0.8888888888888888,
          0.9259259259259259,
          0.7777777777777778,
          0.8148148148148148,
          0.8888888888888888,
          0.9259259259259259,
          0.9259259259259259,
          0.8518518518518519,
          0.8888888888888888,
          1,
          0.8888888888888888,
          0.8518518518518519,
          0.8518518518518519,
          0.9259259259259259,
          0.8518518518518519,
          0.9259259259259259,
          0.9629629629629629,
          0.9259259259259259,
          0.9629629629629629,
          0.9259259259259259,
          0.9629629629629629,
          0.9259259259259259,
          0.9259259259259259,
          0.8148148148148148,
          1,
          0.8888888888888888,
          0.8888888888888888,
          0.9259259259259259,
          0.9629629629629629,
          0.9259259259259259,
          0.9259259259259259,
          0.8518518518518519,
          0.8888888888888888,
          0.8888888888888888,
          0.9259259259259259,
          0.8888888888888888,
          0.7777777777777778,
          0.8148148148148148,
          0.8518518518518519,
          0.9629629629629629,
          0.8518518518518519,
          0.8518518518518519,
          0.9259259259259259,
          0.9629629629629629,
          0.9259259259259259,
          0.9259259259259259,
          0.9259259259259259,
          0.8888888888888888,
          0.8148148148148148,
          0.8518518518518519,
          0.9629629629629629,
          0.8518518518518519,
          0.9259259259259259,
          0.8888888888888888,
          0.8518518518518519,
          0.7777777777777778,
          0.8888888888888888,
          0.8148148148148148,
          1,
          0.8518518518518519,
          0.8148148148148148,
          0.9259259259259259,
          1,
          0.8888888888888888,
          0.9259259259259259,
          0.9629629629629629,
          0.8518518518518519,
          0.9629629629629629,
          0.9629629629629629,
          0.8518518518518519,
          0.7777777777777778,
          0.9629629629629629,
          0.8518518518518519,
          0.8888888888888888,
          1,
          0.8888888888888888,
          0.9259259259259259,
          0.8148148148148148,
          0.8148148148148148,
          0.7777777777777778,
          0.9259259259259259,
          0.8518518518518519,
          0.8518518518518519,
          0.8148148148148148,
          0.9259259259259259,
          0.8518518518518519,
          0.8518518518518519,
          0.9629629629629629,
          0.9259259259259259,
          0.8888888888888888,
          0.8888888888888888,
          0.8518518518518519,
          0.8148148148148148,
          0.9259259259259259,
          0.8888888888888888,
          0.7407407407407407,
          0.9629629629629629,
          0.8518518518518519,
          0.9259259259259259,
          0.9259259259259259,
          0.8888888888888888,
          0.8148148148148148,
          0.8148148148148148,
          0.8888888888888888,
          1,
          0.8518518518518519,
          0.8518518518518519,
          0.8518518518518519,
          0.9259259259259259,
          0.7777777777777778,
          0.9629629629629629,
          0.8148148148148148,
          0.8518518518518519,
          0.8518518518518519,
          0.8148148148148148,
          0.8888888888888888,
          0.8888888888888888,
          0.8888888888888888,
          0.9629629629629629,
          0.9259259259259259,
          0.8518518518518519,
          0.8888888888888888,
          0.9259259259259259,
          0.9629629629629629,
          0.9629629629629629,
          0.8888888888888888,
          0.8518518518518519,
          0.8518518518518519,
          0.8888888888888888,
          0.8888888888888888,
          0.8148148148148148,
          0.8148148148148148,
          0.9259259259259259,
          0.8518518518518519,
          0.8888888888888888,
          0.9259259259259259,
          0.8518518518518519,
          0.8888888888888888,
          0.8888888888888888,
          0.8518518518518519,
          0.9629629629629629,
          0.8888888888888888,
          0.8148148148148148,
          0.8148148148148148,
          0.8888888888888888,
          0.9259259259259259,
          0.8148148148148148,
          0.8888888888888888,
          0.8888888888888888,
          0.9259259259259259,
          0.8888888888888888,
          0.8518518518518519,
          0.8888888888888888,
          1,
          0.9259259259259259,
          0.8518518518518519,
          0.8518518518518519,
          0.8888888888888888,
          0.8148148148148148,
          0.8888888888888888,
          0.8148148148148148,
          0.8888888888888888,
          0.8518518518518519,
          0.9259259259259259,
          0.8518518518518519,
          0.8888888888888888,
          0.8888888888888888,
          0.9259259259259259,
          0.8518518518518519,
          0.8518518518518519,
          0.8888888888888888,
          0.9259259259259259,
          0.8888888888888888,
          0.8148148148148148,
          0.8888888888888888,
          0.8888888888888888,
          0.8148148148148148,
          0.8888888888888888,
          0.8888888888888888,
          0.8888888888888888,
          0.8148148148148148,
          0.8888888888888888,
          0.8518518518518519,
          0.8888888888888888,
          0.7777777777777778,
          0.7777777777777778,
          0.9629629629629629,
          0.8518518518518519,
          0.8888888888888888,
          0.8518518518518519,
          0.8888888888888888,
          0.8888888888888888,
          0.8888888888888888,
          0.8148148148148148,
          0.9259259259259259,
          0.8518518518518519,
          0.7777777777777778,
          0.9259259259259259,
          0.8518518518518519,
          0.8888888888888888,
          0.8888888888888888,
          0.9259259259259259,
          0.8888888888888888,
          0.9629629629629629,
          0.7407407407407407,
          0.8888888888888888,
          0.8888888888888888,
          0.8148148148148148,
          0.9629629629629629,
          0.9259259259259259,
          0.8888888888888888,
          0.8518518518518519,
          0.8518518518518519,
          0.8148148148148148,
          0.8148148148148148,
          0.9259259259259259,
          0.9259259259259259,
          0.9629629629629629,
          0.8888888888888888,
          0.8888888888888888,
          0.8888888888888888,
          0.7777777777777778,
          0.8888888888888888,
          0.9629629629629629,
          0.9259259259259259,
          0.8148148148148148,
          0.8518518518518519,
          0.8148148148148148,
          0.8148148148148148,
          0.8888888888888888,
          0.8148148148148148,
          0.8518518518518519,
          0.9629629629629629,
          0.9259259259259259,
          0.7777777777777778,
          0.8888888888888888,
          0.9259259259259259,
          0.8518518518518519,
          0.7407407407407407,
          0.8518518518518519,
          0.8518518518518519,
          0.8148148148148148,
          0.9259259259259259,
          0.9259259259259259,
          0.8888888888888888,
          0.9259259259259259,
          1,
          0.8888888888888888,
          0.8888888888888888,
          0.9259259259259259,
          0.7777777777777778,
          0.8888888888888888,
          1,
          0.8148148148148148,
          0.8148148148148148,
          0.8518518518518519,
          0.8888888888888888,
          0.9629629629629629,
          0.8518518518518519,
          0.9259259259259259,
          0.9629629629629629,
          0.9259259259259259,
          0.8888888888888888,
          0.8148148148148148,
          0.9629629629629629,
          0.8888888888888888,
          0.8518518518518519,
          0.8888888888888888,
          0.8518518518518519,
          0.9259259259259259,
          0.8888888888888888,
          0.9629629629629629,
          0.8518518518518519,
          1,
          0.8888888888888888,
          0.8888888888888888,
          0.8148148148148148,
          0.9259259259259259,
          0.8518518518518519,
          0.8888888888888888,
          0.9629629629629629,
          0.9629629629629629,
          0.8148148148148148,
          0.8888888888888888,
          0.8888888888888888,
          0.8888888888888888,
          0.9259259259259259,
          0.8518518518518519,
          0.8148148148148148,
          0.8518518518518519,
          0.9629629629629629,
          0.8518518518518519,
          0.8888888888888888,
          0.8888888888888888,
          0.8888888888888888,
          0.8888888888888888,
          0.8888888888888888,
          0.9259259259259259,
          0.9259259259259259,
          0.8518518518518519,
          0.9629629629629629,
          0.9259259259259259,
          0.7407407407407407,
          0.8888888888888888,
          0.8148148148148148,
          0.8148148148148148,
          0.8888888888888888,
          0.8518518518518519,
          0.9259259259259259,
          0.8888888888888888,
          0.8518518518518519,
          0.8148148148148148,
          0.8518518518518519,
          0.9259259259259259,
          0.8518518518518519,
          0.8518518518518519,
          0.9259259259259259,
          0.8888888888888888,
          0.9259259259259259,
          0.8888888888888888,
          0.9259259259259259,
          0.8148148148148148,
          0.8888888888888888,
          0.9259259259259259,
          0.8518518518518519,
          0.8888888888888888,
          0.8888888888888888,
          0.8888888888888888,
          0.9259259259259259,
          0.8518518518518519,
          0.8888888888888888,
          0.8888888888888888,
          0.8888888888888888,
          0.8888888888888888,
          0.8888888888888888,
          0.9629629629629629,
          0.8518518518518519,
          0.8518518518518519,
          0.7777777777777778,
          0.9259259259259259,
          0.8148148148148148,
          0.9259259259259259,
          0.8888888888888888,
          0.8888888888888888,
          0.8148148148148148,
          0.8888888888888888,
          0.8518518518518519,
          0.8888888888888888,
          0.9629629629629629,
          0.9259259259259259,
          0.9259259259259259,
          0.8518518518518519,
          0.9259259259259259,
          0.8518518518518519,
          0.7777777777777778,
          0.8518518518518519,
          0.8888888888888888,
          0.9259259259259259,
          0.9629629629629629,
          0.8888888888888888,
          0.8518518518518519,
          0.9259259259259259,
          0.8888888888888888,
          0.8518518518518519,
          0.9629629629629629,
          0.8888888888888888,
          0.8148148148148148,
          0.9629629629629629,
          0.8148148148148148,
          0.9259259259259259,
          0.9629629629629629,
          0.8518518518518519,
          0.9259259259259259,
          0.9259259259259259,
          0.8518518518518519,
          0.8518518518518519,
          0.8518518518518519,
          0.8888888888888888,
          0.7777777777777778,
          0.8518518518518519,
          0.8888888888888888,
          0.8518518518518519,
          0.8888888888888888,
          0.9629629629629629,
          0.8148148148148148,
          0.9629629629629629,
          0.8518518518518519,
          0.8888888888888888,
          0.9259259259259259,
          0.8518518518518519,
          0.8148148148148148,
          0.9259259259259259,
          0.8888888888888888,
          0.8148148148148148,
          1,
          0.8888888888888888,
          0.7037037037037037,
          0.8888888888888888,
          0.8148148148148148,
          0.8888888888888888,
          0.7777777777777778,
          0.8888888888888888,
          0.8888888888888888,
          0.9259259259259259,
          0.9259259259259259,
          1,
          0.8518518518518519,
          0.8888888888888888,
          0.9259259259259259,
          0.8518518518518519,
          0.8518518518518519,
          0.9629629629629629,
          0.8888888888888888,
          0.9629629629629629,
          0.9259259259259259,
          0.8518518518518519,
          0.8888888888888888,
          0.8518518518518519,
          0.9259259259259259,
          0.9259259259259259,
          0.8518518518518519,
          0.9259259259259259,
          0.8888888888888888,
          0.9259259259259259,
          0.9629629629629629,
          0.8518518518518519,
          0.9259259259259259,
          0.9259259259259259,
          0.8888888888888888,
          0.9259259259259259,
          0.8518518518518519,
          0.8518518518518519,
          0.9629629629629629,
          0.7407407407407407,
          0.9259259259259259,
          0.8518518518518519,
          0.8518518518518519,
          0.8888888888888888,
          0.9259259259259259,
          0.8518518518518519,
          0.8518518518518519,
          0.8518518518518519,
          1,
          0.8888888888888888,
          0.8148148148148148,
          0.7407407407407407,
          0.8888888888888888,
          0.9259259259259259,
          0.8148148148148148,
          0.9629629629629629,
          0.9259259259259259,
          0.8888888888888888,
          1,
          0.8148148148148148,
          0.8888888888888888,
          0.8888888888888888,
          1,
          0.8888888888888888,
          0.8518518518518519,
          0.9629629629629629,
          0.8518518518518519,
          0.8888888888888888,
          0.8518518518518519,
          0.8518518518518519,
          0.8518518518518519,
          0.8518518518518519,
          0.9629629629629629,
          0.8888888888888888,
          0.8518518518518519,
          0.9259259259259259,
          0.8888888888888888,
          0.9629629629629629,
          0.8888888888888888,
          0.8148148148148148,
          0.8518518518518519,
          0.9629629629629629,
          0.9259259259259259,
          0.8518518518518519,
          0.8888888888888888,
          0.9629629629629629,
          0.9259259259259259,
          0.7777777777777778,
          0.8888888888888888,
          0.9259259259259259,
          0.8518518518518519,
          0.8888888888888888,
          0.8148148148148148,
          0.8888888888888888,
          0.8518518518518519,
          0.8518518518518519,
          0.8148148148148148,
          0.8518518518518519,
          0.9259259259259259,
          0.8888888888888888,
          0.9259259259259259,
          0.8888888888888888,
          0.8518518518518519,
          0.9259259259259259,
          0.9259259259259259,
          0.9259259259259259,
          0.8888888888888888,
          0.8888888888888888,
          0.8888888888888888,
          0.8888888888888888,
          0.7777777777777778,
          0.8888888888888888,
          0.8518518518518519,
          0.8888888888888888,
          0.8888888888888888,
          0.8518518518518519,
          0.9629629629629629,
          0.7407407407407407,
          0.8518518518518519,
          0.8518518518518519,
          0.8888888888888888,
          0.8518518518518519,
          0.9259259259259259,
          0.9629629629629629,
          0.8888888888888888,
          0.8518518518518519,
          0.8518518518518519,
          0.8518518518518519,
          0.8148148148148148,
          0.8518518518518519,
          0.9629629629629629,
          0.8518518518518519,
          0.7777777777777778,
          0.9259259259259259,
          0.8888888888888888,
          0.8148148148148148,
          0.8518518518518519,
          0.8518518518518519,
          0.8888888888888888,
          0.8888888888888888,
          0.8518518518518519,
          0.8888888888888888,
          0.9259259259259259,
          0.8148148148148148,
          0.9259259259259259,
          0.9259259259259259,
          0.8518518518518519,
          0.9259259259259259,
          0.8888888888888888,
          0.8148148148148148,
          0.8888888888888888,
          0.9259259259259259,
          0.9259259259259259,
          0.8518518518518519,
          0.8888888888888888,
          0.7407407407407407,
          0.8888888888888888,
          0.9259259259259259,
          0.8888888888888888,
          0.9259259259259259,
          0.8518518518518519,
          0.8518518518518519,
          0.7777777777777778,
          0.9259259259259259,
          0.8148148148148148,
          0.9259259259259259,
          0.8888888888888888,
          0.8888888888888888,
          0.8888888888888888,
          0.8518518518518519,
          0.9629629629629629,
          0.8518518518518519,
          0.9629629629629629,
          0.9629629629629629,
          0.8148148148148148,
          0.8888888888888888,
          0.9629629629629629,
          0.9259259259259259,
          0.9259259259259259,
          0.8518518518518519,
          0.8888888888888888,
          0.8518518518518519,
          0.8888888888888888,
          0.8518518518518519,
          0.9629629629629629,
          1,
          0.8888888888888888,
          0.8888888888888888,
          0.8148148148148148,
          0.8518518518518519,
          0.9259259259259259,
          0.9259259259259259,
          0.8518518518518519,
          0.9259259259259259,
          0.8888888888888888,
          0.8148148148148148,
          0.8518518518518519,
          0.8148148148148148,
          0.8148148148148148,
          0.9629629629629629,
          0.9629629629629629,
          0.9629629629629629,
          0.8888888888888888,
          0.8518518518518519,
          0.8518518518518519,
          0.8888888888888888,
          0.8888888888888888,
          0.8518518518518519,
          0.9629629629629629,
          0.9259259259259259,
          0.9259259259259259,
          0.9629629629629629,
          0.8518518518518519,
          0.8518518518518519,
          0.8148148148148148,
          0.9259259259259259,
          0.8888888888888888,
          0.8888888888888888,
          0.8888888888888888,
          0.8518518518518519,
          0.8518518518518519,
          0.8888888888888888,
          0.8518518518518519,
          0.9629629629629629,
          0.9629629629629629,
          0.8148148148148148,
          0.8148148148148148,
          0.8148148148148148,
          0.9259259259259259,
          0.9259259259259259,
          0.9259259259259259,
          0.8888888888888888,
          0.8148148148148148,
          0.8148148148148148,
          0.8888888888888888,
          0.8148148148148148,
          0.9259259259259259,
          0.8888888888888888,
          0.9259259259259259,
          0.8148148148148148,
          0.8888888888888888,
          0.8888888888888888,
          0.8518518518518519,
          0.7777777777777778,
          0.7407407407407407,
          0.8888888888888888,
          0.7777777777777778,
          0.9259259259259259,
          0.9259259259259259,
          0.9259259259259259,
          0.8148148148148148,
          0.8888888888888888,
          0.9259259259259259,
          0.8148148148148148,
          0.8148148148148148,
          0.8518518518518519,
          0.8148148148148148,
          0.8888888888888888,
          0.8148148148148148,
          0.9259259259259259,
          0.8888888888888888,
          0.9629629629629629,
          0.8888888888888888,
          0.8518518518518519,
          0.8518518518518519,
          0.9259259259259259,
          0.8148148148148148,
          0.8518518518518519,
          0.8148148148148148,
          0.8148148148148148,
          0.8518518518518519,
          0.9259259259259259,
          0.9259259259259259,
          0.9259259259259259,
          0.9259259259259259,
          0.8148148148148148,
          0.8148148148148148,
          0.9259259259259259,
          0.8518518518518519,
          0.8518518518518519,
          0.8888888888888888,
          0.8888888888888888,
          0.8888888888888888,
          0.9259259259259259,
          0.8518518518518519,
          0.8518518518518519,
          0.8518518518518519,
          0.8148148148148148,
          0.8888888888888888,
          0.8148148148148148,
          0.9259259259259259,
          0.7777777777777778,
          0.8888888888888888,
          0.8518518518518519,
          0.8518518518518519,
          0.8518518518518519,
          0.9259259259259259,
          0.8518518518518519,
          0.8888888888888888,
          0.9259259259259259,
          0.8518518518518519,
          0.9259259259259259,
          0.8518518518518519,
          0.7777777777777778,
          0.9259259259259259,
          0.8518518518518519,
          0.8888888888888888,
          0.7777777777777778,
          0.8888888888888888,
          0.8888888888888888,
          0.8518518518518519,
          0.8888888888888888,
          0.9629629629629629,
          0.8148148148148148,
          0.8888888888888888,
          0.8888888888888888,
          0.9259259259259259,
          0.9259259259259259,
          0.8148148148148148,
          0.8518518518518519,
          0.8518518518518519,
          0.8518518518518519,
          0.8518518518518519,
          0.9629629629629629,
          0.9259259259259259,
          0.8518518518518519,
          0.8888888888888888,
          0.8888888888888888,
          0.8518518518518519,
          0.8518518518518519,
          0.9629629629629629,
          0.9259259259259259
         ],
         "y0": " ",
         "yaxis": "y"
        }
       ],
       "layout": {
        "boxmode": "group",
        "legend": {
         "tracegroupgap": 0
        },
        "margin": {
         "t": 60
        },
        "template": {
         "data": {
          "bar": [
           {
            "error_x": {
             "color": "#2a3f5f"
            },
            "error_y": {
             "color": "#2a3f5f"
            },
            "marker": {
             "line": {
              "color": "#E5ECF6",
              "width": 0.5
             },
             "pattern": {
              "fillmode": "overlay",
              "size": 10,
              "solidity": 0.2
             }
            },
            "type": "bar"
           }
          ],
          "barpolar": [
           {
            "marker": {
             "line": {
              "color": "#E5ECF6",
              "width": 0.5
             },
             "pattern": {
              "fillmode": "overlay",
              "size": 10,
              "solidity": 0.2
             }
            },
            "type": "barpolar"
           }
          ],
          "carpet": [
           {
            "aaxis": {
             "endlinecolor": "#2a3f5f",
             "gridcolor": "white",
             "linecolor": "white",
             "minorgridcolor": "white",
             "startlinecolor": "#2a3f5f"
            },
            "baxis": {
             "endlinecolor": "#2a3f5f",
             "gridcolor": "white",
             "linecolor": "white",
             "minorgridcolor": "white",
             "startlinecolor": "#2a3f5f"
            },
            "type": "carpet"
           }
          ],
          "choropleth": [
           {
            "colorbar": {
             "outlinewidth": 0,
             "ticks": ""
            },
            "type": "choropleth"
           }
          ],
          "contour": [
           {
            "colorbar": {
             "outlinewidth": 0,
             "ticks": ""
            },
            "colorscale": [
             [
              0,
              "#0d0887"
             ],
             [
              0.1111111111111111,
              "#46039f"
             ],
             [
              0.2222222222222222,
              "#7201a8"
             ],
             [
              0.3333333333333333,
              "#9c179e"
             ],
             [
              0.4444444444444444,
              "#bd3786"
             ],
             [
              0.5555555555555556,
              "#d8576b"
             ],
             [
              0.6666666666666666,
              "#ed7953"
             ],
             [
              0.7777777777777778,
              "#fb9f3a"
             ],
             [
              0.8888888888888888,
              "#fdca26"
             ],
             [
              1,
              "#f0f921"
             ]
            ],
            "type": "contour"
           }
          ],
          "contourcarpet": [
           {
            "colorbar": {
             "outlinewidth": 0,
             "ticks": ""
            },
            "type": "contourcarpet"
           }
          ],
          "heatmap": [
           {
            "colorbar": {
             "outlinewidth": 0,
             "ticks": ""
            },
            "colorscale": [
             [
              0,
              "#0d0887"
             ],
             [
              0.1111111111111111,
              "#46039f"
             ],
             [
              0.2222222222222222,
              "#7201a8"
             ],
             [
              0.3333333333333333,
              "#9c179e"
             ],
             [
              0.4444444444444444,
              "#bd3786"
             ],
             [
              0.5555555555555556,
              "#d8576b"
             ],
             [
              0.6666666666666666,
              "#ed7953"
             ],
             [
              0.7777777777777778,
              "#fb9f3a"
             ],
             [
              0.8888888888888888,
              "#fdca26"
             ],
             [
              1,
              "#f0f921"
             ]
            ],
            "type": "heatmap"
           }
          ],
          "heatmapgl": [
           {
            "colorbar": {
             "outlinewidth": 0,
             "ticks": ""
            },
            "colorscale": [
             [
              0,
              "#0d0887"
             ],
             [
              0.1111111111111111,
              "#46039f"
             ],
             [
              0.2222222222222222,
              "#7201a8"
             ],
             [
              0.3333333333333333,
              "#9c179e"
             ],
             [
              0.4444444444444444,
              "#bd3786"
             ],
             [
              0.5555555555555556,
              "#d8576b"
             ],
             [
              0.6666666666666666,
              "#ed7953"
             ],
             [
              0.7777777777777778,
              "#fb9f3a"
             ],
             [
              0.8888888888888888,
              "#fdca26"
             ],
             [
              1,
              "#f0f921"
             ]
            ],
            "type": "heatmapgl"
           }
          ],
          "histogram": [
           {
            "marker": {
             "pattern": {
              "fillmode": "overlay",
              "size": 10,
              "solidity": 0.2
             }
            },
            "type": "histogram"
           }
          ],
          "histogram2d": [
           {
            "colorbar": {
             "outlinewidth": 0,
             "ticks": ""
            },
            "colorscale": [
             [
              0,
              "#0d0887"
             ],
             [
              0.1111111111111111,
              "#46039f"
             ],
             [
              0.2222222222222222,
              "#7201a8"
             ],
             [
              0.3333333333333333,
              "#9c179e"
             ],
             [
              0.4444444444444444,
              "#bd3786"
             ],
             [
              0.5555555555555556,
              "#d8576b"
             ],
             [
              0.6666666666666666,
              "#ed7953"
             ],
             [
              0.7777777777777778,
              "#fb9f3a"
             ],
             [
              0.8888888888888888,
              "#fdca26"
             ],
             [
              1,
              "#f0f921"
             ]
            ],
            "type": "histogram2d"
           }
          ],
          "histogram2dcontour": [
           {
            "colorbar": {
             "outlinewidth": 0,
             "ticks": ""
            },
            "colorscale": [
             [
              0,
              "#0d0887"
             ],
             [
              0.1111111111111111,
              "#46039f"
             ],
             [
              0.2222222222222222,
              "#7201a8"
             ],
             [
              0.3333333333333333,
              "#9c179e"
             ],
             [
              0.4444444444444444,
              "#bd3786"
             ],
             [
              0.5555555555555556,
              "#d8576b"
             ],
             [
              0.6666666666666666,
              "#ed7953"
             ],
             [
              0.7777777777777778,
              "#fb9f3a"
             ],
             [
              0.8888888888888888,
              "#fdca26"
             ],
             [
              1,
              "#f0f921"
             ]
            ],
            "type": "histogram2dcontour"
           }
          ],
          "mesh3d": [
           {
            "colorbar": {
             "outlinewidth": 0,
             "ticks": ""
            },
            "type": "mesh3d"
           }
          ],
          "parcoords": [
           {
            "line": {
             "colorbar": {
              "outlinewidth": 0,
              "ticks": ""
             }
            },
            "type": "parcoords"
           }
          ],
          "pie": [
           {
            "automargin": true,
            "type": "pie"
           }
          ],
          "scatter": [
           {
            "fillpattern": {
             "fillmode": "overlay",
             "size": 10,
             "solidity": 0.2
            },
            "type": "scatter"
           }
          ],
          "scatter3d": [
           {
            "line": {
             "colorbar": {
              "outlinewidth": 0,
              "ticks": ""
             }
            },
            "marker": {
             "colorbar": {
              "outlinewidth": 0,
              "ticks": ""
             }
            },
            "type": "scatter3d"
           }
          ],
          "scattercarpet": [
           {
            "marker": {
             "colorbar": {
              "outlinewidth": 0,
              "ticks": ""
             }
            },
            "type": "scattercarpet"
           }
          ],
          "scattergeo": [
           {
            "marker": {
             "colorbar": {
              "outlinewidth": 0,
              "ticks": ""
             }
            },
            "type": "scattergeo"
           }
          ],
          "scattergl": [
           {
            "marker": {
             "colorbar": {
              "outlinewidth": 0,
              "ticks": ""
             }
            },
            "type": "scattergl"
           }
          ],
          "scattermapbox": [
           {
            "marker": {
             "colorbar": {
              "outlinewidth": 0,
              "ticks": ""
             }
            },
            "type": "scattermapbox"
           }
          ],
          "scatterpolar": [
           {
            "marker": {
             "colorbar": {
              "outlinewidth": 0,
              "ticks": ""
             }
            },
            "type": "scatterpolar"
           }
          ],
          "scatterpolargl": [
           {
            "marker": {
             "colorbar": {
              "outlinewidth": 0,
              "ticks": ""
             }
            },
            "type": "scatterpolargl"
           }
          ],
          "scatterternary": [
           {
            "marker": {
             "colorbar": {
              "outlinewidth": 0,
              "ticks": ""
             }
            },
            "type": "scatterternary"
           }
          ],
          "surface": [
           {
            "colorbar": {
             "outlinewidth": 0,
             "ticks": ""
            },
            "colorscale": [
             [
              0,
              "#0d0887"
             ],
             [
              0.1111111111111111,
              "#46039f"
             ],
             [
              0.2222222222222222,
              "#7201a8"
             ],
             [
              0.3333333333333333,
              "#9c179e"
             ],
             [
              0.4444444444444444,
              "#bd3786"
             ],
             [
              0.5555555555555556,
              "#d8576b"
             ],
             [
              0.6666666666666666,
              "#ed7953"
             ],
             [
              0.7777777777777778,
              "#fb9f3a"
             ],
             [
              0.8888888888888888,
              "#fdca26"
             ],
             [
              1,
              "#f0f921"
             ]
            ],
            "type": "surface"
           }
          ],
          "table": [
           {
            "cells": {
             "fill": {
              "color": "#EBF0F8"
             },
             "line": {
              "color": "white"
             }
            },
            "header": {
             "fill": {
              "color": "#C8D4E3"
             },
             "line": {
              "color": "white"
             }
            },
            "type": "table"
           }
          ]
         },
         "layout": {
          "annotationdefaults": {
           "arrowcolor": "#2a3f5f",
           "arrowhead": 0,
           "arrowwidth": 1
          },
          "autotypenumbers": "strict",
          "coloraxis": {
           "colorbar": {
            "outlinewidth": 0,
            "ticks": ""
           }
          },
          "colorscale": {
           "diverging": [
            [
             0,
             "#8e0152"
            ],
            [
             0.1,
             "#c51b7d"
            ],
            [
             0.2,
             "#de77ae"
            ],
            [
             0.3,
             "#f1b6da"
            ],
            [
             0.4,
             "#fde0ef"
            ],
            [
             0.5,
             "#f7f7f7"
            ],
            [
             0.6,
             "#e6f5d0"
            ],
            [
             0.7,
             "#b8e186"
            ],
            [
             0.8,
             "#7fbc41"
            ],
            [
             0.9,
             "#4d9221"
            ],
            [
             1,
             "#276419"
            ]
           ],
           "sequential": [
            [
             0,
             "#0d0887"
            ],
            [
             0.1111111111111111,
             "#46039f"
            ],
            [
             0.2222222222222222,
             "#7201a8"
            ],
            [
             0.3333333333333333,
             "#9c179e"
            ],
            [
             0.4444444444444444,
             "#bd3786"
            ],
            [
             0.5555555555555556,
             "#d8576b"
            ],
            [
             0.6666666666666666,
             "#ed7953"
            ],
            [
             0.7777777777777778,
             "#fb9f3a"
            ],
            [
             0.8888888888888888,
             "#fdca26"
            ],
            [
             1,
             "#f0f921"
            ]
           ],
           "sequentialminus": [
            [
             0,
             "#0d0887"
            ],
            [
             0.1111111111111111,
             "#46039f"
            ],
            [
             0.2222222222222222,
             "#7201a8"
            ],
            [
             0.3333333333333333,
             "#9c179e"
            ],
            [
             0.4444444444444444,
             "#bd3786"
            ],
            [
             0.5555555555555556,
             "#d8576b"
            ],
            [
             0.6666666666666666,
             "#ed7953"
            ],
            [
             0.7777777777777778,
             "#fb9f3a"
            ],
            [
             0.8888888888888888,
             "#fdca26"
            ],
            [
             1,
             "#f0f921"
            ]
           ]
          },
          "colorway": [
           "#636efa",
           "#EF553B",
           "#00cc96",
           "#ab63fa",
           "#FFA15A",
           "#19d3f3",
           "#FF6692",
           "#B6E880",
           "#FF97FF",
           "#FECB52"
          ],
          "font": {
           "color": "#2a3f5f"
          },
          "geo": {
           "bgcolor": "white",
           "lakecolor": "white",
           "landcolor": "#E5ECF6",
           "showlakes": true,
           "showland": true,
           "subunitcolor": "white"
          },
          "hoverlabel": {
           "align": "left"
          },
          "hovermode": "closest",
          "mapbox": {
           "style": "light"
          },
          "paper_bgcolor": "white",
          "plot_bgcolor": "#E5ECF6",
          "polar": {
           "angularaxis": {
            "gridcolor": "white",
            "linecolor": "white",
            "ticks": ""
           },
           "bgcolor": "#E5ECF6",
           "radialaxis": {
            "gridcolor": "white",
            "linecolor": "white",
            "ticks": ""
           }
          },
          "scene": {
           "xaxis": {
            "backgroundcolor": "#E5ECF6",
            "gridcolor": "white",
            "gridwidth": 2,
            "linecolor": "white",
            "showbackground": true,
            "ticks": "",
            "zerolinecolor": "white"
           },
           "yaxis": {
            "backgroundcolor": "#E5ECF6",
            "gridcolor": "white",
            "gridwidth": 2,
            "linecolor": "white",
            "showbackground": true,
            "ticks": "",
            "zerolinecolor": "white"
           },
           "zaxis": {
            "backgroundcolor": "#E5ECF6",
            "gridcolor": "white",
            "gridwidth": 2,
            "linecolor": "white",
            "showbackground": true,
            "ticks": "",
            "zerolinecolor": "white"
           }
          },
          "shapedefaults": {
           "line": {
            "color": "#2a3f5f"
           }
          },
          "ternary": {
           "aaxis": {
            "gridcolor": "white",
            "linecolor": "white",
            "ticks": ""
           },
           "baxis": {
            "gridcolor": "white",
            "linecolor": "white",
            "ticks": ""
           },
           "bgcolor": "#E5ECF6",
           "caxis": {
            "gridcolor": "white",
            "linecolor": "white",
            "ticks": ""
           }
          },
          "title": {
           "x": 0.05
          },
          "xaxis": {
           "automargin": true,
           "gridcolor": "white",
           "linecolor": "white",
           "ticks": "",
           "title": {
            "standoff": 15
           },
           "zerolinecolor": "white",
           "zerolinewidth": 2
          },
          "yaxis": {
           "automargin": true,
           "gridcolor": "white",
           "linecolor": "white",
           "ticks": "",
           "title": {
            "standoff": 15
           },
           "zerolinecolor": "white",
           "zerolinewidth": 2
          }
         }
        },
        "xaxis": {
         "anchor": "y",
         "domain": [
          0,
          1
         ],
         "title": {
          "text": "model"
         }
        },
        "yaxis": {
         "anchor": "x",
         "domain": [
          0,
          1
         ],
         "title": {
          "text": "accuracy"
         }
        }
       }
      }
     },
     "metadata": {},
     "output_type": "display_data"
    }
   ],
   "source": [
    "px.box(evaluation_df, x=\"model\", y=\"accuracy\", points=\"all\")"
   ]
  },
  {
   "cell_type": "markdown",
   "metadata": {},
   "source": [
    "And we run a t-test to see whether the accuracy scores are significantly different from each other."
   ]
  },
  {
   "cell_type": "code",
   "execution_count": 237,
   "metadata": {},
   "outputs": [
    {
     "data": {
      "text/plain": [
       "Ttest_indResult(statistic=0.5969511782237217, pvalue=0.550675372754204)"
      ]
     },
     "execution_count": 237,
     "metadata": {},
     "output_type": "execute_result"
    }
   ],
   "source": [
    "from scipy.stats import ttest_ind\n",
    "\n",
    "ttest_ind(dummy_accuracy, rforest_accuracy)"
   ]
  },
  {
   "cell_type": "markdown",
   "metadata": {},
   "source": [
    "#### Interpretation:\n",
    "It can clearly be seen from the visualization that the models perform virtually identically.\n",
    "Our t-test yields a p-value way above 0.05, meaning that there is a high probability that the small difference there is between the two distributions is simply due to random noise.\n",
    "\n",
    "This essentially means that we did not manage to obtain a model that is capable of classifying an ideas as worthy for consideration based on word usage."
   ]
  }
 ],
 "metadata": {
  "interpreter": {
   "hash": "916dbcbb3f70747c44a77c7bcd40155683ae19c65e1c03b4aa3499c5328201f1"
  },
  "kernelspec": {
   "display_name": "Python 3.8.10 64-bit",
   "language": "python",
   "name": "python3"
  },
  "language_info": {
   "codemirror_mode": {
    "name": "ipython",
    "version": 3
   },
   "file_extension": ".py",
   "mimetype": "text/x-python",
   "name": "python",
   "nbconvert_exporter": "python",
   "pygments_lexer": "ipython3",
   "version": "3.8.10"
  },
  "orig_nbformat": 4
 },
 "nbformat": 4,
 "nbformat_minor": 2
}
