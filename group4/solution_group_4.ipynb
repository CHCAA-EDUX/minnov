{
 "cells": [
  {
   "cell_type": "markdown",
   "metadata": {},
   "source": [
    "# Managing Innovation\n",
    "\n",
    "Solution developed for group 4 based on the requirement specification. \n",
    "\n",
    "In addition to this notebook, a folder named `output` can be found. This folder contains the plots produced in this notebook. Furthermore it holds an excel file with the additonal variables added in this notebook (e.g., mean sentiment score, score of the idea and the rank)\n",
    "\n",
    "Additionally, some functions written for this task can be found in `helper_functions.py`.\n",
    "\n",
    "\n",
    "#### Requirement specification\n",
    "\n",
    "Variables that assess the quality of an idea (Total of 100%):\n",
    "* Number of votes (50%)\n",
    "* Selected by an expert (25%)\n",
    "* How positive is the comment (mean of all comments on idea) * number of upvotes on that comment (25%)\n",
    "\n",
    "\n",
    "Compare quality with:​\n",
    "* The grammar of the body of the idea\n",
    "* Prior experience\n",
    "* Departments\n",
    "* Country\n",
    "\n",
    "\n",
    "10 best vs 10 worst in the end, and then we can qualitatively assess whether our model is working or not.\n",
    "\n",
    "#### Contact information\n",
    "Code by Laura Bock Paulsen (202005791@post.au.dk)\n",
    "\n",
    "Group 4: feel free to reach out if you have any questions"
   ]
  },
  {
   "cell_type": "markdown",
   "metadata": {},
   "source": [
    "To ensure you have all the dependencies, run the following chunk."
   ]
  },
  {
   "cell_type": "code",
   "execution_count": 75,
   "metadata": {},
   "outputs": [],
   "source": [
    "#! pip install --user -U nltk\n",
    "#nltk.download()"
   ]
  },
  {
   "cell_type": "markdown",
   "metadata": {},
   "source": [
    "Then all the functions and packages needed for the task are loaded."
   ]
  },
  {
   "cell_type": "code",
   "execution_count": 76,
   "metadata": {},
   "outputs": [],
   "source": [
    "from nltk.corpus import stopwords\n",
    "from nltk.sentiment.util import *\n",
    "from nltk.sentiment.vader import SentimentIntensityAnalyzer\n",
    "from sklearn import preprocessing\n",
    "import pandas as pd\n",
    "import numpy as np\n",
    "from helper_functions import *"
   ]
  },
  {
   "cell_type": "markdown",
   "metadata": {},
   "source": [
    "Then the data is imported. For a overview of the data, go to the `data_exploration.ipynb` in the main folder. "
   ]
  },
  {
   "cell_type": "code",
   "execution_count": 77,
   "metadata": {},
   "outputs": [],
   "source": [
    "(ideas, comments, ideator) = read_data()"
   ]
  },
  {
   "cell_type": "markdown",
   "metadata": {},
   "source": [
    "The idea sheet had a problem with some characters not being displayed right. This is remedied by the following code. "
   ]
  },
  {
   "cell_type": "code",
   "execution_count": 78,
   "metadata": {},
   "outputs": [],
   "source": [
    "ideas['Body'] = ideas['Body'].str.encode('ascii', errors='ignore')\n",
    "ideas['Body'] = ideas['Body'].str.decode(\"utf-8\")"
   ]
  },
  {
   "cell_type": "code",
   "execution_count": 79,
   "metadata": {},
   "outputs": [
    {
     "name": "stdout",
     "output_type": "stream",
     "text": [
      "Often I see a LEGO box get torn open because it is not obvious how to open it without damaging it. I think it would be nice if there was an easier way to open the box.\n",
      "\n",
      "When taking visitors through the Idea House I have often observed how people become quiet and reflective, even slightly emotional when they see models launched during their own childhood. Might there be a way we can get people to reconnect with their childhood in our Brand Stores? I would think that most would be more prone to buy products for their children (or for themselves for that matter) when in that frame of mind...\"\n",
      "\n",
      "Hi :) During the christmas holiday  I was playing with LEGO City together with my nephew (4 years old). Suddenly he asked me how is was on the countryside,  he have never really been/seen a farm on close on. Because he is raised in Copenhagen  and my guess is that there are many kids aruond the world who do not know much about the countryside.  I am rasied on a farm and do know a thing or two about the daily life on the countryside  so I told him about it  and came to thing that it would be great if LEGO could learn kids about the life on a countryside with a playfull,  good experienced,  well learned story about how the diffrents products gets from the farms to the supermaket.  I can almost see the title \"\"LEGO City Countryside\"\" on the LEGO boxes. So now  Is it a good idea or not?????\"\n",
      "\n",
      "The parking house in Billund provides great parking facilities. Unfortunately, it starts getting a mess as there is no Garbage Can located at the entrance/exit. Thus where to put a banana peel that you picked up on your way from the workplace to your car? Or what to do with the soft drink you had on your way to work? See attached a few images of what I found. And yes, there are 2 pictures of a jerry can... taken with 6 days between them. I should of course have picked that one up and put it in a proper place.\"\n",
      "\n",
      "We can easily help saving energy by switching off our computer monitors when we leave for home. When I leave as one of the last persons in the office I often notice that 80% or more of the monitors are still on. Even though they are on power safe mode it still adds up. And this behavious is not helping to achieve our Planet Promises!!So we may need a behavioral change campaign to change our habits!.\"\n",
      "\n",
      "By installing a few PCs in brand retail stores we can tap into the creativity of our visitors. At the same time this can increase the shopping experience as well as it makes shoppers stay longer in the stores.\n",
      "\n",
      "There are so many papers and projects about the antimicrobial coatings for plastics using TiO2 or another oxide semiconductors, this could be useful for the kids and their health, because this nanocomposites can inhibit the activity of reproduction of bacteria E.Coli. Here in Monterrey, Mexico there are research about TiO2 and its photocatalytic efficiency and actually I have worked with the optimization of the synthesys of oxides semiconductors for other aplications. This technology for the plastics can be used on the LEGO bricks giving additional value to the toys.\n",
      "\n",
      "Sometimes it can be hard to tell the difference between dark gray and black in the building instructions. Isnt it possible to make the black color black with a white outline and the dark gray with a black outline.\n",
      "\n",
      "Im a big fan of the modular builings (and have them all), but ive experienced that the \"playability\" is dificult because of the top down view. The way the \"Haunted House\" in Monster Fighters is built has a much better acces and allows a better experience in playability. This \"\"open/close\"\" function that is integrated in the \"\"Haunted House\"\" should/could be used in the other themes Castle/Kingdoms,  City,  Friends (Clasic doll house) and so on...\"\n",
      "\n",
      "Im so happy that we in the P-shop now has the oppertunity to fill a bag of minifigure parts, wich I assume would just go to waste/scrap. Why dont we expand this oppertunity to include bricks as well? This would be a win/win situation for the company and the employee. The company reduces the waste/scrap (Planet Promis) and the employee has access to bricks with a discount.\n",
      "\n",
      "I see a potential in making a new product line towards \"Role playing games\" similar to eg. Warhammer, Dungeons &amp, Each set could contain a building plate to expand the universe with eg. Castle,  bridges,  rivers,  trees,  hills, units. The LEGO dice has a great potential in this direction,  it could be redesigned depending on the \"\"heros\"\"/units magic spells and so on.\"\n",
      "\n",
      "I have on several occations been asked by suppliers and sub suppliers if there are any souvenir shop for them to buy a box of LEGO and the only answer I can give them is to go to LEGOland (if they are open at the time). I know this would be a small business for the LEGO Group but it would be nice if there was an oppertunity for selling LEGO boxes to our supplieres.\n",
      "\n",
      "Why dont we include a plastic pocket in the boxes for the following two reasons. 1. Protecting the instruction in the box so it wont get bended/damaged and 2. for storing the instruction after completing the model. The plastic pocket folder could then be an extended line product.\"\n",
      "\n",
      "New ways of playing LEGO have been innovated and develped for a decade. For example 2000-2001 STARWARS Yoda and Darth Vader figure are built by bricks, 2006 Spongebob figure built by bricks and this year 2012 STARWARS R2-D2 can be built by bricks. LEGO bricks can create everything. My new idea is the theme figures are not just minifigures, but also brick- buildings. There is something similar like the figures we saw in LEGOLAND which are built by the bricks. In future LEGO can develop and create more theme figures which are able to built by bricks. For example SUPERHERO BATMAN, LEGO FRIENDS figure, LEGO TOYSTORY BUSSYLIGHTYEAR &amp, WOODY and LEGO DRAGON. These cool  figures are able to draw the kids creativity and imagination.\n",
      "\n",
      "Some robot figures to be built by LEGO bricks and ideas from the web.\n",
      "\n",
      "Lots of privious figures were built by LEGO bricks and fans would love them if LEGO will have these sets in future.\n",
      "\n",
      "For a couple of years, we have started the summer vacation of our children by \"building our summer\" as a calendar. it is great, because it gives our children a concept of time (when are we going to do what over their 7-8 weeks break), it makes it visual what happens when, it allows them to come up with ideas, it is fun to build \"garda-sen week\", Grandma 60 year birthday, soccer camp week or the final of WC soccer, and every day you get to move your own minifigure...\n",
      "\n",
      "The successful business model for digital play has been found (but not yet perfected)...and the winner is: Skylanders! For those of you who dont know Skylanders here is a short intro: Skylanders is a video game for gaming consols (x-box,  ps3 etc). Along with the game you get a physical platform (RFID chip reader) and Skylander figures - placing one of the figures on the platform activates the figure in the game and lets you play with that character as long as the figure is placed upon the platform - and switching the figure obviously lets you play with a new character (with new skills,  new looks,  new persona etc). The game is basically running around in a virtual world fighting monsters and completing in-game mini games....much like LEGO universe. Looking at my nephew and his friends (age 7) this game has rapidly become a part of their daily routine. They bring the figures to each other so they can try out the new figures they have just bought/received.  In retail prices in DK start up set costs roughly 50 EUR and single figures is 10-15 EUR. Now with the start set,  the expansion and the amount of skylander figures that my nephew has now  my estimate would be 150 EUR spent on this concept...in contrast it was impossible for me to convince my sister to buy just 1 month of subscription for LEGO universe (10 EUR). Just imagine the new CHIMA series with similar functionality. Collecting the various characters and having them instant available in a game when you have the physical figure - being able to control vehicles of physical box sets that you have built - playing in a new part of the virtual game world when you have built some of the physical building sets...and the possibilities goes on! Now the brilliance of the Skylanders concept is the simplicity. It doesnt take long to explain to a child that if you place your figure on the platform,  you get to play with that figure - activation codes are just not as simple. 2000 chars almost hit :)\n",
      "\n",
      "Add \"QR code\" like grafics in some of the free space in the building instruktion for easy scan and watch youtube videos with \"tips and trics\", \"meet the designer\", \"introduction to my first build\", \"story enablers\" and so on\n",
      "\n",
      "I have a nephew hwo have had LEGO DUPLO all his life, but in a early age he wanted to build what he preffered to as \"little LEGO\" (LEGO platform bricks). This was before he realy had the skills so he always build with an adult. So he quickly learned that building with \"\"little LEGO\"\" gave you  My sister tells me that him and his younger brother and sister almost always play with LEGO DUPLOone on one time with an adult. He is now 7 and still love to get and build new LEGO sets. So even he know has the skills to do alot of the sets,  he still preffere to build together with an adult.  when they \"\"free play\"\",  but use LEGO platform and building instruktions when they build., o my idea is based on this opservation that some kids preffere to build together with an adult. So was it possible to make some dedicated \"\"parrant and kid\"\" build together sets,  with had two levels build. mostly build targetted the kid,  but then also some small parts with are targetted 16+. More challange for the adult and possible to have hard to build parts of the lines normally only targetted two younger kids. (My nephew in the backgrund of the picture building 3182 LEGO City Airport with his dad at christmas Eve)\"\n",
      "\n",
      "Extend the Character and Creature Building System (CCBS) used in e.g. Herofactory to also be part of LEGO DUPLO. (It might be out of scope since it is not be a \"\"new idea\"\". It already exists in china. See picture)\"\n",
      "\n",
      "I have for some time been wondering. What actually happens with the spare food from the LEGO canteens? When I was at a seminar at a large-sized company they had a great arrangement, where the employees could buy a small dinner package they could bring home. This would be a great service and a way to reduce food waste.\n",
      "\n",
      "I watched a six and eight year old boy opening up LEGO boxes during the holidays. What seemed to happen many times, was that the bricks flew around when the plastic bags were opened. Small cardboard boxes might resolve that issue\n",
      "\n",
      "I think it would make the gifts of the Advent Calendar truely amazing, if after the 24th there would be a building instruction where using the the bricks of 24 small gifts you could make one big thing. F.ex for Star Wars that you could create a bigger spaceship with the bricks. First,  it would make  day 24 truely special. Second,  it would show to the kids that bricks can be used in different ways,  and encourage them to be creative (and not just assemble sets once).\"\n",
      "\n",
      "Let's make the play experience even better by making the box more than just a container for bricks. Maybe the inside of each box should include scenes or environments that become part of the play experience such as: ?, ?, - A castle for me to storm or protect myself from the enemy...\"\n",
      "\n",
      "An app or web service that can easily create an archive of all the bricks in your bin and so suggest models that you can build with them. Some of these model ideas can come from LEGO and the rest from the rest of the community. No new physical product or packaging or any traditional retail channel. This service can possibly be targeted to the bottom of the economic pyramid.\"\n",
      "\n",
      "LEGO Smart Bag is larger bag used to organize, store &amp. This bag would not require any changes to the current packaging production lines,  just an added element the smart bag to be included in every set. The Smart Bag would be used after the original bags were opened and discarded as a smart way to keep your sets in order. The smart bag is not only a way to better organize and showcase your sets but it can potentially promote creativity and more LEGO play by providing a way to re-live the initial out of the box experience time and time again before the brick sets a relegated to the bin. The bags could have a zip-lock feature and still would have a very low cost relative to the value added.\"\n",
      "\n",
      "Help kids play with their LEGO kits and themes in new adventurous ways. Increases creativity , Help parents participate in their kids playtime,Helps LEGO with increased sales and product awareness,Scenarios/adventures/stories involving a number of prequisite models (or model types) and characters that can be used across play sessions. Helped along by a good story (text or comic) on a tablet/mobile/pc.\"\n",
      "\n",
      "I love when you get the chance to reuse the elements for alternative models...Lets make it more attractive to take the main model apart and have kids spend more time building. In some cases,  like what we do in LEGO Technic,  one alternative is given,  or take it a step further and provide inspiration for many smaller builds (some even without instructions),  all part of the overall theme you have bought into.  This is NOT intended to become yet another 3in1 experience,  through it should aim to inspire and engage for more LEGO construction. http://rebrickable.com/  Great website that provides inspiration for alternative models you can create for the boxes you have\"\n",
      "\n",
      "It would be great to include little games or questionnaires into the instruction, especially if you have to build stuff 2 or 4 times.\n",
      "\n",
      "When you open a set and see lots of bags and instructions books, you can sometimes feel a little daunted by the task ahead (especially if you're a parent helping an impatient young child who can't wait to play with their new toy and not a hardcore fan like all of us). It could be nice to have a message at the end of each book and an image of what the model should now look like. Congratulations! You have now completed Book One. By now your model should look like this:\"\" There could also be an option to take a break and check out cool content online - designer videos,  mini movies etc. The play experience continues but with an added dimension. And the chance for the parents to grab up a quick cup of coffee before starting on the next book.\"\n",
      "\n",
      "At our house, the first thing to come out of the box is always the minifigures. They can be played with right away if you're not ready to build the set yet or just want to take a break from building. So it's a little frustrating that you need to open lots of bags to get all the parts out for the minifigures. If there was a single bag for them, play could start instantly and little pieces from the open bags wouldn't get lost or misplaced.\n",
      "\n",
      "Playing with friends and city minifigures I noticed that while the hair, hats, etc. fits between the old minifigures and the new friends minifigures, the distance between the hands is different. This means that the female figures from friends are not able to drive a car from city, for example. Making this distance equal will not lose anything for the \"friend\" minifigures, but they would be able to mix into the male \"city\" world.\n",
      "\n",
      "When playing Creationary (LEGO Games) with my family over Christmas, I noticed that they had no idea that the turntables and hinges needed to be put together. They simply noticed the odd-shaped upside and downside of the turntable, and did not use it in their builds even once.I think the problem is that Creationary caters to less experienced builders,  and they cannot be expected to know how such special LEGO pieces work. Could we add one page in the instruction on how to put those pieces together? It would improve the play-ability of the game.I'm surprised this flaw did not show in the product tests,  maybe we have tested it on too experienced builders only?\"\n",
      "\n",
      "I was thinking that LEGO Friends is such a hughe success for the same reasons the EA Game's SIMs has been a success - the building and detailing of a real life world where you can be who you want and live like you want. Maybe we should consider collaborating with EA Games and making a Friends-Sims-edition - maybe just the virtual version (I mean as a computer game) - but maybe also with the possibility of designing your own LEGO Friends figure and house and have this specially made and sent to you?  How cool would that be!?\"\n",
      "\n",
      "Create Skylanders LEGO Figurs - the skylanders figurs should be a part of normal play sets and thereby both offer the physical play and play with the mini figure in a game.\n",
      "\n",
      "Pieces of card are included in the box - once built they form a grid that the builder can use to separate the bricks into colours as per the inside front cover of building instructions.The grid could be as large/small as required depending on the complexity of the set. Cheap and easy to produce and could be inserted with the instructions.\"\n",
      "\n",
      "Make sure to have a bag with a LEGO figure + a vehicle or something similar for the kids to play with while the adults or more expirienced kids finish the big build.\n",
      "\n",
      "My idea is to find a way to produce LEGO and especially DUPLO that is less noisy. In example there could be \"\"spikes\"\" inside the brick,  to make it more noice absorbant.\"\n",
      "\n",
      "It's Christmas and a child is visiting somewhere and they unwrap a LEGO set.  In my family, the child always begs to open it right away.  And their parents always say, \"no, wait until you get it home.\"  Of course they are afraid of losing pieces etc. What if a part of the box contained an easily separated mini set - one that could be opened and assembled quickly?  Like a vehicle or the minifigures that could be enjoyed right away? It might make the child's experience more fun.\"\n",
      "\n",
      "Bulid a bridge and think about the construction. Ways to make it better, give it strength and more beautiful. Level 1: build a brigde good enough to let a truck drive over. When the bridge is build,  it gets scanned into a computer, ipad,  smartphone for a test-drive. If it stands the truck-test you go on to level 2. If not... build over again and improve. I think the challenge is to build bridges, towers, exc.   and virtually test it on the computer afterwards in different weather and conditions. How to get the construction you have build,  into the computer - i dont know exact,  but have a couple of ideas...Every time i \"\"play\"\" with lego, it always ends with buildings and so. I think most adults to that. This could be LEGO for 18+ -&gt.sorry if my discription is a little messy,  but im going to work :-)\"\n",
      "\n",
      "In the instruction booklet/Catalogue give ideas about combining not just sets but themes! Galaxy Squad is a perfect tie-in for the City fans that want to have an alien invasion.\n",
      "\n",
      "combining virtual and real world play- when a guest buys a set, there could be a code in in the instructions. The guest could then log in using their LEGO ID, enter the code and the set they bought would be there to play with virtually. Every set they buy would then be able to be added. For a guest who is really into City, they could have an entire virtual city to go along with the sets that they have. Not LEGO Universe but a direct tie-in between playing with the actual sets and the virtual ones.\n",
      "\n",
      "I think that it would be great if each LBR Store or Business Unit, could adopt a family for the holidays- obviously this would be for next year. Maybe invite them in before hours for a personalized store tour. We could limit the budget for each store unit, maybe partner with the donations department. I think that we could all commit to giving more back especially in the current economy.\n",
      "\n",
      "We should create a '7 Wonders of the World' series for exclusives. Bring back the Taj Mahal to kick it off....\n",
      "\n",
      "Combining a dungeon and dragons storytelling and game element to the LEGO play experience  having a LEGO play master (Dungeon master) that builds the story and set the quests for the rest of the people using the guidelines and framework set through the product\n",
      "\n",
      "My daughter was so lucky to get the opportunity to see and play with the new Ariel Duplo set with the slide and the swing  her first question was why cant you take her tail of and give her legs.\n",
      "\n",
      "We often hear from our consumers how LEGO can be a passion for Autistic fans, or how the brick helps with coordination or rehabilitation after illness or for fans who have arthritis or similar challenges.  Another channel via our web pages could be audio instructions.  Boxes and/or Instructions could have a Braille link to an audio version of the building instructions, therefore, opening up the world of LEGO to partially sighted or blind people.  Whilst the colours of the bricks would be a challenge, each brick or element is easily identified.  The therapy and joy is in the building and the sense of achievement when a model is completed.\n",
      "\n",
      "We have received a few comments from fans regarding the Advent Calendars not being Christmassy enough and becoming too similar every year (especially City). Maybe it would be a good idea to rethink the format to follow the mini modular route? Each day there would be a few bricks to add to their build resulting in a  final mini model, such as a Christmas shop or cottage? Each year fans could then add to their winter villages.\"\n",
      "\n",
      "Is there any chance of introducing LEGO Scooby Doo, based on the pre Scrappy Doo days? These episodes are still running and classics for the young and young at heart! It works for Spongebob so why not the Scoobs. Maybe there will be another Scooby Doo movie to coincide with the release? Hanna Barbera have produced so many classic cartoons such as Tom And Jerry which are still very popular with children and families today, the possibilities are great\n",
      "\n",
      "As the school holidays are pretty long, especially in the summer, why don't we hold a competition in the Club magazines called, 'My Summer Holiday' where our cool creators can build a model illustrating something they did during their holiday?\n",
      "\n",
      "I love the concept of the mini LEGO Star Wars sets being able to store the pieces in a planet 'pod'. I have another idea to take this concept further and to educate children. Maybe it will be possible to design a range of 'eggs' which can contain an animal of some kind, i.e. a LEGO chicken coming from a chicken egg and a crocodile coming from a croc egg? The egg itself will be designed to look as realistic as possible even though the size of the real things may be an issue! We could even have some fun with it and design a dragon, alien or dinosaur egg?\n",
      "\n",
      "In Consumer Services our LEGO fans often ask if we have any stickers that we can send them. I was thinking that it may add to the purchase experience and desirability if there are limited edition stickers in some LEGO sets. Also collectors cards are another alternative and very popular at the moment.I am thinking along the lines of the old cigarette collectors cards which are now extremely desirable and some very rare. I would love to have a card collection of all of the LEGO sets I have owned as a reference guide. Like many fans,  there are so many it is hard to remember all of them. It is also great to see how LEGO has evolved. I love looking through the old catalogues from 30+ years ago for this reason. As well as the cards/stickers there is also a market for the albums to store them in,  the potential is great!\"\n",
      "\n",
      "Does LEGO plan to follow the trend introduced by Skylanders Giants where the character is placed on a base and transported into a video game? With LEGO the player can build a unique character and transport it into a game on-screen. I think the idea of making any character could be a unique selling point for LEGO. Also,  wonder if it is possible to add a story DVD or simple game in with a LEGO set so that play can continue in a different format?\"\n",
      "\n",
      "LEGO fans have asked me why the LEGO boxes are so large compared to the amount of LEGO bricks inside. The main issue being that when the set is made, the box is thrown away because it is too big to store. Most fans I know keep their sets organised rather than mixing all of them up and for those organised ones.  I wonder if we can add a sealed bag inside each box to store the pieces together when the set has been made and then broken up again? This would keep all of the pieces together and make for easier storage as it would be much smaller than the box. Maybe it will be possible to print something on the bag such as the set number and a picture of the completed set?\"\n",
      "\n",
      "Can we have a LEGO Minifigure App where fans can design their own minifigures? These ideas could be used for future Minifigure Series.\n",
      "\n",
      "Will we be able to have a Staff Shop in the Slough office? If staffing it is an issue maybe we could have limited opening hours like an hour a day, manned on a rota basis. I guess space may also be an issue! It will be interesting to hear what people think.\n",
      "\n",
      "It would be a great addition to LEGO boxes or instructions if there was a QR code on them to take the fan to a story, other sets in the range or online games. This could incorporate the LEGO logo and basic colours as per the picture above.\"\n",
      "\n",
      "Since I have worked for LEGO I have received many letters from fans requesting LEGO to build a London Bus. This would be great as a large, exclusive model the same scale as the VW Camper.Also seen a few requests for Eddie Stobart Trucks which would work well in LEGO form. Eddie's trucks are worthy of their own TV show so I guess that gives them a little celebrity status! I also like the idea of having a huge truck that you can make to store LEGO bricks in,  like an articulated tipper,  trailer or just a giant version of the yellow LEGO truck (3221).\"\n",
      "\n",
      "Will we ever produce another exclusive chess set such as Lord Of The Rings? I love the one pictured and think that a set of a similar scale to this will be amazing!\n",
      "\n",
      "Being younger than 13 y/o can be though in the digital world. You are always one click away from harmful and inappropriate messages. - Ask a friend for help! And what childrens friend understands the needs of the small ones better that the LEGO Group? I propose that the LEGO Group will offer free e-mail boxes for children!Can you remember the rush when you created your first e-mail box, the time it took you to think of the coolest name EVER? Can you remember your first e-mail address? I do,  mine was masta-joda. I think that the LEGO group should be there for children when they are making their first steps on the Web. The growth of popularity of the digital playground is a fact. The most fun places require a registrations and an e-mail address. With a LEGO e-mail you will take our company whenever you go on the web! The benefit is double-sided as this alows the LEGO Group to create a vast database of  fans and supply them with newsletters about their favorite LEGO series. Children should be also able to automatically register to the LEGO Club to expand their LEGO experience with fun printed Club Magazines.\"\n",
      "\n",
      "We have mutliple galleries for showing off cool LEGO builds on LEGO.com and we often hear of parents calling consumer services to talk about how great their children are at building. When a child has finished a build, it's great for them to show it off to their family and friends but they could also be showing them off to the wider children's community of thouands of highly engaged peers to get positive feedback and encouragement to build more. A cal out in the boxes or build booklets to share their builds on LEGO.com would be brilliant!\"\n",
      "\n",
      "On LEGO.com we have thriving messageboards that any customer can use for a wide range of discussion topics. They can: ???? and much more. When a child builds something,  they obviously aren't just playing with plastic bricks,  they're playing with the idea behind the theme and inventing roleplay around their build to extend the enjoyment of the sets. This can be extended exponentially by encouraging builders to visit and become members of the LEGO.com Message Boards community. When their parents or siblings get fed up of roleplaying with them or when they think their question is too trivial to call consumer services, they can visit our MBs and ask questions or roleplay until the energy from their last batch of chcoloate Father Christmasses wears off! If we could add a call out to the message boards in boxes with a brief explanation as to what they can do there,  it could be a huge benefit to us and the customer.\"\n",
      "\n",
      "I need help to translate my ideas from Danish to English. It is a shame if ideas lost because of language skills. Create an opportunity to submit ideas in multiple languages<U+200B><U+200B>\n",
      "\n",
      "This idea coming from my wife, when we wanted buy new LEGO models and looking on place where will be exposed. Similar as the 20x30x20 cm...\n",
      "\n",
      "creat an avatar to play.\n",
      "\n",
      "A software or Guide for the creation or development for new system. in pmy pc when i have difent types of partes  i can creat a system an leather purched the pieces and recreat. and difent ways to mix difent systems.\"\n",
      "\n",
      "Create themed LEGO reward calendars similar to the structure of the advent calendar sets. A reward calendar/chart can be used to reinforce good behavior and can help a child make good behavioral decisions. After children have achieved a certain amount reward stickers that they apply to the calendar door they can open a door to reveal themed minifigures, models and accessories. This product can be offered in several different themes just as the advent calendars are\n",
      "\n",
      "Now that Lego has 80 years,  why not to launch a special edition?  a  collection of  amazing constructions:  Petra,  Hagia Sophia, the Victorian Abbey Mill in London,  Peterhof in Russia, Tajin in Mexico, etc., I think they would look gorgeous built in lego  :D\n",
      "\n",
      "There's an emerging trend toward wearable devices and monitoring everyday activities - think Nike+. What if there were a sensor that could attach to LEGO bricks or a way to tag the bricks from a single set or certain types of elements or some other way to track the activity of a LEGO brick (how many times it's been used, in what models) and even share that activity with others?\n",
      "\n",
      "\"Christmas Winter Village\" product in LEGO CITY or LEGO Creator or LEGO Friends theme.  Product should be very specific to christmas theme, where village could be european, oriental, american or native/ancient style christmas time winter villages with lots of decoration elements.  Hope everyone like this idea.\n",
      "\n",
      "Consumer Services handles many contacts from disappointed fans who have purchased factory sealed packages that are missing all the minifigures. These consumers have usually bought the set at a non LBR retail store.   There is nothing worse than opening up your new Star Wars or Ninjago set and finding that the minifigures are all gone! The current tape that we use to seal the boxes can easily be tampered with. My colleague, Rocky, did an experiment with a TMNT set that he purchased.  Her carefully removed the tape, emptied the box and placed the tape back on the box.  The average consumer/retail associate would never have guessed that the tape had been removed.  We could possibly prevent a consumer from purchasing these tampered with boxes by using tamper proof tape. This tape would have red lines on it that break upon removal. It would prevent our partners (TRU, Wal-Mart, etc.)  from allowing unopened sets to be returned and resold to our valued fans.\n",
      "\n",
      "As a child I loved the stories of the Grimm Brothers and I think it would be great to see them realised as LEGO sets. Children in Central Europe grow up with these stories and although it might seem a little old fashioned I think it would be a great idea. The tales are not only exciting stories but also teach children valuable lessons for live.\n",
      "\n",
      "A new 'build your own' Ent set. Includes a \"\"core\"\" figure for a starting point, that is covered in studs and has basic articulation. The set then includes loads of brown elements and different leaf elements to build on the core figure,  to design and create your own LOTR Ent.\"\n",
      "\n",
      "While building with city products it is easy to create roads and buildings to interact with but I have a difficult time building with my LOTR or SW sets with the background being green/blue/grey base plates and nothing that helps me imagine my ships actually flying through space or my armies marching on Mt doom. As most of us  are aware with the advent calendars that have small play space that allows us to have a mat to build on we are able to envision a christmas village or a scene from star wars. If we had this on the large scale as well it would help ous create a world for all of our different themes. These scenes could be on canvas or another material that lasts.\n",
      "\n",
      "In CRS every time we send out a parts order the customer received a letter and email stating that their pieces are on their way from Denmark and should arrive in 7-10 days. This is can be the first time that that our American customer finds out that we are not an American company. There is currently a popular movement in the US to be pro-american and buy only US made products. I believe that a simple auto generated line in our emails could include a little information that we do have a factory in the USA to not only separate ourselves from some the outsourcing  companies but also our competitors use ship everything over from china. It could be as simple as: While our parts warehouse is located in Denmark,  one of the factories where some of your favorite sets are made is right here in Texas! This can easily be directed to go in US parts orders only much like other bits of info that are territory specific.\"\n",
      "\n",
      "I think Lego should make their own version of classic childhood games like connect 4, battleship, checkers, tic-tac-toe, monopoly, Sorry, guess who, chutes and ladders and clue.  These games are childhood favorites that everyone still enjoys playing across all age groups.  If Creationary is any indication of the success of Lego Games then I believe these games can help boost sales as well.\n",
      "\n",
      "I have been collecting the Winter Bakery, Toy shop and post office. A great addition would be lines along the idea of Santa's grotto, Elves workshop, Santa's Sleigh and other such related sets.\n",
      "\n",
      "The Brick Apple set (3300000) may have been discontinued, but the demand and popularity of this souvenir has not. Everyday guests come to the only LEGO store in Manhattan (at Rockefeller Plaza) in hopes of getting their hands on the apple set to commemorate their special NYC trip. Since this fun polybag is no longer in production, the idea I had was to make a permanent monthly Pickable of an apple, and have it as an exclusive for the NYC stores. The idea came to me as I helped a guest construct an apple from the bricks off the Pick-A-Brick wall, soon enough many guests started filling their cups with all sorts of red brick to do the same thing at home. A pickable of an Apple would fill the void left from 3300000 and not require any new molds. This would certainly satisfy many builders who are looking for that special memento from the NYC store. I've included the picture of the apple I made for the two guests. Not my best build, but the guests were extremely happy.\n",
      "\n",
      "An app for a smartphone or even computer that is connected to something of a social network.  You can scan the barcodes of sets you have or enter them manually, and the app will allow you to share your collection with your friends.  You could sort your sets by theme, piece count, etc.  You could even see which parts you have and how many of each color, etc.  You could even have a \"sets I want\" section.  This would probably be huge with the AFOL community.\n",
      "\n",
      "People are using smartphones to almost everything. We should follow that track and in the Mindstorm we should build in the posibility to both control the \"robot\" from the smartphone as well as the posibility to program it from the phone. There could be a camera on the Mindstorm Robot that could submit signal to a smartphone and there are a lot of possibilities in connecting the smartphone with the Mindstorm Robot.\n",
      "\n",
      "Our PAB boxes take a long time to process since the descriptions aren't very specific or are cut off on the labels. Rather than having to open each box to tape an element to the front, we should have a picture of the part. Color printing may not be a reasonable option, so even a black and white diagram with the color of the brick printed beneath would be hugely beneficial. This would considerably cut down labor for processing and make filling the wall and organizing the back stock MUCH easier.\n",
      "\n",
      "I came across the last year christmas calender and did remember how hard it was for the kids to open each \"door\" without breaking it - it must be possible to make it the same strength as the  chocolate calender... (Several door/tiny instructions were broken just to get into the bricks). And taling about chocolate - Toms Chocolate had one where each door would fall off when you upen it - that would make it easier to get the mini building instruction into the ligt and actually see what you are supposed to build. We want to save each tiny instruction anyway so instread of mee using a pair of scissors when christmas is done, we could have saved them in the process through December and have had a better building experience.\"\n",
      "\n",
      "Immagine if LEGO could spark global innovation within sustainability. If LEGO sets could illustate a future situation - it could be alternative transportation types like air born rail roads above the high way, cool machines, examples of sorting materials for recycling or something else. - By following sustanability forums and what these specialist whish for in the future and then making it concrete by creating it in LEGO bricks - It would go out gobally and maybe spark innovation at exactly the right people who can make it become reality! At the same time we can spark the idea with kids and start education and imagination within sustainability :-)\"\n",
      "\n",
      "Instead of 24 individual small models, I suggest introducing parallel concept: One big model,  divided into 24 building steps (or 24 groups of buidling steps), LEGO box is not to be given directly,  unopenned to receiver - box is ment to be bought by partents etc. for them to \"\"personalize gift\"\" before passing on: Split LEGO elements in 24 \"\"pre packs\"\", Split LEGO building instruction in 24 (delivered in lose sheets), Gift wrap ,   Objectives: =- higher degree of link From day to day,  what do you think its going to be ?\n",
      "\n",
      "I built for several nights for the Unimog U400, a multi-function tool car. It is really a good way for us to build it. I feel so good to see the basic car machine operation in such a model. As an engineer, it is really better to build such model than only read it in book. Although I am not an Technic fans,  it is really interesting to have such challenge to build this complicated model.\"\n",
      "\n",
      "Christmas table crackers which include a LEGO minifigure as the gift. I made my own this year for my family and sourced appropriate characters for each family member from eBay. So much better than the cheap plastic contents you normally receive.\n",
      "\n",
      "I remember that as a child I was playing with LEGO where used to be on a back side of the box three optional constructs related to brick content. There were no building instruction for those constructs. Simply based on detailed photos on the box a child could guess and figure out how to build them. I am missing this experience while playing with my child and challenge her to dare to try it.\n",
      "\n",
      "In the Xmas vacation, I was building the Monster Fighters Haunted House. Unfortunately the building instruction was flawed as 10 pages of it were missing (another 10 pages was inserted twice...). I then found the building instruction on LEGO.com and used the pdf found there on my ipad instead. However the resolution on this pdf version was not great and it was at times difficult to distinguish the different colours from each other (eg brown and black). If the digital versions could be in a better quality, I think it will enhance the experience (also when rebuilding sets for those who do not store the building instructions).\n",
      "\n",
      "Why not devote a theme to the winter? A LEGO City theme, but in the mountains.. It could be inspired by the European Alps with Tyrol house, skislopes and lifts, snowmobile, Christmas market and santas workshop? We have the winter village D2C theme in assortment today, so we allready have a few products to inspire the new theme!\n",
      "\n",
      "I'm thinking of a series of cars that are recognised all around the world. I noticed the London Bus idea in this forum and was glad that I'm not the only one who has that idea. I really enjoyed building the Camper Van and think that we need more products in that direction aimed for more mature builders. Here are some ideas for products: ?? - San Fransisco Cable Car (not a car,  but iconic vehicle), - Citroen 2CV, - Bugatti T 41 (royal)\"\n",
      "\n",
      "I think it could be a great idea to start up a Starcraft licenced Lego branch. It is a very popular computer game, one of the most successful ones. In South Korea there are competitions as well with the strategy game. I think with good marketing it could be almost as popular and successful as the StarWars licensing.\n",
      "\n",
      "Unfortunately I have experienced several times when I have bulit a bigger \"wall\" from bricks that should have been the same colour, that actually they weren't the colour, and I could easiliy recognize the shade differeneces between the bricks, eventhough I'm not a colour specialist. I think Lego should be more sharp on this, and there are certain easy to do steps that could definitely improve this field.\n",
      "\n",
      "I don't really know if this is the right forum to express my feelings regarding this years Lego Christmas set. But I would like to thank all of you very much for this amazing set, who has been incvolved in the design, manufacturing and delivering these sets. I have been working for Lego since december of 2008., when the Lego took over the Flextronics factory in Nyiregyhaza, but I can tell you that this box was the most exciting one since that takeover. Maybe it was beacuse this box contained a much more detailed Lego model, and of course much more pieces, than the previous ones. So keep up the good work guys,  I hope this years Christmas presents will be at least this exciting and good,  like last years.\"\n",
      "\n",
      "Unfortunately I have recognized, that under the discussions menu, there is only one available topic \"Your Lego Childhood Memories\". I suggest to make it available for the forum users to create their own topics in the discussion menu. Or is it possible already, and/or is it just me who has this issue?\"\n",
      "\n",
      "Create some sets that can be build as teams (2-4 people). Each person would get a instruction book to build a part of the model and once all parts are built, they are put together to form the whole model. That way the whole family can be part of the building of a model. It could also be expanded to be be small models (in seperate boxes) that can be joined to form a large model.\"\n",
      "\n",
      "I have made some tests and would like to share it with you.it's about impact on item quality,  tool wear,  unexplained errors and holistic expenses, se my thoughts in this link and think of the wear and item measurement problems it can give LEGO , my advise is avoid different temp on the tool and solve miscellaneous problems otherwise , sorry i can not upload it ,  you can use this , F:\\CrossOrg\\CAE_Publ\\varmeudvidelse\\Konklusion_nr1.doc\n",
      "\n",
      "Many LEGO models are put aside from time to time, and they then end up being \"partially built\", and maybe with some missing pieces. As many people keep the boxes anyway, I thought it could be an idea to make the boxes in a geometry so they are suitable for storage of the built model, and thereby protecting the model. And possibley also with internal compartments, if the model is divided in several smaller models. I know this would that the front of the boxes in some cases would be smaller and maybe less \"inviting\", but in many cases it could make sense.\n",
      "\n",
      "When building I find that we spend a lot of time with the building instruction trying to define whether its a black or a dark grey brick we should use. And even though rebuilding is a part of the experience, it feels like time wasted just because you couldnt see which color to use. Could the building instructions be improved to reflect the needed color in a better way? E.g. by a color number or label? Do any of you have an idea on how to improve this?\"\n",
      "\n",
      "I believe that we should look into more ways of helping poor preforming SKUs before exiting them. I am not always convinced that there is no interested in an item as a whole just because it is not selling. Sometimes there can be the key visuals on the box or perhaps a poorly recieved design that could be reworked rather than having a new SKU to take its place. I believe taking a further look into these SKUs could perhaps save the company time and money. I have this opinion from what I have seen so far in my brief role as a Demand Planner here at LEGO. There are some great ideas that we are exiting that I believe have a higher potential and could use some more looking into. StarWars planets are a good example from 2012 that I believe could have been revisted an reworked. One of the main problems that I see with the planets at present is that they seem to have a limited functionality for play with the consumer. I believe that if we were to find new ways for them to incorporate these SKUs into their StarWars experience, then the product could do better (ie glow in the dark planets, better models to build inside planet, better color designs of planets, \"cooler\" minifugres etc).\n",
      "\n",
      "Far East sourced components are packed in a plastic material that is much harder to open than the normal pre-pack bags. Especially for children, who most often need a pair of scissors to open these bags. My idea is to replace these with the regular pre-pack bag material and make the opening frustration go away\n",
      "\n",
      "I think that the LEGO Brand has a big wave of possibilities due to it's vast product line, the problem is that it's video gamer's line has not quite settled down, at least not for the hardcore gamer market. At saying hardcore doesn't mean to create a bloody shooter, or a fighting game. I think that LEGO can create a video game with an original story, a deep and passionate story that mixes the main characters of their own universe. By this I'm referring to a well crafted Role Playing game similar to what SQUARE-ENIX made with his Top Selling PS2 game Kingdom Hearts (in 2002,where the loved characters from SQUARE were mixed with the loved characters from disney,  creating a unique universe  and of course,  a well renowned franchise. Maybe to achieve this a professional and well renowned writer is required, or the collaboration with a well known Game Developer. But i think it's worth investment. I've always thought that a good game starts with a good script and a deep story. Just imagine a Role Playing game, or an adventures game focused in the LEGO world, with a deep story...\"\n",
      "\n",
      "what about building ships.... i mean, take a look at Mrsk fleet...oiltankers. new and old ships. small and large (even the world's largest) ... just the thing for interested collectors.\n",
      "\n",
      "As most of the displays on computers sold are 16:9 I think it would be great for TLG to offer these formats on wallpapers downloadable from LEGO.com as well.Currently the choice of wallpaper-sizes are all 4:3 which make them look strange when scaled to fit a 16:9 monitor\"\n",
      "\n",
      "An element that really could give many new building ways and posibilities would be plates with knobs on both sides. Like a 2x4 plate without tubeside,  but instead knobs equal to the other side.. Same we could do woth 2x2,  1x2 and so onThis would really give news ways of building,  and one don't need to build tube against tube side,  like the B-wing... I really dont like the cracks of air between the plates  and here this would be an awesome solution..Update: I uploaded a pictures of an element  we use internaly here in Verification  for setup up bricks for measurement. This is created specially for this... but simular for building, just with equal number of knobs on both sides  and wittout the holes.. :-)\"\n",
      "\n",
      "Imagine your kids birthday where you have spent the evening completing the new LEGO Castle you have given him for his birthday present. After putting the last brick into place you have your magnificent castle standing completed and dormant on the living room floor.Now imagine that your boy lifts up his tablet and looks at the castle through the tablet and suddenly the castle comes to life right on your living room floor. When looking at the castle through the tablet the castle is suddenly bustling with life and suddenly a siege army is entering the picture and start attacking the castle.The next 10-30 minutes a LEGO battle takes place right in your house with the model your kid has just completed.The technology for making pictures come to life is available and has been taken into commercial use by Marvel comics. It should be noted that applying this technology to models and not pictures will probably come with some challenges and needs further investigation. The power of tablets and smart phones is now at a point where they can run this which makes it much more easily accessible for kids.By implementing this technology LEGO could bridge the gap between the psychical play and the digital play.This would extend the playtime for kids and would serve as a natural transaction from the psychical play into the digital play e.g. in the form of launching a game where the story takes off from where the battle on your living room floor ended.Take,  the time to look at this TED talks video where Matt Mills and Tamara Roukaerts demonstrate Aurasma,  a new augmented reality tool that can animate the world as seen through a Smartphone,http://www.youtube.com/watch?v=frrZbq2LpwI Also see this demonstration of how Marvel has made use of this technology to enhance their product. http://www.sidekickcast.com/?p=5882 http://www.forbes.com/sites/tomiogeron/2012/03/11/marvel-comics-axel-alonso-new-app-augments-reality-video/\"\n",
      "\n",
      "Remember when all LEGO boxes had alternate models on the back? They went away for some reason (I heard it was because some parents complained there were no instructions provided? Too bad). Now we have the ability to connect people who own a particular LEGO set online. Let's enable them to build virtual alternate models using just the parts from their set, and post that alternate model for other LEGO fans to see and build. Fans can vote up their favorite alternates for a particular LEGO set, they can earn rewards and achievements for their model's popularity, and we can showcase their models on LEGO.com, in the LEGO Club, and other places.\n",
      "\n",
      "Give the building an understanding of how far they are in the building experience and why they are building what they are building. Examples could be:* Step 4 of 45 - so the builder understand that they have a lot of steps to complete still, * Show on every page of a sub-build where the final construct will fit on the model\"\n",
      "\n"
     ]
    }
   ],
   "source": [
    "for i in range(len(ideas)):\n",
    "    print(ideas['Body'][i] + '\\n')"
   ]
  },
  {
   "cell_type": "markdown",
   "metadata": {},
   "source": [
    "### Gather data needed to score the ideas based on specification\n",
    "\n",
    "The data needed includes the number of votes, whether the idea was selected by an expert and the mean sentiment score of the comments to each idea. \n",
    "\n",
    "\n",
    "Before calculating the sentiment score, the comments need to be preprocessed. This is done by removing stop words and punctuation, as well as ensure that everything is lower case. Furthermore, the words are lemmatized. All of this is done using the `clean_text` function which is defined in the `helper_functions.py` file. "
   ]
  },
  {
   "cell_type": "code",
   "execution_count": 80,
   "metadata": {},
   "outputs": [],
   "source": [
    "com = comments['Comment']"
   ]
  },
  {
   "cell_type": "code",
   "execution_count": 81,
   "metadata": {},
   "outputs": [],
   "source": [
    "stop_words = set(stopwords.words(\"english\")) # list of stop words\n",
    "clean_com = clean_text(com, stop_words) # clean comments using clean_text function from helper_functions.py file (see file for code)"
   ]
  },
  {
   "cell_type": "code",
   "execution_count": 109,
   "metadata": {},
   "outputs": [],
   "source": [
    "sent = SentimentIntensityAnalyzer() \n",
    "comments['sentiment_score'] = [sent.polarity_scores(clean_com[i][0])['compound'] for i in range(len(clean_com))]\n",
    "# adding more weight to comments with more votes\n",
    "comments['sentiment_score'] = comments['sentiment_score'] * (1 + comments['Number of votes'])"
   ]
  },
  {
   "cell_type": "markdown",
   "metadata": {},
   "source": [
    "Calculating the mean sentiment score for each idea"
   ]
  },
  {
   "cell_type": "code",
   "execution_count": 110,
   "metadata": {},
   "outputs": [],
   "source": [
    "df = pd.DataFrame()\n",
    "for i in ideas['Submission.ID'].unique():\n",
    "    # average the sentiment score for comments on each idea\n",
    "    avg_score = comments.loc[comments['Submission.ID'] == i, 'sentiment_score'].mean()\n",
    "\n",
    "    df = df.append({'submission_id': i, 'avg_sentiment': avg_score}, ignore_index=True)\n",
    "\n",
    "# the number of votes for each idea\n",
    "df['votes'] = list(ideas['Number.of.Votes'])\n",
    "# whether the idea was rated by an expert\n",
    "df['expert'] = list(ideas['Status(selectedbyexpert)'])\n",
    "# including the idea in the dataframe as to be able to show it later\n",
    "df['idea'] = ideas['Body']"
   ]
  },
  {
   "cell_type": "markdown",
   "metadata": {},
   "source": [
    "### Calculating the score of each of the ideas\n",
    "\n",
    "Changing the numbers in the following code chunk allows you to weigh the different variables differently when calculating the score. "
   ]
  },
  {
   "cell_type": "code",
   "execution_count": 111,
   "metadata": {},
   "outputs": [],
   "source": [
    "# setting up weights\n",
    "sentiment_weight = 25\n",
    "vote_weight = 50\n",
    "expert_weight = 25"
   ]
  },
  {
   "cell_type": "markdown",
   "metadata": {},
   "source": [
    "Before calculating the score of each idea, all the variables are normalized using min-max normalization. This means that the minimum value of each variable gets transformed into a 0, the maximum value gets transformed into a 1, and every other value gets transformed into a decimal between 0 and 1."
   ]
  },
  {
   "cell_type": "code",
   "execution_count": 112,
   "metadata": {},
   "outputs": [],
   "source": [
    "normalized_sent = min_max_normalization(df, 'avg_sentiment')\n",
    "normalized_sent.fillna(0, inplace=True)\n",
    "normalized_vote = min_max_normalization(df, 'votes')\n",
    "normalized_expert = min_max_normalization(df, 'expert')"
   ]
  },
  {
   "cell_type": "markdown",
   "metadata": {},
   "source": [
    "Now lets calculate the score of each idea"
   ]
  },
  {
   "cell_type": "code",
   "execution_count": 113,
   "metadata": {},
   "outputs": [],
   "source": [
    "df['score'] = sentiment_weight * normalized_sent + vote_weight * normalized_vote + expert_weight * normalized_expert\n",
    "df = df.sort_values(by = ['score'], ascending = False)\n",
    "df['rank'] = np.arange(1, len(df) + 1)"
   ]
  },
  {
   "cell_type": "markdown",
   "metadata": {},
   "source": [
    "### 10 ideas with the highest score"
   ]
  },
  {
   "cell_type": "code",
   "execution_count": 114,
   "metadata": {},
   "outputs": [
    {
     "data": {
      "text/html": [
       "<div>\n",
       "<style scoped>\n",
       "    .dataframe tbody tr th:only-of-type {\n",
       "        vertical-align: middle;\n",
       "    }\n",
       "\n",
       "    .dataframe tbody tr th {\n",
       "        vertical-align: top;\n",
       "    }\n",
       "\n",
       "    .dataframe thead th {\n",
       "        text-align: right;\n",
       "    }\n",
       "</style>\n",
       "<table border=\"1\" class=\"dataframe\">\n",
       "  <thead>\n",
       "    <tr style=\"text-align: right;\">\n",
       "      <th></th>\n",
       "      <th>submission_id</th>\n",
       "      <th>avg_sentiment</th>\n",
       "      <th>votes</th>\n",
       "      <th>expert</th>\n",
       "      <th>idea</th>\n",
       "      <th>score</th>\n",
       "      <th>rank</th>\n",
       "    </tr>\n",
       "  </thead>\n",
       "  <tbody>\n",
       "    <tr>\n",
       "      <th>9</th>\n",
       "      <td>30.0</td>\n",
       "      <td>0.792969</td>\n",
       "      <td>25</td>\n",
       "      <td>1</td>\n",
       "      <td>Im so happy that we in the P-shop now has the ...</td>\n",
       "      <td>77.457500</td>\n",
       "      <td>1</td>\n",
       "    </tr>\n",
       "    <tr>\n",
       "      <th>0</th>\n",
       "      <td>4.0</td>\n",
       "      <td>0.736935</td>\n",
       "      <td>25</td>\n",
       "      <td>1</td>\n",
       "      <td>Often I see a LEGO box get torn open because i...</td>\n",
       "      <td>76.886518</td>\n",
       "      <td>2</td>\n",
       "    </tr>\n",
       "    <tr>\n",
       "      <th>100</th>\n",
       "      <td>181.0</td>\n",
       "      <td>0.893200</td>\n",
       "      <td>21</td>\n",
       "      <td>1</td>\n",
       "      <td>Far East sourced components are packed in a pl...</td>\n",
       "      <td>71.582294</td>\n",
       "      <td>3</td>\n",
       "    </tr>\n",
       "    <tr>\n",
       "      <th>26</th>\n",
       "      <td>50.0</td>\n",
       "      <td>1.410933</td>\n",
       "      <td>13</td>\n",
       "      <td>1</td>\n",
       "      <td>LEGO Smart Bag is larger bag used to organize,...</td>\n",
       "      <td>63.064862</td>\n",
       "      <td>4</td>\n",
       "    </tr>\n",
       "    <tr>\n",
       "      <th>23</th>\n",
       "      <td>21.0</td>\n",
       "      <td>0.984590</td>\n",
       "      <td>29</td>\n",
       "      <td>0</td>\n",
       "      <td>I think it would make the gifts of the Advent ...</td>\n",
       "      <td>61.306656</td>\n",
       "      <td>5</td>\n",
       "    </tr>\n",
       "    <tr>\n",
       "      <th>71</th>\n",
       "      <td>120.0</td>\n",
       "      <td>1.049012</td>\n",
       "      <td>28</td>\n",
       "      <td>0</td>\n",
       "      <td>Consumer Services handles many contacts from d...</td>\n",
       "      <td>60.238980</td>\n",
       "      <td>6</td>\n",
       "    </tr>\n",
       "    <tr>\n",
       "      <th>5</th>\n",
       "      <td>147.0</td>\n",
       "      <td>1.696200</td>\n",
       "      <td>6</td>\n",
       "      <td>1</td>\n",
       "      <td>By installing a few PCs in brand retail stores...</td>\n",
       "      <td>53.902747</td>\n",
       "      <td>7</td>\n",
       "    </tr>\n",
       "    <tr>\n",
       "      <th>6</th>\n",
       "      <td>125.0</td>\n",
       "      <td>1.336500</td>\n",
       "      <td>8</td>\n",
       "      <td>1</td>\n",
       "      <td>There are so many papers and projects about th...</td>\n",
       "      <td>53.685701</td>\n",
       "      <td>8</td>\n",
       "    </tr>\n",
       "    <tr>\n",
       "      <th>29</th>\n",
       "      <td>34.0</td>\n",
       "      <td>1.249333</td>\n",
       "      <td>7</td>\n",
       "      <td>1</td>\n",
       "      <td>It would be great to include little games or q...</td>\n",
       "      <td>51.073340</td>\n",
       "      <td>9</td>\n",
       "    </tr>\n",
       "    <tr>\n",
       "      <th>55</th>\n",
       "      <td>123.0</td>\n",
       "      <td>1.539867</td>\n",
       "      <td>5</td>\n",
       "      <td>1</td>\n",
       "      <td>Can we have a LEGO Minifigure App where fans c...</td>\n",
       "      <td>50.585582</td>\n",
       "      <td>10</td>\n",
       "    </tr>\n",
       "  </tbody>\n",
       "</table>\n",
       "</div>"
      ],
      "text/plain": [
       "     submission_id  avg_sentiment  votes  expert  \\\n",
       "9             30.0       0.792969     25       1   \n",
       "0              4.0       0.736935     25       1   \n",
       "100          181.0       0.893200     21       1   \n",
       "26            50.0       1.410933     13       1   \n",
       "23            21.0       0.984590     29       0   \n",
       "71           120.0       1.049012     28       0   \n",
       "5            147.0       1.696200      6       1   \n",
       "6            125.0       1.336500      8       1   \n",
       "29            34.0       1.249333      7       1   \n",
       "55           123.0       1.539867      5       1   \n",
       "\n",
       "                                                  idea      score  rank  \n",
       "9    Im so happy that we in the P-shop now has the ...  77.457500     1  \n",
       "0    Often I see a LEGO box get torn open because i...  76.886518     2  \n",
       "100  Far East sourced components are packed in a pl...  71.582294     3  \n",
       "26   LEGO Smart Bag is larger bag used to organize,...  63.064862     4  \n",
       "23   I think it would make the gifts of the Advent ...  61.306656     5  \n",
       "71   Consumer Services handles many contacts from d...  60.238980     6  \n",
       "5    By installing a few PCs in brand retail stores...  53.902747     7  \n",
       "6    There are so many papers and projects about th...  53.685701     8  \n",
       "29   It would be great to include little games or q...  51.073340     9  \n",
       "55   Can we have a LEGO Minifigure App where fans c...  50.585582    10  "
      ]
     },
     "execution_count": 114,
     "metadata": {},
     "output_type": "execute_result"
    }
   ],
   "source": [
    "df.nsmallest(10, 'rank')"
   ]
  },
  {
   "cell_type": "markdown",
   "metadata": {},
   "source": [
    "To print the ideas with the highest scores, run the code below. "
   ]
  },
  {
   "cell_type": "code",
   "execution_count": 115,
   "metadata": {},
   "outputs": [
    {
     "name": "stdout",
     "output_type": "stream",
     "text": [
      "[INFO] idea 30.0: Im so happy that we in the P-shop now has the oppertunity to fill a bag of minifigure parts, wich I assume would just go to waste/scrap. Why dont we expand this oppertunity to include bricks as well? This would be a win/win situation for the company and the employee. The company reduces the waste/scrap (Planet Promis) and the employee has access to bricks with a discount.\n",
      "\n",
      "[INFO] idea 4.0: Often I see a LEGO box get torn open because it is not obvious how to open it without damaging it. I think it would be nice if there was an easier way to open the box.\n",
      "\n",
      "[INFO] idea 181.0: Far East sourced components are packed in a plastic material that is much harder to open than the normal pre-pack bags. Especially for children, who most often need a pair of scissors to open these bags. My idea is to replace these with the regular pre-pack bag material and make the opening frustration go away\n",
      "\n",
      "[INFO] idea 50.0: LEGO Smart Bag is larger bag used to organize, store &amp. This bag would not require any changes to the current packaging production lines,  just an added element the smart bag to be included in every set. The Smart Bag would be used after the original bags were opened and discarded as a smart way to keep your sets in order. The smart bag is not only a way to better organize and showcase your sets but it can potentially promote creativity and more LEGO play by providing a way to re-live the initial out of the box experience time and time again before the brick sets a relegated to the bin. The bags could have a zip-lock feature and still would have a very low cost relative to the value added.\"\n",
      "\n",
      "[INFO] idea 21.0: I think it would make the gifts of the Advent Calendar truely amazing, if after the 24th there would be a building instruction where using the the bricks of 24 small gifts you could make one big thing. F.ex for Star Wars that you could create a bigger spaceship with the bricks. First,  it would make  day 24 truely special. Second,  it would show to the kids that bricks can be used in different ways,  and encourage them to be creative (and not just assemble sets once).\"\n",
      "\n",
      "[INFO] idea 120.0: Consumer Services handles many contacts from disappointed fans who have purchased factory sealed packages that are missing all the minifigures. These consumers have usually bought the set at a non LBR retail store.   There is nothing worse than opening up your new Star Wars or Ninjago set and finding that the minifigures are all gone! The current tape that we use to seal the boxes can easily be tampered with. My colleague, Rocky, did an experiment with a TMNT set that he purchased.  Her carefully removed the tape, emptied the box and placed the tape back on the box.  The average consumer/retail associate would never have guessed that the tape had been removed.  We could possibly prevent a consumer from purchasing these tampered with boxes by using tamper proof tape. This tape would have red lines on it that break upon removal. It would prevent our partners (TRU, Wal-Mart, etc.)  from allowing unopened sets to be returned and resold to our valued fans.\n",
      "\n",
      "[INFO] idea 147.0: By installing a few PCs in brand retail stores we can tap into the creativity of our visitors. At the same time this can increase the shopping experience as well as it makes shoppers stay longer in the stores.\n",
      "\n",
      "[INFO] idea 125.0: There are so many papers and projects about the antimicrobial coatings for plastics using TiO2 or another oxide semiconductors, this could be useful for the kids and their health, because this nanocomposites can inhibit the activity of reproduction of bacteria E.Coli. Here in Monterrey, Mexico there are research about TiO2 and its photocatalytic efficiency and actually I have worked with the optimization of the synthesys of oxides semiconductors for other aplications. This technology for the plastics can be used on the LEGO bricks giving additional value to the toys.\n",
      "\n",
      "[INFO] idea 34.0: It would be great to include little games or questionnaires into the instruction, especially if you have to build stuff 2 or 4 times.\n",
      "\n",
      "[INFO] idea 123.0: Can we have a LEGO Minifigure App where fans can design their own minifigures? These ideas could be used for future Minifigure Series.\n",
      "\n"
     ]
    }
   ],
   "source": [
    "for (i, idea) in enumerate(df.nlargest(10, 'score')['idea']):\n",
    "    print(f\"[INFO] idea {df.nlargest(10, 'score')['submission_id'].iloc[i]}: {idea}\\n\")"
   ]
  },
  {
   "cell_type": "markdown",
   "metadata": {},
   "source": [
    "### 10 ideas with the lowest score"
   ]
  },
  {
   "cell_type": "code",
   "execution_count": 116,
   "metadata": {},
   "outputs": [
    {
     "data": {
      "text/html": [
       "<div>\n",
       "<style scoped>\n",
       "    .dataframe tbody tr th:only-of-type {\n",
       "        vertical-align: middle;\n",
       "    }\n",
       "\n",
       "    .dataframe tbody tr th {\n",
       "        vertical-align: top;\n",
       "    }\n",
       "\n",
       "    .dataframe thead th {\n",
       "        text-align: right;\n",
       "    }\n",
       "</style>\n",
       "<table border=\"1\" class=\"dataframe\">\n",
       "  <thead>\n",
       "    <tr style=\"text-align: right;\">\n",
       "      <th></th>\n",
       "      <th>submission_id</th>\n",
       "      <th>avg_sentiment</th>\n",
       "      <th>votes</th>\n",
       "      <th>expert</th>\n",
       "      <th>idea</th>\n",
       "      <th>score</th>\n",
       "      <th>rank</th>\n",
       "    </tr>\n",
       "  </thead>\n",
       "  <tbody>\n",
       "    <tr>\n",
       "      <th>35</th>\n",
       "      <td>45.0</td>\n",
       "      <td>NaN</td>\n",
       "      <td>0</td>\n",
       "      <td>0</td>\n",
       "      <td>Create Skylanders LEGO Figurs - the skylanders...</td>\n",
       "      <td>0.000000</td>\n",
       "      <td>108</td>\n",
       "    </tr>\n",
       "    <tr>\n",
       "      <th>45</th>\n",
       "      <td>58.0</td>\n",
       "      <td>NaN</td>\n",
       "      <td>1</td>\n",
       "      <td>0</td>\n",
       "      <td>Combining a dungeon and dragons storytelling a...</td>\n",
       "      <td>1.724138</td>\n",
       "      <td>107</td>\n",
       "    </tr>\n",
       "    <tr>\n",
       "      <th>66</th>\n",
       "      <td>165.0</td>\n",
       "      <td>NaN</td>\n",
       "      <td>1</td>\n",
       "      <td>0</td>\n",
       "      <td>A software or Guide for the creation or develo...</td>\n",
       "      <td>1.724138</td>\n",
       "      <td>106</td>\n",
       "    </tr>\n",
       "    <tr>\n",
       "      <th>85</th>\n",
       "      <td>144.0</td>\n",
       "      <td>NaN</td>\n",
       "      <td>1</td>\n",
       "      <td>0</td>\n",
       "      <td>I built for several nights for the Unimog U400...</td>\n",
       "      <td>1.724138</td>\n",
       "      <td>105</td>\n",
       "    </tr>\n",
       "    <tr>\n",
       "      <th>97</th>\n",
       "      <td>173.0</td>\n",
       "      <td>NaN</td>\n",
       "      <td>2</td>\n",
       "      <td>0</td>\n",
       "      <td>Many LEGO models are put aside from time to ti...</td>\n",
       "      <td>3.448276</td>\n",
       "      <td>104</td>\n",
       "    </tr>\n",
       "    <tr>\n",
       "      <th>68</th>\n",
       "      <td>93.0</td>\n",
       "      <td>0.000</td>\n",
       "      <td>2</td>\n",
       "      <td>0</td>\n",
       "      <td>Now that Lego has 80 years,  why not to launch...</td>\n",
       "      <td>4.722018</td>\n",
       "      <td>103</td>\n",
       "    </tr>\n",
       "    <tr>\n",
       "      <th>37</th>\n",
       "      <td>47.0</td>\n",
       "      <td>NaN</td>\n",
       "      <td>4</td>\n",
       "      <td>0</td>\n",
       "      <td>Make sure to have a bag with a LEGO figure + a...</td>\n",
       "      <td>6.896552</td>\n",
       "      <td>102</td>\n",
       "    </tr>\n",
       "    <tr>\n",
       "      <th>65</th>\n",
       "      <td>164.0</td>\n",
       "      <td>NaN</td>\n",
       "      <td>4</td>\n",
       "      <td>0</td>\n",
       "      <td>creat an avatar to play.</td>\n",
       "      <td>6.896552</td>\n",
       "      <td>101</td>\n",
       "    </tr>\n",
       "    <tr>\n",
       "      <th>82</th>\n",
       "      <td>133.0</td>\n",
       "      <td>NaN</td>\n",
       "      <td>4</td>\n",
       "      <td>0</td>\n",
       "      <td>I came across the last year christmas calender...</td>\n",
       "      <td>6.896552</td>\n",
       "      <td>100</td>\n",
       "    </tr>\n",
       "    <tr>\n",
       "      <th>33</th>\n",
       "      <td>146.0</td>\n",
       "      <td>-0.125</td>\n",
       "      <td>5</td>\n",
       "      <td>0</td>\n",
       "      <td>When playing Creationary (LEGO Games) with my ...</td>\n",
       "      <td>8.620690</td>\n",
       "      <td>99</td>\n",
       "    </tr>\n",
       "  </tbody>\n",
       "</table>\n",
       "</div>"
      ],
      "text/plain": [
       "    submission_id  avg_sentiment  votes  expert  \\\n",
       "35           45.0            NaN      0       0   \n",
       "45           58.0            NaN      1       0   \n",
       "66          165.0            NaN      1       0   \n",
       "85          144.0            NaN      1       0   \n",
       "97          173.0            NaN      2       0   \n",
       "68           93.0          0.000      2       0   \n",
       "37           47.0            NaN      4       0   \n",
       "65          164.0            NaN      4       0   \n",
       "82          133.0            NaN      4       0   \n",
       "33          146.0         -0.125      5       0   \n",
       "\n",
       "                                                 idea     score  rank  \n",
       "35  Create Skylanders LEGO Figurs - the skylanders...  0.000000   108  \n",
       "45  Combining a dungeon and dragons storytelling a...  1.724138   107  \n",
       "66  A software or Guide for the creation or develo...  1.724138   106  \n",
       "85  I built for several nights for the Unimog U400...  1.724138   105  \n",
       "97  Many LEGO models are put aside from time to ti...  3.448276   104  \n",
       "68  Now that Lego has 80 years,  why not to launch...  4.722018   103  \n",
       "37  Make sure to have a bag with a LEGO figure + a...  6.896552   102  \n",
       "65                           creat an avatar to play.  6.896552   101  \n",
       "82  I came across the last year christmas calender...  6.896552   100  \n",
       "33  When playing Creationary (LEGO Games) with my ...  8.620690    99  "
      ]
     },
     "execution_count": 116,
     "metadata": {},
     "output_type": "execute_result"
    }
   ],
   "source": [
    "df.nlargest(10, 'rank')"
   ]
  },
  {
   "cell_type": "markdown",
   "metadata": {},
   "source": [
    "To print the ideas with the lowest scores, run the code below. "
   ]
  },
  {
   "cell_type": "code",
   "execution_count": 117,
   "metadata": {},
   "outputs": [
    {
     "name": "stdout",
     "output_type": "stream",
     "text": [
      "[INFO] idea 45.0: Create Skylanders LEGO Figurs - the skylanders figurs should be a part of normal play sets and thereby both offer the physical play and play with the mini figure in a game.\n",
      "\n",
      "[INFO] idea 144.0: I built for several nights for the Unimog U400, a multi-function tool car. It is really a good way for us to build it. I feel so good to see the basic car machine operation in such a model. As an engineer, it is really better to build such model than only read it in book. Although I am not an Technic fans,  it is really interesting to have such challenge to build this complicated model.\"\n",
      "\n",
      "[INFO] idea 165.0: A software or Guide for the creation or development for new system. in pmy pc when i have difent types of partes  i can creat a system an leather purched the pieces and recreat. and difent ways to mix difent systems.\"\n",
      "\n",
      "[INFO] idea 58.0: Combining a dungeon and dragons storytelling and game element to the LEGO play experience  having a LEGO play master (Dungeon master) that builds the story and set the quests for the rest of the people using the guidelines and framework set through the product\n",
      "\n",
      "[INFO] idea 173.0: Many LEGO models are put aside from time to time, and they then end up being \"partially built\", and maybe with some missing pieces. As many people keep the boxes anyway, I thought it could be an idea to make the boxes in a geometry so they are suitable for storage of the built model, and thereby protecting the model. And possibley also with internal compartments, if the model is divided in several smaller models. I know this would that the front of the boxes in some cases would be smaller and maybe less \"inviting\", but in many cases it could make sense.\n",
      "\n",
      "[INFO] idea 93.0: Now that Lego has 80 years,  why not to launch a special edition?  a  collection of  amazing constructions:  Petra,  Hagia Sophia, the Victorian Abbey Mill in London,  Peterhof in Russia, Tajin in Mexico, etc., I think they would look gorgeous built in lego  :D\n",
      "\n",
      "[INFO] idea 133.0: I came across the last year christmas calender and did remember how hard it was for the kids to open each \"door\" without breaking it - it must be possible to make it the same strength as the  chocolate calender... (Several door/tiny instructions were broken just to get into the bricks). And taling about chocolate - Toms Chocolate had one where each door would fall off when you upen it - that would make it easier to get the mini building instruction into the ligt and actually see what you are supposed to build. We want to save each tiny instruction anyway so instread of mee using a pair of scissors when christmas is done, we could have saved them in the process through December and have had a better building experience.\"\n",
      "\n",
      "[INFO] idea 164.0: creat an avatar to play.\n",
      "\n",
      "[INFO] idea 47.0: Make sure to have a bag with a LEGO figure + a vehicle or something similar for the kids to play with while the adults or more expirienced kids finish the big build.\n",
      "\n",
      "[INFO] idea 87.0: I need help to translate my ideas from Danish to English. It is a shame if ideas lost because of language skills. Create an opportunity to submit ideas in multiple languages<U+200B><U+200B>\n",
      "\n"
     ]
    }
   ],
   "source": [
    "for (i, idea) in enumerate(df.nsmallest(10, 'score')['idea']):\n",
    "    print(f\"[INFO] idea {df.nsmallest(10, 'score')['submission_id'].iloc[i]}: {idea}\\n\")"
   ]
  },
  {
   "cell_type": "markdown",
   "metadata": {},
   "source": [
    "## Compare quality\n",
    "Compare quality with:​\n",
    "* The grammar of the body of the idea\n",
    "* Prior experience\n",
    "* Departments\n",
    "* Country"
   ]
  },
  {
   "cell_type": "code",
   "execution_count": 118,
   "metadata": {},
   "outputs": [],
   "source": [
    "# Grammar check of body of the idea\n",
    "tool = language_tool_python.LanguageTool('en-US')\n",
    "df['mistakes'] = [grammar_check(idea, tool) for idea in df['idea']]\n",
    "tool.close()\n",
    "\n",
    "# Prior experience\n",
    "df['prior_experience'] = ideas['prior_experience(idea generation)']\n",
    "\n",
    "# Department and country\n",
    "df['user_id'] = ideas['user_id']\n",
    "df = df.merge(ideator, on='user_id', how='left')"
   ]
  },
  {
   "cell_type": "markdown",
   "metadata": {},
   "source": [
    "Now lets have a quick look at these variables. "
   ]
  },
  {
   "cell_type": "code",
   "execution_count": 119,
   "metadata": {},
   "outputs": [
    {
     "data": {
      "text/plain": [
       "array(['innovation', 'marketing', 'sales', 'operations', 'manufacturing',\n",
       "       'service', 'engineering', 'quality', 'design', 'HR', 'hr', 'IT',\n",
       "       'finance', 'it'], dtype=object)"
      ]
     },
     "execution_count": 119,
     "metadata": {},
     "output_type": "execute_result"
    }
   ],
   "source": [
    "df['department'].unique()"
   ]
  },
  {
   "cell_type": "markdown",
   "metadata": {},
   "source": [
    "It seems as if the dataset includes two different departments 'it' and 'IT' that are the same (same goes for HR and hr). To ensure that they are treated as one, all the departments are turned into lower-case."
   ]
  },
  {
   "cell_type": "code",
   "execution_count": 120,
   "metadata": {},
   "outputs": [
    {
     "data": {
      "text/plain": [
       "array(['innovation', 'marketing', 'sales', 'operations', 'manufacturing',\n",
       "       'service', 'engineering', 'quality', 'design', 'hr', 'it',\n",
       "       'finance'], dtype=object)"
      ]
     },
     "execution_count": 120,
     "metadata": {},
     "output_type": "execute_result"
    }
   ],
   "source": [
    "df['department'] = df['department'].str.lower()\n",
    "df['department'].unique()"
   ]
  },
  {
   "cell_type": "markdown",
   "metadata": {},
   "source": [
    "Turns out that we have the same issue in the location variable."
   ]
  },
  {
   "cell_type": "code",
   "execution_count": 121,
   "metadata": {},
   "outputs": [
    {
     "data": {
      "text/plain": [
       "array(['dk', 'DK', 'us', 'germany', 'UK', 'norway', 'US', 'uk', 'china',\n",
       "       'poland', 'czech republic'], dtype=object)"
      ]
     },
     "execution_count": 121,
     "metadata": {},
     "output_type": "execute_result"
    }
   ],
   "source": [
    "df['location'].unique()"
   ]
  },
  {
   "cell_type": "code",
   "execution_count": 122,
   "metadata": {},
   "outputs": [
    {
     "data": {
      "text/plain": [
       "array(['dk', 'us', 'germany', 'uk', 'norway', 'china', 'poland',\n",
       "       'czech republic'], dtype=object)"
      ]
     },
     "execution_count": 122,
     "metadata": {},
     "output_type": "execute_result"
    }
   ],
   "source": [
    "df['location'] = df['location'].str.lower()\n",
    "df['location'].unique()"
   ]
  },
  {
   "cell_type": "markdown",
   "metadata": {},
   "source": [
    "### Plotting\n"
   ]
  },
  {
   "cell_type": "markdown",
   "metadata": {},
   "source": [
    "#### Grammar and Spelling Errors\n",
    "Note: Darker blue = more errors"
   ]
  },
  {
   "cell_type": "code",
   "execution_count": 123,
   "metadata": {},
   "outputs": [
    {
     "data": {
      "text/plain": [
       "<module 'matplotlib.pyplot' from '/usr/local/Caskroom/miniconda/base/envs/methods3/lib/python3.9/site-packages/matplotlib/pyplot.py'>"
      ]
     },
     "execution_count": 123,
     "metadata": {},
     "output_type": "execute_result"
    },
    {
     "data": {
      "image/png": "[encoded data removed]",
      "text/plain": [
       "<Figure size 1008x576 with 1 Axes>"
      ]
     },
     "metadata": {},
     "output_type": "display_data"
    }
   ],
   "source": [
    "plot_continuous(df = df, x = 'rank', y = 'score', hue = 'mistakes', title = 'Coloured by Grammar and Spelling Errors')"
   ]
  },
  {
   "cell_type": "markdown",
   "metadata": {},
   "source": [
    "#### Prior Experience\n",
    "Note: Darker colour more prior experience suggesting ideas"
   ]
  },
  {
   "cell_type": "code",
   "execution_count": 124,
   "metadata": {},
   "outputs": [
    {
     "data": {
      "text/plain": [
       "<module 'matplotlib.pyplot' from '/usr/local/Caskroom/miniconda/base/envs/methods3/lib/python3.9/site-packages/matplotlib/pyplot.py'>"
      ]
     },
     "execution_count": 124,
     "metadata": {},
     "output_type": "execute_result"
    },
    {
     "data": {
      "image/png": "[encoded data removed]",
      "text/plain": [
       "<Figure size 1008x576 with 1 Axes>"
      ]
     },
     "metadata": {},
     "output_type": "display_data"
    }
   ],
   "source": [
    "plot_continuous(df = df, x = 'rank', y = 'score', hue = 'prior_experience', title = 'Coloured by Prior Experience')"
   ]
  },
  {
   "cell_type": "markdown",
   "metadata": {},
   "source": [
    "#### Departments"
   ]
  },
  {
   "cell_type": "code",
   "execution_count": 125,
   "metadata": {},
   "outputs": [
    {
     "data": {
      "text/plain": [
       "<module 'matplotlib.pyplot' from '/usr/local/Caskroom/miniconda/base/envs/methods3/lib/python3.9/site-packages/matplotlib/pyplot.py'>"
      ]
     },
     "execution_count": 125,
     "metadata": {},
     "output_type": "execute_result"
    },
    {
     "data": {
      "image/png": "[encoded data removed]",
      "text/plain": [
       "<Figure size 1008x576 with 1 Axes>"
      ]
     },
     "metadata": {},
     "output_type": "display_data"
    }
   ],
   "source": [
    "plot_categorical(df = df, x = 'rank', y = 'score', hue = 'department', title = 'Coloured by Department')"
   ]
  },
  {
   "cell_type": "markdown",
   "metadata": {},
   "source": [
    "#### Locations"
   ]
  },
  {
   "cell_type": "code",
   "execution_count": 126,
   "metadata": {},
   "outputs": [
    {
     "data": {
      "text/plain": [
       "<module 'matplotlib.pyplot' from '/usr/local/Caskroom/miniconda/base/envs/methods3/lib/python3.9/site-packages/matplotlib/pyplot.py'>"
      ]
     },
     "execution_count": 126,
     "metadata": {},
     "output_type": "execute_result"
    },
    {
     "data": {
      "image/png": "[encoded data removed]",
      "text/plain": [
       "<Figure size 1008x576 with 1 Axes>"
      ]
     },
     "metadata": {},
     "output_type": "display_data"
    }
   ],
   "source": [
    "plot_categorical(df = df, x = 'rank', y = 'score', hue = 'location', title = 'Coloured by Location')"
   ]
  },
  {
   "cell_type": "markdown",
   "metadata": {},
   "source": [
    "The code below exports the dataframe to an excel file. You can use this for further exploration if wanted. "
   ]
  },
  {
   "cell_type": "code",
   "execution_count": 127,
   "metadata": {},
   "outputs": [],
   "source": [
    "df.to_excel('output/processed_data.xlsx')"
   ]
  }
 ],
 "metadata": {
  "interpreter": {
   "hash": "bbfd61b9771b25adb48756b02878e03699aa9c48f369525daaaa61fe69c4b1b3"
  },
  "kernelspec": {
   "display_name": "Python 3.9.7 ('methods3')",
   "language": "python",
   "name": "python3"
  },
  "language_info": {
   "codemirror_mode": {
    "name": "ipython",
    "version": 3
   },
   "file_extension": ".py",
   "mimetype": "text/x-python",
   "name": "python",
   "nbconvert_exporter": "python",
   "pygments_lexer": "ipython3",
   "version": "3.9.7"
  },
  "orig_nbformat": 4
 },
 "nbformat": 4,
 "nbformat_minor": 2
}
