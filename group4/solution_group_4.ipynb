{
 "cells": [
  {
   "cell_type": "markdown",
   "metadata": {},
   "source": [
    "# Managing Innovation\n",
    "\n",
    "Solution developed for group 4 based on the requirement specification. \n",
    "\n",
    "In addition to this notebook, a folder named `output` can be found. This folder contains the plots produced in this notebook. Furthermore it holds an excel file with the additonal variables added in this notebook i.e., mean sentiment score of comments for each idea(weighed by number of votes on the comment), score of the idea, and the rank. \n",
    "\n",
    "Additionally, some functions written for this task can be found in `helper_functions.py`.\n",
    "\n",
    "\n",
    "#### Requirement specification\n",
    "\n",
    "Variables that assess the quality of an idea (Total of 100%):\n",
    "* Number of votes (50%)\n",
    "* Selected by an expert (25%)\n",
    "* How positive is the comment (mean of all comments on idea) * number of upvotes on that comment (25%)\n",
    "\n",
    "\n",
    "Compare quality with:​\n",
    "* The grammar of the body of the idea\n",
    "* Prior experience\n",
    "* Departments\n",
    "* Country\n",
    "\n",
    "\n",
    "10 best vs 10 worst in the end, and then we can qualitatively assess whether our model is working or not.\n",
    "\n",
    "#### Contact information\n",
    "Laura Paulsen (202005791@post.au.dk)\n",
    "\n",
    "Group 4: feel free to reach out if you have any questions"
   ]
  },
  {
   "cell_type": "markdown",
   "metadata": {},
   "source": [
    "To ensure you have all the dependencies, run the following chunk."
   ]
  },
  {
   "cell_type": "code",
   "execution_count": 27,
   "metadata": {},
   "outputs": [
    {
     "name": "stdout",
     "output_type": "stream",
     "text": [
      "Requirement already satisfied: nltk in /usr/local/Caskroom/miniconda/base/envs/methods3/lib/python3.9/site-packages (3.7)\n",
      "Requirement already satisfied: click in /usr/local/Caskroom/miniconda/base/envs/methods3/lib/python3.9/site-packages (from nltk) (8.0.3)\n",
      "Requirement already satisfied: joblib in /usr/local/Caskroom/miniconda/base/envs/methods3/lib/python3.9/site-packages (from nltk) (1.1.0)\n",
      "Requirement already satisfied: regex>=2021.8.3 in /usr/local/Caskroom/miniconda/base/envs/methods3/lib/python3.9/site-packages (from nltk) (2021.11.10)\n",
      "Requirement already satisfied: tqdm in /usr/local/Caskroom/miniconda/base/envs/methods3/lib/python3.9/site-packages (from nltk) (4.62.3)\n"
     ]
    }
   ],
   "source": [
    "! pip install --user -U nltk"
   ]
  },
  {
   "cell_type": "markdown",
   "metadata": {},
   "source": [
    "Then all the functions and packages needed for the task are loaded."
   ]
  },
  {
   "cell_type": "code",
   "execution_count": 28,
   "metadata": {},
   "outputs": [],
   "source": [
    "import pandas as pd\n",
    "import numpy as np\n",
    "\n",
    "from nltk.sentiment.util import *\n",
    "from nltk.sentiment.vader import SentimentIntensityAnalyzer\n",
    "from nltk.corpus import stopwords\n",
    "#nlkt.download()\n",
    "\n",
    "from helper_functions import *"
   ]
  },
  {
   "cell_type": "markdown",
   "metadata": {},
   "source": [
    "Then the data is imported. For a overview of the data, go to the `data_exploration.ipynb` in the main folder. "
   ]
  },
  {
   "cell_type": "code",
   "execution_count": 29,
   "metadata": {},
   "outputs": [],
   "source": [
    "(ideas, comments, ideator) = read_data()"
   ]
  },
  {
   "cell_type": "markdown",
   "metadata": {},
   "source": [
    "The idea sheet had a problem with some characters not being displayed right. This is partially remedied by the following code. "
   ]
  },
  {
   "cell_type": "code",
   "execution_count": 30,
   "metadata": {},
   "outputs": [],
   "source": [
    "ideas['Body'] = ideas['Body'].str.encode('ascii', errors='ignore')\n",
    "ideas['Body'] = ideas['Body'].str.decode(\"utf-8\")"
   ]
  },
  {
   "cell_type": "markdown",
   "metadata": {},
   "source": [
    "### Gather data needed to score the ideas based on specification\n",
    "\n",
    "The data needed includes the the mean sentiment score of comments, number of votes, and whether the idea was selected by an expert."
   ]
  },
  {
   "cell_type": "markdown",
   "metadata": {},
   "source": [
    "#### Mean sentiment score\n",
    "The sentiment score of each comment is found by using VADER. The measure used is the compound score. The compound score is the sum of positive, negative & neutral scores of each sentence which is then normalized between -1 (most extreme negative) and +1 (most extreme positive). The closer the compound score is to +1, the higher the positivity of the text. The closer the score is to -1 the more negative the text is. \n"
   ]
  },
  {
   "cell_type": "code",
   "execution_count": 31,
   "metadata": {},
   "outputs": [],
   "source": [
    "com = comments['Comment']"
   ]
  },
  {
   "cell_type": "code",
   "execution_count": 32,
   "metadata": {},
   "outputs": [],
   "source": [
    "sent = SentimentIntensityAnalyzer() \n",
    "comments['sentiment_score'] = [sent.polarity_scores(com[i])['compound'] for i in range(len(com))]"
   ]
  },
  {
   "cell_type": "markdown",
   "metadata": {},
   "source": [
    "Adding more weight to comments with more votes. For each vote, the sentiment of the comment is multiplied by a constant `k`. This constant can be modified in the code chunk below. \n",
    "\n",
    "Note that 1 is added to the weight k. This is done to ensure that the sentiment score of comments with 0 votes are still included. \n",
    "\n",
    "This means that if you set `k` to 0.5 and the comment has 0 comments the weight of the sentiment score is 1. If it has 1 comment the weight will be 1.5, if it has 2 comments it will be 2 and so forth. "
   ]
  },
  {
   "cell_type": "code",
   "execution_count": 33,
   "metadata": {},
   "outputs": [],
   "source": [
    "k = 0.5"
   ]
  },
  {
   "cell_type": "code",
   "execution_count": 34,
   "metadata": {},
   "outputs": [],
   "source": [
    "comments['sentiment_score_weighted'] = comments['sentiment_score'] * (1 + comments['Number of votes']*k)"
   ]
  },
  {
   "cell_type": "markdown",
   "metadata": {},
   "source": [
    "Calculating the mean sentiment score for each idea"
   ]
  },
  {
   "cell_type": "code",
   "execution_count": 35,
   "metadata": {},
   "outputs": [],
   "source": [
    "df = pd.DataFrame()\n",
    "for i in ideas['Submission.ID'].unique():\n",
    "    # average the sentiment score for comments on each idea\n",
    "    avg_score = comments.loc[comments['Submission.ID'] == i, 'sentiment_score_weighted'].mean()\n",
    "\n",
    "    df = df.append({'submission_id': i, 'avg_sentiment': avg_score}, ignore_index=True)\n",
    "\n",
    "# the number of votes for each idea\n",
    "df['votes'] = list(ideas['Number.of.Votes'])\n",
    "# whether the idea was rated by an expert\n",
    "df['expert'] = list(ideas['Status(selectedbyexpert)'])\n",
    "# including the idea in the dataframe as to be able to show it later\n",
    "df['idea'] = ideas['Body']"
   ]
  },
  {
   "cell_type": "markdown",
   "metadata": {},
   "source": [
    "### Calculating the score of each of the ideas\n",
    "\n",
    "Changing the numbers in the following code chunk allows you to weigh the different variables differently when calculating the score. "
   ]
  },
  {
   "cell_type": "code",
   "execution_count": 36,
   "metadata": {},
   "outputs": [],
   "source": [
    "# setting up weights\n",
    "sentiment_weight = 25\n",
    "vote_weight = 50\n",
    "expert_weight = 25"
   ]
  },
  {
   "cell_type": "markdown",
   "metadata": {},
   "source": [
    "Before calculating the score of each idea, all the variables are normalized using min-max normalization. This means that the minimum value of each variable gets transformed into a 0, the maximum value gets transformed into a 1, and every other value gets transformed into a decimal between 0 and 1."
   ]
  },
  {
   "cell_type": "code",
   "execution_count": 37,
   "metadata": {},
   "outputs": [],
   "source": [
    "normalized_sent = min_max_normalization(df, 'avg_sentiment')\n",
    "normalized_sent.fillna(0, inplace=True)\n",
    "normalized_vote = min_max_normalization(df, 'votes')\n",
    "normalized_expert = min_max_normalization(df, 'expert')"
   ]
  },
  {
   "cell_type": "markdown",
   "metadata": {},
   "source": [
    "Now lets calculate the score of each idea"
   ]
  },
  {
   "cell_type": "code",
   "execution_count": 38,
   "metadata": {},
   "outputs": [],
   "source": [
    "df['score'] = sentiment_weight * normalized_sent + vote_weight * normalized_vote + expert_weight * normalized_expert\n",
    "df = df.sort_values(by = ['score'], ascending = False)\n",
    "df['rank'] = np.arange(1, len(df) + 1)"
   ]
  },
  {
   "cell_type": "markdown",
   "metadata": {},
   "source": [
    "### 10 ideas with the highest score"
   ]
  },
  {
   "cell_type": "code",
   "execution_count": 39,
   "metadata": {},
   "outputs": [
    {
     "data": {
      "text/html": [
       "<div>\n",
       "<style scoped>\n",
       "    .dataframe tbody tr th:only-of-type {\n",
       "        vertical-align: middle;\n",
       "    }\n",
       "\n",
       "    .dataframe tbody tr th {\n",
       "        vertical-align: top;\n",
       "    }\n",
       "\n",
       "    .dataframe thead th {\n",
       "        text-align: right;\n",
       "    }\n",
       "</style>\n",
       "<table border=\"1\" class=\"dataframe\">\n",
       "  <thead>\n",
       "    <tr style=\"text-align: right;\">\n",
       "      <th></th>\n",
       "      <th>submission_id</th>\n",
       "      <th>avg_sentiment</th>\n",
       "      <th>votes</th>\n",
       "      <th>expert</th>\n",
       "      <th>idea</th>\n",
       "      <th>score</th>\n",
       "      <th>rank</th>\n",
       "    </tr>\n",
       "  </thead>\n",
       "  <tbody>\n",
       "    <tr>\n",
       "      <th>0</th>\n",
       "      <td>4.0</td>\n",
       "      <td>0.660844</td>\n",
       "      <td>25</td>\n",
       "      <td>1</td>\n",
       "      <td>Often I see a LEGO box get torn open because i...</td>\n",
       "      <td>81.264905</td>\n",
       "      <td>1</td>\n",
       "    </tr>\n",
       "    <tr>\n",
       "      <th>9</th>\n",
       "      <td>30.0</td>\n",
       "      <td>0.621238</td>\n",
       "      <td>25</td>\n",
       "      <td>1</td>\n",
       "      <td>Im so happy that we in the P-shop now has the ...</td>\n",
       "      <td>80.772070</td>\n",
       "      <td>2</td>\n",
       "    </tr>\n",
       "    <tr>\n",
       "      <th>100</th>\n",
       "      <td>181.0</td>\n",
       "      <td>0.681288</td>\n",
       "      <td>21</td>\n",
       "      <td>1</td>\n",
       "      <td>Far East sourced components are packed in a pl...</td>\n",
       "      <td>74.622753</td>\n",
       "      <td>3</td>\n",
       "    </tr>\n",
       "    <tr>\n",
       "      <th>26</th>\n",
       "      <td>50.0</td>\n",
       "      <td>1.037175</td>\n",
       "      <td>13</td>\n",
       "      <td>1</td>\n",
       "      <td>LEGO Smart Bag is larger bag used to organize,...</td>\n",
       "      <td>65.258137</td>\n",
       "      <td>4</td>\n",
       "    </tr>\n",
       "    <tr>\n",
       "      <th>71</th>\n",
       "      <td>120.0</td>\n",
       "      <td>0.901438</td>\n",
       "      <td>28</td>\n",
       "      <td>0</td>\n",
       "      <td>Consumer Services handles many contacts from d...</td>\n",
       "      <td>64.431151</td>\n",
       "      <td>5</td>\n",
       "    </tr>\n",
       "    <tr>\n",
       "      <th>23</th>\n",
       "      <td>21.0</td>\n",
       "      <td>0.622225</td>\n",
       "      <td>29</td>\n",
       "      <td>0</td>\n",
       "      <td>I think it would make the gifts of the Advent ...</td>\n",
       "      <td>62.680898</td>\n",
       "      <td>6</td>\n",
       "    </tr>\n",
       "    <tr>\n",
       "      <th>5</th>\n",
       "      <td>147.0</td>\n",
       "      <td>1.272150</td>\n",
       "      <td>6</td>\n",
       "      <td>1</td>\n",
       "      <td>By installing a few PCs in brand retail stores...</td>\n",
       "      <td>56.113092</td>\n",
       "      <td>7</td>\n",
       "    </tr>\n",
       "    <tr>\n",
       "      <th>6</th>\n",
       "      <td>125.0</td>\n",
       "      <td>0.949742</td>\n",
       "      <td>8</td>\n",
       "      <td>1</td>\n",
       "      <td>There are so many papers and projects about th...</td>\n",
       "      <td>55.549467</td>\n",
       "      <td>8</td>\n",
       "    </tr>\n",
       "    <tr>\n",
       "      <th>55</th>\n",
       "      <td>123.0</td>\n",
       "      <td>1.223050</td>\n",
       "      <td>5</td>\n",
       "      <td>1</td>\n",
       "      <td>Can we have a LEGO Minifigure App where fans c...</td>\n",
       "      <td>53.777976</td>\n",
       "      <td>9</td>\n",
       "    </tr>\n",
       "    <tr>\n",
       "      <th>29</th>\n",
       "      <td>34.0</td>\n",
       "      <td>0.905450</td>\n",
       "      <td>7</td>\n",
       "      <td>1</td>\n",
       "      <td>It would be great to include little games or q...</td>\n",
       "      <td>53.274184</td>\n",
       "      <td>10</td>\n",
       "    </tr>\n",
       "  </tbody>\n",
       "</table>\n",
       "</div>"
      ],
      "text/plain": [
       "     submission_id  avg_sentiment  votes  expert  \\\n",
       "0              4.0       0.660844     25       1   \n",
       "9             30.0       0.621238     25       1   \n",
       "100          181.0       0.681288     21       1   \n",
       "26            50.0       1.037175     13       1   \n",
       "71           120.0       0.901438     28       0   \n",
       "23            21.0       0.622225     29       0   \n",
       "5            147.0       1.272150      6       1   \n",
       "6            125.0       0.949742      8       1   \n",
       "55           123.0       1.223050      5       1   \n",
       "29            34.0       0.905450      7       1   \n",
       "\n",
       "                                                  idea      score  rank  \n",
       "0    Often I see a LEGO box get torn open because i...  81.264905     1  \n",
       "9    Im so happy that we in the P-shop now has the ...  80.772070     2  \n",
       "100  Far East sourced components are packed in a pl...  74.622753     3  \n",
       "26   LEGO Smart Bag is larger bag used to organize,...  65.258137     4  \n",
       "71   Consumer Services handles many contacts from d...  64.431151     5  \n",
       "23   I think it would make the gifts of the Advent ...  62.680898     6  \n",
       "5    By installing a few PCs in brand retail stores...  56.113092     7  \n",
       "6    There are so many papers and projects about th...  55.549467     8  \n",
       "55   Can we have a LEGO Minifigure App where fans c...  53.777976     9  \n",
       "29   It would be great to include little games or q...  53.274184    10  "
      ]
     },
     "execution_count": 39,
     "metadata": {},
     "output_type": "execute_result"
    }
   ],
   "source": [
    "df.nsmallest(10, 'rank')"
   ]
  },
  {
   "cell_type": "markdown",
   "metadata": {},
   "source": [
    "To print the ideas with the highest scores, run the code below. "
   ]
  },
  {
   "cell_type": "code",
   "execution_count": 40,
   "metadata": {},
   "outputs": [
    {
     "name": "stdout",
     "output_type": "stream",
     "text": [
      "[INFO] idea 4.0: Often I see a LEGO box get torn open because it is not obvious how to open it without damaging it. I think it would be nice if there was an easier way to open the box.\n",
      "\n",
      "[INFO] idea 30.0: Im so happy that we in the P-shop now has the oppertunity to fill a bag of minifigure parts, wich I assume would just go to waste/scrap. Why dont we expand this oppertunity to include bricks as well? This would be a win/win situation for the company and the employee. The company reduces the waste/scrap (Planet Promis) and the employee has access to bricks with a discount.\n",
      "\n",
      "[INFO] idea 181.0: Far East sourced components are packed in a plastic material that is much harder to open than the normal pre-pack bags. Especially for children, who most often need a pair of scissors to open these bags. My idea is to replace these with the regular pre-pack bag material and make the opening frustration go away\n",
      "\n",
      "[INFO] idea 50.0: LEGO Smart Bag is larger bag used to organize, store &amp. This bag would not require any changes to the current packaging production lines,  just an added element the smart bag to be included in every set. The Smart Bag would be used after the original bags were opened and discarded as a smart way to keep your sets in order. The smart bag is not only a way to better organize and showcase your sets but it can potentially promote creativity and more LEGO play by providing a way to re-live the initial out of the box experience time and time again before the brick sets a relegated to the bin. The bags could have a zip-lock feature and still would have a very low cost relative to the value added.\"\n",
      "\n",
      "[INFO] idea 120.0: Consumer Services handles many contacts from disappointed fans who have purchased factory sealed packages that are missing all the minifigures. These consumers have usually bought the set at a non LBR retail store.   There is nothing worse than opening up your new Star Wars or Ninjago set and finding that the minifigures are all gone! The current tape that we use to seal the boxes can easily be tampered with. My colleague, Rocky, did an experiment with a TMNT set that he purchased.  Her carefully removed the tape, emptied the box and placed the tape back on the box.  The average consumer/retail associate would never have guessed that the tape had been removed.  We could possibly prevent a consumer from purchasing these tampered with boxes by using tamper proof tape. This tape would have red lines on it that break upon removal. It would prevent our partners (TRU, Wal-Mart, etc.)  from allowing unopened sets to be returned and resold to our valued fans.\n",
      "\n",
      "[INFO] idea 21.0: I think it would make the gifts of the Advent Calendar truely amazing, if after the 24th there would be a building instruction where using the the bricks of 24 small gifts you could make one big thing. F.ex for Star Wars that you could create a bigger spaceship with the bricks. First,  it would make  day 24 truely special. Second,  it would show to the kids that bricks can be used in different ways,  and encourage them to be creative (and not just assemble sets once).\"\n",
      "\n",
      "[INFO] idea 147.0: By installing a few PCs in brand retail stores we can tap into the creativity of our visitors. At the same time this can increase the shopping experience as well as it makes shoppers stay longer in the stores.\n",
      "\n",
      "[INFO] idea 125.0: There are so many papers and projects about the antimicrobial coatings for plastics using TiO2 or another oxide semiconductors, this could be useful for the kids and their health, because this nanocomposites can inhibit the activity of reproduction of bacteria E.Coli. Here in Monterrey, Mexico there are research about TiO2 and its photocatalytic efficiency and actually I have worked with the optimization of the synthesys of oxides semiconductors for other aplications. This technology for the plastics can be used on the LEGO bricks giving additional value to the toys.\n",
      "\n",
      "[INFO] idea 123.0: Can we have a LEGO Minifigure App where fans can design their own minifigures? These ideas could be used for future Minifigure Series.\n",
      "\n",
      "[INFO] idea 34.0: It would be great to include little games or questionnaires into the instruction, especially if you have to build stuff 2 or 4 times.\n",
      "\n"
     ]
    }
   ],
   "source": [
    "for (i, idea) in enumerate(df.nlargest(10, 'score')['idea']):\n",
    "    print(f\"[INFO] idea {df.nlargest(10, 'score')['submission_id'].iloc[i]}: {idea}\\n\")"
   ]
  },
  {
   "cell_type": "markdown",
   "metadata": {},
   "source": [
    "### 10 ideas with the lowest score"
   ]
  },
  {
   "cell_type": "code",
   "execution_count": 41,
   "metadata": {},
   "outputs": [
    {
     "data": {
      "text/html": [
       "<div>\n",
       "<style scoped>\n",
       "    .dataframe tbody tr th:only-of-type {\n",
       "        vertical-align: middle;\n",
       "    }\n",
       "\n",
       "    .dataframe tbody tr th {\n",
       "        vertical-align: top;\n",
       "    }\n",
       "\n",
       "    .dataframe thead th {\n",
       "        text-align: right;\n",
       "    }\n",
       "</style>\n",
       "<table border=\"1\" class=\"dataframe\">\n",
       "  <thead>\n",
       "    <tr style=\"text-align: right;\">\n",
       "      <th></th>\n",
       "      <th>submission_id</th>\n",
       "      <th>avg_sentiment</th>\n",
       "      <th>votes</th>\n",
       "      <th>expert</th>\n",
       "      <th>idea</th>\n",
       "      <th>score</th>\n",
       "      <th>rank</th>\n",
       "    </tr>\n",
       "  </thead>\n",
       "  <tbody>\n",
       "    <tr>\n",
       "      <th>35</th>\n",
       "      <td>45.0</td>\n",
       "      <td>NaN</td>\n",
       "      <td>0</td>\n",
       "      <td>0</td>\n",
       "      <td>Create Skylanders LEGO Figurs - the skylanders...</td>\n",
       "      <td>0.000000</td>\n",
       "      <td>108</td>\n",
       "    </tr>\n",
       "    <tr>\n",
       "      <th>45</th>\n",
       "      <td>58.0</td>\n",
       "      <td>NaN</td>\n",
       "      <td>1</td>\n",
       "      <td>0</td>\n",
       "      <td>Combining a dungeon and dragons storytelling a...</td>\n",
       "      <td>1.724138</td>\n",
       "      <td>107</td>\n",
       "    </tr>\n",
       "    <tr>\n",
       "      <th>66</th>\n",
       "      <td>165.0</td>\n",
       "      <td>NaN</td>\n",
       "      <td>1</td>\n",
       "      <td>0</td>\n",
       "      <td>A software or Guide for the creation or develo...</td>\n",
       "      <td>1.724138</td>\n",
       "      <td>106</td>\n",
       "    </tr>\n",
       "    <tr>\n",
       "      <th>85</th>\n",
       "      <td>144.0</td>\n",
       "      <td>NaN</td>\n",
       "      <td>1</td>\n",
       "      <td>0</td>\n",
       "      <td>I built for several nights for the Unimog U400...</td>\n",
       "      <td>1.724138</td>\n",
       "      <td>105</td>\n",
       "    </tr>\n",
       "    <tr>\n",
       "      <th>97</th>\n",
       "      <td>173.0</td>\n",
       "      <td>NaN</td>\n",
       "      <td>2</td>\n",
       "      <td>0</td>\n",
       "      <td>Many LEGO models are put aside from time to ti...</td>\n",
       "      <td>3.448276</td>\n",
       "      <td>104</td>\n",
       "    </tr>\n",
       "    <tr>\n",
       "      <th>37</th>\n",
       "      <td>47.0</td>\n",
       "      <td>NaN</td>\n",
       "      <td>4</td>\n",
       "      <td>0</td>\n",
       "      <td>Make sure to have a bag with a LEGO figure + a...</td>\n",
       "      <td>6.896552</td>\n",
       "      <td>103</td>\n",
       "    </tr>\n",
       "    <tr>\n",
       "      <th>82</th>\n",
       "      <td>133.0</td>\n",
       "      <td>NaN</td>\n",
       "      <td>4</td>\n",
       "      <td>0</td>\n",
       "      <td>I came across the last year christmas calender...</td>\n",
       "      <td>6.896552</td>\n",
       "      <td>102</td>\n",
       "    </tr>\n",
       "    <tr>\n",
       "      <th>65</th>\n",
       "      <td>164.0</td>\n",
       "      <td>NaN</td>\n",
       "      <td>4</td>\n",
       "      <td>0</td>\n",
       "      <td>creat an avatar to play.</td>\n",
       "      <td>6.896552</td>\n",
       "      <td>101</td>\n",
       "    </tr>\n",
       "    <tr>\n",
       "      <th>68</th>\n",
       "      <td>93.0</td>\n",
       "      <td>0.0</td>\n",
       "      <td>2</td>\n",
       "      <td>0</td>\n",
       "      <td>Now that Lego has 80 years,  why not to launch...</td>\n",
       "      <td>8.386494</td>\n",
       "      <td>100</td>\n",
       "    </tr>\n",
       "    <tr>\n",
       "      <th>63</th>\n",
       "      <td>87.0</td>\n",
       "      <td>NaN</td>\n",
       "      <td>5</td>\n",
       "      <td>0</td>\n",
       "      <td>I need help to translate my ideas from Danish ...</td>\n",
       "      <td>8.620690</td>\n",
       "      <td>99</td>\n",
       "    </tr>\n",
       "  </tbody>\n",
       "</table>\n",
       "</div>"
      ],
      "text/plain": [
       "    submission_id  avg_sentiment  votes  expert  \\\n",
       "35           45.0            NaN      0       0   \n",
       "45           58.0            NaN      1       0   \n",
       "66          165.0            NaN      1       0   \n",
       "85          144.0            NaN      1       0   \n",
       "97          173.0            NaN      2       0   \n",
       "37           47.0            NaN      4       0   \n",
       "82          133.0            NaN      4       0   \n",
       "65          164.0            NaN      4       0   \n",
       "68           93.0            0.0      2       0   \n",
       "63           87.0            NaN      5       0   \n",
       "\n",
       "                                                 idea     score  rank  \n",
       "35  Create Skylanders LEGO Figurs - the skylanders...  0.000000   108  \n",
       "45  Combining a dungeon and dragons storytelling a...  1.724138   107  \n",
       "66  A software or Guide for the creation or develo...  1.724138   106  \n",
       "85  I built for several nights for the Unimog U400...  1.724138   105  \n",
       "97  Many LEGO models are put aside from time to ti...  3.448276   104  \n",
       "37  Make sure to have a bag with a LEGO figure + a...  6.896552   103  \n",
       "82  I came across the last year christmas calender...  6.896552   102  \n",
       "65                           creat an avatar to play.  6.896552   101  \n",
       "68  Now that Lego has 80 years,  why not to launch...  8.386494   100  \n",
       "63  I need help to translate my ideas from Danish ...  8.620690    99  "
      ]
     },
     "execution_count": 41,
     "metadata": {},
     "output_type": "execute_result"
    }
   ],
   "source": [
    "df.nlargest(10, 'rank')"
   ]
  },
  {
   "cell_type": "markdown",
   "metadata": {},
   "source": [
    "To print the ideas with the lowest scores, run the code below. "
   ]
  },
  {
   "cell_type": "code",
   "execution_count": 42,
   "metadata": {},
   "outputs": [
    {
     "name": "stdout",
     "output_type": "stream",
     "text": [
      "[INFO] idea 45.0: Create Skylanders LEGO Figurs - the skylanders figurs should be a part of normal play sets and thereby both offer the physical play and play with the mini figure in a game.\n",
      "\n",
      "[INFO] idea 144.0: I built for several nights for the Unimog U400, a multi-function tool car. It is really a good way for us to build it. I feel so good to see the basic car machine operation in such a model. As an engineer, it is really better to build such model than only read it in book. Although I am not an Technic fans,  it is really interesting to have such challenge to build this complicated model.\"\n",
      "\n",
      "[INFO] idea 165.0: A software or Guide for the creation or development for new system. in pmy pc when i have difent types of partes  i can creat a system an leather purched the pieces and recreat. and difent ways to mix difent systems.\"\n",
      "\n",
      "[INFO] idea 58.0: Combining a dungeon and dragons storytelling and game element to the LEGO play experience  having a LEGO play master (Dungeon master) that builds the story and set the quests for the rest of the people using the guidelines and framework set through the product\n",
      "\n",
      "[INFO] idea 173.0: Many LEGO models are put aside from time to time, and they then end up being \"partially built\", and maybe with some missing pieces. As many people keep the boxes anyway, I thought it could be an idea to make the boxes in a geometry so they are suitable for storage of the built model, and thereby protecting the model. And possibley also with internal compartments, if the model is divided in several smaller models. I know this would that the front of the boxes in some cases would be smaller and maybe less \"inviting\", but in many cases it could make sense.\n",
      "\n",
      "[INFO] idea 164.0: creat an avatar to play.\n",
      "\n",
      "[INFO] idea 133.0: I came across the last year christmas calender and did remember how hard it was for the kids to open each \"door\" without breaking it - it must be possible to make it the same strength as the  chocolate calender... (Several door/tiny instructions were broken just to get into the bricks). And taling about chocolate - Toms Chocolate had one where each door would fall off when you upen it - that would make it easier to get the mini building instruction into the ligt and actually see what you are supposed to build. We want to save each tiny instruction anyway so instread of mee using a pair of scissors when christmas is done, we could have saved them in the process through December and have had a better building experience.\"\n",
      "\n",
      "[INFO] idea 47.0: Make sure to have a bag with a LEGO figure + a vehicle or something similar for the kids to play with while the adults or more expirienced kids finish the big build.\n",
      "\n",
      "[INFO] idea 93.0: Now that Lego has 80 years,  why not to launch a special edition?  a  collection of  amazing constructions:  Petra,  Hagia Sophia, the Victorian Abbey Mill in London,  Peterhof in Russia, Tajin in Mexico, etc., I think they would look gorgeous built in lego  :D\n",
      "\n",
      "[INFO] idea 146.0: When playing Creationary (LEGO Games) with my family over Christmas, I noticed that they had no idea that the turntables and hinges needed to be put together. They simply noticed the odd-shaped upside and downside of the turntable, and did not use it in their builds even once.I think the problem is that Creationary caters to less experienced builders,  and they cannot be expected to know how such special LEGO pieces work. Could we add one page in the instruction on how to put those pieces together? It would improve the play-ability of the game.I'm surprised this flaw did not show in the product tests,  maybe we have tested it on too experienced builders only?\"\n",
      "\n"
     ]
    }
   ],
   "source": [
    "for (i, idea) in enumerate(df.nsmallest(10, 'score')['idea']):\n",
    "    print(f\"[INFO] idea {df.nsmallest(10, 'score')['submission_id'].iloc[i]}: {idea}\\n\")"
   ]
  },
  {
   "cell_type": "markdown",
   "metadata": {},
   "source": [
    "## Compare quality\n",
    "Compare quality with:​\n",
    "* The grammar of the body of the idea\n",
    "* Prior experience\n",
    "* Departments\n",
    "* Country"
   ]
  },
  {
   "cell_type": "code",
   "execution_count": 43,
   "metadata": {},
   "outputs": [],
   "source": [
    "# Grammar check of body of the idea\n",
    "tool = language_tool_python.LanguageTool('en-US')\n",
    "df['mistakes'] = [grammar_check(idea, tool) for idea in df['idea']]\n",
    "tool.close()\n",
    "\n",
    "# Prior experience\n",
    "df['prior_experience'] = ideas['prior_experience(idea generation)']\n",
    "\n",
    "# Department and country\n",
    "df['user_id'] = ideas['user_id']\n",
    "df = df.merge(ideator, on='user_id', how='left')"
   ]
  },
  {
   "cell_type": "markdown",
   "metadata": {},
   "source": [
    "Now lets have a quick look at these variables. "
   ]
  },
  {
   "cell_type": "code",
   "execution_count": 44,
   "metadata": {},
   "outputs": [
    {
     "data": {
      "text/plain": [
       "array(['innovation', 'marketing', 'sales', 'operations', 'manufacturing',\n",
       "       'service', 'engineering', 'quality', 'design', 'HR', 'hr', 'IT',\n",
       "       'finance', 'it'], dtype=object)"
      ]
     },
     "execution_count": 44,
     "metadata": {},
     "output_type": "execute_result"
    }
   ],
   "source": [
    "df['department'].unique()"
   ]
  },
  {
   "cell_type": "markdown",
   "metadata": {},
   "source": [
    "It seems as if the dataset includes two different spellings for the same department ('it'/'IT' 'HR'/'hr'). To ensure that they are treated as one, all the departments are turned into lower-case."
   ]
  },
  {
   "cell_type": "code",
   "execution_count": 45,
   "metadata": {},
   "outputs": [
    {
     "data": {
      "text/plain": [
       "array(['innovation', 'marketing', 'sales', 'operations', 'manufacturing',\n",
       "       'service', 'engineering', 'quality', 'design', 'hr', 'it',\n",
       "       'finance'], dtype=object)"
      ]
     },
     "execution_count": 45,
     "metadata": {},
     "output_type": "execute_result"
    }
   ],
   "source": [
    "df['department'] = df['department'].str.lower()\n",
    "df['department'].unique()"
   ]
  },
  {
   "cell_type": "markdown",
   "metadata": {},
   "source": [
    "The same issue can be found in the location variable. "
   ]
  },
  {
   "cell_type": "code",
   "execution_count": 46,
   "metadata": {},
   "outputs": [
    {
     "data": {
      "text/plain": [
       "array(['DK', 'dk', 'us', 'UK', 'germany', 'norway', 'US', 'uk', 'china',\n",
       "       'czech republic', 'poland'], dtype=object)"
      ]
     },
     "execution_count": 46,
     "metadata": {},
     "output_type": "execute_result"
    }
   ],
   "source": [
    "df['location'].unique()"
   ]
  },
  {
   "cell_type": "code",
   "execution_count": 47,
   "metadata": {},
   "outputs": [
    {
     "data": {
      "text/plain": [
       "array(['dk', 'us', 'uk', 'germany', 'norway', 'china', 'czech republic',\n",
       "       'poland'], dtype=object)"
      ]
     },
     "execution_count": 47,
     "metadata": {},
     "output_type": "execute_result"
    }
   ],
   "source": [
    "df['location'] = df['location'].str.lower()\n",
    "df['location'].unique()"
   ]
  },
  {
   "cell_type": "markdown",
   "metadata": {},
   "source": [
    "### Plotting\n"
   ]
  },
  {
   "cell_type": "markdown",
   "metadata": {},
   "source": [
    "#### Grammar and Spelling Errors\n",
    "Note: Darker blue = more errors"
   ]
  },
  {
   "cell_type": "code",
   "execution_count": 48,
   "metadata": {},
   "outputs": [
    {
     "data": {
      "text/plain": [
       "<module 'matplotlib.pyplot' from '/usr/local/Caskroom/miniconda/base/envs/methods3/lib/python3.9/site-packages/matplotlib/pyplot.py'>"
      ]
     },
     "execution_count": 48,
     "metadata": {},
     "output_type": "execute_result"
    },
    {
     "data": {
      "image/png": "[encoded data removed]",
      "text/plain": [
       "<Figure size 1008x576 with 1 Axes>"
      ]
     },
     "metadata": {},
     "output_type": "display_data"
    }
   ],
   "source": [
    "plot_continuous(df = df, x = 'rank', y = 'score', hue = 'mistakes', title = 'Coloured by Grammar and Spelling Errors')"
   ]
  },
  {
   "cell_type": "markdown",
   "metadata": {},
   "source": [
    "#### Prior Experience\n",
    "Note: Darker colour more prior experience suggesting ideas"
   ]
  },
  {
   "cell_type": "code",
   "execution_count": 49,
   "metadata": {},
   "outputs": [
    {
     "data": {
      "text/plain": [
       "<module 'matplotlib.pyplot' from '/usr/local/Caskroom/miniconda/base/envs/methods3/lib/python3.9/site-packages/matplotlib/pyplot.py'>"
      ]
     },
     "execution_count": 49,
     "metadata": {},
     "output_type": "execute_result"
    },
    {
     "data": {
      "image/png": "[encoded data removed]",
      "text/plain": [
       "<Figure size 1008x576 with 1 Axes>"
      ]
     },
     "metadata": {},
     "output_type": "display_data"
    }
   ],
   "source": [
    "plot_continuous(df = df, x = 'rank', y = 'score', hue = 'prior_experience', title = 'Coloured by Prior Experience')"
   ]
  },
  {
   "cell_type": "markdown",
   "metadata": {},
   "source": [
    "#### Departments"
   ]
  },
  {
   "cell_type": "code",
   "execution_count": 50,
   "metadata": {},
   "outputs": [],
   "source": [
    "plot_categorical(df = df, x = 'rank', y = 'score', hue = 'department', title = 'Coloured by Department')"
   ]
  },
  {
   "cell_type": "markdown",
   "metadata": {},
   "source": [
    "#### Locations"
   ]
  },
  {
   "cell_type": "code",
   "execution_count": null,
   "metadata": {},
   "outputs": [
    {
     "data": {
      "text/plain": [
       "<module 'matplotlib.pyplot' from '/usr/local/Caskroom/miniconda/base/envs/methods3/lib/python3.9/site-packages/matplotlib/pyplot.py'>"
      ]
     },
     "execution_count": 25,
     "metadata": {},
     "output_type": "execute_result"
    },
    {
     "data": {
      "image/png": "[encoded data removed]",
      "text/plain": [
       "<Figure size 1008x576 with 1 Axes>"
      ]
     },
     "metadata": {},
     "output_type": "display_data"
    }
   ],
   "source": [
    "plot_categorical(df = df, x = 'rank', y = 'score', hue = 'location', title = 'Coloured by Location')"
   ]
  },
  {
   "cell_type": "markdown",
   "metadata": {},
   "source": [
    "The code below exports the dataframe to an excel file. You can use this for further exploration if wanted. "
   ]
  },
  {
   "cell_type": "code",
   "execution_count": null,
   "metadata": {},
   "outputs": [],
   "source": [
    "df.to_excel('output/processed_data.xlsx')"
   ]
  }
 ],
 "metadata": {
  "interpreter": {
   "hash": "bbfd61b9771b25adb48756b02878e03699aa9c48f369525daaaa61fe69c4b1b3"
  },
  "kernelspec": {
   "display_name": "Python 3.9.7 ('methods3')",
   "language": "python",
   "name": "python3"
  },
  "language_info": {
   "codemirror_mode": {
    "name": "ipython",
    "version": 3
   },
   "file_extension": ".py",
   "mimetype": "text/x-python",
   "name": "python",
   "nbconvert_exporter": "python",
   "pygments_lexer": "ipython3",
   "version": "3.9.7"
  },
  "orig_nbformat": 4
 },
 "nbformat": 4,
 "nbformat_minor": 2
}
