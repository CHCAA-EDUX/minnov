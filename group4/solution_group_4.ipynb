{
 "cells": [
  {
   "cell_type": "markdown",
   "metadata": {},
   "source": [
    "# Managing Innovation\n",
    "\n",
    "Solution developed for group 4 based on the requirement specification. \n",
    "\n",
    "**Summary of requirement specification:**\n",
    "\n",
    "\n",
    "\n",
    "TO DO:\n",
    "\n",
    "    [] Check encoding -> some of of the text looks strange :((\n",
    "    [] Move into group folder\n",
    "    [] Move clean text function into seperate file\n",
    "    [] Make sure that the clean text function works properly\n",
    "    [] Standardize/normalize the varibles for scoring to allow for weighing to happen more easily\n",
    "    [] Check if stop words should be included or not for sentiment score"
   ]
  },
  {
   "cell_type": "markdown",
   "metadata": {},
   "source": [
    "To ensure you have all the dependencies, run the following chunk."
   ]
  },
  {
   "cell_type": "code",
   "execution_count": 219,
   "metadata": {},
   "outputs": [
    {
     "name": "stdout",
     "output_type": "stream",
     "text": [
      "Requirement already satisfied: nltk in /usr/local/Caskroom/miniconda/base/envs/methods3/lib/python3.9/site-packages (3.7)\n",
      "Requirement already satisfied: tqdm in /usr/local/Caskroom/miniconda/base/envs/methods3/lib/python3.9/site-packages (from nltk) (4.62.3)\n",
      "Requirement already satisfied: joblib in /usr/local/Caskroom/miniconda/base/envs/methods3/lib/python3.9/site-packages (from nltk) (1.1.0)\n",
      "Requirement already satisfied: click in /usr/local/Caskroom/miniconda/base/envs/methods3/lib/python3.9/site-packages (from nltk) (8.0.3)\n",
      "Requirement already satisfied: regex>=2021.8.3 in /usr/local/Caskroom/miniconda/base/envs/methods3/lib/python3.9/site-packages (from nltk) (2021.11.10)\n"
     ]
    }
   ],
   "source": [
    "! pip install --user -U nltk\n",
    "nltk.download()"
   ]
  },
  {
   "cell_type": "markdown",
   "metadata": {},
   "source": [
    "Then all the functions and packages needed for the task are loaded."
   ]
  },
  {
   "cell_type": "code",
   "execution_count": 1,
   "metadata": {},
   "outputs": [],
   "source": [
    "from nltk.corpus import stopwords\n",
    "from nltk.sentiment.util import *\n",
    "from nltk.sentiment.vader import SentimentIntensityAnalyzer\n",
    "import pandas as pd\n",
    "\n",
    "from helper_functions import *"
   ]
  },
  {
   "cell_type": "markdown",
   "metadata": {},
   "source": [
    "Then the data is imported. For a overview of the data, go to the `data_exploration.ipynb` in the main folder. "
   ]
  },
  {
   "cell_type": "code",
   "execution_count": 2,
   "metadata": {},
   "outputs": [],
   "source": [
    "(ideas, comments, ideator) = read_data()"
   ]
  },
  {
   "cell_type": "markdown",
   "metadata": {},
   "source": [
    "### Gather data needed to score the ideas based on requirement specification\n",
    "\n",
    "The data needed includes the number of votes, whether the idea was selected by an expert and the mean sentiment score of the comments to each idea. \n",
    "\n",
    "\n",
    "Before calculating the sentiment score, the comments need to be preprocessed. This is done by removing stop words and punctuation, as well as ensure that everything is lower case. Furthermore, the words are lemmatized. All of this is done using the `clean_text` function which is defined in the `helper_functions.py` file. "
   ]
  },
  {
   "cell_type": "code",
   "execution_count": 3,
   "metadata": {},
   "outputs": [],
   "source": [
    "com = comments['Comment']"
   ]
  },
  {
   "cell_type": "code",
   "execution_count": 5,
   "metadata": {},
   "outputs": [],
   "source": [
    "stop_words = set(stopwords.words(\"english\")) # list of stop words\n",
    "clean_com = clean_text(com, stop_words) # clean comments using clean_text function from helper_functions.py file (see file for code)"
   ]
  },
  {
   "cell_type": "code",
   "execution_count": 7,
   "metadata": {},
   "outputs": [],
   "source": [
    "sent = SentimentIntensityAnalyzer() \n",
    "comments['sentiment_score'] = [sent.polarity_scores(clean_com[i][0])['compound'] for i in range(len(clean_com))]"
   ]
  },
  {
   "cell_type": "markdown",
   "metadata": {},
   "source": [
    "Calculating the mean sentiment score for each idea"
   ]
  },
  {
   "cell_type": "code",
   "execution_count": 8,
   "metadata": {},
   "outputs": [],
   "source": [
    "df = pd.DataFrame()\n",
    "for i in ideas['Submission.ID'].unique():\n",
    "    # average the sentiment score for comments on each idea\n",
    "    avg_score = comments.loc[comments['Submission.ID'] == i, 'sentiment_score'].mean()\n",
    "\n",
    "    df = df.append({'submission_id': i, 'avg_sentiment': avg_score}, ignore_index=True)\n",
    "\n",
    "# the number of votes for each idea\n",
    "df['votes'] = list(ideas['Number.of.Votes'])\n",
    "# whether the idea was rated by an expert\n",
    "df['expert'] = list(ideas['Status(selectedbyexpert)'])\n",
    "# including the idea in the dataframe as to be able to show it later\n",
    "df['idea'] = ideas['Body']"
   ]
  },
  {
   "cell_type": "markdown",
   "metadata": {},
   "source": [
    "### Calculating the score of each of the ideas\n",
    "\n",
    "Changing the numbers in the following chunk allows you to weigh the different variables differently when calculating the score. "
   ]
  },
  {
   "cell_type": "code",
   "execution_count": 9,
   "metadata": {},
   "outputs": [],
   "source": [
    "# setting up weights\n",
    "sentiment_weight = 1\n",
    "vote_weight = 1\n",
    "expert_weight = 1"
   ]
  },
  {
   "cell_type": "markdown",
   "metadata": {},
   "source": [
    "Now lets calculate the score of each idea"
   ]
  },
  {
   "cell_type": "code",
   "execution_count": 10,
   "metadata": {},
   "outputs": [],
   "source": [
    "df['score'] = sentiment_weight * df['avg_sentiment'] + vote_weight * df['votes'] + expert_weight * df['expert']"
   ]
  },
  {
   "cell_type": "markdown",
   "metadata": {},
   "source": [
    "### 10 ideas with the highest score"
   ]
  },
  {
   "cell_type": "code",
   "execution_count": 11,
   "metadata": {},
   "outputs": [
    {
     "data": {
      "text/html": [
       "<div>\n",
       "<style scoped>\n",
       "    .dataframe tbody tr th:only-of-type {\n",
       "        vertical-align: middle;\n",
       "    }\n",
       "\n",
       "    .dataframe tbody tr th {\n",
       "        vertical-align: top;\n",
       "    }\n",
       "\n",
       "    .dataframe thead th {\n",
       "        text-align: right;\n",
       "    }\n",
       "</style>\n",
       "<table border=\"1\" class=\"dataframe\">\n",
       "  <thead>\n",
       "    <tr style=\"text-align: right;\">\n",
       "      <th></th>\n",
       "      <th>submission_id</th>\n",
       "      <th>avg_sentiment</th>\n",
       "      <th>votes</th>\n",
       "      <th>expert</th>\n",
       "      <th>idea</th>\n",
       "      <th>score</th>\n",
       "    </tr>\n",
       "  </thead>\n",
       "  <tbody>\n",
       "    <tr>\n",
       "      <th>23</th>\n",
       "      <td>21.0</td>\n",
       "      <td>0.576910</td>\n",
       "      <td>29</td>\n",
       "      <td>0</td>\n",
       "      <td>I think it would make the gifts of the Advent ...</td>\n",
       "      <td>29.576910</td>\n",
       "    </tr>\n",
       "    <tr>\n",
       "      <th>71</th>\n",
       "      <td>120.0</td>\n",
       "      <td>0.772962</td>\n",
       "      <td>28</td>\n",
       "      <td>0</td>\n",
       "      <td>Consumer Services handles many contacts from d...</td>\n",
       "      <td>28.772962</td>\n",
       "    </tr>\n",
       "    <tr>\n",
       "      <th>0</th>\n",
       "      <td>4.0</td>\n",
       "      <td>0.605035</td>\n",
       "      <td>25</td>\n",
       "      <td>1</td>\n",
       "      <td>Often I see a LEGO box get torn open because i...</td>\n",
       "      <td>26.605035</td>\n",
       "    </tr>\n",
       "    <tr>\n",
       "      <th>9</th>\n",
       "      <td>30.0</td>\n",
       "      <td>0.383831</td>\n",
       "      <td>25</td>\n",
       "      <td>1</td>\n",
       "      <td>IÂ´m so happy that we in the P-shop now has th...</td>\n",
       "      <td>26.383831</td>\n",
       "    </tr>\n",
       "    <tr>\n",
       "      <th>100</th>\n",
       "      <td>181.0</td>\n",
       "      <td>0.553592</td>\n",
       "      <td>21</td>\n",
       "      <td>1</td>\n",
       "      <td>Far East sourced components are packed in a pl...</td>\n",
       "      <td>22.553592</td>\n",
       "    </tr>\n",
       "    <tr>\n",
       "      <th>21</th>\n",
       "      <td>73.0</td>\n",
       "      <td>0.528367</td>\n",
       "      <td>20</td>\n",
       "      <td>0</td>\n",
       "      <td>I have for some time been wondering. What actu...</td>\n",
       "      <td>20.528367</td>\n",
       "    </tr>\n",
       "    <tr>\n",
       "      <th>104</th>\n",
       "      <td>194.0</td>\n",
       "      <td>0.466227</td>\n",
       "      <td>20</td>\n",
       "      <td>0</td>\n",
       "      <td>An element that really could give many new bui...</td>\n",
       "      <td>20.466227</td>\n",
       "    </tr>\n",
       "    <tr>\n",
       "      <th>4</th>\n",
       "      <td>65.0</td>\n",
       "      <td>0.548744</td>\n",
       "      <td>19</td>\n",
       "      <td>0</td>\n",
       "      <td>We can easily help saving energy by switching ...</td>\n",
       "      <td>19.548744</td>\n",
       "    </tr>\n",
       "    <tr>\n",
       "      <th>95</th>\n",
       "      <td>171.0</td>\n",
       "      <td>0.912883</td>\n",
       "      <td>15</td>\n",
       "      <td>0</td>\n",
       "      <td>Create some sets that can be build as teams (2...</td>\n",
       "      <td>15.912883</td>\n",
       "    </tr>\n",
       "    <tr>\n",
       "      <th>18</th>\n",
       "      <td>22.0</td>\n",
       "      <td>0.735558</td>\n",
       "      <td>15</td>\n",
       "      <td>0</td>\n",
       "      <td>Add \"QR code\" like grafics in some of the free...</td>\n",
       "      <td>15.735558</td>\n",
       "    </tr>\n",
       "  </tbody>\n",
       "</table>\n",
       "</div>"
      ],
      "text/plain": [
       "     submission_id  avg_sentiment  votes  expert  \\\n",
       "23            21.0       0.576910     29       0   \n",
       "71           120.0       0.772962     28       0   \n",
       "0              4.0       0.605035     25       1   \n",
       "9             30.0       0.383831     25       1   \n",
       "100          181.0       0.553592     21       1   \n",
       "21            73.0       0.528367     20       0   \n",
       "104          194.0       0.466227     20       0   \n",
       "4             65.0       0.548744     19       0   \n",
       "95           171.0       0.912883     15       0   \n",
       "18            22.0       0.735558     15       0   \n",
       "\n",
       "                                                  idea      score  \n",
       "23   I think it would make the gifts of the Advent ...  29.576910  \n",
       "71   Consumer Services handles many contacts from d...  28.772962  \n",
       "0    Often I see a LEGO box get torn open because i...  26.605035  \n",
       "9    IÂ´m so happy that we in the P-shop now has th...  26.383831  \n",
       "100  Far East sourced components are packed in a pl...  22.553592  \n",
       "21   I have for some time been wondering. What actu...  20.528367  \n",
       "104  An element that really could give many new bui...  20.466227  \n",
       "4    We can easily help saving energy by switching ...  19.548744  \n",
       "95   Create some sets that can be build as teams (2...  15.912883  \n",
       "18   Add \"QR code\" like grafics in some of the free...  15.735558  "
      ]
     },
     "execution_count": 11,
     "metadata": {},
     "output_type": "execute_result"
    }
   ],
   "source": [
    "df.nlargest(10, 'score')"
   ]
  },
  {
   "cell_type": "markdown",
   "metadata": {},
   "source": [
    "To print the ideas with the highest scores, run the code below. "
   ]
  },
  {
   "cell_type": "code",
   "execution_count": 12,
   "metadata": {},
   "outputs": [
    {
     "name": "stdout",
     "output_type": "stream",
     "text": [
      "[INFO] idea 21.0: I think it would make the gifts of the Advent Calendar truely amazing, if after the 24th there would be a building instruction where using the the bricks of 24 small gifts you could make one big thing. F.ex for Star Wars that you could create a bigger spaceship with the bricks. First,  it would make  day 24 truely special. Second,  it would show to the kids that bricks can be used in different ways,  and encourage them to be creative (and not just assemble sets once).\"\n",
      "\n",
      "[INFO] idea 120.0: Consumer Services handles many contacts from disappointed fans who have purchased â€œfactory sealedâ€ packages that are missing all the minifigures. These consumers have usually bought the set at a non LBR retail store.   There is nothing worse than opening up your new Star Wars or Ninjago set and finding that the minifigures are all gone! The current tape that we use to seal the boxes can easily be tampered with. My colleague, Rocky, did an experiment with a TMNT set that he purchased.  Her carefully removed the tape, emptied the box and placed the tape back on the box.  The average consumer/retail associate would never have guessed that the tape had been removed.  We could possibly prevent a consumer from purchasing these tampered with boxes by using tamper proof tape. This tape would have red lines on it that break upon removal. It would prevent our partners (TRU, Wal-Mart, etc.)  from allowing â€œunopenedâ€ sets to be returned and resold to our valued fans.\n",
      "\n",
      "[INFO] idea 4.0: Often I see a LEGO box get torn open because it is not obvious how to open it without damaging it. I think it would be nice if there was an easier way to open the box.\n",
      "\n",
      "[INFO] idea 30.0: IÂ´m so happy that we in the P-shop now has the oppertunity to fill a bag of minifigure parts, wich I assume would just go to waste/scrap. Why donÂ´t we expand this oppertunity to include bricks as well? This would be a win/win situation for the company and the employee. The company reduces the waste/scrap (Planet Promis) and the employee has access to bricks with a discount.\n",
      "\n",
      "[INFO] idea 181.0: Far East sourced components are packed in a plastic material that is much harder to open than the normal pre-pack bags. Especially for children, who most often need a pair of scissors to open these bags. My idea is to replace these with the regular pre-pack bag material and make the opening frustration go away\n",
      "\n",
      "[INFO] idea 73.0: I have for some time been wondering. What actually happens with the spare food from the LEGO canteens? When I was at a seminar at a large-sized company they had a great arrangement, where the employees could buy a small dinner package they could bring home. This would be a great service and a way to reduce food waste.\n",
      "\n",
      "[INFO] idea 194.0: An element that really could give many new building ways and posibilities would be plates with knobs on both sides. Like a 2x4 plate without tubeside,  but instead knobs equal to the other side.. Same we could do woth 2x2,  1x2 and so on…This would really give news ways of building,  and one don't need to build tube against tube side,  like the B-wing... I really dont like the cracks of air between the plates  and here this would be an awesome solution..Update: I uploaded a pictures of an element  we use internaly here in Verification  for setup up bricks for measurement. This is created specially for this... but simular for building, just with equal number of knobs on both sides  and wittout the holes.. :-)\"\n",
      "\n",
      "[INFO] idea 65.0: We can easily help saving energy by switching off our computer monitors when we leave for home. When I leave as one of the last persons in the office I often notice that 80% or more of the monitors are still on. Even though they are on power safe mode it still adds up. And this behavious is not helping to achieve our Planet Promises!!So we may need a behavioral change campaign to change our habits!.\"\n",
      "\n",
      "[INFO] idea 171.0: Create some sets that can be build as teams (2-4 people). Each person would get a instruction book to build a part of the model and once all parts are built, they are put together to form the whole model. That way the whole family can be part of the building of a model. It could also be expanded to be be small models (in seperate boxes) that can be joined to form a large model.\"\n",
      "\n",
      "[INFO] idea 22.0: Add \"QR code\" like grafics in some of the free space in the building instruktion for easy scan and watch youtube videos with \"tips and trics\", \"meet the designer\", \"introduction to my first build\", \"story enablers\" and so on\n",
      "\n"
     ]
    }
   ],
   "source": [
    "for (i, idea) in enumerate(df.nlargest(10, 'score')['idea']):\n",
    "    print(f\"[INFO] idea {df.nlargest(10, 'score')['submission_id'].iloc[i]}: {idea}\\n\")"
   ]
  },
  {
   "cell_type": "markdown",
   "metadata": {},
   "source": [
    "### 10 ideas with the lowest score"
   ]
  },
  {
   "cell_type": "code",
   "execution_count": 51,
   "metadata": {},
   "outputs": [
    {
     "data": {
      "text/html": [
       "<div>\n",
       "<style scoped>\n",
       "    .dataframe tbody tr th:only-of-type {\n",
       "        vertical-align: middle;\n",
       "    }\n",
       "\n",
       "    .dataframe tbody tr th {\n",
       "        vertical-align: top;\n",
       "    }\n",
       "\n",
       "    .dataframe thead th {\n",
       "        text-align: right;\n",
       "    }\n",
       "</style>\n",
       "<table border=\"1\" class=\"dataframe\">\n",
       "  <thead>\n",
       "    <tr style=\"text-align: right;\">\n",
       "      <th></th>\n",
       "      <th>submission_id</th>\n",
       "      <th>avg_sentiment</th>\n",
       "      <th>votes</th>\n",
       "      <th>expert</th>\n",
       "      <th>idea</th>\n",
       "      <th>score</th>\n",
       "    </tr>\n",
       "  </thead>\n",
       "  <tbody>\n",
       "    <tr>\n",
       "      <th>107</th>\n",
       "      <td>204.0</td>\n",
       "      <td>0.432750</td>\n",
       "      <td>0</td>\n",
       "      <td>0</td>\n",
       "      <td>Give the building an understanding of how far ...</td>\n",
       "      <td>0.432750</td>\n",
       "    </tr>\n",
       "    <tr>\n",
       "      <th>13</th>\n",
       "      <td>13.0</td>\n",
       "      <td>0.745900</td>\n",
       "      <td>0</td>\n",
       "      <td>0</td>\n",
       "      <td>New ways of playing LEGO have been innovated a...</td>\n",
       "      <td>0.745900</td>\n",
       "    </tr>\n",
       "    <tr>\n",
       "      <th>96</th>\n",
       "      <td>175.0</td>\n",
       "      <td>0.569500</td>\n",
       "      <td>1</td>\n",
       "      <td>0</td>\n",
       "      <td>I have made some tests and would like to share...</td>\n",
       "      <td>1.569500</td>\n",
       "    </tr>\n",
       "    <tr>\n",
       "      <th>68</th>\n",
       "      <td>93.0</td>\n",
       "      <td>0.000000</td>\n",
       "      <td>2</td>\n",
       "      <td>0</td>\n",
       "      <td>Now that Lego has 80 years,  why not to launch...</td>\n",
       "      <td>2.000000</td>\n",
       "    </tr>\n",
       "    <tr>\n",
       "      <th>2</th>\n",
       "      <td>205.0</td>\n",
       "      <td>0.259350</td>\n",
       "      <td>2</td>\n",
       "      <td>0</td>\n",
       "      <td>Hi :) During the christmas holiday  I was play...</td>\n",
       "      <td>2.259350</td>\n",
       "    </tr>\n",
       "    <tr>\n",
       "      <th>77</th>\n",
       "      <td>103.0</td>\n",
       "      <td>0.440400</td>\n",
       "      <td>2</td>\n",
       "      <td>0</td>\n",
       "      <td>I have been collecting the Winter Bakery, Toy ...</td>\n",
       "      <td>2.440400</td>\n",
       "    </tr>\n",
       "    <tr>\n",
       "      <th>56</th>\n",
       "      <td>124.0</td>\n",
       "      <td>0.454600</td>\n",
       "      <td>2</td>\n",
       "      <td>0</td>\n",
       "      <td>Will we be able to have a Staff Shop in the Sl...</td>\n",
       "      <td>2.454600</td>\n",
       "    </tr>\n",
       "    <tr>\n",
       "      <th>94</th>\n",
       "      <td>200.0</td>\n",
       "      <td>0.888700</td>\n",
       "      <td>2</td>\n",
       "      <td>0</td>\n",
       "      <td>Unfortunately I have recognized, that under th...</td>\n",
       "      <td>2.888700</td>\n",
       "    </tr>\n",
       "    <tr>\n",
       "      <th>57</th>\n",
       "      <td>126.0</td>\n",
       "      <td>0.575840</td>\n",
       "      <td>3</td>\n",
       "      <td>0</td>\n",
       "      <td>It would be a great addition to LEGO boxes or ...</td>\n",
       "      <td>3.575840</td>\n",
       "    </tr>\n",
       "    <tr>\n",
       "      <th>74</th>\n",
       "      <td>101.0</td>\n",
       "      <td>0.623657</td>\n",
       "      <td>3</td>\n",
       "      <td>0</td>\n",
       "      <td>While building with city products it is easy t...</td>\n",
       "      <td>3.623657</td>\n",
       "    </tr>\n",
       "  </tbody>\n",
       "</table>\n",
       "</div>"
      ],
      "text/plain": [
       "     submission_id  avg_sentiment  votes  expert  \\\n",
       "107          204.0       0.432750      0       0   \n",
       "13            13.0       0.745900      0       0   \n",
       "96           175.0       0.569500      1       0   \n",
       "68            93.0       0.000000      2       0   \n",
       "2            205.0       0.259350      2       0   \n",
       "77           103.0       0.440400      2       0   \n",
       "56           124.0       0.454600      2       0   \n",
       "94           200.0       0.888700      2       0   \n",
       "57           126.0       0.575840      3       0   \n",
       "74           101.0       0.623657      3       0   \n",
       "\n",
       "                                                  idea     score  \n",
       "107  Give the building an understanding of how far ...  0.432750  \n",
       "13   New ways of playing LEGO have been innovated a...  0.745900  \n",
       "96   I have made some tests and would like to share...  1.569500  \n",
       "68   Now that Lego has 80 years,  why not to launch...  2.000000  \n",
       "2    Hi :) During the christmas holiday  I was play...  2.259350  \n",
       "77   I have been collecting the Winter Bakery, Toy ...  2.440400  \n",
       "56   Will we be able to have a Staff Shop in the Sl...  2.454600  \n",
       "94   Unfortunately I have recognized, that under th...  2.888700  \n",
       "57   It would be a great addition to LEGO boxes or ...  3.575840  \n",
       "74   While building with city products it is easy t...  3.623657  "
      ]
     },
     "execution_count": 51,
     "metadata": {},
     "output_type": "execute_result"
    }
   ],
   "source": [
    "df.nsmallest(10, 'score')"
   ]
  },
  {
   "cell_type": "markdown",
   "metadata": {},
   "source": [
    "To print the ideas with the lowest scores, run the code below. "
   ]
  },
  {
   "cell_type": "code",
   "execution_count": 58,
   "metadata": {},
   "outputs": [
    {
     "name": "stdout",
     "output_type": "stream",
     "text": [
      "[INFO] idea 204.0: Give the building an understanding of how far they are in the building experience and why they are building what they are building. Examples could be:* Step 4 of 45 - so the builder understand that they have a lot of steps to complete still, * Show on every page of a sub-build where the final construct will fit on the model\"\n",
      "\n",
      "[INFO] idea 13.0: New ways of playing LEGO have been innovated and develped for a decade. For example 2000-2001 STARWARS Yoda and Darth Vader figure are built by bricks, 2006 Spongebob figure built by bricks and this year 2012 STARWARS R2-D2 can be built by bricks. LEGO bricks can create everything. My new idea is the theme figures are not just minifigures, but also brick- buildings. There is something similar like the figures we saw in LEGOLAND which are built by the bricks. In future LEGO can develop and create more theme figures which are able to built by bricks. For example SUPERHERO BATMAN, LEGO FRIENDS figure, LEGO TOYSTORY BUSSYLIGHTYEAR &amp, WOODY and LEGO DRAGON. These cool  figures are able to draw the kids creativity and imagination.\n",
      "\n",
      "[INFO] idea 175.0: I have made some tests and would like to share it with you.it's about impact on item quality,  tool wear,  unexplained errors and holistic expenses, se my thoughts in this link and think of the wear and item measurement problems it can give LEGO , my advise is avoid different temp on the tool and solve miscellaneous problems otherwise , sorry i can not upload it ,  you can use this , F:\\CrossOrg\\CAE_Publ\\varmeudvidelse\\Konklusion_nr1.doc\n",
      "\n",
      "[INFO] idea 93.0: Now that Lego has 80 years,  why not to launch a special edition?  a  collection of  amazing constructions:  Petra,  Hagia Sophia, the Victorian Abbey Mill in London,  Peterhof in Russia, Tajin in Mexico, etc., I think they would look gorgeous built in lego  :D\n",
      "\n",
      "[INFO] idea 205.0: Hi :) During the christmas holiday  I was playing with LEGO City together with my nephew (4 years old). Suddenly he asked me how is was on the countryside,  he have never really been/seen a farm on close on. Because he is raised in Copenhagen  and my guess is that there are many kids aruond the world who do not know much about the countryside.  I am rasied on a farm and do know a thing or two about the daily life on the countryside  so I told him about it  and came to thing that it would be great if LEGO could learn kids about the life on a countryside with a playfull,  good experienced,  well learned story about how the diffrents products gets from the farms to the supermaket.  I can almost see the title \"\"LEGO City Countryside\"\" on the LEGO boxes. So now  Is it a good idea or not?????\"\n",
      "\n",
      "[INFO] idea 103.0: I have been collecting the Winter Bakery, Toy shop and post office. A great addition would be lines along the idea of Santa's grotto, Elves workshop, Santa's Sleigh and other such related sets.\n",
      "\n",
      "[INFO] idea 124.0: Will we be able to have a Staff Shop in the Slough office? If staffing it is an issue maybe we could have limited opening hours like an hour a day, manned on a rota basis. I guess space may also be an issue! It will be interesting to hear what people think.\n",
      "\n",
      "[INFO] idea 200.0: Unfortunately I have recognized, that under the discussions menu, there is only one available topic \"Your Lego Childhood Memories\". I suggest to make it available for the forum users to create their own topics in the discussion menu. Or is it possible already, and/or is it just me who has this issue?\"\n",
      "\n",
      "[INFO] idea 126.0: It would be a great addition to LEGO boxes or instructions if there was a QR code on them to take the fan to a story, other sets in the range or online games. This could incorporate the LEGO logo and basic colours as per the picture above.\"\n",
      "\n",
      "[INFO] idea 101.0: While building with city products it is easy to create roads and buildings to interact with but I have a difficult time building with my LOTR or SW sets with the background being green/blue/grey base plates and nothing that helps me imagine my ships actually flying through space or my armies marching on Mt doom. As most of us  are aware with the advent calendars that have small play space that allows us to have a mat to build on we are able to envision a christmas village or a scene from star wars. If we had this on the large scale as well it would help ous create a world for all of our different themes. These scenes could be on canvas or another material that lasts.\n",
      "\n"
     ]
    }
   ],
   "source": [
    "for (i, idea) in enumerate(df.nsmallest(10, 'score')['idea']):\n",
    "    print(f\"[INFO] idea {df.nsmallest(10, 'score')['submission_id'].iloc[i]}: {idea}\\n\")"
   ]
  }
 ],
 "metadata": {
  "interpreter": {
   "hash": "bbfd61b9771b25adb48756b02878e03699aa9c48f369525daaaa61fe69c4b1b3"
  },
  "kernelspec": {
   "display_name": "Python 3.9.7 ('methods3')",
   "language": "python",
   "name": "python3"
  },
  "language_info": {
   "codemirror_mode": {
    "name": "ipython",
    "version": 3
   },
   "file_extension": ".py",
   "mimetype": "text/x-python",
   "name": "python",
   "nbconvert_exporter": "python",
   "pygments_lexer": "ipython3",
   "version": "3.9.7"
  },
  "orig_nbformat": 4
 },
 "nbformat": 4,
 "nbformat_minor": 2
}
